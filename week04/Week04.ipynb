{
 "cells": [
  {
   "cell_type": "markdown",
   "source": [
    "# Pandas"
   ],
   "metadata": {}
  },
  {
   "cell_type": "code",
   "execution_count": 1,
   "source": [
    "import pandas as pd\r\n",
    "import numpy as np"
   ],
   "outputs": [],
   "metadata": {}
  },
  {
   "cell_type": "markdown",
   "source": [
    "## Creation of dataframes\r\n",
    "### Creating DataFrames from a NumPy array"
   ],
   "metadata": {}
  },
  {
   "cell_type": "code",
   "execution_count": 2,
   "source": [
    "df=pd.DataFrame(np.random.randn(2,3), columns=[\"First\", \"Second\", \"Third\"], index=[\"a\", \"b\"])\r\n",
    "df"
   ],
   "outputs": [
    {
     "output_type": "execute_result",
     "data": {
      "text/plain": [
       "     First    Second     Third\n",
       "a  0.88096 -1.059179  0.194803\n",
       "b -0.68286 -0.949791 -0.876984"
      ],
      "text/html": [
       "<div>\n",
       "<style scoped>\n",
       "    .dataframe tbody tr th:only-of-type {\n",
       "        vertical-align: middle;\n",
       "    }\n",
       "\n",
       "    .dataframe tbody tr th {\n",
       "        vertical-align: top;\n",
       "    }\n",
       "\n",
       "    .dataframe thead th {\n",
       "        text-align: right;\n",
       "    }\n",
       "</style>\n",
       "<table border=\"1\" class=\"dataframe\">\n",
       "  <thead>\n",
       "    <tr style=\"text-align: right;\">\n",
       "      <th></th>\n",
       "      <th>First</th>\n",
       "      <th>Second</th>\n",
       "      <th>Third</th>\n",
       "    </tr>\n",
       "  </thead>\n",
       "  <tbody>\n",
       "    <tr>\n",
       "      <th>a</th>\n",
       "      <td>0.88096</td>\n",
       "      <td>-1.059179</td>\n",
       "      <td>0.194803</td>\n",
       "    </tr>\n",
       "    <tr>\n",
       "      <th>b</th>\n",
       "      <td>-0.68286</td>\n",
       "      <td>-0.949791</td>\n",
       "      <td>-0.876984</td>\n",
       "    </tr>\n",
       "  </tbody>\n",
       "</table>\n",
       "</div>"
      ]
     },
     "metadata": {},
     "execution_count": 2
    }
   ],
   "metadata": {}
  },
  {
   "cell_type": "code",
   "execution_count": 3,
   "source": [
    "## asign columns and rows with the Index object\r\n",
    "df.index                            # These are the \"row names\""
   ],
   "outputs": [
    {
     "output_type": "execute_result",
     "data": {
      "text/plain": [
       "Index(['a', 'b'], dtype='object')"
      ]
     },
     "metadata": {},
     "execution_count": 3
    }
   ],
   "metadata": {}
  },
  {
   "cell_type": "code",
   "execution_count": 4,
   "source": [
    "df.columns                          # These are the \"column names\""
   ],
   "outputs": [
    {
     "output_type": "execute_result",
     "data": {
      "text/plain": [
       "Index(['First', 'Second', 'Third'], dtype='object')"
      ]
     },
     "metadata": {},
     "execution_count": 4
    }
   ],
   "metadata": {}
  },
  {
   "cell_type": "code",
   "execution_count": 5,
   "source": [
    "# columns or index argument is left out, when an implicit integer index is used:\r\n",
    "df2=pd.DataFrame(np.random.randn(2,3), index=[\"a\", \"b\"])\r\n",
    "df2"
   ],
   "outputs": [
    {
     "output_type": "execute_result",
     "data": {
      "text/plain": [
       "          0         1         2\n",
       "a -1.328372 -0.021633 -2.271863\n",
       "b  1.095543  1.065220 -1.142138"
      ],
      "text/html": [
       "<div>\n",
       "<style scoped>\n",
       "    .dataframe tbody tr th:only-of-type {\n",
       "        vertical-align: middle;\n",
       "    }\n",
       "\n",
       "    .dataframe tbody tr th {\n",
       "        vertical-align: top;\n",
       "    }\n",
       "\n",
       "    .dataframe thead th {\n",
       "        text-align: right;\n",
       "    }\n",
       "</style>\n",
       "<table border=\"1\" class=\"dataframe\">\n",
       "  <thead>\n",
       "    <tr style=\"text-align: right;\">\n",
       "      <th></th>\n",
       "      <th>0</th>\n",
       "      <th>1</th>\n",
       "      <th>2</th>\n",
       "    </tr>\n",
       "  </thead>\n",
       "  <tbody>\n",
       "    <tr>\n",
       "      <th>a</th>\n",
       "      <td>-1.328372</td>\n",
       "      <td>-0.021633</td>\n",
       "      <td>-2.271863</td>\n",
       "    </tr>\n",
       "    <tr>\n",
       "      <th>b</th>\n",
       "      <td>1.095543</td>\n",
       "      <td>1.065220</td>\n",
       "      <td>-1.142138</td>\n",
       "    </tr>\n",
       "  </tbody>\n",
       "</table>\n",
       "</div>"
      ]
     },
     "metadata": {},
     "execution_count": 5
    }
   ],
   "metadata": {}
  },
  {
   "cell_type": "code",
   "execution_count": 6,
   "source": [
    "## the column index is ab object as the range type:\r\n",
    "df2.columns"
   ],
   "outputs": [
    {
     "output_type": "execute_result",
     "data": {
      "text/plain": [
       "RangeIndex(start=0, stop=3, step=1)"
      ]
     },
     "metadata": {},
     "execution_count": 6
    }
   ],
   "metadata": {}
  },
  {
   "cell_type": "markdown",
   "source": [
    "### Create Dataframe from columns"
   ],
   "metadata": {}
  },
  {
   "cell_type": "code",
   "execution_count": null,
   "source": [],
   "outputs": [],
   "metadata": {}
  },
  {
   "cell_type": "code",
   "execution_count": 7,
   "source": [
    "## columns can be specified as a list, an array, or a Series. column names are given with the `columns` parameter -- for series, the `name`attribute\r\n",
    "s1 = pd.Series([1,2,3])\r\n",
    "s1"
   ],
   "outputs": [
    {
     "output_type": "execute_result",
     "data": {
      "text/plain": [
       "0    1\n",
       "1    2\n",
       "2    3\n",
       "dtype: int64"
      ]
     },
     "metadata": {},
     "execution_count": 7
    }
   ],
   "metadata": {}
  },
  {
   "cell_type": "code",
   "execution_count": 8,
   "source": [
    "s2 = pd.Series([4,5,6], name=\"b\")\r\n",
    "s2"
   ],
   "outputs": [
    {
     "output_type": "execute_result",
     "data": {
      "text/plain": [
       "0    4\n",
       "1    5\n",
       "2    6\n",
       "Name: b, dtype: int64"
      ]
     },
     "metadata": {},
     "execution_count": 8
    }
   ],
   "metadata": {}
  },
  {
   "cell_type": "code",
   "execution_count": 9,
   "source": [
    "## give the column name explicitly:\r\n",
    "pd.DataFrame(s1, columns=[\"a\"])"
   ],
   "outputs": [
    {
     "output_type": "execute_result",
     "data": {
      "text/plain": [
       "   a\n",
       "0  1\n",
       "1  2\n",
       "2  3"
      ],
      "text/html": [
       "<div>\n",
       "<style scoped>\n",
       "    .dataframe tbody tr th:only-of-type {\n",
       "        vertical-align: middle;\n",
       "    }\n",
       "\n",
       "    .dataframe tbody tr th {\n",
       "        vertical-align: top;\n",
       "    }\n",
       "\n",
       "    .dataframe thead th {\n",
       "        text-align: right;\n",
       "    }\n",
       "</style>\n",
       "<table border=\"1\" class=\"dataframe\">\n",
       "  <thead>\n",
       "    <tr style=\"text-align: right;\">\n",
       "      <th></th>\n",
       "      <th>a</th>\n",
       "    </tr>\n",
       "  </thead>\n",
       "  <tbody>\n",
       "    <tr>\n",
       "      <th>0</th>\n",
       "      <td>1</td>\n",
       "    </tr>\n",
       "    <tr>\n",
       "      <th>1</th>\n",
       "      <td>2</td>\n",
       "    </tr>\n",
       "    <tr>\n",
       "      <th>2</th>\n",
       "      <td>3</td>\n",
       "    </tr>\n",
       "  </tbody>\n",
       "</table>\n",
       "</div>"
      ]
     },
     "metadata": {},
     "execution_count": 9
    }
   ],
   "metadata": {}
  },
  {
   "cell_type": "code",
   "execution_count": 10,
   "source": [
    "## using the name of a series: \r\n",
    "pd.DataFrame(s2)"
   ],
   "outputs": [
    {
     "output_type": "execute_result",
     "data": {
      "text/plain": [
       "   b\n",
       "0  4\n",
       "1  5\n",
       "2  6"
      ],
      "text/html": [
       "<div>\n",
       "<style scoped>\n",
       "    .dataframe tbody tr th:only-of-type {\n",
       "        vertical-align: middle;\n",
       "    }\n",
       "\n",
       "    .dataframe tbody tr th {\n",
       "        vertical-align: top;\n",
       "    }\n",
       "\n",
       "    .dataframe thead th {\n",
       "        text-align: right;\n",
       "    }\n",
       "</style>\n",
       "<table border=\"1\" class=\"dataframe\">\n",
       "  <thead>\n",
       "    <tr style=\"text-align: right;\">\n",
       "      <th></th>\n",
       "      <th>b</th>\n",
       "    </tr>\n",
       "  </thead>\n",
       "  <tbody>\n",
       "    <tr>\n",
       "      <th>0</th>\n",
       "      <td>4</td>\n",
       "    </tr>\n",
       "    <tr>\n",
       "      <th>1</th>\n",
       "      <td>5</td>\n",
       "    </tr>\n",
       "    <tr>\n",
       "      <th>2</th>\n",
       "      <td>6</td>\n",
       "    </tr>\n",
       "  </tbody>\n",
       "</table>\n",
       "</div>"
      ]
     },
     "metadata": {},
     "execution_count": 10
    }
   ],
   "metadata": {}
  },
  {
   "cell_type": "markdown",
   "source": [
    "### Creating dataframes from rows"
   ],
   "metadata": {}
  },
  {
   "cell_type": "code",
   "execution_count": null,
   "source": [],
   "outputs": [],
   "metadata": {}
  },
  {
   "cell_type": "code",
   "execution_count": 11,
   "source": [
    "df=pd.DataFrame([{\"Wage\" : 1000, \"Name\" : \"Jack\", \"Age\" : 21}, {\"Wage\" : 1500, \"Name\" : \"John\", \"Age\" : 29}])\r\n",
    "df"
   ],
   "outputs": [
    {
     "output_type": "execute_result",
     "data": {
      "text/plain": [
       "   Wage  Name  Age\n",
       "0  1000  Jack   21\n",
       "1  1500  John   29"
      ],
      "text/html": [
       "<div>\n",
       "<style scoped>\n",
       "    .dataframe tbody tr th:only-of-type {\n",
       "        vertical-align: middle;\n",
       "    }\n",
       "\n",
       "    .dataframe tbody tr th {\n",
       "        vertical-align: top;\n",
       "    }\n",
       "\n",
       "    .dataframe thead th {\n",
       "        text-align: right;\n",
       "    }\n",
       "</style>\n",
       "<table border=\"1\" class=\"dataframe\">\n",
       "  <thead>\n",
       "    <tr style=\"text-align: right;\">\n",
       "      <th></th>\n",
       "      <th>Wage</th>\n",
       "      <th>Name</th>\n",
       "      <th>Age</th>\n",
       "    </tr>\n",
       "  </thead>\n",
       "  <tbody>\n",
       "    <tr>\n",
       "      <th>0</th>\n",
       "      <td>1000</td>\n",
       "      <td>Jack</td>\n",
       "      <td>21</td>\n",
       "    </tr>\n",
       "    <tr>\n",
       "      <th>1</th>\n",
       "      <td>1500</td>\n",
       "      <td>John</td>\n",
       "      <td>29</td>\n",
       "    </tr>\n",
       "  </tbody>\n",
       "</table>\n",
       "</div>"
      ]
     },
     "metadata": {},
     "execution_count": 11
    }
   ],
   "metadata": {}
  },
  {
   "cell_type": "code",
   "execution_count": 48,
   "source": [
    "df = pd.DataFrame([[1000, \"Jack\", 21], [1500, \"John\", 29]], columns=[\"Wage\", \"Name\", \"Age\"])\r\n",
    "df"
   ],
   "outputs": [
    {
     "output_type": "execute_result",
     "data": {
      "text/plain": [
       "   Wage  Name  Age\n",
       "0  1000  Jack   21\n",
       "1  1500  John   29"
      ],
      "text/html": [
       "<div>\n",
       "<style scoped>\n",
       "    .dataframe tbody tr th:only-of-type {\n",
       "        vertical-align: middle;\n",
       "    }\n",
       "\n",
       "    .dataframe tbody tr th {\n",
       "        vertical-align: top;\n",
       "    }\n",
       "\n",
       "    .dataframe thead th {\n",
       "        text-align: right;\n",
       "    }\n",
       "</style>\n",
       "<table border=\"1\" class=\"dataframe\">\n",
       "  <thead>\n",
       "    <tr style=\"text-align: right;\">\n",
       "      <th></th>\n",
       "      <th>Wage</th>\n",
       "      <th>Name</th>\n",
       "      <th>Age</th>\n",
       "    </tr>\n",
       "  </thead>\n",
       "  <tbody>\n",
       "    <tr>\n",
       "      <th>0</th>\n",
       "      <td>1000</td>\n",
       "      <td>Jack</td>\n",
       "      <td>21</td>\n",
       "    </tr>\n",
       "    <tr>\n",
       "      <th>1</th>\n",
       "      <td>1500</td>\n",
       "      <td>John</td>\n",
       "      <td>29</td>\n",
       "    </tr>\n",
       "  </tbody>\n",
       "</table>\n",
       "</div>"
      ]
     },
     "metadata": {},
     "execution_count": 48
    }
   ],
   "metadata": {}
  },
  {
   "cell_type": "code",
   "execution_count": 13,
   "source": [
    "## exercise 01: cities\r\n",
    "def cities():  \r\n",
    "    indices = ['Helsinki', 'Espoo', 'Tampere', 'Vantaa', 'Oulu']  \r\n",
    "    population = [643272, 279044, 231853, 223027, 201810]\r\n",
    "    total_area = [715.48, 528.03, 689.59, 240.35, 3817.52]\r\n",
    "    s_population = pd.Series(population, index = indices)\r\n",
    "    s_total_area = pd.Series(total_area, index = indices)\r\n",
    "    df = pd.DataFrame({\"Population\" : s_population, \"Total area\" : s_total_area})\r\n",
    "    return df"
   ],
   "outputs": [],
   "metadata": {}
  },
  {
   "cell_type": "code",
   "execution_count": 14,
   "source": [
    "## another solution:\r\n",
    "def cities():\r\n",
    "    a=[[643272, 715.48],\r\n",
    "       [279044, 528.03],\r\n",
    "       [231853, 689.59],\r\n",
    "       [223027, 240.35],\r\n",
    "       [201810, 3817.52]]\r\n",
    "    cols=[\"Population\", \"Total area\"]\r\n",
    "    ind=[\"Helsinki\", \"Espoo\", \"Tampere\", \"Vantaa\", \"Oulu\"]\r\n",
    "    df = pd.DataFrame(a, index=ind, columns=cols)\r\n",
    "    return df"
   ],
   "outputs": [],
   "metadata": {}
  },
  {
   "cell_type": "code",
   "execution_count": 15,
   "source": [
    "cities()"
   ],
   "outputs": [
    {
     "output_type": "execute_result",
     "data": {
      "text/plain": [
       "          Population  Total area\n",
       "Helsinki      643272      715.48\n",
       "Espoo         279044      528.03\n",
       "Tampere       231853      689.59\n",
       "Vantaa        223027      240.35\n",
       "Oulu          201810     3817.52"
      ],
      "text/html": [
       "<div>\n",
       "<style scoped>\n",
       "    .dataframe tbody tr th:only-of-type {\n",
       "        vertical-align: middle;\n",
       "    }\n",
       "\n",
       "    .dataframe tbody tr th {\n",
       "        vertical-align: top;\n",
       "    }\n",
       "\n",
       "    .dataframe thead th {\n",
       "        text-align: right;\n",
       "    }\n",
       "</style>\n",
       "<table border=\"1\" class=\"dataframe\">\n",
       "  <thead>\n",
       "    <tr style=\"text-align: right;\">\n",
       "      <th></th>\n",
       "      <th>Population</th>\n",
       "      <th>Total area</th>\n",
       "    </tr>\n",
       "  </thead>\n",
       "  <tbody>\n",
       "    <tr>\n",
       "      <th>Helsinki</th>\n",
       "      <td>643272</td>\n",
       "      <td>715.48</td>\n",
       "    </tr>\n",
       "    <tr>\n",
       "      <th>Espoo</th>\n",
       "      <td>279044</td>\n",
       "      <td>528.03</td>\n",
       "    </tr>\n",
       "    <tr>\n",
       "      <th>Tampere</th>\n",
       "      <td>231853</td>\n",
       "      <td>689.59</td>\n",
       "    </tr>\n",
       "    <tr>\n",
       "      <th>Vantaa</th>\n",
       "      <td>223027</td>\n",
       "      <td>240.35</td>\n",
       "    </tr>\n",
       "    <tr>\n",
       "      <th>Oulu</th>\n",
       "      <td>201810</td>\n",
       "      <td>3817.52</td>\n",
       "    </tr>\n",
       "  </tbody>\n",
       "</table>\n",
       "</div>"
      ]
     },
     "metadata": {},
     "execution_count": 15
    }
   ],
   "metadata": {}
  },
  {
   "cell_type": "code",
   "execution_count": 16,
   "source": [
    "## exercise 02: power of a series\r\n",
    "def powers_of_series(s, k):\r\n",
    "    df_power = pd.DataFrame()\r\n",
    "    for i in range(1,k+1):\r\n",
    "        s_ = pd.Series((s.values) ** i, name = i)\r\n",
    "        if i==1:\r\n",
    "            df_power = pd.DataFrame(s_)\r\n",
    "        if i != 1:\r\n",
    "            df_power[i] = s_\r\n",
    "    return df_power"
   ],
   "outputs": [],
   "metadata": {}
  },
  {
   "cell_type": "code",
   "execution_count": 17,
   "source": [
    "s = pd.Series([1,2,3,4], index=list(\"abcd\"))\r\n",
    "print(powers_of_series(s, 3))"
   ],
   "outputs": [
    {
     "output_type": "stream",
     "name": "stdout",
     "text": [
      "   1   2   3\n",
      "0  1   1   1\n",
      "1  2   4   8\n",
      "2  3   9  27\n",
      "3  4  16  64\n"
     ]
    }
   ],
   "metadata": {}
  },
  {
   "cell_type": "code",
   "execution_count": 18,
   "source": [
    "##actual solution\r\n",
    "def powers_of_series(s, k):\r\n",
    "    c=[ s**i for i in range(1,k+1) ]\r\n",
    "    df = pd.DataFrame(dict(zip(range(1,k+1), c)))\r\n",
    "    return df"
   ],
   "outputs": [],
   "metadata": {}
  },
  {
   "cell_type": "code",
   "execution_count": 19,
   "source": [
    "## exercise 03: municipal imformation\r\n",
    "df = pd.read_csv(\"municipal.tsv\", sep = '\\t' )\r\n",
    "print(f'Shape: {df.shape[0]}, {df.shape[1]}')\r\n",
    "print(\"Columns:\")\r\n",
    "for column in df.columns:\r\n",
    "    print(column)"
   ],
   "outputs": [
    {
     "output_type": "stream",
     "name": "stdout",
     "text": [
      "Shape: 490, 7\n",
      "Columns:\n",
      "Region 2018\n",
      "Population\n",
      "Population change from the previous year, %\n",
      "Share of Swedish-speakers of the population, %\n",
      "Share of foreign citizens of the population, %\n",
      "Proportion of the unemployed among the labour force, %\n",
      "Proportion of pensioners of the population, %\n"
     ]
    }
   ],
   "metadata": {}
  },
  {
   "cell_type": "code",
   "execution_count": 20,
   "source": [
    "df = pd.read_csv(\"municipal.tsv\", sep=\"\\t\")\r\n",
    "print(\"Shape: {}, {}\".format(*df.shape))\r\n",
    "print(\"Columns:\")\r\n",
    "for name in df.columns:\r\n",
    "    print(name)"
   ],
   "outputs": [
    {
     "output_type": "stream",
     "name": "stdout",
     "text": [
      "Shape: 490, 7\n",
      "Columns:\n",
      "Region 2018\n",
      "Population\n",
      "Population change from the previous year, %\n",
      "Share of Swedish-speakers of the population, %\n",
      "Share of foreign citizens of the population, %\n",
      "Proportion of the unemployed among the labour force, %\n",
      "Proportion of pensioners of the population, %\n"
     ]
    }
   ],
   "metadata": {}
  },
  {
   "cell_type": "markdown",
   "source": [
    "## accessing columns and rows of DataFrame"
   ],
   "metadata": {}
  },
  {
   "cell_type": "code",
   "execution_count": 21,
   "source": [
    "## for accessing information on the dataframe, the [] notation will not work as it does with arrays\r\n",
    "try:\r\n",
    "    df[0]\r\n",
    "except KeyError:\r\n",
    "    import sys\r\n",
    "    print(\"Key error\", file=sys.stderr)"
   ],
   "outputs": [
    {
     "output_type": "stream",
     "name": "stderr",
     "text": [
      "Key error\n"
     ]
    }
   ],
   "metadata": {}
  },
  {
   "cell_type": "code",
   "execution_count": 24,
   "source": [
    "## you need to say the explicit indices for the column contain that integer. this will work:\r\n",
    "df[\"Wage\"]"
   ],
   "outputs": [
    {
     "output_type": "execute_result",
     "data": {
      "text/plain": [
       "0    1000\n",
       "1    1500\n",
       "Name: Wage, dtype: int64"
      ]
     },
     "metadata": {},
     "execution_count": 24
    }
   ],
   "metadata": {}
  },
  {
   "cell_type": "code",
   "execution_count": 25,
   "source": [
    "## also fancy indexing words:\r\n",
    "df[[\"Wage\", \"Name\"]]"
   ],
   "outputs": [
    {
     "output_type": "execute_result",
     "data": {
      "text/plain": [
       "   Wage  Name\n",
       "0  1000  Jack\n",
       "1  1500  John"
      ],
      "text/html": [
       "<div>\n",
       "<style scoped>\n",
       "    .dataframe tbody tr th:only-of-type {\n",
       "        vertical-align: middle;\n",
       "    }\n",
       "\n",
       "    .dataframe tbody tr th {\n",
       "        vertical-align: top;\n",
       "    }\n",
       "\n",
       "    .dataframe thead th {\n",
       "        text-align: right;\n",
       "    }\n",
       "</style>\n",
       "<table border=\"1\" class=\"dataframe\">\n",
       "  <thead>\n",
       "    <tr style=\"text-align: right;\">\n",
       "      <th></th>\n",
       "      <th>Wage</th>\n",
       "      <th>Name</th>\n",
       "    </tr>\n",
       "  </thead>\n",
       "  <tbody>\n",
       "    <tr>\n",
       "      <th>0</th>\n",
       "      <td>1000</td>\n",
       "      <td>Jack</td>\n",
       "    </tr>\n",
       "    <tr>\n",
       "      <th>1</th>\n",
       "      <td>1500</td>\n",
       "      <td>John</td>\n",
       "    </tr>\n",
       "  </tbody>\n",
       "</table>\n",
       "</div>"
      ]
     },
     "metadata": {},
     "execution_count": 25
    }
   ],
   "metadata": {}
  },
  {
   "cell_type": "code",
   "execution_count": 26,
   "source": [
    "## if one indexes with a slice or boolean mask, then the rows are referred to:\r\n",
    "df[0:1]                           # slice"
   ],
   "outputs": [
    {
     "output_type": "execute_result",
     "data": {
      "text/plain": [
       "   Wage  Name  Age\n",
       "0  1000  Jack   21"
      ],
      "text/html": [
       "<div>\n",
       "<style scoped>\n",
       "    .dataframe tbody tr th:only-of-type {\n",
       "        vertical-align: middle;\n",
       "    }\n",
       "\n",
       "    .dataframe tbody tr th {\n",
       "        vertical-align: top;\n",
       "    }\n",
       "\n",
       "    .dataframe thead th {\n",
       "        text-align: right;\n",
       "    }\n",
       "</style>\n",
       "<table border=\"1\" class=\"dataframe\">\n",
       "  <thead>\n",
       "    <tr style=\"text-align: right;\">\n",
       "      <th></th>\n",
       "      <th>Wage</th>\n",
       "      <th>Name</th>\n",
       "      <th>Age</th>\n",
       "    </tr>\n",
       "  </thead>\n",
       "  <tbody>\n",
       "    <tr>\n",
       "      <th>0</th>\n",
       "      <td>1000</td>\n",
       "      <td>Jack</td>\n",
       "      <td>21</td>\n",
       "    </tr>\n",
       "  </tbody>\n",
       "</table>\n",
       "</div>"
      ]
     },
     "metadata": {},
     "execution_count": 26
    }
   ],
   "metadata": {}
  },
  {
   "cell_type": "code",
   "execution_count": 27,
   "source": [
    "df[df.Wage > 1200]               # boolean mask"
   ],
   "outputs": [
    {
     "output_type": "execute_result",
     "data": {
      "text/plain": [
       "   Wage  Name  Age\n",
       "1  1500  John   29"
      ],
      "text/html": [
       "<div>\n",
       "<style scoped>\n",
       "    .dataframe tbody tr th:only-of-type {\n",
       "        vertical-align: middle;\n",
       "    }\n",
       "\n",
       "    .dataframe tbody tr th {\n",
       "        vertical-align: top;\n",
       "    }\n",
       "\n",
       "    .dataframe thead th {\n",
       "        text-align: right;\n",
       "    }\n",
       "</style>\n",
       "<table border=\"1\" class=\"dataframe\">\n",
       "  <thead>\n",
       "    <tr style=\"text-align: right;\">\n",
       "      <th></th>\n",
       "      <th>Wage</th>\n",
       "      <th>Name</th>\n",
       "      <th>Age</th>\n",
       "    </tr>\n",
       "  </thead>\n",
       "  <tbody>\n",
       "    <tr>\n",
       "      <th>1</th>\n",
       "      <td>1500</td>\n",
       "      <td>John</td>\n",
       "      <td>29</td>\n",
       "    </tr>\n",
       "  </tbody>\n",
       "</table>\n",
       "</div>"
      ]
     },
     "metadata": {},
     "execution_count": 27
    }
   ],
   "metadata": {}
  },
  {
   "cell_type": "code",
   "execution_count": 28,
   "source": [
    "## for getting a single element of the dataframe, you chain the bracket calls\r\n",
    "df[\"Wage\"][1]                    # Note order of dimensions"
   ],
   "outputs": [
    {
     "output_type": "execute_result",
     "data": {
      "text/plain": [
       "1500"
      ]
     },
     "metadata": {},
     "execution_count": 28
    }
   ],
   "metadata": {}
  },
  {
   "cell_type": "code",
   "execution_count": 29,
   "source": [
    "##exercise 04: municipalities of finland\r\n",
    "def municipalities_of_finland():\r\n",
    "    municipalities = pd.read_csv(\"municipal.tsv\", sep=\"\\t\", index_col = 'Region 2018')[1:312]\r\n",
    "    print(municipalities.shape)\r\n",
    "    return municipalities"
   ],
   "outputs": [],
   "metadata": {}
  },
  {
   "cell_type": "code",
   "execution_count": 30,
   "source": [
    "municipalities_of_finland()"
   ],
   "outputs": [
    {
     "output_type": "stream",
     "name": "stdout",
     "text": [
      "(311, 6)\n"
     ]
    },
    {
     "output_type": "execute_result",
     "data": {
      "text/plain": [
       "             Population  Population change from the previous year, %  \\\n",
       "Region 2018                                                            \n",
       "Akaa              16769                                         -0.9   \n",
       "Alajärvi           9831                                         -0.7   \n",
       "Alavieska          2610                                         -1.1   \n",
       "Alavus            11713                                         -1.6   \n",
       "Asikkala           8248                                         -0.9   \n",
       "...                 ...                                          ...   \n",
       "Ylivieska         15251                                          0.3   \n",
       "Ylöjärvi          32878                                          0.2   \n",
       "Ypäjä              2372                                         -0.4   \n",
       "Ähtäri             5906                                         -1.3   \n",
       "Äänekoski         19144                                         -1.2   \n",
       "\n",
       "             Share of Swedish-speakers of the population, %  \\\n",
       "Region 2018                                                   \n",
       "Akaa                                                    0.2   \n",
       "Alajärvi                                                0.1   \n",
       "Alavieska                                               0.2   \n",
       "Alavus                                                  0.1   \n",
       "Asikkala                                                0.2   \n",
       "...                                                     ...   \n",
       "Ylivieska                                               0.3   \n",
       "Ylöjärvi                                                0.3   \n",
       "Ypäjä                                                   0.7   \n",
       "Ähtäri                                                  0.1   \n",
       "Äänekoski                                               0.1   \n",
       "\n",
       "             Share of foreign citizens of the population, %  \\\n",
       "Region 2018                                                   \n",
       "Akaa                                                    1.6   \n",
       "Alajärvi                                                1.9   \n",
       "Alavieska                                               0.6   \n",
       "Alavus                                                  1.1   \n",
       "Asikkala                                                1.6   \n",
       "...                                                     ...   \n",
       "Ylivieska                                               1.2   \n",
       "Ylöjärvi                                                1.2   \n",
       "Ypäjä                                                   1.9   \n",
       "Ähtäri                                                  0.9   \n",
       "Äänekoski                                               1.2   \n",
       "\n",
       "             Proportion of the unemployed among the labour force, %  \\\n",
       "Region 2018                                                           \n",
       "Akaa                                                      14.6        \n",
       "Alajärvi                                                  13.9        \n",
       "Alavieska                                                 10.8        \n",
       "Alavus                                                    11.3        \n",
       "Asikkala                                                  12.0        \n",
       "...                                                        ...        \n",
       "Ylivieska                                                 13.3        \n",
       "Ylöjärvi                                                  11.7        \n",
       "Ypäjä                                                     13.2        \n",
       "Ähtäri                                                    13.0        \n",
       "Äänekoski                                                 19.7        \n",
       "\n",
       "             Proportion of pensioners of the population, %  \n",
       "Region 2018                                                 \n",
       "Akaa                                                  26.1  \n",
       "Alajärvi                                              32.0  \n",
       "Alavieska                                             28.4  \n",
       "Alavus                                                31.5  \n",
       "Asikkala                                              35.5  \n",
       "...                                                    ...  \n",
       "Ylivieska                                             23.1  \n",
       "Ylöjärvi                                              20.3  \n",
       "Ypäjä                                                 31.4  \n",
       "Ähtäri                                                35.1  \n",
       "Äänekoski                                             30.5  \n",
       "\n",
       "[311 rows x 6 columns]"
      ],
      "text/html": [
       "<div>\n",
       "<style scoped>\n",
       "    .dataframe tbody tr th:only-of-type {\n",
       "        vertical-align: middle;\n",
       "    }\n",
       "\n",
       "    .dataframe tbody tr th {\n",
       "        vertical-align: top;\n",
       "    }\n",
       "\n",
       "    .dataframe thead th {\n",
       "        text-align: right;\n",
       "    }\n",
       "</style>\n",
       "<table border=\"1\" class=\"dataframe\">\n",
       "  <thead>\n",
       "    <tr style=\"text-align: right;\">\n",
       "      <th></th>\n",
       "      <th>Population</th>\n",
       "      <th>Population change from the previous year, %</th>\n",
       "      <th>Share of Swedish-speakers of the population, %</th>\n",
       "      <th>Share of foreign citizens of the population, %</th>\n",
       "      <th>Proportion of the unemployed among the labour force, %</th>\n",
       "      <th>Proportion of pensioners of the population, %</th>\n",
       "    </tr>\n",
       "    <tr>\n",
       "      <th>Region 2018</th>\n",
       "      <th></th>\n",
       "      <th></th>\n",
       "      <th></th>\n",
       "      <th></th>\n",
       "      <th></th>\n",
       "      <th></th>\n",
       "    </tr>\n",
       "  </thead>\n",
       "  <tbody>\n",
       "    <tr>\n",
       "      <th>Akaa</th>\n",
       "      <td>16769</td>\n",
       "      <td>-0.9</td>\n",
       "      <td>0.2</td>\n",
       "      <td>1.6</td>\n",
       "      <td>14.6</td>\n",
       "      <td>26.1</td>\n",
       "    </tr>\n",
       "    <tr>\n",
       "      <th>Alajärvi</th>\n",
       "      <td>9831</td>\n",
       "      <td>-0.7</td>\n",
       "      <td>0.1</td>\n",
       "      <td>1.9</td>\n",
       "      <td>13.9</td>\n",
       "      <td>32.0</td>\n",
       "    </tr>\n",
       "    <tr>\n",
       "      <th>Alavieska</th>\n",
       "      <td>2610</td>\n",
       "      <td>-1.1</td>\n",
       "      <td>0.2</td>\n",
       "      <td>0.6</td>\n",
       "      <td>10.8</td>\n",
       "      <td>28.4</td>\n",
       "    </tr>\n",
       "    <tr>\n",
       "      <th>Alavus</th>\n",
       "      <td>11713</td>\n",
       "      <td>-1.6</td>\n",
       "      <td>0.1</td>\n",
       "      <td>1.1</td>\n",
       "      <td>11.3</td>\n",
       "      <td>31.5</td>\n",
       "    </tr>\n",
       "    <tr>\n",
       "      <th>Asikkala</th>\n",
       "      <td>8248</td>\n",
       "      <td>-0.9</td>\n",
       "      <td>0.2</td>\n",
       "      <td>1.6</td>\n",
       "      <td>12.0</td>\n",
       "      <td>35.5</td>\n",
       "    </tr>\n",
       "    <tr>\n",
       "      <th>...</th>\n",
       "      <td>...</td>\n",
       "      <td>...</td>\n",
       "      <td>...</td>\n",
       "      <td>...</td>\n",
       "      <td>...</td>\n",
       "      <td>...</td>\n",
       "    </tr>\n",
       "    <tr>\n",
       "      <th>Ylivieska</th>\n",
       "      <td>15251</td>\n",
       "      <td>0.3</td>\n",
       "      <td>0.3</td>\n",
       "      <td>1.2</td>\n",
       "      <td>13.3</td>\n",
       "      <td>23.1</td>\n",
       "    </tr>\n",
       "    <tr>\n",
       "      <th>Ylöjärvi</th>\n",
       "      <td>32878</td>\n",
       "      <td>0.2</td>\n",
       "      <td>0.3</td>\n",
       "      <td>1.2</td>\n",
       "      <td>11.7</td>\n",
       "      <td>20.3</td>\n",
       "    </tr>\n",
       "    <tr>\n",
       "      <th>Ypäjä</th>\n",
       "      <td>2372</td>\n",
       "      <td>-0.4</td>\n",
       "      <td>0.7</td>\n",
       "      <td>1.9</td>\n",
       "      <td>13.2</td>\n",
       "      <td>31.4</td>\n",
       "    </tr>\n",
       "    <tr>\n",
       "      <th>Ähtäri</th>\n",
       "      <td>5906</td>\n",
       "      <td>-1.3</td>\n",
       "      <td>0.1</td>\n",
       "      <td>0.9</td>\n",
       "      <td>13.0</td>\n",
       "      <td>35.1</td>\n",
       "    </tr>\n",
       "    <tr>\n",
       "      <th>Äänekoski</th>\n",
       "      <td>19144</td>\n",
       "      <td>-1.2</td>\n",
       "      <td>0.1</td>\n",
       "      <td>1.2</td>\n",
       "      <td>19.7</td>\n",
       "      <td>30.5</td>\n",
       "    </tr>\n",
       "  </tbody>\n",
       "</table>\n",
       "<p>311 rows × 6 columns</p>\n",
       "</div>"
      ]
     },
     "metadata": {},
     "execution_count": 30
    }
   ],
   "metadata": {}
  },
  {
   "cell_type": "code",
   "execution_count": 31,
   "source": [
    "## alternative solution\r\n",
    "def municipalities_of_finland():\r\n",
    "    df = pd.read_csv(\"municipal.tsv\", sep=\"\\t\", index_col=0)\r\n",
    "    return df[\"Akaa\":\"Äänekoski\"]"
   ],
   "outputs": [],
   "metadata": {}
  },
  {
   "cell_type": "code",
   "execution_count": 32,
   "source": [
    "## exercise 05: swedish and foreigners\r\n",
    "def swedish_and_foreigners():\r\n",
    "    municipalities = pd.read_csv(\"municipal.tsv\", sep=\"\\t\", index_col = 'Region 2018')[1:312]\r\n",
    "    swedish = municipalities[(municipalities['Share of Swedish-speakers of the population, %'] > 5) & (municipalities['Share of foreign citizens of the population, %'] > 5)]\r\n",
    "    swedish = swedish[['Population', 'Share of Swedish-speakers of the population, %', 'Share of foreign citizens of the population, %']]\r\n",
    "    return swedish"
   ],
   "outputs": [],
   "metadata": {}
  },
  {
   "cell_type": "code",
   "execution_count": 33,
   "source": [
    "swedish_and_foreigners()#.value_counts('Share of Swedish-speakers of the population, %')"
   ],
   "outputs": [
    {
     "output_type": "execute_result",
     "data": {
      "text/plain": [
       "               Population  Share of Swedish-speakers of the population, %  \\\n",
       "Region 2018                                                                 \n",
       "Brändö                452                                            72.6   \n",
       "Eckerö                948                                            89.7   \n",
       "Espoo              279044                                             7.2   \n",
       "Finström             2580                                            89.8   \n",
       "Föglö                 532                                            84.2   \n",
       "Geta                  495                                            86.9   \n",
       "Hammarland           1547                                            89.7   \n",
       "Helsinki           643272                                             5.7   \n",
       "Jomala               4859                                            89.1   \n",
       "Kaskinen             1274                                            29.9   \n",
       "Kirkkonummi         39170                                            16.6   \n",
       "Korsnäs              2154                                            85.8   \n",
       "Kumlinge              314                                            85.4   \n",
       "Kökar                 236                                            87.7   \n",
       "Lapinjärvi           2706                                            31.2   \n",
       "Lemland              2028                                            92.1   \n",
       "Lumparland            395                                            86.6   \n",
       "Mariehamn           11677                                            84.2   \n",
       "Närpiö               9507                                            80.4   \n",
       "Pietarsaari         19379                                            56.2   \n",
       "Saltvik              1873                                            91.9   \n",
       "Sottunga               92                                            93.5   \n",
       "Sund                 1031                                            88.8   \n",
       "Turku              189669                                             5.4   \n",
       "Uusikaarlepyy        7521                                            86.7   \n",
       "Vaasa               67392                                            22.8   \n",
       "Vårdö                 430                                            88.1   \n",
       "Vöyri                6616                                            81.1   \n",
       "\n",
       "               Share of foreign citizens of the population, %  \n",
       "Region 2018                                                    \n",
       "Brändö                                                    8.4  \n",
       "Eckerö                                                   11.5  \n",
       "Espoo                                                    10.5  \n",
       "Finström                                                 10.5  \n",
       "Föglö                                                    17.3  \n",
       "Geta                                                     13.5  \n",
       "Hammarland                                               11.6  \n",
       "Helsinki                                                  9.5  \n",
       "Jomala                                                    8.5  \n",
       "Kaskinen                                                  5.3  \n",
       "Kirkkonummi                                               5.5  \n",
       "Korsnäs                                                   9.1  \n",
       "Kumlinge                                                  8.0  \n",
       "Kökar                                                     8.1  \n",
       "Lapinjärvi                                                5.1  \n",
       "Lemland                                                   8.0  \n",
       "Lumparland                                                9.9  \n",
       "Mariehamn                                                13.0  \n",
       "Närpiö                                                   12.7  \n",
       "Pietarsaari                                               7.1  \n",
       "Saltvik                                                   6.3  \n",
       "Sottunga                                                  5.4  \n",
       "Sund                                                      8.5  \n",
       "Turku                                                     6.5  \n",
       "Uusikaarlepyy                                             6.1  \n",
       "Vaasa                                                     6.0  \n",
       "Vårdö                                                     9.5  \n",
       "Vöyri                                                     5.7  "
      ],
      "text/html": [
       "<div>\n",
       "<style scoped>\n",
       "    .dataframe tbody tr th:only-of-type {\n",
       "        vertical-align: middle;\n",
       "    }\n",
       "\n",
       "    .dataframe tbody tr th {\n",
       "        vertical-align: top;\n",
       "    }\n",
       "\n",
       "    .dataframe thead th {\n",
       "        text-align: right;\n",
       "    }\n",
       "</style>\n",
       "<table border=\"1\" class=\"dataframe\">\n",
       "  <thead>\n",
       "    <tr style=\"text-align: right;\">\n",
       "      <th></th>\n",
       "      <th>Population</th>\n",
       "      <th>Share of Swedish-speakers of the population, %</th>\n",
       "      <th>Share of foreign citizens of the population, %</th>\n",
       "    </tr>\n",
       "    <tr>\n",
       "      <th>Region 2018</th>\n",
       "      <th></th>\n",
       "      <th></th>\n",
       "      <th></th>\n",
       "    </tr>\n",
       "  </thead>\n",
       "  <tbody>\n",
       "    <tr>\n",
       "      <th>Brändö</th>\n",
       "      <td>452</td>\n",
       "      <td>72.6</td>\n",
       "      <td>8.4</td>\n",
       "    </tr>\n",
       "    <tr>\n",
       "      <th>Eckerö</th>\n",
       "      <td>948</td>\n",
       "      <td>89.7</td>\n",
       "      <td>11.5</td>\n",
       "    </tr>\n",
       "    <tr>\n",
       "      <th>Espoo</th>\n",
       "      <td>279044</td>\n",
       "      <td>7.2</td>\n",
       "      <td>10.5</td>\n",
       "    </tr>\n",
       "    <tr>\n",
       "      <th>Finström</th>\n",
       "      <td>2580</td>\n",
       "      <td>89.8</td>\n",
       "      <td>10.5</td>\n",
       "    </tr>\n",
       "    <tr>\n",
       "      <th>Föglö</th>\n",
       "      <td>532</td>\n",
       "      <td>84.2</td>\n",
       "      <td>17.3</td>\n",
       "    </tr>\n",
       "    <tr>\n",
       "      <th>Geta</th>\n",
       "      <td>495</td>\n",
       "      <td>86.9</td>\n",
       "      <td>13.5</td>\n",
       "    </tr>\n",
       "    <tr>\n",
       "      <th>Hammarland</th>\n",
       "      <td>1547</td>\n",
       "      <td>89.7</td>\n",
       "      <td>11.6</td>\n",
       "    </tr>\n",
       "    <tr>\n",
       "      <th>Helsinki</th>\n",
       "      <td>643272</td>\n",
       "      <td>5.7</td>\n",
       "      <td>9.5</td>\n",
       "    </tr>\n",
       "    <tr>\n",
       "      <th>Jomala</th>\n",
       "      <td>4859</td>\n",
       "      <td>89.1</td>\n",
       "      <td>8.5</td>\n",
       "    </tr>\n",
       "    <tr>\n",
       "      <th>Kaskinen</th>\n",
       "      <td>1274</td>\n",
       "      <td>29.9</td>\n",
       "      <td>5.3</td>\n",
       "    </tr>\n",
       "    <tr>\n",
       "      <th>Kirkkonummi</th>\n",
       "      <td>39170</td>\n",
       "      <td>16.6</td>\n",
       "      <td>5.5</td>\n",
       "    </tr>\n",
       "    <tr>\n",
       "      <th>Korsnäs</th>\n",
       "      <td>2154</td>\n",
       "      <td>85.8</td>\n",
       "      <td>9.1</td>\n",
       "    </tr>\n",
       "    <tr>\n",
       "      <th>Kumlinge</th>\n",
       "      <td>314</td>\n",
       "      <td>85.4</td>\n",
       "      <td>8.0</td>\n",
       "    </tr>\n",
       "    <tr>\n",
       "      <th>Kökar</th>\n",
       "      <td>236</td>\n",
       "      <td>87.7</td>\n",
       "      <td>8.1</td>\n",
       "    </tr>\n",
       "    <tr>\n",
       "      <th>Lapinjärvi</th>\n",
       "      <td>2706</td>\n",
       "      <td>31.2</td>\n",
       "      <td>5.1</td>\n",
       "    </tr>\n",
       "    <tr>\n",
       "      <th>Lemland</th>\n",
       "      <td>2028</td>\n",
       "      <td>92.1</td>\n",
       "      <td>8.0</td>\n",
       "    </tr>\n",
       "    <tr>\n",
       "      <th>Lumparland</th>\n",
       "      <td>395</td>\n",
       "      <td>86.6</td>\n",
       "      <td>9.9</td>\n",
       "    </tr>\n",
       "    <tr>\n",
       "      <th>Mariehamn</th>\n",
       "      <td>11677</td>\n",
       "      <td>84.2</td>\n",
       "      <td>13.0</td>\n",
       "    </tr>\n",
       "    <tr>\n",
       "      <th>Närpiö</th>\n",
       "      <td>9507</td>\n",
       "      <td>80.4</td>\n",
       "      <td>12.7</td>\n",
       "    </tr>\n",
       "    <tr>\n",
       "      <th>Pietarsaari</th>\n",
       "      <td>19379</td>\n",
       "      <td>56.2</td>\n",
       "      <td>7.1</td>\n",
       "    </tr>\n",
       "    <tr>\n",
       "      <th>Saltvik</th>\n",
       "      <td>1873</td>\n",
       "      <td>91.9</td>\n",
       "      <td>6.3</td>\n",
       "    </tr>\n",
       "    <tr>\n",
       "      <th>Sottunga</th>\n",
       "      <td>92</td>\n",
       "      <td>93.5</td>\n",
       "      <td>5.4</td>\n",
       "    </tr>\n",
       "    <tr>\n",
       "      <th>Sund</th>\n",
       "      <td>1031</td>\n",
       "      <td>88.8</td>\n",
       "      <td>8.5</td>\n",
       "    </tr>\n",
       "    <tr>\n",
       "      <th>Turku</th>\n",
       "      <td>189669</td>\n",
       "      <td>5.4</td>\n",
       "      <td>6.5</td>\n",
       "    </tr>\n",
       "    <tr>\n",
       "      <th>Uusikaarlepyy</th>\n",
       "      <td>7521</td>\n",
       "      <td>86.7</td>\n",
       "      <td>6.1</td>\n",
       "    </tr>\n",
       "    <tr>\n",
       "      <th>Vaasa</th>\n",
       "      <td>67392</td>\n",
       "      <td>22.8</td>\n",
       "      <td>6.0</td>\n",
       "    </tr>\n",
       "    <tr>\n",
       "      <th>Vårdö</th>\n",
       "      <td>430</td>\n",
       "      <td>88.1</td>\n",
       "      <td>9.5</td>\n",
       "    </tr>\n",
       "    <tr>\n",
       "      <th>Vöyri</th>\n",
       "      <td>6616</td>\n",
       "      <td>81.1</td>\n",
       "      <td>5.7</td>\n",
       "    </tr>\n",
       "  </tbody>\n",
       "</table>\n",
       "</div>"
      ]
     },
     "metadata": {},
     "execution_count": 33
    }
   ],
   "metadata": {}
  },
  {
   "cell_type": "code",
   "execution_count": 35,
   "source": [
    "## another solution:\r\n",
    "def swedish_and_foreigners():\r\n",
    "    df = pd.read_csv(\"municipal.tsv\", index_col=0, sep=\"\\t\")\r\n",
    "    df = df[\"Akaa\":\"Äänekoski\"]\r\n",
    "    m = ((df[\"Share of Swedish-speakers of the population, %\"] > 5.0) &\r\n",
    "         (df[\"Share of foreign citizens of the population, %\"] > 5.0))\r\n",
    "    df = df[m]\r\n",
    "    df = df[[\"Population\", \"Share of Swedish-speakers of the population, %\",\r\n",
    "             \"Share of foreign citizens of the population, %\"]]\r\n",
    "    return df"
   ],
   "outputs": [],
   "metadata": {}
  },
  {
   "cell_type": "code",
   "execution_count": 39,
   "source": [
    "## exercise 06: growing municipalities\r\n",
    "def growing_municipalities(df):\r\n",
    "    municipalities = pd.read_csv(\"municipal.tsv\", sep=\"\\t\", index_col = 'Region 2018')[1:312]\r\n",
    "    growing = municipalities[municipalities['Population change from the previous year, %'] > 0]\r\n",
    "    return growing[['Population change from the previous year, %']]"
   ],
   "outputs": [],
   "metadata": {}
  },
  {
   "cell_type": "code",
   "execution_count": 41,
   "source": [
    "print(f\"Proportion of growing municipalities: {0:3.1f}%\".format(growing_municipalities(df)))"
   ],
   "outputs": [
    {
     "output_type": "stream",
     "name": "stdout",
     "text": [
      "Proportion of growing municipalities: 0.0%\n"
     ]
    }
   ],
   "metadata": {}
  },
  {
   "cell_type": "code",
   "execution_count": 45,
   "source": [
    "def growing_municipalities(df):\r\n",
    "    m = df[df['Population change from the previous year, %']>0]\r\n",
    "    return m.shape[0]/df.shape[0]\r\n",
    "    \r\n",
    "filename = \"municipal.tsv\"\r\n",
    "df = pd.read_csv(filename,sep='\\t')\r\n",
    "statement = \"Proportion of growing municipalities:\" \r\n",
    "proportion = \"{:.1f}%\".format(growing_municipalities(df)*100)\r\n",
    "print(statement,proportion)"
   ],
   "outputs": [
    {
     "output_type": "stream",
     "name": "stdout",
     "text": [
      "Proportion of growing municipalities: 21.6%\n"
     ]
    }
   ],
   "metadata": {}
  },
  {
   "cell_type": "code",
   "execution_count": 43,
   "source": [
    "## alternative solution\r\n",
    "\r\n",
    "def growing_municipalities(df):\r\n",
    "    c=\"Population change from the previous year, %\"\r\n",
    "    n = len(df)\r\n",
    "    k = sum(df[c] > 0.0)\r\n",
    "    return k / n\r\n",
    "\r\n",
    "def main():\r\n",
    "    df = pd.read_csv(\"src/municipal.tsv\", index_col=0, sep=\"\\t\")\r\n",
    "    df = df[\"Akaa\":\"Äänekoski\"]\r\n",
    "    proportion = growing_municipalities(df)\r\n",
    "    print(f\"Proportion of growing municipalities: {proportion:.1%}\")"
   ],
   "outputs": [],
   "metadata": {}
  },
  {
   "cell_type": "markdown",
   "source": [
    "## Alternative indexing data selection"
   ],
   "metadata": {}
  },
  {
   "cell_type": "code",
   "execution_count": 50,
   "source": [
    "df.loc[1, \"Wage\"]"
   ],
   "outputs": [
    {
     "output_type": "execute_result",
     "data": {
      "text/plain": [
       "1500"
      ]
     },
     "metadata": {},
     "execution_count": 50
    }
   ],
   "metadata": {}
  },
  {
   "cell_type": "code",
   "execution_count": 49,
   "source": [
    "df.iloc[-1,-1] #right lower corner of the DataFrame"
   ],
   "outputs": [
    {
     "output_type": "execute_result",
     "data": {
      "text/plain": [
       "29"
      ]
     },
     "metadata": {},
     "execution_count": 49
    }
   ],
   "metadata": {}
  },
  {
   "cell_type": "code",
   "execution_count": 51,
   "source": [
    "df.loc[1, [\"Name\", \"Wage\"]]"
   ],
   "outputs": [
    {
     "output_type": "execute_result",
     "data": {
      "text/plain": [
       "Name    John\n",
       "Wage    1500\n",
       "Name: 1, dtype: object"
      ]
     },
     "metadata": {},
     "execution_count": 51
    }
   ],
   "metadata": {}
  },
  {
   "cell_type": "code",
   "execution_count": 57,
   "source": [
    "## exercise 07: subsetting with loc\r\n",
    "def subsetting_with_loc():\r\n",
    "    df = pd.read_csv(\"municipal.tsv\", index_col=0, sep=\"\\t\")\r\n",
    "    df = df[\"Akaa\":\"Äänekoski\"]\r\n",
    "    df = df.loc[:, ['Population', 'Share of Swedish-speakers of the population, %', 'Share of foreign citizens of the population, %']]\r\n",
    "    return df"
   ],
   "outputs": [],
   "metadata": {}
  },
  {
   "cell_type": "code",
   "execution_count": 58,
   "source": [
    "subsetting_with_loc()"
   ],
   "outputs": [
    {
     "output_type": "execute_result",
     "data": {
      "text/plain": [
       "             Population  Share of Swedish-speakers of the population, %  \\\n",
       "Region 2018                                                               \n",
       "Akaa              16769                                             0.2   \n",
       "Alajärvi           9831                                             0.1   \n",
       "Alavieska          2610                                             0.2   \n",
       "Alavus            11713                                             0.1   \n",
       "Asikkala           8248                                             0.2   \n",
       "...                 ...                                             ...   \n",
       "Ylivieska         15251                                             0.3   \n",
       "Ylöjärvi          32878                                             0.3   \n",
       "Ypäjä              2372                                             0.7   \n",
       "Ähtäri             5906                                             0.1   \n",
       "Äänekoski         19144                                             0.1   \n",
       "\n",
       "             Share of foreign citizens of the population, %  \n",
       "Region 2018                                                  \n",
       "Akaa                                                    1.6  \n",
       "Alajärvi                                                1.9  \n",
       "Alavieska                                               0.6  \n",
       "Alavus                                                  1.1  \n",
       "Asikkala                                                1.6  \n",
       "...                                                     ...  \n",
       "Ylivieska                                               1.2  \n",
       "Ylöjärvi                                                1.2  \n",
       "Ypäjä                                                   1.9  \n",
       "Ähtäri                                                  0.9  \n",
       "Äänekoski                                               1.2  \n",
       "\n",
       "[311 rows x 3 columns]"
      ],
      "text/html": [
       "<div>\n",
       "<style scoped>\n",
       "    .dataframe tbody tr th:only-of-type {\n",
       "        vertical-align: middle;\n",
       "    }\n",
       "\n",
       "    .dataframe tbody tr th {\n",
       "        vertical-align: top;\n",
       "    }\n",
       "\n",
       "    .dataframe thead th {\n",
       "        text-align: right;\n",
       "    }\n",
       "</style>\n",
       "<table border=\"1\" class=\"dataframe\">\n",
       "  <thead>\n",
       "    <tr style=\"text-align: right;\">\n",
       "      <th></th>\n",
       "      <th>Population</th>\n",
       "      <th>Share of Swedish-speakers of the population, %</th>\n",
       "      <th>Share of foreign citizens of the population, %</th>\n",
       "    </tr>\n",
       "    <tr>\n",
       "      <th>Region 2018</th>\n",
       "      <th></th>\n",
       "      <th></th>\n",
       "      <th></th>\n",
       "    </tr>\n",
       "  </thead>\n",
       "  <tbody>\n",
       "    <tr>\n",
       "      <th>Akaa</th>\n",
       "      <td>16769</td>\n",
       "      <td>0.2</td>\n",
       "      <td>1.6</td>\n",
       "    </tr>\n",
       "    <tr>\n",
       "      <th>Alajärvi</th>\n",
       "      <td>9831</td>\n",
       "      <td>0.1</td>\n",
       "      <td>1.9</td>\n",
       "    </tr>\n",
       "    <tr>\n",
       "      <th>Alavieska</th>\n",
       "      <td>2610</td>\n",
       "      <td>0.2</td>\n",
       "      <td>0.6</td>\n",
       "    </tr>\n",
       "    <tr>\n",
       "      <th>Alavus</th>\n",
       "      <td>11713</td>\n",
       "      <td>0.1</td>\n",
       "      <td>1.1</td>\n",
       "    </tr>\n",
       "    <tr>\n",
       "      <th>Asikkala</th>\n",
       "      <td>8248</td>\n",
       "      <td>0.2</td>\n",
       "      <td>1.6</td>\n",
       "    </tr>\n",
       "    <tr>\n",
       "      <th>...</th>\n",
       "      <td>...</td>\n",
       "      <td>...</td>\n",
       "      <td>...</td>\n",
       "    </tr>\n",
       "    <tr>\n",
       "      <th>Ylivieska</th>\n",
       "      <td>15251</td>\n",
       "      <td>0.3</td>\n",
       "      <td>1.2</td>\n",
       "    </tr>\n",
       "    <tr>\n",
       "      <th>Ylöjärvi</th>\n",
       "      <td>32878</td>\n",
       "      <td>0.3</td>\n",
       "      <td>1.2</td>\n",
       "    </tr>\n",
       "    <tr>\n",
       "      <th>Ypäjä</th>\n",
       "      <td>2372</td>\n",
       "      <td>0.7</td>\n",
       "      <td>1.9</td>\n",
       "    </tr>\n",
       "    <tr>\n",
       "      <th>Ähtäri</th>\n",
       "      <td>5906</td>\n",
       "      <td>0.1</td>\n",
       "      <td>0.9</td>\n",
       "    </tr>\n",
       "    <tr>\n",
       "      <th>Äänekoski</th>\n",
       "      <td>19144</td>\n",
       "      <td>0.1</td>\n",
       "      <td>1.2</td>\n",
       "    </tr>\n",
       "  </tbody>\n",
       "</table>\n",
       "<p>311 rows × 3 columns</p>\n",
       "</div>"
      ]
     },
     "metadata": {},
     "execution_count": 58
    }
   ],
   "metadata": {}
  },
  {
   "cell_type": "code",
   "execution_count": 59,
   "source": [
    "## alternative solution\r\n",
    "def subsetting_with_loc():\r\n",
    "    df = pd.read_csv(\"municipal.tsv\", index_col=0, sep=\"\\t\")\r\n",
    "    df = df.loc[\"Akaa\":\"Äänekoski\", [\"Population\", \"Share of Swedish-speakers of the population, %\", \"Share of foreign citizens of the population, %\"]]\r\n",
    "    return df"
   ],
   "outputs": [],
   "metadata": {}
  },
  {
   "cell_type": "code",
   "execution_count": 75,
   "source": [
    "## exercise 08: subsetting by positions\r\n",
    "def subsetting_by_positions():\r\n",
    "    df = pd.read_csv(\"UK-top40-1964-1-2.tsv\", index_col=0, sep=\"\\t\")\r\n",
    "    df = df.iloc[:10, [1,2]]\r\n",
    "    return df"
   ],
   "outputs": [],
   "metadata": {}
  },
  {
   "cell_type": "code",
   "execution_count": 76,
   "source": [
    "subsetting_by_positions()"
   ],
   "outputs": [
    {
     "output_type": "execute_result",
     "data": {
      "text/plain": [
       "                            Title                    Artist\n",
       "Pos                                                        \n",
       "1        I WANT TO HOLD YOUR HAND               THE BEATLES\n",
       "2                   GLAD ALL OVER       THE DAVE CLARK FIVE\n",
       "3                   SHE LOVES YOU               THE BEATLES\n",
       "4            YOU WERE MADE FOR ME  FREDDIE AND THE DREAMERS\n",
       "5    TWENTY FOUR HOURS FROM TULSA               GENE PITNEY\n",
       "6      I ONLY WANT TO BE WITH YOU         DUSTY SPRINGFIELD\n",
       "7                       DOMINIQUE           THE SINGING NUN\n",
       "8                     MARIA ELENA      LOS INDIOS TABAJARAS\n",
       "9                     SECRET LOVE               KATHY KIRBY\n",
       "10              DON'T TALK TO HIM             CLIFF RICHARD"
      ],
      "text/html": [
       "<div>\n",
       "<style scoped>\n",
       "    .dataframe tbody tr th:only-of-type {\n",
       "        vertical-align: middle;\n",
       "    }\n",
       "\n",
       "    .dataframe tbody tr th {\n",
       "        vertical-align: top;\n",
       "    }\n",
       "\n",
       "    .dataframe thead th {\n",
       "        text-align: right;\n",
       "    }\n",
       "</style>\n",
       "<table border=\"1\" class=\"dataframe\">\n",
       "  <thead>\n",
       "    <tr style=\"text-align: right;\">\n",
       "      <th></th>\n",
       "      <th>Title</th>\n",
       "      <th>Artist</th>\n",
       "    </tr>\n",
       "    <tr>\n",
       "      <th>Pos</th>\n",
       "      <th></th>\n",
       "      <th></th>\n",
       "    </tr>\n",
       "  </thead>\n",
       "  <tbody>\n",
       "    <tr>\n",
       "      <th>1</th>\n",
       "      <td>I WANT TO HOLD YOUR HAND</td>\n",
       "      <td>THE BEATLES</td>\n",
       "    </tr>\n",
       "    <tr>\n",
       "      <th>2</th>\n",
       "      <td>GLAD ALL OVER</td>\n",
       "      <td>THE DAVE CLARK FIVE</td>\n",
       "    </tr>\n",
       "    <tr>\n",
       "      <th>3</th>\n",
       "      <td>SHE LOVES YOU</td>\n",
       "      <td>THE BEATLES</td>\n",
       "    </tr>\n",
       "    <tr>\n",
       "      <th>4</th>\n",
       "      <td>YOU WERE MADE FOR ME</td>\n",
       "      <td>FREDDIE AND THE DREAMERS</td>\n",
       "    </tr>\n",
       "    <tr>\n",
       "      <th>5</th>\n",
       "      <td>TWENTY FOUR HOURS FROM TULSA</td>\n",
       "      <td>GENE PITNEY</td>\n",
       "    </tr>\n",
       "    <tr>\n",
       "      <th>6</th>\n",
       "      <td>I ONLY WANT TO BE WITH YOU</td>\n",
       "      <td>DUSTY SPRINGFIELD</td>\n",
       "    </tr>\n",
       "    <tr>\n",
       "      <th>7</th>\n",
       "      <td>DOMINIQUE</td>\n",
       "      <td>THE SINGING NUN</td>\n",
       "    </tr>\n",
       "    <tr>\n",
       "      <th>8</th>\n",
       "      <td>MARIA ELENA</td>\n",
       "      <td>LOS INDIOS TABAJARAS</td>\n",
       "    </tr>\n",
       "    <tr>\n",
       "      <th>9</th>\n",
       "      <td>SECRET LOVE</td>\n",
       "      <td>KATHY KIRBY</td>\n",
       "    </tr>\n",
       "    <tr>\n",
       "      <th>10</th>\n",
       "      <td>DON'T TALK TO HIM</td>\n",
       "      <td>CLIFF RICHARD</td>\n",
       "    </tr>\n",
       "  </tbody>\n",
       "</table>\n",
       "</div>"
      ]
     },
     "metadata": {},
     "execution_count": 76
    }
   ],
   "metadata": {}
  },
  {
   "cell_type": "code",
   "execution_count": 72,
   "source": [
    "## alternative solution\r\n",
    "def subsetting_by_positions():\r\n",
    "    df = pd.read_csv(\"UK-top40-1964-1-2.tsv\", sep=\"\\t\")\r\n",
    "    return df.iloc[:10,2:4]"
   ],
   "outputs": [],
   "metadata": {}
  },
  {
   "cell_type": "markdown",
   "source": [
    "## Summary statistics"
   ],
   "metadata": {}
  },
  {
   "cell_type": "code",
   "execution_count": 77,
   "source": [
    "wh = pd.read_csv(\"https://raw.githubusercontent.com/csmastersUH/data_analysis_with_python_2020/master/kumpula-weather-2017.csv\")"
   ],
   "outputs": [],
   "metadata": {}
  },
  {
   "cell_type": "code",
   "execution_count": 78,
   "source": [
    "wh2 = wh.drop([\"Year\", \"m\", \"d\"], axis=1)  # taking averages over these is not very interesting\r\n",
    "wh2.mean()"
   ],
   "outputs": [
    {
     "output_type": "stream",
     "name": "stderr",
     "text": [
      "<ipython-input-78-fed339198b77>:2: FutureWarning: Dropping of nuisance columns in DataFrame reductions (with 'numeric_only=None') is deprecated; in a future version this will raise TypeError.  Select only valid columns before calling the reduction.\n",
      "  wh2.mean()\n"
     ]
    },
    {
     "output_type": "execute_result",
     "data": {
      "text/plain": [
       "Precipitation amount (mm)    1.966301\n",
       "Snow depth (cm)              0.966480\n",
       "Air temperature (degC)       6.527123\n",
       "dtype: float64"
      ]
     },
     "metadata": {},
     "execution_count": 78
    }
   ],
   "metadata": {}
  },
  {
   "cell_type": "code",
   "execution_count": 79,
   "source": [
    "##the describe method gives summary stadistics for each numeric columns in a dataframe format.\r\n",
    "wh.describe()"
   ],
   "outputs": [
    {
     "output_type": "execute_result",
     "data": {
      "text/plain": [
       "         Year           m           d  Precipitation amount (mm)  \\\n",
       "count   365.0  365.000000  365.000000                 365.000000   \n",
       "mean   2017.0    6.526027   15.720548                   1.966301   \n",
       "std       0.0    3.452584    8.808321                   4.858423   \n",
       "min    2017.0    1.000000    1.000000                  -1.000000   \n",
       "25%    2017.0    4.000000    8.000000                  -1.000000   \n",
       "50%    2017.0    7.000000   16.000000                   0.200000   \n",
       "75%    2017.0   10.000000   23.000000                   2.700000   \n",
       "max    2017.0   12.000000   31.000000                  35.000000   \n",
       "\n",
       "       Snow depth (cm)  Air temperature (degC)  \n",
       "count       358.000000              365.000000  \n",
       "mean          0.966480                6.527123  \n",
       "std           3.717472                7.183934  \n",
       "min          -1.000000              -17.800000  \n",
       "25%          -1.000000                1.200000  \n",
       "50%          -1.000000                4.800000  \n",
       "75%           0.000000               12.900000  \n",
       "max          15.000000               19.600000  "
      ],
      "text/html": [
       "<div>\n",
       "<style scoped>\n",
       "    .dataframe tbody tr th:only-of-type {\n",
       "        vertical-align: middle;\n",
       "    }\n",
       "\n",
       "    .dataframe tbody tr th {\n",
       "        vertical-align: top;\n",
       "    }\n",
       "\n",
       "    .dataframe thead th {\n",
       "        text-align: right;\n",
       "    }\n",
       "</style>\n",
       "<table border=\"1\" class=\"dataframe\">\n",
       "  <thead>\n",
       "    <tr style=\"text-align: right;\">\n",
       "      <th></th>\n",
       "      <th>Year</th>\n",
       "      <th>m</th>\n",
       "      <th>d</th>\n",
       "      <th>Precipitation amount (mm)</th>\n",
       "      <th>Snow depth (cm)</th>\n",
       "      <th>Air temperature (degC)</th>\n",
       "    </tr>\n",
       "  </thead>\n",
       "  <tbody>\n",
       "    <tr>\n",
       "      <th>count</th>\n",
       "      <td>365.0</td>\n",
       "      <td>365.000000</td>\n",
       "      <td>365.000000</td>\n",
       "      <td>365.000000</td>\n",
       "      <td>358.000000</td>\n",
       "      <td>365.000000</td>\n",
       "    </tr>\n",
       "    <tr>\n",
       "      <th>mean</th>\n",
       "      <td>2017.0</td>\n",
       "      <td>6.526027</td>\n",
       "      <td>15.720548</td>\n",
       "      <td>1.966301</td>\n",
       "      <td>0.966480</td>\n",
       "      <td>6.527123</td>\n",
       "    </tr>\n",
       "    <tr>\n",
       "      <th>std</th>\n",
       "      <td>0.0</td>\n",
       "      <td>3.452584</td>\n",
       "      <td>8.808321</td>\n",
       "      <td>4.858423</td>\n",
       "      <td>3.717472</td>\n",
       "      <td>7.183934</td>\n",
       "    </tr>\n",
       "    <tr>\n",
       "      <th>min</th>\n",
       "      <td>2017.0</td>\n",
       "      <td>1.000000</td>\n",
       "      <td>1.000000</td>\n",
       "      <td>-1.000000</td>\n",
       "      <td>-1.000000</td>\n",
       "      <td>-17.800000</td>\n",
       "    </tr>\n",
       "    <tr>\n",
       "      <th>25%</th>\n",
       "      <td>2017.0</td>\n",
       "      <td>4.000000</td>\n",
       "      <td>8.000000</td>\n",
       "      <td>-1.000000</td>\n",
       "      <td>-1.000000</td>\n",
       "      <td>1.200000</td>\n",
       "    </tr>\n",
       "    <tr>\n",
       "      <th>50%</th>\n",
       "      <td>2017.0</td>\n",
       "      <td>7.000000</td>\n",
       "      <td>16.000000</td>\n",
       "      <td>0.200000</td>\n",
       "      <td>-1.000000</td>\n",
       "      <td>4.800000</td>\n",
       "    </tr>\n",
       "    <tr>\n",
       "      <th>75%</th>\n",
       "      <td>2017.0</td>\n",
       "      <td>10.000000</td>\n",
       "      <td>23.000000</td>\n",
       "      <td>2.700000</td>\n",
       "      <td>0.000000</td>\n",
       "      <td>12.900000</td>\n",
       "    </tr>\n",
       "    <tr>\n",
       "      <th>max</th>\n",
       "      <td>2017.0</td>\n",
       "      <td>12.000000</td>\n",
       "      <td>31.000000</td>\n",
       "      <td>35.000000</td>\n",
       "      <td>15.000000</td>\n",
       "      <td>19.600000</td>\n",
       "    </tr>\n",
       "  </tbody>\n",
       "</table>\n",
       "</div>"
      ]
     },
     "metadata": {},
     "execution_count": 79
    }
   ],
   "metadata": {}
  },
  {
   "cell_type": "code",
   "execution_count": null,
   "source": [
    "## exercise 09: snow depth"
   ],
   "outputs": [],
   "metadata": {}
  },
  {
   "cell_type": "code",
   "execution_count": 143,
   "source": [
    "def snow_depth(): \r\n",
    "    df = pd.read_csv('kumpula-weather-2017.csv', sep = ',')    \r\n",
    "    snow = df.loc[:, ['Snow depth (cm)']]\r\n",
    "    max_snow = snow.describe()\r\n",
    "    return max_snow.iloc[-1,-1]"
   ],
   "outputs": [],
   "metadata": {}
  },
  {
   "cell_type": "code",
   "execution_count": 146,
   "source": [
    "proportion = snow_depth()\r\n",
    "print(f\"Max snow depth: {proportion:.1f}\")"
   ],
   "outputs": [
    {
     "output_type": "stream",
     "name": "stdout",
     "text": [
      "Proportion of growing municipalities: 15.0\n"
     ]
    }
   ],
   "metadata": {}
  },
  {
   "cell_type": "code",
   "execution_count": null,
   "source": [
    "## alternative solution\r\n",
    "def snow_depth():\r\n",
    "    df = pd.read_csv(\"src/kumpula-weather-2017.csv\")\r\n",
    "    return df[\"Snow depth (cm)\"].max()"
   ],
   "outputs": [],
   "metadata": {}
  },
  {
   "cell_type": "code",
   "execution_count": 154,
   "source": [
    "## exercise 10: average temperature in july\r\n",
    "def average_temperature():\r\n",
    "    df = pd.read_csv(\"kumpula-weather-2017.csv\")\r\n",
    "    july_temp = df.loc[df['m'] == 7,:]\r\n",
    "    avg_july_temp = july_temp['Air temperature (degC)'].mean()\r\n",
    "    return avg_july_temp"
   ],
   "outputs": [],
   "metadata": {}
  },
  {
   "cell_type": "code",
   "execution_count": 155,
   "source": [
    "proportion = average_temperature()\r\n",
    "print(f\"Average temperature in July: {proportion:.1f}\")"
   ],
   "outputs": [
    {
     "output_type": "stream",
     "name": "stdout",
     "text": [
      "Max snow depth: 16.0\n"
     ]
    }
   ],
   "metadata": {}
  },
  {
   "cell_type": "code",
   "execution_count": 156,
   "source": [
    "## alternative solution\r\n",
    "def average_temperature():\r\n",
    "    df = pd.read_csv(\"src/kumpula-weather-2017.csv\", sep=\",\")\r\n",
    "    m = df[\"m\"] == 7\r\n",
    "    return df[m][\"Air temperature (degC)\"].mean()"
   ],
   "outputs": [],
   "metadata": {}
  },
  {
   "cell_type": "code",
   "execution_count": 162,
   "source": [
    "## exercise 11: below zero\r\n",
    "def below_zero():\r\n",
    "    df = pd.read_csv(\"kumpula-weather-2017.csv\", sep=\",\")\r\n",
    "    below_zero_df = df.loc[df['Air temperature (degC)'] < 0]\r\n",
    "    below_zero_days = below_zero_df.shape[0]\r\n",
    "    return below_zero_days"
   ],
   "outputs": [],
   "metadata": {}
  },
  {
   "cell_type": "code",
   "execution_count": 165,
   "source": [
    "print(f\"Number of days below zero: {below_zero():.0f}\")"
   ],
   "outputs": [
    {
     "output_type": "stream",
     "name": "stdout",
     "text": [
      "Number of days below zero: 49\n"
     ]
    }
   ],
   "metadata": {}
  },
  {
   "cell_type": "code",
   "execution_count": 166,
   "source": [
    "## alternative solution\r\n",
    "def below_zero():\r\n",
    "    df = pd.read_csv(\"kumpula-weather-2017.csv\")\r\n",
    "    return sum(df[\"Air temperature (degC)\"] < 0.0)"
   ],
   "outputs": [],
   "metadata": {}
  },
  {
   "cell_type": "markdown",
   "source": [
    "## Missing data"
   ],
   "metadata": {}
  },
  {
   "cell_type": "code",
   "execution_count": 167,
   "source": [
    "#if we check the unique values of the column, we see some nan values\r\n",
    "wh[\"Snow depth (cm)\"].unique()"
   ],
   "outputs": [
    {
     "output_type": "execute_result",
     "data": {
      "text/plain": [
       "array([-1.,  7., 13., 10., 12.,  9.,  8.,  5.,  6.,  4.,  3., 15., 14.,\n",
       "        2., nan,  0.])"
      ]
     },
     "metadata": {},
     "execution_count": 167
    }
   ],
   "metadata": {}
  },
  {
   "cell_type": "code",
   "execution_count": null,
   "source": [
    "# the floeat type accepts nan in additionto normal floating point numbers. THis value represents the results from illegal operations -- as 0/0"
   ],
   "outputs": [],
   "metadata": {}
  },
  {
   "cell_type": "code",
   "execution_count": 168,
   "source": [
    "pd.Series([1,3,2])"
   ],
   "outputs": [
    {
     "output_type": "execute_result",
     "data": {
      "text/plain": [
       "0    1\n",
       "1    3\n",
       "2    2\n",
       "dtype: int64"
      ]
     },
     "metadata": {},
     "execution_count": 168
    }
   ],
   "metadata": {}
  },
  {
   "cell_type": "code",
   "execution_count": 169,
   "source": [
    "pd.Series([1,3,2, np.nan])"
   ],
   "outputs": [
    {
     "output_type": "execute_result",
     "data": {
      "text/plain": [
       "0    1.0\n",
       "1    3.0\n",
       "2    2.0\n",
       "3    NaN\n",
       "dtype: float64"
      ]
     },
     "metadata": {},
     "execution_count": 169
    }
   ],
   "metadata": {}
  },
  {
   "cell_type": "code",
   "execution_count": null,
   "source": [
    "## for non-numeric types the special value None is used to denote a missing value, the dtype is promoted to object"
   ],
   "outputs": [],
   "metadata": {}
  },
  {
   "cell_type": "code",
   "execution_count": 170,
   "source": [
    "pd.Series([\"jack\", \"joe\", None])"
   ],
   "outputs": [
    {
     "output_type": "execute_result",
     "data": {
      "text/plain": [
       "0    jack\n",
       "1     joe\n",
       "2    None\n",
       "dtype: object"
      ]
     },
     "metadata": {},
     "execution_count": 170
    }
   ],
   "metadata": {}
  },
  {
   "cell_type": "code",
   "execution_count": 171,
   "source": [
    "##pandas excludes the missing values from summary statistics -- but we have functions to handle null values\r\n",
    "wh.isnull()      # returns a boolean mask DataFrame"
   ],
   "outputs": [
    {
     "output_type": "execute_result",
     "data": {
      "text/plain": [
       "      Year      m      d   Time  Time zone  Precipitation amount (mm)  \\\n",
       "0    False  False  False  False      False                      False   \n",
       "1    False  False  False  False      False                      False   \n",
       "2    False  False  False  False      False                      False   \n",
       "3    False  False  False  False      False                      False   \n",
       "4    False  False  False  False      False                      False   \n",
       "..     ...    ...    ...    ...        ...                        ...   \n",
       "360  False  False  False  False      False                      False   \n",
       "361  False  False  False  False      False                      False   \n",
       "362  False  False  False  False      False                      False   \n",
       "363  False  False  False  False      False                      False   \n",
       "364  False  False  False  False      False                      False   \n",
       "\n",
       "     Snow depth (cm)  Air temperature (degC)  \n",
       "0              False                   False  \n",
       "1              False                   False  \n",
       "2              False                   False  \n",
       "3              False                   False  \n",
       "4              False                   False  \n",
       "..               ...                     ...  \n",
       "360            False                   False  \n",
       "361            False                   False  \n",
       "362            False                   False  \n",
       "363            False                   False  \n",
       "364            False                   False  \n",
       "\n",
       "[365 rows x 8 columns]"
      ],
      "text/html": [
       "<div>\n",
       "<style scoped>\n",
       "    .dataframe tbody tr th:only-of-type {\n",
       "        vertical-align: middle;\n",
       "    }\n",
       "\n",
       "    .dataframe tbody tr th {\n",
       "        vertical-align: top;\n",
       "    }\n",
       "\n",
       "    .dataframe thead th {\n",
       "        text-align: right;\n",
       "    }\n",
       "</style>\n",
       "<table border=\"1\" class=\"dataframe\">\n",
       "  <thead>\n",
       "    <tr style=\"text-align: right;\">\n",
       "      <th></th>\n",
       "      <th>Year</th>\n",
       "      <th>m</th>\n",
       "      <th>d</th>\n",
       "      <th>Time</th>\n",
       "      <th>Time zone</th>\n",
       "      <th>Precipitation amount (mm)</th>\n",
       "      <th>Snow depth (cm)</th>\n",
       "      <th>Air temperature (degC)</th>\n",
       "    </tr>\n",
       "  </thead>\n",
       "  <tbody>\n",
       "    <tr>\n",
       "      <th>0</th>\n",
       "      <td>False</td>\n",
       "      <td>False</td>\n",
       "      <td>False</td>\n",
       "      <td>False</td>\n",
       "      <td>False</td>\n",
       "      <td>False</td>\n",
       "      <td>False</td>\n",
       "      <td>False</td>\n",
       "    </tr>\n",
       "    <tr>\n",
       "      <th>1</th>\n",
       "      <td>False</td>\n",
       "      <td>False</td>\n",
       "      <td>False</td>\n",
       "      <td>False</td>\n",
       "      <td>False</td>\n",
       "      <td>False</td>\n",
       "      <td>False</td>\n",
       "      <td>False</td>\n",
       "    </tr>\n",
       "    <tr>\n",
       "      <th>2</th>\n",
       "      <td>False</td>\n",
       "      <td>False</td>\n",
       "      <td>False</td>\n",
       "      <td>False</td>\n",
       "      <td>False</td>\n",
       "      <td>False</td>\n",
       "      <td>False</td>\n",
       "      <td>False</td>\n",
       "    </tr>\n",
       "    <tr>\n",
       "      <th>3</th>\n",
       "      <td>False</td>\n",
       "      <td>False</td>\n",
       "      <td>False</td>\n",
       "      <td>False</td>\n",
       "      <td>False</td>\n",
       "      <td>False</td>\n",
       "      <td>False</td>\n",
       "      <td>False</td>\n",
       "    </tr>\n",
       "    <tr>\n",
       "      <th>4</th>\n",
       "      <td>False</td>\n",
       "      <td>False</td>\n",
       "      <td>False</td>\n",
       "      <td>False</td>\n",
       "      <td>False</td>\n",
       "      <td>False</td>\n",
       "      <td>False</td>\n",
       "      <td>False</td>\n",
       "    </tr>\n",
       "    <tr>\n",
       "      <th>...</th>\n",
       "      <td>...</td>\n",
       "      <td>...</td>\n",
       "      <td>...</td>\n",
       "      <td>...</td>\n",
       "      <td>...</td>\n",
       "      <td>...</td>\n",
       "      <td>...</td>\n",
       "      <td>...</td>\n",
       "    </tr>\n",
       "    <tr>\n",
       "      <th>360</th>\n",
       "      <td>False</td>\n",
       "      <td>False</td>\n",
       "      <td>False</td>\n",
       "      <td>False</td>\n",
       "      <td>False</td>\n",
       "      <td>False</td>\n",
       "      <td>False</td>\n",
       "      <td>False</td>\n",
       "    </tr>\n",
       "    <tr>\n",
       "      <th>361</th>\n",
       "      <td>False</td>\n",
       "      <td>False</td>\n",
       "      <td>False</td>\n",
       "      <td>False</td>\n",
       "      <td>False</td>\n",
       "      <td>False</td>\n",
       "      <td>False</td>\n",
       "      <td>False</td>\n",
       "    </tr>\n",
       "    <tr>\n",
       "      <th>362</th>\n",
       "      <td>False</td>\n",
       "      <td>False</td>\n",
       "      <td>False</td>\n",
       "      <td>False</td>\n",
       "      <td>False</td>\n",
       "      <td>False</td>\n",
       "      <td>False</td>\n",
       "      <td>False</td>\n",
       "    </tr>\n",
       "    <tr>\n",
       "      <th>363</th>\n",
       "      <td>False</td>\n",
       "      <td>False</td>\n",
       "      <td>False</td>\n",
       "      <td>False</td>\n",
       "      <td>False</td>\n",
       "      <td>False</td>\n",
       "      <td>False</td>\n",
       "      <td>False</td>\n",
       "    </tr>\n",
       "    <tr>\n",
       "      <th>364</th>\n",
       "      <td>False</td>\n",
       "      <td>False</td>\n",
       "      <td>False</td>\n",
       "      <td>False</td>\n",
       "      <td>False</td>\n",
       "      <td>False</td>\n",
       "      <td>False</td>\n",
       "      <td>False</td>\n",
       "    </tr>\n",
       "  </tbody>\n",
       "</table>\n",
       "<p>365 rows × 8 columns</p>\n",
       "</div>"
      ]
     },
     "metadata": {},
     "execution_count": 171
    }
   ],
   "metadata": {}
  },
  {
   "cell_type": "code",
   "execution_count": 172,
   "source": [
    "# combining it with the any method, you can mask the null rows\r\n",
    "# notnull is inverse from isnull\r\n",
    "wh[wh.isnull().any(axis=1)]"
   ],
   "outputs": [
    {
     "output_type": "execute_result",
     "data": {
      "text/plain": [
       "     Year   m   d   Time Time zone  Precipitation amount (mm)  \\\n",
       "74   2017   3  16  00:00       UTC                        1.8   \n",
       "163  2017   6  13  00:00       UTC                        0.6   \n",
       "308  2017  11   5  00:00       UTC                        0.2   \n",
       "309  2017  11   6  00:00       UTC                        2.0   \n",
       "313  2017  11  10  00:00       UTC                        3.6   \n",
       "321  2017  11  18  00:00       UTC                       11.3   \n",
       "328  2017  11  25  00:00       UTC                        8.5   \n",
       "\n",
       "     Snow depth (cm)  Air temperature (degC)  \n",
       "74               NaN                     3.4  \n",
       "163              NaN                    12.6  \n",
       "308              NaN                     8.4  \n",
       "309              NaN                     7.5  \n",
       "313              NaN                     7.2  \n",
       "321              NaN                     5.9  \n",
       "328              NaN                     4.2  "
      ],
      "text/html": [
       "<div>\n",
       "<style scoped>\n",
       "    .dataframe tbody tr th:only-of-type {\n",
       "        vertical-align: middle;\n",
       "    }\n",
       "\n",
       "    .dataframe tbody tr th {\n",
       "        vertical-align: top;\n",
       "    }\n",
       "\n",
       "    .dataframe thead th {\n",
       "        text-align: right;\n",
       "    }\n",
       "</style>\n",
       "<table border=\"1\" class=\"dataframe\">\n",
       "  <thead>\n",
       "    <tr style=\"text-align: right;\">\n",
       "      <th></th>\n",
       "      <th>Year</th>\n",
       "      <th>m</th>\n",
       "      <th>d</th>\n",
       "      <th>Time</th>\n",
       "      <th>Time zone</th>\n",
       "      <th>Precipitation amount (mm)</th>\n",
       "      <th>Snow depth (cm)</th>\n",
       "      <th>Air temperature (degC)</th>\n",
       "    </tr>\n",
       "  </thead>\n",
       "  <tbody>\n",
       "    <tr>\n",
       "      <th>74</th>\n",
       "      <td>2017</td>\n",
       "      <td>3</td>\n",
       "      <td>16</td>\n",
       "      <td>00:00</td>\n",
       "      <td>UTC</td>\n",
       "      <td>1.8</td>\n",
       "      <td>NaN</td>\n",
       "      <td>3.4</td>\n",
       "    </tr>\n",
       "    <tr>\n",
       "      <th>163</th>\n",
       "      <td>2017</td>\n",
       "      <td>6</td>\n",
       "      <td>13</td>\n",
       "      <td>00:00</td>\n",
       "      <td>UTC</td>\n",
       "      <td>0.6</td>\n",
       "      <td>NaN</td>\n",
       "      <td>12.6</td>\n",
       "    </tr>\n",
       "    <tr>\n",
       "      <th>308</th>\n",
       "      <td>2017</td>\n",
       "      <td>11</td>\n",
       "      <td>5</td>\n",
       "      <td>00:00</td>\n",
       "      <td>UTC</td>\n",
       "      <td>0.2</td>\n",
       "      <td>NaN</td>\n",
       "      <td>8.4</td>\n",
       "    </tr>\n",
       "    <tr>\n",
       "      <th>309</th>\n",
       "      <td>2017</td>\n",
       "      <td>11</td>\n",
       "      <td>6</td>\n",
       "      <td>00:00</td>\n",
       "      <td>UTC</td>\n",
       "      <td>2.0</td>\n",
       "      <td>NaN</td>\n",
       "      <td>7.5</td>\n",
       "    </tr>\n",
       "    <tr>\n",
       "      <th>313</th>\n",
       "      <td>2017</td>\n",
       "      <td>11</td>\n",
       "      <td>10</td>\n",
       "      <td>00:00</td>\n",
       "      <td>UTC</td>\n",
       "      <td>3.6</td>\n",
       "      <td>NaN</td>\n",
       "      <td>7.2</td>\n",
       "    </tr>\n",
       "    <tr>\n",
       "      <th>321</th>\n",
       "      <td>2017</td>\n",
       "      <td>11</td>\n",
       "      <td>18</td>\n",
       "      <td>00:00</td>\n",
       "      <td>UTC</td>\n",
       "      <td>11.3</td>\n",
       "      <td>NaN</td>\n",
       "      <td>5.9</td>\n",
       "    </tr>\n",
       "    <tr>\n",
       "      <th>328</th>\n",
       "      <td>2017</td>\n",
       "      <td>11</td>\n",
       "      <td>25</td>\n",
       "      <td>00:00</td>\n",
       "      <td>UTC</td>\n",
       "      <td>8.5</td>\n",
       "      <td>NaN</td>\n",
       "      <td>4.2</td>\n",
       "    </tr>\n",
       "  </tbody>\n",
       "</table>\n",
       "</div>"
      ]
     },
     "metadata": {},
     "execution_count": 172
    }
   ],
   "metadata": {}
  },
  {
   "cell_type": "code",
   "execution_count": 173,
   "source": [
    "#  dropna drops columns that contain missing values from the dataframe\r\n",
    "# the drop and tthresh parameters allow to specify how many values need to be missing, in order to drop the element\r\n",
    "wh.dropna().shape   # Default axis is 0"
   ],
   "outputs": [
    {
     "output_type": "execute_result",
     "data": {
      "text/plain": [
       "(358, 8)"
      ]
     },
     "metadata": {},
     "execution_count": 173
    }
   ],
   "metadata": {}
  },
  {
   "cell_type": "code",
   "execution_count": 174,
   "source": [
    "#depending on the axis, you drop the ros (0) or columns (1)\r\n",
    "wh.dropna(axis=1).shape # Drops the columns containing missing values"
   ],
   "outputs": [
    {
     "output_type": "execute_result",
     "data": {
      "text/plain": [
       "(365, 7)"
      ]
     },
     "metadata": {},
     "execution_count": 174
    }
   ],
   "metadata": {}
  },
  {
   "cell_type": "code",
   "execution_count": 175,
   "source": [
    "# fillna fills the missing values with constant or interpolated values\r\n",
    "# ffill: use the previous value to fill the current value\r\n",
    "# bfill: use the next value to fill the current value\r\n",
    "wh = wh.fillna(method='ffill')\r\n",
    "wh[wh.isnull().any(axis=1)]"
   ],
   "outputs": [
    {
     "output_type": "execute_result",
     "data": {
      "text/plain": [
       "Empty DataFrame\n",
       "Columns: [Year, m, d, Time, Time zone, Precipitation amount (mm), Snow depth (cm), Air temperature (degC)]\n",
       "Index: []"
      ],
      "text/html": [
       "<div>\n",
       "<style scoped>\n",
       "    .dataframe tbody tr th:only-of-type {\n",
       "        vertical-align: middle;\n",
       "    }\n",
       "\n",
       "    .dataframe tbody tr th {\n",
       "        vertical-align: top;\n",
       "    }\n",
       "\n",
       "    .dataframe thead th {\n",
       "        text-align: right;\n",
       "    }\n",
       "</style>\n",
       "<table border=\"1\" class=\"dataframe\">\n",
       "  <thead>\n",
       "    <tr style=\"text-align: right;\">\n",
       "      <th></th>\n",
       "      <th>Year</th>\n",
       "      <th>m</th>\n",
       "      <th>d</th>\n",
       "      <th>Time</th>\n",
       "      <th>Time zone</th>\n",
       "      <th>Precipitation amount (mm)</th>\n",
       "      <th>Snow depth (cm)</th>\n",
       "      <th>Air temperature (degC)</th>\n",
       "    </tr>\n",
       "  </thead>\n",
       "  <tbody>\n",
       "  </tbody>\n",
       "</table>\n",
       "</div>"
      ]
     },
     "metadata": {},
     "execution_count": 175
    }
   ],
   "metadata": {}
  }
 ],
 "metadata": {
  "orig_nbformat": 4,
  "language_info": {
   "name": "python",
   "version": "3.8.10",
   "mimetype": "text/x-python",
   "codemirror_mode": {
    "name": "ipython",
    "version": 3
   },
   "pygments_lexer": "ipython3",
   "nbconvert_exporter": "python",
   "file_extension": ".py"
  },
  "kernelspec": {
   "name": "python3",
   "display_name": "Python 3.8.10 64-bit (windows store)"
  },
  "interpreter": {
   "hash": "0ddec12ae515819e9d7d1731b6132a53a58d2223f03b129fde29cb4f091cec82"
  }
 },
 "nbformat": 4,
 "nbformat_minor": 2
}