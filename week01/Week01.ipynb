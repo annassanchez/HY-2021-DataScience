{
 "metadata": {
  "language_info": {
   "codemirror_mode": {
    "name": "ipython",
    "version": 3
   },
   "file_extension": ".py",
   "mimetype": "text/x-python",
   "name": "python",
   "nbconvert_exporter": "python",
   "pygments_lexer": "ipython3",
   "version": "3.7.6"
  },
  "orig_nbformat": 2,
  "kernelspec": {
   "name": "python3",
   "display_name": "Python 3.7.6 64-bit ('base': conda)"
  },
  "interpreter": {
   "hash": "f57b36c82002ba3527043e47818fa568b32154e93c26323ec38259439b753edd"
  }
 },
 "nbformat": 4,
 "nbformat_minor": 2,
 "cells": [
  {
   "cell_type": "code",
   "execution_count": 8,
   "metadata": {},
   "outputs": [],
   "source": [
    "#BASIC CONCEPTS\n",
    "## Basic input and output"
   ]
  },
  {
   "cell_type": "code",
   "execution_count": 1,
   "metadata": {},
   "outputs": [
    {
     "output_type": "stream",
     "name": "stdout",
     "text": [
      "Hello World\n"
     ]
    }
   ],
   "source": [
    "print(\"Hello World\")"
   ]
  },
  {
   "cell_type": "code",
   "execution_count": 3,
   "metadata": {},
   "outputs": [
    {
     "output_type": "stream",
     "name": "stdout",
     "text": [
      "Hello, John! How are you?\n"
     ]
    }
   ],
   "source": [
    "print(\"Hello,\", \"John!\", \"How are you?\")"
   ]
  },
  {
   "cell_type": "code",
   "execution_count": 4,
   "metadata": {},
   "outputs": [
    {
     "output_type": "stream",
     "name": "stdout",
     "text": [
      "1 plus 2 equals 3\n"
     ]
    }
   ],
   "source": [
    "print(1, \"plus\", 2, \"equals\", 1+2)"
   ]
  },
  {
   "cell_type": "code",
   "execution_count": 6,
   "metadata": {},
   "outputs": [
    {
     "output_type": "error",
     "ename": "SyntaxError",
     "evalue": "invalid syntax (<ipython-input-6-183192fc08db>, line 2)",
     "traceback": [
      "\u001b[1;36m  File \u001b[1;32m\"<ipython-input-6-183192fc08db>\"\u001b[1;36m, line \u001b[1;32m2\u001b[0m\n\u001b[1;33m    print(\"Hello,\" name)\u001b[0m\n\u001b[1;37m                      ^\u001b[0m\n\u001b[1;31mSyntaxError\u001b[0m\u001b[1;31m:\u001b[0m invalid syntax\n"
     ]
    }
   ],
   "source": [
    "#cuidado que se rompe bastante\n",
    "name=input(\"GIve me your name: \")\n",
    "print(\"Hello,\" name)"
   ]
  },
  {
   "cell_type": "code",
   "execution_count": null,
   "metadata": {},
   "outputs": [],
   "source": [
    "## indentation"
   ]
  },
  {
   "cell_type": "code",
   "execution_count": 1,
   "metadata": {},
   "outputs": [
    {
     "output_type": "stream",
     "name": "stdout",
     "text": [
      "Hello\nHello\nHello\nBye!\n"
     ]
    }
   ],
   "source": [
    "for i in range(3):\n",
    "    print(\"Hello\")\n",
    "print(\"Bye!\")"
   ]
  },
  {
   "cell_type": "code",
   "execution_count": null,
   "metadata": {},
   "outputs": [],
   "source": [
    "## variables and data types"
   ]
  },
  {
   "cell_type": "code",
   "execution_count": 2,
   "metadata": {},
   "outputs": [
    {
     "output_type": "stream",
     "name": "stdout",
     "text": [
      "1\n"
     ]
    }
   ],
   "source": [
    "a=1\n",
    "print(a)"
   ]
  },
  {
   "cell_type": "code",
   "execution_count": 3,
   "metadata": {},
   "outputs": [
    {
     "output_type": "execute_result",
     "data": {
      "text/plain": [
       "int"
      ]
     },
     "metadata": {},
     "execution_count": 3
    }
   ],
   "source": [
    "type(a)"
   ]
  },
  {
   "cell_type": "code",
   "execution_count": 4,
   "metadata": {},
   "outputs": [
    {
     "output_type": "execute_result",
     "data": {
      "text/plain": [
       "str"
      ]
     },
     "metadata": {},
     "execution_count": 4
    }
   ],
   "source": [
    "a=\"some text\"\n",
    "type(a)"
   ]
  },
  {
   "cell_type": "code",
   "execution_count": 5,
   "metadata": {},
   "outputs": [
    {
     "output_type": "stream",
     "name": "stdout",
     "text": [
      "Result of the comparison: False\nComplex multiplication: (-4+0j)\nconcatenation\n"
     ]
    }
   ],
   "source": [
    "i = 5\n",
    "f = 1.5\n",
    "b = i==4\n",
    "print(\"Result of the comparison:\", b)\n",
    "c=0+2j\n",
    "print(\"Complex multiplication:\", c*c)\n",
    "s=\"conca\" + \"tenation\"\n",
    "print(s)"
   ]
  },
  {
   "cell_type": "code",
   "execution_count": 7,
   "metadata": {},
   "outputs": [
    {
     "output_type": "stream",
     "name": "stdout",
     "text": [
      "-2\n2.0\n123\nTrue False\n234\n"
     ]
    }
   ],
   "source": [
    "print(int(-2.8))\n",
    "print(float(2))\n",
    "print(int(\"123\"))\n",
    "print(bool(-2), bool(0)) #zero is interpreted as False\n",
    "print(str(234))"
   ]
  },
  {
   "cell_type": "code",
   "execution_count": 8,
   "metadata": {},
   "outputs": [
    {
     "output_type": "stream",
     "name": "stdout",
     "text": [
      "b'\\xc3\\xa4'\n[195, 164]\n"
     ]
    }
   ],
   "source": [
    "b=\"ä\".encode(\"utf-8\")     # Convert character(s) to a sequence of bytes\n",
    "print(b)                  # Prints bytes in hexadecimal notation\n",
    "print(list(b))            # Prints bytes in decimal notation"
   ]
  },
  {
   "cell_type": "code",
   "execution_count": 9,
   "metadata": {},
   "outputs": [
    {
     "output_type": "execute_result",
     "data": {
      "text/plain": [
       "'ä'"
      ]
     },
     "metadata": {},
     "execution_count": 9
    }
   ],
   "source": [
    "bytes.decode(b, \"utf-8\") #convert sequence of bytes to character(s)"
   ]
  },
  {
   "cell_type": "code",
   "execution_count": 10,
   "metadata": {},
   "outputs": [],
   "source": [
    "## creating strings"
   ]
  },
  {
   "cell_type": "code",
   "execution_count": 11,
   "metadata": {},
   "outputs": [
    {
     "output_type": "stream",
     "name": "stdout",
     "text": [
      "One\tTwo\tThree\tFour\n"
     ]
    }
   ],
   "source": [
    "print(\"One\\tTwo\\tThree\\tFour\")"
   ]
  },
  {
   "cell_type": "code",
   "execution_count": 13,
   "metadata": {},
   "outputs": [
    {
     "output_type": "stream",
     "name": "stdout",
     "text": [
      "A String \nspanning over \nseveral lines\n"
     ]
    }
   ],
   "source": [
    "s= \"\"\"A String \n",
    "spanning over \n",
    "several lines\"\"\"\n",
    "print(s)"
   ]
  },
  {
   "cell_type": "code",
   "execution_count": 1,
   "metadata": {},
   "outputs": [
    {
     "output_type": "stream",
     "name": "stdout",
     "text": [
      "firstsecond\nfirst second second first\n"
     ]
    }
   ],
   "source": [
    "a = \"first\"\n",
    "b = \"second\"\n",
    "print(a+b)\n",
    "print(\" \".join([a, b, b, a]))"
   ]
  },
  {
   "cell_type": "code",
   "execution_count": 2,
   "metadata": {},
   "outputs": [
    {
     "output_type": "stream",
     "name": "stdout",
     "text": [
      "1 plus 3 is equal to 4\n1 plus 3 is equal to 4\n"
     ]
    }
   ],
   "source": [
    "print(str(1) + \" plus \" + str(3) + \" is equal to \" + str(4))\n",
    "#slightly better\n",
    "print(1, \"plus\", 3, \"is equal to\", 1+3)"
   ]
  },
  {
   "cell_type": "code",
   "execution_count": 3,
   "metadata": {},
   "outputs": [
    {
     "output_type": "stream",
     "name": "stdout",
     "text": [
      "1 plus 3 is equal to 4\n1 plus 3 is equal to 4\n1 plus 3 is equal to 4\n"
     ]
    }
   ],
   "source": [
    "\n",
    "print(\"%i plus %i is equal to %i\" % (1, 3, 4))     # Format syntax\n",
    "\n",
    "print(\"{} plus {} is equal to {}\".format(1, 3, 4)) # Format method\n",
    "\n",
    "print(f\"{1} plus {3} is equal to {4}\")             # f-string\n",
    "\n"
   ]
  },
  {
   "cell_type": "code",
   "execution_count": 4,
   "metadata": {},
   "outputs": [
    {
     "output_type": "stream",
     "name": "stdout",
     "text": [
      "1.6 1.70 1.800\n1.6 1.70 1.800\n1.6 1.70 1.800\n"
     ]
    }
   ],
   "source": [
    "print(\"%.1f %.2f %.3f\" % (1.6, 1.7, 1.8))               # Old style\n",
    "print(\"{:.1f} {:.2f} {:.3f}\".format(1.6, 1.7, 1.8))     # newer style\n",
    "print(f\"{1.6:.1f} {1.7:.2f} {1.8:.3f}\")                 # f-string"
   ]
  },
  {
   "cell_type": "code",
   "execution_count": 5,
   "metadata": {},
   "outputs": [
    {
     "output_type": "stream",
     "name": "stdout",
     "text": [
      "water concatenated with melon produces watermelon\nwater concatenated with melon produces watermelon\nwater concatenated with melon produces watermelon\n"
     ]
    }
   ],
   "source": [
    "print(\"%s concatenated with %s produces %s\" % (\"water\", \"melon\", \"water\"+\"melon\"))\n",
    "print(\"{0} concatenated with {1} produces {0}{1}\".format(\"water\", \"melon\"))\n",
    "print(f\"{'water'} concatenated with {'melon'} produces {'water' + 'melon'}\")"
   ]
  },
  {
   "cell_type": "code",
   "execution_count": null,
   "metadata": {},
   "outputs": [],
   "source": [
    "##statements"
   ]
  },
  {
   "cell_type": "code",
   "execution_count": 6,
   "metadata": {},
   "outputs": [],
   "source": [
    "i = 5\n",
    "i = i+1    # This is a commong idiom to increment the value of i by one\n",
    "i += 1     # This is a short-hand for the above"
   ]
  },
  {
   "cell_type": "code",
   "execution_count": 7,
   "metadata": {},
   "outputs": [],
   "source": [
    "##loops"
   ]
  },
  {
   "cell_type": "code",
   "execution_count": 8,
   "metadata": {},
   "outputs": [
    {
     "output_type": "stream",
     "name": "stdout",
     "text": [
      "Square of 1 is 1\nSquare of 2 is 4\nSquare of 3 is 9\nSquare of 4 is 16\nSquare of 5 is 25\nSquare of 6 is 36\nSquare of 7 is 49\nSquare of 8 is 64\nSquare of 9 is 81\nSquare of 10 is 100\nSquare of 11 is 121\nSquare of 12 is 144\nSquare of 13 is 169\nSquare of 14 is 196\nSquare of 15 is 225\nSquare of 16 is 256\nSquare of 17 is 289\nSquare of 18 is 324\nSquare of 19 is 361\nSquare of 20 is 400\nSquare of 21 is 441\nSquare of 22 is 484\nSquare of 23 is 529\nSquare of 24 is 576\nSquare of 25 is 625\nSquare of 26 is 676\nSquare of 27 is 729\nSquare of 28 is 784\nSquare of 29 is 841\nSquare of 30 is 900\nSquare of 31 is 961\nFinished printing all the squares below 1000.\n"
     ]
    }
   ],
   "source": [
    "i=1\n",
    "while i*i < 1000:\n",
    "    print(\"Square of\", i, \"is\", i*i)\n",
    "    i = i + 1\n",
    "print(\"Finished printing all the squares below 1000.\")"
   ]
  },
  {
   "cell_type": "code",
   "execution_count": 9,
   "metadata": {},
   "outputs": [
    {
     "output_type": "stream",
     "name": "stdout",
     "text": [
      "The sum is 45\n"
     ]
    }
   ],
   "source": [
    "s=0\n",
    "for i in [0,1,2,3,4,5,6,7,8,9]:\n",
    "    s = s + i\n",
    "print(\"The sum is\", s)"
   ]
  },
  {
   "cell_type": "code",
   "execution_count": 62,
   "metadata": {},
   "outputs": [],
   "source": [
    "#exercise 4"
   ]
  },
  {
   "cell_type": "code",
   "execution_count": 61,
   "metadata": {},
   "outputs": [
    {
     "output_type": "stream",
     "name": "stdout",
     "text": [
      "   1    2    3    4    5    6    7    8    9   10 \n   2    4    6    8   10   12   14   16   18   20 \n   3    6    9   12   15   18   21   24   27   30 \n   4    8   12   16   20   24   28   32   36   40 \n   5   10   15   20   25   30   35   40   45   50 \n   6   12   18   24   30   36   42   48   54   60 \n   7   14   21   28   35   42   49   56   63   70 \n   8   16   24   32   40   48   56   64   72   80 \n   9   18   27   36   45   54   63   72   81   90 \n  10   20   30   40   50   60   70   80   90  100 \n"
     ]
    }
   ],
   "source": [
    "for i in [1,2,3,4,5,6,7,8,9,10]:\n",
    "    for s in [1,2,3,4,5,6,7,8,9,10]:\n",
    "        print('{:4d}'.format(i*s), end=' ')\n",
    "    print(end='\\n')"
   ]
  },
  {
   "cell_type": "code",
   "execution_count": null,
   "metadata": {},
   "outputs": [],
   "source": [
    "\n",
    "for i in [1,2,3,4,5,6,7,8,9,10]:\n",
    "    for s in [1,2,3,4,5,6,7,8,9,10]:\n",
    "        print('{:4d}'.format(i*s))\n",
    "    print(end='\\n')\n",
    "print(\"The sum is\", s)"
   ]
  },
  {
   "cell_type": "code",
   "execution_count": 53,
   "metadata": {},
   "outputs": [
    {
     "output_type": "stream",
     "name": "stdout",
     "text": [
      "1 2 3 4 5 6 7 8 9 10\n2 4 6 8 10 12 14 16 18 20\n3 6 9 12 15 18 21 24 27 30\n4 8 12 16 20 24 28 32 36 40\n5 10 15 20 25 30 35 40 45 50\n6 12 18 24 30 36 42 48 54 60\n7 14 21 28 35 42 49 56 63 70\n8 16 24 32 40 48 56 64 72 80\n9 18 27 36 45 54 63 72 81 90\n10 20 30 40 50 60 70 80 90 100\nThe sum is 10\n"
     ]
    }
   ],
   "source": [
    "for i in [1,2,3,4,5,6,7,8,9,10]:\n",
    "    print(i, i*2, i*3, i*4, i*5, i*6, i*7, i*8, i*9, i*10, end='\\n')\n",
    "print(\"The sum is\", s)"
   ]
  },
  {
   "cell_type": "code",
   "execution_count": 63,
   "metadata": {},
   "outputs": [
    {
     "output_type": "stream",
     "name": "stdout",
     "text": [
      "   1   2   3   4   5   6   7   8   9  10\n   2   4   6   8  10  12  14  16  18  20\n   3   6   9  12  15  18  21  24  27  30\n   4   8  12  16  20  24  28  32  36  40\n   5  10  15  20  25  30  35  40  45  50\n   6  12  18  24  30  36  42  48  54  60\n   7  14  21  28  35  42  49  56  63  70\n   8  16  24  32  40  48  56  64  72  80\n   9  18  27  36  45  54  63  72  81  90\n  10  20  30  40  50  60  70  80  90 100\n"
     ]
    }
   ],
   "source": [
    "    for r in range(1, 11):\n",
    "\n",
    "        for c in range(1, 11):\n",
    "\n",
    "            print(f\"{r*c:4d}\", end=\"\")\n",
    "\n",
    "        print()"
   ]
  },
  {
   "cell_type": "code",
   "execution_count": 1,
   "metadata": {},
   "outputs": [],
   "source": [
    "##Loops and repetitive tasks\n",
    "### decision making with the if statement\n"
   ]
  },
  {
   "cell_type": "code",
   "execution_count": 4,
   "metadata": {},
   "outputs": [
    {
     "output_type": "stream",
     "name": "stdout",
     "text": [
      "The absolute value of 2 is 2\n"
     ]
    }
   ],
   "source": [
    "x = input(\"Give an integer: \")\n",
    "x = int(x)\n",
    "\n",
    "if x >= 0:\n",
    "\ta = x\n",
    "else:\n",
    "\ta = -x\n",
    "print(\"The absolute value of %i is %i\" % (x, a))"
   ]
  },
  {
   "cell_type": "code",
   "execution_count": 5,
   "metadata": {},
   "outputs": [
    {
     "output_type": "stream",
     "name": "stdout",
     "text": [
      "c is negative\n"
     ]
    }
   ],
   "source": [
    "c = float(input(\"Give a number: \"))\n",
    "if c>0:\n",
    "\tprint(\"c is positive\")\n",
    "elif c<0:\n",
    "\tprint(\"c is negative\")\n",
    "else:\n",
    "\tprint(\"c es zero\")"
   ]
  },
  {
   "cell_type": "code",
   "execution_count": null,
   "metadata": {},
   "outputs": [],
   "source": [
    "###breaking and continuing the loop"
   ]
  },
  {
   "cell_type": "code",
   "execution_count": 6,
   "metadata": {},
   "outputs": [
    {
     "output_type": "stream",
     "name": "stdout",
     "text": [
      "the first negative element was -1\n"
     ]
    }
   ],
   "source": [
    "l = [1,3,65,3,-1,56,-10]\n",
    "for x in l:\n",
    "\tif x<0:\n",
    "\t\tbreak\n",
    "print(\"the first negative element was\", x)"
   ]
  },
  {
   "cell_type": "code",
   "execution_count": 7,
   "metadata": {},
   "outputs": [
    {
     "output_type": "stream",
     "name": "stdout",
     "text": [
      "Square root of 1 is 1.000\nNatural logarithm of 1 is 0.0000\nSquare root of 3 is 1.732\nNatural logarithm of 3 is 1.0986\nSquare root of 65 is 8.062\nNatural logarithm of 65 is 4.1744\nSquare root of 3 is 1.732\nNatural logarithm of 3 is 1.0986\nSquare root of 56 is 7.483\nNatural logarithm of 56 is 4.0254\n"
     ]
    }
   ],
   "source": [
    "from math import sqrt, log\n",
    "l = [1,3,65,3,-1,56,-10]\n",
    "\n",
    "for x in l:\n",
    "\tif x < 0:\n",
    "\t\tcontinue\n",
    "\tprint(f\"Square root of {x} is {sqrt(x):.3f}\")\n",
    "\tprint(f\"Natural logarithm of {x} is {log(x):.4f}\")\n",
    "    "
   ]
  },
  {
   "cell_type": "code",
   "execution_count": 9,
   "metadata": {},
   "outputs": [],
   "source": [
    "#exercise 5"
   ]
  },
  {
   "cell_type": "code",
   "execution_count": 5,
   "metadata": {},
   "outputs": [
    {
     "output_type": "stream",
     "name": "stdout",
     "text": [
      "1 plus 4 is equal to 5\n2 plus 3 is equal to 5\n3 plus 2 is equal to 5\n4 plus 1 is equal to 5\n"
     ]
    }
   ],
   "source": [
    "for a in range(1,6):\n",
    "    for b in range(1,6):\n",
    "        if a + b == 5:\n",
    "            print(a, \"plus\", b, \"is equal to\", a+b)\n",
    "        else:\n",
    "            continue            "
   ]
  },
  {
   "cell_type": "code",
   "execution_count": 11,
   "metadata": {},
   "outputs": [
    {
     "output_type": "stream",
     "name": "stdout",
     "text": [
      "this pair follows the condition: ( 1 , 4 )\nthis pair follows the condition: ( 2 , 3 )\nthis pair follows the condition: ( 3 , 2 )\nthis pair follows the condition: ( 4 , 1 )\n"
     ]
    }
   ],
   "source": [
    "for a in range(1,6):\n",
    "    for b in range(1,6):\n",
    "        if a + b == 5:\n",
    "            print(\"this pair follows the condition: (\", a,\",\", b,\")\")\n",
    "        else:\n",
    "            continue  "
   ]
  },
  {
   "cell_type": "code",
   "execution_count": 21,
   "metadata": {},
   "outputs": [
    {
     "output_type": "stream",
     "name": "stdout",
     "text": [
      "(1,4)\n(2,3)\n(3,2)\n(4,1)\n"
     ]
    }
   ],
   "source": [
    "for a in range(1,6):\n",
    "    for b in range(1,6):\n",
    "        if a + b == 5:\n",
    "            print('({:d},{:d})'.format(a,b))\n",
    "        else:\n",
    "            continue  "
   ]
  },
  {
   "cell_type": "code",
   "execution_count": 23,
   "metadata": {},
   "outputs": [],
   "source": [
    "## FUNCTIONS"
   ]
  },
  {
   "cell_type": "code",
   "execution_count": 22,
   "metadata": {},
   "outputs": [
    {
     "output_type": "stream",
     "name": "stdout",
     "text": [
      "8 2.4 abcabc\n"
     ]
    }
   ],
   "source": [
    "def double(x):\n",
    "\t\"this function multiplies its argument by two\"\n",
    "\treturn x*2\n",
    "print(double(4), double(1.2), double(\"abc\")) #It even happens to work for strings"
   ]
  },
  {
   "cell_type": "code",
   "execution_count": 24,
   "metadata": {},
   "outputs": [
    {
     "output_type": "stream",
     "name": "stdout",
     "text": [
      "The docstring is: this function multiplies its argument by two\nHelp on function double in module __main__:\n\ndouble(x)\n    this function multiplies its argument by two\n\n"
     ]
    }
   ],
   "source": [
    "print(\"The docstring is:\", double.__doc__)\n",
    "help(double) #Another way to access the docstring"
   ]
  },
  {
   "cell_type": "code",
   "execution_count": 25,
   "metadata": {},
   "outputs": [
    {
     "output_type": "stream",
     "name": "stdout",
     "text": [
      "Help on built-in function print in module builtins:\n\nprint(...)\n    print(value, ..., sep=' ', end='\\n', file=sys.stdout, flush=False)\n    \n    Prints the values to a stream, or to sys.stdout by default.\n    Optional keyword arguments:\n    file:  a file-like object (stream); defaults to the current sys.stdout.\n    sep:   string inserted between values, default a space.\n    end:   string appended after the last value, default a newline.\n    flush: whether to forcibly flush the stream.\n\n"
     ]
    }
   ],
   "source": [
    "help(print)"
   ]
  },
  {
   "cell_type": "code",
   "execution_count": 26,
   "metadata": {},
   "outputs": [
    {
     "output_type": "stream",
     "name": "stdout",
     "text": [
      "25\n"
     ]
    }
   ],
   "source": [
    "def sum_of_squares(a, b):\n",
    "\t\"computes the sum of arguments squared\"\n",
    "\treturn a**2 + b**2\n",
    "print(sum_of_squares(3,4))"
   ]
  },
  {
   "cell_type": "code",
   "execution_count": 27,
   "metadata": {},
   "outputs": [
    {
     "output_type": "stream",
     "name": "stdout",
     "text": [
      "4\n45\n"
     ]
    }
   ],
   "source": [
    "def sum_of_squares(lst):\n",
    "\t#computes the sum of squares of elements in the list given as a parameter\"\n",
    "\ts = 0\n",
    "\tfor x in lst:\n",
    "\t\ts += x**2\n",
    "\treturn s\n",
    "print(sum_of_squares([-2]))\n",
    "print(sum_of_squares([-2, 4, 5]))"
   ]
  },
  {
   "cell_type": "code",
   "execution_count": 28,
   "metadata": {},
   "outputs": [
    {
     "output_type": "stream",
     "name": "stdout",
     "text": [
      "4\n45\n"
     ]
    }
   ],
   "source": [
    "def sum_of_squares(*t):\n",
    "\t#computes the sum of squares of elements in the list given as a parameter\"\n",
    "\ts = 0\n",
    "\tfor x in t:\n",
    "\t\ts += x**2\n",
    "\treturn s\n",
    "print(sum_of_squares(-2))\n",
    "print(sum_of_squares(-2, 4, 5))"
   ]
  },
  {
   "cell_type": "code",
   "execution_count": 29,
   "metadata": {},
   "outputs": [
    {
     "output_type": "stream",
     "name": "stdout",
     "text": [
      "With list unpacked as arguments to the functions: 90\n"
     ]
    }
   ],
   "source": [
    "lst = [1,5,8]\n",
    "print(\"With list unpacked as arguments to the functions:\", sum_of_squares(*lst))"
   ]
  },
  {
   "cell_type": "code",
   "execution_count": 30,
   "metadata": {},
   "outputs": [
    {
     "output_type": "stream",
     "name": "stdout",
     "text": [
      "First: 5 Second: 8 Third: 7\n"
     ]
    }
   ],
   "source": [
    "def named(a, b, c):\n",
    "\tprint(\"First:\", a, \"Second:\", b, \"Third:\", c)\n",
    "named(5, c=7, b=8)"
   ]
  },
  {
   "cell_type": "code",
   "execution_count": 31,
   "metadata": {},
   "outputs": [
    {
     "output_type": "stream",
     "name": "stdout",
     "text": [
      "1 -*-2 -*-3 |first -*-second -*-third |"
     ]
    }
   ],
   "source": [
    "print(1,2,3, end=' |', sep=' -*-')\n",
    "print(\"first\", \"second\", \"third\", end=' |', sep=' -*-')"
   ]
  },
  {
   "cell_type": "code",
   "execution_count": 33,
   "metadata": {},
   "outputs": [
    {
     "output_type": "stream",
     "name": "stdout",
     "text": [
      "5.0\n4.497941445275415\n"
     ]
    }
   ],
   "source": [
    "def length(*t, degree=2):\n",
    "\t\"\"\"Computes the length of the vector given as parameter. By default, it computes the Euclidean distance (degree == 2)\"\"\"\n",
    "\ts=0\n",
    "\tfor x in t:\n",
    "\t\ts += abs(x)**degree\n",
    "\treturn s**(1/degree)\n",
    "print(length(-4,3))\n",
    "print(length(-4,3,degree=3))"
   ]
  },
  {
   "cell_type": "code",
   "execution_count": 34,
   "metadata": {},
   "outputs": [],
   "source": [
    "### visibility of variables"
   ]
  },
  {
   "cell_type": "code",
   "execution_count": 35,
   "metadata": {},
   "outputs": [
    {
     "output_type": "stream",
     "name": "stdout",
     "text": [
      "3\n2\n"
     ]
    }
   ],
   "source": [
    "i=2 #global variable\n",
    "def f():\n",
    "\ti=3 #this creates a new variable, it does not rebind the global i\n",
    "\tprint(i) #this will print 3\n",
    "f()\n",
    "print(i) #this will print 2"
   ]
  },
  {
   "cell_type": "code",
   "execution_count": 36,
   "metadata": {},
   "outputs": [
    {
     "output_type": "stream",
     "name": "stdout",
     "text": [
      "5\n5\n"
     ]
    }
   ],
   "source": [
    "i = 2\n",
    "def f():\n",
    "\tglobal i\n",
    "\ti=5 #rebind the global i variable\n",
    "\tprint(i) #this will print 5\n",
    "f()\n",
    "print(i) #this will print 5"
   ]
  },
  {
   "cell_type": "code",
   "execution_count": 38,
   "metadata": {},
   "outputs": [
    {
     "output_type": "stream",
     "name": "stdout",
     "text": [
      "3\n3\n"
     ]
    }
   ],
   "source": [
    "def f(): #outer function\n",
    "\tb=2\n",
    "\tdef g(): #inner function\n",
    "\t\tnonlocal b #withoult ths nonlocal statement,\n",
    "\t\tb=3 #this will vreate a new local variable\n",
    "\t\tprint(b)\n",
    "\tg()\n",
    "\tprint(b)\n",
    "f()"
   ]
  },
  {
   "cell_type": "code",
   "execution_count": null,
   "metadata": {},
   "outputs": [],
   "source": [
    "#example 6"
   ]
  },
  {
   "cell_type": "code",
   "execution_count": 114,
   "metadata": {},
   "outputs": [
    {
     "output_type": "stream",
     "name": "stdout",
     "text": [
      "15\n25\n"
     ]
    }
   ],
   "source": [
    "a=5\n",
    "def triple(a):\n",
    "\t\"computes the triple of a number\"\n",
    "\treturn a*3\n",
    "print(triple(a))\n",
    "\n",
    "def square(a):\n",
    "    \"computes the square of a number\"\n",
    "    return a**2\n",
    "print(square(a))"
   ]
  },
  {
   "cell_type": "code",
   "execution_count": 51,
   "metadata": {},
   "outputs": [
    {
     "output_type": "stream",
     "name": "stdout",
     "text": [
      "triple(1) == 3 square(1) == 1\ntriple(2) == 6 square(2) == 4\ntriple(3) == 9 square(3) == 9\ntriple(4) == 12 square(4) == 16\ntriple(5) == 15 square(5) == 25\ntriple(6) == 18 square(6) == 36\ntriple(7) == 21 square(7) == 49\ntriple(8) == 24 square(8) == 64\ntriple(9) == 27 square(9) == 81\n"
     ]
    }
   ],
   "source": [
    "##part1\n",
    "for a in range(1,10):\n",
    "    print(f\"triple({a}) == {triple(a):d} square({a}) == {square(a):d}\")"
   ]
  },
  {
   "cell_type": "code",
   "execution_count": 185,
   "metadata": {},
   "outputs": [
    {
     "output_type": "stream",
     "name": "stdout",
     "text": [
      "triple(1)==3 square(1)==1\ntriple(2)==6 square(2)==4\ntriple(3)==9 square(3)==9\n"
     ]
    }
   ],
   "source": [
    "##part2\n",
    "def triple(a):\n",
    "\t\"computes the triple of a number\"\n",
    "\treturn a*3\n",
    "\n",
    "def square(a):\n",
    "    \"computes the square of a number\"\n",
    "    return a**2\n",
    "\n",
    "for a in range(1,10):\n",
    "    x = triple(a)\n",
    "    y = square(a)\n",
    "    if x < y:\n",
    "        break\n",
    "    print(f\"triple({a})=={x:d} square({a})=={y:d}\")  \n",
    "\n",
    "    "
   ]
  },
  {
   "cell_type": "code",
   "execution_count": 186,
   "metadata": {},
   "outputs": [],
   "source": [
    "#example 7"
   ]
  },
  {
   "source": [
    "import math\n",
    "#while True:\n",
    "    shape = input(\"Choose a shape (triangle, rectangle, circle: \")\n",
    "        #\"\"\"calculate area of a triangle, renctangle or a circle\"\"\"\n",
    "        if shape == 'triangle':\n",
    "            base = float(input(\"Give base of the triangle: \"))\n",
    "            height = float(input(\"Give the height of the triangle:\"))\n",
    "            t_area = float(base*height/2)\n",
    "            print(\"The area is {:.6f}\".format({t_area}))\n",
    "        elif shape == 'rectangle':\n",
    "            base = float(input(\"Give base of the renctangle: \"))\n",
    "            height = float(input(\"Give the height of the renctangle:\"))\n",
    "            r_area = float(base*height)\n",
    "            print(\"The area is {:.6f}\".format({r_area}))\n",
    "        elif shape == 'circle':\n",
    "            radius = float(input(\"Give radius of the circle: \"))\n",
    "            c_area = float(math.pi*radius ** 2)\n",
    "            print(\"The area is {:.6f}\".format({c_area}))"
   ],
   "cell_type": "code",
   "metadata": {},
   "execution_count": 241,
   "outputs": [
    {
     "output_type": "error",
     "ename": "IndentationError",
     "evalue": "unexpected indent (<ipython-input-241-4da67e4296b4>, line 3)",
     "traceback": [
      "\u001b[1;36m  File \u001b[1;32m\"<ipython-input-241-4da67e4296b4>\"\u001b[1;36m, line \u001b[1;32m3\u001b[0m\n\u001b[1;33m    shape = input(\"Choose a shape (triangle, rectangle, circle: \")\u001b[0m\n\u001b[1;37m    ^\u001b[0m\n\u001b[1;31mIndentationError\u001b[0m\u001b[1;31m:\u001b[0m unexpected indent\n"
     ]
    }
   ]
  },
  {
   "cell_type": "code",
   "execution_count": 243,
   "metadata": {},
   "outputs": [
    {
     "output_type": "stream",
     "name": "stdout",
     "text": [
      "The area is: 12.000000\n"
     ]
    }
   ],
   "source": [
    "    while True:\n",
    "        shape = input(\"Choose a shape (triangle, rectangle, circle): \")\n",
    "        if (shape==\"triangle\"):\n",
    "            triangle()\n",
    "        elif (shape==\"rectangle\"):\n",
    "            rectangle()\n",
    "        elif (shape==\"circle\"):\n",
    "            circle()\n",
    "        elif (shape==\"\"):\n",
    "            break\n",
    "        else:\n",
    "            print(\"Unknown shape!\")"
   ]
  },
  {
   "cell_type": "code",
   "execution_count": 242,
   "metadata": {},
   "outputs": [],
   "source": [
    "def triangle():\n",
    "    base = int(input(\"Give base of the triangle: \"))\n",
    "    height = int(input(\"Give height of the triangle: \"))\n",
    "    area = base * height / 2\n",
    "    print(f\"The area is {area:.6f}\")\n",
    "\n",
    " def rectangle():\n",
    "    base = int(input(\"Give base of the rectangle: \"))\n",
    "    height = int(input(\"Give height of the rectangle: \"))\n",
    "    area = base * height\n",
    "    print(f\"The area is {area:.6f}\")\n",
    " \n",
    "def circle():\n",
    "    r = int(input(\"Give radius of the circle: \"))\n",
    "    area = math.pi * (r * r)\n",
    "    print(f\"The area is {area:.6f}\")"
   ]
  }
 ]
}