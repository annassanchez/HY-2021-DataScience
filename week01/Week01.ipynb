{
 "metadata": {
  "language_info": {
   "codemirror_mode": {
    "name": "ipython",
    "version": 3
   },
   "file_extension": ".py",
   "mimetype": "text/x-python",
   "name": "python",
   "nbconvert_exporter": "python",
   "pygments_lexer": "ipython3",
   "version": "3.7.6"
  },
  "orig_nbformat": 2,
  "kernelspec": {
   "name": "python3",
   "display_name": "Python 3.7.6 64-bit ('base': conda)"
  },
  "interpreter": {
   "hash": "f57b36c82002ba3527043e47818fa568b32154e93c26323ec38259439b753edd"
  }
 },
 "nbformat": 4,
 "nbformat_minor": 2,
 "cells": [
  {
   "cell_type": "code",
   "execution_count": 8,
   "metadata": {},
   "outputs": [],
   "source": [
    "#BASIC CONCEPTS\n",
    "## Basic input and output"
   ]
  },
  {
   "cell_type": "code",
   "execution_count": 1,
   "metadata": {},
   "outputs": [
    {
     "output_type": "stream",
     "name": "stdout",
     "text": [
      "Hello World\n"
     ]
    }
   ],
   "source": [
    "print(\"Hello World\")"
   ]
  },
  {
   "cell_type": "code",
   "execution_count": 3,
   "metadata": {},
   "outputs": [
    {
     "output_type": "stream",
     "name": "stdout",
     "text": [
      "Hello, John! How are you?\n"
     ]
    }
   ],
   "source": [
    "print(\"Hello,\", \"John!\", \"How are you?\")"
   ]
  },
  {
   "cell_type": "code",
   "execution_count": 4,
   "metadata": {},
   "outputs": [
    {
     "output_type": "stream",
     "name": "stdout",
     "text": [
      "1 plus 2 equals 3\n"
     ]
    }
   ],
   "source": [
    "print(1, \"plus\", 2, \"equals\", 1+2)"
   ]
  },
  {
   "cell_type": "code",
   "execution_count": 6,
   "metadata": {},
   "outputs": [
    {
     "output_type": "error",
     "ename": "SyntaxError",
     "evalue": "invalid syntax (<ipython-input-6-183192fc08db>, line 2)",
     "traceback": [
      "\u001b[1;36m  File \u001b[1;32m\"<ipython-input-6-183192fc08db>\"\u001b[1;36m, line \u001b[1;32m2\u001b[0m\n\u001b[1;33m    print(\"Hello,\" name)\u001b[0m\n\u001b[1;37m                      ^\u001b[0m\n\u001b[1;31mSyntaxError\u001b[0m\u001b[1;31m:\u001b[0m invalid syntax\n"
     ]
    }
   ],
   "source": [
    "#cuidado que se rompe bastante\n",
    "name=input(\"GIve me your name: \")\n",
    "print(\"Hello,\" name)"
   ]
  },
  {
   "cell_type": "code",
   "execution_count": null,
   "metadata": {},
   "outputs": [],
   "source": [
    "## indentation"
   ]
  },
  {
   "cell_type": "code",
   "execution_count": 1,
   "metadata": {},
   "outputs": [
    {
     "output_type": "stream",
     "name": "stdout",
     "text": [
      "Hello\nHello\nHello\nBye!\n"
     ]
    }
   ],
   "source": [
    "for i in range(3):\n",
    "    print(\"Hello\")\n",
    "print(\"Bye!\")"
   ]
  },
  {
   "cell_type": "code",
   "execution_count": null,
   "metadata": {},
   "outputs": [],
   "source": [
    "## variables and data types"
   ]
  },
  {
   "cell_type": "code",
   "execution_count": 2,
   "metadata": {},
   "outputs": [
    {
     "output_type": "stream",
     "name": "stdout",
     "text": [
      "1\n"
     ]
    }
   ],
   "source": [
    "a=1\n",
    "print(a)"
   ]
  },
  {
   "cell_type": "code",
   "execution_count": 3,
   "metadata": {},
   "outputs": [
    {
     "output_type": "execute_result",
     "data": {
      "text/plain": [
       "int"
      ]
     },
     "metadata": {},
     "execution_count": 3
    }
   ],
   "source": [
    "type(a)"
   ]
  },
  {
   "cell_type": "code",
   "execution_count": 4,
   "metadata": {},
   "outputs": [
    {
     "output_type": "execute_result",
     "data": {
      "text/plain": [
       "str"
      ]
     },
     "metadata": {},
     "execution_count": 4
    }
   ],
   "source": [
    "a=\"some text\"\n",
    "type(a)"
   ]
  },
  {
   "cell_type": "code",
   "execution_count": 5,
   "metadata": {},
   "outputs": [
    {
     "output_type": "stream",
     "name": "stdout",
     "text": [
      "Result of the comparison: False\nComplex multiplication: (-4+0j)\nconcatenation\n"
     ]
    }
   ],
   "source": [
    "i = 5\n",
    "f = 1.5\n",
    "b = i==4\n",
    "print(\"Result of the comparison:\", b)\n",
    "c=0+2j\n",
    "print(\"Complex multiplication:\", c*c)\n",
    "s=\"conca\" + \"tenation\"\n",
    "print(s)"
   ]
  },
  {
   "cell_type": "code",
   "execution_count": 7,
   "metadata": {},
   "outputs": [
    {
     "output_type": "stream",
     "name": "stdout",
     "text": [
      "-2\n2.0\n123\nTrue False\n234\n"
     ]
    }
   ],
   "source": [
    "print(int(-2.8))\n",
    "print(float(2))\n",
    "print(int(\"123\"))\n",
    "print(bool(-2), bool(0)) #zero is interpreted as False\n",
    "print(str(234))"
   ]
  },
  {
   "cell_type": "code",
   "execution_count": 8,
   "metadata": {},
   "outputs": [
    {
     "output_type": "stream",
     "name": "stdout",
     "text": [
      "b'\\xc3\\xa4'\n[195, 164]\n"
     ]
    }
   ],
   "source": [
    "b=\"ä\".encode(\"utf-8\")     # Convert character(s) to a sequence of bytes\n",
    "print(b)                  # Prints bytes in hexadecimal notation\n",
    "print(list(b))            # Prints bytes in decimal notation"
   ]
  },
  {
   "cell_type": "code",
   "execution_count": 9,
   "metadata": {},
   "outputs": [
    {
     "output_type": "execute_result",
     "data": {
      "text/plain": [
       "'ä'"
      ]
     },
     "metadata": {},
     "execution_count": 9
    }
   ],
   "source": [
    "bytes.decode(b, \"utf-8\") #convert sequence of bytes to character(s)"
   ]
  },
  {
   "cell_type": "code",
   "execution_count": 10,
   "metadata": {},
   "outputs": [],
   "source": [
    "## creating strings"
   ]
  },
  {
   "cell_type": "code",
   "execution_count": 11,
   "metadata": {},
   "outputs": [
    {
     "output_type": "stream",
     "name": "stdout",
     "text": [
      "One\tTwo\tThree\tFour\n"
     ]
    }
   ],
   "source": [
    "print(\"One\\tTwo\\tThree\\tFour\")"
   ]
  },
  {
   "cell_type": "code",
   "execution_count": 13,
   "metadata": {},
   "outputs": [
    {
     "output_type": "stream",
     "name": "stdout",
     "text": [
      "A String \nspanning over \nseveral lines\n"
     ]
    }
   ],
   "source": [
    "s= \"\"\"A String \n",
    "spanning over \n",
    "several lines\"\"\"\n",
    "print(s)"
   ]
  },
  {
   "cell_type": "code",
   "execution_count": 1,
   "metadata": {},
   "outputs": [
    {
     "output_type": "stream",
     "name": "stdout",
     "text": [
      "firstsecond\nfirst second second first\n"
     ]
    }
   ],
   "source": [
    "a = \"first\"\n",
    "b = \"second\"\n",
    "print(a+b)\n",
    "print(\" \".join([a, b, b, a]))"
   ]
  },
  {
   "cell_type": "code",
   "execution_count": 2,
   "metadata": {},
   "outputs": [
    {
     "output_type": "stream",
     "name": "stdout",
     "text": [
      "1 plus 3 is equal to 4\n1 plus 3 is equal to 4\n"
     ]
    }
   ],
   "source": [
    "print(str(1) + \" plus \" + str(3) + \" is equal to \" + str(4))\n",
    "#slightly better\n",
    "print(1, \"plus\", 3, \"is equal to\", 1+3)"
   ]
  },
  {
   "cell_type": "code",
   "execution_count": 3,
   "metadata": {},
   "outputs": [
    {
     "output_type": "stream",
     "name": "stdout",
     "text": [
      "1 plus 3 is equal to 4\n1 plus 3 is equal to 4\n1 plus 3 is equal to 4\n"
     ]
    }
   ],
   "source": [
    "\n",
    "print(\"%i plus %i is equal to %i\" % (1, 3, 4))     # Format syntax\n",
    "\n",
    "print(\"{} plus {} is equal to {}\".format(1, 3, 4)) # Format method\n",
    "\n",
    "print(f\"{1} plus {3} is equal to {4}\")             # f-string\n",
    "\n"
   ]
  },
  {
   "cell_type": "code",
   "execution_count": 4,
   "metadata": {},
   "outputs": [
    {
     "output_type": "stream",
     "name": "stdout",
     "text": [
      "1.6 1.70 1.800\n1.6 1.70 1.800\n1.6 1.70 1.800\n"
     ]
    }
   ],
   "source": [
    "print(\"%.1f %.2f %.3f\" % (1.6, 1.7, 1.8))               # Old style\n",
    "print(\"{:.1f} {:.2f} {:.3f}\".format(1.6, 1.7, 1.8))     # newer style\n",
    "print(f\"{1.6:.1f} {1.7:.2f} {1.8:.3f}\")                 # f-string"
   ]
  },
  {
   "cell_type": "code",
   "execution_count": 5,
   "metadata": {},
   "outputs": [
    {
     "output_type": "stream",
     "name": "stdout",
     "text": [
      "water concatenated with melon produces watermelon\nwater concatenated with melon produces watermelon\nwater concatenated with melon produces watermelon\n"
     ]
    }
   ],
   "source": [
    "print(\"%s concatenated with %s produces %s\" % (\"water\", \"melon\", \"water\"+\"melon\"))\n",
    "print(\"{0} concatenated with {1} produces {0}{1}\".format(\"water\", \"melon\"))\n",
    "print(f\"{'water'} concatenated with {'melon'} produces {'water' + 'melon'}\")"
   ]
  },
  {
   "cell_type": "code",
   "execution_count": null,
   "metadata": {},
   "outputs": [],
   "source": [
    "##statements"
   ]
  },
  {
   "cell_type": "code",
   "execution_count": 6,
   "metadata": {},
   "outputs": [],
   "source": [
    "i = 5\n",
    "i = i+1    # This is a commong idiom to increment the value of i by one\n",
    "i += 1     # This is a short-hand for the above"
   ]
  },
  {
   "cell_type": "code",
   "execution_count": 7,
   "metadata": {},
   "outputs": [],
   "source": [
    "##loops"
   ]
  },
  {
   "cell_type": "code",
   "execution_count": 8,
   "metadata": {},
   "outputs": [
    {
     "output_type": "stream",
     "name": "stdout",
     "text": [
      "Square of 1 is 1\nSquare of 2 is 4\nSquare of 3 is 9\nSquare of 4 is 16\nSquare of 5 is 25\nSquare of 6 is 36\nSquare of 7 is 49\nSquare of 8 is 64\nSquare of 9 is 81\nSquare of 10 is 100\nSquare of 11 is 121\nSquare of 12 is 144\nSquare of 13 is 169\nSquare of 14 is 196\nSquare of 15 is 225\nSquare of 16 is 256\nSquare of 17 is 289\nSquare of 18 is 324\nSquare of 19 is 361\nSquare of 20 is 400\nSquare of 21 is 441\nSquare of 22 is 484\nSquare of 23 is 529\nSquare of 24 is 576\nSquare of 25 is 625\nSquare of 26 is 676\nSquare of 27 is 729\nSquare of 28 is 784\nSquare of 29 is 841\nSquare of 30 is 900\nSquare of 31 is 961\nFinished printing all the squares below 1000.\n"
     ]
    }
   ],
   "source": [
    "i=1\n",
    "while i*i < 1000:\n",
    "    print(\"Square of\", i, \"is\", i*i)\n",
    "    i = i + 1\n",
    "print(\"Finished printing all the squares below 1000.\")"
   ]
  },
  {
   "cell_type": "code",
   "execution_count": 9,
   "metadata": {},
   "outputs": [
    {
     "output_type": "stream",
     "name": "stdout",
     "text": [
      "The sum is 45\n"
     ]
    }
   ],
   "source": [
    "s=0\n",
    "for i in [0,1,2,3,4,5,6,7,8,9]:\n",
    "    s = s + i\n",
    "print(\"The sum is\", s)"
   ]
  },
  {
   "cell_type": "code",
   "execution_count": 62,
   "metadata": {},
   "outputs": [],
   "source": [
    "#exercise 4"
   ]
  },
  {
   "cell_type": "code",
   "execution_count": 61,
   "metadata": {},
   "outputs": [
    {
     "output_type": "stream",
     "name": "stdout",
     "text": [
      "   1    2    3    4    5    6    7    8    9   10 \n   2    4    6    8   10   12   14   16   18   20 \n   3    6    9   12   15   18   21   24   27   30 \n   4    8   12   16   20   24   28   32   36   40 \n   5   10   15   20   25   30   35   40   45   50 \n   6   12   18   24   30   36   42   48   54   60 \n   7   14   21   28   35   42   49   56   63   70 \n   8   16   24   32   40   48   56   64   72   80 \n   9   18   27   36   45   54   63   72   81   90 \n  10   20   30   40   50   60   70   80   90  100 \n"
     ]
    }
   ],
   "source": [
    "for i in [1,2,3,4,5,6,7,8,9,10]:\n",
    "    for s in [1,2,3,4,5,6,7,8,9,10]:\n",
    "        print('{:4d}'.format(i*s), end=' ')\n",
    "    print(end='\\n')"
   ]
  },
  {
   "cell_type": "code",
   "execution_count": null,
   "metadata": {},
   "outputs": [],
   "source": [
    "\n",
    "for i in [1,2,3,4,5,6,7,8,9,10]:\n",
    "    for s in [1,2,3,4,5,6,7,8,9,10]:\n",
    "        print('{:4d}'.format(i*s))\n",
    "    print(end='\\n')\n",
    "print(\"The sum is\", s)"
   ]
  },
  {
   "cell_type": "code",
   "execution_count": 53,
   "metadata": {},
   "outputs": [
    {
     "output_type": "stream",
     "name": "stdout",
     "text": [
      "1 2 3 4 5 6 7 8 9 10\n2 4 6 8 10 12 14 16 18 20\n3 6 9 12 15 18 21 24 27 30\n4 8 12 16 20 24 28 32 36 40\n5 10 15 20 25 30 35 40 45 50\n6 12 18 24 30 36 42 48 54 60\n7 14 21 28 35 42 49 56 63 70\n8 16 24 32 40 48 56 64 72 80\n9 18 27 36 45 54 63 72 81 90\n10 20 30 40 50 60 70 80 90 100\nThe sum is 10\n"
     ]
    }
   ],
   "source": [
    "for i in [1,2,3,4,5,6,7,8,9,10]:\n",
    "    print(i, i*2, i*3, i*4, i*5, i*6, i*7, i*8, i*9, i*10, end='\\n')\n",
    "print(\"The sum is\", s)"
   ]
  },
  {
   "cell_type": "code",
   "execution_count": 63,
   "metadata": {},
   "outputs": [
    {
     "output_type": "stream",
     "name": "stdout",
     "text": [
      "   1   2   3   4   5   6   7   8   9  10\n   2   4   6   8  10  12  14  16  18  20\n   3   6   9  12  15  18  21  24  27  30\n   4   8  12  16  20  24  28  32  36  40\n   5  10  15  20  25  30  35  40  45  50\n   6  12  18  24  30  36  42  48  54  60\n   7  14  21  28  35  42  49  56  63  70\n   8  16  24  32  40  48  56  64  72  80\n   9  18  27  36  45  54  63  72  81  90\n  10  20  30  40  50  60  70  80  90 100\n"
     ]
    }
   ],
   "source": [
    "    for r in range(1, 11):\n",
    "\n",
    "        for c in range(1, 11):\n",
    "\n",
    "            print(f\"{r*c:4d}\", end=\"\")\n",
    "\n",
    "        print()"
   ]
  },
  {
   "cell_type": "code",
   "execution_count": 1,
   "metadata": {},
   "outputs": [],
   "source": [
    "##Loops and repetitive tasks\n",
    "### decision making with the if statement\n"
   ]
  },
  {
   "cell_type": "code",
   "execution_count": 4,
   "metadata": {},
   "outputs": [
    {
     "output_type": "stream",
     "name": "stdout",
     "text": [
      "The absolute value of 2 is 2\n"
     ]
    }
   ],
   "source": [
    "x = input(\"Give an integer: \")\n",
    "x = int(x)\n",
    "\n",
    "if x >= 0:\n",
    "\ta = x\n",
    "else:\n",
    "\ta = -x\n",
    "print(\"The absolute value of %i is %i\" % (x, a))"
   ]
  },
  {
   "cell_type": "code",
   "execution_count": 5,
   "metadata": {},
   "outputs": [
    {
     "output_type": "stream",
     "name": "stdout",
     "text": [
      "c is negative\n"
     ]
    }
   ],
   "source": [
    "c = float(input(\"Give a number: \"))\n",
    "if c>0:\n",
    "\tprint(\"c is positive\")\n",
    "elif c<0:\n",
    "\tprint(\"c is negative\")\n",
    "else:\n",
    "\tprint(\"c es zero\")"
   ]
  },
  {
   "cell_type": "code",
   "execution_count": null,
   "metadata": {},
   "outputs": [],
   "source": [
    "###breaking and continuing the loop"
   ]
  },
  {
   "cell_type": "code",
   "execution_count": 6,
   "metadata": {},
   "outputs": [
    {
     "output_type": "stream",
     "name": "stdout",
     "text": [
      "the first negative element was -1\n"
     ]
    }
   ],
   "source": [
    "l = [1,3,65,3,-1,56,-10]\n",
    "for x in l:\n",
    "\tif x<0:\n",
    "\t\tbreak\n",
    "print(\"the first negative element was\", x)"
   ]
  },
  {
   "cell_type": "code",
   "execution_count": 7,
   "metadata": {},
   "outputs": [
    {
     "output_type": "stream",
     "name": "stdout",
     "text": [
      "Square root of 1 is 1.000\nNatural logarithm of 1 is 0.0000\nSquare root of 3 is 1.732\nNatural logarithm of 3 is 1.0986\nSquare root of 65 is 8.062\nNatural logarithm of 65 is 4.1744\nSquare root of 3 is 1.732\nNatural logarithm of 3 is 1.0986\nSquare root of 56 is 7.483\nNatural logarithm of 56 is 4.0254\n"
     ]
    }
   ],
   "source": [
    "from math import sqrt, log\n",
    "l = [1,3,65,3,-1,56,-10]\n",
    "\n",
    "for x in l:\n",
    "\tif x < 0:\n",
    "\t\tcontinue\n",
    "\tprint(f\"Square root of {x} is {sqrt(x):.3f}\")\n",
    "\tprint(f\"Natural logarithm of {x} is {log(x):.4f}\")\n",
    "    "
   ]
  },
  {
   "cell_type": "code",
   "execution_count": 9,
   "metadata": {},
   "outputs": [],
   "source": [
    "#exercise 5"
   ]
  },
  {
   "cell_type": "code",
   "execution_count": 5,
   "metadata": {},
   "outputs": [
    {
     "output_type": "stream",
     "name": "stdout",
     "text": [
      "1 plus 4 is equal to 5\n2 plus 3 is equal to 5\n3 plus 2 is equal to 5\n4 plus 1 is equal to 5\n"
     ]
    }
   ],
   "source": [
    "for a in range(1,6):\n",
    "    for b in range(1,6):\n",
    "        if a + b == 5:\n",
    "            print(a, \"plus\", b, \"is equal to\", a+b)\n",
    "        else:\n",
    "            continue            "
   ]
  },
  {
   "cell_type": "code",
   "execution_count": 11,
   "metadata": {},
   "outputs": [
    {
     "output_type": "stream",
     "name": "stdout",
     "text": [
      "this pair follows the condition: ( 1 , 4 )\nthis pair follows the condition: ( 2 , 3 )\nthis pair follows the condition: ( 3 , 2 )\nthis pair follows the condition: ( 4 , 1 )\n"
     ]
    }
   ],
   "source": [
    "for a in range(1,6):\n",
    "    for b in range(1,6):\n",
    "        if a + b == 5:\n",
    "            print(\"this pair follows the condition: (\", a,\",\", b,\")\")\n",
    "        else:\n",
    "            continue  "
   ]
  },
  {
   "cell_type": "code",
   "execution_count": 21,
   "metadata": {},
   "outputs": [
    {
     "output_type": "stream",
     "name": "stdout",
     "text": [
      "(1,4)\n(2,3)\n(3,2)\n(4,1)\n"
     ]
    }
   ],
   "source": [
    "for a in range(1,6):\n",
    "    for b in range(1,6):\n",
    "        if a + b == 5:\n",
    "            print('({:d},{:d})'.format(a,b))\n",
    "        else:\n",
    "            continue  "
   ]
  },
  {
   "cell_type": "code",
   "execution_count": 23,
   "metadata": {},
   "outputs": [],
   "source": [
    "## FUNCTIONS"
   ]
  },
  {
   "cell_type": "code",
   "execution_count": 22,
   "metadata": {},
   "outputs": [
    {
     "output_type": "stream",
     "name": "stdout",
     "text": [
      "8 2.4 abcabc\n"
     ]
    }
   ],
   "source": [
    "def double(x):\n",
    "\t\"this function multiplies its argument by two\"\n",
    "\treturn x*2\n",
    "print(double(4), double(1.2), double(\"abc\")) #It even happens to work for strings"
   ]
  },
  {
   "cell_type": "code",
   "execution_count": 24,
   "metadata": {},
   "outputs": [
    {
     "output_type": "stream",
     "name": "stdout",
     "text": [
      "The docstring is: this function multiplies its argument by two\nHelp on function double in module __main__:\n\ndouble(x)\n    this function multiplies its argument by two\n\n"
     ]
    }
   ],
   "source": [
    "print(\"The docstring is:\", double.__doc__)\n",
    "help(double) #Another way to access the docstring"
   ]
  },
  {
   "cell_type": "code",
   "execution_count": 25,
   "metadata": {},
   "outputs": [
    {
     "output_type": "stream",
     "name": "stdout",
     "text": [
      "Help on built-in function print in module builtins:\n\nprint(...)\n    print(value, ..., sep=' ', end='\\n', file=sys.stdout, flush=False)\n    \n    Prints the values to a stream, or to sys.stdout by default.\n    Optional keyword arguments:\n    file:  a file-like object (stream); defaults to the current sys.stdout.\n    sep:   string inserted between values, default a space.\n    end:   string appended after the last value, default a newline.\n    flush: whether to forcibly flush the stream.\n\n"
     ]
    }
   ],
   "source": [
    "help(print)"
   ]
  },
  {
   "cell_type": "code",
   "execution_count": 26,
   "metadata": {},
   "outputs": [
    {
     "output_type": "stream",
     "name": "stdout",
     "text": [
      "25\n"
     ]
    }
   ],
   "source": [
    "def sum_of_squares(a, b):\n",
    "\t\"computes the sum of arguments squared\"\n",
    "\treturn a**2 + b**2\n",
    "print(sum_of_squares(3,4))"
   ]
  },
  {
   "cell_type": "code",
   "execution_count": 27,
   "metadata": {},
   "outputs": [
    {
     "output_type": "stream",
     "name": "stdout",
     "text": [
      "4\n45\n"
     ]
    }
   ],
   "source": [
    "def sum_of_squares(lst):\n",
    "\t#computes the sum of squares of elements in the list given as a parameter\"\n",
    "\ts = 0\n",
    "\tfor x in lst:\n",
    "\t\ts += x**2\n",
    "\treturn s\n",
    "print(sum_of_squares([-2]))\n",
    "print(sum_of_squares([-2, 4, 5]))"
   ]
  },
  {
   "cell_type": "code",
   "execution_count": 28,
   "metadata": {},
   "outputs": [
    {
     "output_type": "stream",
     "name": "stdout",
     "text": [
      "4\n45\n"
     ]
    }
   ],
   "source": [
    "def sum_of_squares(*t):\n",
    "\t#computes the sum of squares of elements in the list given as a parameter\"\n",
    "\ts = 0\n",
    "\tfor x in t:\n",
    "\t\ts += x**2\n",
    "\treturn s\n",
    "print(sum_of_squares(-2))\n",
    "print(sum_of_squares(-2, 4, 5))"
   ]
  },
  {
   "cell_type": "code",
   "execution_count": 29,
   "metadata": {},
   "outputs": [
    {
     "output_type": "stream",
     "name": "stdout",
     "text": [
      "With list unpacked as arguments to the functions: 90\n"
     ]
    }
   ],
   "source": [
    "lst = [1,5,8]\n",
    "print(\"With list unpacked as arguments to the functions:\", sum_of_squares(*lst))"
   ]
  },
  {
   "cell_type": "code",
   "execution_count": 30,
   "metadata": {},
   "outputs": [
    {
     "output_type": "stream",
     "name": "stdout",
     "text": [
      "First: 5 Second: 8 Third: 7\n"
     ]
    }
   ],
   "source": [
    "def named(a, b, c):\n",
    "\tprint(\"First:\", a, \"Second:\", b, \"Third:\", c)\n",
    "named(5, c=7, b=8)"
   ]
  },
  {
   "cell_type": "code",
   "execution_count": 31,
   "metadata": {},
   "outputs": [
    {
     "output_type": "stream",
     "name": "stdout",
     "text": [
      "1 -*-2 -*-3 |first -*-second -*-third |"
     ]
    }
   ],
   "source": [
    "print(1,2,3, end=' |', sep=' -*-')\n",
    "print(\"first\", \"second\", \"third\", end=' |', sep=' -*-')"
   ]
  },
  {
   "cell_type": "code",
   "execution_count": 33,
   "metadata": {},
   "outputs": [
    {
     "output_type": "stream",
     "name": "stdout",
     "text": [
      "5.0\n4.497941445275415\n"
     ]
    }
   ],
   "source": [
    "def length(*t, degree=2):\n",
    "\t\"\"\"Computes the length of the vector given as parameter. By default, it computes the Euclidean distance (degree == 2)\"\"\"\n",
    "\ts=0\n",
    "\tfor x in t:\n",
    "\t\ts += abs(x)**degree\n",
    "\treturn s**(1/degree)\n",
    "print(length(-4,3))\n",
    "print(length(-4,3,degree=3))"
   ]
  },
  {
   "cell_type": "code",
   "execution_count": 34,
   "metadata": {},
   "outputs": [],
   "source": [
    "### visibility of variables"
   ]
  },
  {
   "cell_type": "code",
   "execution_count": 35,
   "metadata": {},
   "outputs": [
    {
     "output_type": "stream",
     "name": "stdout",
     "text": [
      "3\n2\n"
     ]
    }
   ],
   "source": [
    "i=2 #global variable\n",
    "def f():\n",
    "\ti=3 #this creates a new variable, it does not rebind the global i\n",
    "\tprint(i) #this will print 3\n",
    "f()\n",
    "print(i) #this will print 2"
   ]
  },
  {
   "cell_type": "code",
   "execution_count": 36,
   "metadata": {},
   "outputs": [
    {
     "output_type": "stream",
     "name": "stdout",
     "text": [
      "5\n5\n"
     ]
    }
   ],
   "source": [
    "i = 2\n",
    "def f():\n",
    "\tglobal i\n",
    "\ti=5 #rebind the global i variable\n",
    "\tprint(i) #this will print 5\n",
    "f()\n",
    "print(i) #this will print 5"
   ]
  },
  {
   "cell_type": "code",
   "execution_count": 38,
   "metadata": {},
   "outputs": [
    {
     "output_type": "stream",
     "name": "stdout",
     "text": [
      "3\n3\n"
     ]
    }
   ],
   "source": [
    "def f(): #outer function\n",
    "\tb=2\n",
    "\tdef g(): #inner function\n",
    "\t\tnonlocal b #withoult ths nonlocal statement,\n",
    "\t\tb=3 #this will vreate a new local variable\n",
    "\t\tprint(b)\n",
    "\tg()\n",
    "\tprint(b)\n",
    "f()"
   ]
  },
  {
   "cell_type": "code",
   "execution_count": null,
   "metadata": {},
   "outputs": [],
   "source": [
    "#example 6"
   ]
  },
  {
   "cell_type": "code",
   "execution_count": 114,
   "metadata": {},
   "outputs": [
    {
     "output_type": "stream",
     "name": "stdout",
     "text": [
      "15\n25\n"
     ]
    }
   ],
   "source": [
    "a=5\n",
    "def triple(a):\n",
    "\t\"computes the triple of a number\"\n",
    "\treturn a*3\n",
    "print(triple(a))\n",
    "\n",
    "def square(a):\n",
    "    \"computes the square of a number\"\n",
    "    return a**2\n",
    "print(square(a))"
   ]
  },
  {
   "cell_type": "code",
   "execution_count": 51,
   "metadata": {},
   "outputs": [
    {
     "output_type": "stream",
     "name": "stdout",
     "text": [
      "triple(1) == 3 square(1) == 1\ntriple(2) == 6 square(2) == 4\ntriple(3) == 9 square(3) == 9\ntriple(4) == 12 square(4) == 16\ntriple(5) == 15 square(5) == 25\ntriple(6) == 18 square(6) == 36\ntriple(7) == 21 square(7) == 49\ntriple(8) == 24 square(8) == 64\ntriple(9) == 27 square(9) == 81\n"
     ]
    }
   ],
   "source": [
    "##part1\n",
    "for a in range(1,10):\n",
    "    print(f\"triple({a}) == {triple(a):d} square({a}) == {square(a):d}\")"
   ]
  },
  {
   "cell_type": "code",
   "execution_count": 185,
   "metadata": {},
   "outputs": [
    {
     "output_type": "stream",
     "name": "stdout",
     "text": [
      "triple(1)==3 square(1)==1\ntriple(2)==6 square(2)==4\ntriple(3)==9 square(3)==9\n"
     ]
    }
   ],
   "source": [
    "##part2\n",
    "def triple(a):\n",
    "\t\"computes the triple of a number\"\n",
    "\treturn a*3\n",
    "\n",
    "def square(a):\n",
    "    \"computes the square of a number\"\n",
    "    return a**2\n",
    "\n",
    "for a in range(1,10):\n",
    "    x = triple(a)\n",
    "    y = square(a)\n",
    "    if x < y:\n",
    "        break\n",
    "    print(f\"triple({a})=={x:d} square({a})=={y:d}\")  \n",
    "\n",
    "    "
   ]
  },
  {
   "cell_type": "code",
   "execution_count": 186,
   "metadata": {},
   "outputs": [],
   "source": [
    "#example 7"
   ]
  },
  {
   "source": [
    "import math\n",
    "#while True:\n",
    "    shape = input(\"Choose a shape (triangle, rectangle, circle: \")\n",
    "        #\"\"\"calculate area of a triangle, renctangle or a circle\"\"\"\n",
    "        if shape == 'triangle':\n",
    "            base = float(input(\"Give base of the triangle: \"))\n",
    "            height = float(input(\"Give the height of the triangle:\"))\n",
    "            t_area = float(base*height/2)\n",
    "            print(\"The area is {:.6f}\".format({t_area}))\n",
    "        elif shape == 'rectangle':\n",
    "            base = float(input(\"Give base of the renctangle: \"))\n",
    "            height = float(input(\"Give the height of the renctangle:\"))\n",
    "            r_area = float(base*height)\n",
    "            print(\"The area is {:.6f}\".format({r_area}))\n",
    "        elif shape == 'circle':\n",
    "            radius = float(input(\"Give radius of the circle: \"))\n",
    "            c_area = float(math.pi*radius ** 2)\n",
    "            print(\"The area is {:.6f}\".format({c_area}))"
   ],
   "cell_type": "code",
   "metadata": {},
   "execution_count": 241,
   "outputs": [
    {
     "output_type": "error",
     "ename": "IndentationError",
     "evalue": "unexpected indent (<ipython-input-241-4da67e4296b4>, line 3)",
     "traceback": [
      "\u001b[1;36m  File \u001b[1;32m\"<ipython-input-241-4da67e4296b4>\"\u001b[1;36m, line \u001b[1;32m3\u001b[0m\n\u001b[1;33m    shape = input(\"Choose a shape (triangle, rectangle, circle: \")\u001b[0m\n\u001b[1;37m    ^\u001b[0m\n\u001b[1;31mIndentationError\u001b[0m\u001b[1;31m:\u001b[0m unexpected indent\n"
     ]
    }
   ]
  },
  {
   "cell_type": "code",
   "execution_count": 243,
   "metadata": {},
   "outputs": [
    {
     "output_type": "stream",
     "name": "stdout",
     "text": [
      "The area is: 12.000000\n"
     ]
    }
   ],
   "source": [
    "    while True:\n",
    "        shape = input(\"Choose a shape (triangle, rectangle, circle): \")\n",
    "        if (shape==\"triangle\"):\n",
    "            triangle()\n",
    "        elif (shape==\"rectangle\"):\n",
    "            rectangle()\n",
    "        elif (shape==\"circle\"):\n",
    "            circle()\n",
    "        elif (shape==\"\"):\n",
    "            break\n",
    "        else:\n",
    "            print(\"Unknown shape!\")"
   ]
  },
  {
   "cell_type": "code",
   "execution_count": 242,
   "metadata": {},
   "outputs": [],
   "source": [
    "def triangle():\n",
    "    base = int(input(\"Give base of the triangle: \"))\n",
    "    height = int(input(\"Give height of the triangle: \"))\n",
    "    area = base * height / 2\n",
    "    print(f\"The area is {area:.6f}\")\n",
    "\n",
    " def rectangle():\n",
    "    base = int(input(\"Give base of the rectangle: \"))\n",
    "    height = int(input(\"Give height of the rectangle: \"))\n",
    "    area = base * height\n",
    "    print(f\"The area is {area:.6f}\")\n",
    " \n",
    "def circle():\n",
    "    r = int(input(\"Give radius of the circle: \"))\n",
    "    area = math.pi * (r * r)\n",
    "    print(f\"The area is {area:.6f}\")"
   ]
  },
  {
   "cell_type": "code",
   "execution_count": 2,
   "metadata": {},
   "outputs": [],
   "source": [
    "## DATA STRUCTURES\n",
    "### Sequences"
   ]
  },
  {
   "cell_type": "code",
   "execution_count": 3,
   "metadata": {},
   "outputs": [
    {
     "output_type": "execute_result",
     "data": {
      "text/plain": [
       "[2, 100, 'hello', 1.0]"
      ]
     },
     "metadata": {},
     "execution_count": 3
    }
   ],
   "source": [
    "[2, 100, \"hello\", 1.0]"
   ]
  },
  {
   "cell_type": "code",
   "execution_count": 4,
   "metadata": {},
   "outputs": [
    {
     "output_type": "execute_result",
     "data": {
      "text/plain": [
       "(1, 'hello', 1.0)"
      ]
     },
     "metadata": {},
     "execution_count": 4
    }
   ],
   "source": [
    "(3,) #a singleton\n",
    "(1,3) #a pair\n",
    "(1, \"hello\", 1.0) #a triple"
   ]
  },
  {
   "cell_type": "code",
   "execution_count": 5,
   "metadata": {},
   "outputs": [
    {
     "output_type": "execute_result",
     "data": {
      "text/plain": [
       "'bcd'"
      ]
     },
     "metadata": {},
     "execution_count": 5
    }
   ],
   "source": [
    "s = \"abcdfgh\"\n",
    "s[1:4]"
   ]
  },
  {
   "cell_type": "code",
   "execution_count": 6,
   "metadata": {},
   "outputs": [
    {
     "output_type": "stream",
     "name": "stdout",
     "text": [
      "[0, 3, 6, 9]\n"
     ]
    }
   ],
   "source": [
    "print([0,1,2,3,4,5,6,7,8,9][::3])"
   ]
  },
  {
   "cell_type": "code",
   "execution_count": 30,
   "metadata": {},
   "outputs": [],
   "source": [
    "\n",
    "from math import sqrt\n",
    "\n",
    "def solve_quadratic(a, b, c):\n",
    "    discriminant = (b**2) - (4*a*c)\n",
    "    result1 = (-b + sqrt(discriminant)) / (2*a)\n",
    "    result2 = (-b - sqrt(discriminant)) / (2*a)\n",
    "    return (result1,result2)\n",
    "    #print(f\"({result1:.1f},{result1:.1f})\")"
   ]
  },
  {
   "cell_type": "code",
   "execution_count": 34,
   "metadata": {},
   "outputs": [
    {
     "output_type": "stream",
     "name": "stdout",
     "text": [
      "(2.8228756555322954, 0.17712434446770464)\n"
     ]
    },
    {
     "output_type": "execute_result",
     "data": {
      "text/plain": [
       "tuple"
      ]
     },
     "metadata": {},
     "execution_count": 34
    }
   ],
   "source": [
    "print(solve_quadratic(1,-3,2))\n",
    "type(solve_quadratic(1,2,3))"
   ]
  },
  {
   "cell_type": "code",
   "execution_count": null,
   "metadata": {},
   "outputs": [],
   "source": [
    "### modifying lists"
   ]
  },
  {
   "cell_type": "code",
   "execution_count": 35,
   "metadata": {},
   "outputs": [
    {
     "output_type": "stream",
     "name": "stdout",
     "text": [
      "[11, 13, 10, 32]\n"
     ]
    }
   ],
   "source": [
    "\n",
    "L=[11,13,22,32]\n",
    "L[2]=10          # Changes the third element\n",
    "print(L)\n",
    "\n"
   ]
  },
  {
   "cell_type": "code",
   "execution_count": 36,
   "metadata": {},
   "outputs": [
    {
     "output_type": "stream",
     "name": "stdout",
     "text": [
      "[11, 4, 32]\n"
     ]
    }
   ],
   "source": [
    "L[1:3]=[4]\n",
    "print(L)"
   ]
  },
  {
   "cell_type": "code",
   "execution_count": null,
   "metadata": {},
   "outputs": [],
   "source": [
    "### generating numerical sequences"
   ]
  },
  {
   "cell_type": "code",
   "execution_count": 37,
   "metadata": {},
   "outputs": [
    {
     "output_type": "stream",
     "name": "stdout",
     "text": [
      "0\n1\n2\nrange(0, 3)\n"
     ]
    }
   ],
   "source": [
    "L=range(3)\n",
    "for i in L:\n",
    "    print(i)\n",
    "# Note that L is not a list!\n",
    "print(L)"
   ]
  },
  {
   "cell_type": "code",
   "execution_count": 38,
   "metadata": {},
   "outputs": [
    {
     "output_type": "stream",
     "name": "stdout",
     "text": [
      "[0, 1, 2, 3, 4, 5, 6, 7, 8, 9]\n"
     ]
    }
   ],
   "source": [
    "L = range(10)\n",
    "print(list(L))"
   ]
  },
  {
   "cell_type": "code",
   "execution_count": 39,
   "metadata": {},
   "outputs": [
    {
     "output_type": "stream",
     "name": "stdout",
     "text": [
      "[0, 2, 4, 6]\n"
     ]
    }
   ],
   "source": [
    "print(list(range(0,7,2)))"
   ]
  },
  {
   "cell_type": "code",
   "execution_count": null,
   "metadata": {},
   "outputs": [],
   "source": [
    "### sorting sequences"
   ]
  },
  {
   "cell_type": "code",
   "execution_count": 40,
   "metadata": {},
   "outputs": [
    {
     "output_type": "stream",
     "name": "stdout",
     "text": [
      "[1, 3, 5, 7]\n[1, 3, 6, 6, 7]\n[6, 1, 7, 3, 6]\n"
     ]
    }
   ],
   "source": [
    "L=[5,3,7,1]\n",
    "L.sort() #here we call the sort method of the object L\n",
    "print(L)\n",
    "L2=[6,1,7,3,6]\n",
    "print(sorted(L2))\n",
    "print(L2)"
   ]
  },
  {
   "cell_type": "code",
   "execution_count": null,
   "metadata": {},
   "outputs": [],
   "source": [
    "L=[5,3,7,1]\n",
    "print(sorted(L, reverse = True))"
   ]
  },
  {
   "cell_type": "code",
   "execution_count": 43,
   "metadata": {},
   "outputs": [],
   "source": [
    "#exercise9"
   ]
  },
  {
   "cell_type": "code",
   "execution_count": 354,
   "metadata": {},
   "outputs": [],
   "source": [
    "def merge(L1, L2):\n",
    "    L =[]\n",
    "    res = list()  \n",
    "    while L:\n",
    "        temp = L[0]\n",
    "        for items in L:\n",
    "            if temp > items:\n",
    "                temp = items\n",
    "        res.append(temp)\n",
    "        L.remove(temp)\n",
    "    L = L1 + L2\n",
    "    #L = list(set(L))\n",
    "    return L"
   ]
  },
  {
   "cell_type": "code",
   "execution_count": 391,
   "metadata": {},
   "outputs": [],
   "source": [
    "#the idea is to traverse/loop through both of the lists simultaneously and build the return list while doing so\n",
    "def merge(L1, L2):\n",
    "    L=[]\n",
    "    for i in zip(L1, L2):\n",
    "        if L1[i] == L2[i]:\n",
    "            L.append(L1[i])\n",
    "        elif L1[i] != L2[i]:\n",
    "            L.append(L1[i])\n",
    "            L.append(L2[i])\n",
    "    #L = list(set(L))\n",
    "    return L"
   ]
  },
  {
   "cell_type": "code",
   "execution_count": 392,
   "metadata": {},
   "outputs": [
    {
     "output_type": "error",
     "ename": "TypeError",
     "evalue": "list indices must be integers or slices, not tuple",
     "traceback": [
      "\u001b[1;31m---------------------------------------------------------------------------\u001b[0m",
      "\u001b[1;31mTypeError\u001b[0m                                 Traceback (most recent call last)",
      "\u001b[1;32m<ipython-input-392-f1ee064ff331>\u001b[0m in \u001b[0;36m<module>\u001b[1;34m\u001b[0m\n\u001b[0;32m      2\u001b[0m \u001b[0mL2\u001b[0m \u001b[1;33m=\u001b[0m \u001b[1;33m[\u001b[0m\u001b[1;33m-\u001b[0m\u001b[1;36m90\u001b[0m\u001b[1;33m,\u001b[0m \u001b[1;33m-\u001b[0m\u001b[1;36m63\u001b[0m\u001b[1;33m,\u001b[0m \u001b[1;33m-\u001b[0m\u001b[1;36m26\u001b[0m\u001b[1;33m,\u001b[0m \u001b[1;33m-\u001b[0m\u001b[1;36m3\u001b[0m\u001b[1;33m,\u001b[0m \u001b[1;36m12\u001b[0m\u001b[1;33m,\u001b[0m \u001b[1;36m30\u001b[0m\u001b[1;33m,\u001b[0m \u001b[1;36m34\u001b[0m\u001b[1;33m,\u001b[0m \u001b[1;36m47\u001b[0m\u001b[1;33m,\u001b[0m \u001b[1;36m48\u001b[0m\u001b[1;33m,\u001b[0m \u001b[1;36m67\u001b[0m\u001b[1;33m]\u001b[0m\u001b[1;33m\u001b[0m\u001b[1;33m\u001b[0m\u001b[0m\n\u001b[0;32m      3\u001b[0m \u001b[1;31m#list_ = sorted(merge(L1,L2))\u001b[0m\u001b[1;33m\u001b[0m\u001b[1;33m\u001b[0m\u001b[1;33m\u001b[0m\u001b[0m\n\u001b[1;32m----> 4\u001b[1;33m \u001b[0mmerge\u001b[0m\u001b[1;33m(\u001b[0m\u001b[0mL1\u001b[0m\u001b[1;33m,\u001b[0m\u001b[0mL2\u001b[0m\u001b[1;33m)\u001b[0m\u001b[1;33m\u001b[0m\u001b[1;33m\u001b[0m\u001b[0m\n\u001b[0m\u001b[0;32m      5\u001b[0m \u001b[1;31m#len(L1) + len(L2)\u001b[0m\u001b[1;33m\u001b[0m\u001b[1;33m\u001b[0m\u001b[1;33m\u001b[0m\u001b[0m\n\u001b[0;32m      6\u001b[0m \u001b[1;31m#len(merge(L1,L2))\u001b[0m\u001b[1;33m\u001b[0m\u001b[1;33m\u001b[0m\u001b[1;33m\u001b[0m\u001b[0m\n",
      "\u001b[1;32m<ipython-input-391-30595f0f116a>\u001b[0m in \u001b[0;36mmerge\u001b[1;34m(L1, L2)\u001b[0m\n\u001b[0;32m      3\u001b[0m     \u001b[0mL\u001b[0m\u001b[1;33m=\u001b[0m\u001b[1;33m[\u001b[0m\u001b[1;33m]\u001b[0m\u001b[1;33m\u001b[0m\u001b[1;33m\u001b[0m\u001b[0m\n\u001b[0;32m      4\u001b[0m     \u001b[1;32mfor\u001b[0m \u001b[0mi\u001b[0m \u001b[1;32min\u001b[0m \u001b[0mzip\u001b[0m\u001b[1;33m(\u001b[0m\u001b[0mL1\u001b[0m\u001b[1;33m,\u001b[0m \u001b[0mL2\u001b[0m\u001b[1;33m)\u001b[0m\u001b[1;33m:\u001b[0m\u001b[1;33m\u001b[0m\u001b[1;33m\u001b[0m\u001b[0m\n\u001b[1;32m----> 5\u001b[1;33m         \u001b[1;32mif\u001b[0m \u001b[0mL1\u001b[0m\u001b[1;33m[\u001b[0m\u001b[0mi\u001b[0m\u001b[1;33m]\u001b[0m \u001b[1;33m==\u001b[0m \u001b[0mL2\u001b[0m\u001b[1;33m[\u001b[0m\u001b[0mi\u001b[0m\u001b[1;33m]\u001b[0m\u001b[1;33m:\u001b[0m\u001b[1;33m\u001b[0m\u001b[1;33m\u001b[0m\u001b[0m\n\u001b[0m\u001b[0;32m      6\u001b[0m             \u001b[0mL\u001b[0m\u001b[1;33m.\u001b[0m\u001b[0mappend\u001b[0m\u001b[1;33m(\u001b[0m\u001b[0mL1\u001b[0m\u001b[1;33m[\u001b[0m\u001b[0mi\u001b[0m\u001b[1;33m]\u001b[0m\u001b[1;33m)\u001b[0m\u001b[1;33m\u001b[0m\u001b[1;33m\u001b[0m\u001b[0m\n\u001b[0;32m      7\u001b[0m         \u001b[1;32melif\u001b[0m \u001b[0mL1\u001b[0m\u001b[1;33m[\u001b[0m\u001b[0mi\u001b[0m\u001b[1;33m]\u001b[0m \u001b[1;33m!=\u001b[0m \u001b[0mL2\u001b[0m\u001b[1;33m[\u001b[0m\u001b[0mi\u001b[0m\u001b[1;33m]\u001b[0m\u001b[1;33m:\u001b[0m\u001b[1;33m\u001b[0m\u001b[1;33m\u001b[0m\u001b[0m\n",
      "\u001b[1;31mTypeError\u001b[0m: list indices must be integers or slices, not tuple"
     ]
    }
   ],
   "source": [
    "L1 = [-78, -75, -73, -72, -64, -47, -39, -34, -7, 43, 45, 56, 58, 59, 60, 63, 85, 85, 91, 92]\n",
    "L2 = [-90, -63, -26, -3, 12, 30, 34, 47, 48, 67]\n",
    "#list_ = sorted(merge(L1,L2))\n",
    "merge(L1,L2)\n",
    "#len(L1) + len(L2)\n",
    "#len(merge(L1,L2))\n",
    "#print(list_)"
   ]
  },
  {
   "cell_type": "code",
   "execution_count": 386,
   "metadata": {},
   "outputs": [],
   "source": [
    "def merge(L1, L2):\n",
    "    L =[]\n",
    "    L = L1 + L2\n",
    "    #L = list(set(L))\n",
    "    return L"
   ]
  },
  {
   "cell_type": "code",
   "execution_count": 356,
   "metadata": {},
   "outputs": [],
   "source": [
    "def merge(L1,L2):\n",
    "    for item in L2:\n",
    "        L1.append(item)\n",
    "        return L1"
   ]
  },
  {
   "cell_type": "code",
   "execution_count": 202,
   "metadata": {},
   "outputs": [
    {
     "output_type": "execute_result",
     "data": {
      "text/plain": [
       "False"
      ]
     },
     "metadata": {},
     "execution_count": 202
    }
   ],
   "source": [
    "len(list_) == len(L1) + len(L2)\n",
    "#len(L1) + len(L2)\n",
    "#len(list_)"
   ]
  },
  {
   "cell_type": "code",
   "execution_count": 341,
   "metadata": {},
   "outputs": [],
   "source": [
    "def merge(L1, L2):\n",
    "    L = []\n",
    "    res = list()  \n",
    "    while L:\n",
    "        temp = L[0]\n",
    "        for items in L:\n",
    "            if temp > items:\n",
    "                temp = items\n",
    "        res.append(temp)\n",
    "        L.remove(temp)\n",
    "    L = L1 + L2\n",
    "    L = list(set(L))\n",
    "    return L"
   ]
  },
  {
   "cell_type": "code",
   "execution_count": null,
   "metadata": {},
   "outputs": [],
   "source": [
    "# exercise 10: detect_ranges"
   ]
  },
  {
   "cell_type": "code",
   "execution_count": 204,
   "metadata": {},
   "outputs": [],
   "source": [
    "\n",
    "import numpy as np\n",
    "def detect_ranges(L):\n",
    "    L = sorted(L)\n",
    "    sequences =  np.split(L, np.array(np.where(np.diff(L) > 1)[0]) + 1)\n",
    "    M = []\n",
    "    for s in sequences:\n",
    "        if len(s)>1:\n",
    "            M.append((np.min(s),np.max(s)+1))\n",
    "        else:\n",
    "            M.append(s[0])\n",
    "    return M"
   ]
  },
  {
   "cell_type": "code",
   "execution_count": 207,
   "metadata": {},
   "outputs": [
    {
     "output_type": "stream",
     "name": "stdout",
     "text": [
      "[3.0, (6.2, 8.0), 89.0]\n"
     ]
    }
   ],
   "source": [
    "print(detect_ranges([3,6.2,89,7]))"
   ]
  },
  {
   "cell_type": "code",
   "execution_count": 213,
   "metadata": {},
   "outputs": [],
   "source": [
    "###zipping sequences"
   ]
  },
  {
   "cell_type": "code",
   "execution_count": 214,
   "metadata": {},
   "outputs": [
    {
     "output_type": "stream",
     "name": "stdout",
     "text": [
      "<zip object at 0x0000016C8FE54788>\n[(1, 'first'), (2, 'second'), (3, 'third')]\n"
     ]
    }
   ],
   "source": [
    "L1=[1,2,3]\n",
    "L2=[\"first\",\"second\",\"third\"]\n",
    "print(zip(L1,L2)) #Note that zip does not return a list, like range\n",
    "print(list(zip(L1, L2)))"
   ]
  },
  {
   "cell_type": "code",
   "execution_count": 281,
   "metadata": {},
   "outputs": [],
   "source": [
    "def interleave(*lists):\n",
    "    for x in enumerate(lists):\n",
    "        [i[x] for i in lists]\n",
    "    return [i]"
   ]
  },
  {
   "cell_type": "code",
   "execution_count": null,
   "metadata": {},
   "outputs": [],
   "source": [
    "#exercise 11"
   ]
  },
  {
   "cell_type": "code",
   "execution_count": 339,
   "metadata": {},
   "outputs": [],
   "source": [
    "def interleave(*lists):\n",
    "    L = []\n",
    "    for x in zip(*lists):\n",
    "        L.extend([*x])\n",
    "    return L"
   ]
  },
  {
   "cell_type": "code",
   "execution_count": 340,
   "metadata": {},
   "outputs": [
    {
     "output_type": "stream",
     "name": "stdout",
     "text": [
      "[1, 20, 'a', 2, 30, 'b', 3, 40, 'c']\n"
     ]
    }
   ],
   "source": [
    "print(interleave([1, 2, 3], [20, 30, 40], ['a', 'b', 'c']))\n",
    "res = interleave([1, 2, 3], [20, 30, 40], ['a', 'b', 'c'])"
   ]
  },
  {
   "cell_type": "code",
   "execution_count": 1,
   "metadata": {},
   "outputs": [],
   "source": [
    "### enumerating sequences"
   ]
  },
  {
   "cell_type": "code",
   "execution_count": 2,
   "metadata": {},
   "outputs": [
    {
     "output_type": "stream",
     "name": "stdout",
     "text": [
      "7\n"
     ]
    }
   ],
   "source": [
    "L=[1,2,98,5,-1,2,0,5,10]\n",
    "counter = 0\n",
    "for i, x in enumerate(L):\n",
    "    if x == 5:\n",
    "        counter += 1\n",
    "        if counter == 2:\n",
    "            break\n",
    "print(i)"
   ]
  },
  {
   "cell_type": "code",
   "execution_count": 3,
   "metadata": {},
   "outputs": [],
   "source": [
    "### dictionaries"
   ]
  },
  {
   "cell_type": "code",
   "execution_count": 4,
   "metadata": {},
   "outputs": [
    {
     "output_type": "stream",
     "name": "stdout",
     "text": [
      "value1\nvalue2\n"
     ]
    }
   ],
   "source": [
    "d={\"key1\":\"value1\", \"key2\":\"value2\"}\n",
    "print(d[\"key1\"])\n",
    "print(d[\"key2\"])"
   ]
  },
  {
   "cell_type": "code",
   "execution_count": 5,
   "metadata": {},
   "outputs": [],
   "source": [
    "dict([(\"key1\", \"value1\"), (\"key2\", \"value2\"), (\"key3\", \"value3\")]) # list of items\n",
    "dict(key1=\"value1\", key2=\"value2\", key3=\"value3\");"
   ]
  },
  {
   "cell_type": "code",
   "execution_count": 6,
   "metadata": {},
   "outputs": [
    {
     "output_type": "stream",
     "name": "stdout",
     "text": [
      "{1}\n{1, 2, 'a'}\nset()\n{7}\n"
     ]
    }
   ],
   "source": [
    "s={1,1,1}\n",
    "print(s)\n",
    "s=set([1,2,2,'a'])\n",
    "print(s)\n",
    "s=set() #empty set\n",
    "print(s)\n",
    "s.add(7)\n",
    "print(s)"
   ]
  },
  {
   "cell_type": "code",
   "execution_count": 7,
   "metadata": {},
   "outputs": [
    {
     "output_type": "stream",
     "name": "stdout",
     "text": [
      "There are 4 distinct characters in mississippi\n"
     ]
    }
   ],
   "source": [
    "s=\"mississippi\"\n",
    "print(f\"There are {len(set(s))} distinct characters in {s}\")"
   ]
  },
  {
   "cell_type": "code",
   "execution_count": 9,
   "metadata": {},
   "outputs": [
    {
     "output_type": "stream",
     "name": "stdout",
     "text": [
      "Union: {1, 2, 7, 8, 9}\nIntersection: {2}\nDifference: {1, 7}\nSymmetric difference: {1, 7, 8, 9}\n"
     ]
    }
   ],
   "source": [
    "s=set([1,2,7])\n",
    "t=set([2,8,9])\n",
    "print(\"Union:\", s|t)\n",
    "print(\"Intersection:\", s&t)\n",
    "print(\"Difference:\", s-t)\n",
    "print(\"Symmetric difference:\", s^t)"
   ]
  },
  {
   "cell_type": "code",
   "execution_count": null,
   "metadata": {},
   "outputs": [],
   "source": [
    "# exercise 12"
   ]
  },
  {
   "cell_type": "code",
   "execution_count": 39,
   "metadata": {},
   "outputs": [],
   "source": [
    "def distinct_characters(L):\n",
    "    new_dict = {}\n",
    "    for i, value in enumerate(L):\n",
    "        length = len(set(value))\n",
    "        new_dict[value] = length\n",
    "        i +=1\n",
    "    return new_dict"
   ]
  },
  {
   "cell_type": "code",
   "execution_count": 34,
   "metadata": {},
   "outputs": [
    {
     "output_type": "stream",
     "name": "stdout",
     "text": [
      "President 1: check\nPresident 2: look\nPresident 3: try\nPresident 4: pop\n"
     ]
    }
   ],
   "source": [
    "enumerate(hola)\n",
    "for num, name in enumerate(hola, start=1):\n",
    "    print(\"President {}: {}\".format(num, name))\n"
   ]
  },
  {
   "cell_type": "code",
   "execution_count": 40,
   "metadata": {},
   "outputs": [
    {
     "output_type": "stream",
     "name": "stdout",
     "text": [
      "{'check': 4, 'look': 3, 'try': 3, 'pop': 2}\nThere are 3 distinct characters in ['check', 'look', 'try', 'pop']\n"
     ]
    }
   ],
   "source": [
    "print(distinct_characters([\"check\", \"look\", \"try\", \"pop\"]))\n",
    "\n",
    "hola = [\"check\", \"look\", \"try\", \"pop\"]\n",
    "print(f\"There are {len(set(hola[1]))} distinct characters in {hola}\")"
   ]
  },
  {
   "cell_type": "code",
   "execution_count": 1,
   "metadata": {},
   "outputs": [],
   "source": [
    "###miscelleaneous stuff"
   ]
  },
  {
   "cell_type": "code",
   "execution_count": 2,
   "metadata": {},
   "outputs": [
    {
     "output_type": "stream",
     "name": "stdout",
     "text": [
      "True\nTrue\nFalse\nTrue\n"
     ]
    }
   ],
   "source": [
    "print(1 in [1,2])\n",
    "d=dict(a=1, b=3)\n",
    "print(\"b\" in d)\n",
    "s=set()\n",
    "print(1 in s)\n",
    "print(\"x\" in \"text\")"
   ]
  },
  {
   "cell_type": "code",
   "execution_count": 3,
   "metadata": {},
   "outputs": [
    {
     "output_type": "stream",
     "name": "stdout",
     "text": [
      "e\na b\n"
     ]
    }
   ],
   "source": [
    "first, second = [4,5]\n",
    "a,b,c = \"bye\"\n",
    "print(c)\n",
    "d=dict(a=1,b=3)\n",
    "key1, key2 = d\n",
    "print(key1,key2)"
   ]
  },
  {
   "cell_type": "code",
   "execution_count": 6,
   "metadata": {},
   "outputs": [
    {
     "output_type": "stream",
     "name": "stdout",
     "text": [
      "For key 'a' value 1 was stored\nFor key 'b' value 3 was stored\n"
     ]
    }
   ],
   "source": [
    "for key, value in d.items():\n",
    "\tprint(f\"For key '{key}' value {value} was stored\")"
   ]
  },
  {
   "cell_type": "code",
   "execution_count": 97,
   "metadata": {},
   "outputs": [],
   "source": [
    "s=\"hello\"\n",
    "del s\n",
    "#print(s) #this would rise an error"
   ]
  },
  {
   "cell_type": "code",
   "execution_count": 9,
   "metadata": {},
   "outputs": [],
   "source": [
    "##exercise 13"
   ]
  },
  {
   "cell_type": "code",
   "execution_count": 284,
   "metadata": {},
   "outputs": [],
   "source": [
    "#funciona menos por las lsitas \n",
    "def reverse_dictionary(d):\n",
    "    newdict = {}\n",
    "    for key, value in d.items():\n",
    "        for string in value:\n",
    "            newdict.setdefault(string, []).append(key)\n",
    "    return newdict"
   ]
  },
  {
   "cell_type": "code",
   "execution_count": 195,
   "metadata": {},
   "outputs": [
    {
     "output_type": "stream",
     "name": "stdout",
     "text": [
      "{'liikuttaa': 'move'}\n{'piilottaa': 'hide'}\n{'piilottaa': 'hide', 'salata': 'hide'}\n{'kuusi': 'six'}\n{'kuusi': 'fir'}\n"
     ]
    }
   ],
   "source": [
    "#pilla bien las listas pero no los values\n",
    "for k, values in d.items():\n",
    "     reverse_index = {}\n",
    "     for v in values:\n",
    "         reverse_index[v] = k\n",
    "         print(reverse_index)"
   ]
  },
  {
   "cell_type": "code",
   "execution_count": 294,
   "metadata": {},
   "outputs": [],
   "source": [
    "def reverse_dictionary(d):\n",
    "    reverse_index = {}\n",
    "    for keys, values in d.items():\n",
    "        for v in values:\n",
    "            for k in keys:\n",
    "                if len(k)>1:\n",
    "                    reverse_index.setdefault(v, []).append(key)\n",
    "                else:\n",
    "                    reverse_index[v] = keys\n",
    "    return reverse_index"
   ]
  },
  {
   "cell_type": "code",
   "execution_count": 297,
   "metadata": {},
   "outputs": [
    {
     "output_type": "execute_result",
     "data": {
      "text/plain": [
       "{'liikuttaa': ['move'],\n",
       " 'piilottaa': ['hide'],\n",
       " 'salata': ['hide'],\n",
       " 'kuusi': ['six', 'fir']}"
      ]
     },
     "metadata": {},
     "execution_count": 297
    }
   ],
   "source": [
    "d={'move': ['liikuttaa'], 'hide': ['piilottaa', 'salata'], 'six': ['kuusi'], 'fir': ['kuusi']}\n",
    "#print(reverse_dictionary(d))\n",
    "k = reverse_dictionary(d)\n",
    "k\n",
    "#print(l)"
   ]
  },
  {
   "cell_type": "code",
   "execution_count": 240,
   "metadata": {},
   "outputs": [],
   "source": [
    "def reverse_dictionary(d):\n",
    "    reversed_dict = {}\n",
    "    for value in d.items():\n",
    "        reversed_dict.setdefault(value, [])\n",
    "        reversed_dict[value].append(key)\n",
    "    return reversed_dict"
   ]
  },
  {
   "source": [
    "k['kuusi']"
   ],
   "cell_type": "code",
   "metadata": {},
   "execution_count": 275,
   "outputs": [
    {
     "output_type": "execute_result",
     "data": {
      "text/plain": [
       "['fir']"
      ]
     },
     "metadata": {},
     "execution_count": 275
    }
   ]
  },
  {
   "cell_type": "code",
   "execution_count": 296,
   "metadata": {},
   "outputs": [],
   "source": [
    "##DEFINITIVO\n",
    "def reverse_dictionary(d):\n",
    "    reverse = {}\n",
    "    for key, value in d.items():\n",
    "        for j in value:\n",
    "            if j in reverse.keys():\n",
    "                reverse[j].append(key)\n",
    "            else:\n",
    "                reverse[j] = [key]\n",
    "    return reverse"
   ]
  },
  {
   "cell_type": "code",
   "execution_count": null,
   "metadata": {},
   "outputs": [],
   "source": [
    "##exercise 14"
   ]
  },
  {
   "cell_type": "code",
   "execution_count": 325,
   "metadata": {},
   "outputs": [],
   "source": [
    "def find_matching(L, pattern):\n",
    "    lista = []\n",
    "    for i, x in enumerate(L):\n",
    "        #lista = []\n",
    "        if pattern in x:\n",
    "            lista.append(i)\n",
    "        else:\n",
    "            lista\n",
    "    return lista"
   ]
  },
  {
   "cell_type": "code",
   "execution_count": 326,
   "metadata": {},
   "outputs": [
    {
     "output_type": "execute_result",
     "data": {
      "text/plain": [
       "[0, 1, 3]"
      ]
     },
     "metadata": {},
     "execution_count": 326
    }
   ],
   "source": [
    "find_matching([\"sensitive\", \"engine\", \"rubbish\", \"comment\"], \"en\")"
   ]
  },
  {
   "cell_type": "code",
   "execution_count": 327,
   "metadata": {},
   "outputs": [],
   "source": [
    "##Compact way of creating data structures"
   ]
  },
  {
   "cell_type": "code",
   "execution_count": 329,
   "metadata": {},
   "outputs": [
    {
     "output_type": "stream",
     "name": "stdout",
     "text": [
      "[0, 1, 4, 9, 16, 25, 36, 49, 64, 81]\n"
     ]
    }
   ],
   "source": [
    "L=[]\n",
    "for i in range(10):\n",
    "\tL.append(i**2)\n",
    "print(L)"
   ]
  },
  {
   "cell_type": "code",
   "execution_count": 330,
   "metadata": {},
   "outputs": [
    {
     "output_type": "stream",
     "name": "stdout",
     "text": [
      "[1, 8, 27, 64, 125, 216, 343, 512, 729, 1000]\n"
     ]
    }
   ],
   "source": [
    "L=[ a**3 for a in range(1,11)]\n",
    "print(L)"
   ]
  },
  {
   "cell_type": "code",
   "execution_count": 332,
   "metadata": {},
   "outputs": [
    {
     "output_type": "stream",
     "name": "stdout",
     "text": [
      "[10, 11, 12, 13, 14, 15, 16, 17, 18, 19, 12, 13, 14, 15, 16, 17, 18, 19, 20, 14, 15, 16, 17, 18, 19, 20, 21, 16, 17, 18, 19, 20, 21, 22, 18, 19, 20, 21, 22, 23, 20, 21, 22, 23, 24, 22, 23, 24, 25, 24, 25, 26, 26, 27, 28, 112, 113, 114, 115, 116, 117, 118, 119, 120, 114, 115, 116, 117, 118, 119, 120, 121, 116, 117, 118, 119, 120, 121, 122, 118, 119, 120, 121, 122, 123, 120, 121, 122, 123, 124, 122, 123, 124, 125, 124, 125, 126, 126, 127, 128, 214, 215, 216, 217, 218, 219, 220, 221, 216, 217, 218, 219, 220, 221, 222, 218, 219, 220, 221, 222, 223, 220, 221, 222, 223, 224, 222, 223, 224, 225, 224, 225, 226, 226, 227, 228, 316, 317, 318, 319, 320, 321, 322, 318, 319, 320, 321, 322, 323, 320, 321, 322, 323, 324, 322, 323, 324, 325, 324, 325, 326, 326, 327, 328, 418, 419, 420, 421, 422, 423, 420, 421, 422, 423, 424, 422, 423, 424, 425, 424, 425, 426, 426, 427, 428, 520, 521, 522, 523, 524, 522, 523, 524, 525, 524, 525, 526, 526, 527, 528, 622, 623, 624, 625, 624, 625, 626, 626, 627, 628, 724, 725, 726, 726, 727, 728, 826, 827, 828, 928]\n"
     ]
    }
   ],
   "source": [
    "L=[100*a + 10+b + c for a in range (0,10)\n",
    "                    for b in range(0,10)\n",
    "                    for c in range (0,10)\n",
    "\t\t\t\t\tif a<=b<=c]\n",
    "print(L)"
   ]
  },
  {
   "cell_type": "code",
   "execution_count": 333,
   "metadata": {},
   "outputs": [
    {
     "output_type": "stream",
     "name": "stdout",
     "text": [
      "60885\n0\n"
     ]
    }
   ],
   "source": [
    "G = ( 100*a + 10*b + c for a in range(0,10)\n",
    "\t\t\t\t\t\t\t\t\t\t\t\t\tfor b in range(0,10)\n",
    "\t\t\t\t\t\t\t\t\t\t\t\t\tfor c in range(0,10)\n",
    "\t\t\t\t\t\t\t\t\t\t\t\t\tif a <= b <= c)\n",
    "print(sum(G)) # this iterates through all the elements from the generator\n",
    "print(sum(G)) #it doesn't restart from the beginning, so all elements are already consumed"
   ]
  },
  {
   "cell_type": "code",
   "execution_count": 335,
   "metadata": {},
   "outputs": [
    {
     "output_type": "stream",
     "name": "stdout",
     "text": [
      "{0: 0, 1: 1, 2: 4, 3: 9, 4: 16, 5: 25, 6: 36, 7: 49, 8: 64, 9: 81}\n"
     ]
    }
   ],
   "source": [
    "d={ k : k**2 for k in range(10)}\n",
    "print(d)"
   ]
  },
  {
   "cell_type": "code",
   "execution_count": 336,
   "metadata": {},
   "outputs": [
    {
     "output_type": "stream",
     "name": "stdout",
     "text": [
      "{0, 1, 2, 3, 4, 5, 6, 7, 8, 9, 10, 12, 14, 15, 16, 18, 20, 21, 24, 25, 27, 28, 30, 32, 35, 36, 40, 42, 45, 48, 49, 54, 56, 63, 64, 72, 81}\n"
     ]
    }
   ],
   "source": [
    "s = { i*j for i in range(10) for j in range(10) }\n",
    "print(s)"
   ]
  },
  {
   "cell_type": "code",
   "execution_count": null,
   "metadata": {},
   "outputs": [],
   "source": [
    "## exercise 15"
   ]
  },
  {
   "cell_type": "code",
   "execution_count": null,
   "metadata": {},
   "outputs": [],
   "source": [
    "#original the two dice\n",
    "for a in range(1,6):\n",
    "    for b in range(1,6):\n",
    "        if a + b == 5:\n",
    "            print('({:d},{:d})'.format(a,b))\n",
    "        else:\n",
    "            continue"
   ]
  },
  {
   "cell_type": "code",
   "execution_count": 365,
   "metadata": {},
   "outputs": [
    {
     "output_type": "stream",
     "name": "stdout",
     "text": [
      "(1 ,4)\n(2 ,3)\n(3 ,2)\n(4 ,1)\n"
     ]
    }
   ],
   "source": [
    "L =  [ print('({:d}, {:d})'.format(a,b)) for a in range(1,6) for b in range (1,6) if a + b == 5 ]\n",
    "#print('({:d},{:d})'.format(a,b))"
   ]
  },
  {
   "cell_type": "code",
   "execution_count": 367,
   "metadata": {},
   "outputs": [],
   "source": [
    "##Processing sequences\n",
    "###map and lamba functions"
   ]
  },
  {
   "cell_type": "code",
   "execution_count": 366,
   "metadata": {},
   "outputs": [
    {
     "output_type": "stream",
     "name": "stdout",
     "text": [
      "<map object at 0x000001D389324348>\n"
     ]
    }
   ],
   "source": [
    "def double(x):\n",
    "\treturn 2*x\n",
    "L=[12,4,-1]\n",
    "print(map(double, L))"
   ]
  },
  {
   "cell_type": "code",
   "execution_count": 369,
   "metadata": {},
   "outputs": [
    {
     "output_type": "stream",
     "name": "stdout",
     "text": [
      "[24, 8, -2]\n"
     ]
    }
   ],
   "source": [
    "print(list(map(double, L)))"
   ]
  },
  {
   "cell_type": "code",
   "execution_count": 370,
   "metadata": {},
   "outputs": [
    {
     "output_type": "stream",
     "name": "stdout",
     "text": [
      "['12', '43', '64', '6']\n125\n"
     ]
    }
   ],
   "source": [
    "s = \"12 43 64 6\"\n",
    "L = s.split() #The split method of the dtring calss, breaks the string at whitestpaces to a list of strings\n",
    "print(L)\n",
    "print(sum(map(int,L)))"
   ]
  },
  {
   "cell_type": "code",
   "execution_count": 371,
   "metadata": {},
   "outputs": [],
   "source": [
    "def add_double_and_square(x):\n",
    "\treturn 2*x+x**2"
   ]
  },
  {
   "cell_type": "code",
   "execution_count": 372,
   "metadata": {},
   "outputs": [
    {
     "output_type": "stream",
     "name": "stdout",
     "text": [
      "[8, 15, 35]\n"
     ]
    }
   ],
   "source": [
    "L=[2,3,5]\n",
    "print(list(map(lambda x : 2*x+x**2, L)))"
   ]
  },
  {
   "cell_type": "code",
   "execution_count": null,
   "metadata": {},
   "outputs": [],
   "source": [
    "##exercise 16"
   ]
  },
  {
   "cell_type": "code",
   "execution_count": 461,
   "metadata": {},
   "outputs": [],
   "source": [
    "def transform(s1, s2):\n",
    "    l1s = s1.split()\n",
    "    l1 = list(map(int, l1s))\n",
    "    l2s = s2.split()\n",
    "    l2 = list(map(int, l2s))\n",
    "    l = list(zip(l1,l2))\n",
    "    return [(int(x) * int(y)) for x, y in l]"
   ]
  },
  {
   "cell_type": "code",
   "execution_count": 462,
   "metadata": {},
   "outputs": [
    {
     "output_type": "execute_result",
     "data": {
      "text/plain": [
       "[2, 30, -3]"
      ]
     },
     "metadata": {},
     "execution_count": 462
    }
   ],
   "source": [
    "transform(\"1 5 3\", \"2 6 -1\")\n",
    "#[2, 30, -3]"
   ]
  },
  {
   "cell_type": "code",
   "execution_count": 463,
   "metadata": {},
   "outputs": [],
   "source": [
    "###filter function"
   ]
  },
  {
   "cell_type": "code",
   "execution_count": 464,
   "metadata": {},
   "outputs": [
    {
     "output_type": "stream",
     "name": "stdout",
     "text": [
      "[1, 5, 9]\n"
     ]
    }
   ],
   "source": [
    "def is_odd(x):\n",
    "\t\"\"\"Returns True if c is odd and False if x is even\"\"\"\n",
    "\treturn x % 2 == 1 # the % operator returns the remainder of integer division\n",
    "L=[1,4,5,9,10]\n",
    "print(list(filter(is_odd, L)))"
   ]
  },
  {
   "cell_type": "code",
   "execution_count": 466,
   "metadata": {},
   "outputs": [
    {
     "output_type": "execute_result",
     "data": {
      "text/plain": [
       "[1, 25, 81]"
      ]
     },
     "metadata": {},
     "execution_count": 466
    }
   ],
   "source": [
    "[l**2 for l in L if is_odd(l)] #squares of odd values"
   ]
  },
  {
   "cell_type": "code",
   "execution_count": null,
   "metadata": {},
   "outputs": [],
   "source": [
    "##exercise 17"
   ]
  },
  {
   "cell_type": "code",
   "execution_count": 20,
   "metadata": {},
   "outputs": [],
   "source": [
    "def positive_list(L):\n",
    "    return list(filter(lambda x : x > 0 , L))"
   ]
  },
  {
   "cell_type": "code",
   "execution_count": 22,
   "metadata": {},
   "outputs": [
    {
     "output_type": "execute_result",
     "data": {
      "text/plain": [
       "[2, 1]"
      ]
     },
     "metadata": {},
     "execution_count": 22
    }
   ],
   "source": [
    "L = [2,-2,0,1,-7]\n",
    "positive_list(L)"
   ]
  },
  {
   "cell_type": "code",
   "execution_count": 23,
   "metadata": {},
   "outputs": [],
   "source": [
    "### the reduce function"
   ]
  },
  {
   "cell_type": "code",
   "execution_count": 25,
   "metadata": {},
   "outputs": [],
   "source": [
    "def sumreduce(L):\n",
    "    s=0\n",
    "    for x in L:\n",
    "        s = s+x\n",
    "    return s"
   ]
  },
  {
   "cell_type": "code",
   "execution_count": 29,
   "metadata": {},
   "outputs": [
    {
     "output_type": "execute_result",
     "data": {
      "text/plain": [
       "10"
      ]
     },
     "metadata": {},
     "execution_count": 29
    }
   ],
   "source": [
    "L=[1,2,3,4]\n",
    "sumreduce(L)"
   ]
  },
  {
   "cell_type": "code",
   "execution_count": 28,
   "metadata": {},
   "outputs": [
    {
     "output_type": "execute_result",
     "data": {
      "text/plain": [
       "10"
      ]
     },
     "metadata": {},
     "execution_count": 28
    }
   ],
   "source": [
    "L=[1,2,3,4]\n",
    "from functools import reduce # import the reduce formula from the functools module\n",
    "reduce(lambda x,y:x+y, L, 0)"
   ]
  },
  {
   "cell_type": "code",
   "execution_count": 30,
   "metadata": {},
   "outputs": [
    {
     "output_type": "execute_result",
     "data": {
      "text/plain": [
       "24"
      ]
     },
     "metadata": {},
     "execution_count": 30
    }
   ],
   "source": [
    "reduce(lambda x,y:x*y, L, 1)"
   ]
  },
  {
   "cell_type": "code",
   "execution_count": null,
   "metadata": {},
   "outputs": [],
   "source": [
    "#STRING HANDLING\n",
    "## trimming and adjusting"
   ]
  },
  {
   "cell_type": "code",
   "execution_count": 32,
   "metadata": {},
   "outputs": [
    {
     "output_type": "stream",
     "name": "stdout",
     "text": [
      "-----------\n|    *    |\n|    **   |\n|   ***   |\n|  *****  |\n| ******* |\n|*********|\n|    *    |\n|    *    |\n-----------\n"
     ]
    }
   ],
   "source": [
    "L=[1,2,3,5,7,9,1,1]\n",
    "print(\"-\"*11)\n",
    "for i in L:\n",
    "\ts=\"*\"*i\n",
    "\tprint(f\"|{s.center(9)}|\")\n",
    "print(\"-\"*11)"
   ]
  },
  {
   "cell_type": "code",
   "execution_count": 33,
   "metadata": {},
   "outputs": [
    {
     "output_type": "execute_result",
     "data": {
      "text/plain": [
       "'abc--def--ghi'"
      ]
     },
     "metadata": {},
     "execution_count": 33
    }
   ],
   "source": [
    "\"--\".join([\"abc\", \"def\", \"ghi\"])"
   ]
  },
  {
   "cell_type": "code",
   "execution_count": 34,
   "metadata": {},
   "outputs": [
    {
     "output_type": "stream",
     "name": "stdout",
     "text": [
      " 0 1 2 3 4 5 6 7 8 9 10 11 12 13 14 15 16 17 18 19 20 21 22 23 24 25 26 27 28 29 30 31 32 33 34 35 36 37 38 39 40 41 42 43 44 45 46 47 48 49 50 51 52 53 54 55 56 57 58 59 60 61 62 63 64 65 66 67 68 69 70 71 72 73 74 75 76 77 78 79 80 81 82 83 84 85 86 87 88 89 90 91 92 93 94 95 96 97 98 99\n0 1 2 3 4 5 6 7 8 9 10 11 12 13 14 15 16 17 18 19 20 21 22 23 24 25 26 27 28 29 30 31 32 33 34 35 36 37 38 39 40 41 42 43 44 45 46 47 48 49 50 51 52 53 54 55 56 57 58 59 60 61 62 63 64 65 66 67 68 69 70 71 72 73 74 75 76 77 78 79 80 81 82 83 84 85 86 87 88 89 90 91 92 93 94 95 96 97 98 99\n"
     ]
    }
   ],
   "source": [
    "L=[str(x) for x in range(100)]\n",
    "s=\"\"\n",
    "for x in L:\n",
    "\ts += \" \" +x #avoid doing this, it creates a new string in every iteration.\n",
    "print(s)  # note that the redundant initial space\n",
    "print(\" \".join(L)) # this is th correct way of building a string out of smaller things"
   ]
  },
  {
   "cell_type": "code",
   "execution_count": 36,
   "metadata": {},
   "outputs": [
    {
     "output_type": "stream",
     "name": "stdout",
     "text": [
      "10.8 µs ± 257 ns per loop (mean ± std. dev. of 7 runs, 100000 loops each)\n"
     ]
    }
   ],
   "source": [
    "%%timeit\n",
    "s=\"\"\n",
    "for x in L:\n",
    "\ts += \" \" + x"
   ]
  },
  {
   "cell_type": "code",
   "execution_count": 37,
   "metadata": {},
   "outputs": [
    {
     "output_type": "stream",
     "name": "stdout",
     "text": [
      "1.1 µs ± 51.9 ns per loop (mean ± std. dev. of 7 runs, 1000000 loops each)\n"
     ]
    }
   ],
   "source": [
    "%%timeit\n",
    "s = \" \".join(L)"
   ]
  },
  {
   "cell_type": "code",
   "execution_count": 39,
   "metadata": {},
   "outputs": [
    {
     "output_type": "execute_result",
     "data": {
      "text/plain": [
       "['abc', 'def', 'ghi']"
      ]
     },
     "metadata": {},
     "execution_count": 39
    }
   ],
   "source": [
    "'abc--def--ghi'.split(\"--\")"
   ]
  }
 ]
}