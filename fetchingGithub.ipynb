{
  "nbformat": 4,
  "nbformat_minor": 0,
  "metadata": {
    "colab": {
      "name": "Untitled0.ipynb",
      "provenance": [],
      "authorship_tag": "ABX9TyPZHOZDKl9i19vzIPd2SF2O"
    },
    "kernelspec": {
      "name": "python3",
      "display_name": "Python 3"
    },
    "language_info": {
      "name": "python"
    }
  },
  "cells": [
    {
      "cell_type": "code",
      "metadata": {
        "colab": {
          "base_uri": "https://localhost:8080/"
        },
        "id": "-jAM_r8g4dUS",
        "outputId": "3c6b7612-4052-4187-b73d-1daa6995dc7a"
      },
      "source": [
        "!git clone https://github.com/annassanchez/HY-2021-DataScience"
      ],
      "execution_count": 1,
      "outputs": [
        {
          "output_type": "stream",
          "text": [
            "Cloning into 'HY-2021-DataScience'...\n",
            "remote: Enumerating objects: 1779, done.\u001b[K\n",
            "remote: Counting objects: 100% (1779/1779), done.\u001b[K\n",
            "remote: Compressing objects: 100% (1504/1504), done.\u001b[K\n",
            "remote: Total 1779 (delta 844), reused 1167 (delta 232), pack-reused 0\u001b[K\n",
            "Receiving objects: 100% (1779/1779), 2.73 MiB | 7.19 MiB/s, done.\n",
            "Resolving deltas: 100% (844/844), done.\n"
          ],
          "name": "stdout"
        }
      ]
    }
  ]
}