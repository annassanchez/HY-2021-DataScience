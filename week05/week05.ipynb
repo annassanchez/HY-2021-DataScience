{
  "nbformat": 4,
  "nbformat_minor": 0,
  "metadata": {
    "orig_nbformat": 4,
    "colab": {
      "name": "week05.ipynb",
      "provenance": []
    },
    "language_info": {
      "name": "python"
    },
    "kernelspec": {
      "name": "python3",
      "display_name": "Python 3"
    }
  },
  "cells": [
    {
      "cell_type": "markdown",
      "metadata": {
        "id": "iKD6CvdIW9xt"
      },
      "source": [
        "# Pandas (continues)"
      ]
    },
    {
      "cell_type": "code",
      "metadata": {
        "id": "9YgUGW2KW9xv"
      },
      "source": [
        "import pandas as pd\n",
        "import numpy as np\n",
        "import matplotlib.pyplot as plt"
      ],
      "execution_count": 1,
      "outputs": []
    },
    {
      "cell_type": "markdown",
      "metadata": {
        "id": "YkxgGdSSYrpb"
      },
      "source": [
        "## Catenating datasets"
      ]
    },
    {
      "cell_type": "code",
      "metadata": {
        "id": "URL_7h1nYzDE"
      },
      "source": [
        "# axis = 0 catenates vertically and axis = 1 catenates horizontally. \n",
        "# pandas dataframe works similarly but row indices and the column names require extra attention.\n",
        "# also the difference between np.concatenate & pd.concat\n",
        "## helper for creating dataframes\n",
        "def makedf(cols, ind):\n",
        "    data = {c : [str(c) + str(i) for i in ind] for c in cols}\n",
        "    return pd.DataFrame(data, ind)"
      ],
      "execution_count": 2,
      "outputs": []
    },
    {
      "cell_type": "code",
      "metadata": {
        "colab": {
          "base_uri": "https://localhost:8080/",
          "height": 112
        },
        "id": "_A9_6xcEZZmM",
        "outputId": "4d785d83-ba75-4796-b155-43a33694b64b"
      },
      "source": [
        "a=makedf(\"AB\", [0,1])\n",
        "a"
      ],
      "execution_count": 3,
      "outputs": [
        {
          "output_type": "execute_result",
          "data": {
            "text/html": [
              "<div>\n",
              "<style scoped>\n",
              "    .dataframe tbody tr th:only-of-type {\n",
              "        vertical-align: middle;\n",
              "    }\n",
              "\n",
              "    .dataframe tbody tr th {\n",
              "        vertical-align: top;\n",
              "    }\n",
              "\n",
              "    .dataframe thead th {\n",
              "        text-align: right;\n",
              "    }\n",
              "</style>\n",
              "<table border=\"1\" class=\"dataframe\">\n",
              "  <thead>\n",
              "    <tr style=\"text-align: right;\">\n",
              "      <th></th>\n",
              "      <th>A</th>\n",
              "      <th>B</th>\n",
              "    </tr>\n",
              "  </thead>\n",
              "  <tbody>\n",
              "    <tr>\n",
              "      <th>0</th>\n",
              "      <td>A0</td>\n",
              "      <td>B0</td>\n",
              "    </tr>\n",
              "    <tr>\n",
              "      <th>1</th>\n",
              "      <td>A1</td>\n",
              "      <td>B1</td>\n",
              "    </tr>\n",
              "  </tbody>\n",
              "</table>\n",
              "</div>"
            ],
            "text/plain": [
              "    A   B\n",
              "0  A0  B0\n",
              "1  A1  B1"
            ]
          },
          "metadata": {
            "tags": []
          },
          "execution_count": 3
        }
      ]
    },
    {
      "cell_type": "code",
      "metadata": {
        "colab": {
          "base_uri": "https://localhost:8080/",
          "height": 112
        },
        "id": "GZ1MrLICZb3D",
        "outputId": "a566494d-b5a2-4cf5-888b-77ea2240bcbf"
      },
      "source": [
        "b=makedf(\"AB\", [2,3])\n",
        "b"
      ],
      "execution_count": 4,
      "outputs": [
        {
          "output_type": "execute_result",
          "data": {
            "text/html": [
              "<div>\n",
              "<style scoped>\n",
              "    .dataframe tbody tr th:only-of-type {\n",
              "        vertical-align: middle;\n",
              "    }\n",
              "\n",
              "    .dataframe tbody tr th {\n",
              "        vertical-align: top;\n",
              "    }\n",
              "\n",
              "    .dataframe thead th {\n",
              "        text-align: right;\n",
              "    }\n",
              "</style>\n",
              "<table border=\"1\" class=\"dataframe\">\n",
              "  <thead>\n",
              "    <tr style=\"text-align: right;\">\n",
              "      <th></th>\n",
              "      <th>A</th>\n",
              "      <th>B</th>\n",
              "    </tr>\n",
              "  </thead>\n",
              "  <tbody>\n",
              "    <tr>\n",
              "      <th>2</th>\n",
              "      <td>A2</td>\n",
              "      <td>B2</td>\n",
              "    </tr>\n",
              "    <tr>\n",
              "      <th>3</th>\n",
              "      <td>A3</td>\n",
              "      <td>B3</td>\n",
              "    </tr>\n",
              "  </tbody>\n",
              "</table>\n",
              "</div>"
            ],
            "text/plain": [
              "    A   B\n",
              "2  A2  B2\n",
              "3  A3  B3"
            ]
          },
          "metadata": {
            "tags": []
          },
          "execution_count": 4
        }
      ]
    },
    {
      "cell_type": "code",
      "metadata": {
        "colab": {
          "base_uri": "https://localhost:8080/",
          "height": 112
        },
        "id": "Y8u5-89DZcJz",
        "outputId": "e9420f7d-8ae4-40e5-af51-1fac60065c48"
      },
      "source": [
        "c=makedf(\"CD\", [0,1])\n",
        "c"
      ],
      "execution_count": 5,
      "outputs": [
        {
          "output_type": "execute_result",
          "data": {
            "text/html": [
              "<div>\n",
              "<style scoped>\n",
              "    .dataframe tbody tr th:only-of-type {\n",
              "        vertical-align: middle;\n",
              "    }\n",
              "\n",
              "    .dataframe tbody tr th {\n",
              "        vertical-align: top;\n",
              "    }\n",
              "\n",
              "    .dataframe thead th {\n",
              "        text-align: right;\n",
              "    }\n",
              "</style>\n",
              "<table border=\"1\" class=\"dataframe\">\n",
              "  <thead>\n",
              "    <tr style=\"text-align: right;\">\n",
              "      <th></th>\n",
              "      <th>C</th>\n",
              "      <th>D</th>\n",
              "    </tr>\n",
              "  </thead>\n",
              "  <tbody>\n",
              "    <tr>\n",
              "      <th>0</th>\n",
              "      <td>C0</td>\n",
              "      <td>D0</td>\n",
              "    </tr>\n",
              "    <tr>\n",
              "      <th>1</th>\n",
              "      <td>C1</td>\n",
              "      <td>D1</td>\n",
              "    </tr>\n",
              "  </tbody>\n",
              "</table>\n",
              "</div>"
            ],
            "text/plain": [
              "    C   D\n",
              "0  C0  D0\n",
              "1  C1  D1"
            ]
          },
          "metadata": {
            "tags": []
          },
          "execution_count": 5
        }
      ]
    },
    {
      "cell_type": "code",
      "metadata": {
        "colab": {
          "base_uri": "https://localhost:8080/",
          "height": 112
        },
        "id": "lUcGjHz7ZcNS",
        "outputId": "635c1c44-3ae0-4847-cd85-160838aaebfe"
      },
      "source": [
        "d=makedf(\"BC\", [2,3])\n",
        "d"
      ],
      "execution_count": 6,
      "outputs": [
        {
          "output_type": "execute_result",
          "data": {
            "text/html": [
              "<div>\n",
              "<style scoped>\n",
              "    .dataframe tbody tr th:only-of-type {\n",
              "        vertical-align: middle;\n",
              "    }\n",
              "\n",
              "    .dataframe tbody tr th {\n",
              "        vertical-align: top;\n",
              "    }\n",
              "\n",
              "    .dataframe thead th {\n",
              "        text-align: right;\n",
              "    }\n",
              "</style>\n",
              "<table border=\"1\" class=\"dataframe\">\n",
              "  <thead>\n",
              "    <tr style=\"text-align: right;\">\n",
              "      <th></th>\n",
              "      <th>B</th>\n",
              "      <th>C</th>\n",
              "    </tr>\n",
              "  </thead>\n",
              "  <tbody>\n",
              "    <tr>\n",
              "      <th>2</th>\n",
              "      <td>B2</td>\n",
              "      <td>C2</td>\n",
              "    </tr>\n",
              "    <tr>\n",
              "      <th>3</th>\n",
              "      <td>B3</td>\n",
              "      <td>C3</td>\n",
              "    </tr>\n",
              "  </tbody>\n",
              "</table>\n",
              "</div>"
            ],
            "text/plain": [
              "    B   C\n",
              "2  B2  C2\n",
              "3  B3  C3"
            ]
          },
          "metadata": {
            "tags": []
          },
          "execution_count": 6
        }
      ]
    },
    {
      "cell_type": "code",
      "metadata": {
        "colab": {
          "base_uri": "https://localhost:8080/",
          "height": 175
        },
        "id": "e3w7-Fk0ZcQU",
        "outputId": "a3b0420c-e57f-404a-a0e9-c765b9e9494d"
      },
      "source": [
        "## concat a and b -- works as expected\n",
        "pd.concat([a,b])   # The default axis is 0"
      ],
      "execution_count": 7,
      "outputs": [
        {
          "output_type": "execute_result",
          "data": {
            "text/html": [
              "<div>\n",
              "<style scoped>\n",
              "    .dataframe tbody tr th:only-of-type {\n",
              "        vertical-align: middle;\n",
              "    }\n",
              "\n",
              "    .dataframe tbody tr th {\n",
              "        vertical-align: top;\n",
              "    }\n",
              "\n",
              "    .dataframe thead th {\n",
              "        text-align: right;\n",
              "    }\n",
              "</style>\n",
              "<table border=\"1\" class=\"dataframe\">\n",
              "  <thead>\n",
              "    <tr style=\"text-align: right;\">\n",
              "      <th></th>\n",
              "      <th>A</th>\n",
              "      <th>B</th>\n",
              "    </tr>\n",
              "  </thead>\n",
              "  <tbody>\n",
              "    <tr>\n",
              "      <th>0</th>\n",
              "      <td>A0</td>\n",
              "      <td>B0</td>\n",
              "    </tr>\n",
              "    <tr>\n",
              "      <th>1</th>\n",
              "      <td>A1</td>\n",
              "      <td>B1</td>\n",
              "    </tr>\n",
              "    <tr>\n",
              "      <th>2</th>\n",
              "      <td>A2</td>\n",
              "      <td>B2</td>\n",
              "    </tr>\n",
              "    <tr>\n",
              "      <th>3</th>\n",
              "      <td>A3</td>\n",
              "      <td>B3</td>\n",
              "    </tr>\n",
              "  </tbody>\n",
              "</table>\n",
              "</div>"
            ],
            "text/plain": [
              "    A   B\n",
              "0  A0  B0\n",
              "1  A1  B1\n",
              "2  A2  B2\n",
              "3  A3  B3"
            ]
          },
          "metadata": {
            "tags": []
          },
          "execution_count": 7
        }
      ]
    },
    {
      "cell_type": "code",
      "metadata": {
        "colab": {
          "base_uri": "https://localhost:8080/",
          "height": 175
        },
        "id": "j5KEvsZpZpH8",
        "outputId": "4e869960-9c9f-4e8c-c482-0d9f3e669d58"
      },
      "source": [
        "r=pd.concat([a,a])\n",
        "r"
      ],
      "execution_count": 8,
      "outputs": [
        {
          "output_type": "execute_result",
          "data": {
            "text/html": [
              "<div>\n",
              "<style scoped>\n",
              "    .dataframe tbody tr th:only-of-type {\n",
              "        vertical-align: middle;\n",
              "    }\n",
              "\n",
              "    .dataframe tbody tr th {\n",
              "        vertical-align: top;\n",
              "    }\n",
              "\n",
              "    .dataframe thead th {\n",
              "        text-align: right;\n",
              "    }\n",
              "</style>\n",
              "<table border=\"1\" class=\"dataframe\">\n",
              "  <thead>\n",
              "    <tr style=\"text-align: right;\">\n",
              "      <th></th>\n",
              "      <th>A</th>\n",
              "      <th>B</th>\n",
              "    </tr>\n",
              "  </thead>\n",
              "  <tbody>\n",
              "    <tr>\n",
              "      <th>0</th>\n",
              "      <td>A0</td>\n",
              "      <td>B0</td>\n",
              "    </tr>\n",
              "    <tr>\n",
              "      <th>1</th>\n",
              "      <td>A1</td>\n",
              "      <td>B1</td>\n",
              "    </tr>\n",
              "    <tr>\n",
              "      <th>0</th>\n",
              "      <td>A0</td>\n",
              "      <td>B0</td>\n",
              "    </tr>\n",
              "    <tr>\n",
              "      <th>1</th>\n",
              "      <td>A1</td>\n",
              "      <td>B1</td>\n",
              "    </tr>\n",
              "  </tbody>\n",
              "</table>\n",
              "</div>"
            ],
            "text/plain": [
              "    A   B\n",
              "0  A0  B0\n",
              "1  A1  B1\n",
              "0  A0  B0\n",
              "1  A1  B1"
            ]
          },
          "metadata": {
            "tags": []
          },
          "execution_count": 8
        }
      ]
    },
    {
      "cell_type": "code",
      "metadata": {
        "colab": {
          "base_uri": "https://localhost:8080/"
        },
        "id": "tpfQxGSxZpTc",
        "outputId": "9721716b-bd27-4318-d1c1-ae3e2cf7e16b"
      },
      "source": [
        "r.loc[0,\"A\"]"
      ],
      "execution_count": 9,
      "outputs": [
        {
          "output_type": "execute_result",
          "data": {
            "text/plain": [
              "0    A0\n",
              "0    A0\n",
              "Name: A, dtype: object"
            ]
          },
          "metadata": {
            "tags": []
          },
          "execution_count": 9
        }
      ]
    },
    {
      "cell_type": "code",
      "metadata": {
        "colab": {
          "base_uri": "https://localhost:8080/"
        },
        "id": "blFRMxzqZpXT",
        "outputId": "62376d39-fada-4e0c-a9ec-fb588ffba11b"
      },
      "source": [
        "## indices should be unique, so that's not what we aim to. \n",
        "## here's a tool to chek duplicated indices\n",
        "try:\n",
        "    pd.concat([a,a], verify_integrity=True)\n",
        "except ValueError as e:\n",
        "    import sys\n",
        "    print(e, file=sys.stderr)"
      ],
      "execution_count": 10,
      "outputs": [
        {
          "output_type": "stream",
          "text": [
            "Indexes have overlapping values: Int64Index([0, 1], dtype='int64')\n"
          ],
          "name": "stderr"
        }
      ]
    },
    {
      "cell_type": "code",
      "metadata": {
        "colab": {
          "base_uri": "https://localhost:8080/",
          "height": 175
        },
        "id": "uedSTIMUZpaF",
        "outputId": "6977f19f-5c3f-4ca0-a780-fe7ec9925e92"
      },
      "source": [
        "## automatic renumbering of rows\n",
        "pd.concat([a,a], ignore_index=True)"
      ],
      "execution_count": 11,
      "outputs": [
        {
          "output_type": "execute_result",
          "data": {
            "text/html": [
              "<div>\n",
              "<style scoped>\n",
              "    .dataframe tbody tr th:only-of-type {\n",
              "        vertical-align: middle;\n",
              "    }\n",
              "\n",
              "    .dataframe tbody tr th {\n",
              "        vertical-align: top;\n",
              "    }\n",
              "\n",
              "    .dataframe thead th {\n",
              "        text-align: right;\n",
              "    }\n",
              "</style>\n",
              "<table border=\"1\" class=\"dataframe\">\n",
              "  <thead>\n",
              "    <tr style=\"text-align: right;\">\n",
              "      <th></th>\n",
              "      <th>A</th>\n",
              "      <th>B</th>\n",
              "    </tr>\n",
              "  </thead>\n",
              "  <tbody>\n",
              "    <tr>\n",
              "      <th>0</th>\n",
              "      <td>A0</td>\n",
              "      <td>B0</td>\n",
              "    </tr>\n",
              "    <tr>\n",
              "      <th>1</th>\n",
              "      <td>A1</td>\n",
              "      <td>B1</td>\n",
              "    </tr>\n",
              "    <tr>\n",
              "      <th>2</th>\n",
              "      <td>A0</td>\n",
              "      <td>B0</td>\n",
              "    </tr>\n",
              "    <tr>\n",
              "      <th>3</th>\n",
              "      <td>A1</td>\n",
              "      <td>B1</td>\n",
              "    </tr>\n",
              "  </tbody>\n",
              "</table>\n",
              "</div>"
            ],
            "text/plain": [
              "    A   B\n",
              "0  A0  B0\n",
              "1  A1  B1\n",
              "2  A0  B0\n",
              "3  A1  B1"
            ]
          },
          "metadata": {
            "tags": []
          },
          "execution_count": 11
        }
      ]
    },
    {
      "cell_type": "code",
      "metadata": {
        "colab": {
          "base_uri": "https://localhost:8080/",
          "height": 175
        },
        "id": "mEWq5ozgaF6b",
        "outputId": "09c729eb-b0c6-4865-cf73-d55e89d8b160"
      },
      "source": [
        "## hierarchical indexing -- multiple level indices\n",
        "r2=pd.concat([a,a], keys=['first', 'second'])\n",
        "r2"
      ],
      "execution_count": 12,
      "outputs": [
        {
          "output_type": "execute_result",
          "data": {
            "text/html": [
              "<div>\n",
              "<style scoped>\n",
              "    .dataframe tbody tr th:only-of-type {\n",
              "        vertical-align: middle;\n",
              "    }\n",
              "\n",
              "    .dataframe tbody tr th {\n",
              "        vertical-align: top;\n",
              "    }\n",
              "\n",
              "    .dataframe thead th {\n",
              "        text-align: right;\n",
              "    }\n",
              "</style>\n",
              "<table border=\"1\" class=\"dataframe\">\n",
              "  <thead>\n",
              "    <tr style=\"text-align: right;\">\n",
              "      <th></th>\n",
              "      <th></th>\n",
              "      <th>A</th>\n",
              "      <th>B</th>\n",
              "    </tr>\n",
              "  </thead>\n",
              "  <tbody>\n",
              "    <tr>\n",
              "      <th rowspan=\"2\" valign=\"top\">first</th>\n",
              "      <th>0</th>\n",
              "      <td>A0</td>\n",
              "      <td>B0</td>\n",
              "    </tr>\n",
              "    <tr>\n",
              "      <th>1</th>\n",
              "      <td>A1</td>\n",
              "      <td>B1</td>\n",
              "    </tr>\n",
              "    <tr>\n",
              "      <th rowspan=\"2\" valign=\"top\">second</th>\n",
              "      <th>0</th>\n",
              "      <td>A0</td>\n",
              "      <td>B0</td>\n",
              "    </tr>\n",
              "    <tr>\n",
              "      <th>1</th>\n",
              "      <td>A1</td>\n",
              "      <td>B1</td>\n",
              "    </tr>\n",
              "  </tbody>\n",
              "</table>\n",
              "</div>"
            ],
            "text/plain": [
              "           A   B\n",
              "first  0  A0  B0\n",
              "       1  A1  B1\n",
              "second 0  A0  B0\n",
              "       1  A1  B1"
            ]
          },
          "metadata": {
            "tags": []
          },
          "execution_count": 12
        }
      ]
    },
    {
      "cell_type": "code",
      "metadata": {
        "colab": {
          "base_uri": "https://localhost:8080/",
          "height": 36
        },
        "id": "sV4fhvBMaGFj",
        "outputId": "1add2733-dd42-4857-d508-e7c87fba5ab1"
      },
      "source": [
        "r2[\"A\"][\"first\"][0] # works as numpy"
      ],
      "execution_count": 13,
      "outputs": [
        {
          "output_type": "execute_result",
          "data": {
            "application/vnd.google.colaboratory.intrinsic+json": {
              "type": "string"
            },
            "text/plain": [
              "'A0'"
            ]
          },
          "metadata": {
            "tags": []
          },
          "execution_count": 13
        }
      ]
    },
    {
      "cell_type": "code",
      "metadata": {
        "colab": {
          "base_uri": "https://localhost:8080/",
          "height": 112
        },
        "id": "4MZyBWyIaGKa",
        "outputId": "2d14e036-8e07-4388-a5cd-f44958974e8b"
      },
      "source": [
        "## it works similarly with horizontal catenation\n",
        "pd.concat([a,c], axis=1)"
      ],
      "execution_count": 14,
      "outputs": [
        {
          "output_type": "execute_result",
          "data": {
            "text/html": [
              "<div>\n",
              "<style scoped>\n",
              "    .dataframe tbody tr th:only-of-type {\n",
              "        vertical-align: middle;\n",
              "    }\n",
              "\n",
              "    .dataframe tbody tr th {\n",
              "        vertical-align: top;\n",
              "    }\n",
              "\n",
              "    .dataframe thead th {\n",
              "        text-align: right;\n",
              "    }\n",
              "</style>\n",
              "<table border=\"1\" class=\"dataframe\">\n",
              "  <thead>\n",
              "    <tr style=\"text-align: right;\">\n",
              "      <th></th>\n",
              "      <th>A</th>\n",
              "      <th>B</th>\n",
              "      <th>C</th>\n",
              "      <th>D</th>\n",
              "    </tr>\n",
              "  </thead>\n",
              "  <tbody>\n",
              "    <tr>\n",
              "      <th>0</th>\n",
              "      <td>A0</td>\n",
              "      <td>B0</td>\n",
              "      <td>C0</td>\n",
              "      <td>D0</td>\n",
              "    </tr>\n",
              "    <tr>\n",
              "      <th>1</th>\n",
              "      <td>A1</td>\n",
              "      <td>B1</td>\n",
              "      <td>C1</td>\n",
              "      <td>D1</td>\n",
              "    </tr>\n",
              "  </tbody>\n",
              "</table>\n",
              "</div>"
            ],
            "text/plain": [
              "    A   B   C   D\n",
              "0  A0  B0  C0  D0\n",
              "1  A1  B1  C1  D1"
            ]
          },
          "metadata": {
            "tags": []
          },
          "execution_count": 14
        }
      ]
    },
    {
      "cell_type": "code",
      "metadata": {
        "colab": {
          "base_uri": "https://localhost:8080/",
          "height": 175
        },
        "id": "b9JGhNJlaGNU",
        "outputId": "9f5a8495-ee5d-464e-f210-259a8a6a94c5"
      },
      "source": [
        "## if you concatenate vertically two DataFrames that don't have the same columns\n",
        "## this is called outer join, considers all the columns (the common ones and the different ones)\n",
        "pd.concat([a,d], sort=False)    # sort option is used to silence a deprecation message"
      ],
      "execution_count": 15,
      "outputs": [
        {
          "output_type": "execute_result",
          "data": {
            "text/html": [
              "<div>\n",
              "<style scoped>\n",
              "    .dataframe tbody tr th:only-of-type {\n",
              "        vertical-align: middle;\n",
              "    }\n",
              "\n",
              "    .dataframe tbody tr th {\n",
              "        vertical-align: top;\n",
              "    }\n",
              "\n",
              "    .dataframe thead th {\n",
              "        text-align: right;\n",
              "    }\n",
              "</style>\n",
              "<table border=\"1\" class=\"dataframe\">\n",
              "  <thead>\n",
              "    <tr style=\"text-align: right;\">\n",
              "      <th></th>\n",
              "      <th>A</th>\n",
              "      <th>B</th>\n",
              "      <th>C</th>\n",
              "    </tr>\n",
              "  </thead>\n",
              "  <tbody>\n",
              "    <tr>\n",
              "      <th>0</th>\n",
              "      <td>A0</td>\n",
              "      <td>B0</td>\n",
              "      <td>NaN</td>\n",
              "    </tr>\n",
              "    <tr>\n",
              "      <th>1</th>\n",
              "      <td>A1</td>\n",
              "      <td>B1</td>\n",
              "      <td>NaN</td>\n",
              "    </tr>\n",
              "    <tr>\n",
              "      <th>2</th>\n",
              "      <td>NaN</td>\n",
              "      <td>B2</td>\n",
              "      <td>C2</td>\n",
              "    </tr>\n",
              "    <tr>\n",
              "      <th>3</th>\n",
              "      <td>NaN</td>\n",
              "      <td>B3</td>\n",
              "      <td>C3</td>\n",
              "    </tr>\n",
              "  </tbody>\n",
              "</table>\n",
              "</div>"
            ],
            "text/plain": [
              "     A   B    C\n",
              "0   A0  B0  NaN\n",
              "1   A1  B1  NaN\n",
              "2  NaN  B2   C2\n",
              "3  NaN  B3   C3"
            ]
          },
          "metadata": {
            "tags": []
          },
          "execution_count": 15
        }
      ]
    },
    {
      "cell_type": "code",
      "metadata": {
        "colab": {
          "base_uri": "https://localhost:8080/",
          "height": 175
        },
        "id": "t8FcwNFXa-EC",
        "outputId": "1e582274-6f37-4d24-97b4-fcf732bb5506"
      },
      "source": [
        "## here is the same catenation but with inner join\n",
        "pd.concat([a,d], join=\"inner\")"
      ],
      "execution_count": 16,
      "outputs": [
        {
          "output_type": "execute_result",
          "data": {
            "text/html": [
              "<div>\n",
              "<style scoped>\n",
              "    .dataframe tbody tr th:only-of-type {\n",
              "        vertical-align: middle;\n",
              "    }\n",
              "\n",
              "    .dataframe tbody tr th {\n",
              "        vertical-align: top;\n",
              "    }\n",
              "\n",
              "    .dataframe thead th {\n",
              "        text-align: right;\n",
              "    }\n",
              "</style>\n",
              "<table border=\"1\" class=\"dataframe\">\n",
              "  <thead>\n",
              "    <tr style=\"text-align: right;\">\n",
              "      <th></th>\n",
              "      <th>B</th>\n",
              "    </tr>\n",
              "  </thead>\n",
              "  <tbody>\n",
              "    <tr>\n",
              "      <th>0</th>\n",
              "      <td>B0</td>\n",
              "    </tr>\n",
              "    <tr>\n",
              "      <th>1</th>\n",
              "      <td>B1</td>\n",
              "    </tr>\n",
              "    <tr>\n",
              "      <th>2</th>\n",
              "      <td>B2</td>\n",
              "    </tr>\n",
              "    <tr>\n",
              "      <th>3</th>\n",
              "      <td>B3</td>\n",
              "    </tr>\n",
              "  </tbody>\n",
              "</table>\n",
              "</div>"
            ],
            "text/plain": [
              "    B\n",
              "0  B0\n",
              "1  B1\n",
              "2  B2\n",
              "3  B3"
            ]
          },
          "metadata": {
            "tags": []
          },
          "execution_count": 16
        }
      ]
    },
    {
      "cell_type": "code",
      "metadata": {
        "id": "rz3_Q24ta-A6"
      },
      "source": [
        "## exercose 01 (split date continues)\n",
        "#url = \"https://raw.githubusercontent.com/annassanchez/HY-2021-DataScience/main/week04/Helsingin_pyorailijamaarat.csv\"\n",
        "#kk = pd.read_csv(url, sep = ';', header = 0)\n",
        "\n",
        "def split_date(df):\n",
        "    df = df.dropna(axis=0, how='all')\n",
        "    df = df.dropna(axis=1, how='all')\n",
        "    df[[\"Weekday\", \"Day\", \"Month\", \"Year\", \"Hour\"]] = df['Päivämäärä'].str.split(expand=True)\n",
        "    df[[\"Weekday\"]] = df[[\"Weekday\"]].replace({\"ma\": \"Mon\", \"ti\": \"Tue\", \"ke\": \"Wed\", \"to\": \"Thu\", \n",
        "        \"pe\": \"Fri\", \"la\": \"Sat\", \"su\": \"Sun\"})\n",
        "    df[[\"Month\"]] = df[[\"Month\"]].replace({\"tammi\": \"1\", \"helmi\": \"2\", \"maalis\": \"3\", \"huhti\": \"4\", \n",
        "        \"touko\": \"5\", \"kesä\": \"6\", \"heinä\": \"7\", \"elo\": \"8\", \"syys\": \"9\", \"loka\": \"10\", \"marras\": \"11\",\n",
        "        \"joulu\": \"12\"})\n",
        "    df[\"Hour\"] = df[\"Hour\"].str.split(\":\", expand=True)[0].map(int)\n",
        "    df['Päivämäärä'] = df[\"Weekday\"] + \" \" + df[\"Day\"] + \" \" + df[\"Month\"] + \" \" + df[\"Year\"] + \" \" + df[\"Hour\"].map(str)\n",
        "    df = df[df.columns.tolist()[-5:] + [df.columns.tolist()[0]]]\n",
        "    return df.astype({\"Weekday\":object, \"Day\":int,  \"Month\":int, \"Year\":int, \"Hour\": int})"
      ],
      "execution_count": 17,
      "outputs": []
    },
    {
      "cell_type": "code",
      "metadata": {
        "id": "YOOigL5WBDOb"
      },
      "source": [
        "def split_date_continues():\n",
        "    #d = split_date()\n",
        "    url = \"https://raw.githubusercontent.com/annassanchez/HY-2021-DataScience/main/week04/Helsingin_pyorailijamaarat.csv\"\n",
        "    data = pd.read_csv(url, sep = ';', header = 0)\n",
        "    d = split_date(data)\n",
        "    data = data.dropna(axis=0, how='all')\n",
        "    data = data.dropna(axis=1, how='all')\n",
        "    #data.drop(['Päivämäärä'], inplace = True, axis = 1)\n",
        "    final = pd.concat([d, data], axis = 1)\n",
        "    final.drop([final.columns.tolist()[5]],inplace = True, axis = 1)\n",
        "    return final#.astype({\"Weekday\":object, \"Day\":np.int32,  \"Month\":np.int32, \"Year\":np.int32, \"Hour\": float})\n"
      ],
      "execution_count": 18,
      "outputs": []
    },
    {
      "cell_type": "code",
      "metadata": {
        "colab": {
          "base_uri": "https://localhost:8080/",
          "height": 424
        },
        "id": "cFE4re8pa99z",
        "outputId": "dad93f5c-f34f-4ac0-eca2-3a6e7d622f96"
      },
      "source": [
        "url = \"https://raw.githubusercontent.com/annassanchez/HY-2021-DataScience/main/week04/Helsingin_pyorailijamaarat.csv\"\n",
        "df = pd.read_csv(url, sep = ';', header = 0)\n",
        "split_date(df)"
      ],
      "execution_count": 19,
      "outputs": [
        {
          "output_type": "execute_result",
          "data": {
            "text/html": [
              "<div>\n",
              "<style scoped>\n",
              "    .dataframe tbody tr th:only-of-type {\n",
              "        vertical-align: middle;\n",
              "    }\n",
              "\n",
              "    .dataframe tbody tr th {\n",
              "        vertical-align: top;\n",
              "    }\n",
              "\n",
              "    .dataframe thead th {\n",
              "        text-align: right;\n",
              "    }\n",
              "</style>\n",
              "<table border=\"1\" class=\"dataframe\">\n",
              "  <thead>\n",
              "    <tr style=\"text-align: right;\">\n",
              "      <th></th>\n",
              "      <th>Weekday</th>\n",
              "      <th>Day</th>\n",
              "      <th>Month</th>\n",
              "      <th>Year</th>\n",
              "      <th>Hour</th>\n",
              "      <th>Päivämäärä</th>\n",
              "    </tr>\n",
              "  </thead>\n",
              "  <tbody>\n",
              "    <tr>\n",
              "      <th>0</th>\n",
              "      <td>Wed</td>\n",
              "      <td>1</td>\n",
              "      <td>1</td>\n",
              "      <td>2014</td>\n",
              "      <td>0</td>\n",
              "      <td>Wed 1 1 2014 0</td>\n",
              "    </tr>\n",
              "    <tr>\n",
              "      <th>1</th>\n",
              "      <td>Wed</td>\n",
              "      <td>1</td>\n",
              "      <td>1</td>\n",
              "      <td>2014</td>\n",
              "      <td>1</td>\n",
              "      <td>Wed 1 1 2014 1</td>\n",
              "    </tr>\n",
              "    <tr>\n",
              "      <th>2</th>\n",
              "      <td>Wed</td>\n",
              "      <td>1</td>\n",
              "      <td>1</td>\n",
              "      <td>2014</td>\n",
              "      <td>2</td>\n",
              "      <td>Wed 1 1 2014 2</td>\n",
              "    </tr>\n",
              "    <tr>\n",
              "      <th>3</th>\n",
              "      <td>Wed</td>\n",
              "      <td>1</td>\n",
              "      <td>1</td>\n",
              "      <td>2014</td>\n",
              "      <td>3</td>\n",
              "      <td>Wed 1 1 2014 3</td>\n",
              "    </tr>\n",
              "    <tr>\n",
              "      <th>4</th>\n",
              "      <td>Wed</td>\n",
              "      <td>1</td>\n",
              "      <td>1</td>\n",
              "      <td>2014</td>\n",
              "      <td>4</td>\n",
              "      <td>Wed 1 1 2014 4</td>\n",
              "    </tr>\n",
              "    <tr>\n",
              "      <th>...</th>\n",
              "      <td>...</td>\n",
              "      <td>...</td>\n",
              "      <td>...</td>\n",
              "      <td>...</td>\n",
              "      <td>...</td>\n",
              "      <td>...</td>\n",
              "    </tr>\n",
              "    <tr>\n",
              "      <th>37123</th>\n",
              "      <td>Tue</td>\n",
              "      <td>27</td>\n",
              "      <td>3</td>\n",
              "      <td>2018</td>\n",
              "      <td>19</td>\n",
              "      <td>Tue 27 3 2018 19</td>\n",
              "    </tr>\n",
              "    <tr>\n",
              "      <th>37124</th>\n",
              "      <td>Tue</td>\n",
              "      <td>27</td>\n",
              "      <td>3</td>\n",
              "      <td>2018</td>\n",
              "      <td>20</td>\n",
              "      <td>Tue 27 3 2018 20</td>\n",
              "    </tr>\n",
              "    <tr>\n",
              "      <th>37125</th>\n",
              "      <td>Tue</td>\n",
              "      <td>27</td>\n",
              "      <td>3</td>\n",
              "      <td>2018</td>\n",
              "      <td>21</td>\n",
              "      <td>Tue 27 3 2018 21</td>\n",
              "    </tr>\n",
              "    <tr>\n",
              "      <th>37126</th>\n",
              "      <td>Tue</td>\n",
              "      <td>27</td>\n",
              "      <td>3</td>\n",
              "      <td>2018</td>\n",
              "      <td>22</td>\n",
              "      <td>Tue 27 3 2018 22</td>\n",
              "    </tr>\n",
              "    <tr>\n",
              "      <th>37127</th>\n",
              "      <td>Tue</td>\n",
              "      <td>27</td>\n",
              "      <td>3</td>\n",
              "      <td>2018</td>\n",
              "      <td>23</td>\n",
              "      <td>Tue 27 3 2018 23</td>\n",
              "    </tr>\n",
              "  </tbody>\n",
              "</table>\n",
              "<p>37128 rows × 6 columns</p>\n",
              "</div>"
            ],
            "text/plain": [
              "      Weekday  Day  Month  Year  Hour        Päivämäärä\n",
              "0         Wed    1      1  2014     0    Wed 1 1 2014 0\n",
              "1         Wed    1      1  2014     1    Wed 1 1 2014 1\n",
              "2         Wed    1      1  2014     2    Wed 1 1 2014 2\n",
              "3         Wed    1      1  2014     3    Wed 1 1 2014 3\n",
              "4         Wed    1      1  2014     4    Wed 1 1 2014 4\n",
              "...       ...  ...    ...   ...   ...               ...\n",
              "37123     Tue   27      3  2018    19  Tue 27 3 2018 19\n",
              "37124     Tue   27      3  2018    20  Tue 27 3 2018 20\n",
              "37125     Tue   27      3  2018    21  Tue 27 3 2018 21\n",
              "37126     Tue   27      3  2018    22  Tue 27 3 2018 22\n",
              "37127     Tue   27      3  2018    23  Tue 27 3 2018 23\n",
              "\n",
              "[37128 rows x 6 columns]"
            ]
          },
          "metadata": {
            "tags": []
          },
          "execution_count": 19
        }
      ]
    },
    {
      "cell_type": "code",
      "metadata": {
        "colab": {
          "base_uri": "https://localhost:8080/"
        },
        "id": "i34Lr55ka95q",
        "outputId": "645159b3-695a-4ff4-fd06-dd79db5e6072"
      },
      "source": [
        "df = split_date_continues()\n",
        "print(\"Shape:\", df.shape)\n",
        "print(\"Column names:\\n\", df.columns)\n",
        "print(df.head())"
      ],
      "execution_count": 20,
      "outputs": [
        {
          "output_type": "stream",
          "text": [
            "Shape: (37128, 25)\n",
            "Column names:\n",
            " Index(['Weekday', 'Day', 'Month', 'Year', 'Hour', 'Auroransilta',\n",
            "       'Eteläesplanadi', 'Huopalahti (asema)', 'Kaisaniemi/Eläintarhanlahti',\n",
            "       'Kaivokatu', 'Kulosaaren silta et.', 'Kulosaaren silta po. ',\n",
            "       'Kuusisaarentie', 'Käpylä, Pohjoisbaana',\n",
            "       'Lauttasaaren silta eteläpuoli', 'Merikannontie',\n",
            "       'Munkkiniemen silta eteläpuoli', 'Munkkiniemi silta pohjoispuoli',\n",
            "       'Heperian puisto/Ooppera', 'Pitkäsilta itäpuoli',\n",
            "       'Pitkäsilta länsipuoli', 'Lauttasaaren silta pohjoispuoli',\n",
            "       'Ratapihantie', 'Viikintie', 'Baana'],\n",
            "      dtype='object')\n",
            "  Weekday  Day  Month  ...  Ratapihantie  Viikintie  Baana\n",
            "0     Wed    1      1  ...           NaN        NaN    8.0\n",
            "1     Wed    1      1  ...           NaN        NaN    4.0\n",
            "2     Wed    1      1  ...           NaN        NaN   11.0\n",
            "3     Wed    1      1  ...           NaN        NaN    3.0\n",
            "4     Wed    1      1  ...           NaN        NaN    4.0\n",
            "\n",
            "[5 rows x 25 columns]\n"
          ],
          "name": "stdout"
        }
      ]
    },
    {
      "cell_type": "code",
      "metadata": {
        "colab": {
          "base_uri": "https://localhost:8080/"
        },
        "id": "sPb1BOaxa9sE",
        "outputId": "ad1c4d98-8825-470f-8116-0228b7e101cd"
      },
      "source": [
        "## alternative solution\n",
        "days = dict(zip(\"ma ti ke to pe la su\".split(), \"Mon Tue Wed Thu Fri Sat Sun\".split()))\n",
        "months = dict(zip(\"tammi helmi maalis huhti touko kesä heinä elo syys loka marras joulu\".split(), range(1, 13)))\n",
        "\n",
        "def split_date(df):\n",
        "    d = df[\"Päivämäärä\"].str.split(expand=True)\n",
        "    d.columns = [\"Weekday\", \"Day\", \"Month\", \"Year\", \"Hour\"]\n",
        "    hourmin = d[\"Hour\"].str.split(\":\", expand=True)\n",
        "    d[\"Hour\"] = hourmin.iloc[:, 0]\n",
        "    d[\"Weekday\"] = d[\"Weekday\"].map(days)\n",
        "    d[\"Month\"] = d[\"Month\"].map(months)\n",
        "    d = d.astype({\"Weekday\": object, \"Day\": int, \"Month\": int, \"Year\": int, \"Hour\": int})\n",
        "    return d\n",
        "def split_date_continues():\n",
        "    url = \"https://raw.githubusercontent.com/annassanchez/HY-2021-DataScience/main/week04/Helsingin_pyorailijamaarat.csv\"\n",
        "    df = pd.read_csv(url, sep = ';', header = 0)\n",
        "    df = df.dropna(axis=0, how=\"all\").dropna(axis=1, how=\"all\")\n",
        "    d = split_date(df)\n",
        "    df = df.drop(\"Päivämäärä\", axis=1)\n",
        "    result = pd.concat([d, df], axis=1)\n",
        "    return result\n",
        "\n",
        "\n",
        "df = split_date_continues()\n",
        "print(\"Shape:\", df.shape)\n",
        "print(\"Column names:\\n\", df.columns)\n",
        "print(df.head())"
      ],
      "execution_count": 21,
      "outputs": [
        {
          "output_type": "stream",
          "text": [
            "Shape: (37128, 25)\n",
            "Column names:\n",
            " Index(['Weekday', 'Day', 'Month', 'Year', 'Hour', 'Auroransilta',\n",
            "       'Eteläesplanadi', 'Huopalahti (asema)', 'Kaisaniemi/Eläintarhanlahti',\n",
            "       'Kaivokatu', 'Kulosaaren silta et.', 'Kulosaaren silta po. ',\n",
            "       'Kuusisaarentie', 'Käpylä, Pohjoisbaana',\n",
            "       'Lauttasaaren silta eteläpuoli', 'Merikannontie',\n",
            "       'Munkkiniemen silta eteläpuoli', 'Munkkiniemi silta pohjoispuoli',\n",
            "       'Heperian puisto/Ooppera', 'Pitkäsilta itäpuoli',\n",
            "       'Pitkäsilta länsipuoli', 'Lauttasaaren silta pohjoispuoli',\n",
            "       'Ratapihantie', 'Viikintie', 'Baana'],\n",
            "      dtype='object')\n",
            "  Weekday  Day  Month  ...  Ratapihantie  Viikintie  Baana\n",
            "0     Wed    1      1  ...           NaN        NaN    8.0\n",
            "1     Wed    1      1  ...           NaN        NaN    4.0\n",
            "2     Wed    1      1  ...           NaN        NaN   11.0\n",
            "3     Wed    1      1  ...           NaN        NaN    3.0\n",
            "4     Wed    1      1  ...           NaN        NaN    4.0\n",
            "\n",
            "[5 rows x 25 columns]\n"
          ],
          "name": "stdout"
        }
      ]
    },
    {
      "cell_type": "markdown",
      "metadata": {
        "id": "IMbMDZkZNADq"
      },
      "source": [
        "##Merging dataframes"
      ]
    },
    {
      "cell_type": "code",
      "metadata": {
        "id": "0KAEmyIBa9n0",
        "colab": {
          "base_uri": "https://localhost:8080/",
          "height": 112
        },
        "outputId": "3c85619e-e45b-4ee0-8be3-e29781d13a6c"
      },
      "source": [
        "## original dataframe with the wages and ages\n",
        "df = pd.DataFrame([[1000, \"Jack\", 21], [1500, \"John\", 29]], columns=[\"Wage\", \"Name\", \"Age\"])\n",
        "df"
      ],
      "execution_count": 22,
      "outputs": [
        {
          "output_type": "execute_result",
          "data": {
            "text/html": [
              "<div>\n",
              "<style scoped>\n",
              "    .dataframe tbody tr th:only-of-type {\n",
              "        vertical-align: middle;\n",
              "    }\n",
              "\n",
              "    .dataframe tbody tr th {\n",
              "        vertical-align: top;\n",
              "    }\n",
              "\n",
              "    .dataframe thead th {\n",
              "        text-align: right;\n",
              "    }\n",
              "</style>\n",
              "<table border=\"1\" class=\"dataframe\">\n",
              "  <thead>\n",
              "    <tr style=\"text-align: right;\">\n",
              "      <th></th>\n",
              "      <th>Wage</th>\n",
              "      <th>Name</th>\n",
              "      <th>Age</th>\n",
              "    </tr>\n",
              "  </thead>\n",
              "  <tbody>\n",
              "    <tr>\n",
              "      <th>0</th>\n",
              "      <td>1000</td>\n",
              "      <td>Jack</td>\n",
              "      <td>21</td>\n",
              "    </tr>\n",
              "    <tr>\n",
              "      <th>1</th>\n",
              "      <td>1500</td>\n",
              "      <td>John</td>\n",
              "      <td>29</td>\n",
              "    </tr>\n",
              "  </tbody>\n",
              "</table>\n",
              "</div>"
            ],
            "text/plain": [
              "   Wage  Name  Age\n",
              "0  1000  Jack   21\n",
              "1  1500  John   29"
            ]
          },
          "metadata": {
            "tags": []
          },
          "execution_count": 22
        }
      ]
    },
    {
      "cell_type": "code",
      "metadata": {
        "colab": {
          "base_uri": "https://localhost:8080/",
          "height": 112
        },
        "id": "TYk5UPvMNNC-",
        "outputId": "e1d98904-637f-43bb-a0d9-f74c2be9b3aa"
      },
      "source": [
        "## occupations of persons\n",
        "df2 = pd.DataFrame({\"Name\" : [\"John\", \"Jack\"], \"Occupation\": [\"Plumber\", \"Carpenter\"]})\n",
        "df2"
      ],
      "execution_count": 23,
      "outputs": [
        {
          "output_type": "execute_result",
          "data": {
            "text/html": [
              "<div>\n",
              "<style scoped>\n",
              "    .dataframe tbody tr th:only-of-type {\n",
              "        vertical-align: middle;\n",
              "    }\n",
              "\n",
              "    .dataframe tbody tr th {\n",
              "        vertical-align: top;\n",
              "    }\n",
              "\n",
              "    .dataframe thead th {\n",
              "        text-align: right;\n",
              "    }\n",
              "</style>\n",
              "<table border=\"1\" class=\"dataframe\">\n",
              "  <thead>\n",
              "    <tr style=\"text-align: right;\">\n",
              "      <th></th>\n",
              "      <th>Name</th>\n",
              "      <th>Occupation</th>\n",
              "    </tr>\n",
              "  </thead>\n",
              "  <tbody>\n",
              "    <tr>\n",
              "      <th>0</th>\n",
              "      <td>John</td>\n",
              "      <td>Plumber</td>\n",
              "    </tr>\n",
              "    <tr>\n",
              "      <th>1</th>\n",
              "      <td>Jack</td>\n",
              "      <td>Carpenter</td>\n",
              "    </tr>\n",
              "  </tbody>\n",
              "</table>\n",
              "</div>"
            ],
            "text/plain": [
              "   Name Occupation\n",
              "0  John    Plumber\n",
              "1  Jack  Carpenter"
            ]
          },
          "metadata": {
            "tags": []
          },
          "execution_count": 23
        }
      ]
    },
    {
      "cell_type": "code",
      "metadata": {
        "colab": {
          "base_uri": "https://localhost:8080/",
          "height": 112
        },
        "id": "-mBhogLTNWWG",
        "outputId": "f23d6374-925f-4508-8336-a74b80da1e4d"
      },
      "source": [
        "# merge joins two dataframes based on a common field and will keep the indices aligned\n",
        "pd.merge(df, df2)"
      ],
      "execution_count": 24,
      "outputs": [
        {
          "output_type": "execute_result",
          "data": {
            "text/html": [
              "<div>\n",
              "<style scoped>\n",
              "    .dataframe tbody tr th:only-of-type {\n",
              "        vertical-align: middle;\n",
              "    }\n",
              "\n",
              "    .dataframe tbody tr th {\n",
              "        vertical-align: top;\n",
              "    }\n",
              "\n",
              "    .dataframe thead th {\n",
              "        text-align: right;\n",
              "    }\n",
              "</style>\n",
              "<table border=\"1\" class=\"dataframe\">\n",
              "  <thead>\n",
              "    <tr style=\"text-align: right;\">\n",
              "      <th></th>\n",
              "      <th>Wage</th>\n",
              "      <th>Name</th>\n",
              "      <th>Age</th>\n",
              "      <th>Occupation</th>\n",
              "    </tr>\n",
              "  </thead>\n",
              "  <tbody>\n",
              "    <tr>\n",
              "      <th>0</th>\n",
              "      <td>1000</td>\n",
              "      <td>Jack</td>\n",
              "      <td>21</td>\n",
              "      <td>Carpenter</td>\n",
              "    </tr>\n",
              "    <tr>\n",
              "      <th>1</th>\n",
              "      <td>1500</td>\n",
              "      <td>John</td>\n",
              "      <td>29</td>\n",
              "      <td>Plumber</td>\n",
              "    </tr>\n",
              "  </tbody>\n",
              "</table>\n",
              "</div>"
            ],
            "text/plain": [
              "   Wage  Name  Age Occupation\n",
              "0  1000  Jack   21  Carpenter\n",
              "1  1500  John   29    Plumber"
            ]
          },
          "metadata": {
            "tags": []
          },
          "execution_count": 24
        }
      ]
    },
    {
      "cell_type": "code",
      "metadata": {
        "colab": {
          "base_uri": "https://localhost:8080/",
          "height": 143
        },
        "id": "20sVJDYwNpDG",
        "outputId": "60f279fb-b170-4c24-df06-c0c89a64fc13"
      },
      "source": [
        "## sometimes not all the keys appear in both dataframes:\n",
        "df3 = pd.concat([df2, pd.DataFrame({ \"Name\" : [\"James\"], \"Occupation\":[\"Painter\"]})], ignore_index=True)\n",
        "df3"
      ],
      "execution_count": 25,
      "outputs": [
        {
          "output_type": "execute_result",
          "data": {
            "text/html": [
              "<div>\n",
              "<style scoped>\n",
              "    .dataframe tbody tr th:only-of-type {\n",
              "        vertical-align: middle;\n",
              "    }\n",
              "\n",
              "    .dataframe tbody tr th {\n",
              "        vertical-align: top;\n",
              "    }\n",
              "\n",
              "    .dataframe thead th {\n",
              "        text-align: right;\n",
              "    }\n",
              "</style>\n",
              "<table border=\"1\" class=\"dataframe\">\n",
              "  <thead>\n",
              "    <tr style=\"text-align: right;\">\n",
              "      <th></th>\n",
              "      <th>Name</th>\n",
              "      <th>Occupation</th>\n",
              "    </tr>\n",
              "  </thead>\n",
              "  <tbody>\n",
              "    <tr>\n",
              "      <th>0</th>\n",
              "      <td>John</td>\n",
              "      <td>Plumber</td>\n",
              "    </tr>\n",
              "    <tr>\n",
              "      <th>1</th>\n",
              "      <td>Jack</td>\n",
              "      <td>Carpenter</td>\n",
              "    </tr>\n",
              "    <tr>\n",
              "      <th>2</th>\n",
              "      <td>James</td>\n",
              "      <td>Painter</td>\n",
              "    </tr>\n",
              "  </tbody>\n",
              "</table>\n",
              "</div>"
            ],
            "text/plain": [
              "    Name Occupation\n",
              "0   John    Plumber\n",
              "1   Jack  Carpenter\n",
              "2  James    Painter"
            ]
          },
          "metadata": {
            "tags": []
          },
          "execution_count": 25
        }
      ]
    },
    {
      "cell_type": "code",
      "metadata": {
        "colab": {
          "base_uri": "https://localhost:8080/",
          "height": 112
        },
        "id": "M9248H6UN4y-",
        "outputId": "1f2a5021-4ce1-42b3-c370-f6950e651c7b"
      },
      "source": [
        "## when merging, only joins the common index\n",
        "pd.merge(df, df3)                # By default an inner join is computed"
      ],
      "execution_count": 26,
      "outputs": [
        {
          "output_type": "execute_result",
          "data": {
            "text/html": [
              "<div>\n",
              "<style scoped>\n",
              "    .dataframe tbody tr th:only-of-type {\n",
              "        vertical-align: middle;\n",
              "    }\n",
              "\n",
              "    .dataframe tbody tr th {\n",
              "        vertical-align: top;\n",
              "    }\n",
              "\n",
              "    .dataframe thead th {\n",
              "        text-align: right;\n",
              "    }\n",
              "</style>\n",
              "<table border=\"1\" class=\"dataframe\">\n",
              "  <thead>\n",
              "    <tr style=\"text-align: right;\">\n",
              "      <th></th>\n",
              "      <th>Wage</th>\n",
              "      <th>Name</th>\n",
              "      <th>Age</th>\n",
              "      <th>Occupation</th>\n",
              "    </tr>\n",
              "  </thead>\n",
              "  <tbody>\n",
              "    <tr>\n",
              "      <th>0</th>\n",
              "      <td>1000</td>\n",
              "      <td>Jack</td>\n",
              "      <td>21</td>\n",
              "      <td>Carpenter</td>\n",
              "    </tr>\n",
              "    <tr>\n",
              "      <th>1</th>\n",
              "      <td>1500</td>\n",
              "      <td>John</td>\n",
              "      <td>29</td>\n",
              "      <td>Plumber</td>\n",
              "    </tr>\n",
              "  </tbody>\n",
              "</table>\n",
              "</div>"
            ],
            "text/plain": [
              "   Wage  Name  Age Occupation\n",
              "0  1000  Jack   21  Carpenter\n",
              "1  1500  John   29    Plumber"
            ]
          },
          "metadata": {
            "tags": []
          },
          "execution_count": 26
        }
      ]
    },
    {
      "cell_type": "code",
      "metadata": {
        "colab": {
          "base_uri": "https://localhost:8080/",
          "height": 143
        },
        "id": "Qw57fwlvN_uV",
        "outputId": "3d8ca62c-1dad-410c-fd6a-60d9471b480d"
      },
      "source": [
        "pd.merge(df, df3, how=\"outer\")   # Outer join"
      ],
      "execution_count": 27,
      "outputs": [
        {
          "output_type": "execute_result",
          "data": {
            "text/html": [
              "<div>\n",
              "<style scoped>\n",
              "    .dataframe tbody tr th:only-of-type {\n",
              "        vertical-align: middle;\n",
              "    }\n",
              "\n",
              "    .dataframe tbody tr th {\n",
              "        vertical-align: top;\n",
              "    }\n",
              "\n",
              "    .dataframe thead th {\n",
              "        text-align: right;\n",
              "    }\n",
              "</style>\n",
              "<table border=\"1\" class=\"dataframe\">\n",
              "  <thead>\n",
              "    <tr style=\"text-align: right;\">\n",
              "      <th></th>\n",
              "      <th>Wage</th>\n",
              "      <th>Name</th>\n",
              "      <th>Age</th>\n",
              "      <th>Occupation</th>\n",
              "    </tr>\n",
              "  </thead>\n",
              "  <tbody>\n",
              "    <tr>\n",
              "      <th>0</th>\n",
              "      <td>1000.0</td>\n",
              "      <td>Jack</td>\n",
              "      <td>21.0</td>\n",
              "      <td>Carpenter</td>\n",
              "    </tr>\n",
              "    <tr>\n",
              "      <th>1</th>\n",
              "      <td>1500.0</td>\n",
              "      <td>John</td>\n",
              "      <td>29.0</td>\n",
              "      <td>Plumber</td>\n",
              "    </tr>\n",
              "    <tr>\n",
              "      <th>2</th>\n",
              "      <td>NaN</td>\n",
              "      <td>James</td>\n",
              "      <td>NaN</td>\n",
              "      <td>Painter</td>\n",
              "    </tr>\n",
              "  </tbody>\n",
              "</table>\n",
              "</div>"
            ],
            "text/plain": [
              "     Wage   Name   Age Occupation\n",
              "0  1000.0   Jack  21.0  Carpenter\n",
              "1  1500.0   John  29.0    Plumber\n",
              "2     NaN  James   NaN    Painter"
            ]
          },
          "metadata": {
            "tags": []
          },
          "execution_count": 27
        }
      ]
    },
    {
      "cell_type": "code",
      "metadata": {
        "colab": {
          "base_uri": "https://localhost:8080/",
          "height": 143
        },
        "id": "-J_141lXOCIN",
        "outputId": "33bf0a56-1a2d-488d-9560-6b9ad6d868e5"
      },
      "source": [
        "## one-to-many relationship is also possible on merges\n",
        "books = pd.DataFrame({\"Title\" : [\"War and Peace\", \"Good Omens\", \"Good Omens\"] ,\n",
        "                      \"Author\" : [\"Tolstoi\", \"Terry Pratchett\", \"Neil Gaiman\"]})\n",
        "books"
      ],
      "execution_count": 28,
      "outputs": [
        {
          "output_type": "execute_result",
          "data": {
            "text/html": [
              "<div>\n",
              "<style scoped>\n",
              "    .dataframe tbody tr th:only-of-type {\n",
              "        vertical-align: middle;\n",
              "    }\n",
              "\n",
              "    .dataframe tbody tr th {\n",
              "        vertical-align: top;\n",
              "    }\n",
              "\n",
              "    .dataframe thead th {\n",
              "        text-align: right;\n",
              "    }\n",
              "</style>\n",
              "<table border=\"1\" class=\"dataframe\">\n",
              "  <thead>\n",
              "    <tr style=\"text-align: right;\">\n",
              "      <th></th>\n",
              "      <th>Title</th>\n",
              "      <th>Author</th>\n",
              "    </tr>\n",
              "  </thead>\n",
              "  <tbody>\n",
              "    <tr>\n",
              "      <th>0</th>\n",
              "      <td>War and Peace</td>\n",
              "      <td>Tolstoi</td>\n",
              "    </tr>\n",
              "    <tr>\n",
              "      <th>1</th>\n",
              "      <td>Good Omens</td>\n",
              "      <td>Terry Pratchett</td>\n",
              "    </tr>\n",
              "    <tr>\n",
              "      <th>2</th>\n",
              "      <td>Good Omens</td>\n",
              "      <td>Neil Gaiman</td>\n",
              "    </tr>\n",
              "  </tbody>\n",
              "</table>\n",
              "</div>"
            ],
            "text/plain": [
              "           Title           Author\n",
              "0  War and Peace          Tolstoi\n",
              "1     Good Omens  Terry Pratchett\n",
              "2     Good Omens      Neil Gaiman"
            ]
          },
          "metadata": {
            "tags": []
          },
          "execution_count": 28
        }
      ]
    },
    {
      "cell_type": "code",
      "metadata": {
        "colab": {
          "base_uri": "https://localhost:8080/",
          "height": 175
        },
        "id": "bNxxwnUcOHJt",
        "outputId": "d3629da6-a9d3-44b8-c399-1be53f7b8a5e"
      },
      "source": [
        "collections = pd.DataFrame([[\"Oodi\", \"War and Peace\"],\n",
        "                           [\"Oodi\", \"Good Omens\"],\n",
        "                           [\"Pasila\", \"Good Omens\"],\n",
        "                           [\"Kallio\", \"War and Peace\"]], columns=[\"Library\", \"Title\"])\n",
        "collections"
      ],
      "execution_count": 29,
      "outputs": [
        {
          "output_type": "execute_result",
          "data": {
            "text/html": [
              "<div>\n",
              "<style scoped>\n",
              "    .dataframe tbody tr th:only-of-type {\n",
              "        vertical-align: middle;\n",
              "    }\n",
              "\n",
              "    .dataframe tbody tr th {\n",
              "        vertical-align: top;\n",
              "    }\n",
              "\n",
              "    .dataframe thead th {\n",
              "        text-align: right;\n",
              "    }\n",
              "</style>\n",
              "<table border=\"1\" class=\"dataframe\">\n",
              "  <thead>\n",
              "    <tr style=\"text-align: right;\">\n",
              "      <th></th>\n",
              "      <th>Library</th>\n",
              "      <th>Title</th>\n",
              "    </tr>\n",
              "  </thead>\n",
              "  <tbody>\n",
              "    <tr>\n",
              "      <th>0</th>\n",
              "      <td>Oodi</td>\n",
              "      <td>War and Peace</td>\n",
              "    </tr>\n",
              "    <tr>\n",
              "      <th>1</th>\n",
              "      <td>Oodi</td>\n",
              "      <td>Good Omens</td>\n",
              "    </tr>\n",
              "    <tr>\n",
              "      <th>2</th>\n",
              "      <td>Pasila</td>\n",
              "      <td>Good Omens</td>\n",
              "    </tr>\n",
              "    <tr>\n",
              "      <th>3</th>\n",
              "      <td>Kallio</td>\n",
              "      <td>War and Peace</td>\n",
              "    </tr>\n",
              "  </tbody>\n",
              "</table>\n",
              "</div>"
            ],
            "text/plain": [
              "  Library          Title\n",
              "0    Oodi  War and Peace\n",
              "1    Oodi     Good Omens\n",
              "2  Pasila     Good Omens\n",
              "3  Kallio  War and Peace"
            ]
          },
          "metadata": {
            "tags": []
          },
          "execution_count": 29
        }
      ]
    },
    {
      "cell_type": "code",
      "metadata": {
        "colab": {
          "base_uri": "https://localhost:8080/",
          "height": 238
        },
        "id": "DDKrQ3PrOJid",
        "outputId": "89822871-e361-44af-9f60-2728be00dc9b"
      },
      "source": [
        "libraries_with_books_by = pd.merge(books, collections)\n",
        "libraries_with_books_by"
      ],
      "execution_count": 30,
      "outputs": [
        {
          "output_type": "execute_result",
          "data": {
            "text/html": [
              "<div>\n",
              "<style scoped>\n",
              "    .dataframe tbody tr th:only-of-type {\n",
              "        vertical-align: middle;\n",
              "    }\n",
              "\n",
              "    .dataframe tbody tr th {\n",
              "        vertical-align: top;\n",
              "    }\n",
              "\n",
              "    .dataframe thead th {\n",
              "        text-align: right;\n",
              "    }\n",
              "</style>\n",
              "<table border=\"1\" class=\"dataframe\">\n",
              "  <thead>\n",
              "    <tr style=\"text-align: right;\">\n",
              "      <th></th>\n",
              "      <th>Title</th>\n",
              "      <th>Author</th>\n",
              "      <th>Library</th>\n",
              "    </tr>\n",
              "  </thead>\n",
              "  <tbody>\n",
              "    <tr>\n",
              "      <th>0</th>\n",
              "      <td>War and Peace</td>\n",
              "      <td>Tolstoi</td>\n",
              "      <td>Oodi</td>\n",
              "    </tr>\n",
              "    <tr>\n",
              "      <th>1</th>\n",
              "      <td>War and Peace</td>\n",
              "      <td>Tolstoi</td>\n",
              "      <td>Kallio</td>\n",
              "    </tr>\n",
              "    <tr>\n",
              "      <th>2</th>\n",
              "      <td>Good Omens</td>\n",
              "      <td>Terry Pratchett</td>\n",
              "      <td>Oodi</td>\n",
              "    </tr>\n",
              "    <tr>\n",
              "      <th>3</th>\n",
              "      <td>Good Omens</td>\n",
              "      <td>Terry Pratchett</td>\n",
              "      <td>Pasila</td>\n",
              "    </tr>\n",
              "    <tr>\n",
              "      <th>4</th>\n",
              "      <td>Good Omens</td>\n",
              "      <td>Neil Gaiman</td>\n",
              "      <td>Oodi</td>\n",
              "    </tr>\n",
              "    <tr>\n",
              "      <th>5</th>\n",
              "      <td>Good Omens</td>\n",
              "      <td>Neil Gaiman</td>\n",
              "      <td>Pasila</td>\n",
              "    </tr>\n",
              "  </tbody>\n",
              "</table>\n",
              "</div>"
            ],
            "text/plain": [
              "           Title           Author Library\n",
              "0  War and Peace          Tolstoi    Oodi\n",
              "1  War and Peace          Tolstoi  Kallio\n",
              "2     Good Omens  Terry Pratchett    Oodi\n",
              "3     Good Omens  Terry Pratchett  Pasila\n",
              "4     Good Omens      Neil Gaiman    Oodi\n",
              "5     Good Omens      Neil Gaiman  Pasila"
            ]
          },
          "metadata": {
            "tags": []
          },
          "execution_count": 30
        }
      ]
    },
    {
      "cell_type": "code",
      "metadata": {
        "id": "4VaY7l9DOcPH"
      },
      "source": [
        "## exercise 02: cycling weather\n",
        "def cycling_weather():\n",
        "  url_weather = 'https://raw.githubusercontent.com/annassanchez/HY-2021-DataScience/main/week05/kumpula-weather-2017.csv'\n",
        "  url_cycling = 'https://raw.githubusercontent.com/annassanchez/HY-2021-DataScience/main/week05/Helsingin_pyorailijamaarat.csv'\n",
        "  df_weather = pd.read_csv(url_weather, sep=',')\n",
        "  df_cycling = pd.read_csv(url_cycling, sep=';')\n",
        "  df_cycling = df_cycling.dropna(axis=0, how=\"all\").dropna(axis=1, how=\"all\")\n",
        "  df_cycling[[\"Weekday\", \"Day\", \"Month\", \"Year\", \"Hour\"]] = df_cycling['Päivämäärä'].str.split(expand=True)\n",
        "  df_cycling[[\"Month\"]] = df_cycling[[\"Month\"]].replace({\"tammi\": \"1\", \"helmi\": \"2\", \"maalis\": \"3\", \n",
        "                                                          \"huhti\": \"4\", \"touko\": \"5\", \"kesä\": \"6\", \n",
        "                                                          \"heinä\": \"7\", \"elo\": \"8\", \"syys\": \"9\", \n",
        "                                                          \"loka\": \"10\", \"marras\": \"11\", \"joulu\": \"12\"})\n",
        "  df_cycling = df_cycling.astype({\"Weekday\": object, \"Day\": int, \"Month\": int, \"Year\": int})\n",
        "  df_cyc_weat = pd.merge(df_weather, df_cycling, left_on=['d', 'm', 'Year'], \n",
        "                          right_on=[\"Day\", \"Month\", \"Year\"])\n",
        "  df_cyc_weat.drop(['m', 'd', 'Time', 'Time zone', 'Päivämäärä'], inplace=True, axis = 1)\n",
        "  return df_cyc_weat"
      ],
      "execution_count": 31,
      "outputs": []
    },
    {
      "cell_type": "code",
      "metadata": {
        "colab": {
          "base_uri": "https://localhost:8080/",
          "height": 479
        },
        "id": "M796ixxbTNFu",
        "outputId": "58ea8a54-eb87-42d4-9746-757be7f77865"
      },
      "source": [
        "cycling_weather()"
      ],
      "execution_count": 32,
      "outputs": [
        {
          "output_type": "execute_result",
          "data": {
            "text/html": [
              "<div>\n",
              "<style scoped>\n",
              "    .dataframe tbody tr th:only-of-type {\n",
              "        vertical-align: middle;\n",
              "    }\n",
              "\n",
              "    .dataframe tbody tr th {\n",
              "        vertical-align: top;\n",
              "    }\n",
              "\n",
              "    .dataframe thead th {\n",
              "        text-align: right;\n",
              "    }\n",
              "</style>\n",
              "<table border=\"1\" class=\"dataframe\">\n",
              "  <thead>\n",
              "    <tr style=\"text-align: right;\">\n",
              "      <th></th>\n",
              "      <th>Year</th>\n",
              "      <th>Precipitation amount (mm)</th>\n",
              "      <th>Snow depth (cm)</th>\n",
              "      <th>Air temperature (degC)</th>\n",
              "      <th>Auroransilta</th>\n",
              "      <th>Eteläesplanadi</th>\n",
              "      <th>Huopalahti (asema)</th>\n",
              "      <th>Kaisaniemi/Eläintarhanlahti</th>\n",
              "      <th>Kaivokatu</th>\n",
              "      <th>Kulosaaren silta et.</th>\n",
              "      <th>Kulosaaren silta po.</th>\n",
              "      <th>Kuusisaarentie</th>\n",
              "      <th>Käpylä, Pohjoisbaana</th>\n",
              "      <th>Lauttasaaren silta eteläpuoli</th>\n",
              "      <th>Merikannontie</th>\n",
              "      <th>Munkkiniemen silta eteläpuoli</th>\n",
              "      <th>Munkkiniemi silta pohjoispuoli</th>\n",
              "      <th>Heperian puisto/Ooppera</th>\n",
              "      <th>Pitkäsilta itäpuoli</th>\n",
              "      <th>Pitkäsilta länsipuoli</th>\n",
              "      <th>Lauttasaaren silta pohjoispuoli</th>\n",
              "      <th>Ratapihantie</th>\n",
              "      <th>Viikintie</th>\n",
              "      <th>Baana</th>\n",
              "      <th>Weekday</th>\n",
              "      <th>Day</th>\n",
              "      <th>Month</th>\n",
              "      <th>Hour</th>\n",
              "    </tr>\n",
              "  </thead>\n",
              "  <tbody>\n",
              "    <tr>\n",
              "      <th>0</th>\n",
              "      <td>2017</td>\n",
              "      <td>-1.0</td>\n",
              "      <td>-1.0</td>\n",
              "      <td>0.6</td>\n",
              "      <td>NaN</td>\n",
              "      <td>11.0</td>\n",
              "      <td>8.0</td>\n",
              "      <td>14.0</td>\n",
              "      <td>NaN</td>\n",
              "      <td>0.0</td>\n",
              "      <td>10.0</td>\n",
              "      <td>2.0</td>\n",
              "      <td>NaN</td>\n",
              "      <td>21.0</td>\n",
              "      <td>8.0</td>\n",
              "      <td>10.0</td>\n",
              "      <td>4.0</td>\n",
              "      <td>22.0</td>\n",
              "      <td>19.0</td>\n",
              "      <td>14.0</td>\n",
              "      <td>15.0</td>\n",
              "      <td>8.0</td>\n",
              "      <td>NaN</td>\n",
              "      <td>13.0</td>\n",
              "      <td>su</td>\n",
              "      <td>1</td>\n",
              "      <td>1</td>\n",
              "      <td>00:00</td>\n",
              "    </tr>\n",
              "    <tr>\n",
              "      <th>1</th>\n",
              "      <td>2017</td>\n",
              "      <td>-1.0</td>\n",
              "      <td>-1.0</td>\n",
              "      <td>0.6</td>\n",
              "      <td>NaN</td>\n",
              "      <td>3.0</td>\n",
              "      <td>3.0</td>\n",
              "      <td>8.0</td>\n",
              "      <td>NaN</td>\n",
              "      <td>0.0</td>\n",
              "      <td>8.0</td>\n",
              "      <td>5.0</td>\n",
              "      <td>NaN</td>\n",
              "      <td>7.0</td>\n",
              "      <td>5.0</td>\n",
              "      <td>4.0</td>\n",
              "      <td>3.0</td>\n",
              "      <td>12.0</td>\n",
              "      <td>5.0</td>\n",
              "      <td>12.0</td>\n",
              "      <td>17.0</td>\n",
              "      <td>1.0</td>\n",
              "      <td>NaN</td>\n",
              "      <td>2.0</td>\n",
              "      <td>su</td>\n",
              "      <td>1</td>\n",
              "      <td>1</td>\n",
              "      <td>01:00</td>\n",
              "    </tr>\n",
              "    <tr>\n",
              "      <th>2</th>\n",
              "      <td>2017</td>\n",
              "      <td>-1.0</td>\n",
              "      <td>-1.0</td>\n",
              "      <td>0.6</td>\n",
              "      <td>NaN</td>\n",
              "      <td>2.0</td>\n",
              "      <td>5.0</td>\n",
              "      <td>5.0</td>\n",
              "      <td>NaN</td>\n",
              "      <td>0.0</td>\n",
              "      <td>2.0</td>\n",
              "      <td>3.0</td>\n",
              "      <td>NaN</td>\n",
              "      <td>6.0</td>\n",
              "      <td>5.0</td>\n",
              "      <td>4.0</td>\n",
              "      <td>4.0</td>\n",
              "      <td>4.0</td>\n",
              "      <td>5.0</td>\n",
              "      <td>6.0</td>\n",
              "      <td>5.0</td>\n",
              "      <td>5.0</td>\n",
              "      <td>NaN</td>\n",
              "      <td>3.0</td>\n",
              "      <td>su</td>\n",
              "      <td>1</td>\n",
              "      <td>1</td>\n",
              "      <td>02:00</td>\n",
              "    </tr>\n",
              "    <tr>\n",
              "      <th>3</th>\n",
              "      <td>2017</td>\n",
              "      <td>-1.0</td>\n",
              "      <td>-1.0</td>\n",
              "      <td>0.6</td>\n",
              "      <td>NaN</td>\n",
              "      <td>2.0</td>\n",
              "      <td>1.0</td>\n",
              "      <td>0.0</td>\n",
              "      <td>NaN</td>\n",
              "      <td>0.0</td>\n",
              "      <td>0.0</td>\n",
              "      <td>2.0</td>\n",
              "      <td>NaN</td>\n",
              "      <td>6.0</td>\n",
              "      <td>0.0</td>\n",
              "      <td>2.0</td>\n",
              "      <td>0.0</td>\n",
              "      <td>6.0</td>\n",
              "      <td>6.0</td>\n",
              "      <td>10.0</td>\n",
              "      <td>0.0</td>\n",
              "      <td>1.0</td>\n",
              "      <td>NaN</td>\n",
              "      <td>7.0</td>\n",
              "      <td>su</td>\n",
              "      <td>1</td>\n",
              "      <td>1</td>\n",
              "      <td>03:00</td>\n",
              "    </tr>\n",
              "    <tr>\n",
              "      <th>4</th>\n",
              "      <td>2017</td>\n",
              "      <td>-1.0</td>\n",
              "      <td>-1.0</td>\n",
              "      <td>0.6</td>\n",
              "      <td>NaN</td>\n",
              "      <td>1.0</td>\n",
              "      <td>0.0</td>\n",
              "      <td>2.0</td>\n",
              "      <td>NaN</td>\n",
              "      <td>0.0</td>\n",
              "      <td>1.0</td>\n",
              "      <td>1.0</td>\n",
              "      <td>NaN</td>\n",
              "      <td>1.0</td>\n",
              "      <td>0.0</td>\n",
              "      <td>1.0</td>\n",
              "      <td>1.0</td>\n",
              "      <td>7.0</td>\n",
              "      <td>1.0</td>\n",
              "      <td>6.0</td>\n",
              "      <td>1.0</td>\n",
              "      <td>0.0</td>\n",
              "      <td>NaN</td>\n",
              "      <td>3.0</td>\n",
              "      <td>su</td>\n",
              "      <td>1</td>\n",
              "      <td>1</td>\n",
              "      <td>04:00</td>\n",
              "    </tr>\n",
              "    <tr>\n",
              "      <th>...</th>\n",
              "      <td>...</td>\n",
              "      <td>...</td>\n",
              "      <td>...</td>\n",
              "      <td>...</td>\n",
              "      <td>...</td>\n",
              "      <td>...</td>\n",
              "      <td>...</td>\n",
              "      <td>...</td>\n",
              "      <td>...</td>\n",
              "      <td>...</td>\n",
              "      <td>...</td>\n",
              "      <td>...</td>\n",
              "      <td>...</td>\n",
              "      <td>...</td>\n",
              "      <td>...</td>\n",
              "      <td>...</td>\n",
              "      <td>...</td>\n",
              "      <td>...</td>\n",
              "      <td>...</td>\n",
              "      <td>...</td>\n",
              "      <td>...</td>\n",
              "      <td>...</td>\n",
              "      <td>...</td>\n",
              "      <td>...</td>\n",
              "      <td>...</td>\n",
              "      <td>...</td>\n",
              "      <td>...</td>\n",
              "      <td>...</td>\n",
              "    </tr>\n",
              "    <tr>\n",
              "      <th>8755</th>\n",
              "      <td>2017</td>\n",
              "      <td>3.2</td>\n",
              "      <td>-1.0</td>\n",
              "      <td>1.6</td>\n",
              "      <td>2.0</td>\n",
              "      <td>3.0</td>\n",
              "      <td>3.0</td>\n",
              "      <td>4.0</td>\n",
              "      <td>10.0</td>\n",
              "      <td>0.0</td>\n",
              "      <td>8.0</td>\n",
              "      <td>4.0</td>\n",
              "      <td>5.0</td>\n",
              "      <td>10.0</td>\n",
              "      <td>8.0</td>\n",
              "      <td>4.0</td>\n",
              "      <td>3.0</td>\n",
              "      <td>3.0</td>\n",
              "      <td>13.0</td>\n",
              "      <td>10.0</td>\n",
              "      <td>1.0</td>\n",
              "      <td>4.0</td>\n",
              "      <td>5.0</td>\n",
              "      <td>11.0</td>\n",
              "      <td>su</td>\n",
              "      <td>31</td>\n",
              "      <td>12</td>\n",
              "      <td>19:00</td>\n",
              "    </tr>\n",
              "    <tr>\n",
              "      <th>8756</th>\n",
              "      <td>2017</td>\n",
              "      <td>3.2</td>\n",
              "      <td>-1.0</td>\n",
              "      <td>1.6</td>\n",
              "      <td>2.0</td>\n",
              "      <td>5.0</td>\n",
              "      <td>3.0</td>\n",
              "      <td>3.0</td>\n",
              "      <td>10.0</td>\n",
              "      <td>0.0</td>\n",
              "      <td>6.0</td>\n",
              "      <td>4.0</td>\n",
              "      <td>0.0</td>\n",
              "      <td>6.0</td>\n",
              "      <td>5.0</td>\n",
              "      <td>6.0</td>\n",
              "      <td>4.0</td>\n",
              "      <td>8.0</td>\n",
              "      <td>9.0</td>\n",
              "      <td>7.0</td>\n",
              "      <td>3.0</td>\n",
              "      <td>4.0</td>\n",
              "      <td>1.0</td>\n",
              "      <td>5.0</td>\n",
              "      <td>su</td>\n",
              "      <td>31</td>\n",
              "      <td>12</td>\n",
              "      <td>20:00</td>\n",
              "    </tr>\n",
              "    <tr>\n",
              "      <th>8757</th>\n",
              "      <td>2017</td>\n",
              "      <td>3.2</td>\n",
              "      <td>-1.0</td>\n",
              "      <td>1.6</td>\n",
              "      <td>4.0</td>\n",
              "      <td>7.0</td>\n",
              "      <td>1.0</td>\n",
              "      <td>4.0</td>\n",
              "      <td>11.0</td>\n",
              "      <td>0.0</td>\n",
              "      <td>5.0</td>\n",
              "      <td>0.0</td>\n",
              "      <td>2.0</td>\n",
              "      <td>6.0</td>\n",
              "      <td>4.0</td>\n",
              "      <td>4.0</td>\n",
              "      <td>2.0</td>\n",
              "      <td>7.0</td>\n",
              "      <td>6.0</td>\n",
              "      <td>4.0</td>\n",
              "      <td>2.0</td>\n",
              "      <td>5.0</td>\n",
              "      <td>0.0</td>\n",
              "      <td>8.0</td>\n",
              "      <td>su</td>\n",
              "      <td>31</td>\n",
              "      <td>12</td>\n",
              "      <td>21:00</td>\n",
              "    </tr>\n",
              "    <tr>\n",
              "      <th>8758</th>\n",
              "      <td>2017</td>\n",
              "      <td>3.2</td>\n",
              "      <td>-1.0</td>\n",
              "      <td>1.6</td>\n",
              "      <td>1.0</td>\n",
              "      <td>7.0</td>\n",
              "      <td>1.0</td>\n",
              "      <td>4.0</td>\n",
              "      <td>15.0</td>\n",
              "      <td>0.0</td>\n",
              "      <td>3.0</td>\n",
              "      <td>0.0</td>\n",
              "      <td>4.0</td>\n",
              "      <td>4.0</td>\n",
              "      <td>7.0</td>\n",
              "      <td>4.0</td>\n",
              "      <td>3.0</td>\n",
              "      <td>17.0</td>\n",
              "      <td>4.0</td>\n",
              "      <td>8.0</td>\n",
              "      <td>2.0</td>\n",
              "      <td>2.0</td>\n",
              "      <td>3.0</td>\n",
              "      <td>8.0</td>\n",
              "      <td>su</td>\n",
              "      <td>31</td>\n",
              "      <td>12</td>\n",
              "      <td>22:00</td>\n",
              "    </tr>\n",
              "    <tr>\n",
              "      <th>8759</th>\n",
              "      <td>2017</td>\n",
              "      <td>3.2</td>\n",
              "      <td>-1.0</td>\n",
              "      <td>1.6</td>\n",
              "      <td>8.0</td>\n",
              "      <td>5.0</td>\n",
              "      <td>2.0</td>\n",
              "      <td>7.0</td>\n",
              "      <td>10.0</td>\n",
              "      <td>0.0</td>\n",
              "      <td>8.0</td>\n",
              "      <td>3.0</td>\n",
              "      <td>0.0</td>\n",
              "      <td>2.0</td>\n",
              "      <td>12.0</td>\n",
              "      <td>4.0</td>\n",
              "      <td>4.0</td>\n",
              "      <td>16.0</td>\n",
              "      <td>14.0</td>\n",
              "      <td>10.0</td>\n",
              "      <td>3.0</td>\n",
              "      <td>0.0</td>\n",
              "      <td>1.0</td>\n",
              "      <td>15.0</td>\n",
              "      <td>su</td>\n",
              "      <td>31</td>\n",
              "      <td>12</td>\n",
              "      <td>23:00</td>\n",
              "    </tr>\n",
              "  </tbody>\n",
              "</table>\n",
              "<p>8760 rows × 28 columns</p>\n",
              "</div>"
            ],
            "text/plain": [
              "      Year  Precipitation amount (mm)  Snow depth (cm)  ...  Day  Month   Hour\n",
              "0     2017                       -1.0             -1.0  ...    1      1  00:00\n",
              "1     2017                       -1.0             -1.0  ...    1      1  01:00\n",
              "2     2017                       -1.0             -1.0  ...    1      1  02:00\n",
              "3     2017                       -1.0             -1.0  ...    1      1  03:00\n",
              "4     2017                       -1.0             -1.0  ...    1      1  04:00\n",
              "...    ...                        ...              ...  ...  ...    ...    ...\n",
              "8755  2017                        3.2             -1.0  ...   31     12  19:00\n",
              "8756  2017                        3.2             -1.0  ...   31     12  20:00\n",
              "8757  2017                        3.2             -1.0  ...   31     12  21:00\n",
              "8758  2017                        3.2             -1.0  ...   31     12  22:00\n",
              "8759  2017                        3.2             -1.0  ...   31     12  23:00\n",
              "\n",
              "[8760 rows x 28 columns]"
            ]
          },
          "metadata": {
            "tags": []
          },
          "execution_count": 32
        }
      ]
    },
    {
      "cell_type": "code",
      "metadata": {
        "id": "-ff-pkb2Vaqg"
      },
      "source": [
        "## alternative solution\n",
        "days = dict(zip(\"ma ti ke to pe la su\".split(), \"Mon Tue Wed Thu Fri Sat Sun\".split()))\n",
        "months = dict(zip(\"tammi helmi maalis huhti touko kesä heinä elo syys loka marras joulu\".split(), range(1, 13)))\n",
        "\n",
        "def split_date(df):\n",
        "    d = df[\"Päivämäärä\"].str.split(expand=True)\n",
        "    d.columns = [\"Weekday\", \"Day\", \"Month\", \"Year\", \"Hour\"]\n",
        "    hourmin = d[\"Hour\"].str.split(\":\", expand=True)\n",
        "    d[\"Hour\"] = hourmin.iloc[:, 0]\n",
        "    d[\"Weekday\"] = d[\"Weekday\"].map(days)\n",
        "    d[\"Month\"] = d[\"Month\"].map(months)\n",
        "    d = d.astype({\"Weekday\": object, \"Day\": int, \"Month\": int, \"Year\": int, \"Hour\": int})\n",
        "    return d\n",
        "def split_date_continues():\n",
        "    df = pd.read_csv(\"src/Helsingin_pyorailijamaarat.csv\", sep=\";\")\n",
        "    df = df.dropna(axis=0, how=\"all\").dropna(axis=1, how=\"all\")\n",
        "    d = split_date(df)\n",
        "    df = df.drop(\"Päivämäärä\", axis=1)\n",
        "    return pd.concat([d, df], axis=1)\n",
        "def cycling_weather():\n",
        "    wh = pd.read_csv(\"src/kumpula-weather-2017.csv\")\n",
        "    bike = split_date_continues()\n",
        "    result = pd.merge(wh, bike, left_on=[\"Year\", \"m\", \"d\"], right_on=[\"Year\", \"Month\", \"Day\"])\n",
        "    return result.drop(['m', 'd', 'Time', 'Time zone'], axis=1)"
      ],
      "execution_count": 33,
      "outputs": []
    },
    {
      "cell_type": "code",
      "metadata": {
        "id": "vtzKho-xV-2H"
      },
      "source": [
        "## exercise 03: top hands\n",
        "def top_bands():\n",
        "  url_top40 = 'https://raw.githubusercontent.com/annassanchez/HY-2021-DataScience/main/week05/UK-top40-1964-1-2.tsv'\n",
        "  url_bands = 'https://raw.githubusercontent.com/annassanchez/HY-2021-DataScience/main/week05/bands.tsv'\n",
        "  df_top40 = pd.read_csv(url_top40, sep='\\t')\n",
        "  df_top40['Artist'] = df_top40['Artist'].str.title()\n",
        "  df_bands = pd.read_csv(url_bands, sep='\\t')\n",
        "  df_topBands = pd.merge(df_top40, df_bands, left_on='Artist', right_on='Band', how = 'right')\n",
        "  return df_topBands"
      ],
      "execution_count": 34,
      "outputs": []
    },
    {
      "cell_type": "code",
      "metadata": {
        "id": "7orzXAGFXyx_",
        "colab": {
          "base_uri": "https://localhost:8080/"
        },
        "outputId": "cda1fbe4-fd06-49d1-9da5-028f3f90aad3"
      },
      "source": [
        "top_bands().shape"
      ],
      "execution_count": 35,
      "outputs": [
        {
          "output_type": "execute_result",
          "data": {
            "text/plain": [
              "(9, 13)"
            ]
          },
          "metadata": {
            "tags": []
          },
          "execution_count": 35
        }
      ]
    },
    {
      "cell_type": "code",
      "metadata": {
        "id": "kKyi-14-Wt7X"
      },
      "source": [
        "## alternative solution\n",
        "def top_bands():\n",
        "    top40 = pd.read_csv(\"src/UK-top40-1964-1-2.tsv\", sep=\"\\t\")\n",
        "    bands = pd.read_csv(\"src/bands.tsv\", sep=\"\\t\")\n",
        "    bands[\"Band\"] = bands[\"Band\"].str.upper()\n",
        "    result = pd.merge(top40, bands, left_on=\"Artist\", right_on=\"Band\")\n",
        "    return result "
      ],
      "execution_count": 36,
      "outputs": []
    },
    {
      "cell_type": "markdown",
      "metadata": {
        "id": "07TiF0wMZ4PT"
      },
      "source": [
        "## Aggregates and groupings"
      ]
    },
    {
      "cell_type": "code",
      "metadata": {
        "id": "2aP13bh9Z9tJ"
      },
      "source": [
        "wh = pd.read_csv(\"https://raw.githubusercontent.com/csmastersUH/data_analysis_with_python_2020/master/kumpula-weather-2017.csv\")"
      ],
      "execution_count": 37,
      "outputs": []
    },
    {
      "cell_type": "code",
      "metadata": {
        "colab": {
          "base_uri": "https://localhost:8080/",
          "height": 206
        },
        "id": "haLHaWx2aMya",
        "outputId": "61fdf661-ad86-447c-84e1-047cf7397dc8"
      },
      "source": [
        "## rename method -- renames the columns of a DataFrame\n",
        "wh3 = wh.rename(columns={\"m\": \"Month\", \"d\": \"Day\", \"Precipitation amount (mm)\" : \"Precipitation\",\n",
        "                         \"Snow depth (cm)\" : \"Snow\", \"Air temperature (degC)\" : \"Temperature\"})\n",
        "wh3.head()"
      ],
      "execution_count": 38,
      "outputs": [
        {
          "output_type": "execute_result",
          "data": {
            "text/html": [
              "<div>\n",
              "<style scoped>\n",
              "    .dataframe tbody tr th:only-of-type {\n",
              "        vertical-align: middle;\n",
              "    }\n",
              "\n",
              "    .dataframe tbody tr th {\n",
              "        vertical-align: top;\n",
              "    }\n",
              "\n",
              "    .dataframe thead th {\n",
              "        text-align: right;\n",
              "    }\n",
              "</style>\n",
              "<table border=\"1\" class=\"dataframe\">\n",
              "  <thead>\n",
              "    <tr style=\"text-align: right;\">\n",
              "      <th></th>\n",
              "      <th>Year</th>\n",
              "      <th>Month</th>\n",
              "      <th>Day</th>\n",
              "      <th>Time</th>\n",
              "      <th>Time zone</th>\n",
              "      <th>Precipitation</th>\n",
              "      <th>Snow</th>\n",
              "      <th>Temperature</th>\n",
              "    </tr>\n",
              "  </thead>\n",
              "  <tbody>\n",
              "    <tr>\n",
              "      <th>0</th>\n",
              "      <td>2017</td>\n",
              "      <td>1</td>\n",
              "      <td>1</td>\n",
              "      <td>00:00</td>\n",
              "      <td>UTC</td>\n",
              "      <td>-1.0</td>\n",
              "      <td>-1.0</td>\n",
              "      <td>0.6</td>\n",
              "    </tr>\n",
              "    <tr>\n",
              "      <th>1</th>\n",
              "      <td>2017</td>\n",
              "      <td>1</td>\n",
              "      <td>2</td>\n",
              "      <td>00:00</td>\n",
              "      <td>UTC</td>\n",
              "      <td>4.4</td>\n",
              "      <td>-1.0</td>\n",
              "      <td>-3.9</td>\n",
              "    </tr>\n",
              "    <tr>\n",
              "      <th>2</th>\n",
              "      <td>2017</td>\n",
              "      <td>1</td>\n",
              "      <td>3</td>\n",
              "      <td>00:00</td>\n",
              "      <td>UTC</td>\n",
              "      <td>6.6</td>\n",
              "      <td>7.0</td>\n",
              "      <td>-6.5</td>\n",
              "    </tr>\n",
              "    <tr>\n",
              "      <th>3</th>\n",
              "      <td>2017</td>\n",
              "      <td>1</td>\n",
              "      <td>4</td>\n",
              "      <td>00:00</td>\n",
              "      <td>UTC</td>\n",
              "      <td>-1.0</td>\n",
              "      <td>13.0</td>\n",
              "      <td>-12.8</td>\n",
              "    </tr>\n",
              "    <tr>\n",
              "      <th>4</th>\n",
              "      <td>2017</td>\n",
              "      <td>1</td>\n",
              "      <td>5</td>\n",
              "      <td>00:00</td>\n",
              "      <td>UTC</td>\n",
              "      <td>-1.0</td>\n",
              "      <td>10.0</td>\n",
              "      <td>-17.8</td>\n",
              "    </tr>\n",
              "  </tbody>\n",
              "</table>\n",
              "</div>"
            ],
            "text/plain": [
              "   Year  Month  Day   Time Time zone  Precipitation  Snow  Temperature\n",
              "0  2017      1    1  00:00       UTC           -1.0  -1.0          0.6\n",
              "1  2017      1    2  00:00       UTC            4.4  -1.0         -3.9\n",
              "2  2017      1    3  00:00       UTC            6.6   7.0         -6.5\n",
              "3  2017      1    4  00:00       UTC           -1.0  13.0        -12.8\n",
              "4  2017      1    5  00:00       UTC           -1.0  10.0        -17.8"
            ]
          },
          "metadata": {
            "tags": []
          },
          "execution_count": 38
        }
      ]
    },
    {
      "cell_type": "code",
      "metadata": {
        "colab": {
          "base_uri": "https://localhost:8080/"
        },
        "id": "xfukJ3qnaO8p",
        "outputId": "59f87026-08d5-481a-f6d0-3dcc8e68e912"
      },
      "source": [
        "## the groupby mehtod splits the dataframe into groups -- for example, you can add from months\n",
        "groups = wh3.groupby(\"Month\")\n",
        "groups"
      ],
      "execution_count": 39,
      "outputs": [
        {
          "output_type": "execute_result",
          "data": {
            "text/plain": [
              "<pandas.core.groupby.generic.DataFrameGroupBy object at 0x7f5b8180e950>"
            ]
          },
          "metadata": {
            "tags": []
          },
          "execution_count": 39
        }
      ]
    },
    {
      "cell_type": "code",
      "metadata": {
        "colab": {
          "base_uri": "https://localhost:8080/"
        },
        "id": "M6WLDoeJakvh",
        "outputId": "c576030a-f558-4dfa-991c-97303ebbc239"
      },
      "source": [
        "len(groups)"
      ],
      "execution_count": 40,
      "outputs": [
        {
          "output_type": "execute_result",
          "data": {
            "text/plain": [
              "12"
            ]
          },
          "metadata": {
            "tags": []
          },
          "execution_count": 40
        }
      ]
    },
    {
      "cell_type": "code",
      "metadata": {
        "colab": {
          "base_uri": "https://localhost:8080/"
        },
        "id": "R0ONq2Slaohi",
        "outputId": "dba78a54-a131-44ef-f74c-084e4c83f0ee"
      },
      "source": [
        "for key, group in groups:\n",
        "    print(key, len(group))"
      ],
      "execution_count": 41,
      "outputs": [
        {
          "output_type": "stream",
          "text": [
            "1 31\n",
            "2 28\n",
            "3 31\n",
            "4 30\n",
            "5 31\n",
            "6 30\n",
            "7 31\n",
            "8 31\n",
            "9 30\n",
            "10 31\n",
            "11 30\n",
            "12 31\n"
          ],
          "name": "stdout"
        }
      ]
    },
    {
      "cell_type": "code",
      "metadata": {
        "colab": {
          "base_uri": "https://localhost:8080/",
          "height": 928
        },
        "id": "_5B6vdnNasTN",
        "outputId": "b17a53c1-99c2-4ac2-f95e-df2c0617cc74"
      },
      "source": [
        "groups.get_group(2)                 # Group with index two is February"
      ],
      "execution_count": 42,
      "outputs": [
        {
          "output_type": "execute_result",
          "data": {
            "text/html": [
              "<div>\n",
              "<style scoped>\n",
              "    .dataframe tbody tr th:only-of-type {\n",
              "        vertical-align: middle;\n",
              "    }\n",
              "\n",
              "    .dataframe tbody tr th {\n",
              "        vertical-align: top;\n",
              "    }\n",
              "\n",
              "    .dataframe thead th {\n",
              "        text-align: right;\n",
              "    }\n",
              "</style>\n",
              "<table border=\"1\" class=\"dataframe\">\n",
              "  <thead>\n",
              "    <tr style=\"text-align: right;\">\n",
              "      <th></th>\n",
              "      <th>Year</th>\n",
              "      <th>Month</th>\n",
              "      <th>Day</th>\n",
              "      <th>Time</th>\n",
              "      <th>Time zone</th>\n",
              "      <th>Precipitation</th>\n",
              "      <th>Snow</th>\n",
              "      <th>Temperature</th>\n",
              "    </tr>\n",
              "  </thead>\n",
              "  <tbody>\n",
              "    <tr>\n",
              "      <th>31</th>\n",
              "      <td>2017</td>\n",
              "      <td>2</td>\n",
              "      <td>1</td>\n",
              "      <td>00:00</td>\n",
              "      <td>UTC</td>\n",
              "      <td>1.5</td>\n",
              "      <td>4.0</td>\n",
              "      <td>-0.6</td>\n",
              "    </tr>\n",
              "    <tr>\n",
              "      <th>32</th>\n",
              "      <td>2017</td>\n",
              "      <td>2</td>\n",
              "      <td>2</td>\n",
              "      <td>00:00</td>\n",
              "      <td>UTC</td>\n",
              "      <td>0.2</td>\n",
              "      <td>5.0</td>\n",
              "      <td>-0.8</td>\n",
              "    </tr>\n",
              "    <tr>\n",
              "      <th>33</th>\n",
              "      <td>2017</td>\n",
              "      <td>2</td>\n",
              "      <td>3</td>\n",
              "      <td>00:00</td>\n",
              "      <td>UTC</td>\n",
              "      <td>-1.0</td>\n",
              "      <td>6.0</td>\n",
              "      <td>-0.2</td>\n",
              "    </tr>\n",
              "    <tr>\n",
              "      <th>34</th>\n",
              "      <td>2017</td>\n",
              "      <td>2</td>\n",
              "      <td>4</td>\n",
              "      <td>00:00</td>\n",
              "      <td>UTC</td>\n",
              "      <td>2.7</td>\n",
              "      <td>6.0</td>\n",
              "      <td>0.4</td>\n",
              "    </tr>\n",
              "    <tr>\n",
              "      <th>35</th>\n",
              "      <td>2017</td>\n",
              "      <td>2</td>\n",
              "      <td>5</td>\n",
              "      <td>00:00</td>\n",
              "      <td>UTC</td>\n",
              "      <td>-1.0</td>\n",
              "      <td>7.0</td>\n",
              "      <td>-2.5</td>\n",
              "    </tr>\n",
              "    <tr>\n",
              "      <th>36</th>\n",
              "      <td>2017</td>\n",
              "      <td>2</td>\n",
              "      <td>6</td>\n",
              "      <td>00:00</td>\n",
              "      <td>UTC</td>\n",
              "      <td>-1.0</td>\n",
              "      <td>7.0</td>\n",
              "      <td>-7.3</td>\n",
              "    </tr>\n",
              "    <tr>\n",
              "      <th>37</th>\n",
              "      <td>2017</td>\n",
              "      <td>2</td>\n",
              "      <td>7</td>\n",
              "      <td>00:00</td>\n",
              "      <td>UTC</td>\n",
              "      <td>-1.0</td>\n",
              "      <td>8.0</td>\n",
              "      <td>-12.1</td>\n",
              "    </tr>\n",
              "    <tr>\n",
              "      <th>38</th>\n",
              "      <td>2017</td>\n",
              "      <td>2</td>\n",
              "      <td>8</td>\n",
              "      <td>00:00</td>\n",
              "      <td>UTC</td>\n",
              "      <td>-1.0</td>\n",
              "      <td>8.0</td>\n",
              "      <td>-8.8</td>\n",
              "    </tr>\n",
              "    <tr>\n",
              "      <th>39</th>\n",
              "      <td>2017</td>\n",
              "      <td>2</td>\n",
              "      <td>9</td>\n",
              "      <td>00:00</td>\n",
              "      <td>UTC</td>\n",
              "      <td>-1.0</td>\n",
              "      <td>8.0</td>\n",
              "      <td>-10.1</td>\n",
              "    </tr>\n",
              "    <tr>\n",
              "      <th>40</th>\n",
              "      <td>2017</td>\n",
              "      <td>2</td>\n",
              "      <td>10</td>\n",
              "      <td>00:00</td>\n",
              "      <td>UTC</td>\n",
              "      <td>-1.0</td>\n",
              "      <td>8.0</td>\n",
              "      <td>-8.3</td>\n",
              "    </tr>\n",
              "    <tr>\n",
              "      <th>41</th>\n",
              "      <td>2017</td>\n",
              "      <td>2</td>\n",
              "      <td>11</td>\n",
              "      <td>00:00</td>\n",
              "      <td>UTC</td>\n",
              "      <td>-1.0</td>\n",
              "      <td>8.0</td>\n",
              "      <td>-5.4</td>\n",
              "    </tr>\n",
              "    <tr>\n",
              "      <th>42</th>\n",
              "      <td>2017</td>\n",
              "      <td>2</td>\n",
              "      <td>12</td>\n",
              "      <td>00:00</td>\n",
              "      <td>UTC</td>\n",
              "      <td>-1.0</td>\n",
              "      <td>8.0</td>\n",
              "      <td>-2.7</td>\n",
              "    </tr>\n",
              "    <tr>\n",
              "      <th>43</th>\n",
              "      <td>2017</td>\n",
              "      <td>2</td>\n",
              "      <td>13</td>\n",
              "      <td>00:00</td>\n",
              "      <td>UTC</td>\n",
              "      <td>-1.0</td>\n",
              "      <td>8.0</td>\n",
              "      <td>1.5</td>\n",
              "    </tr>\n",
              "    <tr>\n",
              "      <th>44</th>\n",
              "      <td>2017</td>\n",
              "      <td>2</td>\n",
              "      <td>14</td>\n",
              "      <td>00:00</td>\n",
              "      <td>UTC</td>\n",
              "      <td>-1.0</td>\n",
              "      <td>8.0</td>\n",
              "      <td>4.4</td>\n",
              "    </tr>\n",
              "    <tr>\n",
              "      <th>45</th>\n",
              "      <td>2017</td>\n",
              "      <td>2</td>\n",
              "      <td>15</td>\n",
              "      <td>00:00</td>\n",
              "      <td>UTC</td>\n",
              "      <td>-1.0</td>\n",
              "      <td>8.0</td>\n",
              "      <td>0.0</td>\n",
              "    </tr>\n",
              "    <tr>\n",
              "      <th>46</th>\n",
              "      <td>2017</td>\n",
              "      <td>2</td>\n",
              "      <td>16</td>\n",
              "      <td>00:00</td>\n",
              "      <td>UTC</td>\n",
              "      <td>0.9</td>\n",
              "      <td>8.0</td>\n",
              "      <td>0.5</td>\n",
              "    </tr>\n",
              "    <tr>\n",
              "      <th>47</th>\n",
              "      <td>2017</td>\n",
              "      <td>2</td>\n",
              "      <td>17</td>\n",
              "      <td>00:00</td>\n",
              "      <td>UTC</td>\n",
              "      <td>0.2</td>\n",
              "      <td>8.0</td>\n",
              "      <td>1.5</td>\n",
              "    </tr>\n",
              "    <tr>\n",
              "      <th>48</th>\n",
              "      <td>2017</td>\n",
              "      <td>2</td>\n",
              "      <td>18</td>\n",
              "      <td>00:00</td>\n",
              "      <td>UTC</td>\n",
              "      <td>1.5</td>\n",
              "      <td>5.0</td>\n",
              "      <td>1.9</td>\n",
              "    </tr>\n",
              "    <tr>\n",
              "      <th>49</th>\n",
              "      <td>2017</td>\n",
              "      <td>2</td>\n",
              "      <td>19</td>\n",
              "      <td>00:00</td>\n",
              "      <td>UTC</td>\n",
              "      <td>1.1</td>\n",
              "      <td>5.0</td>\n",
              "      <td>2.2</td>\n",
              "    </tr>\n",
              "    <tr>\n",
              "      <th>50</th>\n",
              "      <td>2017</td>\n",
              "      <td>2</td>\n",
              "      <td>20</td>\n",
              "      <td>00:00</td>\n",
              "      <td>UTC</td>\n",
              "      <td>2.8</td>\n",
              "      <td>3.0</td>\n",
              "      <td>0.4</td>\n",
              "    </tr>\n",
              "    <tr>\n",
              "      <th>51</th>\n",
              "      <td>2017</td>\n",
              "      <td>2</td>\n",
              "      <td>21</td>\n",
              "      <td>00:00</td>\n",
              "      <td>UTC</td>\n",
              "      <td>-1.0</td>\n",
              "      <td>7.0</td>\n",
              "      <td>-2.5</td>\n",
              "    </tr>\n",
              "    <tr>\n",
              "      <th>52</th>\n",
              "      <td>2017</td>\n",
              "      <td>2</td>\n",
              "      <td>22</td>\n",
              "      <td>00:00</td>\n",
              "      <td>UTC</td>\n",
              "      <td>12.2</td>\n",
              "      <td>6.0</td>\n",
              "      <td>-4.6</td>\n",
              "    </tr>\n",
              "    <tr>\n",
              "      <th>53</th>\n",
              "      <td>2017</td>\n",
              "      <td>2</td>\n",
              "      <td>23</td>\n",
              "      <td>00:00</td>\n",
              "      <td>UTC</td>\n",
              "      <td>0.3</td>\n",
              "      <td>15.0</td>\n",
              "      <td>-0.7</td>\n",
              "    </tr>\n",
              "    <tr>\n",
              "      <th>54</th>\n",
              "      <td>2017</td>\n",
              "      <td>2</td>\n",
              "      <td>24</td>\n",
              "      <td>00:00</td>\n",
              "      <td>UTC</td>\n",
              "      <td>-1.0</td>\n",
              "      <td>13.0</td>\n",
              "      <td>-5.3</td>\n",
              "    </tr>\n",
              "    <tr>\n",
              "      <th>55</th>\n",
              "      <td>2017</td>\n",
              "      <td>2</td>\n",
              "      <td>25</td>\n",
              "      <td>00:00</td>\n",
              "      <td>UTC</td>\n",
              "      <td>0.4</td>\n",
              "      <td>13.0</td>\n",
              "      <td>-5.6</td>\n",
              "    </tr>\n",
              "    <tr>\n",
              "      <th>56</th>\n",
              "      <td>2017</td>\n",
              "      <td>2</td>\n",
              "      <td>26</td>\n",
              "      <td>00:00</td>\n",
              "      <td>UTC</td>\n",
              "      <td>2.5</td>\n",
              "      <td>12.0</td>\n",
              "      <td>-2.0</td>\n",
              "    </tr>\n",
              "    <tr>\n",
              "      <th>57</th>\n",
              "      <td>2017</td>\n",
              "      <td>2</td>\n",
              "      <td>27</td>\n",
              "      <td>00:00</td>\n",
              "      <td>UTC</td>\n",
              "      <td>1.0</td>\n",
              "      <td>14.0</td>\n",
              "      <td>-2.3</td>\n",
              "    </tr>\n",
              "    <tr>\n",
              "      <th>58</th>\n",
              "      <td>2017</td>\n",
              "      <td>2</td>\n",
              "      <td>28</td>\n",
              "      <td>00:00</td>\n",
              "      <td>UTC</td>\n",
              "      <td>7.7</td>\n",
              "      <td>13.0</td>\n",
              "      <td>2.1</td>\n",
              "    </tr>\n",
              "  </tbody>\n",
              "</table>\n",
              "</div>"
            ],
            "text/plain": [
              "    Year  Month  Day   Time Time zone  Precipitation  Snow  Temperature\n",
              "31  2017      2    1  00:00       UTC            1.5   4.0         -0.6\n",
              "32  2017      2    2  00:00       UTC            0.2   5.0         -0.8\n",
              "33  2017      2    3  00:00       UTC           -1.0   6.0         -0.2\n",
              "34  2017      2    4  00:00       UTC            2.7   6.0          0.4\n",
              "35  2017      2    5  00:00       UTC           -1.0   7.0         -2.5\n",
              "36  2017      2    6  00:00       UTC           -1.0   7.0         -7.3\n",
              "37  2017      2    7  00:00       UTC           -1.0   8.0        -12.1\n",
              "38  2017      2    8  00:00       UTC           -1.0   8.0         -8.8\n",
              "39  2017      2    9  00:00       UTC           -1.0   8.0        -10.1\n",
              "40  2017      2   10  00:00       UTC           -1.0   8.0         -8.3\n",
              "41  2017      2   11  00:00       UTC           -1.0   8.0         -5.4\n",
              "42  2017      2   12  00:00       UTC           -1.0   8.0         -2.7\n",
              "43  2017      2   13  00:00       UTC           -1.0   8.0          1.5\n",
              "44  2017      2   14  00:00       UTC           -1.0   8.0          4.4\n",
              "45  2017      2   15  00:00       UTC           -1.0   8.0          0.0\n",
              "46  2017      2   16  00:00       UTC            0.9   8.0          0.5\n",
              "47  2017      2   17  00:00       UTC            0.2   8.0          1.5\n",
              "48  2017      2   18  00:00       UTC            1.5   5.0          1.9\n",
              "49  2017      2   19  00:00       UTC            1.1   5.0          2.2\n",
              "50  2017      2   20  00:00       UTC            2.8   3.0          0.4\n",
              "51  2017      2   21  00:00       UTC           -1.0   7.0         -2.5\n",
              "52  2017      2   22  00:00       UTC           12.2   6.0         -4.6\n",
              "53  2017      2   23  00:00       UTC            0.3  15.0         -0.7\n",
              "54  2017      2   24  00:00       UTC           -1.0  13.0         -5.3\n",
              "55  2017      2   25  00:00       UTC            0.4  13.0         -5.6\n",
              "56  2017      2   26  00:00       UTC            2.5  12.0         -2.0\n",
              "57  2017      2   27  00:00       UTC            1.0  14.0         -2.3\n",
              "58  2017      2   28  00:00       UTC            7.7  13.0          2.1"
            ]
          },
          "metadata": {
            "tags": []
          },
          "execution_count": 42
        }
      ]
    },
    {
      "cell_type": "code",
      "metadata": {
        "colab": {
          "base_uri": "https://localhost:8080/"
        },
        "id": "m9tCbq3vc1yK",
        "outputId": "56eaf870-69ae-4c44-fa12-2ad90ce6ef96"
      },
      "source": [
        "## groupby object works like a df, so some operations are allowed, as subsetting:\n",
        "groups[\"Temperature\"]"
      ],
      "execution_count": 43,
      "outputs": [
        {
          "output_type": "execute_result",
          "data": {
            "text/plain": [
              "<pandas.core.groupby.generic.SeriesGroupBy object at 0x7f5b820cab10>"
            ]
          },
          "metadata": {
            "tags": []
          },
          "execution_count": 43
        }
      ]
    },
    {
      "cell_type": "code",
      "metadata": {
        "colab": {
          "base_uri": "https://localhost:8080/"
        },
        "id": "hXOXX3D6dC2T",
        "outputId": "68102c4a-cc3a-405e-a27c-3b394cd1e731"
      },
      "source": [
        "## also aggregation methods are normally included\n",
        "## the mean aggregation was performed on each group, and the results wer automatically combined\n",
        "groups[\"Temperature\"].mean()"
      ],
      "execution_count": 44,
      "outputs": [
        {
          "output_type": "execute_result",
          "data": {
            "text/plain": [
              "Month\n",
              "1     -2.316129\n",
              "2     -2.389286\n",
              "3      0.983871\n",
              "4      2.676667\n",
              "5      9.783871\n",
              "6     13.726667\n",
              "7     16.035484\n",
              "8     16.183871\n",
              "9     11.826667\n",
              "10     5.454839\n",
              "11     3.950000\n",
              "12     1.741935\n",
              "Name: Temperature, dtype: float64"
            ]
          },
          "metadata": {
            "tags": []
          },
          "execution_count": 44
        }
      ]
    },
    {
      "cell_type": "code",
      "metadata": {
        "colab": {
          "base_uri": "https://localhost:8080/"
        },
        "id": "uKAo4MMzdJaY",
        "outputId": "1f0b2591-6e4f-4845-9560-38f6f5fa7470"
      },
      "source": [
        "## let's try with other aggregation\n",
        "groups[\"Precipitation\"].sum()"
      ],
      "execution_count": 45,
      "outputs": [
        {
          "output_type": "execute_result",
          "data": {
            "text/plain": [
              "Month\n",
              "1      26.9\n",
              "2      21.0\n",
              "3      29.7\n",
              "4      26.9\n",
              "5      -5.9\n",
              "6      59.3\n",
              "7      14.2\n",
              "8      70.1\n",
              "9      51.2\n",
              "10    173.5\n",
              "11    117.2\n",
              "12    133.6\n",
              "Name: Precipitation, dtype: float64"
            ]
          },
          "metadata": {
            "tags": []
          },
          "execution_count": 45
        }
      ]
    },
    {
      "cell_type": "code",
      "metadata": {
        "colab": {
          "base_uri": "https://localhost:8080/",
          "height": 206
        },
        "id": "SlXPWMWKdX5U",
        "outputId": "5723e0c7-c7d5-42bc-adda-e514ceb6393e"
      },
      "source": [
        "## the negative precipitation values are causing trouble\n",
        "## make them 0\n",
        "wh4 = wh3.copy()\n",
        "wh4.loc[wh4.Precipitation == -1, \"Precipitation\"] = 0\n",
        "wh4.loc[wh4.Snow == -1, \"Snow\"] = 0\n",
        "wh4.head()"
      ],
      "execution_count": 46,
      "outputs": [
        {
          "output_type": "execute_result",
          "data": {
            "text/html": [
              "<div>\n",
              "<style scoped>\n",
              "    .dataframe tbody tr th:only-of-type {\n",
              "        vertical-align: middle;\n",
              "    }\n",
              "\n",
              "    .dataframe tbody tr th {\n",
              "        vertical-align: top;\n",
              "    }\n",
              "\n",
              "    .dataframe thead th {\n",
              "        text-align: right;\n",
              "    }\n",
              "</style>\n",
              "<table border=\"1\" class=\"dataframe\">\n",
              "  <thead>\n",
              "    <tr style=\"text-align: right;\">\n",
              "      <th></th>\n",
              "      <th>Year</th>\n",
              "      <th>Month</th>\n",
              "      <th>Day</th>\n",
              "      <th>Time</th>\n",
              "      <th>Time zone</th>\n",
              "      <th>Precipitation</th>\n",
              "      <th>Snow</th>\n",
              "      <th>Temperature</th>\n",
              "    </tr>\n",
              "  </thead>\n",
              "  <tbody>\n",
              "    <tr>\n",
              "      <th>0</th>\n",
              "      <td>2017</td>\n",
              "      <td>1</td>\n",
              "      <td>1</td>\n",
              "      <td>00:00</td>\n",
              "      <td>UTC</td>\n",
              "      <td>0.0</td>\n",
              "      <td>0.0</td>\n",
              "      <td>0.6</td>\n",
              "    </tr>\n",
              "    <tr>\n",
              "      <th>1</th>\n",
              "      <td>2017</td>\n",
              "      <td>1</td>\n",
              "      <td>2</td>\n",
              "      <td>00:00</td>\n",
              "      <td>UTC</td>\n",
              "      <td>4.4</td>\n",
              "      <td>0.0</td>\n",
              "      <td>-3.9</td>\n",
              "    </tr>\n",
              "    <tr>\n",
              "      <th>2</th>\n",
              "      <td>2017</td>\n",
              "      <td>1</td>\n",
              "      <td>3</td>\n",
              "      <td>00:00</td>\n",
              "      <td>UTC</td>\n",
              "      <td>6.6</td>\n",
              "      <td>7.0</td>\n",
              "      <td>-6.5</td>\n",
              "    </tr>\n",
              "    <tr>\n",
              "      <th>3</th>\n",
              "      <td>2017</td>\n",
              "      <td>1</td>\n",
              "      <td>4</td>\n",
              "      <td>00:00</td>\n",
              "      <td>UTC</td>\n",
              "      <td>0.0</td>\n",
              "      <td>13.0</td>\n",
              "      <td>-12.8</td>\n",
              "    </tr>\n",
              "    <tr>\n",
              "      <th>4</th>\n",
              "      <td>2017</td>\n",
              "      <td>1</td>\n",
              "      <td>5</td>\n",
              "      <td>00:00</td>\n",
              "      <td>UTC</td>\n",
              "      <td>0.0</td>\n",
              "      <td>10.0</td>\n",
              "      <td>-17.8</td>\n",
              "    </tr>\n",
              "  </tbody>\n",
              "</table>\n",
              "</div>"
            ],
            "text/plain": [
              "   Year  Month  Day   Time Time zone  Precipitation  Snow  Temperature\n",
              "0  2017      1    1  00:00       UTC            0.0   0.0          0.6\n",
              "1  2017      1    2  00:00       UTC            4.4   0.0         -3.9\n",
              "2  2017      1    3  00:00       UTC            6.6   7.0         -6.5\n",
              "3  2017      1    4  00:00       UTC            0.0  13.0        -12.8\n",
              "4  2017      1    5  00:00       UTC            0.0  10.0        -17.8"
            ]
          },
          "metadata": {
            "tags": []
          },
          "execution_count": 46
        }
      ]
    },
    {
      "cell_type": "code",
      "metadata": {
        "colab": {
          "base_uri": "https://localhost:8080/"
        },
        "id": "rqaYH6ridexY",
        "outputId": "90c80079-0e93-4da8-f30d-88e522b1cf21"
      },
      "source": [
        "wh4.groupby(\"Month\")[\"Precipitation\"].sum()"
      ],
      "execution_count": 47,
      "outputs": [
        {
          "output_type": "execute_result",
          "data": {
            "text/plain": [
              "Month\n",
              "1      38.9\n",
              "2      35.0\n",
              "3      41.7\n",
              "4      39.9\n",
              "5      16.1\n",
              "6      76.3\n",
              "7      31.2\n",
              "8      86.1\n",
              "9      65.2\n",
              "10    184.5\n",
              "11    120.2\n",
              "12    140.6\n",
              "Name: Precipitation, dtype: float64"
            ]
          },
          "metadata": {
            "tags": []
          },
          "execution_count": 47
        }
      ]
    },
    {
      "cell_type": "markdown",
      "metadata": {
        "id": "vzokdfZOdj3O"
      },
      "source": [
        "### other ways to operate on groups"
      ]
    },
    {
      "cell_type": "code",
      "metadata": {
        "colab": {
          "base_uri": "https://localhost:8080/",
          "height": 1000
        },
        "id": "N6Rfm25jdiqg",
        "outputId": "8a23104e-228f-49dc-dada-7f189363cb0a"
      },
      "source": [
        "## filtering -- some of the groups are filtered out\n",
        "def myfilter(df):                                     # The filter function must return a boolean value\n",
        "    return df[\"Precipitation\"].sum() >= 150\n",
        "\n",
        "wh4.groupby(\"Month\").filter(myfilter)                 # Filter out months with total precipitation less that 150 mm"
      ],
      "execution_count": 48,
      "outputs": [
        {
          "output_type": "execute_result",
          "data": {
            "text/html": [
              "<div>\n",
              "<style scoped>\n",
              "    .dataframe tbody tr th:only-of-type {\n",
              "        vertical-align: middle;\n",
              "    }\n",
              "\n",
              "    .dataframe tbody tr th {\n",
              "        vertical-align: top;\n",
              "    }\n",
              "\n",
              "    .dataframe thead th {\n",
              "        text-align: right;\n",
              "    }\n",
              "</style>\n",
              "<table border=\"1\" class=\"dataframe\">\n",
              "  <thead>\n",
              "    <tr style=\"text-align: right;\">\n",
              "      <th></th>\n",
              "      <th>Year</th>\n",
              "      <th>Month</th>\n",
              "      <th>Day</th>\n",
              "      <th>Time</th>\n",
              "      <th>Time zone</th>\n",
              "      <th>Precipitation</th>\n",
              "      <th>Snow</th>\n",
              "      <th>Temperature</th>\n",
              "    </tr>\n",
              "  </thead>\n",
              "  <tbody>\n",
              "    <tr>\n",
              "      <th>273</th>\n",
              "      <td>2017</td>\n",
              "      <td>10</td>\n",
              "      <td>1</td>\n",
              "      <td>00:00</td>\n",
              "      <td>UTC</td>\n",
              "      <td>0.0</td>\n",
              "      <td>0.0</td>\n",
              "      <td>9.1</td>\n",
              "    </tr>\n",
              "    <tr>\n",
              "      <th>274</th>\n",
              "      <td>2017</td>\n",
              "      <td>10</td>\n",
              "      <td>2</td>\n",
              "      <td>00:00</td>\n",
              "      <td>UTC</td>\n",
              "      <td>6.4</td>\n",
              "      <td>0.0</td>\n",
              "      <td>9.2</td>\n",
              "    </tr>\n",
              "    <tr>\n",
              "      <th>275</th>\n",
              "      <td>2017</td>\n",
              "      <td>10</td>\n",
              "      <td>3</td>\n",
              "      <td>00:00</td>\n",
              "      <td>UTC</td>\n",
              "      <td>21.5</td>\n",
              "      <td>0.0</td>\n",
              "      <td>8.3</td>\n",
              "    </tr>\n",
              "    <tr>\n",
              "      <th>276</th>\n",
              "      <td>2017</td>\n",
              "      <td>10</td>\n",
              "      <td>4</td>\n",
              "      <td>00:00</td>\n",
              "      <td>UTC</td>\n",
              "      <td>12.7</td>\n",
              "      <td>0.0</td>\n",
              "      <td>11.2</td>\n",
              "    </tr>\n",
              "    <tr>\n",
              "      <th>277</th>\n",
              "      <td>2017</td>\n",
              "      <td>10</td>\n",
              "      <td>5</td>\n",
              "      <td>00:00</td>\n",
              "      <td>UTC</td>\n",
              "      <td>0.6</td>\n",
              "      <td>0.0</td>\n",
              "      <td>8.8</td>\n",
              "    </tr>\n",
              "    <tr>\n",
              "      <th>278</th>\n",
              "      <td>2017</td>\n",
              "      <td>10</td>\n",
              "      <td>6</td>\n",
              "      <td>00:00</td>\n",
              "      <td>UTC</td>\n",
              "      <td>0.7</td>\n",
              "      <td>0.0</td>\n",
              "      <td>7.7</td>\n",
              "    </tr>\n",
              "    <tr>\n",
              "      <th>279</th>\n",
              "      <td>2017</td>\n",
              "      <td>10</td>\n",
              "      <td>7</td>\n",
              "      <td>00:00</td>\n",
              "      <td>UTC</td>\n",
              "      <td>11.7</td>\n",
              "      <td>0.0</td>\n",
              "      <td>8.1</td>\n",
              "    </tr>\n",
              "    <tr>\n",
              "      <th>280</th>\n",
              "      <td>2017</td>\n",
              "      <td>10</td>\n",
              "      <td>8</td>\n",
              "      <td>00:00</td>\n",
              "      <td>UTC</td>\n",
              "      <td>14.1</td>\n",
              "      <td>0.0</td>\n",
              "      <td>9.3</td>\n",
              "    </tr>\n",
              "    <tr>\n",
              "      <th>281</th>\n",
              "      <td>2017</td>\n",
              "      <td>10</td>\n",
              "      <td>9</td>\n",
              "      <td>00:00</td>\n",
              "      <td>UTC</td>\n",
              "      <td>18.3</td>\n",
              "      <td>0.0</td>\n",
              "      <td>8.6</td>\n",
              "    </tr>\n",
              "    <tr>\n",
              "      <th>282</th>\n",
              "      <td>2017</td>\n",
              "      <td>10</td>\n",
              "      <td>10</td>\n",
              "      <td>00:00</td>\n",
              "      <td>UTC</td>\n",
              "      <td>24.2</td>\n",
              "      <td>0.0</td>\n",
              "      <td>8.1</td>\n",
              "    </tr>\n",
              "    <tr>\n",
              "      <th>283</th>\n",
              "      <td>2017</td>\n",
              "      <td>10</td>\n",
              "      <td>11</td>\n",
              "      <td>00:00</td>\n",
              "      <td>UTC</td>\n",
              "      <td>1.5</td>\n",
              "      <td>0.0</td>\n",
              "      <td>6.9</td>\n",
              "    </tr>\n",
              "    <tr>\n",
              "      <th>284</th>\n",
              "      <td>2017</td>\n",
              "      <td>10</td>\n",
              "      <td>12</td>\n",
              "      <td>00:00</td>\n",
              "      <td>UTC</td>\n",
              "      <td>18.1</td>\n",
              "      <td>0.0</td>\n",
              "      <td>6.0</td>\n",
              "    </tr>\n",
              "    <tr>\n",
              "      <th>285</th>\n",
              "      <td>2017</td>\n",
              "      <td>10</td>\n",
              "      <td>13</td>\n",
              "      <td>00:00</td>\n",
              "      <td>UTC</td>\n",
              "      <td>0.0</td>\n",
              "      <td>0.0</td>\n",
              "      <td>7.5</td>\n",
              "    </tr>\n",
              "    <tr>\n",
              "      <th>286</th>\n",
              "      <td>2017</td>\n",
              "      <td>10</td>\n",
              "      <td>14</td>\n",
              "      <td>00:00</td>\n",
              "      <td>UTC</td>\n",
              "      <td>5.0</td>\n",
              "      <td>0.0</td>\n",
              "      <td>7.2</td>\n",
              "    </tr>\n",
              "    <tr>\n",
              "      <th>287</th>\n",
              "      <td>2017</td>\n",
              "      <td>10</td>\n",
              "      <td>15</td>\n",
              "      <td>00:00</td>\n",
              "      <td>UTC</td>\n",
              "      <td>3.3</td>\n",
              "      <td>0.0</td>\n",
              "      <td>8.3</td>\n",
              "    </tr>\n",
              "    <tr>\n",
              "      <th>288</th>\n",
              "      <td>2017</td>\n",
              "      <td>10</td>\n",
              "      <td>16</td>\n",
              "      <td>00:00</td>\n",
              "      <td>UTC</td>\n",
              "      <td>0.0</td>\n",
              "      <td>0.0</td>\n",
              "      <td>10.7</td>\n",
              "    </tr>\n",
              "    <tr>\n",
              "      <th>289</th>\n",
              "      <td>2017</td>\n",
              "      <td>10</td>\n",
              "      <td>17</td>\n",
              "      <td>00:00</td>\n",
              "      <td>UTC</td>\n",
              "      <td>1.6</td>\n",
              "      <td>0.0</td>\n",
              "      <td>8.5</td>\n",
              "    </tr>\n",
              "    <tr>\n",
              "      <th>290</th>\n",
              "      <td>2017</td>\n",
              "      <td>10</td>\n",
              "      <td>18</td>\n",
              "      <td>00:00</td>\n",
              "      <td>UTC</td>\n",
              "      <td>0.0</td>\n",
              "      <td>0.0</td>\n",
              "      <td>8.3</td>\n",
              "    </tr>\n",
              "    <tr>\n",
              "      <th>291</th>\n",
              "      <td>2017</td>\n",
              "      <td>10</td>\n",
              "      <td>19</td>\n",
              "      <td>00:00</td>\n",
              "      <td>UTC</td>\n",
              "      <td>0.9</td>\n",
              "      <td>0.0</td>\n",
              "      <td>4.6</td>\n",
              "    </tr>\n",
              "    <tr>\n",
              "      <th>292</th>\n",
              "      <td>2017</td>\n",
              "      <td>10</td>\n",
              "      <td>20</td>\n",
              "      <td>00:00</td>\n",
              "      <td>UTC</td>\n",
              "      <td>0.0</td>\n",
              "      <td>0.0</td>\n",
              "      <td>2.0</td>\n",
              "    </tr>\n",
              "    <tr>\n",
              "      <th>293</th>\n",
              "      <td>2017</td>\n",
              "      <td>10</td>\n",
              "      <td>21</td>\n",
              "      <td>00:00</td>\n",
              "      <td>UTC</td>\n",
              "      <td>0.0</td>\n",
              "      <td>0.0</td>\n",
              "      <td>0.2</td>\n",
              "    </tr>\n",
              "    <tr>\n",
              "      <th>294</th>\n",
              "      <td>2017</td>\n",
              "      <td>10</td>\n",
              "      <td>22</td>\n",
              "      <td>00:00</td>\n",
              "      <td>UTC</td>\n",
              "      <td>0.0</td>\n",
              "      <td>0.0</td>\n",
              "      <td>0.1</td>\n",
              "    </tr>\n",
              "    <tr>\n",
              "      <th>295</th>\n",
              "      <td>2017</td>\n",
              "      <td>10</td>\n",
              "      <td>23</td>\n",
              "      <td>00:00</td>\n",
              "      <td>UTC</td>\n",
              "      <td>0.0</td>\n",
              "      <td>0.0</td>\n",
              "      <td>1.3</td>\n",
              "    </tr>\n",
              "    <tr>\n",
              "      <th>296</th>\n",
              "      <td>2017</td>\n",
              "      <td>10</td>\n",
              "      <td>24</td>\n",
              "      <td>00:00</td>\n",
              "      <td>UTC</td>\n",
              "      <td>0.0</td>\n",
              "      <td>0.0</td>\n",
              "      <td>0.8</td>\n",
              "    </tr>\n",
              "    <tr>\n",
              "      <th>297</th>\n",
              "      <td>2017</td>\n",
              "      <td>10</td>\n",
              "      <td>25</td>\n",
              "      <td>00:00</td>\n",
              "      <td>UTC</td>\n",
              "      <td>8.5</td>\n",
              "      <td>0.0</td>\n",
              "      <td>2.1</td>\n",
              "    </tr>\n",
              "    <tr>\n",
              "      <th>298</th>\n",
              "      <td>2017</td>\n",
              "      <td>10</td>\n",
              "      <td>26</td>\n",
              "      <td>00:00</td>\n",
              "      <td>UTC</td>\n",
              "      <td>12.3</td>\n",
              "      <td>2.0</td>\n",
              "      <td>0.3</td>\n",
              "    </tr>\n",
              "    <tr>\n",
              "      <th>299</th>\n",
              "      <td>2017</td>\n",
              "      <td>10</td>\n",
              "      <td>27</td>\n",
              "      <td>00:00</td>\n",
              "      <td>UTC</td>\n",
              "      <td>2.7</td>\n",
              "      <td>7.0</td>\n",
              "      <td>-0.3</td>\n",
              "    </tr>\n",
              "    <tr>\n",
              "      <th>300</th>\n",
              "      <td>2017</td>\n",
              "      <td>10</td>\n",
              "      <td>28</td>\n",
              "      <td>00:00</td>\n",
              "      <td>UTC</td>\n",
              "      <td>17.1</td>\n",
              "      <td>4.0</td>\n",
              "      <td>3.3</td>\n",
              "    </tr>\n",
              "    <tr>\n",
              "      <th>301</th>\n",
              "      <td>2017</td>\n",
              "      <td>10</td>\n",
              "      <td>29</td>\n",
              "      <td>00:00</td>\n",
              "      <td>UTC</td>\n",
              "      <td>3.3</td>\n",
              "      <td>0.0</td>\n",
              "      <td>2.1</td>\n",
              "    </tr>\n",
              "    <tr>\n",
              "      <th>302</th>\n",
              "      <td>2017</td>\n",
              "      <td>10</td>\n",
              "      <td>30</td>\n",
              "      <td>00:00</td>\n",
              "      <td>UTC</td>\n",
              "      <td>0.0</td>\n",
              "      <td>0.0</td>\n",
              "      <td>1.2</td>\n",
              "    </tr>\n",
              "    <tr>\n",
              "      <th>303</th>\n",
              "      <td>2017</td>\n",
              "      <td>10</td>\n",
              "      <td>31</td>\n",
              "      <td>00:00</td>\n",
              "      <td>UTC</td>\n",
              "      <td>0.0</td>\n",
              "      <td>0.0</td>\n",
              "      <td>-0.4</td>\n",
              "    </tr>\n",
              "  </tbody>\n",
              "</table>\n",
              "</div>"
            ],
            "text/plain": [
              "     Year  Month  Day   Time Time zone  Precipitation  Snow  Temperature\n",
              "273  2017     10    1  00:00       UTC            0.0   0.0          9.1\n",
              "274  2017     10    2  00:00       UTC            6.4   0.0          9.2\n",
              "275  2017     10    3  00:00       UTC           21.5   0.0          8.3\n",
              "276  2017     10    4  00:00       UTC           12.7   0.0         11.2\n",
              "277  2017     10    5  00:00       UTC            0.6   0.0          8.8\n",
              "278  2017     10    6  00:00       UTC            0.7   0.0          7.7\n",
              "279  2017     10    7  00:00       UTC           11.7   0.0          8.1\n",
              "280  2017     10    8  00:00       UTC           14.1   0.0          9.3\n",
              "281  2017     10    9  00:00       UTC           18.3   0.0          8.6\n",
              "282  2017     10   10  00:00       UTC           24.2   0.0          8.1\n",
              "283  2017     10   11  00:00       UTC            1.5   0.0          6.9\n",
              "284  2017     10   12  00:00       UTC           18.1   0.0          6.0\n",
              "285  2017     10   13  00:00       UTC            0.0   0.0          7.5\n",
              "286  2017     10   14  00:00       UTC            5.0   0.0          7.2\n",
              "287  2017     10   15  00:00       UTC            3.3   0.0          8.3\n",
              "288  2017     10   16  00:00       UTC            0.0   0.0         10.7\n",
              "289  2017     10   17  00:00       UTC            1.6   0.0          8.5\n",
              "290  2017     10   18  00:00       UTC            0.0   0.0          8.3\n",
              "291  2017     10   19  00:00       UTC            0.9   0.0          4.6\n",
              "292  2017     10   20  00:00       UTC            0.0   0.0          2.0\n",
              "293  2017     10   21  00:00       UTC            0.0   0.0          0.2\n",
              "294  2017     10   22  00:00       UTC            0.0   0.0          0.1\n",
              "295  2017     10   23  00:00       UTC            0.0   0.0          1.3\n",
              "296  2017     10   24  00:00       UTC            0.0   0.0          0.8\n",
              "297  2017     10   25  00:00       UTC            8.5   0.0          2.1\n",
              "298  2017     10   26  00:00       UTC           12.3   2.0          0.3\n",
              "299  2017     10   27  00:00       UTC            2.7   7.0         -0.3\n",
              "300  2017     10   28  00:00       UTC           17.1   4.0          3.3\n",
              "301  2017     10   29  00:00       UTC            3.3   0.0          2.1\n",
              "302  2017     10   30  00:00       UTC            0.0   0.0          1.2\n",
              "303  2017     10   31  00:00       UTC            0.0   0.0         -0.4"
            ]
          },
          "metadata": {
            "tags": []
          },
          "execution_count": 48
        }
      ]
    },
    {
      "cell_type": "code",
      "metadata": {
        "colab": {
          "base_uri": "https://localhost:8080/",
          "height": 424
        },
        "id": "bDP3_UTsepvQ",
        "outputId": "3e0587a7-c22d-4fb7-f92f-476cebfc9ff1"
      },
      "source": [
        "## transformation -- each group's df is manipulated in a way tha retains it shape\n",
        "pd.concat([wh4.iloc[:, 0:3],\n",
        "           wh4.groupby(\"Month\")[[\"Precipitation\", \"Snow\", \"Temperature\"]].transform(lambda x : x - x.mean())],\n",
        "          axis=1)"
      ],
      "execution_count": 49,
      "outputs": [
        {
          "output_type": "execute_result",
          "data": {
            "text/html": [
              "<div>\n",
              "<style scoped>\n",
              "    .dataframe tbody tr th:only-of-type {\n",
              "        vertical-align: middle;\n",
              "    }\n",
              "\n",
              "    .dataframe tbody tr th {\n",
              "        vertical-align: top;\n",
              "    }\n",
              "\n",
              "    .dataframe thead th {\n",
              "        text-align: right;\n",
              "    }\n",
              "</style>\n",
              "<table border=\"1\" class=\"dataframe\">\n",
              "  <thead>\n",
              "    <tr style=\"text-align: right;\">\n",
              "      <th></th>\n",
              "      <th>Year</th>\n",
              "      <th>Month</th>\n",
              "      <th>Day</th>\n",
              "      <th>Precipitation</th>\n",
              "      <th>Snow</th>\n",
              "      <th>Temperature</th>\n",
              "    </tr>\n",
              "  </thead>\n",
              "  <tbody>\n",
              "    <tr>\n",
              "      <th>0</th>\n",
              "      <td>2017</td>\n",
              "      <td>1</td>\n",
              "      <td>1</td>\n",
              "      <td>-1.254839</td>\n",
              "      <td>-6.903226</td>\n",
              "      <td>2.916129</td>\n",
              "    </tr>\n",
              "    <tr>\n",
              "      <th>1</th>\n",
              "      <td>2017</td>\n",
              "      <td>1</td>\n",
              "      <td>2</td>\n",
              "      <td>3.145161</td>\n",
              "      <td>-6.903226</td>\n",
              "      <td>-1.583871</td>\n",
              "    </tr>\n",
              "    <tr>\n",
              "      <th>2</th>\n",
              "      <td>2017</td>\n",
              "      <td>1</td>\n",
              "      <td>3</td>\n",
              "      <td>5.345161</td>\n",
              "      <td>0.096774</td>\n",
              "      <td>-4.183871</td>\n",
              "    </tr>\n",
              "    <tr>\n",
              "      <th>3</th>\n",
              "      <td>2017</td>\n",
              "      <td>1</td>\n",
              "      <td>4</td>\n",
              "      <td>-1.254839</td>\n",
              "      <td>6.096774</td>\n",
              "      <td>-10.483871</td>\n",
              "    </tr>\n",
              "    <tr>\n",
              "      <th>4</th>\n",
              "      <td>2017</td>\n",
              "      <td>1</td>\n",
              "      <td>5</td>\n",
              "      <td>-1.254839</td>\n",
              "      <td>3.096774</td>\n",
              "      <td>-15.483871</td>\n",
              "    </tr>\n",
              "    <tr>\n",
              "      <th>...</th>\n",
              "      <td>...</td>\n",
              "      <td>...</td>\n",
              "      <td>...</td>\n",
              "      <td>...</td>\n",
              "      <td>...</td>\n",
              "      <td>...</td>\n",
              "    </tr>\n",
              "    <tr>\n",
              "      <th>360</th>\n",
              "      <td>2017</td>\n",
              "      <td>12</td>\n",
              "      <td>27</td>\n",
              "      <td>-3.435484</td>\n",
              "      <td>-1.483871</td>\n",
              "      <td>2.058065</td>\n",
              "    </tr>\n",
              "    <tr>\n",
              "      <th>361</th>\n",
              "      <td>2017</td>\n",
              "      <td>12</td>\n",
              "      <td>28</td>\n",
              "      <td>-0.835484</td>\n",
              "      <td>-1.483871</td>\n",
              "      <td>1.058065</td>\n",
              "    </tr>\n",
              "    <tr>\n",
              "      <th>362</th>\n",
              "      <td>2017</td>\n",
              "      <td>12</td>\n",
              "      <td>29</td>\n",
              "      <td>3.264516</td>\n",
              "      <td>-1.483871</td>\n",
              "      <td>2.058065</td>\n",
              "    </tr>\n",
              "    <tr>\n",
              "      <th>363</th>\n",
              "      <td>2017</td>\n",
              "      <td>12</td>\n",
              "      <td>30</td>\n",
              "      <td>-0.435484</td>\n",
              "      <td>-1.483871</td>\n",
              "      <td>0.758065</td>\n",
              "    </tr>\n",
              "    <tr>\n",
              "      <th>364</th>\n",
              "      <td>2017</td>\n",
              "      <td>12</td>\n",
              "      <td>31</td>\n",
              "      <td>-1.335484</td>\n",
              "      <td>-1.483871</td>\n",
              "      <td>-0.141935</td>\n",
              "    </tr>\n",
              "  </tbody>\n",
              "</table>\n",
              "<p>365 rows × 6 columns</p>\n",
              "</div>"
            ],
            "text/plain": [
              "     Year  Month  Day  Precipitation      Snow  Temperature\n",
              "0    2017      1    1      -1.254839 -6.903226     2.916129\n",
              "1    2017      1    2       3.145161 -6.903226    -1.583871\n",
              "2    2017      1    3       5.345161  0.096774    -4.183871\n",
              "3    2017      1    4      -1.254839  6.096774   -10.483871\n",
              "4    2017      1    5      -1.254839  3.096774   -15.483871\n",
              "..    ...    ...  ...            ...       ...          ...\n",
              "360  2017     12   27      -3.435484 -1.483871     2.058065\n",
              "361  2017     12   28      -0.835484 -1.483871     1.058065\n",
              "362  2017     12   29       3.264516 -1.483871     2.058065\n",
              "363  2017     12   30      -0.435484 -1.483871     0.758065\n",
              "364  2017     12   31      -1.335484 -1.483871    -0.141935\n",
              "\n",
              "[365 rows x 6 columns]"
            ]
          },
          "metadata": {
            "tags": []
          },
          "execution_count": 49
        }
      ]
    },
    {
      "cell_type": "code",
      "metadata": {
        "colab": {
          "base_uri": "https://localhost:8080/",
          "height": 455
        },
        "id": "8QqJmwGbe1G7",
        "outputId": "46b28362-044c-456a-8c67-a5af90dc7718"
      },
      "source": [
        "## apply -- applies a function and returns a df, series or a scalar\n",
        "wh4.groupby(\"Month\").apply(lambda df : df.sort_values(\"Temperature\"))"
      ],
      "execution_count": 50,
      "outputs": [
        {
          "output_type": "execute_result",
          "data": {
            "text/html": [
              "<div>\n",
              "<style scoped>\n",
              "    .dataframe tbody tr th:only-of-type {\n",
              "        vertical-align: middle;\n",
              "    }\n",
              "\n",
              "    .dataframe tbody tr th {\n",
              "        vertical-align: top;\n",
              "    }\n",
              "\n",
              "    .dataframe thead th {\n",
              "        text-align: right;\n",
              "    }\n",
              "</style>\n",
              "<table border=\"1\" class=\"dataframe\">\n",
              "  <thead>\n",
              "    <tr style=\"text-align: right;\">\n",
              "      <th></th>\n",
              "      <th></th>\n",
              "      <th>Year</th>\n",
              "      <th>Month</th>\n",
              "      <th>Day</th>\n",
              "      <th>Time</th>\n",
              "      <th>Time zone</th>\n",
              "      <th>Precipitation</th>\n",
              "      <th>Snow</th>\n",
              "      <th>Temperature</th>\n",
              "    </tr>\n",
              "    <tr>\n",
              "      <th>Month</th>\n",
              "      <th></th>\n",
              "      <th></th>\n",
              "      <th></th>\n",
              "      <th></th>\n",
              "      <th></th>\n",
              "      <th></th>\n",
              "      <th></th>\n",
              "      <th></th>\n",
              "      <th></th>\n",
              "    </tr>\n",
              "  </thead>\n",
              "  <tbody>\n",
              "    <tr>\n",
              "      <th rowspan=\"5\" valign=\"top\">1</th>\n",
              "      <th>4</th>\n",
              "      <td>2017</td>\n",
              "      <td>1</td>\n",
              "      <td>5</td>\n",
              "      <td>00:00</td>\n",
              "      <td>UTC</td>\n",
              "      <td>0.0</td>\n",
              "      <td>10.0</td>\n",
              "      <td>-17.8</td>\n",
              "    </tr>\n",
              "    <tr>\n",
              "      <th>5</th>\n",
              "      <td>2017</td>\n",
              "      <td>1</td>\n",
              "      <td>6</td>\n",
              "      <td>00:00</td>\n",
              "      <td>UTC</td>\n",
              "      <td>0.3</td>\n",
              "      <td>10.0</td>\n",
              "      <td>-17.8</td>\n",
              "    </tr>\n",
              "    <tr>\n",
              "      <th>3</th>\n",
              "      <td>2017</td>\n",
              "      <td>1</td>\n",
              "      <td>4</td>\n",
              "      <td>00:00</td>\n",
              "      <td>UTC</td>\n",
              "      <td>0.0</td>\n",
              "      <td>13.0</td>\n",
              "      <td>-12.8</td>\n",
              "    </tr>\n",
              "    <tr>\n",
              "      <th>2</th>\n",
              "      <td>2017</td>\n",
              "      <td>1</td>\n",
              "      <td>3</td>\n",
              "      <td>00:00</td>\n",
              "      <td>UTC</td>\n",
              "      <td>6.6</td>\n",
              "      <td>7.0</td>\n",
              "      <td>-6.5</td>\n",
              "    </tr>\n",
              "    <tr>\n",
              "      <th>15</th>\n",
              "      <td>2017</td>\n",
              "      <td>1</td>\n",
              "      <td>16</td>\n",
              "      <td>00:00</td>\n",
              "      <td>UTC</td>\n",
              "      <td>0.0</td>\n",
              "      <td>8.0</td>\n",
              "      <td>-4.2</td>\n",
              "    </tr>\n",
              "    <tr>\n",
              "      <th>...</th>\n",
              "      <th>...</th>\n",
              "      <td>...</td>\n",
              "      <td>...</td>\n",
              "      <td>...</td>\n",
              "      <td>...</td>\n",
              "      <td>...</td>\n",
              "      <td>...</td>\n",
              "      <td>...</td>\n",
              "      <td>...</td>\n",
              "    </tr>\n",
              "    <tr>\n",
              "      <th rowspan=\"5\" valign=\"top\">12</th>\n",
              "      <th>360</th>\n",
              "      <td>2017</td>\n",
              "      <td>12</td>\n",
              "      <td>27</td>\n",
              "      <td>00:00</td>\n",
              "      <td>UTC</td>\n",
              "      <td>1.1</td>\n",
              "      <td>0.0</td>\n",
              "      <td>3.8</td>\n",
              "    </tr>\n",
              "    <tr>\n",
              "      <th>362</th>\n",
              "      <td>2017</td>\n",
              "      <td>12</td>\n",
              "      <td>29</td>\n",
              "      <td>00:00</td>\n",
              "      <td>UTC</td>\n",
              "      <td>7.8</td>\n",
              "      <td>0.0</td>\n",
              "      <td>3.8</td>\n",
              "    </tr>\n",
              "    <tr>\n",
              "      <th>342</th>\n",
              "      <td>2017</td>\n",
              "      <td>12</td>\n",
              "      <td>9</td>\n",
              "      <td>00:00</td>\n",
              "      <td>UTC</td>\n",
              "      <td>0.2</td>\n",
              "      <td>0.0</td>\n",
              "      <td>4.2</td>\n",
              "    </tr>\n",
              "    <tr>\n",
              "      <th>336</th>\n",
              "      <td>2017</td>\n",
              "      <td>12</td>\n",
              "      <td>3</td>\n",
              "      <td>00:00</td>\n",
              "      <td>UTC</td>\n",
              "      <td>7.2</td>\n",
              "      <td>0.0</td>\n",
              "      <td>5.0</td>\n",
              "    </tr>\n",
              "    <tr>\n",
              "      <th>341</th>\n",
              "      <td>2017</td>\n",
              "      <td>12</td>\n",
              "      <td>8</td>\n",
              "      <td>00:00</td>\n",
              "      <td>UTC</td>\n",
              "      <td>2.0</td>\n",
              "      <td>0.0</td>\n",
              "      <td>5.2</td>\n",
              "    </tr>\n",
              "  </tbody>\n",
              "</table>\n",
              "<p>365 rows × 8 columns</p>\n",
              "</div>"
            ],
            "text/plain": [
              "           Year  Month  Day   Time Time zone  Precipitation  Snow  Temperature\n",
              "Month                                                                         \n",
              "1     4    2017      1    5  00:00       UTC            0.0  10.0        -17.8\n",
              "      5    2017      1    6  00:00       UTC            0.3  10.0        -17.8\n",
              "      3    2017      1    4  00:00       UTC            0.0  13.0        -12.8\n",
              "      2    2017      1    3  00:00       UTC            6.6   7.0         -6.5\n",
              "      15   2017      1   16  00:00       UTC            0.0   8.0         -4.2\n",
              "...         ...    ...  ...    ...       ...            ...   ...          ...\n",
              "12    360  2017     12   27  00:00       UTC            1.1   0.0          3.8\n",
              "      362  2017     12   29  00:00       UTC            7.8   0.0          3.8\n",
              "      342  2017     12    9  00:00       UTC            0.2   0.0          4.2\n",
              "      336  2017     12    3  00:00       UTC            7.2   0.0          5.0\n",
              "      341  2017     12    8  00:00       UTC            2.0   0.0          5.2\n",
              "\n",
              "[365 rows x 8 columns]"
            ]
          },
          "metadata": {
            "tags": []
          },
          "execution_count": 50
        }
      ]
    },
    {
      "cell_type": "code",
      "metadata": {
        "id": "42G8oauvfBLx"
      },
      "source": [
        "## exercise 04 (cyclits per day)\n",
        "def cyclists_per_day():\n",
        "  url_cyclist = 'https://raw.githubusercontent.com/annassanchez/HY-2021-DataScience/main/week05/Helsingin_pyorailijamaarat.csv'\n",
        "  df_cyclist = pd.read_csv(url_cyclist, sep=';')\n",
        "  df_cyclist = df_cyclist.dropna(axis=0, how=\"all\").dropna(axis=1, how=\"all\")\n",
        "  df_cyclist[[\"Weekday\", \"Day\", \"Month\", \"Year\", \"Hour\"]] = df_cyclist['Päivämäärä'].str.split(expand=True)\n",
        "  df_cyclist[[\"Month\"]] = df_cyclist[[\"Month\"]].replace({\"tammi\": \"1\", \"helmi\": \"2\", \"maalis\": \"3\", \n",
        "                                                          \"huhti\": \"4\", \"touko\": \"5\", \"kesä\": \"6\", \n",
        "                                                          \"heinä\": \"7\", \"elo\": \"8\", \"syys\": \"9\", \n",
        "                                                          \"loka\": \"10\", \"marras\": \"11\", \"joulu\": \"12\"})\n",
        "  df_cyclist = df_cyclist.astype({\"Weekday\": object, \"Day\": int, \"Month\": int, \"Year\": int})\n",
        "  test = df_cyclist.groupby(['Year', 'Month', 'Day']).sum()\n",
        "  return test"
      ],
      "execution_count": 51,
      "outputs": []
    },
    {
      "cell_type": "code",
      "metadata": {
        "colab": {
          "base_uri": "https://localhost:8080/",
          "height": 265
        },
        "id": "wrdtDeLem_Hw",
        "outputId": "1a10afd2-4c29-4575-a98f-2d22267cdcff"
      },
      "source": [
        "#df = \n",
        "kk = cyclists_per_day().loc[(2017,8,)]\n",
        "for col in kk:\n",
        "  plt.plot(list(kk.index), kk[col])\n",
        "  plt.show\n"
      ],
      "execution_count": 52,
      "outputs": [
        {
          "output_type": "display_data",
          "data": {
            "image/png": "[encoded data removed]",
            "text/plain": [
              "<Figure size 432x288 with 1 Axes>"
            ]
          },
          "metadata": {
            "tags": [],
            "needs_background": "light"
          }
        }
      ]
    },
    {
      "cell_type": "code",
      "metadata": {
        "colab": {
          "base_uri": "https://localhost:8080/",
          "height": 510
        },
        "id": "jnM_uhaxgv_z",
        "outputId": "b2316608-a71b-4ea5-e7dd-8f0cdd4eaed4"
      },
      "source": [
        "url_cyclist = 'https://raw.githubusercontent.com/annassanchez/HY-2021-DataScience/main/week05/Helsingin_pyorailijamaarat.csv'\n",
        "df_cyclist = pd.read_csv(url_cyclist, sep=';')\n",
        "df_cyclist = df_cyclist.dropna(axis=0, how=\"all\").dropna(axis=1, how=\"all\")\n",
        "df_cyclist[[\"Weekday\", \"Day\", \"Month\", \"Year\", \"Hour\"]] = df_cyclist['Päivämäärä'].str.split(expand=True)\n",
        "df_cyclist[[\"Month\"]] = df_cyclist[[\"Month\"]].replace({\"tammi\": \"1\", \"helmi\": \"2\", \"maalis\": \"3\", \n",
        "                                                        \"huhti\": \"4\", \"touko\": \"5\", \"kesä\": \"6\", \n",
        "                                                        \"heinä\": \"7\", \"elo\": \"8\", \"syys\": \"9\", \n",
        "                                                        \"loka\": \"10\", \"marras\": \"11\", \"joulu\": \"12\"})\n",
        "df_cyclist = df_cyclist.astype({\"Weekday\": object, \"Day\": int, \"Month\": int, \"Year\": int})\n",
        "test = df_cyclist.groupby(['Year', 'Month', 'Day']).sum()#.get_group()#.size()\n",
        "test\n",
        "#pd.DataFrame(test.size().reset_index(name = \"Group_Count\"))"
      ],
      "execution_count": 53,
      "outputs": [
        {
          "output_type": "execute_result",
          "data": {
            "text/html": [
              "<div>\n",
              "<style scoped>\n",
              "    .dataframe tbody tr th:only-of-type {\n",
              "        vertical-align: middle;\n",
              "    }\n",
              "\n",
              "    .dataframe tbody tr th {\n",
              "        vertical-align: top;\n",
              "    }\n",
              "\n",
              "    .dataframe thead th {\n",
              "        text-align: right;\n",
              "    }\n",
              "</style>\n",
              "<table border=\"1\" class=\"dataframe\">\n",
              "  <thead>\n",
              "    <tr style=\"text-align: right;\">\n",
              "      <th></th>\n",
              "      <th></th>\n",
              "      <th></th>\n",
              "      <th>Auroransilta</th>\n",
              "      <th>Eteläesplanadi</th>\n",
              "      <th>Huopalahti (asema)</th>\n",
              "      <th>Kaisaniemi/Eläintarhanlahti</th>\n",
              "      <th>Kaivokatu</th>\n",
              "      <th>Kulosaaren silta et.</th>\n",
              "      <th>Kulosaaren silta po.</th>\n",
              "      <th>Kuusisaarentie</th>\n",
              "      <th>Käpylä, Pohjoisbaana</th>\n",
              "      <th>Lauttasaaren silta eteläpuoli</th>\n",
              "      <th>Merikannontie</th>\n",
              "      <th>Munkkiniemen silta eteläpuoli</th>\n",
              "      <th>Munkkiniemi silta pohjoispuoli</th>\n",
              "      <th>Heperian puisto/Ooppera</th>\n",
              "      <th>Pitkäsilta itäpuoli</th>\n",
              "      <th>Pitkäsilta länsipuoli</th>\n",
              "      <th>Lauttasaaren silta pohjoispuoli</th>\n",
              "      <th>Ratapihantie</th>\n",
              "      <th>Viikintie</th>\n",
              "      <th>Baana</th>\n",
              "    </tr>\n",
              "    <tr>\n",
              "      <th>Year</th>\n",
              "      <th>Month</th>\n",
              "      <th>Day</th>\n",
              "      <th></th>\n",
              "      <th></th>\n",
              "      <th></th>\n",
              "      <th></th>\n",
              "      <th></th>\n",
              "      <th></th>\n",
              "      <th></th>\n",
              "      <th></th>\n",
              "      <th></th>\n",
              "      <th></th>\n",
              "      <th></th>\n",
              "      <th></th>\n",
              "      <th></th>\n",
              "      <th></th>\n",
              "      <th></th>\n",
              "      <th></th>\n",
              "      <th></th>\n",
              "      <th></th>\n",
              "      <th></th>\n",
              "      <th></th>\n",
              "    </tr>\n",
              "  </thead>\n",
              "  <tbody>\n",
              "    <tr>\n",
              "      <th rowspan=\"5\" valign=\"top\">2014</th>\n",
              "      <th rowspan=\"5\" valign=\"top\">1</th>\n",
              "      <th>1</th>\n",
              "      <td>0.0</td>\n",
              "      <td>129.0</td>\n",
              "      <td>0.0</td>\n",
              "      <td>113.0</td>\n",
              "      <td>0.0</td>\n",
              "      <td>0.0</td>\n",
              "      <td>0.0</td>\n",
              "      <td>0.0</td>\n",
              "      <td>0.0</td>\n",
              "      <td>0.0</td>\n",
              "      <td>0.0</td>\n",
              "      <td>123.0</td>\n",
              "      <td>195.0</td>\n",
              "      <td>96.0</td>\n",
              "      <td>0.0</td>\n",
              "      <td>182.0</td>\n",
              "      <td>0.0</td>\n",
              "      <td>0.0</td>\n",
              "      <td>0.0</td>\n",
              "      <td>289.0</td>\n",
              "    </tr>\n",
              "    <tr>\n",
              "      <th>2</th>\n",
              "      <td>0.0</td>\n",
              "      <td>526.0</td>\n",
              "      <td>0.0</td>\n",
              "      <td>504.0</td>\n",
              "      <td>0.0</td>\n",
              "      <td>0.0</td>\n",
              "      <td>0.0</td>\n",
              "      <td>0.0</td>\n",
              "      <td>0.0</td>\n",
              "      <td>0.0</td>\n",
              "      <td>0.0</td>\n",
              "      <td>387.0</td>\n",
              "      <td>378.0</td>\n",
              "      <td>290.0</td>\n",
              "      <td>0.0</td>\n",
              "      <td>371.0</td>\n",
              "      <td>0.0</td>\n",
              "      <td>0.0</td>\n",
              "      <td>0.0</td>\n",
              "      <td>921.0</td>\n",
              "    </tr>\n",
              "    <tr>\n",
              "      <th>3</th>\n",
              "      <td>0.0</td>\n",
              "      <td>546.0</td>\n",
              "      <td>0.0</td>\n",
              "      <td>512.0</td>\n",
              "      <td>0.0</td>\n",
              "      <td>0.0</td>\n",
              "      <td>0.0</td>\n",
              "      <td>0.0</td>\n",
              "      <td>0.0</td>\n",
              "      <td>0.0</td>\n",
              "      <td>0.0</td>\n",
              "      <td>406.0</td>\n",
              "      <td>367.0</td>\n",
              "      <td>314.0</td>\n",
              "      <td>0.0</td>\n",
              "      <td>389.0</td>\n",
              "      <td>0.0</td>\n",
              "      <td>0.0</td>\n",
              "      <td>0.0</td>\n",
              "      <td>912.0</td>\n",
              "    </tr>\n",
              "    <tr>\n",
              "      <th>4</th>\n",
              "      <td>0.0</td>\n",
              "      <td>259.0</td>\n",
              "      <td>0.0</td>\n",
              "      <td>258.0</td>\n",
              "      <td>0.0</td>\n",
              "      <td>0.0</td>\n",
              "      <td>0.0</td>\n",
              "      <td>0.0</td>\n",
              "      <td>0.0</td>\n",
              "      <td>0.0</td>\n",
              "      <td>0.0</td>\n",
              "      <td>174.0</td>\n",
              "      <td>160.0</td>\n",
              "      <td>190.0</td>\n",
              "      <td>0.0</td>\n",
              "      <td>280.0</td>\n",
              "      <td>0.0</td>\n",
              "      <td>0.0</td>\n",
              "      <td>0.0</td>\n",
              "      <td>422.0</td>\n",
              "    </tr>\n",
              "    <tr>\n",
              "      <th>5</th>\n",
              "      <td>0.0</td>\n",
              "      <td>230.0</td>\n",
              "      <td>0.0</td>\n",
              "      <td>243.0</td>\n",
              "      <td>0.0</td>\n",
              "      <td>0.0</td>\n",
              "      <td>0.0</td>\n",
              "      <td>0.0</td>\n",
              "      <td>0.0</td>\n",
              "      <td>0.0</td>\n",
              "      <td>0.0</td>\n",
              "      <td>235.0</td>\n",
              "      <td>250.0</td>\n",
              "      <td>183.0</td>\n",
              "      <td>0.0</td>\n",
              "      <td>262.0</td>\n",
              "      <td>0.0</td>\n",
              "      <td>0.0</td>\n",
              "      <td>0.0</td>\n",
              "      <td>497.0</td>\n",
              "    </tr>\n",
              "    <tr>\n",
              "      <th>...</th>\n",
              "      <th>...</th>\n",
              "      <th>...</th>\n",
              "      <td>...</td>\n",
              "      <td>...</td>\n",
              "      <td>...</td>\n",
              "      <td>...</td>\n",
              "      <td>...</td>\n",
              "      <td>...</td>\n",
              "      <td>...</td>\n",
              "      <td>...</td>\n",
              "      <td>...</td>\n",
              "      <td>...</td>\n",
              "      <td>...</td>\n",
              "      <td>...</td>\n",
              "      <td>...</td>\n",
              "      <td>...</td>\n",
              "      <td>...</td>\n",
              "      <td>...</td>\n",
              "      <td>...</td>\n",
              "      <td>...</td>\n",
              "      <td>...</td>\n",
              "      <td>...</td>\n",
              "    </tr>\n",
              "    <tr>\n",
              "      <th rowspan=\"5\" valign=\"top\">2018</th>\n",
              "      <th rowspan=\"5\" valign=\"top\">3</th>\n",
              "      <th>23</th>\n",
              "      <td>379.0</td>\n",
              "      <td>307.0</td>\n",
              "      <td>410.0</td>\n",
              "      <td>388.0</td>\n",
              "      <td>738.0</td>\n",
              "      <td>4.0</td>\n",
              "      <td>414.0</td>\n",
              "      <td>405.0</td>\n",
              "      <td>373.0</td>\n",
              "      <td>645.0</td>\n",
              "      <td>515.0</td>\n",
              "      <td>512.0</td>\n",
              "      <td>179.0</td>\n",
              "      <td>922.0</td>\n",
              "      <td>543.0</td>\n",
              "      <td>355.0</td>\n",
              "      <td>285.0</td>\n",
              "      <td>619.0</td>\n",
              "      <td>199.0</td>\n",
              "      <td>982.0</td>\n",
              "    </tr>\n",
              "    <tr>\n",
              "      <th>24</th>\n",
              "      <td>103.0</td>\n",
              "      <td>170.0</td>\n",
              "      <td>114.0</td>\n",
              "      <td>115.0</td>\n",
              "      <td>335.0</td>\n",
              "      <td>0.0</td>\n",
              "      <td>144.0</td>\n",
              "      <td>122.0</td>\n",
              "      <td>97.0</td>\n",
              "      <td>260.0</td>\n",
              "      <td>210.0</td>\n",
              "      <td>177.0</td>\n",
              "      <td>111.0</td>\n",
              "      <td>406.0</td>\n",
              "      <td>296.0</td>\n",
              "      <td>249.0</td>\n",
              "      <td>85.0</td>\n",
              "      <td>189.0</td>\n",
              "      <td>77.0</td>\n",
              "      <td>325.0</td>\n",
              "    </tr>\n",
              "    <tr>\n",
              "      <th>25</th>\n",
              "      <td>99.0</td>\n",
              "      <td>187.0</td>\n",
              "      <td>155.0</td>\n",
              "      <td>161.0</td>\n",
              "      <td>375.0</td>\n",
              "      <td>0.0</td>\n",
              "      <td>199.0</td>\n",
              "      <td>180.0</td>\n",
              "      <td>154.0</td>\n",
              "      <td>349.0</td>\n",
              "      <td>345.0</td>\n",
              "      <td>168.0</td>\n",
              "      <td>130.0</td>\n",
              "      <td>405.0</td>\n",
              "      <td>266.0</td>\n",
              "      <td>217.0</td>\n",
              "      <td>122.0</td>\n",
              "      <td>188.0</td>\n",
              "      <td>113.0</td>\n",
              "      <td>399.0</td>\n",
              "    </tr>\n",
              "    <tr>\n",
              "      <th>26</th>\n",
              "      <td>478.0</td>\n",
              "      <td>468.0</td>\n",
              "      <td>599.0</td>\n",
              "      <td>471.0</td>\n",
              "      <td>826.0</td>\n",
              "      <td>3.0</td>\n",
              "      <td>563.0</td>\n",
              "      <td>541.0</td>\n",
              "      <td>551.0</td>\n",
              "      <td>763.0</td>\n",
              "      <td>721.0</td>\n",
              "      <td>631.0</td>\n",
              "      <td>261.0</td>\n",
              "      <td>1193.0</td>\n",
              "      <td>603.0</td>\n",
              "      <td>368.0</td>\n",
              "      <td>353.0</td>\n",
              "      <td>841.0</td>\n",
              "      <td>233.0</td>\n",
              "      <td>1184.0</td>\n",
              "    </tr>\n",
              "    <tr>\n",
              "      <th>27</th>\n",
              "      <td>440.0</td>\n",
              "      <td>478.0</td>\n",
              "      <td>633.0</td>\n",
              "      <td>460.0</td>\n",
              "      <td>821.0</td>\n",
              "      <td>2.0</td>\n",
              "      <td>550.0</td>\n",
              "      <td>537.0</td>\n",
              "      <td>475.0</td>\n",
              "      <td>778.0</td>\n",
              "      <td>718.0</td>\n",
              "      <td>609.0</td>\n",
              "      <td>264.0</td>\n",
              "      <td>1103.0</td>\n",
              "      <td>646.0</td>\n",
              "      <td>369.0</td>\n",
              "      <td>365.0</td>\n",
              "      <td>801.0</td>\n",
              "      <td>222.0</td>\n",
              "      <td>1209.0</td>\n",
              "    </tr>\n",
              "  </tbody>\n",
              "</table>\n",
              "<p>1547 rows × 20 columns</p>\n",
              "</div>"
            ],
            "text/plain": [
              "                Auroransilta  Eteläesplanadi  ...  Viikintie   Baana\n",
              "Year Month Day                                ...                   \n",
              "2014 1     1             0.0           129.0  ...        0.0   289.0\n",
              "           2             0.0           526.0  ...        0.0   921.0\n",
              "           3             0.0           546.0  ...        0.0   912.0\n",
              "           4             0.0           259.0  ...        0.0   422.0\n",
              "           5             0.0           230.0  ...        0.0   497.0\n",
              "...                      ...             ...  ...        ...     ...\n",
              "2018 3     23          379.0           307.0  ...      199.0   982.0\n",
              "           24          103.0           170.0  ...       77.0   325.0\n",
              "           25           99.0           187.0  ...      113.0   399.0\n",
              "           26          478.0           468.0  ...      233.0  1184.0\n",
              "           27          440.0           478.0  ...      222.0  1209.0\n",
              "\n",
              "[1547 rows x 20 columns]"
            ]
          },
          "metadata": {
            "tags": []
          },
          "execution_count": 53
        }
      ]
    },
    {
      "cell_type": "code",
      "metadata": {
        "id": "t_-WHolMrTNo"
      },
      "source": [
        "def split_date(df):\n",
        "    d = df[\"Päivämäärä\"].str.split(expand=True)\n",
        "    d.columns = [\"Weekday\", \"Day\", \"Month\", \"Year\", \"Hour\"]\n",
        "    hourmin = d[\"Hour\"].str.split(\":\", expand=True)\n",
        "    d[\"Hour\"] = hourmin.iloc[:, 0]\n",
        "    d[\"Weekday\"] = d[\"Weekday\"].map(days)\n",
        "    d[\"Month\"] = d[\"Month\"].map(months)\n",
        "    d = d.astype({\"Weekday\": object, \"Day\": int, \"Month\": int, \"Year\": int, \"Hour\": int})\n",
        "    return d\n",
        "\n",
        "def split_date_continues():\n",
        "    df = pd.read_csv(\"src/Helsingin_pyorailijamaarat.csv\", sep=\";\")\n",
        "    df = df.dropna(axis=0, how=\"all\").dropna(axis=1, how=\"all\")\n",
        "    d = split_date(df)\n",
        "    df = df.drop(\"Päivämäärä\", axis=1)\n",
        "    return pd.concat([d, df], axis=1)\n",
        "\n",
        "def cyclists_per_day():\n",
        "    df = split_date_continues()\n",
        "    res = df.groupby([\"Year\", \"Month\", \"Day\"]).sum()\n",
        "    res = res.drop([\"Hour\"], axis=1)\n",
        "    return res"
      ],
      "execution_count": 54,
      "outputs": []
    },
    {
      "cell_type": "code",
      "metadata": {
        "id": "-YEMa23Wtbe8"
      },
      "source": [
        "## exercise 05 (best record company)\n",
        "def best_record_company():\n",
        "    url_record = 'https://raw.githubusercontent.com/annassanchez/HY-2021-DataScience/main/week05/UK-top40-1964-1-2.tsv'\n",
        "    company = pd.read_csv(url_record, sep = '\\t')\n",
        "    comps = company.groupby(\"Publisher\")\n",
        "    wkcomps = comps[\"WoC\"].sum()\n",
        "    wkcomps = wkcomps.sort_values(ascending=False)\n",
        "    publ = wkcomps.head(1)\n",
        "    p=publ.index[0]\n",
        "    topsingles = company[company[\"Publisher\"] == p]\n",
        "    #print(wkcomps.index[wkcomps[0]].tolist())\n",
        "    return topsingles"
      ],
      "execution_count": 55,
      "outputs": []
    },
    {
      "cell_type": "code",
      "metadata": {
        "colab": {
          "base_uri": "https://localhost:8080/",
          "height": 269
        },
        "id": "nUkkDh_pv6i8",
        "outputId": "b7b089ae-ed2f-425d-8a57-6e4664ecf67d"
      },
      "source": [
        "best_record_company()"
      ],
      "execution_count": 56,
      "outputs": [
        {
          "output_type": "execute_result",
          "data": {
            "text/html": [
              "<div>\n",
              "<style scoped>\n",
              "    .dataframe tbody tr th:only-of-type {\n",
              "        vertical-align: middle;\n",
              "    }\n",
              "\n",
              "    .dataframe tbody tr th {\n",
              "        vertical-align: top;\n",
              "    }\n",
              "\n",
              "    .dataframe thead th {\n",
              "        text-align: right;\n",
              "    }\n",
              "</style>\n",
              "<table border=\"1\" class=\"dataframe\">\n",
              "  <thead>\n",
              "    <tr style=\"text-align: right;\">\n",
              "      <th></th>\n",
              "      <th>Pos</th>\n",
              "      <th>LW</th>\n",
              "      <th>Title</th>\n",
              "      <th>Artist</th>\n",
              "      <th>Publisher</th>\n",
              "      <th>Peak Pos</th>\n",
              "      <th>WoC</th>\n",
              "    </tr>\n",
              "  </thead>\n",
              "  <tbody>\n",
              "    <tr>\n",
              "      <th>1</th>\n",
              "      <td>2</td>\n",
              "      <td>6</td>\n",
              "      <td>GLAD ALL OVER</td>\n",
              "      <td>THE DAVE CLARK FIVE</td>\n",
              "      <td>COLUMBIA</td>\n",
              "      <td>2</td>\n",
              "      <td>7</td>\n",
              "    </tr>\n",
              "    <tr>\n",
              "      <th>3</th>\n",
              "      <td>4</td>\n",
              "      <td>3</td>\n",
              "      <td>YOU WERE MADE FOR ME</td>\n",
              "      <td>FREDDIE AND THE DREAMERS</td>\n",
              "      <td>COLUMBIA</td>\n",
              "      <td>3</td>\n",
              "      <td>9</td>\n",
              "    </tr>\n",
              "    <tr>\n",
              "      <th>9</th>\n",
              "      <td>10</td>\n",
              "      <td>8</td>\n",
              "      <td>DON'T TALK TO HIM</td>\n",
              "      <td>CLIFF RICHARD</td>\n",
              "      <td>COLUMBIA</td>\n",
              "      <td>2</td>\n",
              "      <td>9</td>\n",
              "    </tr>\n",
              "    <tr>\n",
              "      <th>11</th>\n",
              "      <td>12</td>\n",
              "      <td>11</td>\n",
              "      <td>GERONIMO</td>\n",
              "      <td>THE SHADOWS</td>\n",
              "      <td>COLUMBIA</td>\n",
              "      <td>11</td>\n",
              "      <td>5</td>\n",
              "    </tr>\n",
              "    <tr>\n",
              "      <th>15</th>\n",
              "      <td>16</td>\n",
              "      <td>12</td>\n",
              "      <td>YOU'LL NEVER WALK ALONE</td>\n",
              "      <td>GERRY AND THE PACEMAKERS</td>\n",
              "      <td>COLUMBIA</td>\n",
              "      <td>1</td>\n",
              "      <td>13</td>\n",
              "    </tr>\n",
              "    <tr>\n",
              "      <th>24</th>\n",
              "      <td>25</td>\n",
              "      <td>25</td>\n",
              "      <td>I (WHO HAVE NOTHING)</td>\n",
              "      <td>SHIRLEY BASSEY</td>\n",
              "      <td>COLUMBIA</td>\n",
              "      <td>6</td>\n",
              "      <td>14</td>\n",
              "    </tr>\n",
              "    <tr>\n",
              "      <th>39</th>\n",
              "      <td>40</td>\n",
              "      <td>Re</td>\n",
              "      <td>WALKING ALONE</td>\n",
              "      <td>RICHARD ANTHONY</td>\n",
              "      <td>COLUMBIA</td>\n",
              "      <td>37</td>\n",
              "      <td>2</td>\n",
              "    </tr>\n",
              "  </tbody>\n",
              "</table>\n",
              "</div>"
            ],
            "text/plain": [
              "    Pos  LW                    Title  ... Publisher Peak Pos  WoC\n",
              "1     2   6            GLAD ALL OVER  ...  COLUMBIA        2    7\n",
              "3     4   3     YOU WERE MADE FOR ME  ...  COLUMBIA        3    9\n",
              "9    10   8        DON'T TALK TO HIM  ...  COLUMBIA        2    9\n",
              "11   12  11                 GERONIMO  ...  COLUMBIA       11    5\n",
              "15   16  12  YOU'LL NEVER WALK ALONE  ...  COLUMBIA        1   13\n",
              "24   25  25     I (WHO HAVE NOTHING)  ...  COLUMBIA        6   14\n",
              "39   40  Re            WALKING ALONE  ...  COLUMBIA       37    2\n",
              "\n",
              "[7 rows x 7 columns]"
            ]
          },
          "metadata": {
            "tags": []
          },
          "execution_count": 56
        }
      ]
    },
    {
      "cell_type": "code",
      "metadata": {
        "id": "za6WwR1XxrH8"
      },
      "source": [
        "## alternative solution\n",
        "def best_record_company():\n",
        "    df = pd.read_csv(\"src/UK-top40-1964-1-2.tsv\", sep=\"\\t\")\n",
        "    df2 = df.groupby(\"Publisher\").sum()\n",
        "    best_company = df2[\"WoC\"].idxmax()\n",
        "    return df[df[\"Publisher\"] == best_company]"
      ],
      "execution_count": 57,
      "outputs": []
    },
    {
      "cell_type": "code",
      "metadata": {
        "id": "T7VPRW0WyFhu"
      },
      "source": [
        "## exercise 06 (suicide fractions)\n",
        "def suicide_fractions():\n",
        "  url = 'https://raw.githubusercontent.com/annassanchez/HY-2021-DataScience/main/week05/who_suicide_statistics.csv'\n",
        "  df_suicide = pd.read_csv(url, sep = ',')\n",
        "  df_suicide['suicide_population'] = df_suicide['suicides_no'] / df_suicide['population']\n",
        "  suicide = df_suicide.groupby(by = 'country')['suicide_population'].mean()#.sum().apply(lambda x: x['suicides_no']/x['population'])\n",
        "  return suicide"
      ],
      "execution_count": 65,
      "outputs": []
    },
    {
      "cell_type": "code",
      "metadata": {
        "id": "15NN3hl-yQGU",
        "colab": {
          "base_uri": "https://localhost:8080/"
        },
        "outputId": "c9651ab5-93c7-45d7-e27e-8be601ff2794"
      },
      "source": [
        "df = suicide_fractions()\n",
        "print(\"Shape:\", df.shape)\n",
        "print(\"Column name:\", df.name)\n",
        "pd.set_option(\"display.max_rows\", None)\n",
        "print(df)\n",
        "print(f\"{df.isnull().sum()} missing values\")"
      ],
      "execution_count": 59,
      "outputs": [
        {
          "output_type": "stream",
          "text": [
            "Shape: (141,)\n",
            "Column name: suicide_population\n",
            "country\n",
            "Albania                               0.000035\n",
            "Anguilla                                   NaN\n",
            "Antigua and Barbuda                   0.000005\n",
            "Argentina                             0.000105\n",
            "Armenia                               0.000033\n",
            "Aruba                                 0.000076\n",
            "Australia                             0.000130\n",
            "Austria                               0.000248\n",
            "Azerbaijan                            0.000032\n",
            "Bahamas                               0.000014\n",
            "Bahrain                               0.000019\n",
            "Barbados                              0.000028\n",
            "Belarus                               0.000295\n",
            "Belgium                               0.000222\n",
            "Belize                                0.000059\n",
            "Bermuda                               0.000048\n",
            "Bolivia                                    NaN\n",
            "Bosnia and Herzegovina                0.000115\n",
            "Brazil                                0.000057\n",
            "British Virgin Islands                     NaN\n",
            "Brunei Darussalam                     0.000024\n",
            "Bulgaria                              0.000198\n",
            "Cabo Verde                            0.000112\n",
            "Canada                                0.000130\n",
            "Cayman Islands                        0.000000\n",
            "Chile                                 0.000102\n",
            "Colombia                              0.000054\n",
            "Costa Rica                            0.000070\n",
            "Croatia                               0.000248\n",
            "Cuba                                  0.000212\n",
            "Cyprus                                0.000033\n",
            "Czech Republic                        0.000195\n",
            "Denmark                               0.000141\n",
            "Dominica                              0.000011\n",
            "Dominican Republic                         NaN\n",
            "Ecuador                               0.000061\n",
            "Egypt                                 0.000001\n",
            "El Salvador                           0.000111\n",
            "Estonia                               0.000306\n",
            "Falkland Islands (Malvinas)                NaN\n",
            "Fiji                                  0.000051\n",
            "Finland                               0.000228\n",
            "France                                0.000224\n",
            "French Guiana                         0.000133\n",
            "Georgia                               0.000049\n",
            "Germany                               0.000156\n",
            "Greece                                0.000041\n",
            "Grenada                               0.000021\n",
            "Guadeloupe                            0.000094\n",
            "Guatemala                             0.000030\n",
            "Guyana                                0.000207\n",
            "Haiti                                      NaN\n",
            "Honduras                                   NaN\n",
            "Hong Kong SAR                         0.000175\n",
            "Hungary                               0.000397\n",
            "Iceland                               0.000129\n",
            "Iran (Islamic Rep of)                 0.000032\n",
            "Iraq                                       NaN\n",
            "Ireland                               0.000102\n",
            "Israel                                0.000090\n",
            "Italy                                 0.000087\n",
            "Jamaica                               0.000004\n",
            "Japan                                 0.000222\n",
            "Jordan                                     NaN\n",
            "Kazakhstan                            0.000302\n",
            "Kiribati                              0.000067\n",
            "Kuwait                                0.000011\n",
            "Kyrgyzstan                            0.000153\n",
            "Latvia                                0.000325\n",
            "Lithuania                             0.000388\n",
            "Luxembourg                            0.000173\n",
            "Macau                                 0.000143\n",
            "Malaysia                                   NaN\n",
            "Maldives                              0.000014\n",
            "Malta                                 0.000042\n",
            "Martinique                            0.000103\n",
            "Mauritius                             0.000109\n",
            "Mayotte                               0.000022\n",
            "Mexico                                0.000044\n",
            "Monaco                                     NaN\n",
            "Mongolia                              0.000162\n",
            "Montenegro                            0.000100\n",
            "Montserrat                                 NaN\n",
            "Morocco                                    NaN\n",
            "Netherlands                           0.000111\n",
            "Netherlands Antilles                       NaN\n",
            "New Zealand                           0.000143\n",
            "Nicaragua                             0.000066\n",
            "Norway                                0.000129\n",
            "Occupied Palestinian Territory             NaN\n",
            "Oman                                  0.000007\n",
            "Panama                                0.000053\n",
            "Paraguay                              0.000039\n",
            "Peru                                       NaN\n",
            "Philippines                           0.000024\n",
            "Poland                                0.000151\n",
            "Portugal                              0.000115\n",
            "Puerto Rico                           0.000107\n",
            "Qatar                                 0.000018\n",
            "Republic of Korea                     0.000251\n",
            "Republic of Moldova                   0.000192\n",
            "Reunion                               0.000131\n",
            "Rodrigues                             0.000070\n",
            "Romania                               0.000124\n",
            "Russian Federation                    0.000352\n",
            "Saint Kitts and Nevis                 0.000000\n",
            "Saint Lucia                           0.000071\n",
            "Saint Pierre and Miquelon                  NaN\n",
            "Saint Vincent and Grenadines          0.000051\n",
            "San Marino                            0.000167\n",
            "Sao Tome and Principe                 0.000015\n",
            "Saudi Arabia                               NaN\n",
            "Serbia                                0.000222\n",
            "Seychelles                            0.000075\n",
            "Singapore                             0.000178\n",
            "Slovakia                              0.000126\n",
            "Slovenia                              0.000310\n",
            "South Africa                          0.000010\n",
            "Spain                                 0.000092\n",
            "Sri Lanka                             0.000378\n",
            "Suriname                              0.000221\n",
            "Sweden                                0.000146\n",
            "Switzerland                           0.000190\n",
            "Syrian Arab Republic                       NaN\n",
            "TFYR Macedonia                        0.000112\n",
            "Tajikistan                                 NaN\n",
            "Thailand                              0.000072\n",
            "Trinidad and Tobago                   0.000127\n",
            "Tunisia                                    NaN\n",
            "Turkey                                0.000024\n",
            "Turkmenistan                          0.000090\n",
            "Turks and Caicos Islands                   NaN\n",
            "Ukraine                               0.000267\n",
            "United Arab Emirates                  0.000013\n",
            "United Kingdom                        0.000078\n",
            "United States of America              0.000140\n",
            "Uruguay                               0.000187\n",
            "Uzbekistan                            0.000088\n",
            "Venezuela (Bolivarian Republic of)    0.000067\n",
            "Virgin Islands (USA)                  0.000070\n",
            "Zimbabwe                                   NaN\n",
            "Name: suicide_population, dtype: float64\n",
            "23 missing values\n"
          ],
          "name": "stdout"
        }
      ]
    },
    {
      "cell_type": "code",
      "metadata": {
        "id": "1lJGhMcH3c8V"
      },
      "source": [
        "## alternative solution\n",
        "def suicide_fractions():\n",
        "    df = pd.read_csv(\"src/who_suicide_statistics.csv\")\n",
        "    df[\"Suicide fraction\"] = df[\"suicides_no\"] / df[\"population\"]\n",
        "    result = df.groupby(\"country\").mean()\n",
        "    return result[\"Suicide fraction\"]"
      ],
      "execution_count": 60,
      "outputs": []
    },
    {
      "cell_type": "code",
      "metadata": {
        "id": "3Jxp30d7pxcM"
      },
      "source": [
        "## exercise 07 (suicide weather)\n",
        "def suicide_weather():\n",
        "  weather = pd.read_html(io='https://en.wikipedia.org/wiki/List_of_countries_by_average_yearly_temperature', \n",
        "                          header = [0], index_col = [0])\n",
        "  weather = weather[0]\n",
        "  #weather.iloc[:,0] = weather.iloc[:,0].str.replace(\"\\u2212\", \"-\").astype(float)\n",
        "  suicide = suicide_fractions() \n",
        "  suicide_weather = pd.concat([weather, suicide.fillna(0)], axis=1).dropna()\n",
        "  weather = pd.to_numeric(weather.iloc[:, 0].str.replace(\"\\u2212\", \"-\"))\n",
        "  #info(suicide, \"Suicide fractions\")\n",
        "  #info(temperature, \"Temperatures\")\n",
        "  corr = suicide.corr(weather, method=\"spearman\")\n",
        "  return suicide.shape[0], weather.shape[0], weather.shape[0], corr"
      ],
      "execution_count": 70,
      "outputs": []
    },
    {
      "cell_type": "code",
      "metadata": {
        "colab": {
          "base_uri": "https://localhost:8080/"
        },
        "id": "x6n6UOiGt3Pz",
        "outputId": "b77fbc9f-234f-4a9e-8d92-1aefa1c09c26"
      },
      "source": [
        "suicide_weather()"
      ],
      "execution_count": 71,
      "outputs": [
        {
          "output_type": "execute_result",
          "data": {
            "text/plain": [
              "(141, 191, 191, -0.5537917996739751)"
            ]
          },
          "metadata": {
            "tags": []
          },
          "execution_count": 71
        }
      ]
    },
    {
      "cell_type": "code",
      "metadata": {
        "id": "bBTwUh0z5rQL"
      },
      "source": [
        "##another solution\n",
        "def suicide_fractions():\n",
        "    df = pd.read_csv(\"src/who_suicide_statistics.csv\")\n",
        "    df[\"Suicide fraction\"] = df[\"suicides_no\"] / df[\"population\"]\n",
        "    result = df.groupby(\"country\").mean()\n",
        "    return result[\"Suicide fraction\"]\n",
        "\n",
        "def info(df, name):\n",
        "    print(\"\\n%s\" % name)\n",
        "    print(\"=\" * len(name))\n",
        "    print(\"Shape:\", df.shape)\n",
        "    print(\"dtypes:\\n\", df.dtypes)\n",
        "    if isinstance(df, pd.DataFrame):\n",
        "        print(\"column names:\", df.columns)\n",
        "    print(df.head())\n",
        "    \n",
        "def suicide_weather():\n",
        "    suicide = suicide_fractions()\n",
        "    version = list(map(int, pd.__version__.split(\".\")))   # Get version of Pandas\n",
        "    # older Pandas versions don't support displayed_only option \n",
        "    if version[0] == 0 and version[1] < 23:   \n",
        "        tables = pd.read_html(\"src/List_of_countries_by_average_yearly_temperature.html\",\n",
        "                              header=0, index_col=0)\n",
        "    else:\n",
        "        tables = pd.read_html(\"src/List_of_countries_by_average_yearly_temperature.html\",\n",
        "                              header=0, index_col=0, displayed_only=False) \n",
        "    temperature = tables[1]    # The first table is a non-displayed one, we don't want that\n",
        "    temperature = pd.to_numeric(temperature.iloc[:, 0].str.replace(\"\\u2212\", \"-\"))\n",
        "    #info(suicide, \"Suicide fractions\")\n",
        "    #info(temperature, \"Temperatures\")\n",
        "    corr = suicide.corr(temperature, method=\"spearman\")\n",
        "    if version[0] == 0 and version[1] < 23:   # older Pandas versions don't support sort option\n",
        "        common = pd.concat([suicide, temperature], axis=1, join=\"inner\")\n",
        "    else:\n",
        "        common = pd.concat([suicide, temperature], axis=1, join=\"inner\", sort=False)\n",
        "    return (suicide.shape[0], temperature.shape[0], common.shape[0], corr)"
      ],
      "execution_count": null,
      "outputs": []
    },
    {
      "cell_type": "markdown",
      "metadata": {
        "id": "JYHYS6z599FL"
      },
      "source": [
        "## Time series"
      ]
    },
    {
      "cell_type": "code",
      "metadata": {
        "colab": {
          "base_uri": "https://localhost:8080/"
        },
        "id": "vXnU0wgP98RV",
        "outputId": "92bcc279-9b1e-44de-e309-67830f30aa45"
      },
      "source": [
        "wh2 = wh3.copy()\n",
        "wh2.columns"
      ],
      "execution_count": 73,
      "outputs": [
        {
          "output_type": "execute_result",
          "data": {
            "text/plain": [
              "Index(['Year', 'Month', 'Day', 'Time', 'Time zone', 'Precipitation', 'Snow',\n",
              "       'Temperature'],\n",
              "      dtype='object')"
            ]
          },
          "metadata": {
            "tags": []
          },
          "execution_count": 73
        }
      ]
    },
    {
      "cell_type": "code",
      "metadata": {
        "colab": {
          "base_uri": "https://localhost:8080/",
          "height": 206
        },
        "id": "WR3DG3Wq-BYD",
        "outputId": "9b0e425b-a53a-41cb-d00e-630f7cca9d34"
      },
      "source": [
        "## the columns year, month and day are in appropriate form for to_datetime method;\n",
        "wh2[\"Date\"] = pd.to_datetime(wh2[[\"Year\", \"Month\", \"Day\"]])\n",
        "wh2.head()"
      ],
      "execution_count": 75,
      "outputs": [
        {
          "output_type": "execute_result",
          "data": {
            "text/html": [
              "<div>\n",
              "<style scoped>\n",
              "    .dataframe tbody tr th:only-of-type {\n",
              "        vertical-align: middle;\n",
              "    }\n",
              "\n",
              "    .dataframe tbody tr th {\n",
              "        vertical-align: top;\n",
              "    }\n",
              "\n",
              "    .dataframe thead th {\n",
              "        text-align: right;\n",
              "    }\n",
              "</style>\n",
              "<table border=\"1\" class=\"dataframe\">\n",
              "  <thead>\n",
              "    <tr style=\"text-align: right;\">\n",
              "      <th></th>\n",
              "      <th>Year</th>\n",
              "      <th>Month</th>\n",
              "      <th>Day</th>\n",
              "      <th>Time</th>\n",
              "      <th>Time zone</th>\n",
              "      <th>Precipitation</th>\n",
              "      <th>Snow</th>\n",
              "      <th>Temperature</th>\n",
              "      <th>Date</th>\n",
              "    </tr>\n",
              "  </thead>\n",
              "  <tbody>\n",
              "    <tr>\n",
              "      <th>0</th>\n",
              "      <td>2017</td>\n",
              "      <td>1</td>\n",
              "      <td>1</td>\n",
              "      <td>00:00</td>\n",
              "      <td>UTC</td>\n",
              "      <td>-1.0</td>\n",
              "      <td>-1.0</td>\n",
              "      <td>0.6</td>\n",
              "      <td>2017-01-01</td>\n",
              "    </tr>\n",
              "    <tr>\n",
              "      <th>1</th>\n",
              "      <td>2017</td>\n",
              "      <td>1</td>\n",
              "      <td>2</td>\n",
              "      <td>00:00</td>\n",
              "      <td>UTC</td>\n",
              "      <td>4.4</td>\n",
              "      <td>-1.0</td>\n",
              "      <td>-3.9</td>\n",
              "      <td>2017-01-02</td>\n",
              "    </tr>\n",
              "    <tr>\n",
              "      <th>2</th>\n",
              "      <td>2017</td>\n",
              "      <td>1</td>\n",
              "      <td>3</td>\n",
              "      <td>00:00</td>\n",
              "      <td>UTC</td>\n",
              "      <td>6.6</td>\n",
              "      <td>7.0</td>\n",
              "      <td>-6.5</td>\n",
              "      <td>2017-01-03</td>\n",
              "    </tr>\n",
              "    <tr>\n",
              "      <th>3</th>\n",
              "      <td>2017</td>\n",
              "      <td>1</td>\n",
              "      <td>4</td>\n",
              "      <td>00:00</td>\n",
              "      <td>UTC</td>\n",
              "      <td>-1.0</td>\n",
              "      <td>13.0</td>\n",
              "      <td>-12.8</td>\n",
              "      <td>2017-01-04</td>\n",
              "    </tr>\n",
              "    <tr>\n",
              "      <th>4</th>\n",
              "      <td>2017</td>\n",
              "      <td>1</td>\n",
              "      <td>5</td>\n",
              "      <td>00:00</td>\n",
              "      <td>UTC</td>\n",
              "      <td>-1.0</td>\n",
              "      <td>10.0</td>\n",
              "      <td>-17.8</td>\n",
              "      <td>2017-01-05</td>\n",
              "    </tr>\n",
              "  </tbody>\n",
              "</table>\n",
              "</div>"
            ],
            "text/plain": [
              "   Year  Month  Day   Time  ... Precipitation  Snow  Temperature       Date\n",
              "0  2017      1    1  00:00  ...          -1.0  -1.0          0.6 2017-01-01\n",
              "1  2017      1    2  00:00  ...           4.4  -1.0         -3.9 2017-01-02\n",
              "2  2017      1    3  00:00  ...           6.6   7.0         -6.5 2017-01-03\n",
              "3  2017      1    4  00:00  ...          -1.0  13.0        -12.8 2017-01-04\n",
              "4  2017      1    5  00:00  ...          -1.0  10.0        -17.8 2017-01-05\n",
              "\n",
              "[5 rows x 9 columns]"
            ]
          },
          "metadata": {
            "tags": []
          },
          "execution_count": 75
        }
      ]
    },
    {
      "cell_type": "code",
      "metadata": {
        "colab": {
          "base_uri": "https://localhost:8080/",
          "height": 206
        },
        "id": "4GCucIRE-NEk",
        "outputId": "d5450716-6bea-44c3-b2e4-e2844aa9489f"
      },
      "source": [
        "wh2=wh2.drop(columns=[\"Year\", \"Month\", \"Day\"])\n",
        "wh2.head()"
      ],
      "execution_count": 76,
      "outputs": [
        {
          "output_type": "execute_result",
          "data": {
            "text/html": [
              "<div>\n",
              "<style scoped>\n",
              "    .dataframe tbody tr th:only-of-type {\n",
              "        vertical-align: middle;\n",
              "    }\n",
              "\n",
              "    .dataframe tbody tr th {\n",
              "        vertical-align: top;\n",
              "    }\n",
              "\n",
              "    .dataframe thead th {\n",
              "        text-align: right;\n",
              "    }\n",
              "</style>\n",
              "<table border=\"1\" class=\"dataframe\">\n",
              "  <thead>\n",
              "    <tr style=\"text-align: right;\">\n",
              "      <th></th>\n",
              "      <th>Time</th>\n",
              "      <th>Time zone</th>\n",
              "      <th>Precipitation</th>\n",
              "      <th>Snow</th>\n",
              "      <th>Temperature</th>\n",
              "      <th>Date</th>\n",
              "    </tr>\n",
              "  </thead>\n",
              "  <tbody>\n",
              "    <tr>\n",
              "      <th>0</th>\n",
              "      <td>00:00</td>\n",
              "      <td>UTC</td>\n",
              "      <td>-1.0</td>\n",
              "      <td>-1.0</td>\n",
              "      <td>0.6</td>\n",
              "      <td>2017-01-01</td>\n",
              "    </tr>\n",
              "    <tr>\n",
              "      <th>1</th>\n",
              "      <td>00:00</td>\n",
              "      <td>UTC</td>\n",
              "      <td>4.4</td>\n",
              "      <td>-1.0</td>\n",
              "      <td>-3.9</td>\n",
              "      <td>2017-01-02</td>\n",
              "    </tr>\n",
              "    <tr>\n",
              "      <th>2</th>\n",
              "      <td>00:00</td>\n",
              "      <td>UTC</td>\n",
              "      <td>6.6</td>\n",
              "      <td>7.0</td>\n",
              "      <td>-6.5</td>\n",
              "      <td>2017-01-03</td>\n",
              "    </tr>\n",
              "    <tr>\n",
              "      <th>3</th>\n",
              "      <td>00:00</td>\n",
              "      <td>UTC</td>\n",
              "      <td>-1.0</td>\n",
              "      <td>13.0</td>\n",
              "      <td>-12.8</td>\n",
              "      <td>2017-01-04</td>\n",
              "    </tr>\n",
              "    <tr>\n",
              "      <th>4</th>\n",
              "      <td>00:00</td>\n",
              "      <td>UTC</td>\n",
              "      <td>-1.0</td>\n",
              "      <td>10.0</td>\n",
              "      <td>-17.8</td>\n",
              "      <td>2017-01-05</td>\n",
              "    </tr>\n",
              "  </tbody>\n",
              "</table>\n",
              "</div>"
            ],
            "text/plain": [
              "    Time Time zone  Precipitation  Snow  Temperature       Date\n",
              "0  00:00       UTC           -1.0  -1.0          0.6 2017-01-01\n",
              "1  00:00       UTC            4.4  -1.0         -3.9 2017-01-02\n",
              "2  00:00       UTC            6.6   7.0         -6.5 2017-01-03\n",
              "3  00:00       UTC           -1.0  13.0        -12.8 2017-01-04\n",
              "4  00:00       UTC           -1.0  10.0        -17.8 2017-01-05"
            ]
          },
          "metadata": {
            "tags": []
          },
          "execution_count": 76
        }
      ]
    },
    {
      "cell_type": "code",
      "metadata": {
        "colab": {
          "base_uri": "https://localhost:8080/",
          "height": 238
        },
        "id": "IiW2mWwL-Q0u",
        "outputId": "06a9ab43-3786-441a-b748-0958ac4241df"
      },
      "source": [
        "##converting the date column to index\n",
        "wh2 = wh2.set_index(\"Date\")\n",
        "wh2.head()"
      ],
      "execution_count": 77,
      "outputs": [
        {
          "output_type": "execute_result",
          "data": {
            "text/html": [
              "<div>\n",
              "<style scoped>\n",
              "    .dataframe tbody tr th:only-of-type {\n",
              "        vertical-align: middle;\n",
              "    }\n",
              "\n",
              "    .dataframe tbody tr th {\n",
              "        vertical-align: top;\n",
              "    }\n",
              "\n",
              "    .dataframe thead th {\n",
              "        text-align: right;\n",
              "    }\n",
              "</style>\n",
              "<table border=\"1\" class=\"dataframe\">\n",
              "  <thead>\n",
              "    <tr style=\"text-align: right;\">\n",
              "      <th></th>\n",
              "      <th>Time</th>\n",
              "      <th>Time zone</th>\n",
              "      <th>Precipitation</th>\n",
              "      <th>Snow</th>\n",
              "      <th>Temperature</th>\n",
              "    </tr>\n",
              "    <tr>\n",
              "      <th>Date</th>\n",
              "      <th></th>\n",
              "      <th></th>\n",
              "      <th></th>\n",
              "      <th></th>\n",
              "      <th></th>\n",
              "    </tr>\n",
              "  </thead>\n",
              "  <tbody>\n",
              "    <tr>\n",
              "      <th>2017-01-01</th>\n",
              "      <td>00:00</td>\n",
              "      <td>UTC</td>\n",
              "      <td>-1.0</td>\n",
              "      <td>-1.0</td>\n",
              "      <td>0.6</td>\n",
              "    </tr>\n",
              "    <tr>\n",
              "      <th>2017-01-02</th>\n",
              "      <td>00:00</td>\n",
              "      <td>UTC</td>\n",
              "      <td>4.4</td>\n",
              "      <td>-1.0</td>\n",
              "      <td>-3.9</td>\n",
              "    </tr>\n",
              "    <tr>\n",
              "      <th>2017-01-03</th>\n",
              "      <td>00:00</td>\n",
              "      <td>UTC</td>\n",
              "      <td>6.6</td>\n",
              "      <td>7.0</td>\n",
              "      <td>-6.5</td>\n",
              "    </tr>\n",
              "    <tr>\n",
              "      <th>2017-01-04</th>\n",
              "      <td>00:00</td>\n",
              "      <td>UTC</td>\n",
              "      <td>-1.0</td>\n",
              "      <td>13.0</td>\n",
              "      <td>-12.8</td>\n",
              "    </tr>\n",
              "    <tr>\n",
              "      <th>2017-01-05</th>\n",
              "      <td>00:00</td>\n",
              "      <td>UTC</td>\n",
              "      <td>-1.0</td>\n",
              "      <td>10.0</td>\n",
              "      <td>-17.8</td>\n",
              "    </tr>\n",
              "  </tbody>\n",
              "</table>\n",
              "</div>"
            ],
            "text/plain": [
              "             Time Time zone  Precipitation  Snow  Temperature\n",
              "Date                                                         \n",
              "2017-01-01  00:00       UTC           -1.0  -1.0          0.6\n",
              "2017-01-02  00:00       UTC            4.4  -1.0         -3.9\n",
              "2017-01-03  00:00       UTC            6.6   7.0         -6.5\n",
              "2017-01-04  00:00       UTC           -1.0  13.0        -12.8\n",
              "2017-01-05  00:00       UTC           -1.0  10.0        -17.8"
            ]
          },
          "metadata": {
            "tags": []
          },
          "execution_count": 77
        }
      ]
    },
    {
      "cell_type": "code",
      "metadata": {
        "colab": {
          "base_uri": "https://localhost:8080/",
          "height": 708
        },
        "id": "G0QrHnov-Wzr",
        "outputId": "b9e6548f-93fc-4e5d-d75e-60849a6b2c69"
      },
      "source": [
        "wh2[\"2017-01-15\":\"2017-02-03\"]"
      ],
      "execution_count": 78,
      "outputs": [
        {
          "output_type": "execute_result",
          "data": {
            "text/html": [
              "<div>\n",
              "<style scoped>\n",
              "    .dataframe tbody tr th:only-of-type {\n",
              "        vertical-align: middle;\n",
              "    }\n",
              "\n",
              "    .dataframe tbody tr th {\n",
              "        vertical-align: top;\n",
              "    }\n",
              "\n",
              "    .dataframe thead th {\n",
              "        text-align: right;\n",
              "    }\n",
              "</style>\n",
              "<table border=\"1\" class=\"dataframe\">\n",
              "  <thead>\n",
              "    <tr style=\"text-align: right;\">\n",
              "      <th></th>\n",
              "      <th>Time</th>\n",
              "      <th>Time zone</th>\n",
              "      <th>Precipitation</th>\n",
              "      <th>Snow</th>\n",
              "      <th>Temperature</th>\n",
              "    </tr>\n",
              "    <tr>\n",
              "      <th>Date</th>\n",
              "      <th></th>\n",
              "      <th></th>\n",
              "      <th></th>\n",
              "      <th></th>\n",
              "      <th></th>\n",
              "    </tr>\n",
              "  </thead>\n",
              "  <tbody>\n",
              "    <tr>\n",
              "      <th>2017-01-15</th>\n",
              "      <td>00:00</td>\n",
              "      <td>UTC</td>\n",
              "      <td>-1.0</td>\n",
              "      <td>8.0</td>\n",
              "      <td>-2.8</td>\n",
              "    </tr>\n",
              "    <tr>\n",
              "      <th>2017-01-16</th>\n",
              "      <td>00:00</td>\n",
              "      <td>UTC</td>\n",
              "      <td>-1.0</td>\n",
              "      <td>8.0</td>\n",
              "      <td>-4.2</td>\n",
              "    </tr>\n",
              "    <tr>\n",
              "      <th>2017-01-17</th>\n",
              "      <td>00:00</td>\n",
              "      <td>UTC</td>\n",
              "      <td>0.2</td>\n",
              "      <td>8.0</td>\n",
              "      <td>-3.5</td>\n",
              "    </tr>\n",
              "    <tr>\n",
              "      <th>2017-01-18</th>\n",
              "      <td>00:00</td>\n",
              "      <td>UTC</td>\n",
              "      <td>0.9</td>\n",
              "      <td>8.0</td>\n",
              "      <td>1.1</td>\n",
              "    </tr>\n",
              "    <tr>\n",
              "      <th>2017-01-19</th>\n",
              "      <td>00:00</td>\n",
              "      <td>UTC</td>\n",
              "      <td>-1.0</td>\n",
              "      <td>5.0</td>\n",
              "      <td>1.6</td>\n",
              "    </tr>\n",
              "    <tr>\n",
              "      <th>2017-01-20</th>\n",
              "      <td>00:00</td>\n",
              "      <td>UTC</td>\n",
              "      <td>0.3</td>\n",
              "      <td>5.0</td>\n",
              "      <td>-0.6</td>\n",
              "    </tr>\n",
              "    <tr>\n",
              "      <th>2017-01-21</th>\n",
              "      <td>00:00</td>\n",
              "      <td>UTC</td>\n",
              "      <td>0.4</td>\n",
              "      <td>5.0</td>\n",
              "      <td>-1.8</td>\n",
              "    </tr>\n",
              "    <tr>\n",
              "      <th>2017-01-22</th>\n",
              "      <td>00:00</td>\n",
              "      <td>UTC</td>\n",
              "      <td>0.2</td>\n",
              "      <td>5.0</td>\n",
              "      <td>1.0</td>\n",
              "    </tr>\n",
              "    <tr>\n",
              "      <th>2017-01-23</th>\n",
              "      <td>00:00</td>\n",
              "      <td>UTC</td>\n",
              "      <td>0.1</td>\n",
              "      <td>6.0</td>\n",
              "      <td>0.1</td>\n",
              "    </tr>\n",
              "    <tr>\n",
              "      <th>2017-01-24</th>\n",
              "      <td>00:00</td>\n",
              "      <td>UTC</td>\n",
              "      <td>-1.0</td>\n",
              "      <td>6.0</td>\n",
              "      <td>-2.2</td>\n",
              "    </tr>\n",
              "    <tr>\n",
              "      <th>2017-01-25</th>\n",
              "      <td>00:00</td>\n",
              "      <td>UTC</td>\n",
              "      <td>0.6</td>\n",
              "      <td>6.0</td>\n",
              "      <td>-3.8</td>\n",
              "    </tr>\n",
              "    <tr>\n",
              "      <th>2017-01-26</th>\n",
              "      <td>00:00</td>\n",
              "      <td>UTC</td>\n",
              "      <td>-1.0</td>\n",
              "      <td>6.0</td>\n",
              "      <td>1.9</td>\n",
              "    </tr>\n",
              "    <tr>\n",
              "      <th>2017-01-27</th>\n",
              "      <td>00:00</td>\n",
              "      <td>UTC</td>\n",
              "      <td>-1.0</td>\n",
              "      <td>4.0</td>\n",
              "      <td>1.6</td>\n",
              "    </tr>\n",
              "    <tr>\n",
              "      <th>2017-01-28</th>\n",
              "      <td>00:00</td>\n",
              "      <td>UTC</td>\n",
              "      <td>1.8</td>\n",
              "      <td>4.0</td>\n",
              "      <td>0.8</td>\n",
              "    </tr>\n",
              "    <tr>\n",
              "      <th>2017-01-29</th>\n",
              "      <td>00:00</td>\n",
              "      <td>UTC</td>\n",
              "      <td>2.6</td>\n",
              "      <td>3.0</td>\n",
              "      <td>0.6</td>\n",
              "    </tr>\n",
              "    <tr>\n",
              "      <th>2017-01-30</th>\n",
              "      <td>00:00</td>\n",
              "      <td>UTC</td>\n",
              "      <td>5.6</td>\n",
              "      <td>5.0</td>\n",
              "      <td>1.0</td>\n",
              "    </tr>\n",
              "    <tr>\n",
              "      <th>2017-01-31</th>\n",
              "      <td>00:00</td>\n",
              "      <td>UTC</td>\n",
              "      <td>-1.0</td>\n",
              "      <td>4.0</td>\n",
              "      <td>0.2</td>\n",
              "    </tr>\n",
              "    <tr>\n",
              "      <th>2017-02-01</th>\n",
              "      <td>00:00</td>\n",
              "      <td>UTC</td>\n",
              "      <td>1.5</td>\n",
              "      <td>4.0</td>\n",
              "      <td>-0.6</td>\n",
              "    </tr>\n",
              "    <tr>\n",
              "      <th>2017-02-02</th>\n",
              "      <td>00:00</td>\n",
              "      <td>UTC</td>\n",
              "      <td>0.2</td>\n",
              "      <td>5.0</td>\n",
              "      <td>-0.8</td>\n",
              "    </tr>\n",
              "    <tr>\n",
              "      <th>2017-02-03</th>\n",
              "      <td>00:00</td>\n",
              "      <td>UTC</td>\n",
              "      <td>-1.0</td>\n",
              "      <td>6.0</td>\n",
              "      <td>-0.2</td>\n",
              "    </tr>\n",
              "  </tbody>\n",
              "</table>\n",
              "</div>"
            ],
            "text/plain": [
              "             Time Time zone  Precipitation  Snow  Temperature\n",
              "Date                                                         \n",
              "2017-01-15  00:00       UTC           -1.0   8.0         -2.8\n",
              "2017-01-16  00:00       UTC           -1.0   8.0         -4.2\n",
              "2017-01-17  00:00       UTC            0.2   8.0         -3.5\n",
              "2017-01-18  00:00       UTC            0.9   8.0          1.1\n",
              "2017-01-19  00:00       UTC           -1.0   5.0          1.6\n",
              "2017-01-20  00:00       UTC            0.3   5.0         -0.6\n",
              "2017-01-21  00:00       UTC            0.4   5.0         -1.8\n",
              "2017-01-22  00:00       UTC            0.2   5.0          1.0\n",
              "2017-01-23  00:00       UTC            0.1   6.0          0.1\n",
              "2017-01-24  00:00       UTC           -1.0   6.0         -2.2\n",
              "2017-01-25  00:00       UTC            0.6   6.0         -3.8\n",
              "2017-01-26  00:00       UTC           -1.0   6.0          1.9\n",
              "2017-01-27  00:00       UTC           -1.0   4.0          1.6\n",
              "2017-01-28  00:00       UTC            1.8   4.0          0.8\n",
              "2017-01-29  00:00       UTC            2.6   3.0          0.6\n",
              "2017-01-30  00:00       UTC            5.6   5.0          1.0\n",
              "2017-01-31  00:00       UTC           -1.0   4.0          0.2\n",
              "2017-02-01  00:00       UTC            1.5   4.0         -0.6\n",
              "2017-02-02  00:00       UTC            0.2   5.0         -0.8\n",
              "2017-02-03  00:00       UTC           -1.0   6.0         -0.2"
            ]
          },
          "metadata": {
            "tags": []
          },
          "execution_count": 78
        }
      ]
    },
    {
      "cell_type": "code",
      "metadata": {
        "colab": {
          "base_uri": "https://localhost:8080/"
        },
        "id": "wlXFevzI-Z6s",
        "outputId": "b1902a44-b4ed-4f97-bbe1-cd0fa7ffdb37"
      },
      "source": [
        "## date_range -- more complicated sets can be formed:\n",
        "r=pd.date_range(\"2017-07-01\", \"2017-07-31\", freq=\"w-mon\")\n",
        "r"
      ],
      "execution_count": 79,
      "outputs": [
        {
          "output_type": "execute_result",
          "data": {
            "text/plain": [
              "DatetimeIndex(['2017-07-03', '2017-07-10', '2017-07-17', '2017-07-24',\n",
              "               '2017-07-31'],\n",
              "              dtype='datetime64[ns]', freq='W-MON')"
            ]
          },
          "metadata": {
            "tags": []
          },
          "execution_count": 79
        }
      ]
    },
    {
      "cell_type": "code",
      "metadata": {
        "colab": {
          "base_uri": "https://localhost:8080/"
        },
        "id": "nrc5nKLF-hO0",
        "outputId": "add47b20-c691-4cce-b470-9cc809fb831f"
      },
      "source": [
        "wh2.index.difference(r)"
      ],
      "execution_count": 80,
      "outputs": [
        {
          "output_type": "execute_result",
          "data": {
            "text/plain": [
              "DatetimeIndex(['2017-01-01', '2017-01-02', '2017-01-03', '2017-01-04',\n",
              "               '2017-01-05', '2017-01-06', '2017-01-07', '2017-01-08',\n",
              "               '2017-01-09', '2017-01-10',\n",
              "               ...\n",
              "               '2017-12-22', '2017-12-23', '2017-12-24', '2017-12-25',\n",
              "               '2017-12-26', '2017-12-27', '2017-12-28', '2017-12-29',\n",
              "               '2017-12-30', '2017-12-31'],\n",
              "              dtype='datetime64[ns]', length=360, freq=None)"
            ]
          },
          "metadata": {
            "tags": []
          },
          "execution_count": 80
        }
      ]
    },
    {
      "cell_type": "code",
      "metadata": {
        "colab": {
          "base_uri": "https://localhost:8080/",
          "height": 206
        },
        "id": "UGXpcPoq-i79",
        "outputId": "eae16e0d-4e82-4b24-ef0c-2278d9beaeb4"
      },
      "source": [
        "wh2.loc[r,:]"
      ],
      "execution_count": 81,
      "outputs": [
        {
          "output_type": "execute_result",
          "data": {
            "text/html": [
              "<div>\n",
              "<style scoped>\n",
              "    .dataframe tbody tr th:only-of-type {\n",
              "        vertical-align: middle;\n",
              "    }\n",
              "\n",
              "    .dataframe tbody tr th {\n",
              "        vertical-align: top;\n",
              "    }\n",
              "\n",
              "    .dataframe thead th {\n",
              "        text-align: right;\n",
              "    }\n",
              "</style>\n",
              "<table border=\"1\" class=\"dataframe\">\n",
              "  <thead>\n",
              "    <tr style=\"text-align: right;\">\n",
              "      <th></th>\n",
              "      <th>Time</th>\n",
              "      <th>Time zone</th>\n",
              "      <th>Precipitation</th>\n",
              "      <th>Snow</th>\n",
              "      <th>Temperature</th>\n",
              "    </tr>\n",
              "  </thead>\n",
              "  <tbody>\n",
              "    <tr>\n",
              "      <th>2017-07-03</th>\n",
              "      <td>00:00</td>\n",
              "      <td>UTC</td>\n",
              "      <td>2.2</td>\n",
              "      <td>-1.0</td>\n",
              "      <td>14.5</td>\n",
              "    </tr>\n",
              "    <tr>\n",
              "      <th>2017-07-10</th>\n",
              "      <td>00:00</td>\n",
              "      <td>UTC</td>\n",
              "      <td>-1.0</td>\n",
              "      <td>-1.0</td>\n",
              "      <td>18.0</td>\n",
              "    </tr>\n",
              "    <tr>\n",
              "      <th>2017-07-17</th>\n",
              "      <td>00:00</td>\n",
              "      <td>UTC</td>\n",
              "      <td>2.7</td>\n",
              "      <td>-1.0</td>\n",
              "      <td>15.4</td>\n",
              "    </tr>\n",
              "    <tr>\n",
              "      <th>2017-07-24</th>\n",
              "      <td>00:00</td>\n",
              "      <td>UTC</td>\n",
              "      <td>-1.0</td>\n",
              "      <td>-1.0</td>\n",
              "      <td>15.7</td>\n",
              "    </tr>\n",
              "    <tr>\n",
              "      <th>2017-07-31</th>\n",
              "      <td>00:00</td>\n",
              "      <td>UTC</td>\n",
              "      <td>0.1</td>\n",
              "      <td>-1.0</td>\n",
              "      <td>17.8</td>\n",
              "    </tr>\n",
              "  </tbody>\n",
              "</table>\n",
              "</div>"
            ],
            "text/plain": [
              "             Time Time zone  Precipitation  Snow  Temperature\n",
              "2017-07-03  00:00       UTC            2.2  -1.0         14.5\n",
              "2017-07-10  00:00       UTC           -1.0  -1.0         18.0\n",
              "2017-07-17  00:00       UTC            2.7  -1.0         15.4\n",
              "2017-07-24  00:00       UTC           -1.0  -1.0         15.7\n",
              "2017-07-31  00:00       UTC            0.1  -1.0         17.8"
            ]
          },
          "metadata": {
            "tags": []
          },
          "execution_count": 81
        }
      ]
    },
    {
      "cell_type": "code",
      "metadata": {
        "colab": {
          "base_uri": "https://localhost:8080/"
        },
        "id": "-ApX6cQu-l2r",
        "outputId": "3a48f7c1-7d79-4616-ec09-7e03c7030bfb"
      },
      "source": [
        "## the following finds all the business days (mo-fri) of july:\n",
        "pd.date_range(\"2017-07-01\", \"2017-07-31\", freq=\"b\")"
      ],
      "execution_count": 82,
      "outputs": [
        {
          "output_type": "execute_result",
          "data": {
            "text/plain": [
              "DatetimeIndex(['2017-07-03', '2017-07-04', '2017-07-05', '2017-07-06',\n",
              "               '2017-07-07', '2017-07-10', '2017-07-11', '2017-07-12',\n",
              "               '2017-07-13', '2017-07-14', '2017-07-17', '2017-07-18',\n",
              "               '2017-07-19', '2017-07-20', '2017-07-21', '2017-07-24',\n",
              "               '2017-07-25', '2017-07-26', '2017-07-27', '2017-07-28',\n",
              "               '2017-07-31'],\n",
              "              dtype='datetime64[ns]', freq='B')"
            ]
          },
          "metadata": {
            "tags": []
          },
          "execution_count": 82
        }
      ]
    },
    {
      "cell_type": "code",
      "metadata": {
        "colab": {
          "base_uri": "https://localhost:8080/",
          "height": 291
        },
        "id": "jVrDe5Nt-uHc",
        "outputId": "b046f0bb-ff01-48ef-80c1-b6766ddfe923"
      },
      "source": [
        "# you can see the values plotting thee temperature\n",
        "%matplotlib inline\n",
        "wh2[\"Temperature\"].plot();"
      ],
      "execution_count": 83,
      "outputs": [
        {
          "output_type": "display_data",
          "data": {
            "image/png": "[encoded data removed]",
            "text/plain": [
              "<Figure size 432x288 with 1 Axes>"
            ]
          },
          "metadata": {
            "tags": [],
            "needs_background": "light"
          }
        }
      ]
    },
    {
      "cell_type": "code",
      "metadata": {
        "colab": {
          "base_uri": "https://localhost:8080/"
        },
        "id": "HP2y1IjT-0Wz",
        "outputId": "4f7ecdf2-4346-4c12-bb8e-345a40871fe6"
      },
      "source": [
        "## you can make it look smoother by taking averages over a sliding window of 30 days\n",
        "rolling = wh2.Temperature.rolling(30, center=True)\n",
        "rolling"
      ],
      "execution_count": 84,
      "outputs": [
        {
          "output_type": "execute_result",
          "data": {
            "text/plain": [
              "Rolling [window=30,center=True,axis=0]"
            ]
          },
          "metadata": {
            "tags": []
          },
          "execution_count": 84
        }
      ]
    },
    {
      "cell_type": "code",
      "metadata": {
        "colab": {
          "base_uri": "https://localhost:8080/",
          "height": 291
        },
        "id": "DD2-Dayr-9wr",
        "outputId": "17cd962a-09ca-4620-fbd4-109af417be18"
      },
      "source": [
        "data = pd.DataFrame({\"Temperature\" : wh2.Temperature, \"Rolling mean\" : rolling.mean()})\n",
        "data.plot();"
      ],
      "execution_count": 85,
      "outputs": [
        {
          "output_type": "display_data",
          "data": {
            "image/png": "[encoded data removed]",
            "text/plain": [
              "<Figure size 432x288 with 1 Axes>"
            ]
          },
          "metadata": {
            "tags": [],
            "needs_background": "light"
          }
        }
      ]
    },
    {
      "cell_type": "code",
      "metadata": {
        "id": "KCaoRBTiB2l3"
      },
      "source": [
        "## exercise 08 (bicycle timeseries)\n",
        "def bicycle_timeseries():\n",
        "  return "
      ],
      "execution_count": 86,
      "outputs": []
    },
    {
      "cell_type": "code",
      "metadata": {
        "id": "CeF5t0zTDiRU"
      },
      "source": [
        "def bicycle_timeseries():\n",
        "    url = 'https://raw.githubusercontent.com/annassanchez/HY-2021-DataScience/main/week05/Helsingin_pyorailijamaarat.csv'\n",
        "    kk = pd.read_csv(url, sep = ';', header = 0)\n",
        "    kk = kk.dropna(axis=0, how='all')\n",
        "    kk = kk.dropna(axis=1, how='all')\n",
        "    kk[[\"Weekday\", \"Day\", \"Month\", \"Year\", \"Time\"]] = kk['Päivämäärä'].str.split(expand=True)\n",
        "\n",
        "    kk[[\"Weekday\"]] = kk[[\"Weekday\"]].replace({\"ma\": \"Mon\", \"ti\": \"Tue\", \"ke\": \"Wed\", \"to\": \"Thu\", \n",
        "        \"pe\": \"Fri\", \"la\": \"Sat\", \"su\": \"Sun\"})\n",
        "    kk[[\"Month\"]] = kk[[\"Month\"]].replace({\"tammi\": \"1\", \"helmi\": \"2\", \"maalis\": \"3\", \"huhti\": \"4\", \n",
        "        \"touko\": \"5\", \"kesä\": \"6\", \"heinä\": \"7\", \"elo\": \"8\", \"syys\": \"9\", \"loka\": \"10\", \"marras\": \"11\",\n",
        "        \"joulu\": \"12\"})\n",
        "    kk[\"Hour\"] = kk[\"Time\"].str.split(\":\", expand=True)[0]#.map(str)\n",
        "    kk[\"Minute\"] = kk[\"Time\"].str.split(\":\", expand=True)[1]#.map(str)\n",
        "    kk['Päivämäärä'] = pd.to_datetime(kk[[\"Year\", \"Month\", \"Day\", \"Hour\", \"Minute\"]], format = '%Y/%m/%d %H:%M')\n",
        "    kk = kk.set_index(\"Päivämäärä\")\n",
        "    kk.drop([\"Weekday\", \"Day\", \"Month\", \"Year\", \"Hour\", \"Minute\", \"Time\"], axis = 1, inplace=True)\n",
        "    return kk"
      ],
      "execution_count": 87,
      "outputs": []
    },
    {
      "cell_type": "code",
      "metadata": {
        "id": "JPprmoM5Dv3F",
        "colab": {
          "base_uri": "https://localhost:8080/",
          "height": 398
        },
        "outputId": "c914758e-f06a-4040-8c3c-718207df983a"
      },
      "source": [
        "print(bicycle_timeseries().shape)\n",
        "bicycle_timeseries().head()"
      ],
      "execution_count": 88,
      "outputs": [
        {
          "output_type": "stream",
          "text": [
            "(37128, 20)\n"
          ],
          "name": "stdout"
        },
        {
          "output_type": "execute_result",
          "data": {
            "text/html": [
              "<div>\n",
              "<style scoped>\n",
              "    .dataframe tbody tr th:only-of-type {\n",
              "        vertical-align: middle;\n",
              "    }\n",
              "\n",
              "    .dataframe tbody tr th {\n",
              "        vertical-align: top;\n",
              "    }\n",
              "\n",
              "    .dataframe thead th {\n",
              "        text-align: right;\n",
              "    }\n",
              "</style>\n",
              "<table border=\"1\" class=\"dataframe\">\n",
              "  <thead>\n",
              "    <tr style=\"text-align: right;\">\n",
              "      <th></th>\n",
              "      <th>Auroransilta</th>\n",
              "      <th>Eteläesplanadi</th>\n",
              "      <th>Huopalahti (asema)</th>\n",
              "      <th>Kaisaniemi/Eläintarhanlahti</th>\n",
              "      <th>Kaivokatu</th>\n",
              "      <th>Kulosaaren silta et.</th>\n",
              "      <th>Kulosaaren silta po.</th>\n",
              "      <th>Kuusisaarentie</th>\n",
              "      <th>Käpylä, Pohjoisbaana</th>\n",
              "      <th>Lauttasaaren silta eteläpuoli</th>\n",
              "      <th>Merikannontie</th>\n",
              "      <th>Munkkiniemen silta eteläpuoli</th>\n",
              "      <th>Munkkiniemi silta pohjoispuoli</th>\n",
              "      <th>Heperian puisto/Ooppera</th>\n",
              "      <th>Pitkäsilta itäpuoli</th>\n",
              "      <th>Pitkäsilta länsipuoli</th>\n",
              "      <th>Lauttasaaren silta pohjoispuoli</th>\n",
              "      <th>Ratapihantie</th>\n",
              "      <th>Viikintie</th>\n",
              "      <th>Baana</th>\n",
              "    </tr>\n",
              "    <tr>\n",
              "      <th>Päivämäärä</th>\n",
              "      <th></th>\n",
              "      <th></th>\n",
              "      <th></th>\n",
              "      <th></th>\n",
              "      <th></th>\n",
              "      <th></th>\n",
              "      <th></th>\n",
              "      <th></th>\n",
              "      <th></th>\n",
              "      <th></th>\n",
              "      <th></th>\n",
              "      <th></th>\n",
              "      <th></th>\n",
              "      <th></th>\n",
              "      <th></th>\n",
              "      <th></th>\n",
              "      <th></th>\n",
              "      <th></th>\n",
              "      <th></th>\n",
              "      <th></th>\n",
              "    </tr>\n",
              "  </thead>\n",
              "  <tbody>\n",
              "    <tr>\n",
              "      <th>2014-01-01 00:00:00</th>\n",
              "      <td>NaN</td>\n",
              "      <td>7.0</td>\n",
              "      <td>NaN</td>\n",
              "      <td>1.0</td>\n",
              "      <td>NaN</td>\n",
              "      <td>NaN</td>\n",
              "      <td>NaN</td>\n",
              "      <td>NaN</td>\n",
              "      <td>NaN</td>\n",
              "      <td>NaN</td>\n",
              "      <td>NaN</td>\n",
              "      <td>2.0</td>\n",
              "      <td>5.0</td>\n",
              "      <td>3.0</td>\n",
              "      <td>NaN</td>\n",
              "      <td>11.0</td>\n",
              "      <td>NaN</td>\n",
              "      <td>NaN</td>\n",
              "      <td>NaN</td>\n",
              "      <td>8.0</td>\n",
              "    </tr>\n",
              "    <tr>\n",
              "      <th>2014-01-01 01:00:00</th>\n",
              "      <td>NaN</td>\n",
              "      <td>5.0</td>\n",
              "      <td>NaN</td>\n",
              "      <td>3.0</td>\n",
              "      <td>NaN</td>\n",
              "      <td>NaN</td>\n",
              "      <td>NaN</td>\n",
              "      <td>NaN</td>\n",
              "      <td>NaN</td>\n",
              "      <td>NaN</td>\n",
              "      <td>NaN</td>\n",
              "      <td>6.0</td>\n",
              "      <td>5.0</td>\n",
              "      <td>1.0</td>\n",
              "      <td>NaN</td>\n",
              "      <td>8.0</td>\n",
              "      <td>NaN</td>\n",
              "      <td>NaN</td>\n",
              "      <td>NaN</td>\n",
              "      <td>4.0</td>\n",
              "    </tr>\n",
              "    <tr>\n",
              "      <th>2014-01-01 02:00:00</th>\n",
              "      <td>NaN</td>\n",
              "      <td>2.0</td>\n",
              "      <td>NaN</td>\n",
              "      <td>3.0</td>\n",
              "      <td>NaN</td>\n",
              "      <td>NaN</td>\n",
              "      <td>NaN</td>\n",
              "      <td>NaN</td>\n",
              "      <td>NaN</td>\n",
              "      <td>NaN</td>\n",
              "      <td>NaN</td>\n",
              "      <td>1.0</td>\n",
              "      <td>1.0</td>\n",
              "      <td>1.0</td>\n",
              "      <td>NaN</td>\n",
              "      <td>14.0</td>\n",
              "      <td>NaN</td>\n",
              "      <td>NaN</td>\n",
              "      <td>NaN</td>\n",
              "      <td>11.0</td>\n",
              "    </tr>\n",
              "    <tr>\n",
              "      <th>2014-01-01 03:00:00</th>\n",
              "      <td>NaN</td>\n",
              "      <td>5.0</td>\n",
              "      <td>NaN</td>\n",
              "      <td>2.0</td>\n",
              "      <td>NaN</td>\n",
              "      <td>NaN</td>\n",
              "      <td>NaN</td>\n",
              "      <td>NaN</td>\n",
              "      <td>NaN</td>\n",
              "      <td>NaN</td>\n",
              "      <td>NaN</td>\n",
              "      <td>0.0</td>\n",
              "      <td>2.0</td>\n",
              "      <td>0.0</td>\n",
              "      <td>NaN</td>\n",
              "      <td>7.0</td>\n",
              "      <td>NaN</td>\n",
              "      <td>NaN</td>\n",
              "      <td>NaN</td>\n",
              "      <td>3.0</td>\n",
              "    </tr>\n",
              "    <tr>\n",
              "      <th>2014-01-01 04:00:00</th>\n",
              "      <td>NaN</td>\n",
              "      <td>1.0</td>\n",
              "      <td>NaN</td>\n",
              "      <td>4.0</td>\n",
              "      <td>NaN</td>\n",
              "      <td>NaN</td>\n",
              "      <td>NaN</td>\n",
              "      <td>NaN</td>\n",
              "      <td>NaN</td>\n",
              "      <td>NaN</td>\n",
              "      <td>NaN</td>\n",
              "      <td>1.0</td>\n",
              "      <td>1.0</td>\n",
              "      <td>1.0</td>\n",
              "      <td>NaN</td>\n",
              "      <td>9.0</td>\n",
              "      <td>NaN</td>\n",
              "      <td>NaN</td>\n",
              "      <td>NaN</td>\n",
              "      <td>4.0</td>\n",
              "    </tr>\n",
              "  </tbody>\n",
              "</table>\n",
              "</div>"
            ],
            "text/plain": [
              "                     Auroransilta  Eteläesplanadi  ...  Viikintie  Baana\n",
              "Päivämäärä                                         ...                  \n",
              "2014-01-01 00:00:00           NaN             7.0  ...        NaN    8.0\n",
              "2014-01-01 01:00:00           NaN             5.0  ...        NaN    4.0\n",
              "2014-01-01 02:00:00           NaN             2.0  ...        NaN   11.0\n",
              "2014-01-01 03:00:00           NaN             5.0  ...        NaN    3.0\n",
              "2014-01-01 04:00:00           NaN             1.0  ...        NaN    4.0\n",
              "\n",
              "[5 rows x 20 columns]"
            ]
          },
          "metadata": {
            "tags": []
          },
          "execution_count": 88
        }
      ]
    },
    {
      "cell_type": "code",
      "metadata": {
        "id": "5izK6NZhN_6G"
      },
      "source": [
        "## alternative solution\n",
        "def split_date(df):\n",
        "    d = df[\"Päivämäärä\"].str.split(expand=True)\n",
        "    d.columns = [\"Weekday\", \"Day\", \"Month\", \"Year\", \"Hour\"]\n",
        "    hourmin = d[\"Hour\"].str.split(\":\", expand=True)\n",
        "    d[\"Hour\"] = hourmin.iloc[:, 0]\n",
        "    d[\"Weekday\"] = d[\"Weekday\"].map(days)\n",
        "    d[\"Month\"] = d[\"Month\"].map(months)\n",
        "    d = d.astype({\"Weekday\": object, \"Day\": int, \"Month\": int, \"Year\": int, \"Hour\": int})\n",
        "    return d\n",
        "def bicycle_timeseries():\n",
        "    df = pd.read_csv(\"src/Helsingin_pyorailijamaarat.csv\", sep=\";\")\n",
        "    df = df.dropna(axis=0, how=\"all\").dropna(axis=1, how=\"all\")\n",
        "    d = split_date(df)\n",
        "    df[\"Date\"] = pd.to_datetime(d[[\"Year\", \"Month\", \"Day\", \"Hour\"]]) \n",
        "    df = df.drop(\"Päivämäärä\", axis=1)\n",
        "    df = df.set_index(\"Date\")\n",
        "    return df"
      ],
      "execution_count": null,
      "outputs": []
    },
    {
      "cell_type": "code",
      "metadata": {
        "id": "ZZDZnCtjw1B1"
      },
      "source": [
        "## exercise 09 (commute)\n",
        "def commute():\n",
        "  url = 'https://raw.githubusercontent.com/annassanchez/HY-2021-DataScience/main/week05/Helsingin_pyorailijamaarat.csv'\n",
        "  kk = pd.read_csv(url, sep = ';', header = 0)\n",
        "  kk = kk.dropna(axis=0, how='all')\n",
        "  kk = kk.dropna(axis=1, how='all')\n",
        "  kk[[\"Weekday\", \"Day\", \"Month\", \"Year\", \"Time\"]] = kk['Päivämäärä'].str.split(expand=True)\n",
        "\n",
        "  kk[[\"Weekday\"]] = kk[[\"Weekday\"]].replace({\"ma\": \"Mon\", \"ti\": \"Tue\", \"ke\": \"Wed\", \"to\": \"Thu\", \n",
        "  \"pe\": \"Fri\", \"la\": \"Sat\", \"su\": \"Sun\"})\n",
        "  kk[[\"Month\"]] = kk[[\"Month\"]].replace({\"tammi\": \"1\", \"helmi\": \"2\", \"maalis\": \"3\", \"huhti\": \"4\", \n",
        "  \"touko\": \"5\", \"kesä\": \"6\", \"heinä\": \"7\", \"elo\": \"8\", \"syys\": \"9\", \"loka\": \"10\", \"marras\": \"11\",\n",
        "  \"joulu\": \"12\"})\n",
        "  kk[\"Hour\"] = kk[\"Time\"].str.split(\":\", expand=True)[0]#.map(str)\n",
        "  kk[\"Minute\"] = kk[\"Time\"].str.split(\":\", expand=True)[1]#.map(str)\n",
        "  kk['Päivämäärä'] = pd.to_datetime(kk[[\"Year\", \"Month\", \"Day\", \"Hour\", \"Minute\"]], format = '%Y/%m/%d %H:%M')\n",
        "  kk = kk.set_index(\"Päivämäärä\")  \n",
        "  kk[[\"Weekday\"]] = kk[[\"Weekday\"]].replace({\"Mon\":1, \"Tue\":2, \"Wed\":3, \"Thu\":4, \"Fri\":5, \n",
        "                                              \"Sat\":6, \"Sun\":7})\n",
        "  bicycle = kk[\"2017-08-01\": \"2017-08-31\"].groupby(\"Weekday\").sum()\n",
        "  return bicycle"
      ],
      "execution_count": 106,
      "outputs": []
    },
    {
      "cell_type": "code",
      "metadata": {
        "colab": {
          "base_uri": "https://localhost:8080/",
          "height": 355
        },
        "id": "TQGjzHhNyKsE",
        "outputId": "cb83cd58-705a-40fb-f858-8d3084bd140c"
      },
      "source": [
        "commute()#.head()"
      ],
      "execution_count": 108,
      "outputs": [
        {
          "output_type": "execute_result",
          "data": {
            "text/html": [
              "<div>\n",
              "<style scoped>\n",
              "    .dataframe tbody tr th:only-of-type {\n",
              "        vertical-align: middle;\n",
              "    }\n",
              "\n",
              "    .dataframe tbody tr th {\n",
              "        vertical-align: top;\n",
              "    }\n",
              "\n",
              "    .dataframe thead th {\n",
              "        text-align: right;\n",
              "    }\n",
              "</style>\n",
              "<table border=\"1\" class=\"dataframe\">\n",
              "  <thead>\n",
              "    <tr style=\"text-align: right;\">\n",
              "      <th></th>\n",
              "      <th>Auroransilta</th>\n",
              "      <th>Eteläesplanadi</th>\n",
              "      <th>Huopalahti (asema)</th>\n",
              "      <th>Kaisaniemi/Eläintarhanlahti</th>\n",
              "      <th>Kaivokatu</th>\n",
              "      <th>Kulosaaren silta et.</th>\n",
              "      <th>Kulosaaren silta po.</th>\n",
              "      <th>Kuusisaarentie</th>\n",
              "      <th>Käpylä, Pohjoisbaana</th>\n",
              "      <th>Lauttasaaren silta eteläpuoli</th>\n",
              "      <th>Merikannontie</th>\n",
              "      <th>Munkkiniemen silta eteläpuoli</th>\n",
              "      <th>Munkkiniemi silta pohjoispuoli</th>\n",
              "      <th>Heperian puisto/Ooppera</th>\n",
              "      <th>Pitkäsilta itäpuoli</th>\n",
              "      <th>Pitkäsilta länsipuoli</th>\n",
              "      <th>Lauttasaaren silta pohjoispuoli</th>\n",
              "      <th>Ratapihantie</th>\n",
              "      <th>Viikintie</th>\n",
              "      <th>Baana</th>\n",
              "    </tr>\n",
              "    <tr>\n",
              "      <th>Weekday</th>\n",
              "      <th></th>\n",
              "      <th></th>\n",
              "      <th></th>\n",
              "      <th></th>\n",
              "      <th></th>\n",
              "      <th></th>\n",
              "      <th></th>\n",
              "      <th></th>\n",
              "      <th></th>\n",
              "      <th></th>\n",
              "      <th></th>\n",
              "      <th></th>\n",
              "      <th></th>\n",
              "      <th></th>\n",
              "      <th></th>\n",
              "      <th></th>\n",
              "      <th></th>\n",
              "      <th></th>\n",
              "      <th></th>\n",
              "      <th></th>\n",
              "    </tr>\n",
              "  </thead>\n",
              "  <tbody>\n",
              "    <tr>\n",
              "      <th>1</th>\n",
              "      <td>0.0</td>\n",
              "      <td>11353.0</td>\n",
              "      <td>11083.0</td>\n",
              "      <td>10644.0</td>\n",
              "      <td>0.0</td>\n",
              "      <td>7.0</td>\n",
              "      <td>13879.0</td>\n",
              "      <td>10052.0</td>\n",
              "      <td>0.0</td>\n",
              "      <td>21337.0</td>\n",
              "      <td>16870.0</td>\n",
              "      <td>4820.0</td>\n",
              "      <td>10551.0</td>\n",
              "      <td>25439.0</td>\n",
              "      <td>15555.0</td>\n",
              "      <td>7057.0</td>\n",
              "      <td>7646.0</td>\n",
              "      <td>9256.0</td>\n",
              "      <td>0.0</td>\n",
              "      <td>22768.0</td>\n",
              "    </tr>\n",
              "    <tr>\n",
              "      <th>2</th>\n",
              "      <td>0.0</td>\n",
              "      <td>16529.0</td>\n",
              "      <td>15415.0</td>\n",
              "      <td>14636.0</td>\n",
              "      <td>0.0</td>\n",
              "      <td>8.0</td>\n",
              "      <td>19296.0</td>\n",
              "      <td>13278.0</td>\n",
              "      <td>0.0</td>\n",
              "      <td>29983.0</td>\n",
              "      <td>24101.0</td>\n",
              "      <td>6365.0</td>\n",
              "      <td>14569.0</td>\n",
              "      <td>36458.0</td>\n",
              "      <td>21440.0</td>\n",
              "      <td>10181.0</td>\n",
              "      <td>10269.0</td>\n",
              "      <td>13186.0</td>\n",
              "      <td>0.0</td>\n",
              "      <td>30598.0</td>\n",
              "    </tr>\n",
              "    <tr>\n",
              "      <th>3</th>\n",
              "      <td>0.0</td>\n",
              "      <td>14890.0</td>\n",
              "      <td>12509.0</td>\n",
              "      <td>12734.0</td>\n",
              "      <td>0.0</td>\n",
              "      <td>6.0</td>\n",
              "      <td>16576.0</td>\n",
              "      <td>11496.0</td>\n",
              "      <td>0.0</td>\n",
              "      <td>25836.0</td>\n",
              "      <td>19946.0</td>\n",
              "      <td>5156.0</td>\n",
              "      <td>12626.0</td>\n",
              "      <td>31469.0</td>\n",
              "      <td>19019.0</td>\n",
              "      <td>9306.0</td>\n",
              "      <td>8772.0</td>\n",
              "      <td>11138.0</td>\n",
              "      <td>0.0</td>\n",
              "      <td>27437.0</td>\n",
              "    </tr>\n",
              "    <tr>\n",
              "      <th>4</th>\n",
              "      <td>0.0</td>\n",
              "      <td>15630.0</td>\n",
              "      <td>11729.0</td>\n",
              "      <td>12478.0</td>\n",
              "      <td>0.0</td>\n",
              "      <td>10.0</td>\n",
              "      <td>15911.0</td>\n",
              "      <td>10600.0</td>\n",
              "      <td>0.0</td>\n",
              "      <td>25800.0</td>\n",
              "      <td>20272.0</td>\n",
              "      <td>5123.0</td>\n",
              "      <td>12284.0</td>\n",
              "      <td>31364.0</td>\n",
              "      <td>19616.0</td>\n",
              "      <td>9875.0</td>\n",
              "      <td>8556.0</td>\n",
              "      <td>10605.0</td>\n",
              "      <td>0.0</td>\n",
              "      <td>27489.0</td>\n",
              "    </tr>\n",
              "    <tr>\n",
              "      <th>5</th>\n",
              "      <td>0.0</td>\n",
              "      <td>10155.0</td>\n",
              "      <td>7043.0</td>\n",
              "      <td>7626.0</td>\n",
              "      <td>0.0</td>\n",
              "      <td>3.0</td>\n",
              "      <td>9913.0</td>\n",
              "      <td>6543.0</td>\n",
              "      <td>0.0</td>\n",
              "      <td>16057.0</td>\n",
              "      <td>11879.0</td>\n",
              "      <td>3071.0</td>\n",
              "      <td>7576.0</td>\n",
              "      <td>18573.0</td>\n",
              "      <td>12271.0</td>\n",
              "      <td>6678.0</td>\n",
              "      <td>5158.0</td>\n",
              "      <td>6462.0</td>\n",
              "      <td>0.0</td>\n",
              "      <td>16972.0</td>\n",
              "    </tr>\n",
              "    <tr>\n",
              "      <th>6</th>\n",
              "      <td>0.0</td>\n",
              "      <td>6547.0</td>\n",
              "      <td>2754.0</td>\n",
              "      <td>4004.0</td>\n",
              "      <td>0.0</td>\n",
              "      <td>6.0</td>\n",
              "      <td>6108.0</td>\n",
              "      <td>2912.0</td>\n",
              "      <td>0.0</td>\n",
              "      <td>9949.0</td>\n",
              "      <td>7080.0</td>\n",
              "      <td>1425.0</td>\n",
              "      <td>4259.0</td>\n",
              "      <td>11022.0</td>\n",
              "      <td>7944.0</td>\n",
              "      <td>5439.0</td>\n",
              "      <td>3422.0</td>\n",
              "      <td>2697.0</td>\n",
              "      <td>0.0</td>\n",
              "      <td>8523.0</td>\n",
              "    </tr>\n",
              "    <tr>\n",
              "      <th>7</th>\n",
              "      <td>0.0</td>\n",
              "      <td>5628.0</td>\n",
              "      <td>2789.0</td>\n",
              "      <td>3757.0</td>\n",
              "      <td>0.0</td>\n",
              "      <td>14.0</td>\n",
              "      <td>5909.0</td>\n",
              "      <td>4037.0</td>\n",
              "      <td>0.0</td>\n",
              "      <td>10854.0</td>\n",
              "      <td>8001.0</td>\n",
              "      <td>1724.0</td>\n",
              "      <td>4165.0</td>\n",
              "      <td>11018.0</td>\n",
              "      <td>7017.0</td>\n",
              "      <td>4592.0</td>\n",
              "      <td>2699.0</td>\n",
              "      <td>2284.0</td>\n",
              "      <td>0.0</td>\n",
              "      <td>9160.0</td>\n",
              "    </tr>\n",
              "  </tbody>\n",
              "</table>\n",
              "</div>"
            ],
            "text/plain": [
              "         Auroransilta  Eteläesplanadi  ...  Viikintie    Baana\n",
              "Weekday                                ...                    \n",
              "1                 0.0         11353.0  ...        0.0  22768.0\n",
              "2                 0.0         16529.0  ...        0.0  30598.0\n",
              "3                 0.0         14890.0  ...        0.0  27437.0\n",
              "4                 0.0         15630.0  ...        0.0  27489.0\n",
              "5                 0.0         10155.0  ...        0.0  16972.0\n",
              "6                 0.0          6547.0  ...        0.0   8523.0\n",
              "7                 0.0          5628.0  ...        0.0   9160.0\n",
              "\n",
              "[7 rows x 20 columns]"
            ]
          },
          "metadata": {
            "tags": []
          },
          "execution_count": 108
        }
      ]
    },
    {
      "cell_type": "code",
      "metadata": {
        "colab": {
          "base_uri": "https://localhost:8080/",
          "height": 265
        },
        "id": "ul9ptTpq523X",
        "outputId": "1d2d9b88-eb40-4b5e-efe7-f16b24140391"
      },
      "source": [
        "data = commute()\n",
        "#print(data)\n",
        "plt.plot(data)\n",
        "weekdays=\"x mon tue wed thu fri sat sun\".title().split()\n",
        "plt.gca().set_xticklabels(weekdays)\n",
        "plt.show()"
      ],
      "execution_count": 110,
      "outputs": [
        {
          "output_type": "display_data",
          "data": {
            "image/png": "[encoded data removed]",
            "text/plain": [
              "<Figure size 432x288 with 1 Axes>"
            ]
          },
          "metadata": {
            "tags": [],
            "needs_background": "light"
          }
        }
      ]
    },
    {
      "cell_type": "code",
      "metadata": {
        "id": "YCCxa8yh79u3"
      },
      "source": [
        "## alternative solution\n",
        "\n",
        "days = dict(zip(\"ma ti ke to pe la su\".split(), \"Mon Tue Wed Thu Fri Sat Sun\".split()))\n",
        "months = dict(zip(\"tammi helmi maalis huhti touko kesä heinä elo syys loka marras joulu\".split(), range(1, 13)))\n",
        " \n",
        "def split_date(df):\n",
        "    d = df[\"Päivämäärä\"].str.split(expand=True)\n",
        "    d.columns = [\"Weekday\", \"Day\", \"Month\", \"Year\", \"Hour\"]\n",
        "    hourmin = d[\"Hour\"].str.split(\":\", expand=True)\n",
        "    d[\"Hour\"] = hourmin.iloc[:, 0]\n",
        "    d[\"Weekday\"] = d[\"Weekday\"].map(days)\n",
        "    d[\"Month\"] = d[\"Month\"].map(months)\n",
        "    d = d.astype({\"Weekday\": object, \"Day\": int, \"Month\": int, \"Year\": int, \"Hour\": int})\n",
        "    return d\n",
        "\n",
        "def bicycle_timeseries():\n",
        "    df = pd.read_csv(\"src/Helsingin_pyorailijamaarat.csv\", sep=\";\")\n",
        "    df = df.dropna(axis=0, how=\"all\").dropna(axis=1, how=\"all\")\n",
        "    d = split_date(df)\n",
        "    df[\"Date\"] = pd.to_datetime(d[[\"Year\", \"Month\", \"Day\", \"Hour\"]]) \n",
        "    df = df.drop(\"Päivämäärä\", axis=1)\n",
        "    df = df.set_index(\"Date\")\n",
        "    return df\n",
        "\n",
        "def commute():\n",
        "    df = bicycle_timeseries()\n",
        "    df = df[\"2017-8-1\":\"2017-8-31\"]\n",
        "    df = df.groupby(pd.datetime.weekday).sum()\n",
        "    print(df)\n",
        "    weekdays = list(range(1, 8))\n",
        "    df[\"Weekday\"] = weekdays\n",
        "    df = df.set_index(\"Weekday\")\n",
        "    return df\n",
        "\n",
        "def main():\n",
        "    df = commute()\n",
        "    pd.set_option(\"display.max_rows\", None)\n",
        "    print(df)\n",
        "    df.plot(title=\"Number of cyclists in Helsinki August 2017\")\n",
        "    weekdays = \"x mon tue wed thu fri sat sun\".title().split()\n",
        "    plt.gca().set_xticklabels(weekdays)\n",
        "    plt.show()\n",
        "    print(df.values.sum())"
      ],
      "execution_count": null,
      "outputs": []
    },
    {
      "cell_type": "markdown",
      "metadata": {
        "id": "Cz-X00GjBLIg"
      },
      "source": [
        "# Linear regression"
      ]
    },
    {
      "cell_type": "markdown",
      "metadata": {
        "id": "VSIhjnauBTHl"
      },
      "source": [
        "## Linear regression"
      ]
    },
    {
      "cell_type": "code",
      "metadata": {
        "id": "JFdIH2PU8QTl"
      },
      "source": [
        "import numpy as np\n",
        "import matplotlib.pyplot as plt\n",
        "import sklearn   # This imports the scikit-learn library"
      ],
      "execution_count": 111,
      "outputs": []
    },
    {
      "cell_type": "code",
      "metadata": {
        "colab": {
          "base_uri": "https://localhost:8080/"
        },
        "id": "6OJ55H3UBeiF",
        "outputId": "21b3c68b-76fc-410f-fb76-d2fb0b6516ca"
      },
      "source": [
        "## the distribution y = 2*x + 1, with normally distributed errors\n",
        "np.random.seed(0)\n",
        "n=20   # Number of data points\n",
        "x=np.linspace(0, 10, n)\n",
        "y=x*2 + 1 + 1*np.random.randn(n) # Standard deviation 1\n",
        "print(x)\n",
        "print(y)"
      ],
      "execution_count": 112,
      "outputs": [
        {
          "output_type": "stream",
          "text": [
            "[ 0.          0.52631579  1.05263158  1.57894737  2.10526316  2.63157895\n",
            "  3.15789474  3.68421053  4.21052632  4.73684211  5.26315789  5.78947368\n",
            "  6.31578947  6.84210526  7.36842105  7.89473684  8.42105263  8.94736842\n",
            "  9.47368421 10.        ]\n",
            "[ 2.76405235  2.45278879  4.08400114  6.39878794  7.07808431  5.28588001\n",
            "  8.26587789  8.21706384  9.31783378 10.88428271 11.67035936 14.03322088\n",
            " 14.39261667 14.80588554 16.18070534 17.12314801 19.33618434 18.68957858\n",
            " 20.26043612 20.14590426]\n"
          ],
          "name": "stdout"
        }
      ]
    },
    {
      "cell_type": "code",
      "metadata": {
        "id": "HnQBv6LhBiH9"
      },
      "source": [
        "## importing the linear regression class\n",
        "from sklearn.linear_model import LinearRegression"
      ],
      "execution_count": 113,
      "outputs": []
    },
    {
      "cell_type": "code",
      "metadata": {
        "colab": {
          "base_uri": "https://localhost:8080/",
          "height": 265
        },
        "id": "EW1K4nb5Bm-d",
        "outputId": "08288589-f97d-433d-c710-80a9bdd4b9bc"
      },
      "source": [
        "## fitting a line through the data points\n",
        "model=LinearRegression(fit_intercept=True)\n",
        "model.fit(x[:,np.newaxis], y)\n",
        "xfit=np.linspace(0,10,100)\n",
        "yfit=model.predict(xfit[:, np.newaxis])\n",
        "plt.plot(xfit,yfit, color=\"black\")\n",
        "plt.plot(x,y, 'o')\n",
        "# The following will draw as many line segments as there are columns in matrices x and y\n",
        "plt.plot(np.vstack([x,x]), np.vstack([y, model.predict(x[:, np.newaxis])]), color=\"red\");"
      ],
      "execution_count": 114,
      "outputs": [
        {
          "output_type": "display_data",
          "data": {
            "image/png": "[encoded data removed]",
            "text/plain": [
              "<Figure size 432x288 with 1 Axes>"
            ]
          },
          "metadata": {
            "tags": [],
            "needs_background": "light"
          }
        }
      ]
    },
    {
      "cell_type": "code",
      "metadata": {
        "colab": {
          "base_uri": "https://localhost:8080/"
        },
        "id": "Wc8Sbq2cBqDd",
        "outputId": "9ff26992-3702-40c0-ffc4-a05d63d8da79"
      },
      "source": [
        "## the linear regression minimizes the sum squared of errors -- the length of the red line segments in the above plot\n",
        "print(\"Parameters:\", model.coef_, model.intercept_)\n",
        "print(\"Coefficient:\", model.coef_[0])\n",
        "print(\"Intercept:\", model.intercept_)"
      ],
      "execution_count": 115,
      "outputs": [
        {
          "output_type": "stream",
          "text": [
            "Parameters: [1.88627741] 2.1379475205341354\n",
            "Coefficient: 1.8862774144823005\n",
            "Intercept: 2.1379475205341354\n"
          ],
          "name": "stdout"
        }
      ]
    },
    {
      "cell_type": "markdown",
      "metadata": {
        "id": "QhyPTRH0BtZ1"
      },
      "source": [
        "### Multiple features"
      ]
    },
    {
      "cell_type": "code",
      "metadata": {
        "id": "0tXvjscsBtLX"
      },
      "source": [
        "## multiple explanatory variables -- complex regression\n",
        "sample1=np.array([1,2,3])   # The three explanatory variables have values 1, 2, and 3, respectively\n",
        "sample2=np.array([4,5,6])   # Another example of values of explanatory variables\n",
        "sample3=np.array([7,8,10])   # ...\n",
        "y=np.array([15,39,66]) + np.random.randn(3)   # For values 1,2, and 3 of explanatory variables, the value y=15 was observed, and so on."
      ],
      "execution_count": 116,
      "outputs": []
    },
    {
      "cell_type": "code",
      "metadata": {
        "colab": {
          "base_uri": "https://localhost:8080/"
        },
        "id": "Fz4Ot2-NBsql",
        "outputId": "1dd857db-84a5-4c30-d5fc-72ba2cc4fc4f"
      },
      "source": [
        "##fit a linear model to these points\n",
        "model2=LinearRegression(fit_intercept=False)\n",
        "x=np.vstack([sample1,sample2,sample3])\n",
        "model2.fit(x, y)\n",
        "model2.coef_, model2.intercept_"
      ],
      "execution_count": 117,
      "outputs": [
        {
          "output_type": "execute_result",
          "data": {
            "text/plain": [
              "(array([5.69493795e+00, 3.36972233e+00, 4.20919214e-03]), 0.0)"
            ]
          },
          "metadata": {
            "tags": []
          },
          "execution_count": 117
        }
      ]
    },
    {
      "cell_type": "code",
      "metadata": {
        "colab": {
          "base_uri": "https://localhost:8080/"
        },
        "id": "sFhJTvqJBr0d",
        "outputId": "5a7ee269-09dd-4880-9031-823b5cbc3c0d"
      },
      "source": [
        "## print the components involved\n",
        "b=model2.coef_[:, np.newaxis]\n",
        "print(\"x:\\n\", x)\n",
        "print(\"b:\\n\", b)\n",
        "print(\"y:\\n\", y[:, np.newaxis])\n",
        "print(\"product:\\n\", np.matmul(x, b))"
      ],
      "execution_count": 118,
      "outputs": [
        {
          "output_type": "stream",
          "text": [
            "x:\n",
            " [[ 1  2  3]\n",
            " [ 4  5  6]\n",
            " [ 7  8 10]]\n",
            "b:\n",
            " [[5.69493795e+00]\n",
            " [3.36972233e+00]\n",
            " [4.20919214e-03]]\n",
            "y:\n",
            " [[12.44701018]\n",
            " [39.6536186 ]\n",
            " [66.8644362 ]]\n",
            "product:\n",
            " [[12.44701018]\n",
            " [39.6536186 ]\n",
            " [66.8644362 ]]\n"
          ],
          "name": "stdout"
        }
      ]
    },
    {
      "cell_type": "markdown",
      "metadata": {
        "id": "-z_cEqStC0Y-"
      },
      "source": [
        "### polynomial regression"
      ]
    },
    {
      "cell_type": "code",
      "metadata": {
        "colab": {
          "base_uri": "https://localhost:8080/",
          "height": 302
        },
        "id": "Abdoc1LuC3_t",
        "outputId": "d36e56b4-e146-4b9b-8590-99d1ace13efe"
      },
      "source": [
        "## one can fit a polynomial curve to data points using linear regression\n",
        "## you need to add explanatory variables to the model\n",
        "## you need to add to more functions x^2 and x^3 in order to eexplain the initial one\n",
        "## the linear regression will get the coefficients for x, x^2 and x^3\n",
        "x=np.linspace(-50,150,50)\n",
        "y=0.15*x**3 - 20*x**2 + 5*x - 4 + 5000*np.random.randn(50)\n",
        "plt.scatter(x, y, color=\"black\")\n",
        "model_linear=LinearRegression(fit_intercept=True)\n",
        "model_squared=LinearRegression(fit_intercept=True)\n",
        "model_cubic=LinearRegression(fit_intercept=True)\n",
        "x2=x**2\n",
        "x3=x**3\n",
        "model_linear.fit(np.vstack([x]).T, y)\n",
        "model_squared.fit(np.vstack([x,x2]).T, y)\n",
        "model_cubic.fit(np.vstack([x,x2,x3]).T, y)\n",
        "xf=np.linspace(-50,150, 50)\n",
        "yf_linear=model_linear.predict(np.vstack([x]).T)\n",
        "yf_squared=model_squared.predict(np.vstack([x,x2]).T)\n",
        "yf_cubic=model_cubic.predict(np.vstack([x,x2,x3]).T)\n",
        "plt.plot(xf,yf_linear, label=\"linear\")\n",
        "plt.plot(xf,yf_squared, label=\"squared\")\n",
        "plt.plot(xf,yf_cubic, label=\"cubic\")\n",
        "plt.legend()\n",
        "print(\"Coefficients:\", model_cubic.coef_)\n",
        "print(\"Intercept:\", model_cubic.intercept_)"
      ],
      "execution_count": 119,
      "outputs": [
        {
          "output_type": "stream",
          "text": [
            "Coefficients: [-36.65414588 -20.17228669   0.15359003]\n",
            "Intercept: -167.16046606444797\n"
          ],
          "name": "stdout"
        },
        {
          "output_type": "display_data",
          "data": {
            "image/png": "[encoded data removed]",
            "text/plain": [
              "<Figure size 432x288 with 1 Axes>"
            ]
          },
          "metadata": {
            "tags": [],
            "needs_background": "light"
          }
        }
      ]
    },
    {
      "cell_type": "code",
      "metadata": {
        "id": "NCeiv0lNDjyd"
      },
      "source": [
        "## exercise 10 (linear regression)\n",
        "def fit_line(x, y):\n",
        "  model_linear=LinearRegression(fit_intercept=True)\n",
        "  model_linear.fit(np.vstack([x]).T, y)\n",
        "  yf_linear = model_linear.predict(np.vstack([x]).T)\n",
        "  slope =  model_linear.coef_[0]#.map(float)\n",
        "  intercept = model_linear.intercept_\n",
        "  return (slope, intercept)"
      ],
      "execution_count": 134,
      "outputs": []
    },
    {
      "cell_type": "code",
      "metadata": {
        "colab": {
          "base_uri": "https://localhost:8080/",
          "height": 302
        },
        "id": "myKCvGRYE9jf",
        "outputId": "ccd85edb-3629-4c50-f869-ba4e5651d57a"
      },
      "source": [
        "x = np.linspace(-50,150,50)\n",
        "y = x    \n",
        "a, b = fit_line(x, y)\n",
        "print(\"Slope:\", a)\n",
        "print(\"Intercept:\", b)\n",
        "plt.scatter(x, y, color=\"black\")\n",
        "model_linear=LinearRegression(fit_intercept=True)\n",
        "model_linear.fit(np.vstack([x]).T, y)\n",
        "xf = x\n",
        "yf = model_linear.predict(np.vstack([x]).T)\n",
        "plt.plot(xf,yf, label=\"linear\")\n",
        "plt.show()"
      ],
      "execution_count": 138,
      "outputs": [
        {
          "output_type": "stream",
          "text": [
            "Slope: 0.9999999999999999\n",
            "Intercept: 7.105427357601002e-15\n"
          ],
          "name": "stdout"
        },
        {
          "output_type": "display_data",
          "data": {
            "image/png": "[encoded data removed]",
            "text/plain": [
              "<Figure size 432x288 with 1 Axes>"
            ]
          },
          "metadata": {
            "tags": [],
            "needs_background": "light"
          }
        }
      ]
    },
    {
      "cell_type": "code",
      "metadata": {
        "colab": {
          "base_uri": "https://localhost:8080/",
          "height": 302
        },
        "id": "-5HnrbzDFAyt",
        "outputId": "e3311a40-efa9-42a5-9801-671654269a34"
      },
      "source": [
        "## alternative solution\n",
        "\n",
        "def fit_line(x, y):\n",
        "    reg = LinearRegression()\n",
        "    X = x.reshape((-1, 1))\n",
        "    reg.fit(X, y)\n",
        "    return reg.coef_[0], reg.intercept_   \n",
        "\n",
        "\n",
        "x = np.array([1, 2, 3])\n",
        "y = np.array([1, 2.5, 3]) + 1\n",
        "slope, intercept = fit_line(x, y)\n",
        "print(\"Slope:\", slope)\n",
        "print(\"Intercept:\", intercept)\n",
        "plt.scatter(x, y)\n",
        "x1 = np.linspace(min(x)-1, max(x)+1, 10)\n",
        "plt.plot(x1, x1*slope + intercept, 'red')\n",
        "plt.show()"
      ],
      "execution_count": 139,
      "outputs": [
        {
          "output_type": "stream",
          "text": [
            "Slope: 0.9999999999999998\n",
            "Intercept: 1.166666666666667\n"
          ],
          "name": "stdout"
        },
        {
          "output_type": "display_data",
          "data": {
            "image/png": "[encoded data removed]",
            "text/plain": [
              "<Figure size 432x288 with 1 Axes>"
            ]
          },
          "metadata": {
            "tags": [],
            "needs_background": "light"
          }
        }
      ]
    },
    {
      "cell_type": "code",
      "metadata": {
        "id": "93VeTt7EK8xS"
      },
      "source": [
        "##exercise 11 (mystery data)\n",
        "def mystery_data():\n",
        "  url = 'https://raw.githubusercontent.com/annassanchez/HY-2021-DataScience/main/week05/mystery_data.tsv'\n",
        "  data = pd.read_csv(url, sep = '\\t')\n",
        "  model_linear = LinearRegression(fit_intercept=False)\n",
        "  X = data[['X1', 'X2', 'X3', 'X4', 'X5']]#.values.reshape(5000,1)\n",
        "  y = data[['Y']]\n",
        "  model_linear.fit(np.vstack([X]), y)\n",
        "  return model_linear.coef_"
      ],
      "execution_count": 157,
      "outputs": []
    },
    {
      "cell_type": "code",
      "metadata": {
        "id": "KSp1S0WAMGOu",
        "outputId": "e85f76f3-b527-4ed6-e671-a5f977185e04",
        "colab": {
          "base_uri": "https://localhost:8080/"
        }
      },
      "source": [
        "mystery_data()"
      ],
      "execution_count": 158,
      "outputs": [
        {
          "output_type": "execute_result",
          "data": {
            "text/plain": [
              "array([[ 3.00000000e+00, -1.00000000e+00,  7.00000000e+00,\n",
              "        -5.32907052e-15, -2.00000000e+01]])"
            ]
          },
          "metadata": {
            "tags": []
          },
          "execution_count": 158
        }
      ]
    },
    {
      "cell_type": "code",
      "metadata": {
        "id": "4jX7SLPmLvyf",
        "outputId": "ef8b00bd-5aff-4040-f971-6237cf2a9e07",
        "colab": {
          "base_uri": "https://localhost:8080/"
        }
      },
      "source": [
        "coefficients = mystery_data()\n",
        "print(\"Coefficient of X1 is: \", coefficients[0][0])\n",
        "print(\"Coefficient of X2 is: \", coefficients[0][1])\n",
        "print(\"Coefficient of X3 is: \", coefficients[0][2])\n",
        "print(\"Coefficient of X4 is: \", coefficients[0][3])\n",
        "print(\"Coefficient of X5 is: \", coefficients[0][4])"
      ],
      "execution_count": 161,
      "outputs": [
        {
          "output_type": "stream",
          "text": [
            "Coefficient of X1 is:  3.0\n",
            "Coefficient of X2 is:  -0.9999999999999973\n",
            "Coefficient of X3 is:  6.999999999999991\n",
            "Coefficient of X4 is:  -5.329070518200751e-15\n",
            "Coefficient of X5 is:  -19.999999999999996\n"
          ],
          "name": "stdout"
        }
      ]
    },
    {
      "cell_type": "code",
      "metadata": {
        "id": "Qlz4zsu_P70e"
      },
      "source": [
        "## alternative solution\n",
        "def mystery_data():\n",
        "    df = pd.read_csv(\"src/mystery_data.tsv\", sep=\"\\t\")\n",
        "    X = df.loc[:, \"X1\":\"X5\"]\n",
        "    y = df.Y\n",
        "    reg = LinearRegression(fit_intercept=False)\n",
        "    reg.fit(X, y)\n",
        "    return reg.coef_\n",
        "\n",
        "coefficients = mystery_data()\n",
        "for i, c in enumerate(coefficients):\n",
        "    print(f\"Coefficient of X{i+1} is {c:.4f}\")"
      ],
      "execution_count": null,
      "outputs": []
    }
  ]
}