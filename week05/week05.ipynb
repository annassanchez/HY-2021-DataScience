{
  "nbformat": 4,
  "nbformat_minor": 0,
  "metadata": {
    "orig_nbformat": 4,
    "colab": {
      "name": "week05.ipynb",
      "provenance": []
    },
    "language_info": {
      "name": "python"
    },
    "kernelspec": {
      "name": "python3",
      "display_name": "Python 3"
    }
  },
  "cells": [
    {
      "cell_type": "markdown",
      "metadata": {
        "id": "iKD6CvdIW9xt"
      },
      "source": [
        "# Pandas (continues)"
      ]
    },
    {
      "cell_type": "code",
      "metadata": {
        "id": "9YgUGW2KW9xv"
      },
      "source": [
        "import pandas as pd\n",
        "import numpy as np"
      ],
      "execution_count": 3,
      "outputs": []
    },
    {
      "cell_type": "markdown",
      "metadata": {
        "id": "YkxgGdSSYrpb"
      },
      "source": [
        "## Catenating datasets"
      ]
    },
    {
      "cell_type": "code",
      "metadata": {
        "id": "URL_7h1nYzDE"
      },
      "source": [
        "# axis = 0 catenates vertically and axis = 1 catenates horizontally. \n",
        "# pandas dataframe works similarly but row indices and the column names require extra attention.\n",
        "# also the difference between np.concatenate & pd.concat\n",
        "## helper for creating dataframes\n",
        "def makedf(cols, ind):\n",
        "    data = {c : [str(c) + str(i) for i in ind] for c in cols}\n",
        "    return pd.DataFrame(data, ind)"
      ],
      "execution_count": 4,
      "outputs": []
    },
    {
      "cell_type": "code",
      "metadata": {
        "colab": {
          "base_uri": "https://localhost:8080/",
          "height": 112
        },
        "id": "_A9_6xcEZZmM",
        "outputId": "e54ec6d2-8d99-4680-a7e7-58369a4cbd7e"
      },
      "source": [
        "a=makedf(\"AB\", [0,1])\n",
        "a"
      ],
      "execution_count": 5,
      "outputs": [
        {
          "output_type": "execute_result",
          "data": {
            "text/html": [
              "<div>\n",
              "<style scoped>\n",
              "    .dataframe tbody tr th:only-of-type {\n",
              "        vertical-align: middle;\n",
              "    }\n",
              "\n",
              "    .dataframe tbody tr th {\n",
              "        vertical-align: top;\n",
              "    }\n",
              "\n",
              "    .dataframe thead th {\n",
              "        text-align: right;\n",
              "    }\n",
              "</style>\n",
              "<table border=\"1\" class=\"dataframe\">\n",
              "  <thead>\n",
              "    <tr style=\"text-align: right;\">\n",
              "      <th></th>\n",
              "      <th>A</th>\n",
              "      <th>B</th>\n",
              "    </tr>\n",
              "  </thead>\n",
              "  <tbody>\n",
              "    <tr>\n",
              "      <th>0</th>\n",
              "      <td>A0</td>\n",
              "      <td>B0</td>\n",
              "    </tr>\n",
              "    <tr>\n",
              "      <th>1</th>\n",
              "      <td>A1</td>\n",
              "      <td>B1</td>\n",
              "    </tr>\n",
              "  </tbody>\n",
              "</table>\n",
              "</div>"
            ],
            "text/plain": [
              "    A   B\n",
              "0  A0  B0\n",
              "1  A1  B1"
            ]
          },
          "metadata": {
            "tags": []
          },
          "execution_count": 5
        }
      ]
    },
    {
      "cell_type": "code",
      "metadata": {
        "colab": {
          "base_uri": "https://localhost:8080/",
          "height": 112
        },
        "id": "GZ1MrLICZb3D",
        "outputId": "5e7c7059-e3a6-4757-a6f5-fa8e6bff87f3"
      },
      "source": [
        "b=makedf(\"AB\", [2,3])\n",
        "b"
      ],
      "execution_count": 6,
      "outputs": [
        {
          "output_type": "execute_result",
          "data": {
            "text/html": [
              "<div>\n",
              "<style scoped>\n",
              "    .dataframe tbody tr th:only-of-type {\n",
              "        vertical-align: middle;\n",
              "    }\n",
              "\n",
              "    .dataframe tbody tr th {\n",
              "        vertical-align: top;\n",
              "    }\n",
              "\n",
              "    .dataframe thead th {\n",
              "        text-align: right;\n",
              "    }\n",
              "</style>\n",
              "<table border=\"1\" class=\"dataframe\">\n",
              "  <thead>\n",
              "    <tr style=\"text-align: right;\">\n",
              "      <th></th>\n",
              "      <th>A</th>\n",
              "      <th>B</th>\n",
              "    </tr>\n",
              "  </thead>\n",
              "  <tbody>\n",
              "    <tr>\n",
              "      <th>2</th>\n",
              "      <td>A2</td>\n",
              "      <td>B2</td>\n",
              "    </tr>\n",
              "    <tr>\n",
              "      <th>3</th>\n",
              "      <td>A3</td>\n",
              "      <td>B3</td>\n",
              "    </tr>\n",
              "  </tbody>\n",
              "</table>\n",
              "</div>"
            ],
            "text/plain": [
              "    A   B\n",
              "2  A2  B2\n",
              "3  A3  B3"
            ]
          },
          "metadata": {
            "tags": []
          },
          "execution_count": 6
        }
      ]
    },
    {
      "cell_type": "code",
      "metadata": {
        "colab": {
          "base_uri": "https://localhost:8080/",
          "height": 112
        },
        "id": "Y8u5-89DZcJz",
        "outputId": "a396d383-f2bb-463a-830d-5c9e1c39d82d"
      },
      "source": [
        "c=makedf(\"CD\", [0,1])\n",
        "c"
      ],
      "execution_count": 7,
      "outputs": [
        {
          "output_type": "execute_result",
          "data": {
            "text/html": [
              "<div>\n",
              "<style scoped>\n",
              "    .dataframe tbody tr th:only-of-type {\n",
              "        vertical-align: middle;\n",
              "    }\n",
              "\n",
              "    .dataframe tbody tr th {\n",
              "        vertical-align: top;\n",
              "    }\n",
              "\n",
              "    .dataframe thead th {\n",
              "        text-align: right;\n",
              "    }\n",
              "</style>\n",
              "<table border=\"1\" class=\"dataframe\">\n",
              "  <thead>\n",
              "    <tr style=\"text-align: right;\">\n",
              "      <th></th>\n",
              "      <th>C</th>\n",
              "      <th>D</th>\n",
              "    </tr>\n",
              "  </thead>\n",
              "  <tbody>\n",
              "    <tr>\n",
              "      <th>0</th>\n",
              "      <td>C0</td>\n",
              "      <td>D0</td>\n",
              "    </tr>\n",
              "    <tr>\n",
              "      <th>1</th>\n",
              "      <td>C1</td>\n",
              "      <td>D1</td>\n",
              "    </tr>\n",
              "  </tbody>\n",
              "</table>\n",
              "</div>"
            ],
            "text/plain": [
              "    C   D\n",
              "0  C0  D0\n",
              "1  C1  D1"
            ]
          },
          "metadata": {
            "tags": []
          },
          "execution_count": 7
        }
      ]
    },
    {
      "cell_type": "code",
      "metadata": {
        "colab": {
          "base_uri": "https://localhost:8080/",
          "height": 112
        },
        "id": "lUcGjHz7ZcNS",
        "outputId": "9ab3c8f0-02ce-44a7-ebcb-5ac004d11a5a"
      },
      "source": [
        "d=makedf(\"BC\", [2,3])\n",
        "d"
      ],
      "execution_count": 8,
      "outputs": [
        {
          "output_type": "execute_result",
          "data": {
            "text/html": [
              "<div>\n",
              "<style scoped>\n",
              "    .dataframe tbody tr th:only-of-type {\n",
              "        vertical-align: middle;\n",
              "    }\n",
              "\n",
              "    .dataframe tbody tr th {\n",
              "        vertical-align: top;\n",
              "    }\n",
              "\n",
              "    .dataframe thead th {\n",
              "        text-align: right;\n",
              "    }\n",
              "</style>\n",
              "<table border=\"1\" class=\"dataframe\">\n",
              "  <thead>\n",
              "    <tr style=\"text-align: right;\">\n",
              "      <th></th>\n",
              "      <th>B</th>\n",
              "      <th>C</th>\n",
              "    </tr>\n",
              "  </thead>\n",
              "  <tbody>\n",
              "    <tr>\n",
              "      <th>2</th>\n",
              "      <td>B2</td>\n",
              "      <td>C2</td>\n",
              "    </tr>\n",
              "    <tr>\n",
              "      <th>3</th>\n",
              "      <td>B3</td>\n",
              "      <td>C3</td>\n",
              "    </tr>\n",
              "  </tbody>\n",
              "</table>\n",
              "</div>"
            ],
            "text/plain": [
              "    B   C\n",
              "2  B2  C2\n",
              "3  B3  C3"
            ]
          },
          "metadata": {
            "tags": []
          },
          "execution_count": 8
        }
      ]
    },
    {
      "cell_type": "code",
      "metadata": {
        "colab": {
          "base_uri": "https://localhost:8080/",
          "height": 175
        },
        "id": "e3w7-Fk0ZcQU",
        "outputId": "59ec8a2c-5e3b-4710-964f-1328debedce3"
      },
      "source": [
        "## concat a and b -- works as expected\n",
        "pd.concat([a,b])   # The default axis is 0"
      ],
      "execution_count": 9,
      "outputs": [
        {
          "output_type": "execute_result",
          "data": {
            "text/html": [
              "<div>\n",
              "<style scoped>\n",
              "    .dataframe tbody tr th:only-of-type {\n",
              "        vertical-align: middle;\n",
              "    }\n",
              "\n",
              "    .dataframe tbody tr th {\n",
              "        vertical-align: top;\n",
              "    }\n",
              "\n",
              "    .dataframe thead th {\n",
              "        text-align: right;\n",
              "    }\n",
              "</style>\n",
              "<table border=\"1\" class=\"dataframe\">\n",
              "  <thead>\n",
              "    <tr style=\"text-align: right;\">\n",
              "      <th></th>\n",
              "      <th>A</th>\n",
              "      <th>B</th>\n",
              "    </tr>\n",
              "  </thead>\n",
              "  <tbody>\n",
              "    <tr>\n",
              "      <th>0</th>\n",
              "      <td>A0</td>\n",
              "      <td>B0</td>\n",
              "    </tr>\n",
              "    <tr>\n",
              "      <th>1</th>\n",
              "      <td>A1</td>\n",
              "      <td>B1</td>\n",
              "    </tr>\n",
              "    <tr>\n",
              "      <th>2</th>\n",
              "      <td>A2</td>\n",
              "      <td>B2</td>\n",
              "    </tr>\n",
              "    <tr>\n",
              "      <th>3</th>\n",
              "      <td>A3</td>\n",
              "      <td>B3</td>\n",
              "    </tr>\n",
              "  </tbody>\n",
              "</table>\n",
              "</div>"
            ],
            "text/plain": [
              "    A   B\n",
              "0  A0  B0\n",
              "1  A1  B1\n",
              "2  A2  B2\n",
              "3  A3  B3"
            ]
          },
          "metadata": {
            "tags": []
          },
          "execution_count": 9
        }
      ]
    },
    {
      "cell_type": "code",
      "metadata": {
        "colab": {
          "base_uri": "https://localhost:8080/",
          "height": 175
        },
        "id": "j5KEvsZpZpH8",
        "outputId": "04810e77-f7c2-4cf3-fdfb-60f7169b7392"
      },
      "source": [
        "r=pd.concat([a,a])\n",
        "r"
      ],
      "execution_count": 10,
      "outputs": [
        {
          "output_type": "execute_result",
          "data": {
            "text/html": [
              "<div>\n",
              "<style scoped>\n",
              "    .dataframe tbody tr th:only-of-type {\n",
              "        vertical-align: middle;\n",
              "    }\n",
              "\n",
              "    .dataframe tbody tr th {\n",
              "        vertical-align: top;\n",
              "    }\n",
              "\n",
              "    .dataframe thead th {\n",
              "        text-align: right;\n",
              "    }\n",
              "</style>\n",
              "<table border=\"1\" class=\"dataframe\">\n",
              "  <thead>\n",
              "    <tr style=\"text-align: right;\">\n",
              "      <th></th>\n",
              "      <th>A</th>\n",
              "      <th>B</th>\n",
              "    </tr>\n",
              "  </thead>\n",
              "  <tbody>\n",
              "    <tr>\n",
              "      <th>0</th>\n",
              "      <td>A0</td>\n",
              "      <td>B0</td>\n",
              "    </tr>\n",
              "    <tr>\n",
              "      <th>1</th>\n",
              "      <td>A1</td>\n",
              "      <td>B1</td>\n",
              "    </tr>\n",
              "    <tr>\n",
              "      <th>0</th>\n",
              "      <td>A0</td>\n",
              "      <td>B0</td>\n",
              "    </tr>\n",
              "    <tr>\n",
              "      <th>1</th>\n",
              "      <td>A1</td>\n",
              "      <td>B1</td>\n",
              "    </tr>\n",
              "  </tbody>\n",
              "</table>\n",
              "</div>"
            ],
            "text/plain": [
              "    A   B\n",
              "0  A0  B0\n",
              "1  A1  B1\n",
              "0  A0  B0\n",
              "1  A1  B1"
            ]
          },
          "metadata": {
            "tags": []
          },
          "execution_count": 10
        }
      ]
    },
    {
      "cell_type": "code",
      "metadata": {
        "colab": {
          "base_uri": "https://localhost:8080/"
        },
        "id": "tpfQxGSxZpTc",
        "outputId": "dc02ccdd-9cbd-46e2-aeb8-30c99301945a"
      },
      "source": [
        "r.loc[0,\"A\"]"
      ],
      "execution_count": 11,
      "outputs": [
        {
          "output_type": "execute_result",
          "data": {
            "text/plain": [
              "0    A0\n",
              "0    A0\n",
              "Name: A, dtype: object"
            ]
          },
          "metadata": {
            "tags": []
          },
          "execution_count": 11
        }
      ]
    },
    {
      "cell_type": "code",
      "metadata": {
        "colab": {
          "base_uri": "https://localhost:8080/"
        },
        "id": "blFRMxzqZpXT",
        "outputId": "3c2ee76a-db93-49be-d3ca-500b7e971d21"
      },
      "source": [
        "## indices should be unique, so that's not what we aim to. \n",
        "## here's a tool to chek duplicated indices\n",
        "try:\n",
        "    pd.concat([a,a], verify_integrity=True)\n",
        "except ValueError as e:\n",
        "    import sys\n",
        "    print(e, file=sys.stderr)"
      ],
      "execution_count": 12,
      "outputs": [
        {
          "output_type": "stream",
          "text": [
            "Indexes have overlapping values: Int64Index([0, 1], dtype='int64')\n"
          ],
          "name": "stderr"
        }
      ]
    },
    {
      "cell_type": "code",
      "metadata": {
        "colab": {
          "base_uri": "https://localhost:8080/",
          "height": 175
        },
        "id": "uedSTIMUZpaF",
        "outputId": "2c4455af-b526-4a6f-ef57-380e70c028e6"
      },
      "source": [
        "## automatic renumbering of rows\n",
        "pd.concat([a,a], ignore_index=True)"
      ],
      "execution_count": 13,
      "outputs": [
        {
          "output_type": "execute_result",
          "data": {
            "text/html": [
              "<div>\n",
              "<style scoped>\n",
              "    .dataframe tbody tr th:only-of-type {\n",
              "        vertical-align: middle;\n",
              "    }\n",
              "\n",
              "    .dataframe tbody tr th {\n",
              "        vertical-align: top;\n",
              "    }\n",
              "\n",
              "    .dataframe thead th {\n",
              "        text-align: right;\n",
              "    }\n",
              "</style>\n",
              "<table border=\"1\" class=\"dataframe\">\n",
              "  <thead>\n",
              "    <tr style=\"text-align: right;\">\n",
              "      <th></th>\n",
              "      <th>A</th>\n",
              "      <th>B</th>\n",
              "    </tr>\n",
              "  </thead>\n",
              "  <tbody>\n",
              "    <tr>\n",
              "      <th>0</th>\n",
              "      <td>A0</td>\n",
              "      <td>B0</td>\n",
              "    </tr>\n",
              "    <tr>\n",
              "      <th>1</th>\n",
              "      <td>A1</td>\n",
              "      <td>B1</td>\n",
              "    </tr>\n",
              "    <tr>\n",
              "      <th>2</th>\n",
              "      <td>A0</td>\n",
              "      <td>B0</td>\n",
              "    </tr>\n",
              "    <tr>\n",
              "      <th>3</th>\n",
              "      <td>A1</td>\n",
              "      <td>B1</td>\n",
              "    </tr>\n",
              "  </tbody>\n",
              "</table>\n",
              "</div>"
            ],
            "text/plain": [
              "    A   B\n",
              "0  A0  B0\n",
              "1  A1  B1\n",
              "2  A0  B0\n",
              "3  A1  B1"
            ]
          },
          "metadata": {
            "tags": []
          },
          "execution_count": 13
        }
      ]
    },
    {
      "cell_type": "code",
      "metadata": {
        "colab": {
          "base_uri": "https://localhost:8080/",
          "height": 175
        },
        "id": "mEWq5ozgaF6b",
        "outputId": "fe29e36a-dafe-4045-c820-ae5008af1146"
      },
      "source": [
        "## hierarchical indexing -- multiple level indices\n",
        "r2=pd.concat([a,a], keys=['first', 'second'])\n",
        "r2"
      ],
      "execution_count": 14,
      "outputs": [
        {
          "output_type": "execute_result",
          "data": {
            "text/html": [
              "<div>\n",
              "<style scoped>\n",
              "    .dataframe tbody tr th:only-of-type {\n",
              "        vertical-align: middle;\n",
              "    }\n",
              "\n",
              "    .dataframe tbody tr th {\n",
              "        vertical-align: top;\n",
              "    }\n",
              "\n",
              "    .dataframe thead th {\n",
              "        text-align: right;\n",
              "    }\n",
              "</style>\n",
              "<table border=\"1\" class=\"dataframe\">\n",
              "  <thead>\n",
              "    <tr style=\"text-align: right;\">\n",
              "      <th></th>\n",
              "      <th></th>\n",
              "      <th>A</th>\n",
              "      <th>B</th>\n",
              "    </tr>\n",
              "  </thead>\n",
              "  <tbody>\n",
              "    <tr>\n",
              "      <th rowspan=\"2\" valign=\"top\">first</th>\n",
              "      <th>0</th>\n",
              "      <td>A0</td>\n",
              "      <td>B0</td>\n",
              "    </tr>\n",
              "    <tr>\n",
              "      <th>1</th>\n",
              "      <td>A1</td>\n",
              "      <td>B1</td>\n",
              "    </tr>\n",
              "    <tr>\n",
              "      <th rowspan=\"2\" valign=\"top\">second</th>\n",
              "      <th>0</th>\n",
              "      <td>A0</td>\n",
              "      <td>B0</td>\n",
              "    </tr>\n",
              "    <tr>\n",
              "      <th>1</th>\n",
              "      <td>A1</td>\n",
              "      <td>B1</td>\n",
              "    </tr>\n",
              "  </tbody>\n",
              "</table>\n",
              "</div>"
            ],
            "text/plain": [
              "           A   B\n",
              "first  0  A0  B0\n",
              "       1  A1  B1\n",
              "second 0  A0  B0\n",
              "       1  A1  B1"
            ]
          },
          "metadata": {
            "tags": []
          },
          "execution_count": 14
        }
      ]
    },
    {
      "cell_type": "code",
      "metadata": {
        "colab": {
          "base_uri": "https://localhost:8080/",
          "height": 36
        },
        "id": "sV4fhvBMaGFj",
        "outputId": "9e9e7a1a-4a1d-4fc5-ee79-8c82b4a1f827"
      },
      "source": [
        "r2[\"A\"][\"first\"][0] # works as numpy"
      ],
      "execution_count": 15,
      "outputs": [
        {
          "output_type": "execute_result",
          "data": {
            "application/vnd.google.colaboratory.intrinsic+json": {
              "type": "string"
            },
            "text/plain": [
              "'A0'"
            ]
          },
          "metadata": {
            "tags": []
          },
          "execution_count": 15
        }
      ]
    },
    {
      "cell_type": "code",
      "metadata": {
        "colab": {
          "base_uri": "https://localhost:8080/",
          "height": 112
        },
        "id": "4MZyBWyIaGKa",
        "outputId": "d67ddfaf-db93-4f7d-c1d6-94dadd860140"
      },
      "source": [
        "## it works similarly with horizontal catenation\n",
        "pd.concat([a,c], axis=1)"
      ],
      "execution_count": 16,
      "outputs": [
        {
          "output_type": "execute_result",
          "data": {
            "text/html": [
              "<div>\n",
              "<style scoped>\n",
              "    .dataframe tbody tr th:only-of-type {\n",
              "        vertical-align: middle;\n",
              "    }\n",
              "\n",
              "    .dataframe tbody tr th {\n",
              "        vertical-align: top;\n",
              "    }\n",
              "\n",
              "    .dataframe thead th {\n",
              "        text-align: right;\n",
              "    }\n",
              "</style>\n",
              "<table border=\"1\" class=\"dataframe\">\n",
              "  <thead>\n",
              "    <tr style=\"text-align: right;\">\n",
              "      <th></th>\n",
              "      <th>A</th>\n",
              "      <th>B</th>\n",
              "      <th>C</th>\n",
              "      <th>D</th>\n",
              "    </tr>\n",
              "  </thead>\n",
              "  <tbody>\n",
              "    <tr>\n",
              "      <th>0</th>\n",
              "      <td>A0</td>\n",
              "      <td>B0</td>\n",
              "      <td>C0</td>\n",
              "      <td>D0</td>\n",
              "    </tr>\n",
              "    <tr>\n",
              "      <th>1</th>\n",
              "      <td>A1</td>\n",
              "      <td>B1</td>\n",
              "      <td>C1</td>\n",
              "      <td>D1</td>\n",
              "    </tr>\n",
              "  </tbody>\n",
              "</table>\n",
              "</div>"
            ],
            "text/plain": [
              "    A   B   C   D\n",
              "0  A0  B0  C0  D0\n",
              "1  A1  B1  C1  D1"
            ]
          },
          "metadata": {
            "tags": []
          },
          "execution_count": 16
        }
      ]
    },
    {
      "cell_type": "code",
      "metadata": {
        "colab": {
          "base_uri": "https://localhost:8080/",
          "height": 175
        },
        "id": "b9JGhNJlaGNU",
        "outputId": "ad38e8c7-3646-49fb-d5e0-9739768b4244"
      },
      "source": [
        "## if you concatenate vertically two DataFrames that don't have the same columns\n",
        "## this is called outer join, considers all the columns (the common ones and the different ones)\n",
        "pd.concat([a,d], sort=False)    # sort option is used to silence a deprecation message"
      ],
      "execution_count": 17,
      "outputs": [
        {
          "output_type": "execute_result",
          "data": {
            "text/html": [
              "<div>\n",
              "<style scoped>\n",
              "    .dataframe tbody tr th:only-of-type {\n",
              "        vertical-align: middle;\n",
              "    }\n",
              "\n",
              "    .dataframe tbody tr th {\n",
              "        vertical-align: top;\n",
              "    }\n",
              "\n",
              "    .dataframe thead th {\n",
              "        text-align: right;\n",
              "    }\n",
              "</style>\n",
              "<table border=\"1\" class=\"dataframe\">\n",
              "  <thead>\n",
              "    <tr style=\"text-align: right;\">\n",
              "      <th></th>\n",
              "      <th>A</th>\n",
              "      <th>B</th>\n",
              "      <th>C</th>\n",
              "    </tr>\n",
              "  </thead>\n",
              "  <tbody>\n",
              "    <tr>\n",
              "      <th>0</th>\n",
              "      <td>A0</td>\n",
              "      <td>B0</td>\n",
              "      <td>NaN</td>\n",
              "    </tr>\n",
              "    <tr>\n",
              "      <th>1</th>\n",
              "      <td>A1</td>\n",
              "      <td>B1</td>\n",
              "      <td>NaN</td>\n",
              "    </tr>\n",
              "    <tr>\n",
              "      <th>2</th>\n",
              "      <td>NaN</td>\n",
              "      <td>B2</td>\n",
              "      <td>C2</td>\n",
              "    </tr>\n",
              "    <tr>\n",
              "      <th>3</th>\n",
              "      <td>NaN</td>\n",
              "      <td>B3</td>\n",
              "      <td>C3</td>\n",
              "    </tr>\n",
              "  </tbody>\n",
              "</table>\n",
              "</div>"
            ],
            "text/plain": [
              "     A   B    C\n",
              "0   A0  B0  NaN\n",
              "1   A1  B1  NaN\n",
              "2  NaN  B2   C2\n",
              "3  NaN  B3   C3"
            ]
          },
          "metadata": {
            "tags": []
          },
          "execution_count": 17
        }
      ]
    },
    {
      "cell_type": "code",
      "metadata": {
        "colab": {
          "base_uri": "https://localhost:8080/",
          "height": 175
        },
        "id": "t8FcwNFXa-EC",
        "outputId": "a9bf2069-e79c-424b-9874-9298046e379b"
      },
      "source": [
        "## here is the same catenation but with inner join\n",
        "pd.concat([a,d], join=\"inner\")"
      ],
      "execution_count": 18,
      "outputs": [
        {
          "output_type": "execute_result",
          "data": {
            "text/html": [
              "<div>\n",
              "<style scoped>\n",
              "    .dataframe tbody tr th:only-of-type {\n",
              "        vertical-align: middle;\n",
              "    }\n",
              "\n",
              "    .dataframe tbody tr th {\n",
              "        vertical-align: top;\n",
              "    }\n",
              "\n",
              "    .dataframe thead th {\n",
              "        text-align: right;\n",
              "    }\n",
              "</style>\n",
              "<table border=\"1\" class=\"dataframe\">\n",
              "  <thead>\n",
              "    <tr style=\"text-align: right;\">\n",
              "      <th></th>\n",
              "      <th>B</th>\n",
              "    </tr>\n",
              "  </thead>\n",
              "  <tbody>\n",
              "    <tr>\n",
              "      <th>0</th>\n",
              "      <td>B0</td>\n",
              "    </tr>\n",
              "    <tr>\n",
              "      <th>1</th>\n",
              "      <td>B1</td>\n",
              "    </tr>\n",
              "    <tr>\n",
              "      <th>2</th>\n",
              "      <td>B2</td>\n",
              "    </tr>\n",
              "    <tr>\n",
              "      <th>3</th>\n",
              "      <td>B3</td>\n",
              "    </tr>\n",
              "  </tbody>\n",
              "</table>\n",
              "</div>"
            ],
            "text/plain": [
              "    B\n",
              "0  B0\n",
              "1  B1\n",
              "2  B2\n",
              "3  B3"
            ]
          },
          "metadata": {
            "tags": []
          },
          "execution_count": 18
        }
      ]
    },
    {
      "cell_type": "code",
      "metadata": {
        "id": "rz3_Q24ta-A6"
      },
      "source": [
        "## exercose 01 (split date continues)\n",
        "#url = \"https://raw.githubusercontent.com/annassanchez/HY-2021-DataScience/main/week04/Helsingin_pyorailijamaarat.csv\"\n",
        "#kk = pd.read_csv(url, sep = ';', header = 0)\n",
        "\n",
        "def split_date(df):\n",
        "    df = df.dropna(axis=0, how='all')\n",
        "    df = df.dropna(axis=1, how='all')\n",
        "    df[[\"Weekday\", \"Day\", \"Month\", \"Year\", \"Hour\"]] = df['Päivämäärä'].str.split(expand=True)\n",
        "    df[[\"Weekday\"]] = df[[\"Weekday\"]].replace({\"ma\": \"Mon\", \"ti\": \"Tue\", \"ke\": \"Wed\", \"to\": \"Thu\", \n",
        "        \"pe\": \"Fri\", \"la\": \"Sat\", \"su\": \"Sun\"})\n",
        "    df[[\"Month\"]] = df[[\"Month\"]].replace({\"tammi\": \"1\", \"helmi\": \"2\", \"maalis\": \"3\", \"huhti\": \"4\", \n",
        "        \"touko\": \"5\", \"kesä\": \"6\", \"heinä\": \"7\", \"elo\": \"8\", \"syys\": \"9\", \"loka\": \"10\", \"marras\": \"11\",\n",
        "        \"joulu\": \"12\"})\n",
        "    df[\"Hour\"] = df[\"Hour\"].str.split(\":\", expand=True)[0].map(int)\n",
        "    df['Päivämäärä'] = df[\"Weekday\"] + \" \" + df[\"Day\"] + \" \" + df[\"Month\"] + \" \" + df[\"Year\"] + \" \" + df[\"Hour\"].map(str)\n",
        "    df = df[df.columns.tolist()[-5:] + [df.columns.tolist()[0]]]\n",
        "    return df.astype({\"Weekday\":object, \"Day\":int,  \"Month\":int, \"Year\":int, \"Hour\": int})"
      ],
      "execution_count": 51,
      "outputs": []
    },
    {
      "cell_type": "code",
      "metadata": {
        "id": "YOOigL5WBDOb"
      },
      "source": [
        "def split_date_continues():\n",
        "    #d = split_date()\n",
        "    url = \"https://raw.githubusercontent.com/annassanchez/HY-2021-DataScience/main/week04/Helsingin_pyorailijamaarat.csv\"\n",
        "    data = pd.read_csv(url, sep = ';', header = 0)\n",
        "    d = split_date(data)\n",
        "    data = data.dropna(axis=0, how='all')\n",
        "    data = data.dropna(axis=1, how='all')\n",
        "    #data.drop(['Päivämäärä'], inplace = True, axis = 1)\n",
        "    final = pd.concat([d, data], axis = 1)\n",
        "    final.drop([final.columns.tolist()[5]],inplace = True, axis = 1)\n",
        "    return final#.astype({\"Weekday\":object, \"Day\":np.int32,  \"Month\":np.int32, \"Year\":np.int32, \"Hour\": float})\n"
      ],
      "execution_count": 63,
      "outputs": []
    },
    {
      "cell_type": "code",
      "metadata": {
        "colab": {
          "base_uri": "https://localhost:8080/",
          "height": 424
        },
        "id": "cFE4re8pa99z",
        "outputId": "f8bcab68-0f2f-47c1-b7b9-f41f4f310c58"
      },
      "source": [
        "url = \"https://raw.githubusercontent.com/annassanchez/HY-2021-DataScience/main/week04/Helsingin_pyorailijamaarat.csv\"\n",
        "df = pd.read_csv(url, sep = ';', header = 0)\n",
        "split_date(df)"
      ],
      "execution_count": 53,
      "outputs": [
        {
          "output_type": "execute_result",
          "data": {
            "text/html": [
              "<div>\n",
              "<style scoped>\n",
              "    .dataframe tbody tr th:only-of-type {\n",
              "        vertical-align: middle;\n",
              "    }\n",
              "\n",
              "    .dataframe tbody tr th {\n",
              "        vertical-align: top;\n",
              "    }\n",
              "\n",
              "    .dataframe thead th {\n",
              "        text-align: right;\n",
              "    }\n",
              "</style>\n",
              "<table border=\"1\" class=\"dataframe\">\n",
              "  <thead>\n",
              "    <tr style=\"text-align: right;\">\n",
              "      <th></th>\n",
              "      <th>Weekday</th>\n",
              "      <th>Day</th>\n",
              "      <th>Month</th>\n",
              "      <th>Year</th>\n",
              "      <th>Hour</th>\n",
              "      <th>Päivämäärä</th>\n",
              "    </tr>\n",
              "  </thead>\n",
              "  <tbody>\n",
              "    <tr>\n",
              "      <th>0</th>\n",
              "      <td>Wed</td>\n",
              "      <td>1</td>\n",
              "      <td>1</td>\n",
              "      <td>2014</td>\n",
              "      <td>0</td>\n",
              "      <td>Wed 1 1 2014 0</td>\n",
              "    </tr>\n",
              "    <tr>\n",
              "      <th>1</th>\n",
              "      <td>Wed</td>\n",
              "      <td>1</td>\n",
              "      <td>1</td>\n",
              "      <td>2014</td>\n",
              "      <td>1</td>\n",
              "      <td>Wed 1 1 2014 1</td>\n",
              "    </tr>\n",
              "    <tr>\n",
              "      <th>2</th>\n",
              "      <td>Wed</td>\n",
              "      <td>1</td>\n",
              "      <td>1</td>\n",
              "      <td>2014</td>\n",
              "      <td>2</td>\n",
              "      <td>Wed 1 1 2014 2</td>\n",
              "    </tr>\n",
              "    <tr>\n",
              "      <th>3</th>\n",
              "      <td>Wed</td>\n",
              "      <td>1</td>\n",
              "      <td>1</td>\n",
              "      <td>2014</td>\n",
              "      <td>3</td>\n",
              "      <td>Wed 1 1 2014 3</td>\n",
              "    </tr>\n",
              "    <tr>\n",
              "      <th>4</th>\n",
              "      <td>Wed</td>\n",
              "      <td>1</td>\n",
              "      <td>1</td>\n",
              "      <td>2014</td>\n",
              "      <td>4</td>\n",
              "      <td>Wed 1 1 2014 4</td>\n",
              "    </tr>\n",
              "    <tr>\n",
              "      <th>...</th>\n",
              "      <td>...</td>\n",
              "      <td>...</td>\n",
              "      <td>...</td>\n",
              "      <td>...</td>\n",
              "      <td>...</td>\n",
              "      <td>...</td>\n",
              "    </tr>\n",
              "    <tr>\n",
              "      <th>37123</th>\n",
              "      <td>Tue</td>\n",
              "      <td>27</td>\n",
              "      <td>3</td>\n",
              "      <td>2018</td>\n",
              "      <td>19</td>\n",
              "      <td>Tue 27 3 2018 19</td>\n",
              "    </tr>\n",
              "    <tr>\n",
              "      <th>37124</th>\n",
              "      <td>Tue</td>\n",
              "      <td>27</td>\n",
              "      <td>3</td>\n",
              "      <td>2018</td>\n",
              "      <td>20</td>\n",
              "      <td>Tue 27 3 2018 20</td>\n",
              "    </tr>\n",
              "    <tr>\n",
              "      <th>37125</th>\n",
              "      <td>Tue</td>\n",
              "      <td>27</td>\n",
              "      <td>3</td>\n",
              "      <td>2018</td>\n",
              "      <td>21</td>\n",
              "      <td>Tue 27 3 2018 21</td>\n",
              "    </tr>\n",
              "    <tr>\n",
              "      <th>37126</th>\n",
              "      <td>Tue</td>\n",
              "      <td>27</td>\n",
              "      <td>3</td>\n",
              "      <td>2018</td>\n",
              "      <td>22</td>\n",
              "      <td>Tue 27 3 2018 22</td>\n",
              "    </tr>\n",
              "    <tr>\n",
              "      <th>37127</th>\n",
              "      <td>Tue</td>\n",
              "      <td>27</td>\n",
              "      <td>3</td>\n",
              "      <td>2018</td>\n",
              "      <td>23</td>\n",
              "      <td>Tue 27 3 2018 23</td>\n",
              "    </tr>\n",
              "  </tbody>\n",
              "</table>\n",
              "<p>37128 rows × 6 columns</p>\n",
              "</div>"
            ],
            "text/plain": [
              "      Weekday Day Month  Year  Hour        Päivämäärä\n",
              "0         Wed   1     1  2014     0    Wed 1 1 2014 0\n",
              "1         Wed   1     1  2014     1    Wed 1 1 2014 1\n",
              "2         Wed   1     1  2014     2    Wed 1 1 2014 2\n",
              "3         Wed   1     1  2014     3    Wed 1 1 2014 3\n",
              "4         Wed   1     1  2014     4    Wed 1 1 2014 4\n",
              "...       ...  ..   ...   ...   ...               ...\n",
              "37123     Tue  27     3  2018    19  Tue 27 3 2018 19\n",
              "37124     Tue  27     3  2018    20  Tue 27 3 2018 20\n",
              "37125     Tue  27     3  2018    21  Tue 27 3 2018 21\n",
              "37126     Tue  27     3  2018    22  Tue 27 3 2018 22\n",
              "37127     Tue  27     3  2018    23  Tue 27 3 2018 23\n",
              "\n",
              "[37128 rows x 6 columns]"
            ]
          },
          "metadata": {
            "tags": []
          },
          "execution_count": 53
        }
      ]
    },
    {
      "cell_type": "code",
      "metadata": {
        "colab": {
          "base_uri": "https://localhost:8080/"
        },
        "id": "i34Lr55ka95q",
        "outputId": "aa064f8b-5087-44ea-8d10-154797089abc"
      },
      "source": [
        "df = split_date_continues()\n",
        "print(\"Shape:\", df.shape)\n",
        "print(\"Column names:\\n\", df.columns)\n",
        "print(df.head())"
      ],
      "execution_count": 64,
      "outputs": [
        {
          "output_type": "stream",
          "text": [
            "Shape: (37128, 25)\n",
            "Column names:\n",
            " Index(['Weekday', 'Day', 'Month', 'Year', 'Hour', 'Auroransilta',\n",
            "       'Eteläesplanadi', 'Huopalahti (asema)', 'Kaisaniemi/Eläintarhanlahti',\n",
            "       'Kaivokatu', 'Kulosaaren silta et.', 'Kulosaaren silta po. ',\n",
            "       'Kuusisaarentie', 'Käpylä, Pohjoisbaana',\n",
            "       'Lauttasaaren silta eteläpuoli', 'Merikannontie',\n",
            "       'Munkkiniemen silta eteläpuoli', 'Munkkiniemi silta pohjoispuoli',\n",
            "       'Heperian puisto/Ooppera', 'Pitkäsilta itäpuoli',\n",
            "       'Pitkäsilta länsipuoli', 'Lauttasaaren silta pohjoispuoli',\n",
            "       'Ratapihantie', 'Viikintie', 'Baana'],\n",
            "      dtype='object')\n",
            "  Weekday  Day  Month  ...  Ratapihantie  Viikintie  Baana\n",
            "0     Wed    1      1  ...           NaN        NaN    8.0\n",
            "1     Wed    1      1  ...           NaN        NaN    4.0\n",
            "2     Wed    1      1  ...           NaN        NaN   11.0\n",
            "3     Wed    1      1  ...           NaN        NaN    3.0\n",
            "4     Wed    1      1  ...           NaN        NaN    4.0\n",
            "\n",
            "[5 rows x 25 columns]\n"
          ],
          "name": "stdout"
        }
      ]
    },
    {
      "cell_type": "code",
      "metadata": {
        "colab": {
          "base_uri": "https://localhost:8080/"
        },
        "id": "sPb1BOaxa9sE",
        "outputId": "caa07c05-21af-42d0-c11f-479edc978d2d"
      },
      "source": [
        "## alternative solution\n",
        "days = dict(zip(\"ma ti ke to pe la su\".split(), \"Mon Tue Wed Thu Fri Sat Sun\".split()))\n",
        "months = dict(zip(\"tammi helmi maalis huhti touko kesä heinä elo syys loka marras joulu\".split(), range(1, 13)))\n",
        "\n",
        "def split_date(df):\n",
        "    d = df[\"Päivämäärä\"].str.split(expand=True)\n",
        "    d.columns = [\"Weekday\", \"Day\", \"Month\", \"Year\", \"Hour\"]\n",
        "    hourmin = d[\"Hour\"].str.split(\":\", expand=True)\n",
        "    d[\"Hour\"] = hourmin.iloc[:, 0]\n",
        "    d[\"Weekday\"] = d[\"Weekday\"].map(days)\n",
        "    d[\"Month\"] = d[\"Month\"].map(months)\n",
        "    d = d.astype({\"Weekday\": object, \"Day\": int, \"Month\": int, \"Year\": int, \"Hour\": int})\n",
        "    return d\n",
        "def split_date_continues():\n",
        "    url = \"https://raw.githubusercontent.com/annassanchez/HY-2021-DataScience/main/week04/Helsingin_pyorailijamaarat.csv\"\n",
        "    df = pd.read_csv(url, sep = ';', header = 0)\n",
        "    df = df.dropna(axis=0, how=\"all\").dropna(axis=1, how=\"all\")\n",
        "    d = split_date(df)\n",
        "    df = df.drop(\"Päivämäärä\", axis=1)\n",
        "    result = pd.concat([d, df], axis=1)\n",
        "    return result\n",
        "\n",
        "\n",
        "df = split_date_continues()\n",
        "print(\"Shape:\", df.shape)\n",
        "print(\"Column names:\\n\", df.columns)\n",
        "print(df.head())"
      ],
      "execution_count": 66,
      "outputs": [
        {
          "output_type": "stream",
          "text": [
            "Shape: (37128, 25)\n",
            "Column names:\n",
            " Index(['Weekday', 'Day', 'Month', 'Year', 'Hour', 'Auroransilta',\n",
            "       'Eteläesplanadi', 'Huopalahti (asema)', 'Kaisaniemi/Eläintarhanlahti',\n",
            "       'Kaivokatu', 'Kulosaaren silta et.', 'Kulosaaren silta po. ',\n",
            "       'Kuusisaarentie', 'Käpylä, Pohjoisbaana',\n",
            "       'Lauttasaaren silta eteläpuoli', 'Merikannontie',\n",
            "       'Munkkiniemen silta eteläpuoli', 'Munkkiniemi silta pohjoispuoli',\n",
            "       'Heperian puisto/Ooppera', 'Pitkäsilta itäpuoli',\n",
            "       'Pitkäsilta länsipuoli', 'Lauttasaaren silta pohjoispuoli',\n",
            "       'Ratapihantie', 'Viikintie', 'Baana'],\n",
            "      dtype='object')\n",
            "  Weekday  Day  Month  ...  Ratapihantie  Viikintie  Baana\n",
            "0     Wed    1      1  ...           NaN        NaN    8.0\n",
            "1     Wed    1      1  ...           NaN        NaN    4.0\n",
            "2     Wed    1      1  ...           NaN        NaN   11.0\n",
            "3     Wed    1      1  ...           NaN        NaN    3.0\n",
            "4     Wed    1      1  ...           NaN        NaN    4.0\n",
            "\n",
            "[5 rows x 25 columns]\n"
          ],
          "name": "stdout"
        }
      ]
    },
    {
      "cell_type": "code",
      "metadata": {
        "id": "0KAEmyIBa9n0"
      },
      "source": [
        ""
      ],
      "execution_count": null,
      "outputs": []
    }
  ]
}