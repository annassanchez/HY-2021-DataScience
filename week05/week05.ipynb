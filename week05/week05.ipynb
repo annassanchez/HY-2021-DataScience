{
  "nbformat": 4,
  "nbformat_minor": 0,
  "metadata": {
    "orig_nbformat": 4,
    "colab": {
      "name": "week05.ipynb",
      "provenance": []
    },
    "language_info": {
      "name": "python"
    },
    "kernelspec": {
      "name": "python3",
      "display_name": "Python 3"
    }
  },
  "cells": [
    {
      "cell_type": "markdown",
      "metadata": {
        "id": "iKD6CvdIW9xt"
      },
      "source": [
        "# Pandas (continues)"
      ]
    },
    {
      "cell_type": "code",
      "metadata": {
        "id": "9YgUGW2KW9xv"
      },
      "source": [
        "import pandas as pd\n",
        "import numpy as np"
      ],
      "execution_count": 1,
      "outputs": []
    },
    {
      "cell_type": "markdown",
      "metadata": {
        "id": "YkxgGdSSYrpb"
      },
      "source": [
        "## Catenating datasets"
      ]
    },
    {
      "cell_type": "code",
      "metadata": {
        "id": "URL_7h1nYzDE"
      },
      "source": [
        "# axis = 0 catenates vertically and axis = 1 catenates horizontally. \n",
        "# pandas dataframe works similarly but row indices and the column names require extra attention.\n",
        "# also the difference between np.concatenate & pd.concat\n",
        "## helper for creating dataframes\n",
        "def makedf(cols, ind):\n",
        "    data = {c : [str(c) + str(i) for i in ind] for c in cols}\n",
        "    return pd.DataFrame(data, ind)"
      ],
      "execution_count": 2,
      "outputs": []
    },
    {
      "cell_type": "code",
      "metadata": {
        "colab": {
          "base_uri": "https://localhost:8080/",
          "height": 112
        },
        "id": "_A9_6xcEZZmM",
        "outputId": "6f625217-1526-4abf-e8cf-1d1d524eaf57"
      },
      "source": [
        "a=makedf(\"AB\", [0,1])\n",
        "a"
      ],
      "execution_count": 3,
      "outputs": [
        {
          "output_type": "execute_result",
          "data": {
            "text/html": [
              "<div>\n",
              "<style scoped>\n",
              "    .dataframe tbody tr th:only-of-type {\n",
              "        vertical-align: middle;\n",
              "    }\n",
              "\n",
              "    .dataframe tbody tr th {\n",
              "        vertical-align: top;\n",
              "    }\n",
              "\n",
              "    .dataframe thead th {\n",
              "        text-align: right;\n",
              "    }\n",
              "</style>\n",
              "<table border=\"1\" class=\"dataframe\">\n",
              "  <thead>\n",
              "    <tr style=\"text-align: right;\">\n",
              "      <th></th>\n",
              "      <th>A</th>\n",
              "      <th>B</th>\n",
              "    </tr>\n",
              "  </thead>\n",
              "  <tbody>\n",
              "    <tr>\n",
              "      <th>0</th>\n",
              "      <td>A0</td>\n",
              "      <td>B0</td>\n",
              "    </tr>\n",
              "    <tr>\n",
              "      <th>1</th>\n",
              "      <td>A1</td>\n",
              "      <td>B1</td>\n",
              "    </tr>\n",
              "  </tbody>\n",
              "</table>\n",
              "</div>"
            ],
            "text/plain": [
              "    A   B\n",
              "0  A0  B0\n",
              "1  A1  B1"
            ]
          },
          "metadata": {
            "tags": []
          },
          "execution_count": 3
        }
      ]
    },
    {
      "cell_type": "code",
      "metadata": {
        "colab": {
          "base_uri": "https://localhost:8080/",
          "height": 112
        },
        "id": "GZ1MrLICZb3D",
        "outputId": "6206d9b1-c2be-4322-b840-64505f462093"
      },
      "source": [
        "b=makedf(\"AB\", [2,3])\n",
        "b"
      ],
      "execution_count": 4,
      "outputs": [
        {
          "output_type": "execute_result",
          "data": {
            "text/html": [
              "<div>\n",
              "<style scoped>\n",
              "    .dataframe tbody tr th:only-of-type {\n",
              "        vertical-align: middle;\n",
              "    }\n",
              "\n",
              "    .dataframe tbody tr th {\n",
              "        vertical-align: top;\n",
              "    }\n",
              "\n",
              "    .dataframe thead th {\n",
              "        text-align: right;\n",
              "    }\n",
              "</style>\n",
              "<table border=\"1\" class=\"dataframe\">\n",
              "  <thead>\n",
              "    <tr style=\"text-align: right;\">\n",
              "      <th></th>\n",
              "      <th>A</th>\n",
              "      <th>B</th>\n",
              "    </tr>\n",
              "  </thead>\n",
              "  <tbody>\n",
              "    <tr>\n",
              "      <th>2</th>\n",
              "      <td>A2</td>\n",
              "      <td>B2</td>\n",
              "    </tr>\n",
              "    <tr>\n",
              "      <th>3</th>\n",
              "      <td>A3</td>\n",
              "      <td>B3</td>\n",
              "    </tr>\n",
              "  </tbody>\n",
              "</table>\n",
              "</div>"
            ],
            "text/plain": [
              "    A   B\n",
              "2  A2  B2\n",
              "3  A3  B3"
            ]
          },
          "metadata": {
            "tags": []
          },
          "execution_count": 4
        }
      ]
    },
    {
      "cell_type": "code",
      "metadata": {
        "colab": {
          "base_uri": "https://localhost:8080/",
          "height": 112
        },
        "id": "Y8u5-89DZcJz",
        "outputId": "2f77c689-d703-40e9-bfbd-80899668fa9f"
      },
      "source": [
        "c=makedf(\"CD\", [0,1])\n",
        "c"
      ],
      "execution_count": 5,
      "outputs": [
        {
          "output_type": "execute_result",
          "data": {
            "text/html": [
              "<div>\n",
              "<style scoped>\n",
              "    .dataframe tbody tr th:only-of-type {\n",
              "        vertical-align: middle;\n",
              "    }\n",
              "\n",
              "    .dataframe tbody tr th {\n",
              "        vertical-align: top;\n",
              "    }\n",
              "\n",
              "    .dataframe thead th {\n",
              "        text-align: right;\n",
              "    }\n",
              "</style>\n",
              "<table border=\"1\" class=\"dataframe\">\n",
              "  <thead>\n",
              "    <tr style=\"text-align: right;\">\n",
              "      <th></th>\n",
              "      <th>C</th>\n",
              "      <th>D</th>\n",
              "    </tr>\n",
              "  </thead>\n",
              "  <tbody>\n",
              "    <tr>\n",
              "      <th>0</th>\n",
              "      <td>C0</td>\n",
              "      <td>D0</td>\n",
              "    </tr>\n",
              "    <tr>\n",
              "      <th>1</th>\n",
              "      <td>C1</td>\n",
              "      <td>D1</td>\n",
              "    </tr>\n",
              "  </tbody>\n",
              "</table>\n",
              "</div>"
            ],
            "text/plain": [
              "    C   D\n",
              "0  C0  D0\n",
              "1  C1  D1"
            ]
          },
          "metadata": {
            "tags": []
          },
          "execution_count": 5
        }
      ]
    },
    {
      "cell_type": "code",
      "metadata": {
        "colab": {
          "base_uri": "https://localhost:8080/",
          "height": 112
        },
        "id": "lUcGjHz7ZcNS",
        "outputId": "b1a1a1fd-9159-4e19-a9c6-1ca095023d49"
      },
      "source": [
        "d=makedf(\"BC\", [2,3])\n",
        "d"
      ],
      "execution_count": 6,
      "outputs": [
        {
          "output_type": "execute_result",
          "data": {
            "text/html": [
              "<div>\n",
              "<style scoped>\n",
              "    .dataframe tbody tr th:only-of-type {\n",
              "        vertical-align: middle;\n",
              "    }\n",
              "\n",
              "    .dataframe tbody tr th {\n",
              "        vertical-align: top;\n",
              "    }\n",
              "\n",
              "    .dataframe thead th {\n",
              "        text-align: right;\n",
              "    }\n",
              "</style>\n",
              "<table border=\"1\" class=\"dataframe\">\n",
              "  <thead>\n",
              "    <tr style=\"text-align: right;\">\n",
              "      <th></th>\n",
              "      <th>B</th>\n",
              "      <th>C</th>\n",
              "    </tr>\n",
              "  </thead>\n",
              "  <tbody>\n",
              "    <tr>\n",
              "      <th>2</th>\n",
              "      <td>B2</td>\n",
              "      <td>C2</td>\n",
              "    </tr>\n",
              "    <tr>\n",
              "      <th>3</th>\n",
              "      <td>B3</td>\n",
              "      <td>C3</td>\n",
              "    </tr>\n",
              "  </tbody>\n",
              "</table>\n",
              "</div>"
            ],
            "text/plain": [
              "    B   C\n",
              "2  B2  C2\n",
              "3  B3  C3"
            ]
          },
          "metadata": {
            "tags": []
          },
          "execution_count": 6
        }
      ]
    },
    {
      "cell_type": "code",
      "metadata": {
        "colab": {
          "base_uri": "https://localhost:8080/",
          "height": 175
        },
        "id": "e3w7-Fk0ZcQU",
        "outputId": "dd403bd9-7429-42d4-f51d-a21cb6ccf9ff"
      },
      "source": [
        "## concat a and b -- works as expected\n",
        "pd.concat([a,b])   # The default axis is 0"
      ],
      "execution_count": 7,
      "outputs": [
        {
          "output_type": "execute_result",
          "data": {
            "text/html": [
              "<div>\n",
              "<style scoped>\n",
              "    .dataframe tbody tr th:only-of-type {\n",
              "        vertical-align: middle;\n",
              "    }\n",
              "\n",
              "    .dataframe tbody tr th {\n",
              "        vertical-align: top;\n",
              "    }\n",
              "\n",
              "    .dataframe thead th {\n",
              "        text-align: right;\n",
              "    }\n",
              "</style>\n",
              "<table border=\"1\" class=\"dataframe\">\n",
              "  <thead>\n",
              "    <tr style=\"text-align: right;\">\n",
              "      <th></th>\n",
              "      <th>A</th>\n",
              "      <th>B</th>\n",
              "    </tr>\n",
              "  </thead>\n",
              "  <tbody>\n",
              "    <tr>\n",
              "      <th>0</th>\n",
              "      <td>A0</td>\n",
              "      <td>B0</td>\n",
              "    </tr>\n",
              "    <tr>\n",
              "      <th>1</th>\n",
              "      <td>A1</td>\n",
              "      <td>B1</td>\n",
              "    </tr>\n",
              "    <tr>\n",
              "      <th>2</th>\n",
              "      <td>A2</td>\n",
              "      <td>B2</td>\n",
              "    </tr>\n",
              "    <tr>\n",
              "      <th>3</th>\n",
              "      <td>A3</td>\n",
              "      <td>B3</td>\n",
              "    </tr>\n",
              "  </tbody>\n",
              "</table>\n",
              "</div>"
            ],
            "text/plain": [
              "    A   B\n",
              "0  A0  B0\n",
              "1  A1  B1\n",
              "2  A2  B2\n",
              "3  A3  B3"
            ]
          },
          "metadata": {
            "tags": []
          },
          "execution_count": 7
        }
      ]
    },
    {
      "cell_type": "code",
      "metadata": {
        "colab": {
          "base_uri": "https://localhost:8080/",
          "height": 175
        },
        "id": "j5KEvsZpZpH8",
        "outputId": "72eb8a8e-53dd-44d1-c0ae-024c0f1dd83f"
      },
      "source": [
        "r=pd.concat([a,a])\n",
        "r"
      ],
      "execution_count": 8,
      "outputs": [
        {
          "output_type": "execute_result",
          "data": {
            "text/html": [
              "<div>\n",
              "<style scoped>\n",
              "    .dataframe tbody tr th:only-of-type {\n",
              "        vertical-align: middle;\n",
              "    }\n",
              "\n",
              "    .dataframe tbody tr th {\n",
              "        vertical-align: top;\n",
              "    }\n",
              "\n",
              "    .dataframe thead th {\n",
              "        text-align: right;\n",
              "    }\n",
              "</style>\n",
              "<table border=\"1\" class=\"dataframe\">\n",
              "  <thead>\n",
              "    <tr style=\"text-align: right;\">\n",
              "      <th></th>\n",
              "      <th>A</th>\n",
              "      <th>B</th>\n",
              "    </tr>\n",
              "  </thead>\n",
              "  <tbody>\n",
              "    <tr>\n",
              "      <th>0</th>\n",
              "      <td>A0</td>\n",
              "      <td>B0</td>\n",
              "    </tr>\n",
              "    <tr>\n",
              "      <th>1</th>\n",
              "      <td>A1</td>\n",
              "      <td>B1</td>\n",
              "    </tr>\n",
              "    <tr>\n",
              "      <th>0</th>\n",
              "      <td>A0</td>\n",
              "      <td>B0</td>\n",
              "    </tr>\n",
              "    <tr>\n",
              "      <th>1</th>\n",
              "      <td>A1</td>\n",
              "      <td>B1</td>\n",
              "    </tr>\n",
              "  </tbody>\n",
              "</table>\n",
              "</div>"
            ],
            "text/plain": [
              "    A   B\n",
              "0  A0  B0\n",
              "1  A1  B1\n",
              "0  A0  B0\n",
              "1  A1  B1"
            ]
          },
          "metadata": {
            "tags": []
          },
          "execution_count": 8
        }
      ]
    },
    {
      "cell_type": "code",
      "metadata": {
        "colab": {
          "base_uri": "https://localhost:8080/"
        },
        "id": "tpfQxGSxZpTc",
        "outputId": "498e11a3-05c7-4eee-be47-dd7fe5bc6b79"
      },
      "source": [
        "r.loc[0,\"A\"]"
      ],
      "execution_count": 9,
      "outputs": [
        {
          "output_type": "execute_result",
          "data": {
            "text/plain": [
              "0    A0\n",
              "0    A0\n",
              "Name: A, dtype: object"
            ]
          },
          "metadata": {
            "tags": []
          },
          "execution_count": 9
        }
      ]
    },
    {
      "cell_type": "code",
      "metadata": {
        "colab": {
          "base_uri": "https://localhost:8080/"
        },
        "id": "blFRMxzqZpXT",
        "outputId": "5f05c366-c4b2-422d-f2b4-ffd342a7dcf4"
      },
      "source": [
        "## indices should be unique, so that's not what we aim to. \n",
        "## here's a tool to chek duplicated indices\n",
        "try:\n",
        "    pd.concat([a,a], verify_integrity=True)\n",
        "except ValueError as e:\n",
        "    import sys\n",
        "    print(e, file=sys.stderr)"
      ],
      "execution_count": 10,
      "outputs": [
        {
          "output_type": "stream",
          "text": [
            "Indexes have overlapping values: Int64Index([0, 1], dtype='int64')\n"
          ],
          "name": "stderr"
        }
      ]
    },
    {
      "cell_type": "code",
      "metadata": {
        "colab": {
          "base_uri": "https://localhost:8080/",
          "height": 175
        },
        "id": "uedSTIMUZpaF",
        "outputId": "eb104f9f-1879-4580-c9ff-f5c21a77c30b"
      },
      "source": [
        "## automatic renumbering of rows\n",
        "pd.concat([a,a], ignore_index=True)"
      ],
      "execution_count": 11,
      "outputs": [
        {
          "output_type": "execute_result",
          "data": {
            "text/html": [
              "<div>\n",
              "<style scoped>\n",
              "    .dataframe tbody tr th:only-of-type {\n",
              "        vertical-align: middle;\n",
              "    }\n",
              "\n",
              "    .dataframe tbody tr th {\n",
              "        vertical-align: top;\n",
              "    }\n",
              "\n",
              "    .dataframe thead th {\n",
              "        text-align: right;\n",
              "    }\n",
              "</style>\n",
              "<table border=\"1\" class=\"dataframe\">\n",
              "  <thead>\n",
              "    <tr style=\"text-align: right;\">\n",
              "      <th></th>\n",
              "      <th>A</th>\n",
              "      <th>B</th>\n",
              "    </tr>\n",
              "  </thead>\n",
              "  <tbody>\n",
              "    <tr>\n",
              "      <th>0</th>\n",
              "      <td>A0</td>\n",
              "      <td>B0</td>\n",
              "    </tr>\n",
              "    <tr>\n",
              "      <th>1</th>\n",
              "      <td>A1</td>\n",
              "      <td>B1</td>\n",
              "    </tr>\n",
              "    <tr>\n",
              "      <th>2</th>\n",
              "      <td>A0</td>\n",
              "      <td>B0</td>\n",
              "    </tr>\n",
              "    <tr>\n",
              "      <th>3</th>\n",
              "      <td>A1</td>\n",
              "      <td>B1</td>\n",
              "    </tr>\n",
              "  </tbody>\n",
              "</table>\n",
              "</div>"
            ],
            "text/plain": [
              "    A   B\n",
              "0  A0  B0\n",
              "1  A1  B1\n",
              "2  A0  B0\n",
              "3  A1  B1"
            ]
          },
          "metadata": {
            "tags": []
          },
          "execution_count": 11
        }
      ]
    },
    {
      "cell_type": "code",
      "metadata": {
        "colab": {
          "base_uri": "https://localhost:8080/",
          "height": 175
        },
        "id": "mEWq5ozgaF6b",
        "outputId": "280c61a1-6754-4747-9e05-ba609e274a55"
      },
      "source": [
        "## hierarchical indexing -- multiple level indices\n",
        "r2=pd.concat([a,a], keys=['first', 'second'])\n",
        "r2"
      ],
      "execution_count": 12,
      "outputs": [
        {
          "output_type": "execute_result",
          "data": {
            "text/html": [
              "<div>\n",
              "<style scoped>\n",
              "    .dataframe tbody tr th:only-of-type {\n",
              "        vertical-align: middle;\n",
              "    }\n",
              "\n",
              "    .dataframe tbody tr th {\n",
              "        vertical-align: top;\n",
              "    }\n",
              "\n",
              "    .dataframe thead th {\n",
              "        text-align: right;\n",
              "    }\n",
              "</style>\n",
              "<table border=\"1\" class=\"dataframe\">\n",
              "  <thead>\n",
              "    <tr style=\"text-align: right;\">\n",
              "      <th></th>\n",
              "      <th></th>\n",
              "      <th>A</th>\n",
              "      <th>B</th>\n",
              "    </tr>\n",
              "  </thead>\n",
              "  <tbody>\n",
              "    <tr>\n",
              "      <th rowspan=\"2\" valign=\"top\">first</th>\n",
              "      <th>0</th>\n",
              "      <td>A0</td>\n",
              "      <td>B0</td>\n",
              "    </tr>\n",
              "    <tr>\n",
              "      <th>1</th>\n",
              "      <td>A1</td>\n",
              "      <td>B1</td>\n",
              "    </tr>\n",
              "    <tr>\n",
              "      <th rowspan=\"2\" valign=\"top\">second</th>\n",
              "      <th>0</th>\n",
              "      <td>A0</td>\n",
              "      <td>B0</td>\n",
              "    </tr>\n",
              "    <tr>\n",
              "      <th>1</th>\n",
              "      <td>A1</td>\n",
              "      <td>B1</td>\n",
              "    </tr>\n",
              "  </tbody>\n",
              "</table>\n",
              "</div>"
            ],
            "text/plain": [
              "           A   B\n",
              "first  0  A0  B0\n",
              "       1  A1  B1\n",
              "second 0  A0  B0\n",
              "       1  A1  B1"
            ]
          },
          "metadata": {
            "tags": []
          },
          "execution_count": 12
        }
      ]
    },
    {
      "cell_type": "code",
      "metadata": {
        "colab": {
          "base_uri": "https://localhost:8080/",
          "height": 36
        },
        "id": "sV4fhvBMaGFj",
        "outputId": "973a7349-cd29-416a-d54e-cbbd988ec242"
      },
      "source": [
        "r2[\"A\"][\"first\"][0] # works as numpy"
      ],
      "execution_count": 13,
      "outputs": [
        {
          "output_type": "execute_result",
          "data": {
            "application/vnd.google.colaboratory.intrinsic+json": {
              "type": "string"
            },
            "text/plain": [
              "'A0'"
            ]
          },
          "metadata": {
            "tags": []
          },
          "execution_count": 13
        }
      ]
    },
    {
      "cell_type": "code",
      "metadata": {
        "colab": {
          "base_uri": "https://localhost:8080/",
          "height": 112
        },
        "id": "4MZyBWyIaGKa",
        "outputId": "35db4f35-34fc-44c4-dec5-8819e93e8444"
      },
      "source": [
        "## it works similarly with horizontal catenation\n",
        "pd.concat([a,c], axis=1)"
      ],
      "execution_count": 14,
      "outputs": [
        {
          "output_type": "execute_result",
          "data": {
            "text/html": [
              "<div>\n",
              "<style scoped>\n",
              "    .dataframe tbody tr th:only-of-type {\n",
              "        vertical-align: middle;\n",
              "    }\n",
              "\n",
              "    .dataframe tbody tr th {\n",
              "        vertical-align: top;\n",
              "    }\n",
              "\n",
              "    .dataframe thead th {\n",
              "        text-align: right;\n",
              "    }\n",
              "</style>\n",
              "<table border=\"1\" class=\"dataframe\">\n",
              "  <thead>\n",
              "    <tr style=\"text-align: right;\">\n",
              "      <th></th>\n",
              "      <th>A</th>\n",
              "      <th>B</th>\n",
              "      <th>C</th>\n",
              "      <th>D</th>\n",
              "    </tr>\n",
              "  </thead>\n",
              "  <tbody>\n",
              "    <tr>\n",
              "      <th>0</th>\n",
              "      <td>A0</td>\n",
              "      <td>B0</td>\n",
              "      <td>C0</td>\n",
              "      <td>D0</td>\n",
              "    </tr>\n",
              "    <tr>\n",
              "      <th>1</th>\n",
              "      <td>A1</td>\n",
              "      <td>B1</td>\n",
              "      <td>C1</td>\n",
              "      <td>D1</td>\n",
              "    </tr>\n",
              "  </tbody>\n",
              "</table>\n",
              "</div>"
            ],
            "text/plain": [
              "    A   B   C   D\n",
              "0  A0  B0  C0  D0\n",
              "1  A1  B1  C1  D1"
            ]
          },
          "metadata": {
            "tags": []
          },
          "execution_count": 14
        }
      ]
    },
    {
      "cell_type": "code",
      "metadata": {
        "colab": {
          "base_uri": "https://localhost:8080/",
          "height": 175
        },
        "id": "b9JGhNJlaGNU",
        "outputId": "075f45f9-7716-4fd9-989c-4f3565e0bf21"
      },
      "source": [
        "## if you concatenate vertically two DataFrames that don't have the same columns\n",
        "## this is called outer join, considers all the columns (the common ones and the different ones)\n",
        "pd.concat([a,d], sort=False)    # sort option is used to silence a deprecation message"
      ],
      "execution_count": 15,
      "outputs": [
        {
          "output_type": "execute_result",
          "data": {
            "text/html": [
              "<div>\n",
              "<style scoped>\n",
              "    .dataframe tbody tr th:only-of-type {\n",
              "        vertical-align: middle;\n",
              "    }\n",
              "\n",
              "    .dataframe tbody tr th {\n",
              "        vertical-align: top;\n",
              "    }\n",
              "\n",
              "    .dataframe thead th {\n",
              "        text-align: right;\n",
              "    }\n",
              "</style>\n",
              "<table border=\"1\" class=\"dataframe\">\n",
              "  <thead>\n",
              "    <tr style=\"text-align: right;\">\n",
              "      <th></th>\n",
              "      <th>A</th>\n",
              "      <th>B</th>\n",
              "      <th>C</th>\n",
              "    </tr>\n",
              "  </thead>\n",
              "  <tbody>\n",
              "    <tr>\n",
              "      <th>0</th>\n",
              "      <td>A0</td>\n",
              "      <td>B0</td>\n",
              "      <td>NaN</td>\n",
              "    </tr>\n",
              "    <tr>\n",
              "      <th>1</th>\n",
              "      <td>A1</td>\n",
              "      <td>B1</td>\n",
              "      <td>NaN</td>\n",
              "    </tr>\n",
              "    <tr>\n",
              "      <th>2</th>\n",
              "      <td>NaN</td>\n",
              "      <td>B2</td>\n",
              "      <td>C2</td>\n",
              "    </tr>\n",
              "    <tr>\n",
              "      <th>3</th>\n",
              "      <td>NaN</td>\n",
              "      <td>B3</td>\n",
              "      <td>C3</td>\n",
              "    </tr>\n",
              "  </tbody>\n",
              "</table>\n",
              "</div>"
            ],
            "text/plain": [
              "     A   B    C\n",
              "0   A0  B0  NaN\n",
              "1   A1  B1  NaN\n",
              "2  NaN  B2   C2\n",
              "3  NaN  B3   C3"
            ]
          },
          "metadata": {
            "tags": []
          },
          "execution_count": 15
        }
      ]
    },
    {
      "cell_type": "code",
      "metadata": {
        "colab": {
          "base_uri": "https://localhost:8080/",
          "height": 175
        },
        "id": "t8FcwNFXa-EC",
        "outputId": "023ad8e8-74cc-4ce0-f6c6-e08c8c84a8d1"
      },
      "source": [
        "## here is the same catenation but with inner join\n",
        "pd.concat([a,d], join=\"inner\")"
      ],
      "execution_count": 16,
      "outputs": [
        {
          "output_type": "execute_result",
          "data": {
            "text/html": [
              "<div>\n",
              "<style scoped>\n",
              "    .dataframe tbody tr th:only-of-type {\n",
              "        vertical-align: middle;\n",
              "    }\n",
              "\n",
              "    .dataframe tbody tr th {\n",
              "        vertical-align: top;\n",
              "    }\n",
              "\n",
              "    .dataframe thead th {\n",
              "        text-align: right;\n",
              "    }\n",
              "</style>\n",
              "<table border=\"1\" class=\"dataframe\">\n",
              "  <thead>\n",
              "    <tr style=\"text-align: right;\">\n",
              "      <th></th>\n",
              "      <th>B</th>\n",
              "    </tr>\n",
              "  </thead>\n",
              "  <tbody>\n",
              "    <tr>\n",
              "      <th>0</th>\n",
              "      <td>B0</td>\n",
              "    </tr>\n",
              "    <tr>\n",
              "      <th>1</th>\n",
              "      <td>B1</td>\n",
              "    </tr>\n",
              "    <tr>\n",
              "      <th>2</th>\n",
              "      <td>B2</td>\n",
              "    </tr>\n",
              "    <tr>\n",
              "      <th>3</th>\n",
              "      <td>B3</td>\n",
              "    </tr>\n",
              "  </tbody>\n",
              "</table>\n",
              "</div>"
            ],
            "text/plain": [
              "    B\n",
              "0  B0\n",
              "1  B1\n",
              "2  B2\n",
              "3  B3"
            ]
          },
          "metadata": {
            "tags": []
          },
          "execution_count": 16
        }
      ]
    },
    {
      "cell_type": "code",
      "metadata": {
        "id": "rz3_Q24ta-A6"
      },
      "source": [
        "## exercose 01 (split date continues)\n",
        "#url = \"https://raw.githubusercontent.com/annassanchez/HY-2021-DataScience/main/week04/Helsingin_pyorailijamaarat.csv\"\n",
        "#kk = pd.read_csv(url, sep = ';', header = 0)\n",
        "\n",
        "def split_date(df):\n",
        "    df = df.dropna(axis=0, how='all')\n",
        "    df = df.dropna(axis=1, how='all')\n",
        "    df[[\"Weekday\", \"Day\", \"Month\", \"Year\", \"Hour\"]] = df['Päivämäärä'].str.split(expand=True)\n",
        "    df[[\"Weekday\"]] = df[[\"Weekday\"]].replace({\"ma\": \"Mon\", \"ti\": \"Tue\", \"ke\": \"Wed\", \"to\": \"Thu\", \n",
        "        \"pe\": \"Fri\", \"la\": \"Sat\", \"su\": \"Sun\"})\n",
        "    df[[\"Month\"]] = df[[\"Month\"]].replace({\"tammi\": \"1\", \"helmi\": \"2\", \"maalis\": \"3\", \"huhti\": \"4\", \n",
        "        \"touko\": \"5\", \"kesä\": \"6\", \"heinä\": \"7\", \"elo\": \"8\", \"syys\": \"9\", \"loka\": \"10\", \"marras\": \"11\",\n",
        "        \"joulu\": \"12\"})\n",
        "    df[\"Hour\"] = df[\"Hour\"].str.split(\":\", expand=True)[0].map(int)\n",
        "    df['Päivämäärä'] = df[\"Weekday\"] + \" \" + df[\"Day\"] + \" \" + df[\"Month\"] + \" \" + df[\"Year\"] + \" \" + df[\"Hour\"].map(str)\n",
        "    df = df[df.columns.tolist()[-5:] + [df.columns.tolist()[0]]]\n",
        "    return df.astype({\"Weekday\":object, \"Day\":int,  \"Month\":int, \"Year\":int, \"Hour\": int})"
      ],
      "execution_count": 17,
      "outputs": []
    },
    {
      "cell_type": "code",
      "metadata": {
        "id": "YOOigL5WBDOb"
      },
      "source": [
        "def split_date_continues():\n",
        "    #d = split_date()\n",
        "    url = \"https://raw.githubusercontent.com/annassanchez/HY-2021-DataScience/main/week04/Helsingin_pyorailijamaarat.csv\"\n",
        "    data = pd.read_csv(url, sep = ';', header = 0)\n",
        "    d = split_date(data)\n",
        "    data = data.dropna(axis=0, how='all')\n",
        "    data = data.dropna(axis=1, how='all')\n",
        "    #data.drop(['Päivämäärä'], inplace = True, axis = 1)\n",
        "    final = pd.concat([d, data], axis = 1)\n",
        "    final.drop([final.columns.tolist()[5]],inplace = True, axis = 1)\n",
        "    return final#.astype({\"Weekday\":object, \"Day\":np.int32,  \"Month\":np.int32, \"Year\":np.int32, \"Hour\": float})\n"
      ],
      "execution_count": 18,
      "outputs": []
    },
    {
      "cell_type": "code",
      "metadata": {
        "colab": {
          "base_uri": "https://localhost:8080/",
          "height": 424
        },
        "id": "cFE4re8pa99z",
        "outputId": "77899c8e-eb2b-4f08-b8a6-e4a760587e33"
      },
      "source": [
        "url = \"https://raw.githubusercontent.com/annassanchez/HY-2021-DataScience/main/week04/Helsingin_pyorailijamaarat.csv\"\n",
        "df = pd.read_csv(url, sep = ';', header = 0)\n",
        "split_date(df)"
      ],
      "execution_count": 19,
      "outputs": [
        {
          "output_type": "execute_result",
          "data": {
            "text/html": [
              "<div>\n",
              "<style scoped>\n",
              "    .dataframe tbody tr th:only-of-type {\n",
              "        vertical-align: middle;\n",
              "    }\n",
              "\n",
              "    .dataframe tbody tr th {\n",
              "        vertical-align: top;\n",
              "    }\n",
              "\n",
              "    .dataframe thead th {\n",
              "        text-align: right;\n",
              "    }\n",
              "</style>\n",
              "<table border=\"1\" class=\"dataframe\">\n",
              "  <thead>\n",
              "    <tr style=\"text-align: right;\">\n",
              "      <th></th>\n",
              "      <th>Weekday</th>\n",
              "      <th>Day</th>\n",
              "      <th>Month</th>\n",
              "      <th>Year</th>\n",
              "      <th>Hour</th>\n",
              "      <th>Päivämäärä</th>\n",
              "    </tr>\n",
              "  </thead>\n",
              "  <tbody>\n",
              "    <tr>\n",
              "      <th>0</th>\n",
              "      <td>Wed</td>\n",
              "      <td>1</td>\n",
              "      <td>1</td>\n",
              "      <td>2014</td>\n",
              "      <td>0</td>\n",
              "      <td>Wed 1 1 2014 0</td>\n",
              "    </tr>\n",
              "    <tr>\n",
              "      <th>1</th>\n",
              "      <td>Wed</td>\n",
              "      <td>1</td>\n",
              "      <td>1</td>\n",
              "      <td>2014</td>\n",
              "      <td>1</td>\n",
              "      <td>Wed 1 1 2014 1</td>\n",
              "    </tr>\n",
              "    <tr>\n",
              "      <th>2</th>\n",
              "      <td>Wed</td>\n",
              "      <td>1</td>\n",
              "      <td>1</td>\n",
              "      <td>2014</td>\n",
              "      <td>2</td>\n",
              "      <td>Wed 1 1 2014 2</td>\n",
              "    </tr>\n",
              "    <tr>\n",
              "      <th>3</th>\n",
              "      <td>Wed</td>\n",
              "      <td>1</td>\n",
              "      <td>1</td>\n",
              "      <td>2014</td>\n",
              "      <td>3</td>\n",
              "      <td>Wed 1 1 2014 3</td>\n",
              "    </tr>\n",
              "    <tr>\n",
              "      <th>4</th>\n",
              "      <td>Wed</td>\n",
              "      <td>1</td>\n",
              "      <td>1</td>\n",
              "      <td>2014</td>\n",
              "      <td>4</td>\n",
              "      <td>Wed 1 1 2014 4</td>\n",
              "    </tr>\n",
              "    <tr>\n",
              "      <th>...</th>\n",
              "      <td>...</td>\n",
              "      <td>...</td>\n",
              "      <td>...</td>\n",
              "      <td>...</td>\n",
              "      <td>...</td>\n",
              "      <td>...</td>\n",
              "    </tr>\n",
              "    <tr>\n",
              "      <th>37123</th>\n",
              "      <td>Tue</td>\n",
              "      <td>27</td>\n",
              "      <td>3</td>\n",
              "      <td>2018</td>\n",
              "      <td>19</td>\n",
              "      <td>Tue 27 3 2018 19</td>\n",
              "    </tr>\n",
              "    <tr>\n",
              "      <th>37124</th>\n",
              "      <td>Tue</td>\n",
              "      <td>27</td>\n",
              "      <td>3</td>\n",
              "      <td>2018</td>\n",
              "      <td>20</td>\n",
              "      <td>Tue 27 3 2018 20</td>\n",
              "    </tr>\n",
              "    <tr>\n",
              "      <th>37125</th>\n",
              "      <td>Tue</td>\n",
              "      <td>27</td>\n",
              "      <td>3</td>\n",
              "      <td>2018</td>\n",
              "      <td>21</td>\n",
              "      <td>Tue 27 3 2018 21</td>\n",
              "    </tr>\n",
              "    <tr>\n",
              "      <th>37126</th>\n",
              "      <td>Tue</td>\n",
              "      <td>27</td>\n",
              "      <td>3</td>\n",
              "      <td>2018</td>\n",
              "      <td>22</td>\n",
              "      <td>Tue 27 3 2018 22</td>\n",
              "    </tr>\n",
              "    <tr>\n",
              "      <th>37127</th>\n",
              "      <td>Tue</td>\n",
              "      <td>27</td>\n",
              "      <td>3</td>\n",
              "      <td>2018</td>\n",
              "      <td>23</td>\n",
              "      <td>Tue 27 3 2018 23</td>\n",
              "    </tr>\n",
              "  </tbody>\n",
              "</table>\n",
              "<p>37128 rows × 6 columns</p>\n",
              "</div>"
            ],
            "text/plain": [
              "      Weekday  Day  Month  Year  Hour        Päivämäärä\n",
              "0         Wed    1      1  2014     0    Wed 1 1 2014 0\n",
              "1         Wed    1      1  2014     1    Wed 1 1 2014 1\n",
              "2         Wed    1      1  2014     2    Wed 1 1 2014 2\n",
              "3         Wed    1      1  2014     3    Wed 1 1 2014 3\n",
              "4         Wed    1      1  2014     4    Wed 1 1 2014 4\n",
              "...       ...  ...    ...   ...   ...               ...\n",
              "37123     Tue   27      3  2018    19  Tue 27 3 2018 19\n",
              "37124     Tue   27      3  2018    20  Tue 27 3 2018 20\n",
              "37125     Tue   27      3  2018    21  Tue 27 3 2018 21\n",
              "37126     Tue   27      3  2018    22  Tue 27 3 2018 22\n",
              "37127     Tue   27      3  2018    23  Tue 27 3 2018 23\n",
              "\n",
              "[37128 rows x 6 columns]"
            ]
          },
          "metadata": {
            "tags": []
          },
          "execution_count": 19
        }
      ]
    },
    {
      "cell_type": "code",
      "metadata": {
        "colab": {
          "base_uri": "https://localhost:8080/"
        },
        "id": "i34Lr55ka95q",
        "outputId": "0807b706-c7c7-4fa9-8fb5-d3a9cc729c0b"
      },
      "source": [
        "df = split_date_continues()\n",
        "print(\"Shape:\", df.shape)\n",
        "print(\"Column names:\\n\", df.columns)\n",
        "print(df.head())"
      ],
      "execution_count": 20,
      "outputs": [
        {
          "output_type": "stream",
          "text": [
            "Shape: (37128, 25)\n",
            "Column names:\n",
            " Index(['Weekday', 'Day', 'Month', 'Year', 'Hour', 'Auroransilta',\n",
            "       'Eteläesplanadi', 'Huopalahti (asema)', 'Kaisaniemi/Eläintarhanlahti',\n",
            "       'Kaivokatu', 'Kulosaaren silta et.', 'Kulosaaren silta po. ',\n",
            "       'Kuusisaarentie', 'Käpylä, Pohjoisbaana',\n",
            "       'Lauttasaaren silta eteläpuoli', 'Merikannontie',\n",
            "       'Munkkiniemen silta eteläpuoli', 'Munkkiniemi silta pohjoispuoli',\n",
            "       'Heperian puisto/Ooppera', 'Pitkäsilta itäpuoli',\n",
            "       'Pitkäsilta länsipuoli', 'Lauttasaaren silta pohjoispuoli',\n",
            "       'Ratapihantie', 'Viikintie', 'Baana'],\n",
            "      dtype='object')\n",
            "  Weekday  Day  Month  ...  Ratapihantie  Viikintie  Baana\n",
            "0     Wed    1      1  ...           NaN        NaN    8.0\n",
            "1     Wed    1      1  ...           NaN        NaN    4.0\n",
            "2     Wed    1      1  ...           NaN        NaN   11.0\n",
            "3     Wed    1      1  ...           NaN        NaN    3.0\n",
            "4     Wed    1      1  ...           NaN        NaN    4.0\n",
            "\n",
            "[5 rows x 25 columns]\n"
          ],
          "name": "stdout"
        }
      ]
    },
    {
      "cell_type": "code",
      "metadata": {
        "colab": {
          "base_uri": "https://localhost:8080/"
        },
        "id": "sPb1BOaxa9sE",
        "outputId": "27b32925-5e0d-4766-db88-e1e22f9f26cd"
      },
      "source": [
        "## alternative solution\n",
        "days = dict(zip(\"ma ti ke to pe la su\".split(), \"Mon Tue Wed Thu Fri Sat Sun\".split()))\n",
        "months = dict(zip(\"tammi helmi maalis huhti touko kesä heinä elo syys loka marras joulu\".split(), range(1, 13)))\n",
        "\n",
        "def split_date(df):\n",
        "    d = df[\"Päivämäärä\"].str.split(expand=True)\n",
        "    d.columns = [\"Weekday\", \"Day\", \"Month\", \"Year\", \"Hour\"]\n",
        "    hourmin = d[\"Hour\"].str.split(\":\", expand=True)\n",
        "    d[\"Hour\"] = hourmin.iloc[:, 0]\n",
        "    d[\"Weekday\"] = d[\"Weekday\"].map(days)\n",
        "    d[\"Month\"] = d[\"Month\"].map(months)\n",
        "    d = d.astype({\"Weekday\": object, \"Day\": int, \"Month\": int, \"Year\": int, \"Hour\": int})\n",
        "    return d\n",
        "def split_date_continues():\n",
        "    url = \"https://raw.githubusercontent.com/annassanchez/HY-2021-DataScience/main/week04/Helsingin_pyorailijamaarat.csv\"\n",
        "    df = pd.read_csv(url, sep = ';', header = 0)\n",
        "    df = df.dropna(axis=0, how=\"all\").dropna(axis=1, how=\"all\")\n",
        "    d = split_date(df)\n",
        "    df = df.drop(\"Päivämäärä\", axis=1)\n",
        "    result = pd.concat([d, df], axis=1)\n",
        "    return result\n",
        "\n",
        "\n",
        "df = split_date_continues()\n",
        "print(\"Shape:\", df.shape)\n",
        "print(\"Column names:\\n\", df.columns)\n",
        "print(df.head())"
      ],
      "execution_count": 21,
      "outputs": [
        {
          "output_type": "stream",
          "text": [
            "Shape: (37128, 25)\n",
            "Column names:\n",
            " Index(['Weekday', 'Day', 'Month', 'Year', 'Hour', 'Auroransilta',\n",
            "       'Eteläesplanadi', 'Huopalahti (asema)', 'Kaisaniemi/Eläintarhanlahti',\n",
            "       'Kaivokatu', 'Kulosaaren silta et.', 'Kulosaaren silta po. ',\n",
            "       'Kuusisaarentie', 'Käpylä, Pohjoisbaana',\n",
            "       'Lauttasaaren silta eteläpuoli', 'Merikannontie',\n",
            "       'Munkkiniemen silta eteläpuoli', 'Munkkiniemi silta pohjoispuoli',\n",
            "       'Heperian puisto/Ooppera', 'Pitkäsilta itäpuoli',\n",
            "       'Pitkäsilta länsipuoli', 'Lauttasaaren silta pohjoispuoli',\n",
            "       'Ratapihantie', 'Viikintie', 'Baana'],\n",
            "      dtype='object')\n",
            "  Weekday  Day  Month  ...  Ratapihantie  Viikintie  Baana\n",
            "0     Wed    1      1  ...           NaN        NaN    8.0\n",
            "1     Wed    1      1  ...           NaN        NaN    4.0\n",
            "2     Wed    1      1  ...           NaN        NaN   11.0\n",
            "3     Wed    1      1  ...           NaN        NaN    3.0\n",
            "4     Wed    1      1  ...           NaN        NaN    4.0\n",
            "\n",
            "[5 rows x 25 columns]\n"
          ],
          "name": "stdout"
        }
      ]
    },
    {
      "cell_type": "markdown",
      "metadata": {
        "id": "IMbMDZkZNADq"
      },
      "source": [
        "##Merging dataframes"
      ]
    },
    {
      "cell_type": "code",
      "metadata": {
        "id": "0KAEmyIBa9n0",
        "colab": {
          "base_uri": "https://localhost:8080/",
          "height": 112
        },
        "outputId": "a5c52c56-e20d-4c1e-b29c-d46133336b21"
      },
      "source": [
        "## original dataframe with the wages and ages\n",
        "df = pd.DataFrame([[1000, \"Jack\", 21], [1500, \"John\", 29]], columns=[\"Wage\", \"Name\", \"Age\"])\n",
        "df"
      ],
      "execution_count": 22,
      "outputs": [
        {
          "output_type": "execute_result",
          "data": {
            "text/html": [
              "<div>\n",
              "<style scoped>\n",
              "    .dataframe tbody tr th:only-of-type {\n",
              "        vertical-align: middle;\n",
              "    }\n",
              "\n",
              "    .dataframe tbody tr th {\n",
              "        vertical-align: top;\n",
              "    }\n",
              "\n",
              "    .dataframe thead th {\n",
              "        text-align: right;\n",
              "    }\n",
              "</style>\n",
              "<table border=\"1\" class=\"dataframe\">\n",
              "  <thead>\n",
              "    <tr style=\"text-align: right;\">\n",
              "      <th></th>\n",
              "      <th>Wage</th>\n",
              "      <th>Name</th>\n",
              "      <th>Age</th>\n",
              "    </tr>\n",
              "  </thead>\n",
              "  <tbody>\n",
              "    <tr>\n",
              "      <th>0</th>\n",
              "      <td>1000</td>\n",
              "      <td>Jack</td>\n",
              "      <td>21</td>\n",
              "    </tr>\n",
              "    <tr>\n",
              "      <th>1</th>\n",
              "      <td>1500</td>\n",
              "      <td>John</td>\n",
              "      <td>29</td>\n",
              "    </tr>\n",
              "  </tbody>\n",
              "</table>\n",
              "</div>"
            ],
            "text/plain": [
              "   Wage  Name  Age\n",
              "0  1000  Jack   21\n",
              "1  1500  John   29"
            ]
          },
          "metadata": {
            "tags": []
          },
          "execution_count": 22
        }
      ]
    },
    {
      "cell_type": "code",
      "metadata": {
        "colab": {
          "base_uri": "https://localhost:8080/",
          "height": 112
        },
        "id": "TYk5UPvMNNC-",
        "outputId": "455a7162-db5e-4c52-daae-9e0bbd77441b"
      },
      "source": [
        "## occupations of persons\n",
        "df2 = pd.DataFrame({\"Name\" : [\"John\", \"Jack\"], \"Occupation\": [\"Plumber\", \"Carpenter\"]})\n",
        "df2"
      ],
      "execution_count": 23,
      "outputs": [
        {
          "output_type": "execute_result",
          "data": {
            "text/html": [
              "<div>\n",
              "<style scoped>\n",
              "    .dataframe tbody tr th:only-of-type {\n",
              "        vertical-align: middle;\n",
              "    }\n",
              "\n",
              "    .dataframe tbody tr th {\n",
              "        vertical-align: top;\n",
              "    }\n",
              "\n",
              "    .dataframe thead th {\n",
              "        text-align: right;\n",
              "    }\n",
              "</style>\n",
              "<table border=\"1\" class=\"dataframe\">\n",
              "  <thead>\n",
              "    <tr style=\"text-align: right;\">\n",
              "      <th></th>\n",
              "      <th>Name</th>\n",
              "      <th>Occupation</th>\n",
              "    </tr>\n",
              "  </thead>\n",
              "  <tbody>\n",
              "    <tr>\n",
              "      <th>0</th>\n",
              "      <td>John</td>\n",
              "      <td>Plumber</td>\n",
              "    </tr>\n",
              "    <tr>\n",
              "      <th>1</th>\n",
              "      <td>Jack</td>\n",
              "      <td>Carpenter</td>\n",
              "    </tr>\n",
              "  </tbody>\n",
              "</table>\n",
              "</div>"
            ],
            "text/plain": [
              "   Name Occupation\n",
              "0  John    Plumber\n",
              "1  Jack  Carpenter"
            ]
          },
          "metadata": {
            "tags": []
          },
          "execution_count": 23
        }
      ]
    },
    {
      "cell_type": "code",
      "metadata": {
        "colab": {
          "base_uri": "https://localhost:8080/",
          "height": 112
        },
        "id": "-mBhogLTNWWG",
        "outputId": "5b970fc2-5dde-424a-c244-cf4a1510adba"
      },
      "source": [
        "# merge joins two dataframes based on a common field and will keep the indices aligned\n",
        "pd.merge(df, df2)"
      ],
      "execution_count": 24,
      "outputs": [
        {
          "output_type": "execute_result",
          "data": {
            "text/html": [
              "<div>\n",
              "<style scoped>\n",
              "    .dataframe tbody tr th:only-of-type {\n",
              "        vertical-align: middle;\n",
              "    }\n",
              "\n",
              "    .dataframe tbody tr th {\n",
              "        vertical-align: top;\n",
              "    }\n",
              "\n",
              "    .dataframe thead th {\n",
              "        text-align: right;\n",
              "    }\n",
              "</style>\n",
              "<table border=\"1\" class=\"dataframe\">\n",
              "  <thead>\n",
              "    <tr style=\"text-align: right;\">\n",
              "      <th></th>\n",
              "      <th>Wage</th>\n",
              "      <th>Name</th>\n",
              "      <th>Age</th>\n",
              "      <th>Occupation</th>\n",
              "    </tr>\n",
              "  </thead>\n",
              "  <tbody>\n",
              "    <tr>\n",
              "      <th>0</th>\n",
              "      <td>1000</td>\n",
              "      <td>Jack</td>\n",
              "      <td>21</td>\n",
              "      <td>Carpenter</td>\n",
              "    </tr>\n",
              "    <tr>\n",
              "      <th>1</th>\n",
              "      <td>1500</td>\n",
              "      <td>John</td>\n",
              "      <td>29</td>\n",
              "      <td>Plumber</td>\n",
              "    </tr>\n",
              "  </tbody>\n",
              "</table>\n",
              "</div>"
            ],
            "text/plain": [
              "   Wage  Name  Age Occupation\n",
              "0  1000  Jack   21  Carpenter\n",
              "1  1500  John   29    Plumber"
            ]
          },
          "metadata": {
            "tags": []
          },
          "execution_count": 24
        }
      ]
    },
    {
      "cell_type": "code",
      "metadata": {
        "colab": {
          "base_uri": "https://localhost:8080/",
          "height": 143
        },
        "id": "20sVJDYwNpDG",
        "outputId": "df3ee624-d880-4d4f-d025-4c861b778839"
      },
      "source": [
        "## sometimes not all the keys appear in both dataframes:\n",
        "df3 = pd.concat([df2, pd.DataFrame({ \"Name\" : [\"James\"], \"Occupation\":[\"Painter\"]})], ignore_index=True)\n",
        "df3"
      ],
      "execution_count": 25,
      "outputs": [
        {
          "output_type": "execute_result",
          "data": {
            "text/html": [
              "<div>\n",
              "<style scoped>\n",
              "    .dataframe tbody tr th:only-of-type {\n",
              "        vertical-align: middle;\n",
              "    }\n",
              "\n",
              "    .dataframe tbody tr th {\n",
              "        vertical-align: top;\n",
              "    }\n",
              "\n",
              "    .dataframe thead th {\n",
              "        text-align: right;\n",
              "    }\n",
              "</style>\n",
              "<table border=\"1\" class=\"dataframe\">\n",
              "  <thead>\n",
              "    <tr style=\"text-align: right;\">\n",
              "      <th></th>\n",
              "      <th>Name</th>\n",
              "      <th>Occupation</th>\n",
              "    </tr>\n",
              "  </thead>\n",
              "  <tbody>\n",
              "    <tr>\n",
              "      <th>0</th>\n",
              "      <td>John</td>\n",
              "      <td>Plumber</td>\n",
              "    </tr>\n",
              "    <tr>\n",
              "      <th>1</th>\n",
              "      <td>Jack</td>\n",
              "      <td>Carpenter</td>\n",
              "    </tr>\n",
              "    <tr>\n",
              "      <th>2</th>\n",
              "      <td>James</td>\n",
              "      <td>Painter</td>\n",
              "    </tr>\n",
              "  </tbody>\n",
              "</table>\n",
              "</div>"
            ],
            "text/plain": [
              "    Name Occupation\n",
              "0   John    Plumber\n",
              "1   Jack  Carpenter\n",
              "2  James    Painter"
            ]
          },
          "metadata": {
            "tags": []
          },
          "execution_count": 25
        }
      ]
    },
    {
      "cell_type": "code",
      "metadata": {
        "colab": {
          "base_uri": "https://localhost:8080/",
          "height": 112
        },
        "id": "M9248H6UN4y-",
        "outputId": "ad97b3c1-5bc9-47af-85ec-63f7a669ec6b"
      },
      "source": [
        "## when merging, only joins the common index\n",
        "pd.merge(df, df3)                # By default an inner join is computed"
      ],
      "execution_count": 26,
      "outputs": [
        {
          "output_type": "execute_result",
          "data": {
            "text/html": [
              "<div>\n",
              "<style scoped>\n",
              "    .dataframe tbody tr th:only-of-type {\n",
              "        vertical-align: middle;\n",
              "    }\n",
              "\n",
              "    .dataframe tbody tr th {\n",
              "        vertical-align: top;\n",
              "    }\n",
              "\n",
              "    .dataframe thead th {\n",
              "        text-align: right;\n",
              "    }\n",
              "</style>\n",
              "<table border=\"1\" class=\"dataframe\">\n",
              "  <thead>\n",
              "    <tr style=\"text-align: right;\">\n",
              "      <th></th>\n",
              "      <th>Wage</th>\n",
              "      <th>Name</th>\n",
              "      <th>Age</th>\n",
              "      <th>Occupation</th>\n",
              "    </tr>\n",
              "  </thead>\n",
              "  <tbody>\n",
              "    <tr>\n",
              "      <th>0</th>\n",
              "      <td>1000</td>\n",
              "      <td>Jack</td>\n",
              "      <td>21</td>\n",
              "      <td>Carpenter</td>\n",
              "    </tr>\n",
              "    <tr>\n",
              "      <th>1</th>\n",
              "      <td>1500</td>\n",
              "      <td>John</td>\n",
              "      <td>29</td>\n",
              "      <td>Plumber</td>\n",
              "    </tr>\n",
              "  </tbody>\n",
              "</table>\n",
              "</div>"
            ],
            "text/plain": [
              "   Wage  Name  Age Occupation\n",
              "0  1000  Jack   21  Carpenter\n",
              "1  1500  John   29    Plumber"
            ]
          },
          "metadata": {
            "tags": []
          },
          "execution_count": 26
        }
      ]
    },
    {
      "cell_type": "code",
      "metadata": {
        "colab": {
          "base_uri": "https://localhost:8080/",
          "height": 143
        },
        "id": "Qw57fwlvN_uV",
        "outputId": "f22a8959-1dbe-458c-9d43-f56230c88539"
      },
      "source": [
        "pd.merge(df, df3, how=\"outer\")   # Outer join"
      ],
      "execution_count": 27,
      "outputs": [
        {
          "output_type": "execute_result",
          "data": {
            "text/html": [
              "<div>\n",
              "<style scoped>\n",
              "    .dataframe tbody tr th:only-of-type {\n",
              "        vertical-align: middle;\n",
              "    }\n",
              "\n",
              "    .dataframe tbody tr th {\n",
              "        vertical-align: top;\n",
              "    }\n",
              "\n",
              "    .dataframe thead th {\n",
              "        text-align: right;\n",
              "    }\n",
              "</style>\n",
              "<table border=\"1\" class=\"dataframe\">\n",
              "  <thead>\n",
              "    <tr style=\"text-align: right;\">\n",
              "      <th></th>\n",
              "      <th>Wage</th>\n",
              "      <th>Name</th>\n",
              "      <th>Age</th>\n",
              "      <th>Occupation</th>\n",
              "    </tr>\n",
              "  </thead>\n",
              "  <tbody>\n",
              "    <tr>\n",
              "      <th>0</th>\n",
              "      <td>1000.0</td>\n",
              "      <td>Jack</td>\n",
              "      <td>21.0</td>\n",
              "      <td>Carpenter</td>\n",
              "    </tr>\n",
              "    <tr>\n",
              "      <th>1</th>\n",
              "      <td>1500.0</td>\n",
              "      <td>John</td>\n",
              "      <td>29.0</td>\n",
              "      <td>Plumber</td>\n",
              "    </tr>\n",
              "    <tr>\n",
              "      <th>2</th>\n",
              "      <td>NaN</td>\n",
              "      <td>James</td>\n",
              "      <td>NaN</td>\n",
              "      <td>Painter</td>\n",
              "    </tr>\n",
              "  </tbody>\n",
              "</table>\n",
              "</div>"
            ],
            "text/plain": [
              "     Wage   Name   Age Occupation\n",
              "0  1000.0   Jack  21.0  Carpenter\n",
              "1  1500.0   John  29.0    Plumber\n",
              "2     NaN  James   NaN    Painter"
            ]
          },
          "metadata": {
            "tags": []
          },
          "execution_count": 27
        }
      ]
    },
    {
      "cell_type": "code",
      "metadata": {
        "colab": {
          "base_uri": "https://localhost:8080/",
          "height": 143
        },
        "id": "-J_141lXOCIN",
        "outputId": "98d3d2f5-4d17-4464-997e-79207b85b0a0"
      },
      "source": [
        "## one-to-many relationship is also possible on merges\n",
        "books = pd.DataFrame({\"Title\" : [\"War and Peace\", \"Good Omens\", \"Good Omens\"] ,\n",
        "                      \"Author\" : [\"Tolstoi\", \"Terry Pratchett\", \"Neil Gaiman\"]})\n",
        "books"
      ],
      "execution_count": 28,
      "outputs": [
        {
          "output_type": "execute_result",
          "data": {
            "text/html": [
              "<div>\n",
              "<style scoped>\n",
              "    .dataframe tbody tr th:only-of-type {\n",
              "        vertical-align: middle;\n",
              "    }\n",
              "\n",
              "    .dataframe tbody tr th {\n",
              "        vertical-align: top;\n",
              "    }\n",
              "\n",
              "    .dataframe thead th {\n",
              "        text-align: right;\n",
              "    }\n",
              "</style>\n",
              "<table border=\"1\" class=\"dataframe\">\n",
              "  <thead>\n",
              "    <tr style=\"text-align: right;\">\n",
              "      <th></th>\n",
              "      <th>Title</th>\n",
              "      <th>Author</th>\n",
              "    </tr>\n",
              "  </thead>\n",
              "  <tbody>\n",
              "    <tr>\n",
              "      <th>0</th>\n",
              "      <td>War and Peace</td>\n",
              "      <td>Tolstoi</td>\n",
              "    </tr>\n",
              "    <tr>\n",
              "      <th>1</th>\n",
              "      <td>Good Omens</td>\n",
              "      <td>Terry Pratchett</td>\n",
              "    </tr>\n",
              "    <tr>\n",
              "      <th>2</th>\n",
              "      <td>Good Omens</td>\n",
              "      <td>Neil Gaiman</td>\n",
              "    </tr>\n",
              "  </tbody>\n",
              "</table>\n",
              "</div>"
            ],
            "text/plain": [
              "           Title           Author\n",
              "0  War and Peace          Tolstoi\n",
              "1     Good Omens  Terry Pratchett\n",
              "2     Good Omens      Neil Gaiman"
            ]
          },
          "metadata": {
            "tags": []
          },
          "execution_count": 28
        }
      ]
    },
    {
      "cell_type": "code",
      "metadata": {
        "colab": {
          "base_uri": "https://localhost:8080/",
          "height": 175
        },
        "id": "bNxxwnUcOHJt",
        "outputId": "9b0882b0-3d19-4219-b114-9af956b0ada1"
      },
      "source": [
        "collections = pd.DataFrame([[\"Oodi\", \"War and Peace\"],\n",
        "                           [\"Oodi\", \"Good Omens\"],\n",
        "                           [\"Pasila\", \"Good Omens\"],\n",
        "                           [\"Kallio\", \"War and Peace\"]], columns=[\"Library\", \"Title\"])\n",
        "collections"
      ],
      "execution_count": 29,
      "outputs": [
        {
          "output_type": "execute_result",
          "data": {
            "text/html": [
              "<div>\n",
              "<style scoped>\n",
              "    .dataframe tbody tr th:only-of-type {\n",
              "        vertical-align: middle;\n",
              "    }\n",
              "\n",
              "    .dataframe tbody tr th {\n",
              "        vertical-align: top;\n",
              "    }\n",
              "\n",
              "    .dataframe thead th {\n",
              "        text-align: right;\n",
              "    }\n",
              "</style>\n",
              "<table border=\"1\" class=\"dataframe\">\n",
              "  <thead>\n",
              "    <tr style=\"text-align: right;\">\n",
              "      <th></th>\n",
              "      <th>Library</th>\n",
              "      <th>Title</th>\n",
              "    </tr>\n",
              "  </thead>\n",
              "  <tbody>\n",
              "    <tr>\n",
              "      <th>0</th>\n",
              "      <td>Oodi</td>\n",
              "      <td>War and Peace</td>\n",
              "    </tr>\n",
              "    <tr>\n",
              "      <th>1</th>\n",
              "      <td>Oodi</td>\n",
              "      <td>Good Omens</td>\n",
              "    </tr>\n",
              "    <tr>\n",
              "      <th>2</th>\n",
              "      <td>Pasila</td>\n",
              "      <td>Good Omens</td>\n",
              "    </tr>\n",
              "    <tr>\n",
              "      <th>3</th>\n",
              "      <td>Kallio</td>\n",
              "      <td>War and Peace</td>\n",
              "    </tr>\n",
              "  </tbody>\n",
              "</table>\n",
              "</div>"
            ],
            "text/plain": [
              "  Library          Title\n",
              "0    Oodi  War and Peace\n",
              "1    Oodi     Good Omens\n",
              "2  Pasila     Good Omens\n",
              "3  Kallio  War and Peace"
            ]
          },
          "metadata": {
            "tags": []
          },
          "execution_count": 29
        }
      ]
    },
    {
      "cell_type": "code",
      "metadata": {
        "colab": {
          "base_uri": "https://localhost:8080/",
          "height": 238
        },
        "id": "DDKrQ3PrOJid",
        "outputId": "78cb3f6e-7527-4e26-9529-af1ed342054a"
      },
      "source": [
        "libraries_with_books_by = pd.merge(books, collections)\n",
        "libraries_with_books_by"
      ],
      "execution_count": 30,
      "outputs": [
        {
          "output_type": "execute_result",
          "data": {
            "text/html": [
              "<div>\n",
              "<style scoped>\n",
              "    .dataframe tbody tr th:only-of-type {\n",
              "        vertical-align: middle;\n",
              "    }\n",
              "\n",
              "    .dataframe tbody tr th {\n",
              "        vertical-align: top;\n",
              "    }\n",
              "\n",
              "    .dataframe thead th {\n",
              "        text-align: right;\n",
              "    }\n",
              "</style>\n",
              "<table border=\"1\" class=\"dataframe\">\n",
              "  <thead>\n",
              "    <tr style=\"text-align: right;\">\n",
              "      <th></th>\n",
              "      <th>Title</th>\n",
              "      <th>Author</th>\n",
              "      <th>Library</th>\n",
              "    </tr>\n",
              "  </thead>\n",
              "  <tbody>\n",
              "    <tr>\n",
              "      <th>0</th>\n",
              "      <td>War and Peace</td>\n",
              "      <td>Tolstoi</td>\n",
              "      <td>Oodi</td>\n",
              "    </tr>\n",
              "    <tr>\n",
              "      <th>1</th>\n",
              "      <td>War and Peace</td>\n",
              "      <td>Tolstoi</td>\n",
              "      <td>Kallio</td>\n",
              "    </tr>\n",
              "    <tr>\n",
              "      <th>2</th>\n",
              "      <td>Good Omens</td>\n",
              "      <td>Terry Pratchett</td>\n",
              "      <td>Oodi</td>\n",
              "    </tr>\n",
              "    <tr>\n",
              "      <th>3</th>\n",
              "      <td>Good Omens</td>\n",
              "      <td>Terry Pratchett</td>\n",
              "      <td>Pasila</td>\n",
              "    </tr>\n",
              "    <tr>\n",
              "      <th>4</th>\n",
              "      <td>Good Omens</td>\n",
              "      <td>Neil Gaiman</td>\n",
              "      <td>Oodi</td>\n",
              "    </tr>\n",
              "    <tr>\n",
              "      <th>5</th>\n",
              "      <td>Good Omens</td>\n",
              "      <td>Neil Gaiman</td>\n",
              "      <td>Pasila</td>\n",
              "    </tr>\n",
              "  </tbody>\n",
              "</table>\n",
              "</div>"
            ],
            "text/plain": [
              "           Title           Author Library\n",
              "0  War and Peace          Tolstoi    Oodi\n",
              "1  War and Peace          Tolstoi  Kallio\n",
              "2     Good Omens  Terry Pratchett    Oodi\n",
              "3     Good Omens  Terry Pratchett  Pasila\n",
              "4     Good Omens      Neil Gaiman    Oodi\n",
              "5     Good Omens      Neil Gaiman  Pasila"
            ]
          },
          "metadata": {
            "tags": []
          },
          "execution_count": 30
        }
      ]
    },
    {
      "cell_type": "code",
      "metadata": {
        "id": "4VaY7l9DOcPH"
      },
      "source": [
        "## exercise 02: cycling weather\n",
        "def cycling_weather():\n",
        "  url_weather = 'https://raw.githubusercontent.com/annassanchez/HY-2021-DataScience/main/week05/kumpula-weather-2017.csv'\n",
        "  url_cycling = 'https://raw.githubusercontent.com/annassanchez/HY-2021-DataScience/main/week05/Helsingin_pyorailijamaarat.csv'\n",
        "  df_weather = pd.read_csv(url_weather, sep=',')\n",
        "  df_cycling = pd.read_csv(url_cycling, sep=';')\n",
        "  df_cycling = df_cycling.dropna(axis=0, how=\"all\").dropna(axis=1, how=\"all\")\n",
        "  df_cycling[[\"Weekday\", \"Day\", \"Month\", \"Year\", \"Hour\"]] = df_cycling['Päivämäärä'].str.split(expand=True)\n",
        "  df_cycling[[\"Month\"]] = df_cycling[[\"Month\"]].replace({\"tammi\": \"1\", \"helmi\": \"2\", \"maalis\": \"3\", \n",
        "                                                          \"huhti\": \"4\", \"touko\": \"5\", \"kesä\": \"6\", \n",
        "                                                          \"heinä\": \"7\", \"elo\": \"8\", \"syys\": \"9\", \n",
        "                                                          \"loka\": \"10\", \"marras\": \"11\", \"joulu\": \"12\"})\n",
        "  df_cycling = df_cycling.astype({\"Weekday\": object, \"Day\": int, \"Month\": int, \"Year\": int})\n",
        "  df_cyc_weat = pd.merge(df_weather, df_cycling, left_on=['d', 'm', 'Year'], \n",
        "                          right_on=[\"Day\", \"Month\", \"Year\"])\n",
        "  df_cyc_weat.drop(['m', 'd', 'Time', 'Time zone', 'Päivämäärä'], inplace=True, axis = 1)\n",
        "  return df_cyc_weat"
      ],
      "execution_count": 58,
      "outputs": []
    },
    {
      "cell_type": "code",
      "metadata": {
        "id": "M796ixxbTNFu",
        "outputId": "347bb881-f4c4-400f-b664-7bbde566b84c",
        "colab": {
          "base_uri": "https://localhost:8080/",
          "height": 652
        }
      },
      "source": [
        "cycling_weather()"
      ],
      "execution_count": 59,
      "outputs": [
        {
          "output_type": "execute_result",
          "data": {
            "text/html": [
              "<div>\n",
              "<style scoped>\n",
              "    .dataframe tbody tr th:only-of-type {\n",
              "        vertical-align: middle;\n",
              "    }\n",
              "\n",
              "    .dataframe tbody tr th {\n",
              "        vertical-align: top;\n",
              "    }\n",
              "\n",
              "    .dataframe thead th {\n",
              "        text-align: right;\n",
              "    }\n",
              "</style>\n",
              "<table border=\"1\" class=\"dataframe\">\n",
              "  <thead>\n",
              "    <tr style=\"text-align: right;\">\n",
              "      <th></th>\n",
              "      <th>Year</th>\n",
              "      <th>Precipitation amount (mm)</th>\n",
              "      <th>Snow depth (cm)</th>\n",
              "      <th>Air temperature (degC)</th>\n",
              "      <th>Päivämäärä</th>\n",
              "      <th>Auroransilta</th>\n",
              "      <th>Eteläesplanadi</th>\n",
              "      <th>Huopalahti (asema)</th>\n",
              "      <th>Kaisaniemi/Eläintarhanlahti</th>\n",
              "      <th>Kaivokatu</th>\n",
              "      <th>Kulosaaren silta et.</th>\n",
              "      <th>Kulosaaren silta po.</th>\n",
              "      <th>Kuusisaarentie</th>\n",
              "      <th>Käpylä, Pohjoisbaana</th>\n",
              "      <th>Lauttasaaren silta eteläpuoli</th>\n",
              "      <th>Merikannontie</th>\n",
              "      <th>Munkkiniemen silta eteläpuoli</th>\n",
              "      <th>Munkkiniemi silta pohjoispuoli</th>\n",
              "      <th>Heperian puisto/Ooppera</th>\n",
              "      <th>Pitkäsilta itäpuoli</th>\n",
              "      <th>Pitkäsilta länsipuoli</th>\n",
              "      <th>Lauttasaaren silta pohjoispuoli</th>\n",
              "      <th>Ratapihantie</th>\n",
              "      <th>Viikintie</th>\n",
              "      <th>Baana</th>\n",
              "    </tr>\n",
              "  </thead>\n",
              "  <tbody>\n",
              "    <tr>\n",
              "      <th>0</th>\n",
              "      <td>2017</td>\n",
              "      <td>-1.0</td>\n",
              "      <td>-1.0</td>\n",
              "      <td>0.6</td>\n",
              "      <td>su 1 tammi 2017 00:00</td>\n",
              "      <td>NaN</td>\n",
              "      <td>11.0</td>\n",
              "      <td>8.0</td>\n",
              "      <td>14.0</td>\n",
              "      <td>NaN</td>\n",
              "      <td>0.0</td>\n",
              "      <td>10.0</td>\n",
              "      <td>2.0</td>\n",
              "      <td>NaN</td>\n",
              "      <td>21.0</td>\n",
              "      <td>8.0</td>\n",
              "      <td>10.0</td>\n",
              "      <td>4.0</td>\n",
              "      <td>22.0</td>\n",
              "      <td>19.0</td>\n",
              "      <td>14.0</td>\n",
              "      <td>15.0</td>\n",
              "      <td>8.0</td>\n",
              "      <td>NaN</td>\n",
              "      <td>13.0</td>\n",
              "    </tr>\n",
              "    <tr>\n",
              "      <th>1</th>\n",
              "      <td>2017</td>\n",
              "      <td>-1.0</td>\n",
              "      <td>-1.0</td>\n",
              "      <td>0.6</td>\n",
              "      <td>su 1 tammi 2017 01:00</td>\n",
              "      <td>NaN</td>\n",
              "      <td>3.0</td>\n",
              "      <td>3.0</td>\n",
              "      <td>8.0</td>\n",
              "      <td>NaN</td>\n",
              "      <td>0.0</td>\n",
              "      <td>8.0</td>\n",
              "      <td>5.0</td>\n",
              "      <td>NaN</td>\n",
              "      <td>7.0</td>\n",
              "      <td>5.0</td>\n",
              "      <td>4.0</td>\n",
              "      <td>3.0</td>\n",
              "      <td>12.0</td>\n",
              "      <td>5.0</td>\n",
              "      <td>12.0</td>\n",
              "      <td>17.0</td>\n",
              "      <td>1.0</td>\n",
              "      <td>NaN</td>\n",
              "      <td>2.0</td>\n",
              "    </tr>\n",
              "    <tr>\n",
              "      <th>2</th>\n",
              "      <td>2017</td>\n",
              "      <td>-1.0</td>\n",
              "      <td>-1.0</td>\n",
              "      <td>0.6</td>\n",
              "      <td>su 1 tammi 2017 02:00</td>\n",
              "      <td>NaN</td>\n",
              "      <td>2.0</td>\n",
              "      <td>5.0</td>\n",
              "      <td>5.0</td>\n",
              "      <td>NaN</td>\n",
              "      <td>0.0</td>\n",
              "      <td>2.0</td>\n",
              "      <td>3.0</td>\n",
              "      <td>NaN</td>\n",
              "      <td>6.0</td>\n",
              "      <td>5.0</td>\n",
              "      <td>4.0</td>\n",
              "      <td>4.0</td>\n",
              "      <td>4.0</td>\n",
              "      <td>5.0</td>\n",
              "      <td>6.0</td>\n",
              "      <td>5.0</td>\n",
              "      <td>5.0</td>\n",
              "      <td>NaN</td>\n",
              "      <td>3.0</td>\n",
              "    </tr>\n",
              "    <tr>\n",
              "      <th>3</th>\n",
              "      <td>2017</td>\n",
              "      <td>-1.0</td>\n",
              "      <td>-1.0</td>\n",
              "      <td>0.6</td>\n",
              "      <td>su 1 tammi 2017 03:00</td>\n",
              "      <td>NaN</td>\n",
              "      <td>2.0</td>\n",
              "      <td>1.0</td>\n",
              "      <td>0.0</td>\n",
              "      <td>NaN</td>\n",
              "      <td>0.0</td>\n",
              "      <td>0.0</td>\n",
              "      <td>2.0</td>\n",
              "      <td>NaN</td>\n",
              "      <td>6.0</td>\n",
              "      <td>0.0</td>\n",
              "      <td>2.0</td>\n",
              "      <td>0.0</td>\n",
              "      <td>6.0</td>\n",
              "      <td>6.0</td>\n",
              "      <td>10.0</td>\n",
              "      <td>0.0</td>\n",
              "      <td>1.0</td>\n",
              "      <td>NaN</td>\n",
              "      <td>7.0</td>\n",
              "    </tr>\n",
              "    <tr>\n",
              "      <th>4</th>\n",
              "      <td>2017</td>\n",
              "      <td>-1.0</td>\n",
              "      <td>-1.0</td>\n",
              "      <td>0.6</td>\n",
              "      <td>su 1 tammi 2017 04:00</td>\n",
              "      <td>NaN</td>\n",
              "      <td>1.0</td>\n",
              "      <td>0.0</td>\n",
              "      <td>2.0</td>\n",
              "      <td>NaN</td>\n",
              "      <td>0.0</td>\n",
              "      <td>1.0</td>\n",
              "      <td>1.0</td>\n",
              "      <td>NaN</td>\n",
              "      <td>1.0</td>\n",
              "      <td>0.0</td>\n",
              "      <td>1.0</td>\n",
              "      <td>1.0</td>\n",
              "      <td>7.0</td>\n",
              "      <td>1.0</td>\n",
              "      <td>6.0</td>\n",
              "      <td>1.0</td>\n",
              "      <td>0.0</td>\n",
              "      <td>NaN</td>\n",
              "      <td>3.0</td>\n",
              "    </tr>\n",
              "    <tr>\n",
              "      <th>...</th>\n",
              "      <td>...</td>\n",
              "      <td>...</td>\n",
              "      <td>...</td>\n",
              "      <td>...</td>\n",
              "      <td>...</td>\n",
              "      <td>...</td>\n",
              "      <td>...</td>\n",
              "      <td>...</td>\n",
              "      <td>...</td>\n",
              "      <td>...</td>\n",
              "      <td>...</td>\n",
              "      <td>...</td>\n",
              "      <td>...</td>\n",
              "      <td>...</td>\n",
              "      <td>...</td>\n",
              "      <td>...</td>\n",
              "      <td>...</td>\n",
              "      <td>...</td>\n",
              "      <td>...</td>\n",
              "      <td>...</td>\n",
              "      <td>...</td>\n",
              "      <td>...</td>\n",
              "      <td>...</td>\n",
              "      <td>...</td>\n",
              "      <td>...</td>\n",
              "    </tr>\n",
              "    <tr>\n",
              "      <th>8755</th>\n",
              "      <td>2017</td>\n",
              "      <td>3.2</td>\n",
              "      <td>-1.0</td>\n",
              "      <td>1.6</td>\n",
              "      <td>su 31 joulu 2017 19:00</td>\n",
              "      <td>2.0</td>\n",
              "      <td>3.0</td>\n",
              "      <td>3.0</td>\n",
              "      <td>4.0</td>\n",
              "      <td>10.0</td>\n",
              "      <td>0.0</td>\n",
              "      <td>8.0</td>\n",
              "      <td>4.0</td>\n",
              "      <td>5.0</td>\n",
              "      <td>10.0</td>\n",
              "      <td>8.0</td>\n",
              "      <td>4.0</td>\n",
              "      <td>3.0</td>\n",
              "      <td>3.0</td>\n",
              "      <td>13.0</td>\n",
              "      <td>10.0</td>\n",
              "      <td>1.0</td>\n",
              "      <td>4.0</td>\n",
              "      <td>5.0</td>\n",
              "      <td>11.0</td>\n",
              "    </tr>\n",
              "    <tr>\n",
              "      <th>8756</th>\n",
              "      <td>2017</td>\n",
              "      <td>3.2</td>\n",
              "      <td>-1.0</td>\n",
              "      <td>1.6</td>\n",
              "      <td>su 31 joulu 2017 20:00</td>\n",
              "      <td>2.0</td>\n",
              "      <td>5.0</td>\n",
              "      <td>3.0</td>\n",
              "      <td>3.0</td>\n",
              "      <td>10.0</td>\n",
              "      <td>0.0</td>\n",
              "      <td>6.0</td>\n",
              "      <td>4.0</td>\n",
              "      <td>0.0</td>\n",
              "      <td>6.0</td>\n",
              "      <td>5.0</td>\n",
              "      <td>6.0</td>\n",
              "      <td>4.0</td>\n",
              "      <td>8.0</td>\n",
              "      <td>9.0</td>\n",
              "      <td>7.0</td>\n",
              "      <td>3.0</td>\n",
              "      <td>4.0</td>\n",
              "      <td>1.0</td>\n",
              "      <td>5.0</td>\n",
              "    </tr>\n",
              "    <tr>\n",
              "      <th>8757</th>\n",
              "      <td>2017</td>\n",
              "      <td>3.2</td>\n",
              "      <td>-1.0</td>\n",
              "      <td>1.6</td>\n",
              "      <td>su 31 joulu 2017 21:00</td>\n",
              "      <td>4.0</td>\n",
              "      <td>7.0</td>\n",
              "      <td>1.0</td>\n",
              "      <td>4.0</td>\n",
              "      <td>11.0</td>\n",
              "      <td>0.0</td>\n",
              "      <td>5.0</td>\n",
              "      <td>0.0</td>\n",
              "      <td>2.0</td>\n",
              "      <td>6.0</td>\n",
              "      <td>4.0</td>\n",
              "      <td>4.0</td>\n",
              "      <td>2.0</td>\n",
              "      <td>7.0</td>\n",
              "      <td>6.0</td>\n",
              "      <td>4.0</td>\n",
              "      <td>2.0</td>\n",
              "      <td>5.0</td>\n",
              "      <td>0.0</td>\n",
              "      <td>8.0</td>\n",
              "    </tr>\n",
              "    <tr>\n",
              "      <th>8758</th>\n",
              "      <td>2017</td>\n",
              "      <td>3.2</td>\n",
              "      <td>-1.0</td>\n",
              "      <td>1.6</td>\n",
              "      <td>su 31 joulu 2017 22:00</td>\n",
              "      <td>1.0</td>\n",
              "      <td>7.0</td>\n",
              "      <td>1.0</td>\n",
              "      <td>4.0</td>\n",
              "      <td>15.0</td>\n",
              "      <td>0.0</td>\n",
              "      <td>3.0</td>\n",
              "      <td>0.0</td>\n",
              "      <td>4.0</td>\n",
              "      <td>4.0</td>\n",
              "      <td>7.0</td>\n",
              "      <td>4.0</td>\n",
              "      <td>3.0</td>\n",
              "      <td>17.0</td>\n",
              "      <td>4.0</td>\n",
              "      <td>8.0</td>\n",
              "      <td>2.0</td>\n",
              "      <td>2.0</td>\n",
              "      <td>3.0</td>\n",
              "      <td>8.0</td>\n",
              "    </tr>\n",
              "    <tr>\n",
              "      <th>8759</th>\n",
              "      <td>2017</td>\n",
              "      <td>3.2</td>\n",
              "      <td>-1.0</td>\n",
              "      <td>1.6</td>\n",
              "      <td>su 31 joulu 2017 23:00</td>\n",
              "      <td>8.0</td>\n",
              "      <td>5.0</td>\n",
              "      <td>2.0</td>\n",
              "      <td>7.0</td>\n",
              "      <td>10.0</td>\n",
              "      <td>0.0</td>\n",
              "      <td>8.0</td>\n",
              "      <td>3.0</td>\n",
              "      <td>0.0</td>\n",
              "      <td>2.0</td>\n",
              "      <td>12.0</td>\n",
              "      <td>4.0</td>\n",
              "      <td>4.0</td>\n",
              "      <td>16.0</td>\n",
              "      <td>14.0</td>\n",
              "      <td>10.0</td>\n",
              "      <td>3.0</td>\n",
              "      <td>0.0</td>\n",
              "      <td>1.0</td>\n",
              "      <td>15.0</td>\n",
              "    </tr>\n",
              "  </tbody>\n",
              "</table>\n",
              "<p>8760 rows × 25 columns</p>\n",
              "</div>"
            ],
            "text/plain": [
              "      Year  Precipitation amount (mm)  ...  Viikintie  Baana\n",
              "0     2017                       -1.0  ...        NaN   13.0\n",
              "1     2017                       -1.0  ...        NaN    2.0\n",
              "2     2017                       -1.0  ...        NaN    3.0\n",
              "3     2017                       -1.0  ...        NaN    7.0\n",
              "4     2017                       -1.0  ...        NaN    3.0\n",
              "...    ...                        ...  ...        ...    ...\n",
              "8755  2017                        3.2  ...        5.0   11.0\n",
              "8756  2017                        3.2  ...        1.0    5.0\n",
              "8757  2017                        3.2  ...        0.0    8.0\n",
              "8758  2017                        3.2  ...        3.0    8.0\n",
              "8759  2017                        3.2  ...        1.0   15.0\n",
              "\n",
              "[8760 rows x 25 columns]"
            ]
          },
          "metadata": {
            "tags": []
          },
          "execution_count": 59
        }
      ]
    },
    {
      "cell_type": "code",
      "metadata": {
        "id": "-ff-pkb2Vaqg"
      },
      "source": [
        "## alternative solution\n",
        "days = dict(zip(\"ma ti ke to pe la su\".split(), \"Mon Tue Wed Thu Fri Sat Sun\".split()))\n",
        "months = dict(zip(\"tammi helmi maalis huhti touko kesä heinä elo syys loka marras joulu\".split(), range(1, 13)))\n",
        "\n",
        "def split_date(df):\n",
        "    d = df[\"Päivämäärä\"].str.split(expand=True)\n",
        "    d.columns = [\"Weekday\", \"Day\", \"Month\", \"Year\", \"Hour\"]\n",
        "    hourmin = d[\"Hour\"].str.split(\":\", expand=True)\n",
        "    d[\"Hour\"] = hourmin.iloc[:, 0]\n",
        "    d[\"Weekday\"] = d[\"Weekday\"].map(days)\n",
        "    d[\"Month\"] = d[\"Month\"].map(months)\n",
        "    d = d.astype({\"Weekday\": object, \"Day\": int, \"Month\": int, \"Year\": int, \"Hour\": int})\n",
        "    return d\n",
        "def split_date_continues():\n",
        "    df = pd.read_csv(\"src/Helsingin_pyorailijamaarat.csv\", sep=\";\")\n",
        "    df = df.dropna(axis=0, how=\"all\").dropna(axis=1, how=\"all\")\n",
        "    d = split_date(df)\n",
        "    df = df.drop(\"Päivämäärä\", axis=1)\n",
        "    return pd.concat([d, df], axis=1)\n",
        "def cycling_weather():\n",
        "    wh = pd.read_csv(\"src/kumpula-weather-2017.csv\")\n",
        "    bike = split_date_continues()\n",
        "    result = pd.merge(wh, bike, left_on=[\"Year\", \"m\", \"d\"], right_on=[\"Year\", \"Month\", \"Day\"])\n",
        "    return result.drop(['m', 'd', 'Time', 'Time zone'], axis=1)"
      ],
      "execution_count": null,
      "outputs": []
    }
  ]
}