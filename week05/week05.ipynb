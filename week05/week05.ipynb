{
  "nbformat": 4,
  "nbformat_minor": 0,
  "metadata": {
    "orig_nbformat": 4,
    "colab": {
      "name": "week05.ipynb",
      "provenance": []
    },
    "language_info": {
      "name": "python"
    },
    "kernelspec": {
      "name": "python3",
      "display_name": "Python 3"
    }
  },
  "cells": [
    {
      "cell_type": "markdown",
      "metadata": {
        "id": "iKD6CvdIW9xt"
      },
      "source": [
        "# Pandas (continues)"
      ]
    },
    {
      "cell_type": "code",
      "metadata": {
        "id": "9YgUGW2KW9xv"
      },
      "source": [
        "import pandas as pd\n",
        "import numpy as np"
      ],
      "execution_count": 1,
      "outputs": []
    },
    {
      "cell_type": "markdown",
      "metadata": {
        "id": "YkxgGdSSYrpb"
      },
      "source": [
        "## Catenating datasets"
      ]
    },
    {
      "cell_type": "code",
      "metadata": {
        "id": "URL_7h1nYzDE"
      },
      "source": [
        "# axis = 0 catenates vertically and axis = 1 catenates horizontally. \n",
        "# pandas dataframe works similarly but row indices and the column names require extra attention.\n",
        "# also the difference between np.concatenate & pd.concat\n",
        "## helper for creating dataframes\n",
        "def makedf(cols, ind):\n",
        "    data = {c : [str(c) + str(i) for i in ind] for c in cols}\n",
        "    return pd.DataFrame(data, ind)"
      ],
      "execution_count": 2,
      "outputs": []
    },
    {
      "cell_type": "code",
      "metadata": {
        "colab": {
          "base_uri": "https://localhost:8080/",
          "height": 112
        },
        "id": "_A9_6xcEZZmM",
        "outputId": "434ba552-bddb-453f-dd40-60f5c7d1167a"
      },
      "source": [
        "a=makedf(\"AB\", [0,1])\n",
        "a"
      ],
      "execution_count": 3,
      "outputs": [
        {
          "output_type": "execute_result",
          "data": {
            "text/html": [
              "<div>\n",
              "<style scoped>\n",
              "    .dataframe tbody tr th:only-of-type {\n",
              "        vertical-align: middle;\n",
              "    }\n",
              "\n",
              "    .dataframe tbody tr th {\n",
              "        vertical-align: top;\n",
              "    }\n",
              "\n",
              "    .dataframe thead th {\n",
              "        text-align: right;\n",
              "    }\n",
              "</style>\n",
              "<table border=\"1\" class=\"dataframe\">\n",
              "  <thead>\n",
              "    <tr style=\"text-align: right;\">\n",
              "      <th></th>\n",
              "      <th>A</th>\n",
              "      <th>B</th>\n",
              "    </tr>\n",
              "  </thead>\n",
              "  <tbody>\n",
              "    <tr>\n",
              "      <th>0</th>\n",
              "      <td>A0</td>\n",
              "      <td>B0</td>\n",
              "    </tr>\n",
              "    <tr>\n",
              "      <th>1</th>\n",
              "      <td>A1</td>\n",
              "      <td>B1</td>\n",
              "    </tr>\n",
              "  </tbody>\n",
              "</table>\n",
              "</div>"
            ],
            "text/plain": [
              "    A   B\n",
              "0  A0  B0\n",
              "1  A1  B1"
            ]
          },
          "metadata": {
            "tags": []
          },
          "execution_count": 3
        }
      ]
    },
    {
      "cell_type": "code",
      "metadata": {
        "colab": {
          "base_uri": "https://localhost:8080/",
          "height": 112
        },
        "id": "GZ1MrLICZb3D",
        "outputId": "e6633056-11b3-411f-ea49-5f4262d59f09"
      },
      "source": [
        "b=makedf(\"AB\", [2,3])\n",
        "b"
      ],
      "execution_count": 4,
      "outputs": [
        {
          "output_type": "execute_result",
          "data": {
            "text/html": [
              "<div>\n",
              "<style scoped>\n",
              "    .dataframe tbody tr th:only-of-type {\n",
              "        vertical-align: middle;\n",
              "    }\n",
              "\n",
              "    .dataframe tbody tr th {\n",
              "        vertical-align: top;\n",
              "    }\n",
              "\n",
              "    .dataframe thead th {\n",
              "        text-align: right;\n",
              "    }\n",
              "</style>\n",
              "<table border=\"1\" class=\"dataframe\">\n",
              "  <thead>\n",
              "    <tr style=\"text-align: right;\">\n",
              "      <th></th>\n",
              "      <th>A</th>\n",
              "      <th>B</th>\n",
              "    </tr>\n",
              "  </thead>\n",
              "  <tbody>\n",
              "    <tr>\n",
              "      <th>2</th>\n",
              "      <td>A2</td>\n",
              "      <td>B2</td>\n",
              "    </tr>\n",
              "    <tr>\n",
              "      <th>3</th>\n",
              "      <td>A3</td>\n",
              "      <td>B3</td>\n",
              "    </tr>\n",
              "  </tbody>\n",
              "</table>\n",
              "</div>"
            ],
            "text/plain": [
              "    A   B\n",
              "2  A2  B2\n",
              "3  A3  B3"
            ]
          },
          "metadata": {
            "tags": []
          },
          "execution_count": 4
        }
      ]
    },
    {
      "cell_type": "code",
      "metadata": {
        "colab": {
          "base_uri": "https://localhost:8080/",
          "height": 112
        },
        "id": "Y8u5-89DZcJz",
        "outputId": "942a3f31-73f4-400f-8799-22e762044842"
      },
      "source": [
        "c=makedf(\"CD\", [0,1])\n",
        "c"
      ],
      "execution_count": 5,
      "outputs": [
        {
          "output_type": "execute_result",
          "data": {
            "text/html": [
              "<div>\n",
              "<style scoped>\n",
              "    .dataframe tbody tr th:only-of-type {\n",
              "        vertical-align: middle;\n",
              "    }\n",
              "\n",
              "    .dataframe tbody tr th {\n",
              "        vertical-align: top;\n",
              "    }\n",
              "\n",
              "    .dataframe thead th {\n",
              "        text-align: right;\n",
              "    }\n",
              "</style>\n",
              "<table border=\"1\" class=\"dataframe\">\n",
              "  <thead>\n",
              "    <tr style=\"text-align: right;\">\n",
              "      <th></th>\n",
              "      <th>C</th>\n",
              "      <th>D</th>\n",
              "    </tr>\n",
              "  </thead>\n",
              "  <tbody>\n",
              "    <tr>\n",
              "      <th>0</th>\n",
              "      <td>C0</td>\n",
              "      <td>D0</td>\n",
              "    </tr>\n",
              "    <tr>\n",
              "      <th>1</th>\n",
              "      <td>C1</td>\n",
              "      <td>D1</td>\n",
              "    </tr>\n",
              "  </tbody>\n",
              "</table>\n",
              "</div>"
            ],
            "text/plain": [
              "    C   D\n",
              "0  C0  D0\n",
              "1  C1  D1"
            ]
          },
          "metadata": {
            "tags": []
          },
          "execution_count": 5
        }
      ]
    },
    {
      "cell_type": "code",
      "metadata": {
        "colab": {
          "base_uri": "https://localhost:8080/",
          "height": 112
        },
        "id": "lUcGjHz7ZcNS",
        "outputId": "92f0fdc4-ceee-4e54-b113-309bb6c72030"
      },
      "source": [
        "d=makedf(\"BC\", [2,3])\n",
        "d"
      ],
      "execution_count": 6,
      "outputs": [
        {
          "output_type": "execute_result",
          "data": {
            "text/html": [
              "<div>\n",
              "<style scoped>\n",
              "    .dataframe tbody tr th:only-of-type {\n",
              "        vertical-align: middle;\n",
              "    }\n",
              "\n",
              "    .dataframe tbody tr th {\n",
              "        vertical-align: top;\n",
              "    }\n",
              "\n",
              "    .dataframe thead th {\n",
              "        text-align: right;\n",
              "    }\n",
              "</style>\n",
              "<table border=\"1\" class=\"dataframe\">\n",
              "  <thead>\n",
              "    <tr style=\"text-align: right;\">\n",
              "      <th></th>\n",
              "      <th>B</th>\n",
              "      <th>C</th>\n",
              "    </tr>\n",
              "  </thead>\n",
              "  <tbody>\n",
              "    <tr>\n",
              "      <th>2</th>\n",
              "      <td>B2</td>\n",
              "      <td>C2</td>\n",
              "    </tr>\n",
              "    <tr>\n",
              "      <th>3</th>\n",
              "      <td>B3</td>\n",
              "      <td>C3</td>\n",
              "    </tr>\n",
              "  </tbody>\n",
              "</table>\n",
              "</div>"
            ],
            "text/plain": [
              "    B   C\n",
              "2  B2  C2\n",
              "3  B3  C3"
            ]
          },
          "metadata": {
            "tags": []
          },
          "execution_count": 6
        }
      ]
    },
    {
      "cell_type": "code",
      "metadata": {
        "colab": {
          "base_uri": "https://localhost:8080/",
          "height": 175
        },
        "id": "e3w7-Fk0ZcQU",
        "outputId": "c60581e6-4562-4da7-bce8-50ab8a2596aa"
      },
      "source": [
        "## concat a and b -- works as expected\n",
        "pd.concat([a,b])   # The default axis is 0"
      ],
      "execution_count": 7,
      "outputs": [
        {
          "output_type": "execute_result",
          "data": {
            "text/html": [
              "<div>\n",
              "<style scoped>\n",
              "    .dataframe tbody tr th:only-of-type {\n",
              "        vertical-align: middle;\n",
              "    }\n",
              "\n",
              "    .dataframe tbody tr th {\n",
              "        vertical-align: top;\n",
              "    }\n",
              "\n",
              "    .dataframe thead th {\n",
              "        text-align: right;\n",
              "    }\n",
              "</style>\n",
              "<table border=\"1\" class=\"dataframe\">\n",
              "  <thead>\n",
              "    <tr style=\"text-align: right;\">\n",
              "      <th></th>\n",
              "      <th>A</th>\n",
              "      <th>B</th>\n",
              "    </tr>\n",
              "  </thead>\n",
              "  <tbody>\n",
              "    <tr>\n",
              "      <th>0</th>\n",
              "      <td>A0</td>\n",
              "      <td>B0</td>\n",
              "    </tr>\n",
              "    <tr>\n",
              "      <th>1</th>\n",
              "      <td>A1</td>\n",
              "      <td>B1</td>\n",
              "    </tr>\n",
              "    <tr>\n",
              "      <th>2</th>\n",
              "      <td>A2</td>\n",
              "      <td>B2</td>\n",
              "    </tr>\n",
              "    <tr>\n",
              "      <th>3</th>\n",
              "      <td>A3</td>\n",
              "      <td>B3</td>\n",
              "    </tr>\n",
              "  </tbody>\n",
              "</table>\n",
              "</div>"
            ],
            "text/plain": [
              "    A   B\n",
              "0  A0  B0\n",
              "1  A1  B1\n",
              "2  A2  B2\n",
              "3  A3  B3"
            ]
          },
          "metadata": {
            "tags": []
          },
          "execution_count": 7
        }
      ]
    },
    {
      "cell_type": "code",
      "metadata": {
        "colab": {
          "base_uri": "https://localhost:8080/",
          "height": 175
        },
        "id": "j5KEvsZpZpH8",
        "outputId": "f36307aa-e04a-4c2f-f415-f192532eefb2"
      },
      "source": [
        "r=pd.concat([a,a])\n",
        "r"
      ],
      "execution_count": 8,
      "outputs": [
        {
          "output_type": "execute_result",
          "data": {
            "text/html": [
              "<div>\n",
              "<style scoped>\n",
              "    .dataframe tbody tr th:only-of-type {\n",
              "        vertical-align: middle;\n",
              "    }\n",
              "\n",
              "    .dataframe tbody tr th {\n",
              "        vertical-align: top;\n",
              "    }\n",
              "\n",
              "    .dataframe thead th {\n",
              "        text-align: right;\n",
              "    }\n",
              "</style>\n",
              "<table border=\"1\" class=\"dataframe\">\n",
              "  <thead>\n",
              "    <tr style=\"text-align: right;\">\n",
              "      <th></th>\n",
              "      <th>A</th>\n",
              "      <th>B</th>\n",
              "    </tr>\n",
              "  </thead>\n",
              "  <tbody>\n",
              "    <tr>\n",
              "      <th>0</th>\n",
              "      <td>A0</td>\n",
              "      <td>B0</td>\n",
              "    </tr>\n",
              "    <tr>\n",
              "      <th>1</th>\n",
              "      <td>A1</td>\n",
              "      <td>B1</td>\n",
              "    </tr>\n",
              "    <tr>\n",
              "      <th>0</th>\n",
              "      <td>A0</td>\n",
              "      <td>B0</td>\n",
              "    </tr>\n",
              "    <tr>\n",
              "      <th>1</th>\n",
              "      <td>A1</td>\n",
              "      <td>B1</td>\n",
              "    </tr>\n",
              "  </tbody>\n",
              "</table>\n",
              "</div>"
            ],
            "text/plain": [
              "    A   B\n",
              "0  A0  B0\n",
              "1  A1  B1\n",
              "0  A0  B0\n",
              "1  A1  B1"
            ]
          },
          "metadata": {
            "tags": []
          },
          "execution_count": 8
        }
      ]
    },
    {
      "cell_type": "code",
      "metadata": {
        "colab": {
          "base_uri": "https://localhost:8080/"
        },
        "id": "tpfQxGSxZpTc",
        "outputId": "3a6df417-6fbc-4aea-aeed-3330e86903cd"
      },
      "source": [
        "r.loc[0,\"A\"]"
      ],
      "execution_count": 9,
      "outputs": [
        {
          "output_type": "execute_result",
          "data": {
            "text/plain": [
              "0    A0\n",
              "0    A0\n",
              "Name: A, dtype: object"
            ]
          },
          "metadata": {
            "tags": []
          },
          "execution_count": 9
        }
      ]
    },
    {
      "cell_type": "code",
      "metadata": {
        "colab": {
          "base_uri": "https://localhost:8080/"
        },
        "id": "blFRMxzqZpXT",
        "outputId": "538bee4b-af59-441d-df63-caaa133aacc3"
      },
      "source": [
        "## indices should be unique, so that's not what we aim to. \n",
        "## here's a tool to chek duplicated indices\n",
        "try:\n",
        "    pd.concat([a,a], verify_integrity=True)\n",
        "except ValueError as e:\n",
        "    import sys\n",
        "    print(e, file=sys.stderr)"
      ],
      "execution_count": 10,
      "outputs": [
        {
          "output_type": "stream",
          "text": [
            "Indexes have overlapping values: Int64Index([0, 1], dtype='int64')\n"
          ],
          "name": "stderr"
        }
      ]
    },
    {
      "cell_type": "code",
      "metadata": {
        "colab": {
          "base_uri": "https://localhost:8080/",
          "height": 175
        },
        "id": "uedSTIMUZpaF",
        "outputId": "1096bfa5-1860-40a0-ddb6-cef19e5bcc8d"
      },
      "source": [
        "## automatic renumbering of rows\n",
        "pd.concat([a,a], ignore_index=True)"
      ],
      "execution_count": 11,
      "outputs": [
        {
          "output_type": "execute_result",
          "data": {
            "text/html": [
              "<div>\n",
              "<style scoped>\n",
              "    .dataframe tbody tr th:only-of-type {\n",
              "        vertical-align: middle;\n",
              "    }\n",
              "\n",
              "    .dataframe tbody tr th {\n",
              "        vertical-align: top;\n",
              "    }\n",
              "\n",
              "    .dataframe thead th {\n",
              "        text-align: right;\n",
              "    }\n",
              "</style>\n",
              "<table border=\"1\" class=\"dataframe\">\n",
              "  <thead>\n",
              "    <tr style=\"text-align: right;\">\n",
              "      <th></th>\n",
              "      <th>A</th>\n",
              "      <th>B</th>\n",
              "    </tr>\n",
              "  </thead>\n",
              "  <tbody>\n",
              "    <tr>\n",
              "      <th>0</th>\n",
              "      <td>A0</td>\n",
              "      <td>B0</td>\n",
              "    </tr>\n",
              "    <tr>\n",
              "      <th>1</th>\n",
              "      <td>A1</td>\n",
              "      <td>B1</td>\n",
              "    </tr>\n",
              "    <tr>\n",
              "      <th>2</th>\n",
              "      <td>A0</td>\n",
              "      <td>B0</td>\n",
              "    </tr>\n",
              "    <tr>\n",
              "      <th>3</th>\n",
              "      <td>A1</td>\n",
              "      <td>B1</td>\n",
              "    </tr>\n",
              "  </tbody>\n",
              "</table>\n",
              "</div>"
            ],
            "text/plain": [
              "    A   B\n",
              "0  A0  B0\n",
              "1  A1  B1\n",
              "2  A0  B0\n",
              "3  A1  B1"
            ]
          },
          "metadata": {
            "tags": []
          },
          "execution_count": 11
        }
      ]
    },
    {
      "cell_type": "code",
      "metadata": {
        "colab": {
          "base_uri": "https://localhost:8080/",
          "height": 175
        },
        "id": "mEWq5ozgaF6b",
        "outputId": "d890f287-c24f-4ed1-d7f3-6d742533ffb1"
      },
      "source": [
        "## hierarchical indexing -- multiple level indices\n",
        "r2=pd.concat([a,a], keys=['first', 'second'])\n",
        "r2"
      ],
      "execution_count": 12,
      "outputs": [
        {
          "output_type": "execute_result",
          "data": {
            "text/html": [
              "<div>\n",
              "<style scoped>\n",
              "    .dataframe tbody tr th:only-of-type {\n",
              "        vertical-align: middle;\n",
              "    }\n",
              "\n",
              "    .dataframe tbody tr th {\n",
              "        vertical-align: top;\n",
              "    }\n",
              "\n",
              "    .dataframe thead th {\n",
              "        text-align: right;\n",
              "    }\n",
              "</style>\n",
              "<table border=\"1\" class=\"dataframe\">\n",
              "  <thead>\n",
              "    <tr style=\"text-align: right;\">\n",
              "      <th></th>\n",
              "      <th></th>\n",
              "      <th>A</th>\n",
              "      <th>B</th>\n",
              "    </tr>\n",
              "  </thead>\n",
              "  <tbody>\n",
              "    <tr>\n",
              "      <th rowspan=\"2\" valign=\"top\">first</th>\n",
              "      <th>0</th>\n",
              "      <td>A0</td>\n",
              "      <td>B0</td>\n",
              "    </tr>\n",
              "    <tr>\n",
              "      <th>1</th>\n",
              "      <td>A1</td>\n",
              "      <td>B1</td>\n",
              "    </tr>\n",
              "    <tr>\n",
              "      <th rowspan=\"2\" valign=\"top\">second</th>\n",
              "      <th>0</th>\n",
              "      <td>A0</td>\n",
              "      <td>B0</td>\n",
              "    </tr>\n",
              "    <tr>\n",
              "      <th>1</th>\n",
              "      <td>A1</td>\n",
              "      <td>B1</td>\n",
              "    </tr>\n",
              "  </tbody>\n",
              "</table>\n",
              "</div>"
            ],
            "text/plain": [
              "           A   B\n",
              "first  0  A0  B0\n",
              "       1  A1  B1\n",
              "second 0  A0  B0\n",
              "       1  A1  B1"
            ]
          },
          "metadata": {
            "tags": []
          },
          "execution_count": 12
        }
      ]
    },
    {
      "cell_type": "code",
      "metadata": {
        "colab": {
          "base_uri": "https://localhost:8080/",
          "height": 36
        },
        "id": "sV4fhvBMaGFj",
        "outputId": "84c12c79-cd49-49cb-fe6b-7477731c5253"
      },
      "source": [
        "r2[\"A\"][\"first\"][0] # works as numpy"
      ],
      "execution_count": 13,
      "outputs": [
        {
          "output_type": "execute_result",
          "data": {
            "application/vnd.google.colaboratory.intrinsic+json": {
              "type": "string"
            },
            "text/plain": [
              "'A0'"
            ]
          },
          "metadata": {
            "tags": []
          },
          "execution_count": 13
        }
      ]
    },
    {
      "cell_type": "code",
      "metadata": {
        "colab": {
          "base_uri": "https://localhost:8080/",
          "height": 112
        },
        "id": "4MZyBWyIaGKa",
        "outputId": "2bf52e8f-41f1-43c4-8155-91ece0a0c10c"
      },
      "source": [
        "## it works similarly with horizontal catenation\n",
        "pd.concat([a,c], axis=1)"
      ],
      "execution_count": 14,
      "outputs": [
        {
          "output_type": "execute_result",
          "data": {
            "text/html": [
              "<div>\n",
              "<style scoped>\n",
              "    .dataframe tbody tr th:only-of-type {\n",
              "        vertical-align: middle;\n",
              "    }\n",
              "\n",
              "    .dataframe tbody tr th {\n",
              "        vertical-align: top;\n",
              "    }\n",
              "\n",
              "    .dataframe thead th {\n",
              "        text-align: right;\n",
              "    }\n",
              "</style>\n",
              "<table border=\"1\" class=\"dataframe\">\n",
              "  <thead>\n",
              "    <tr style=\"text-align: right;\">\n",
              "      <th></th>\n",
              "      <th>A</th>\n",
              "      <th>B</th>\n",
              "      <th>C</th>\n",
              "      <th>D</th>\n",
              "    </tr>\n",
              "  </thead>\n",
              "  <tbody>\n",
              "    <tr>\n",
              "      <th>0</th>\n",
              "      <td>A0</td>\n",
              "      <td>B0</td>\n",
              "      <td>C0</td>\n",
              "      <td>D0</td>\n",
              "    </tr>\n",
              "    <tr>\n",
              "      <th>1</th>\n",
              "      <td>A1</td>\n",
              "      <td>B1</td>\n",
              "      <td>C1</td>\n",
              "      <td>D1</td>\n",
              "    </tr>\n",
              "  </tbody>\n",
              "</table>\n",
              "</div>"
            ],
            "text/plain": [
              "    A   B   C   D\n",
              "0  A0  B0  C0  D0\n",
              "1  A1  B1  C1  D1"
            ]
          },
          "metadata": {
            "tags": []
          },
          "execution_count": 14
        }
      ]
    },
    {
      "cell_type": "code",
      "metadata": {
        "colab": {
          "base_uri": "https://localhost:8080/",
          "height": 175
        },
        "id": "b9JGhNJlaGNU",
        "outputId": "f9e19cc8-dbf8-4c5b-9f75-9f8170c7d6da"
      },
      "source": [
        "## if you concatenate vertically two DataFrames that don't have the same columns\n",
        "## this is called outer join, considers all the columns (the common ones and the different ones)\n",
        "pd.concat([a,d], sort=False)    # sort option is used to silence a deprecation message"
      ],
      "execution_count": 15,
      "outputs": [
        {
          "output_type": "execute_result",
          "data": {
            "text/html": [
              "<div>\n",
              "<style scoped>\n",
              "    .dataframe tbody tr th:only-of-type {\n",
              "        vertical-align: middle;\n",
              "    }\n",
              "\n",
              "    .dataframe tbody tr th {\n",
              "        vertical-align: top;\n",
              "    }\n",
              "\n",
              "    .dataframe thead th {\n",
              "        text-align: right;\n",
              "    }\n",
              "</style>\n",
              "<table border=\"1\" class=\"dataframe\">\n",
              "  <thead>\n",
              "    <tr style=\"text-align: right;\">\n",
              "      <th></th>\n",
              "      <th>A</th>\n",
              "      <th>B</th>\n",
              "      <th>C</th>\n",
              "    </tr>\n",
              "  </thead>\n",
              "  <tbody>\n",
              "    <tr>\n",
              "      <th>0</th>\n",
              "      <td>A0</td>\n",
              "      <td>B0</td>\n",
              "      <td>NaN</td>\n",
              "    </tr>\n",
              "    <tr>\n",
              "      <th>1</th>\n",
              "      <td>A1</td>\n",
              "      <td>B1</td>\n",
              "      <td>NaN</td>\n",
              "    </tr>\n",
              "    <tr>\n",
              "      <th>2</th>\n",
              "      <td>NaN</td>\n",
              "      <td>B2</td>\n",
              "      <td>C2</td>\n",
              "    </tr>\n",
              "    <tr>\n",
              "      <th>3</th>\n",
              "      <td>NaN</td>\n",
              "      <td>B3</td>\n",
              "      <td>C3</td>\n",
              "    </tr>\n",
              "  </tbody>\n",
              "</table>\n",
              "</div>"
            ],
            "text/plain": [
              "     A   B    C\n",
              "0   A0  B0  NaN\n",
              "1   A1  B1  NaN\n",
              "2  NaN  B2   C2\n",
              "3  NaN  B3   C3"
            ]
          },
          "metadata": {
            "tags": []
          },
          "execution_count": 15
        }
      ]
    },
    {
      "cell_type": "code",
      "metadata": {
        "colab": {
          "base_uri": "https://localhost:8080/",
          "height": 175
        },
        "id": "t8FcwNFXa-EC",
        "outputId": "a50d50a4-e279-4c28-c94c-9172789af54f"
      },
      "source": [
        "## here is the same catenation but with inner join\n",
        "pd.concat([a,d], join=\"inner\")"
      ],
      "execution_count": 16,
      "outputs": [
        {
          "output_type": "execute_result",
          "data": {
            "text/html": [
              "<div>\n",
              "<style scoped>\n",
              "    .dataframe tbody tr th:only-of-type {\n",
              "        vertical-align: middle;\n",
              "    }\n",
              "\n",
              "    .dataframe tbody tr th {\n",
              "        vertical-align: top;\n",
              "    }\n",
              "\n",
              "    .dataframe thead th {\n",
              "        text-align: right;\n",
              "    }\n",
              "</style>\n",
              "<table border=\"1\" class=\"dataframe\">\n",
              "  <thead>\n",
              "    <tr style=\"text-align: right;\">\n",
              "      <th></th>\n",
              "      <th>B</th>\n",
              "    </tr>\n",
              "  </thead>\n",
              "  <tbody>\n",
              "    <tr>\n",
              "      <th>0</th>\n",
              "      <td>B0</td>\n",
              "    </tr>\n",
              "    <tr>\n",
              "      <th>1</th>\n",
              "      <td>B1</td>\n",
              "    </tr>\n",
              "    <tr>\n",
              "      <th>2</th>\n",
              "      <td>B2</td>\n",
              "    </tr>\n",
              "    <tr>\n",
              "      <th>3</th>\n",
              "      <td>B3</td>\n",
              "    </tr>\n",
              "  </tbody>\n",
              "</table>\n",
              "</div>"
            ],
            "text/plain": [
              "    B\n",
              "0  B0\n",
              "1  B1\n",
              "2  B2\n",
              "3  B3"
            ]
          },
          "metadata": {
            "tags": []
          },
          "execution_count": 16
        }
      ]
    },
    {
      "cell_type": "code",
      "metadata": {
        "id": "rz3_Q24ta-A6"
      },
      "source": [
        "## exercose 01 (split date continues)\n",
        "#url = \"https://raw.githubusercontent.com/annassanchez/HY-2021-DataScience/main/week04/Helsingin_pyorailijamaarat.csv\"\n",
        "#kk = pd.read_csv(url, sep = ';', header = 0)\n",
        "\n",
        "def split_date(df):\n",
        "    df = df.dropna(axis=0, how='all')\n",
        "    df = df.dropna(axis=1, how='all')\n",
        "    df[[\"Weekday\", \"Day\", \"Month\", \"Year\", \"Hour\"]] = df['Päivämäärä'].str.split(expand=True)\n",
        "    df[[\"Weekday\"]] = df[[\"Weekday\"]].replace({\"ma\": \"Mon\", \"ti\": \"Tue\", \"ke\": \"Wed\", \"to\": \"Thu\", \n",
        "        \"pe\": \"Fri\", \"la\": \"Sat\", \"su\": \"Sun\"})\n",
        "    df[[\"Month\"]] = df[[\"Month\"]].replace({\"tammi\": \"1\", \"helmi\": \"2\", \"maalis\": \"3\", \"huhti\": \"4\", \n",
        "        \"touko\": \"5\", \"kesä\": \"6\", \"heinä\": \"7\", \"elo\": \"8\", \"syys\": \"9\", \"loka\": \"10\", \"marras\": \"11\",\n",
        "        \"joulu\": \"12\"})\n",
        "    df[\"Hour\"] = df[\"Hour\"].str.split(\":\", expand=True)[0].map(int)\n",
        "    df['Päivämäärä'] = df[\"Weekday\"] + \" \" + df[\"Day\"] + \" \" + df[\"Month\"] + \" \" + df[\"Year\"] + \" \" + df[\"Hour\"].map(str)\n",
        "    df = df[df.columns.tolist()[-5:] + [df.columns.tolist()[0]]]\n",
        "    return df.astype({\"Weekday\":object, \"Day\":int,  \"Month\":int, \"Year\":int, \"Hour\": int})"
      ],
      "execution_count": 17,
      "outputs": []
    },
    {
      "cell_type": "code",
      "metadata": {
        "id": "YOOigL5WBDOb"
      },
      "source": [
        "def split_date_continues():\n",
        "    #d = split_date()\n",
        "    url = \"https://raw.githubusercontent.com/annassanchez/HY-2021-DataScience/main/week04/Helsingin_pyorailijamaarat.csv\"\n",
        "    data = pd.read_csv(url, sep = ';', header = 0)\n",
        "    d = split_date(data)\n",
        "    data = data.dropna(axis=0, how='all')\n",
        "    data = data.dropna(axis=1, how='all')\n",
        "    #data.drop(['Päivämäärä'], inplace = True, axis = 1)\n",
        "    final = pd.concat([d, data], axis = 1)\n",
        "    final.drop([final.columns.tolist()[5]],inplace = True, axis = 1)\n",
        "    return final#.astype({\"Weekday\":object, \"Day\":np.int32,  \"Month\":np.int32, \"Year\":np.int32, \"Hour\": float})\n"
      ],
      "execution_count": 18,
      "outputs": []
    },
    {
      "cell_type": "code",
      "metadata": {
        "colab": {
          "base_uri": "https://localhost:8080/",
          "height": 424
        },
        "id": "cFE4re8pa99z",
        "outputId": "11c0035c-1afa-4079-f6b4-950bdddf4735"
      },
      "source": [
        "url = \"https://raw.githubusercontent.com/annassanchez/HY-2021-DataScience/main/week04/Helsingin_pyorailijamaarat.csv\"\n",
        "df = pd.read_csv(url, sep = ';', header = 0)\n",
        "split_date(df)"
      ],
      "execution_count": 19,
      "outputs": [
        {
          "output_type": "execute_result",
          "data": {
            "text/html": [
              "<div>\n",
              "<style scoped>\n",
              "    .dataframe tbody tr th:only-of-type {\n",
              "        vertical-align: middle;\n",
              "    }\n",
              "\n",
              "    .dataframe tbody tr th {\n",
              "        vertical-align: top;\n",
              "    }\n",
              "\n",
              "    .dataframe thead th {\n",
              "        text-align: right;\n",
              "    }\n",
              "</style>\n",
              "<table border=\"1\" class=\"dataframe\">\n",
              "  <thead>\n",
              "    <tr style=\"text-align: right;\">\n",
              "      <th></th>\n",
              "      <th>Weekday</th>\n",
              "      <th>Day</th>\n",
              "      <th>Month</th>\n",
              "      <th>Year</th>\n",
              "      <th>Hour</th>\n",
              "      <th>Päivämäärä</th>\n",
              "    </tr>\n",
              "  </thead>\n",
              "  <tbody>\n",
              "    <tr>\n",
              "      <th>0</th>\n",
              "      <td>Wed</td>\n",
              "      <td>1</td>\n",
              "      <td>1</td>\n",
              "      <td>2014</td>\n",
              "      <td>0</td>\n",
              "      <td>Wed 1 1 2014 0</td>\n",
              "    </tr>\n",
              "    <tr>\n",
              "      <th>1</th>\n",
              "      <td>Wed</td>\n",
              "      <td>1</td>\n",
              "      <td>1</td>\n",
              "      <td>2014</td>\n",
              "      <td>1</td>\n",
              "      <td>Wed 1 1 2014 1</td>\n",
              "    </tr>\n",
              "    <tr>\n",
              "      <th>2</th>\n",
              "      <td>Wed</td>\n",
              "      <td>1</td>\n",
              "      <td>1</td>\n",
              "      <td>2014</td>\n",
              "      <td>2</td>\n",
              "      <td>Wed 1 1 2014 2</td>\n",
              "    </tr>\n",
              "    <tr>\n",
              "      <th>3</th>\n",
              "      <td>Wed</td>\n",
              "      <td>1</td>\n",
              "      <td>1</td>\n",
              "      <td>2014</td>\n",
              "      <td>3</td>\n",
              "      <td>Wed 1 1 2014 3</td>\n",
              "    </tr>\n",
              "    <tr>\n",
              "      <th>4</th>\n",
              "      <td>Wed</td>\n",
              "      <td>1</td>\n",
              "      <td>1</td>\n",
              "      <td>2014</td>\n",
              "      <td>4</td>\n",
              "      <td>Wed 1 1 2014 4</td>\n",
              "    </tr>\n",
              "    <tr>\n",
              "      <th>...</th>\n",
              "      <td>...</td>\n",
              "      <td>...</td>\n",
              "      <td>...</td>\n",
              "      <td>...</td>\n",
              "      <td>...</td>\n",
              "      <td>...</td>\n",
              "    </tr>\n",
              "    <tr>\n",
              "      <th>37123</th>\n",
              "      <td>Tue</td>\n",
              "      <td>27</td>\n",
              "      <td>3</td>\n",
              "      <td>2018</td>\n",
              "      <td>19</td>\n",
              "      <td>Tue 27 3 2018 19</td>\n",
              "    </tr>\n",
              "    <tr>\n",
              "      <th>37124</th>\n",
              "      <td>Tue</td>\n",
              "      <td>27</td>\n",
              "      <td>3</td>\n",
              "      <td>2018</td>\n",
              "      <td>20</td>\n",
              "      <td>Tue 27 3 2018 20</td>\n",
              "    </tr>\n",
              "    <tr>\n",
              "      <th>37125</th>\n",
              "      <td>Tue</td>\n",
              "      <td>27</td>\n",
              "      <td>3</td>\n",
              "      <td>2018</td>\n",
              "      <td>21</td>\n",
              "      <td>Tue 27 3 2018 21</td>\n",
              "    </tr>\n",
              "    <tr>\n",
              "      <th>37126</th>\n",
              "      <td>Tue</td>\n",
              "      <td>27</td>\n",
              "      <td>3</td>\n",
              "      <td>2018</td>\n",
              "      <td>22</td>\n",
              "      <td>Tue 27 3 2018 22</td>\n",
              "    </tr>\n",
              "    <tr>\n",
              "      <th>37127</th>\n",
              "      <td>Tue</td>\n",
              "      <td>27</td>\n",
              "      <td>3</td>\n",
              "      <td>2018</td>\n",
              "      <td>23</td>\n",
              "      <td>Tue 27 3 2018 23</td>\n",
              "    </tr>\n",
              "  </tbody>\n",
              "</table>\n",
              "<p>37128 rows × 6 columns</p>\n",
              "</div>"
            ],
            "text/plain": [
              "      Weekday  Day  Month  Year  Hour        Päivämäärä\n",
              "0         Wed    1      1  2014     0    Wed 1 1 2014 0\n",
              "1         Wed    1      1  2014     1    Wed 1 1 2014 1\n",
              "2         Wed    1      1  2014     2    Wed 1 1 2014 2\n",
              "3         Wed    1      1  2014     3    Wed 1 1 2014 3\n",
              "4         Wed    1      1  2014     4    Wed 1 1 2014 4\n",
              "...       ...  ...    ...   ...   ...               ...\n",
              "37123     Tue   27      3  2018    19  Tue 27 3 2018 19\n",
              "37124     Tue   27      3  2018    20  Tue 27 3 2018 20\n",
              "37125     Tue   27      3  2018    21  Tue 27 3 2018 21\n",
              "37126     Tue   27      3  2018    22  Tue 27 3 2018 22\n",
              "37127     Tue   27      3  2018    23  Tue 27 3 2018 23\n",
              "\n",
              "[37128 rows x 6 columns]"
            ]
          },
          "metadata": {
            "tags": []
          },
          "execution_count": 19
        }
      ]
    },
    {
      "cell_type": "code",
      "metadata": {
        "colab": {
          "base_uri": "https://localhost:8080/"
        },
        "id": "i34Lr55ka95q",
        "outputId": "07b0d5b8-e7da-4c45-84b3-57feb1db292d"
      },
      "source": [
        "df = split_date_continues()\n",
        "print(\"Shape:\", df.shape)\n",
        "print(\"Column names:\\n\", df.columns)\n",
        "print(df.head())"
      ],
      "execution_count": 20,
      "outputs": [
        {
          "output_type": "stream",
          "text": [
            "Shape: (37128, 25)\n",
            "Column names:\n",
            " Index(['Weekday', 'Day', 'Month', 'Year', 'Hour', 'Auroransilta',\n",
            "       'Eteläesplanadi', 'Huopalahti (asema)', 'Kaisaniemi/Eläintarhanlahti',\n",
            "       'Kaivokatu', 'Kulosaaren silta et.', 'Kulosaaren silta po. ',\n",
            "       'Kuusisaarentie', 'Käpylä, Pohjoisbaana',\n",
            "       'Lauttasaaren silta eteläpuoli', 'Merikannontie',\n",
            "       'Munkkiniemen silta eteläpuoli', 'Munkkiniemi silta pohjoispuoli',\n",
            "       'Heperian puisto/Ooppera', 'Pitkäsilta itäpuoli',\n",
            "       'Pitkäsilta länsipuoli', 'Lauttasaaren silta pohjoispuoli',\n",
            "       'Ratapihantie', 'Viikintie', 'Baana'],\n",
            "      dtype='object')\n",
            "  Weekday  Day  Month  ...  Ratapihantie  Viikintie  Baana\n",
            "0     Wed    1      1  ...           NaN        NaN    8.0\n",
            "1     Wed    1      1  ...           NaN        NaN    4.0\n",
            "2     Wed    1      1  ...           NaN        NaN   11.0\n",
            "3     Wed    1      1  ...           NaN        NaN    3.0\n",
            "4     Wed    1      1  ...           NaN        NaN    4.0\n",
            "\n",
            "[5 rows x 25 columns]\n"
          ],
          "name": "stdout"
        }
      ]
    },
    {
      "cell_type": "code",
      "metadata": {
        "colab": {
          "base_uri": "https://localhost:8080/"
        },
        "id": "sPb1BOaxa9sE",
        "outputId": "b0b90e9d-f592-42a5-c602-77b2d77d2118"
      },
      "source": [
        "## alternative solution\n",
        "days = dict(zip(\"ma ti ke to pe la su\".split(), \"Mon Tue Wed Thu Fri Sat Sun\".split()))\n",
        "months = dict(zip(\"tammi helmi maalis huhti touko kesä heinä elo syys loka marras joulu\".split(), range(1, 13)))\n",
        "\n",
        "def split_date(df):\n",
        "    d = df[\"Päivämäärä\"].str.split(expand=True)\n",
        "    d.columns = [\"Weekday\", \"Day\", \"Month\", \"Year\", \"Hour\"]\n",
        "    hourmin = d[\"Hour\"].str.split(\":\", expand=True)\n",
        "    d[\"Hour\"] = hourmin.iloc[:, 0]\n",
        "    d[\"Weekday\"] = d[\"Weekday\"].map(days)\n",
        "    d[\"Month\"] = d[\"Month\"].map(months)\n",
        "    d = d.astype({\"Weekday\": object, \"Day\": int, \"Month\": int, \"Year\": int, \"Hour\": int})\n",
        "    return d\n",
        "def split_date_continues():\n",
        "    url = \"https://raw.githubusercontent.com/annassanchez/HY-2021-DataScience/main/week04/Helsingin_pyorailijamaarat.csv\"\n",
        "    df = pd.read_csv(url, sep = ';', header = 0)\n",
        "    df = df.dropna(axis=0, how=\"all\").dropna(axis=1, how=\"all\")\n",
        "    d = split_date(df)\n",
        "    df = df.drop(\"Päivämäärä\", axis=1)\n",
        "    result = pd.concat([d, df], axis=1)\n",
        "    return result\n",
        "\n",
        "\n",
        "df = split_date_continues()\n",
        "print(\"Shape:\", df.shape)\n",
        "print(\"Column names:\\n\", df.columns)\n",
        "print(df.head())"
      ],
      "execution_count": 21,
      "outputs": [
        {
          "output_type": "stream",
          "text": [
            "Shape: (37128, 25)\n",
            "Column names:\n",
            " Index(['Weekday', 'Day', 'Month', 'Year', 'Hour', 'Auroransilta',\n",
            "       'Eteläesplanadi', 'Huopalahti (asema)', 'Kaisaniemi/Eläintarhanlahti',\n",
            "       'Kaivokatu', 'Kulosaaren silta et.', 'Kulosaaren silta po. ',\n",
            "       'Kuusisaarentie', 'Käpylä, Pohjoisbaana',\n",
            "       'Lauttasaaren silta eteläpuoli', 'Merikannontie',\n",
            "       'Munkkiniemen silta eteläpuoli', 'Munkkiniemi silta pohjoispuoli',\n",
            "       'Heperian puisto/Ooppera', 'Pitkäsilta itäpuoli',\n",
            "       'Pitkäsilta länsipuoli', 'Lauttasaaren silta pohjoispuoli',\n",
            "       'Ratapihantie', 'Viikintie', 'Baana'],\n",
            "      dtype='object')\n",
            "  Weekday  Day  Month  ...  Ratapihantie  Viikintie  Baana\n",
            "0     Wed    1      1  ...           NaN        NaN    8.0\n",
            "1     Wed    1      1  ...           NaN        NaN    4.0\n",
            "2     Wed    1      1  ...           NaN        NaN   11.0\n",
            "3     Wed    1      1  ...           NaN        NaN    3.0\n",
            "4     Wed    1      1  ...           NaN        NaN    4.0\n",
            "\n",
            "[5 rows x 25 columns]\n"
          ],
          "name": "stdout"
        }
      ]
    },
    {
      "cell_type": "markdown",
      "metadata": {
        "id": "IMbMDZkZNADq"
      },
      "source": [
        "##Merging dataframes"
      ]
    },
    {
      "cell_type": "code",
      "metadata": {
        "id": "0KAEmyIBa9n0",
        "colab": {
          "base_uri": "https://localhost:8080/",
          "height": 112
        },
        "outputId": "b9ffd438-3940-40d8-d08f-9a33f21b78b2"
      },
      "source": [
        "## original dataframe with the wages and ages\n",
        "df = pd.DataFrame([[1000, \"Jack\", 21], [1500, \"John\", 29]], columns=[\"Wage\", \"Name\", \"Age\"])\n",
        "df"
      ],
      "execution_count": 22,
      "outputs": [
        {
          "output_type": "execute_result",
          "data": {
            "text/html": [
              "<div>\n",
              "<style scoped>\n",
              "    .dataframe tbody tr th:only-of-type {\n",
              "        vertical-align: middle;\n",
              "    }\n",
              "\n",
              "    .dataframe tbody tr th {\n",
              "        vertical-align: top;\n",
              "    }\n",
              "\n",
              "    .dataframe thead th {\n",
              "        text-align: right;\n",
              "    }\n",
              "</style>\n",
              "<table border=\"1\" class=\"dataframe\">\n",
              "  <thead>\n",
              "    <tr style=\"text-align: right;\">\n",
              "      <th></th>\n",
              "      <th>Wage</th>\n",
              "      <th>Name</th>\n",
              "      <th>Age</th>\n",
              "    </tr>\n",
              "  </thead>\n",
              "  <tbody>\n",
              "    <tr>\n",
              "      <th>0</th>\n",
              "      <td>1000</td>\n",
              "      <td>Jack</td>\n",
              "      <td>21</td>\n",
              "    </tr>\n",
              "    <tr>\n",
              "      <th>1</th>\n",
              "      <td>1500</td>\n",
              "      <td>John</td>\n",
              "      <td>29</td>\n",
              "    </tr>\n",
              "  </tbody>\n",
              "</table>\n",
              "</div>"
            ],
            "text/plain": [
              "   Wage  Name  Age\n",
              "0  1000  Jack   21\n",
              "1  1500  John   29"
            ]
          },
          "metadata": {
            "tags": []
          },
          "execution_count": 22
        }
      ]
    },
    {
      "cell_type": "code",
      "metadata": {
        "colab": {
          "base_uri": "https://localhost:8080/",
          "height": 112
        },
        "id": "TYk5UPvMNNC-",
        "outputId": "2a72aacf-a008-4879-9477-9d652f627eb9"
      },
      "source": [
        "## occupations of persons\n",
        "df2 = pd.DataFrame({\"Name\" : [\"John\", \"Jack\"], \"Occupation\": [\"Plumber\", \"Carpenter\"]})\n",
        "df2"
      ],
      "execution_count": 23,
      "outputs": [
        {
          "output_type": "execute_result",
          "data": {
            "text/html": [
              "<div>\n",
              "<style scoped>\n",
              "    .dataframe tbody tr th:only-of-type {\n",
              "        vertical-align: middle;\n",
              "    }\n",
              "\n",
              "    .dataframe tbody tr th {\n",
              "        vertical-align: top;\n",
              "    }\n",
              "\n",
              "    .dataframe thead th {\n",
              "        text-align: right;\n",
              "    }\n",
              "</style>\n",
              "<table border=\"1\" class=\"dataframe\">\n",
              "  <thead>\n",
              "    <tr style=\"text-align: right;\">\n",
              "      <th></th>\n",
              "      <th>Name</th>\n",
              "      <th>Occupation</th>\n",
              "    </tr>\n",
              "  </thead>\n",
              "  <tbody>\n",
              "    <tr>\n",
              "      <th>0</th>\n",
              "      <td>John</td>\n",
              "      <td>Plumber</td>\n",
              "    </tr>\n",
              "    <tr>\n",
              "      <th>1</th>\n",
              "      <td>Jack</td>\n",
              "      <td>Carpenter</td>\n",
              "    </tr>\n",
              "  </tbody>\n",
              "</table>\n",
              "</div>"
            ],
            "text/plain": [
              "   Name Occupation\n",
              "0  John    Plumber\n",
              "1  Jack  Carpenter"
            ]
          },
          "metadata": {
            "tags": []
          },
          "execution_count": 23
        }
      ]
    },
    {
      "cell_type": "code",
      "metadata": {
        "colab": {
          "base_uri": "https://localhost:8080/",
          "height": 112
        },
        "id": "-mBhogLTNWWG",
        "outputId": "5a1937e5-c612-471e-93f8-16cfbdffd332"
      },
      "source": [
        "# merge joins two dataframes based on a common field and will keep the indices aligned\n",
        "pd.merge(df, df2)"
      ],
      "execution_count": 24,
      "outputs": [
        {
          "output_type": "execute_result",
          "data": {
            "text/html": [
              "<div>\n",
              "<style scoped>\n",
              "    .dataframe tbody tr th:only-of-type {\n",
              "        vertical-align: middle;\n",
              "    }\n",
              "\n",
              "    .dataframe tbody tr th {\n",
              "        vertical-align: top;\n",
              "    }\n",
              "\n",
              "    .dataframe thead th {\n",
              "        text-align: right;\n",
              "    }\n",
              "</style>\n",
              "<table border=\"1\" class=\"dataframe\">\n",
              "  <thead>\n",
              "    <tr style=\"text-align: right;\">\n",
              "      <th></th>\n",
              "      <th>Wage</th>\n",
              "      <th>Name</th>\n",
              "      <th>Age</th>\n",
              "      <th>Occupation</th>\n",
              "    </tr>\n",
              "  </thead>\n",
              "  <tbody>\n",
              "    <tr>\n",
              "      <th>0</th>\n",
              "      <td>1000</td>\n",
              "      <td>Jack</td>\n",
              "      <td>21</td>\n",
              "      <td>Carpenter</td>\n",
              "    </tr>\n",
              "    <tr>\n",
              "      <th>1</th>\n",
              "      <td>1500</td>\n",
              "      <td>John</td>\n",
              "      <td>29</td>\n",
              "      <td>Plumber</td>\n",
              "    </tr>\n",
              "  </tbody>\n",
              "</table>\n",
              "</div>"
            ],
            "text/plain": [
              "   Wage  Name  Age Occupation\n",
              "0  1000  Jack   21  Carpenter\n",
              "1  1500  John   29    Plumber"
            ]
          },
          "metadata": {
            "tags": []
          },
          "execution_count": 24
        }
      ]
    },
    {
      "cell_type": "code",
      "metadata": {
        "colab": {
          "base_uri": "https://localhost:8080/",
          "height": 143
        },
        "id": "20sVJDYwNpDG",
        "outputId": "5eb7ef6a-8361-483e-b74e-700508112c29"
      },
      "source": [
        "## sometimes not all the keys appear in both dataframes:\n",
        "df3 = pd.concat([df2, pd.DataFrame({ \"Name\" : [\"James\"], \"Occupation\":[\"Painter\"]})], ignore_index=True)\n",
        "df3"
      ],
      "execution_count": 25,
      "outputs": [
        {
          "output_type": "execute_result",
          "data": {
            "text/html": [
              "<div>\n",
              "<style scoped>\n",
              "    .dataframe tbody tr th:only-of-type {\n",
              "        vertical-align: middle;\n",
              "    }\n",
              "\n",
              "    .dataframe tbody tr th {\n",
              "        vertical-align: top;\n",
              "    }\n",
              "\n",
              "    .dataframe thead th {\n",
              "        text-align: right;\n",
              "    }\n",
              "</style>\n",
              "<table border=\"1\" class=\"dataframe\">\n",
              "  <thead>\n",
              "    <tr style=\"text-align: right;\">\n",
              "      <th></th>\n",
              "      <th>Name</th>\n",
              "      <th>Occupation</th>\n",
              "    </tr>\n",
              "  </thead>\n",
              "  <tbody>\n",
              "    <tr>\n",
              "      <th>0</th>\n",
              "      <td>John</td>\n",
              "      <td>Plumber</td>\n",
              "    </tr>\n",
              "    <tr>\n",
              "      <th>1</th>\n",
              "      <td>Jack</td>\n",
              "      <td>Carpenter</td>\n",
              "    </tr>\n",
              "    <tr>\n",
              "      <th>2</th>\n",
              "      <td>James</td>\n",
              "      <td>Painter</td>\n",
              "    </tr>\n",
              "  </tbody>\n",
              "</table>\n",
              "</div>"
            ],
            "text/plain": [
              "    Name Occupation\n",
              "0   John    Plumber\n",
              "1   Jack  Carpenter\n",
              "2  James    Painter"
            ]
          },
          "metadata": {
            "tags": []
          },
          "execution_count": 25
        }
      ]
    },
    {
      "cell_type": "code",
      "metadata": {
        "colab": {
          "base_uri": "https://localhost:8080/",
          "height": 112
        },
        "id": "M9248H6UN4y-",
        "outputId": "7053e8ad-8260-4987-f757-303c3ed7c5ef"
      },
      "source": [
        "## when merging, only joins the common index\n",
        "pd.merge(df, df3)                # By default an inner join is computed"
      ],
      "execution_count": 26,
      "outputs": [
        {
          "output_type": "execute_result",
          "data": {
            "text/html": [
              "<div>\n",
              "<style scoped>\n",
              "    .dataframe tbody tr th:only-of-type {\n",
              "        vertical-align: middle;\n",
              "    }\n",
              "\n",
              "    .dataframe tbody tr th {\n",
              "        vertical-align: top;\n",
              "    }\n",
              "\n",
              "    .dataframe thead th {\n",
              "        text-align: right;\n",
              "    }\n",
              "</style>\n",
              "<table border=\"1\" class=\"dataframe\">\n",
              "  <thead>\n",
              "    <tr style=\"text-align: right;\">\n",
              "      <th></th>\n",
              "      <th>Wage</th>\n",
              "      <th>Name</th>\n",
              "      <th>Age</th>\n",
              "      <th>Occupation</th>\n",
              "    </tr>\n",
              "  </thead>\n",
              "  <tbody>\n",
              "    <tr>\n",
              "      <th>0</th>\n",
              "      <td>1000</td>\n",
              "      <td>Jack</td>\n",
              "      <td>21</td>\n",
              "      <td>Carpenter</td>\n",
              "    </tr>\n",
              "    <tr>\n",
              "      <th>1</th>\n",
              "      <td>1500</td>\n",
              "      <td>John</td>\n",
              "      <td>29</td>\n",
              "      <td>Plumber</td>\n",
              "    </tr>\n",
              "  </tbody>\n",
              "</table>\n",
              "</div>"
            ],
            "text/plain": [
              "   Wage  Name  Age Occupation\n",
              "0  1000  Jack   21  Carpenter\n",
              "1  1500  John   29    Plumber"
            ]
          },
          "metadata": {
            "tags": []
          },
          "execution_count": 26
        }
      ]
    },
    {
      "cell_type": "code",
      "metadata": {
        "colab": {
          "base_uri": "https://localhost:8080/",
          "height": 143
        },
        "id": "Qw57fwlvN_uV",
        "outputId": "7dc6000b-e89f-42c8-bc07-34f6e1b9ea81"
      },
      "source": [
        "pd.merge(df, df3, how=\"outer\")   # Outer join"
      ],
      "execution_count": 27,
      "outputs": [
        {
          "output_type": "execute_result",
          "data": {
            "text/html": [
              "<div>\n",
              "<style scoped>\n",
              "    .dataframe tbody tr th:only-of-type {\n",
              "        vertical-align: middle;\n",
              "    }\n",
              "\n",
              "    .dataframe tbody tr th {\n",
              "        vertical-align: top;\n",
              "    }\n",
              "\n",
              "    .dataframe thead th {\n",
              "        text-align: right;\n",
              "    }\n",
              "</style>\n",
              "<table border=\"1\" class=\"dataframe\">\n",
              "  <thead>\n",
              "    <tr style=\"text-align: right;\">\n",
              "      <th></th>\n",
              "      <th>Wage</th>\n",
              "      <th>Name</th>\n",
              "      <th>Age</th>\n",
              "      <th>Occupation</th>\n",
              "    </tr>\n",
              "  </thead>\n",
              "  <tbody>\n",
              "    <tr>\n",
              "      <th>0</th>\n",
              "      <td>1000.0</td>\n",
              "      <td>Jack</td>\n",
              "      <td>21.0</td>\n",
              "      <td>Carpenter</td>\n",
              "    </tr>\n",
              "    <tr>\n",
              "      <th>1</th>\n",
              "      <td>1500.0</td>\n",
              "      <td>John</td>\n",
              "      <td>29.0</td>\n",
              "      <td>Plumber</td>\n",
              "    </tr>\n",
              "    <tr>\n",
              "      <th>2</th>\n",
              "      <td>NaN</td>\n",
              "      <td>James</td>\n",
              "      <td>NaN</td>\n",
              "      <td>Painter</td>\n",
              "    </tr>\n",
              "  </tbody>\n",
              "</table>\n",
              "</div>"
            ],
            "text/plain": [
              "     Wage   Name   Age Occupation\n",
              "0  1000.0   Jack  21.0  Carpenter\n",
              "1  1500.0   John  29.0    Plumber\n",
              "2     NaN  James   NaN    Painter"
            ]
          },
          "metadata": {
            "tags": []
          },
          "execution_count": 27
        }
      ]
    },
    {
      "cell_type": "code",
      "metadata": {
        "colab": {
          "base_uri": "https://localhost:8080/",
          "height": 143
        },
        "id": "-J_141lXOCIN",
        "outputId": "0d19e501-dcbc-42ef-a26f-29d93eb554fd"
      },
      "source": [
        "## one-to-many relationship is also possible on merges\n",
        "books = pd.DataFrame({\"Title\" : [\"War and Peace\", \"Good Omens\", \"Good Omens\"] ,\n",
        "                      \"Author\" : [\"Tolstoi\", \"Terry Pratchett\", \"Neil Gaiman\"]})\n",
        "books"
      ],
      "execution_count": 28,
      "outputs": [
        {
          "output_type": "execute_result",
          "data": {
            "text/html": [
              "<div>\n",
              "<style scoped>\n",
              "    .dataframe tbody tr th:only-of-type {\n",
              "        vertical-align: middle;\n",
              "    }\n",
              "\n",
              "    .dataframe tbody tr th {\n",
              "        vertical-align: top;\n",
              "    }\n",
              "\n",
              "    .dataframe thead th {\n",
              "        text-align: right;\n",
              "    }\n",
              "</style>\n",
              "<table border=\"1\" class=\"dataframe\">\n",
              "  <thead>\n",
              "    <tr style=\"text-align: right;\">\n",
              "      <th></th>\n",
              "      <th>Title</th>\n",
              "      <th>Author</th>\n",
              "    </tr>\n",
              "  </thead>\n",
              "  <tbody>\n",
              "    <tr>\n",
              "      <th>0</th>\n",
              "      <td>War and Peace</td>\n",
              "      <td>Tolstoi</td>\n",
              "    </tr>\n",
              "    <tr>\n",
              "      <th>1</th>\n",
              "      <td>Good Omens</td>\n",
              "      <td>Terry Pratchett</td>\n",
              "    </tr>\n",
              "    <tr>\n",
              "      <th>2</th>\n",
              "      <td>Good Omens</td>\n",
              "      <td>Neil Gaiman</td>\n",
              "    </tr>\n",
              "  </tbody>\n",
              "</table>\n",
              "</div>"
            ],
            "text/plain": [
              "           Title           Author\n",
              "0  War and Peace          Tolstoi\n",
              "1     Good Omens  Terry Pratchett\n",
              "2     Good Omens      Neil Gaiman"
            ]
          },
          "metadata": {
            "tags": []
          },
          "execution_count": 28
        }
      ]
    },
    {
      "cell_type": "code",
      "metadata": {
        "colab": {
          "base_uri": "https://localhost:8080/",
          "height": 175
        },
        "id": "bNxxwnUcOHJt",
        "outputId": "b5685053-16fe-4ff5-bc9b-069814e4de6c"
      },
      "source": [
        "collections = pd.DataFrame([[\"Oodi\", \"War and Peace\"],\n",
        "                           [\"Oodi\", \"Good Omens\"],\n",
        "                           [\"Pasila\", \"Good Omens\"],\n",
        "                           [\"Kallio\", \"War and Peace\"]], columns=[\"Library\", \"Title\"])\n",
        "collections"
      ],
      "execution_count": 29,
      "outputs": [
        {
          "output_type": "execute_result",
          "data": {
            "text/html": [
              "<div>\n",
              "<style scoped>\n",
              "    .dataframe tbody tr th:only-of-type {\n",
              "        vertical-align: middle;\n",
              "    }\n",
              "\n",
              "    .dataframe tbody tr th {\n",
              "        vertical-align: top;\n",
              "    }\n",
              "\n",
              "    .dataframe thead th {\n",
              "        text-align: right;\n",
              "    }\n",
              "</style>\n",
              "<table border=\"1\" class=\"dataframe\">\n",
              "  <thead>\n",
              "    <tr style=\"text-align: right;\">\n",
              "      <th></th>\n",
              "      <th>Library</th>\n",
              "      <th>Title</th>\n",
              "    </tr>\n",
              "  </thead>\n",
              "  <tbody>\n",
              "    <tr>\n",
              "      <th>0</th>\n",
              "      <td>Oodi</td>\n",
              "      <td>War and Peace</td>\n",
              "    </tr>\n",
              "    <tr>\n",
              "      <th>1</th>\n",
              "      <td>Oodi</td>\n",
              "      <td>Good Omens</td>\n",
              "    </tr>\n",
              "    <tr>\n",
              "      <th>2</th>\n",
              "      <td>Pasila</td>\n",
              "      <td>Good Omens</td>\n",
              "    </tr>\n",
              "    <tr>\n",
              "      <th>3</th>\n",
              "      <td>Kallio</td>\n",
              "      <td>War and Peace</td>\n",
              "    </tr>\n",
              "  </tbody>\n",
              "</table>\n",
              "</div>"
            ],
            "text/plain": [
              "  Library          Title\n",
              "0    Oodi  War and Peace\n",
              "1    Oodi     Good Omens\n",
              "2  Pasila     Good Omens\n",
              "3  Kallio  War and Peace"
            ]
          },
          "metadata": {
            "tags": []
          },
          "execution_count": 29
        }
      ]
    },
    {
      "cell_type": "code",
      "metadata": {
        "colab": {
          "base_uri": "https://localhost:8080/",
          "height": 238
        },
        "id": "DDKrQ3PrOJid",
        "outputId": "2b3511e4-10ca-4baa-cb60-f595cf328d3e"
      },
      "source": [
        "libraries_with_books_by = pd.merge(books, collections)\n",
        "libraries_with_books_by"
      ],
      "execution_count": 30,
      "outputs": [
        {
          "output_type": "execute_result",
          "data": {
            "text/html": [
              "<div>\n",
              "<style scoped>\n",
              "    .dataframe tbody tr th:only-of-type {\n",
              "        vertical-align: middle;\n",
              "    }\n",
              "\n",
              "    .dataframe tbody tr th {\n",
              "        vertical-align: top;\n",
              "    }\n",
              "\n",
              "    .dataframe thead th {\n",
              "        text-align: right;\n",
              "    }\n",
              "</style>\n",
              "<table border=\"1\" class=\"dataframe\">\n",
              "  <thead>\n",
              "    <tr style=\"text-align: right;\">\n",
              "      <th></th>\n",
              "      <th>Title</th>\n",
              "      <th>Author</th>\n",
              "      <th>Library</th>\n",
              "    </tr>\n",
              "  </thead>\n",
              "  <tbody>\n",
              "    <tr>\n",
              "      <th>0</th>\n",
              "      <td>War and Peace</td>\n",
              "      <td>Tolstoi</td>\n",
              "      <td>Oodi</td>\n",
              "    </tr>\n",
              "    <tr>\n",
              "      <th>1</th>\n",
              "      <td>War and Peace</td>\n",
              "      <td>Tolstoi</td>\n",
              "      <td>Kallio</td>\n",
              "    </tr>\n",
              "    <tr>\n",
              "      <th>2</th>\n",
              "      <td>Good Omens</td>\n",
              "      <td>Terry Pratchett</td>\n",
              "      <td>Oodi</td>\n",
              "    </tr>\n",
              "    <tr>\n",
              "      <th>3</th>\n",
              "      <td>Good Omens</td>\n",
              "      <td>Terry Pratchett</td>\n",
              "      <td>Pasila</td>\n",
              "    </tr>\n",
              "    <tr>\n",
              "      <th>4</th>\n",
              "      <td>Good Omens</td>\n",
              "      <td>Neil Gaiman</td>\n",
              "      <td>Oodi</td>\n",
              "    </tr>\n",
              "    <tr>\n",
              "      <th>5</th>\n",
              "      <td>Good Omens</td>\n",
              "      <td>Neil Gaiman</td>\n",
              "      <td>Pasila</td>\n",
              "    </tr>\n",
              "  </tbody>\n",
              "</table>\n",
              "</div>"
            ],
            "text/plain": [
              "           Title           Author Library\n",
              "0  War and Peace          Tolstoi    Oodi\n",
              "1  War and Peace          Tolstoi  Kallio\n",
              "2     Good Omens  Terry Pratchett    Oodi\n",
              "3     Good Omens  Terry Pratchett  Pasila\n",
              "4     Good Omens      Neil Gaiman    Oodi\n",
              "5     Good Omens      Neil Gaiman  Pasila"
            ]
          },
          "metadata": {
            "tags": []
          },
          "execution_count": 30
        }
      ]
    },
    {
      "cell_type": "code",
      "metadata": {
        "id": "4VaY7l9DOcPH"
      },
      "source": [
        "## exercise 02: cycling weather\n",
        "def cycling_weather():\n",
        "  url_weather = 'https://raw.githubusercontent.com/annassanchez/HY-2021-DataScience/main/week05/kumpula-weather-2017.csv'\n",
        "  url_cycling = 'https://raw.githubusercontent.com/annassanchez/HY-2021-DataScience/main/week05/Helsingin_pyorailijamaarat.csv'\n",
        "  df_weather = pd.read_csv(url_weather, sep=',')\n",
        "  df_cycling = pd.read_csv(url_cycling, sep=';')\n",
        "  df_cycling = df_cycling.dropna(axis=0, how=\"all\").dropna(axis=1, how=\"all\")\n",
        "  df_cycling[[\"Weekday\", \"Day\", \"Month\", \"Year\", \"Hour\"]] = df_cycling['Päivämäärä'].str.split(expand=True)\n",
        "  df_cycling[[\"Month\"]] = df_cycling[[\"Month\"]].replace({\"tammi\": \"1\", \"helmi\": \"2\", \"maalis\": \"3\", \n",
        "                                                          \"huhti\": \"4\", \"touko\": \"5\", \"kesä\": \"6\", \n",
        "                                                          \"heinä\": \"7\", \"elo\": \"8\", \"syys\": \"9\", \n",
        "                                                          \"loka\": \"10\", \"marras\": \"11\", \"joulu\": \"12\"})\n",
        "  df_cycling = df_cycling.astype({\"Weekday\": object, \"Day\": int, \"Month\": int, \"Year\": int})\n",
        "  df_cyc_weat = pd.merge(df_weather, df_cycling, left_on=['d', 'm', 'Year'], \n",
        "                          right_on=[\"Day\", \"Month\", \"Year\"])\n",
        "  df_cyc_weat.drop(['m', 'd', 'Time', 'Time zone', 'Päivämäärä'], inplace=True, axis = 1)\n",
        "  return df_cyc_weat"
      ],
      "execution_count": 31,
      "outputs": []
    },
    {
      "cell_type": "code",
      "metadata": {
        "colab": {
          "base_uri": "https://localhost:8080/",
          "height": 479
        },
        "id": "M796ixxbTNFu",
        "outputId": "df207ab9-51b3-4d77-d257-d2fedc778695"
      },
      "source": [
        "cycling_weather()"
      ],
      "execution_count": 32,
      "outputs": [
        {
          "output_type": "execute_result",
          "data": {
            "text/html": [
              "<div>\n",
              "<style scoped>\n",
              "    .dataframe tbody tr th:only-of-type {\n",
              "        vertical-align: middle;\n",
              "    }\n",
              "\n",
              "    .dataframe tbody tr th {\n",
              "        vertical-align: top;\n",
              "    }\n",
              "\n",
              "    .dataframe thead th {\n",
              "        text-align: right;\n",
              "    }\n",
              "</style>\n",
              "<table border=\"1\" class=\"dataframe\">\n",
              "  <thead>\n",
              "    <tr style=\"text-align: right;\">\n",
              "      <th></th>\n",
              "      <th>Year</th>\n",
              "      <th>Precipitation amount (mm)</th>\n",
              "      <th>Snow depth (cm)</th>\n",
              "      <th>Air temperature (degC)</th>\n",
              "      <th>Auroransilta</th>\n",
              "      <th>Eteläesplanadi</th>\n",
              "      <th>Huopalahti (asema)</th>\n",
              "      <th>Kaisaniemi/Eläintarhanlahti</th>\n",
              "      <th>Kaivokatu</th>\n",
              "      <th>Kulosaaren silta et.</th>\n",
              "      <th>Kulosaaren silta po.</th>\n",
              "      <th>Kuusisaarentie</th>\n",
              "      <th>Käpylä, Pohjoisbaana</th>\n",
              "      <th>Lauttasaaren silta eteläpuoli</th>\n",
              "      <th>Merikannontie</th>\n",
              "      <th>Munkkiniemen silta eteläpuoli</th>\n",
              "      <th>Munkkiniemi silta pohjoispuoli</th>\n",
              "      <th>Heperian puisto/Ooppera</th>\n",
              "      <th>Pitkäsilta itäpuoli</th>\n",
              "      <th>Pitkäsilta länsipuoli</th>\n",
              "      <th>Lauttasaaren silta pohjoispuoli</th>\n",
              "      <th>Ratapihantie</th>\n",
              "      <th>Viikintie</th>\n",
              "      <th>Baana</th>\n",
              "      <th>Weekday</th>\n",
              "      <th>Day</th>\n",
              "      <th>Month</th>\n",
              "      <th>Hour</th>\n",
              "    </tr>\n",
              "  </thead>\n",
              "  <tbody>\n",
              "    <tr>\n",
              "      <th>0</th>\n",
              "      <td>2017</td>\n",
              "      <td>-1.0</td>\n",
              "      <td>-1.0</td>\n",
              "      <td>0.6</td>\n",
              "      <td>NaN</td>\n",
              "      <td>11.0</td>\n",
              "      <td>8.0</td>\n",
              "      <td>14.0</td>\n",
              "      <td>NaN</td>\n",
              "      <td>0.0</td>\n",
              "      <td>10.0</td>\n",
              "      <td>2.0</td>\n",
              "      <td>NaN</td>\n",
              "      <td>21.0</td>\n",
              "      <td>8.0</td>\n",
              "      <td>10.0</td>\n",
              "      <td>4.0</td>\n",
              "      <td>22.0</td>\n",
              "      <td>19.0</td>\n",
              "      <td>14.0</td>\n",
              "      <td>15.0</td>\n",
              "      <td>8.0</td>\n",
              "      <td>NaN</td>\n",
              "      <td>13.0</td>\n",
              "      <td>su</td>\n",
              "      <td>1</td>\n",
              "      <td>1</td>\n",
              "      <td>00:00</td>\n",
              "    </tr>\n",
              "    <tr>\n",
              "      <th>1</th>\n",
              "      <td>2017</td>\n",
              "      <td>-1.0</td>\n",
              "      <td>-1.0</td>\n",
              "      <td>0.6</td>\n",
              "      <td>NaN</td>\n",
              "      <td>3.0</td>\n",
              "      <td>3.0</td>\n",
              "      <td>8.0</td>\n",
              "      <td>NaN</td>\n",
              "      <td>0.0</td>\n",
              "      <td>8.0</td>\n",
              "      <td>5.0</td>\n",
              "      <td>NaN</td>\n",
              "      <td>7.0</td>\n",
              "      <td>5.0</td>\n",
              "      <td>4.0</td>\n",
              "      <td>3.0</td>\n",
              "      <td>12.0</td>\n",
              "      <td>5.0</td>\n",
              "      <td>12.0</td>\n",
              "      <td>17.0</td>\n",
              "      <td>1.0</td>\n",
              "      <td>NaN</td>\n",
              "      <td>2.0</td>\n",
              "      <td>su</td>\n",
              "      <td>1</td>\n",
              "      <td>1</td>\n",
              "      <td>01:00</td>\n",
              "    </tr>\n",
              "    <tr>\n",
              "      <th>2</th>\n",
              "      <td>2017</td>\n",
              "      <td>-1.0</td>\n",
              "      <td>-1.0</td>\n",
              "      <td>0.6</td>\n",
              "      <td>NaN</td>\n",
              "      <td>2.0</td>\n",
              "      <td>5.0</td>\n",
              "      <td>5.0</td>\n",
              "      <td>NaN</td>\n",
              "      <td>0.0</td>\n",
              "      <td>2.0</td>\n",
              "      <td>3.0</td>\n",
              "      <td>NaN</td>\n",
              "      <td>6.0</td>\n",
              "      <td>5.0</td>\n",
              "      <td>4.0</td>\n",
              "      <td>4.0</td>\n",
              "      <td>4.0</td>\n",
              "      <td>5.0</td>\n",
              "      <td>6.0</td>\n",
              "      <td>5.0</td>\n",
              "      <td>5.0</td>\n",
              "      <td>NaN</td>\n",
              "      <td>3.0</td>\n",
              "      <td>su</td>\n",
              "      <td>1</td>\n",
              "      <td>1</td>\n",
              "      <td>02:00</td>\n",
              "    </tr>\n",
              "    <tr>\n",
              "      <th>3</th>\n",
              "      <td>2017</td>\n",
              "      <td>-1.0</td>\n",
              "      <td>-1.0</td>\n",
              "      <td>0.6</td>\n",
              "      <td>NaN</td>\n",
              "      <td>2.0</td>\n",
              "      <td>1.0</td>\n",
              "      <td>0.0</td>\n",
              "      <td>NaN</td>\n",
              "      <td>0.0</td>\n",
              "      <td>0.0</td>\n",
              "      <td>2.0</td>\n",
              "      <td>NaN</td>\n",
              "      <td>6.0</td>\n",
              "      <td>0.0</td>\n",
              "      <td>2.0</td>\n",
              "      <td>0.0</td>\n",
              "      <td>6.0</td>\n",
              "      <td>6.0</td>\n",
              "      <td>10.0</td>\n",
              "      <td>0.0</td>\n",
              "      <td>1.0</td>\n",
              "      <td>NaN</td>\n",
              "      <td>7.0</td>\n",
              "      <td>su</td>\n",
              "      <td>1</td>\n",
              "      <td>1</td>\n",
              "      <td>03:00</td>\n",
              "    </tr>\n",
              "    <tr>\n",
              "      <th>4</th>\n",
              "      <td>2017</td>\n",
              "      <td>-1.0</td>\n",
              "      <td>-1.0</td>\n",
              "      <td>0.6</td>\n",
              "      <td>NaN</td>\n",
              "      <td>1.0</td>\n",
              "      <td>0.0</td>\n",
              "      <td>2.0</td>\n",
              "      <td>NaN</td>\n",
              "      <td>0.0</td>\n",
              "      <td>1.0</td>\n",
              "      <td>1.0</td>\n",
              "      <td>NaN</td>\n",
              "      <td>1.0</td>\n",
              "      <td>0.0</td>\n",
              "      <td>1.0</td>\n",
              "      <td>1.0</td>\n",
              "      <td>7.0</td>\n",
              "      <td>1.0</td>\n",
              "      <td>6.0</td>\n",
              "      <td>1.0</td>\n",
              "      <td>0.0</td>\n",
              "      <td>NaN</td>\n",
              "      <td>3.0</td>\n",
              "      <td>su</td>\n",
              "      <td>1</td>\n",
              "      <td>1</td>\n",
              "      <td>04:00</td>\n",
              "    </tr>\n",
              "    <tr>\n",
              "      <th>...</th>\n",
              "      <td>...</td>\n",
              "      <td>...</td>\n",
              "      <td>...</td>\n",
              "      <td>...</td>\n",
              "      <td>...</td>\n",
              "      <td>...</td>\n",
              "      <td>...</td>\n",
              "      <td>...</td>\n",
              "      <td>...</td>\n",
              "      <td>...</td>\n",
              "      <td>...</td>\n",
              "      <td>...</td>\n",
              "      <td>...</td>\n",
              "      <td>...</td>\n",
              "      <td>...</td>\n",
              "      <td>...</td>\n",
              "      <td>...</td>\n",
              "      <td>...</td>\n",
              "      <td>...</td>\n",
              "      <td>...</td>\n",
              "      <td>...</td>\n",
              "      <td>...</td>\n",
              "      <td>...</td>\n",
              "      <td>...</td>\n",
              "      <td>...</td>\n",
              "      <td>...</td>\n",
              "      <td>...</td>\n",
              "      <td>...</td>\n",
              "    </tr>\n",
              "    <tr>\n",
              "      <th>8755</th>\n",
              "      <td>2017</td>\n",
              "      <td>3.2</td>\n",
              "      <td>-1.0</td>\n",
              "      <td>1.6</td>\n",
              "      <td>2.0</td>\n",
              "      <td>3.0</td>\n",
              "      <td>3.0</td>\n",
              "      <td>4.0</td>\n",
              "      <td>10.0</td>\n",
              "      <td>0.0</td>\n",
              "      <td>8.0</td>\n",
              "      <td>4.0</td>\n",
              "      <td>5.0</td>\n",
              "      <td>10.0</td>\n",
              "      <td>8.0</td>\n",
              "      <td>4.0</td>\n",
              "      <td>3.0</td>\n",
              "      <td>3.0</td>\n",
              "      <td>13.0</td>\n",
              "      <td>10.0</td>\n",
              "      <td>1.0</td>\n",
              "      <td>4.0</td>\n",
              "      <td>5.0</td>\n",
              "      <td>11.0</td>\n",
              "      <td>su</td>\n",
              "      <td>31</td>\n",
              "      <td>12</td>\n",
              "      <td>19:00</td>\n",
              "    </tr>\n",
              "    <tr>\n",
              "      <th>8756</th>\n",
              "      <td>2017</td>\n",
              "      <td>3.2</td>\n",
              "      <td>-1.0</td>\n",
              "      <td>1.6</td>\n",
              "      <td>2.0</td>\n",
              "      <td>5.0</td>\n",
              "      <td>3.0</td>\n",
              "      <td>3.0</td>\n",
              "      <td>10.0</td>\n",
              "      <td>0.0</td>\n",
              "      <td>6.0</td>\n",
              "      <td>4.0</td>\n",
              "      <td>0.0</td>\n",
              "      <td>6.0</td>\n",
              "      <td>5.0</td>\n",
              "      <td>6.0</td>\n",
              "      <td>4.0</td>\n",
              "      <td>8.0</td>\n",
              "      <td>9.0</td>\n",
              "      <td>7.0</td>\n",
              "      <td>3.0</td>\n",
              "      <td>4.0</td>\n",
              "      <td>1.0</td>\n",
              "      <td>5.0</td>\n",
              "      <td>su</td>\n",
              "      <td>31</td>\n",
              "      <td>12</td>\n",
              "      <td>20:00</td>\n",
              "    </tr>\n",
              "    <tr>\n",
              "      <th>8757</th>\n",
              "      <td>2017</td>\n",
              "      <td>3.2</td>\n",
              "      <td>-1.0</td>\n",
              "      <td>1.6</td>\n",
              "      <td>4.0</td>\n",
              "      <td>7.0</td>\n",
              "      <td>1.0</td>\n",
              "      <td>4.0</td>\n",
              "      <td>11.0</td>\n",
              "      <td>0.0</td>\n",
              "      <td>5.0</td>\n",
              "      <td>0.0</td>\n",
              "      <td>2.0</td>\n",
              "      <td>6.0</td>\n",
              "      <td>4.0</td>\n",
              "      <td>4.0</td>\n",
              "      <td>2.0</td>\n",
              "      <td>7.0</td>\n",
              "      <td>6.0</td>\n",
              "      <td>4.0</td>\n",
              "      <td>2.0</td>\n",
              "      <td>5.0</td>\n",
              "      <td>0.0</td>\n",
              "      <td>8.0</td>\n",
              "      <td>su</td>\n",
              "      <td>31</td>\n",
              "      <td>12</td>\n",
              "      <td>21:00</td>\n",
              "    </tr>\n",
              "    <tr>\n",
              "      <th>8758</th>\n",
              "      <td>2017</td>\n",
              "      <td>3.2</td>\n",
              "      <td>-1.0</td>\n",
              "      <td>1.6</td>\n",
              "      <td>1.0</td>\n",
              "      <td>7.0</td>\n",
              "      <td>1.0</td>\n",
              "      <td>4.0</td>\n",
              "      <td>15.0</td>\n",
              "      <td>0.0</td>\n",
              "      <td>3.0</td>\n",
              "      <td>0.0</td>\n",
              "      <td>4.0</td>\n",
              "      <td>4.0</td>\n",
              "      <td>7.0</td>\n",
              "      <td>4.0</td>\n",
              "      <td>3.0</td>\n",
              "      <td>17.0</td>\n",
              "      <td>4.0</td>\n",
              "      <td>8.0</td>\n",
              "      <td>2.0</td>\n",
              "      <td>2.0</td>\n",
              "      <td>3.0</td>\n",
              "      <td>8.0</td>\n",
              "      <td>su</td>\n",
              "      <td>31</td>\n",
              "      <td>12</td>\n",
              "      <td>22:00</td>\n",
              "    </tr>\n",
              "    <tr>\n",
              "      <th>8759</th>\n",
              "      <td>2017</td>\n",
              "      <td>3.2</td>\n",
              "      <td>-1.0</td>\n",
              "      <td>1.6</td>\n",
              "      <td>8.0</td>\n",
              "      <td>5.0</td>\n",
              "      <td>2.0</td>\n",
              "      <td>7.0</td>\n",
              "      <td>10.0</td>\n",
              "      <td>0.0</td>\n",
              "      <td>8.0</td>\n",
              "      <td>3.0</td>\n",
              "      <td>0.0</td>\n",
              "      <td>2.0</td>\n",
              "      <td>12.0</td>\n",
              "      <td>4.0</td>\n",
              "      <td>4.0</td>\n",
              "      <td>16.0</td>\n",
              "      <td>14.0</td>\n",
              "      <td>10.0</td>\n",
              "      <td>3.0</td>\n",
              "      <td>0.0</td>\n",
              "      <td>1.0</td>\n",
              "      <td>15.0</td>\n",
              "      <td>su</td>\n",
              "      <td>31</td>\n",
              "      <td>12</td>\n",
              "      <td>23:00</td>\n",
              "    </tr>\n",
              "  </tbody>\n",
              "</table>\n",
              "<p>8760 rows × 28 columns</p>\n",
              "</div>"
            ],
            "text/plain": [
              "      Year  Precipitation amount (mm)  Snow depth (cm)  ...  Day  Month   Hour\n",
              "0     2017                       -1.0             -1.0  ...    1      1  00:00\n",
              "1     2017                       -1.0             -1.0  ...    1      1  01:00\n",
              "2     2017                       -1.0             -1.0  ...    1      1  02:00\n",
              "3     2017                       -1.0             -1.0  ...    1      1  03:00\n",
              "4     2017                       -1.0             -1.0  ...    1      1  04:00\n",
              "...    ...                        ...              ...  ...  ...    ...    ...\n",
              "8755  2017                        3.2             -1.0  ...   31     12  19:00\n",
              "8756  2017                        3.2             -1.0  ...   31     12  20:00\n",
              "8757  2017                        3.2             -1.0  ...   31     12  21:00\n",
              "8758  2017                        3.2             -1.0  ...   31     12  22:00\n",
              "8759  2017                        3.2             -1.0  ...   31     12  23:00\n",
              "\n",
              "[8760 rows x 28 columns]"
            ]
          },
          "metadata": {
            "tags": []
          },
          "execution_count": 32
        }
      ]
    },
    {
      "cell_type": "code",
      "metadata": {
        "id": "-ff-pkb2Vaqg"
      },
      "source": [
        "## alternative solution\n",
        "days = dict(zip(\"ma ti ke to pe la su\".split(), \"Mon Tue Wed Thu Fri Sat Sun\".split()))\n",
        "months = dict(zip(\"tammi helmi maalis huhti touko kesä heinä elo syys loka marras joulu\".split(), range(1, 13)))\n",
        "\n",
        "def split_date(df):\n",
        "    d = df[\"Päivämäärä\"].str.split(expand=True)\n",
        "    d.columns = [\"Weekday\", \"Day\", \"Month\", \"Year\", \"Hour\"]\n",
        "    hourmin = d[\"Hour\"].str.split(\":\", expand=True)\n",
        "    d[\"Hour\"] = hourmin.iloc[:, 0]\n",
        "    d[\"Weekday\"] = d[\"Weekday\"].map(days)\n",
        "    d[\"Month\"] = d[\"Month\"].map(months)\n",
        "    d = d.astype({\"Weekday\": object, \"Day\": int, \"Month\": int, \"Year\": int, \"Hour\": int})\n",
        "    return d\n",
        "def split_date_continues():\n",
        "    df = pd.read_csv(\"src/Helsingin_pyorailijamaarat.csv\", sep=\";\")\n",
        "    df = df.dropna(axis=0, how=\"all\").dropna(axis=1, how=\"all\")\n",
        "    d = split_date(df)\n",
        "    df = df.drop(\"Päivämäärä\", axis=1)\n",
        "    return pd.concat([d, df], axis=1)\n",
        "def cycling_weather():\n",
        "    wh = pd.read_csv(\"src/kumpula-weather-2017.csv\")\n",
        "    bike = split_date_continues()\n",
        "    result = pd.merge(wh, bike, left_on=[\"Year\", \"m\", \"d\"], right_on=[\"Year\", \"Month\", \"Day\"])\n",
        "    return result.drop(['m', 'd', 'Time', 'Time zone'], axis=1)"
      ],
      "execution_count": 33,
      "outputs": []
    },
    {
      "cell_type": "code",
      "metadata": {
        "id": "vtzKho-xV-2H"
      },
      "source": [
        "## exercise 03: top hands\n",
        "def top_bands():\n",
        "  url_top40 = 'https://raw.githubusercontent.com/annassanchez/HY-2021-DataScience/main/week05/UK-top40-1964-1-2.tsv'\n",
        "  url_bands = 'https://raw.githubusercontent.com/annassanchez/HY-2021-DataScience/main/week05/bands.tsv'\n",
        "  df_top40 = pd.read_csv(url_top40, sep='\\t')\n",
        "  df_top40['Artist'] = df_top40['Artist'].str.title()\n",
        "  df_bands = pd.read_csv(url_bands, sep='\\t')\n",
        "  df_topBands = pd.merge(df_top40, df_bands, left_on='Artist', right_on='Band', how = 'right')\n",
        "  return df_topBands"
      ],
      "execution_count": 34,
      "outputs": []
    },
    {
      "cell_type": "code",
      "metadata": {
        "id": "7orzXAGFXyx_",
        "colab": {
          "base_uri": "https://localhost:8080/"
        },
        "outputId": "6868af24-98c2-467c-ab2b-cda47a46e7b6"
      },
      "source": [
        "top_bands().shape"
      ],
      "execution_count": 35,
      "outputs": [
        {
          "output_type": "execute_result",
          "data": {
            "text/plain": [
              "(9, 13)"
            ]
          },
          "metadata": {
            "tags": []
          },
          "execution_count": 35
        }
      ]
    },
    {
      "cell_type": "code",
      "metadata": {
        "id": "kKyi-14-Wt7X"
      },
      "source": [
        "## alternative solution\n",
        "def top_bands():\n",
        "    top40 = pd.read_csv(\"src/UK-top40-1964-1-2.tsv\", sep=\"\\t\")\n",
        "    bands = pd.read_csv(\"src/bands.tsv\", sep=\"\\t\")\n",
        "    bands[\"Band\"] = bands[\"Band\"].str.upper()\n",
        "    result = pd.merge(top40, bands, left_on=\"Artist\", right_on=\"Band\")\n",
        "    return result "
      ],
      "execution_count": 36,
      "outputs": []
    },
    {
      "cell_type": "markdown",
      "metadata": {
        "id": "07TiF0wMZ4PT"
      },
      "source": [
        "## Aggregates and groupings"
      ]
    },
    {
      "cell_type": "code",
      "metadata": {
        "id": "2aP13bh9Z9tJ"
      },
      "source": [
        "wh = pd.read_csv(\"https://raw.githubusercontent.com/csmastersUH/data_analysis_with_python_2020/master/kumpula-weather-2017.csv\")"
      ],
      "execution_count": 37,
      "outputs": []
    },
    {
      "cell_type": "code",
      "metadata": {
        "id": "haLHaWx2aMya",
        "outputId": "3d9cb570-761b-43f8-fd61-130ff075d66b",
        "colab": {
          "base_uri": "https://localhost:8080/",
          "height": 206
        }
      },
      "source": [
        "## rename method -- renames the columns of a DataFrame\n",
        "wh3 = wh.rename(columns={\"m\": \"Month\", \"d\": \"Day\", \"Precipitation amount (mm)\" : \"Precipitation\",\n",
        "                         \"Snow depth (cm)\" : \"Snow\", \"Air temperature (degC)\" : \"Temperature\"})\n",
        "wh3.head()"
      ],
      "execution_count": 38,
      "outputs": [
        {
          "output_type": "execute_result",
          "data": {
            "text/html": [
              "<div>\n",
              "<style scoped>\n",
              "    .dataframe tbody tr th:only-of-type {\n",
              "        vertical-align: middle;\n",
              "    }\n",
              "\n",
              "    .dataframe tbody tr th {\n",
              "        vertical-align: top;\n",
              "    }\n",
              "\n",
              "    .dataframe thead th {\n",
              "        text-align: right;\n",
              "    }\n",
              "</style>\n",
              "<table border=\"1\" class=\"dataframe\">\n",
              "  <thead>\n",
              "    <tr style=\"text-align: right;\">\n",
              "      <th></th>\n",
              "      <th>Year</th>\n",
              "      <th>Month</th>\n",
              "      <th>Day</th>\n",
              "      <th>Time</th>\n",
              "      <th>Time zone</th>\n",
              "      <th>Precipitation</th>\n",
              "      <th>Snow</th>\n",
              "      <th>Temperature</th>\n",
              "    </tr>\n",
              "  </thead>\n",
              "  <tbody>\n",
              "    <tr>\n",
              "      <th>0</th>\n",
              "      <td>2017</td>\n",
              "      <td>1</td>\n",
              "      <td>1</td>\n",
              "      <td>00:00</td>\n",
              "      <td>UTC</td>\n",
              "      <td>-1.0</td>\n",
              "      <td>-1.0</td>\n",
              "      <td>0.6</td>\n",
              "    </tr>\n",
              "    <tr>\n",
              "      <th>1</th>\n",
              "      <td>2017</td>\n",
              "      <td>1</td>\n",
              "      <td>2</td>\n",
              "      <td>00:00</td>\n",
              "      <td>UTC</td>\n",
              "      <td>4.4</td>\n",
              "      <td>-1.0</td>\n",
              "      <td>-3.9</td>\n",
              "    </tr>\n",
              "    <tr>\n",
              "      <th>2</th>\n",
              "      <td>2017</td>\n",
              "      <td>1</td>\n",
              "      <td>3</td>\n",
              "      <td>00:00</td>\n",
              "      <td>UTC</td>\n",
              "      <td>6.6</td>\n",
              "      <td>7.0</td>\n",
              "      <td>-6.5</td>\n",
              "    </tr>\n",
              "    <tr>\n",
              "      <th>3</th>\n",
              "      <td>2017</td>\n",
              "      <td>1</td>\n",
              "      <td>4</td>\n",
              "      <td>00:00</td>\n",
              "      <td>UTC</td>\n",
              "      <td>-1.0</td>\n",
              "      <td>13.0</td>\n",
              "      <td>-12.8</td>\n",
              "    </tr>\n",
              "    <tr>\n",
              "      <th>4</th>\n",
              "      <td>2017</td>\n",
              "      <td>1</td>\n",
              "      <td>5</td>\n",
              "      <td>00:00</td>\n",
              "      <td>UTC</td>\n",
              "      <td>-1.0</td>\n",
              "      <td>10.0</td>\n",
              "      <td>-17.8</td>\n",
              "    </tr>\n",
              "  </tbody>\n",
              "</table>\n",
              "</div>"
            ],
            "text/plain": [
              "   Year  Month  Day   Time Time zone  Precipitation  Snow  Temperature\n",
              "0  2017      1    1  00:00       UTC           -1.0  -1.0          0.6\n",
              "1  2017      1    2  00:00       UTC            4.4  -1.0         -3.9\n",
              "2  2017      1    3  00:00       UTC            6.6   7.0         -6.5\n",
              "3  2017      1    4  00:00       UTC           -1.0  13.0        -12.8\n",
              "4  2017      1    5  00:00       UTC           -1.0  10.0        -17.8"
            ]
          },
          "metadata": {
            "tags": []
          },
          "execution_count": 38
        }
      ]
    },
    {
      "cell_type": "code",
      "metadata": {
        "id": "xfukJ3qnaO8p",
        "outputId": "474efd14-47d1-4a12-f139-0814f14df8f2",
        "colab": {
          "base_uri": "https://localhost:8080/"
        }
      },
      "source": [
        "## the groupby mehtod splits the dataframe into groups -- for example, you can add from months\n",
        "groups = wh3.groupby(\"Month\")\n",
        "groups"
      ],
      "execution_count": 39,
      "outputs": [
        {
          "output_type": "execute_result",
          "data": {
            "text/plain": [
              "<pandas.core.groupby.generic.DataFrameGroupBy object at 0x7fbb96cce910>"
            ]
          },
          "metadata": {
            "tags": []
          },
          "execution_count": 39
        }
      ]
    },
    {
      "cell_type": "code",
      "metadata": {
        "id": "M6WLDoeJakvh",
        "outputId": "b0f16a65-5da0-4a8c-e34a-c9875ba6c8e7",
        "colab": {
          "base_uri": "https://localhost:8080/"
        }
      },
      "source": [
        "len(groups)"
      ],
      "execution_count": 40,
      "outputs": [
        {
          "output_type": "execute_result",
          "data": {
            "text/plain": [
              "12"
            ]
          },
          "metadata": {
            "tags": []
          },
          "execution_count": 40
        }
      ]
    },
    {
      "cell_type": "code",
      "metadata": {
        "id": "R0ONq2Slaohi",
        "outputId": "bede11d3-890c-4f93-fe7c-0d764b43efdd",
        "colab": {
          "base_uri": "https://localhost:8080/"
        }
      },
      "source": [
        "for key, group in groups:\n",
        "    print(key, len(group))"
      ],
      "execution_count": 41,
      "outputs": [
        {
          "output_type": "stream",
          "text": [
            "1 31\n",
            "2 28\n",
            "3 31\n",
            "4 30\n",
            "5 31\n",
            "6 30\n",
            "7 31\n",
            "8 31\n",
            "9 30\n",
            "10 31\n",
            "11 30\n",
            "12 31\n"
          ],
          "name": "stdout"
        }
      ]
    },
    {
      "cell_type": "code",
      "metadata": {
        "id": "_5B6vdnNasTN",
        "outputId": "8e2e4d97-3bc7-4fe4-b0db-a731b8d9b801",
        "colab": {
          "base_uri": "https://localhost:8080/",
          "height": 928
        }
      },
      "source": [
        "groups.get_group(2)                 # Group with index two is February"
      ],
      "execution_count": 42,
      "outputs": [
        {
          "output_type": "execute_result",
          "data": {
            "text/html": [
              "<div>\n",
              "<style scoped>\n",
              "    .dataframe tbody tr th:only-of-type {\n",
              "        vertical-align: middle;\n",
              "    }\n",
              "\n",
              "    .dataframe tbody tr th {\n",
              "        vertical-align: top;\n",
              "    }\n",
              "\n",
              "    .dataframe thead th {\n",
              "        text-align: right;\n",
              "    }\n",
              "</style>\n",
              "<table border=\"1\" class=\"dataframe\">\n",
              "  <thead>\n",
              "    <tr style=\"text-align: right;\">\n",
              "      <th></th>\n",
              "      <th>Year</th>\n",
              "      <th>Month</th>\n",
              "      <th>Day</th>\n",
              "      <th>Time</th>\n",
              "      <th>Time zone</th>\n",
              "      <th>Precipitation</th>\n",
              "      <th>Snow</th>\n",
              "      <th>Temperature</th>\n",
              "    </tr>\n",
              "  </thead>\n",
              "  <tbody>\n",
              "    <tr>\n",
              "      <th>31</th>\n",
              "      <td>2017</td>\n",
              "      <td>2</td>\n",
              "      <td>1</td>\n",
              "      <td>00:00</td>\n",
              "      <td>UTC</td>\n",
              "      <td>1.5</td>\n",
              "      <td>4.0</td>\n",
              "      <td>-0.6</td>\n",
              "    </tr>\n",
              "    <tr>\n",
              "      <th>32</th>\n",
              "      <td>2017</td>\n",
              "      <td>2</td>\n",
              "      <td>2</td>\n",
              "      <td>00:00</td>\n",
              "      <td>UTC</td>\n",
              "      <td>0.2</td>\n",
              "      <td>5.0</td>\n",
              "      <td>-0.8</td>\n",
              "    </tr>\n",
              "    <tr>\n",
              "      <th>33</th>\n",
              "      <td>2017</td>\n",
              "      <td>2</td>\n",
              "      <td>3</td>\n",
              "      <td>00:00</td>\n",
              "      <td>UTC</td>\n",
              "      <td>-1.0</td>\n",
              "      <td>6.0</td>\n",
              "      <td>-0.2</td>\n",
              "    </tr>\n",
              "    <tr>\n",
              "      <th>34</th>\n",
              "      <td>2017</td>\n",
              "      <td>2</td>\n",
              "      <td>4</td>\n",
              "      <td>00:00</td>\n",
              "      <td>UTC</td>\n",
              "      <td>2.7</td>\n",
              "      <td>6.0</td>\n",
              "      <td>0.4</td>\n",
              "    </tr>\n",
              "    <tr>\n",
              "      <th>35</th>\n",
              "      <td>2017</td>\n",
              "      <td>2</td>\n",
              "      <td>5</td>\n",
              "      <td>00:00</td>\n",
              "      <td>UTC</td>\n",
              "      <td>-1.0</td>\n",
              "      <td>7.0</td>\n",
              "      <td>-2.5</td>\n",
              "    </tr>\n",
              "    <tr>\n",
              "      <th>36</th>\n",
              "      <td>2017</td>\n",
              "      <td>2</td>\n",
              "      <td>6</td>\n",
              "      <td>00:00</td>\n",
              "      <td>UTC</td>\n",
              "      <td>-1.0</td>\n",
              "      <td>7.0</td>\n",
              "      <td>-7.3</td>\n",
              "    </tr>\n",
              "    <tr>\n",
              "      <th>37</th>\n",
              "      <td>2017</td>\n",
              "      <td>2</td>\n",
              "      <td>7</td>\n",
              "      <td>00:00</td>\n",
              "      <td>UTC</td>\n",
              "      <td>-1.0</td>\n",
              "      <td>8.0</td>\n",
              "      <td>-12.1</td>\n",
              "    </tr>\n",
              "    <tr>\n",
              "      <th>38</th>\n",
              "      <td>2017</td>\n",
              "      <td>2</td>\n",
              "      <td>8</td>\n",
              "      <td>00:00</td>\n",
              "      <td>UTC</td>\n",
              "      <td>-1.0</td>\n",
              "      <td>8.0</td>\n",
              "      <td>-8.8</td>\n",
              "    </tr>\n",
              "    <tr>\n",
              "      <th>39</th>\n",
              "      <td>2017</td>\n",
              "      <td>2</td>\n",
              "      <td>9</td>\n",
              "      <td>00:00</td>\n",
              "      <td>UTC</td>\n",
              "      <td>-1.0</td>\n",
              "      <td>8.0</td>\n",
              "      <td>-10.1</td>\n",
              "    </tr>\n",
              "    <tr>\n",
              "      <th>40</th>\n",
              "      <td>2017</td>\n",
              "      <td>2</td>\n",
              "      <td>10</td>\n",
              "      <td>00:00</td>\n",
              "      <td>UTC</td>\n",
              "      <td>-1.0</td>\n",
              "      <td>8.0</td>\n",
              "      <td>-8.3</td>\n",
              "    </tr>\n",
              "    <tr>\n",
              "      <th>41</th>\n",
              "      <td>2017</td>\n",
              "      <td>2</td>\n",
              "      <td>11</td>\n",
              "      <td>00:00</td>\n",
              "      <td>UTC</td>\n",
              "      <td>-1.0</td>\n",
              "      <td>8.0</td>\n",
              "      <td>-5.4</td>\n",
              "    </tr>\n",
              "    <tr>\n",
              "      <th>42</th>\n",
              "      <td>2017</td>\n",
              "      <td>2</td>\n",
              "      <td>12</td>\n",
              "      <td>00:00</td>\n",
              "      <td>UTC</td>\n",
              "      <td>-1.0</td>\n",
              "      <td>8.0</td>\n",
              "      <td>-2.7</td>\n",
              "    </tr>\n",
              "    <tr>\n",
              "      <th>43</th>\n",
              "      <td>2017</td>\n",
              "      <td>2</td>\n",
              "      <td>13</td>\n",
              "      <td>00:00</td>\n",
              "      <td>UTC</td>\n",
              "      <td>-1.0</td>\n",
              "      <td>8.0</td>\n",
              "      <td>1.5</td>\n",
              "    </tr>\n",
              "    <tr>\n",
              "      <th>44</th>\n",
              "      <td>2017</td>\n",
              "      <td>2</td>\n",
              "      <td>14</td>\n",
              "      <td>00:00</td>\n",
              "      <td>UTC</td>\n",
              "      <td>-1.0</td>\n",
              "      <td>8.0</td>\n",
              "      <td>4.4</td>\n",
              "    </tr>\n",
              "    <tr>\n",
              "      <th>45</th>\n",
              "      <td>2017</td>\n",
              "      <td>2</td>\n",
              "      <td>15</td>\n",
              "      <td>00:00</td>\n",
              "      <td>UTC</td>\n",
              "      <td>-1.0</td>\n",
              "      <td>8.0</td>\n",
              "      <td>0.0</td>\n",
              "    </tr>\n",
              "    <tr>\n",
              "      <th>46</th>\n",
              "      <td>2017</td>\n",
              "      <td>2</td>\n",
              "      <td>16</td>\n",
              "      <td>00:00</td>\n",
              "      <td>UTC</td>\n",
              "      <td>0.9</td>\n",
              "      <td>8.0</td>\n",
              "      <td>0.5</td>\n",
              "    </tr>\n",
              "    <tr>\n",
              "      <th>47</th>\n",
              "      <td>2017</td>\n",
              "      <td>2</td>\n",
              "      <td>17</td>\n",
              "      <td>00:00</td>\n",
              "      <td>UTC</td>\n",
              "      <td>0.2</td>\n",
              "      <td>8.0</td>\n",
              "      <td>1.5</td>\n",
              "    </tr>\n",
              "    <tr>\n",
              "      <th>48</th>\n",
              "      <td>2017</td>\n",
              "      <td>2</td>\n",
              "      <td>18</td>\n",
              "      <td>00:00</td>\n",
              "      <td>UTC</td>\n",
              "      <td>1.5</td>\n",
              "      <td>5.0</td>\n",
              "      <td>1.9</td>\n",
              "    </tr>\n",
              "    <tr>\n",
              "      <th>49</th>\n",
              "      <td>2017</td>\n",
              "      <td>2</td>\n",
              "      <td>19</td>\n",
              "      <td>00:00</td>\n",
              "      <td>UTC</td>\n",
              "      <td>1.1</td>\n",
              "      <td>5.0</td>\n",
              "      <td>2.2</td>\n",
              "    </tr>\n",
              "    <tr>\n",
              "      <th>50</th>\n",
              "      <td>2017</td>\n",
              "      <td>2</td>\n",
              "      <td>20</td>\n",
              "      <td>00:00</td>\n",
              "      <td>UTC</td>\n",
              "      <td>2.8</td>\n",
              "      <td>3.0</td>\n",
              "      <td>0.4</td>\n",
              "    </tr>\n",
              "    <tr>\n",
              "      <th>51</th>\n",
              "      <td>2017</td>\n",
              "      <td>2</td>\n",
              "      <td>21</td>\n",
              "      <td>00:00</td>\n",
              "      <td>UTC</td>\n",
              "      <td>-1.0</td>\n",
              "      <td>7.0</td>\n",
              "      <td>-2.5</td>\n",
              "    </tr>\n",
              "    <tr>\n",
              "      <th>52</th>\n",
              "      <td>2017</td>\n",
              "      <td>2</td>\n",
              "      <td>22</td>\n",
              "      <td>00:00</td>\n",
              "      <td>UTC</td>\n",
              "      <td>12.2</td>\n",
              "      <td>6.0</td>\n",
              "      <td>-4.6</td>\n",
              "    </tr>\n",
              "    <tr>\n",
              "      <th>53</th>\n",
              "      <td>2017</td>\n",
              "      <td>2</td>\n",
              "      <td>23</td>\n",
              "      <td>00:00</td>\n",
              "      <td>UTC</td>\n",
              "      <td>0.3</td>\n",
              "      <td>15.0</td>\n",
              "      <td>-0.7</td>\n",
              "    </tr>\n",
              "    <tr>\n",
              "      <th>54</th>\n",
              "      <td>2017</td>\n",
              "      <td>2</td>\n",
              "      <td>24</td>\n",
              "      <td>00:00</td>\n",
              "      <td>UTC</td>\n",
              "      <td>-1.0</td>\n",
              "      <td>13.0</td>\n",
              "      <td>-5.3</td>\n",
              "    </tr>\n",
              "    <tr>\n",
              "      <th>55</th>\n",
              "      <td>2017</td>\n",
              "      <td>2</td>\n",
              "      <td>25</td>\n",
              "      <td>00:00</td>\n",
              "      <td>UTC</td>\n",
              "      <td>0.4</td>\n",
              "      <td>13.0</td>\n",
              "      <td>-5.6</td>\n",
              "    </tr>\n",
              "    <tr>\n",
              "      <th>56</th>\n",
              "      <td>2017</td>\n",
              "      <td>2</td>\n",
              "      <td>26</td>\n",
              "      <td>00:00</td>\n",
              "      <td>UTC</td>\n",
              "      <td>2.5</td>\n",
              "      <td>12.0</td>\n",
              "      <td>-2.0</td>\n",
              "    </tr>\n",
              "    <tr>\n",
              "      <th>57</th>\n",
              "      <td>2017</td>\n",
              "      <td>2</td>\n",
              "      <td>27</td>\n",
              "      <td>00:00</td>\n",
              "      <td>UTC</td>\n",
              "      <td>1.0</td>\n",
              "      <td>14.0</td>\n",
              "      <td>-2.3</td>\n",
              "    </tr>\n",
              "    <tr>\n",
              "      <th>58</th>\n",
              "      <td>2017</td>\n",
              "      <td>2</td>\n",
              "      <td>28</td>\n",
              "      <td>00:00</td>\n",
              "      <td>UTC</td>\n",
              "      <td>7.7</td>\n",
              "      <td>13.0</td>\n",
              "      <td>2.1</td>\n",
              "    </tr>\n",
              "  </tbody>\n",
              "</table>\n",
              "</div>"
            ],
            "text/plain": [
              "    Year  Month  Day   Time Time zone  Precipitation  Snow  Temperature\n",
              "31  2017      2    1  00:00       UTC            1.5   4.0         -0.6\n",
              "32  2017      2    2  00:00       UTC            0.2   5.0         -0.8\n",
              "33  2017      2    3  00:00       UTC           -1.0   6.0         -0.2\n",
              "34  2017      2    4  00:00       UTC            2.7   6.0          0.4\n",
              "35  2017      2    5  00:00       UTC           -1.0   7.0         -2.5\n",
              "36  2017      2    6  00:00       UTC           -1.0   7.0         -7.3\n",
              "37  2017      2    7  00:00       UTC           -1.0   8.0        -12.1\n",
              "38  2017      2    8  00:00       UTC           -1.0   8.0         -8.8\n",
              "39  2017      2    9  00:00       UTC           -1.0   8.0        -10.1\n",
              "40  2017      2   10  00:00       UTC           -1.0   8.0         -8.3\n",
              "41  2017      2   11  00:00       UTC           -1.0   8.0         -5.4\n",
              "42  2017      2   12  00:00       UTC           -1.0   8.0         -2.7\n",
              "43  2017      2   13  00:00       UTC           -1.0   8.0          1.5\n",
              "44  2017      2   14  00:00       UTC           -1.0   8.0          4.4\n",
              "45  2017      2   15  00:00       UTC           -1.0   8.0          0.0\n",
              "46  2017      2   16  00:00       UTC            0.9   8.0          0.5\n",
              "47  2017      2   17  00:00       UTC            0.2   8.0          1.5\n",
              "48  2017      2   18  00:00       UTC            1.5   5.0          1.9\n",
              "49  2017      2   19  00:00       UTC            1.1   5.0          2.2\n",
              "50  2017      2   20  00:00       UTC            2.8   3.0          0.4\n",
              "51  2017      2   21  00:00       UTC           -1.0   7.0         -2.5\n",
              "52  2017      2   22  00:00       UTC           12.2   6.0         -4.6\n",
              "53  2017      2   23  00:00       UTC            0.3  15.0         -0.7\n",
              "54  2017      2   24  00:00       UTC           -1.0  13.0         -5.3\n",
              "55  2017      2   25  00:00       UTC            0.4  13.0         -5.6\n",
              "56  2017      2   26  00:00       UTC            2.5  12.0         -2.0\n",
              "57  2017      2   27  00:00       UTC            1.0  14.0         -2.3\n",
              "58  2017      2   28  00:00       UTC            7.7  13.0          2.1"
            ]
          },
          "metadata": {
            "tags": []
          },
          "execution_count": 42
        }
      ]
    },
    {
      "cell_type": "code",
      "metadata": {
        "id": "m9tCbq3vc1yK",
        "outputId": "be107490-ebe5-4aeb-dcef-a6ad076f20cc",
        "colab": {
          "base_uri": "https://localhost:8080/"
        }
      },
      "source": [
        "## groupby object works like a df, so some operations are allowed, as subsetting:\n",
        "groups[\"Temperature\"]"
      ],
      "execution_count": 43,
      "outputs": [
        {
          "output_type": "execute_result",
          "data": {
            "text/plain": [
              "<pandas.core.groupby.generic.SeriesGroupBy object at 0x7fbb963dd1d0>"
            ]
          },
          "metadata": {
            "tags": []
          },
          "execution_count": 43
        }
      ]
    },
    {
      "cell_type": "code",
      "metadata": {
        "id": "hXOXX3D6dC2T",
        "outputId": "b258a64e-8103-46a4-e6f8-480d299a6732",
        "colab": {
          "base_uri": "https://localhost:8080/"
        }
      },
      "source": [
        "## also aggregation methods are normally included\n",
        "## the mean aggregation was performed on each group, and the results wer automatically combined\n",
        "groups[\"Temperature\"].mean()"
      ],
      "execution_count": 44,
      "outputs": [
        {
          "output_type": "execute_result",
          "data": {
            "text/plain": [
              "Month\n",
              "1     -2.316129\n",
              "2     -2.389286\n",
              "3      0.983871\n",
              "4      2.676667\n",
              "5      9.783871\n",
              "6     13.726667\n",
              "7     16.035484\n",
              "8     16.183871\n",
              "9     11.826667\n",
              "10     5.454839\n",
              "11     3.950000\n",
              "12     1.741935\n",
              "Name: Temperature, dtype: float64"
            ]
          },
          "metadata": {
            "tags": []
          },
          "execution_count": 44
        }
      ]
    },
    {
      "cell_type": "code",
      "metadata": {
        "id": "uKAo4MMzdJaY",
        "outputId": "d9d98109-8925-4376-d9bc-9927b372b810",
        "colab": {
          "base_uri": "https://localhost:8080/"
        }
      },
      "source": [
        "## let's try with other aggregation\n",
        "groups[\"Precipitation\"].sum()"
      ],
      "execution_count": 45,
      "outputs": [
        {
          "output_type": "execute_result",
          "data": {
            "text/plain": [
              "Month\n",
              "1      26.9\n",
              "2      21.0\n",
              "3      29.7\n",
              "4      26.9\n",
              "5      -5.9\n",
              "6      59.3\n",
              "7      14.2\n",
              "8      70.1\n",
              "9      51.2\n",
              "10    173.5\n",
              "11    117.2\n",
              "12    133.6\n",
              "Name: Precipitation, dtype: float64"
            ]
          },
          "metadata": {
            "tags": []
          },
          "execution_count": 45
        }
      ]
    },
    {
      "cell_type": "code",
      "metadata": {
        "id": "SlXPWMWKdX5U",
        "outputId": "0f09a6dd-2f34-459c-c1e8-7b00d7a35d35",
        "colab": {
          "base_uri": "https://localhost:8080/",
          "height": 206
        }
      },
      "source": [
        "## the negative precipitation values are causing trouble\n",
        "## make them 0\n",
        "wh4 = wh3.copy()\n",
        "wh4.loc[wh4.Precipitation == -1, \"Precipitation\"] = 0\n",
        "wh4.loc[wh4.Snow == -1, \"Snow\"] = 0\n",
        "wh4.head()"
      ],
      "execution_count": 46,
      "outputs": [
        {
          "output_type": "execute_result",
          "data": {
            "text/html": [
              "<div>\n",
              "<style scoped>\n",
              "    .dataframe tbody tr th:only-of-type {\n",
              "        vertical-align: middle;\n",
              "    }\n",
              "\n",
              "    .dataframe tbody tr th {\n",
              "        vertical-align: top;\n",
              "    }\n",
              "\n",
              "    .dataframe thead th {\n",
              "        text-align: right;\n",
              "    }\n",
              "</style>\n",
              "<table border=\"1\" class=\"dataframe\">\n",
              "  <thead>\n",
              "    <tr style=\"text-align: right;\">\n",
              "      <th></th>\n",
              "      <th>Year</th>\n",
              "      <th>Month</th>\n",
              "      <th>Day</th>\n",
              "      <th>Time</th>\n",
              "      <th>Time zone</th>\n",
              "      <th>Precipitation</th>\n",
              "      <th>Snow</th>\n",
              "      <th>Temperature</th>\n",
              "    </tr>\n",
              "  </thead>\n",
              "  <tbody>\n",
              "    <tr>\n",
              "      <th>0</th>\n",
              "      <td>2017</td>\n",
              "      <td>1</td>\n",
              "      <td>1</td>\n",
              "      <td>00:00</td>\n",
              "      <td>UTC</td>\n",
              "      <td>0.0</td>\n",
              "      <td>0.0</td>\n",
              "      <td>0.6</td>\n",
              "    </tr>\n",
              "    <tr>\n",
              "      <th>1</th>\n",
              "      <td>2017</td>\n",
              "      <td>1</td>\n",
              "      <td>2</td>\n",
              "      <td>00:00</td>\n",
              "      <td>UTC</td>\n",
              "      <td>4.4</td>\n",
              "      <td>0.0</td>\n",
              "      <td>-3.9</td>\n",
              "    </tr>\n",
              "    <tr>\n",
              "      <th>2</th>\n",
              "      <td>2017</td>\n",
              "      <td>1</td>\n",
              "      <td>3</td>\n",
              "      <td>00:00</td>\n",
              "      <td>UTC</td>\n",
              "      <td>6.6</td>\n",
              "      <td>7.0</td>\n",
              "      <td>-6.5</td>\n",
              "    </tr>\n",
              "    <tr>\n",
              "      <th>3</th>\n",
              "      <td>2017</td>\n",
              "      <td>1</td>\n",
              "      <td>4</td>\n",
              "      <td>00:00</td>\n",
              "      <td>UTC</td>\n",
              "      <td>0.0</td>\n",
              "      <td>13.0</td>\n",
              "      <td>-12.8</td>\n",
              "    </tr>\n",
              "    <tr>\n",
              "      <th>4</th>\n",
              "      <td>2017</td>\n",
              "      <td>1</td>\n",
              "      <td>5</td>\n",
              "      <td>00:00</td>\n",
              "      <td>UTC</td>\n",
              "      <td>0.0</td>\n",
              "      <td>10.0</td>\n",
              "      <td>-17.8</td>\n",
              "    </tr>\n",
              "  </tbody>\n",
              "</table>\n",
              "</div>"
            ],
            "text/plain": [
              "   Year  Month  Day   Time Time zone  Precipitation  Snow  Temperature\n",
              "0  2017      1    1  00:00       UTC            0.0   0.0          0.6\n",
              "1  2017      1    2  00:00       UTC            4.4   0.0         -3.9\n",
              "2  2017      1    3  00:00       UTC            6.6   7.0         -6.5\n",
              "3  2017      1    4  00:00       UTC            0.0  13.0        -12.8\n",
              "4  2017      1    5  00:00       UTC            0.0  10.0        -17.8"
            ]
          },
          "metadata": {
            "tags": []
          },
          "execution_count": 46
        }
      ]
    },
    {
      "cell_type": "code",
      "metadata": {
        "id": "rqaYH6ridexY",
        "outputId": "713d8f46-fd08-4aeb-cfc3-980fbf953f43",
        "colab": {
          "base_uri": "https://localhost:8080/"
        }
      },
      "source": [
        "wh4.groupby(\"Month\")[\"Precipitation\"].sum()"
      ],
      "execution_count": 47,
      "outputs": [
        {
          "output_type": "execute_result",
          "data": {
            "text/plain": [
              "Month\n",
              "1      38.9\n",
              "2      35.0\n",
              "3      41.7\n",
              "4      39.9\n",
              "5      16.1\n",
              "6      76.3\n",
              "7      31.2\n",
              "8      86.1\n",
              "9      65.2\n",
              "10    184.5\n",
              "11    120.2\n",
              "12    140.6\n",
              "Name: Precipitation, dtype: float64"
            ]
          },
          "metadata": {
            "tags": []
          },
          "execution_count": 47
        }
      ]
    },
    {
      "cell_type": "markdown",
      "metadata": {
        "id": "vzokdfZOdj3O"
      },
      "source": [
        "### other ways to operate on groups"
      ]
    },
    {
      "cell_type": "code",
      "metadata": {
        "id": "N6Rfm25jdiqg",
        "outputId": "edd284ad-0422-4aa1-f5ab-6349ca428de7",
        "colab": {
          "base_uri": "https://localhost:8080/",
          "height": 1000
        }
      },
      "source": [
        "## filtering -- some of the groups are filtered out\n",
        "def myfilter(df):                                     # The filter function must return a boolean value\n",
        "    return df[\"Precipitation\"].sum() >= 150\n",
        "\n",
        "wh4.groupby(\"Month\").filter(myfilter)                 # Filter out months with total precipitation less that 150 mm"
      ],
      "execution_count": 48,
      "outputs": [
        {
          "output_type": "execute_result",
          "data": {
            "text/html": [
              "<div>\n",
              "<style scoped>\n",
              "    .dataframe tbody tr th:only-of-type {\n",
              "        vertical-align: middle;\n",
              "    }\n",
              "\n",
              "    .dataframe tbody tr th {\n",
              "        vertical-align: top;\n",
              "    }\n",
              "\n",
              "    .dataframe thead th {\n",
              "        text-align: right;\n",
              "    }\n",
              "</style>\n",
              "<table border=\"1\" class=\"dataframe\">\n",
              "  <thead>\n",
              "    <tr style=\"text-align: right;\">\n",
              "      <th></th>\n",
              "      <th>Year</th>\n",
              "      <th>Month</th>\n",
              "      <th>Day</th>\n",
              "      <th>Time</th>\n",
              "      <th>Time zone</th>\n",
              "      <th>Precipitation</th>\n",
              "      <th>Snow</th>\n",
              "      <th>Temperature</th>\n",
              "    </tr>\n",
              "  </thead>\n",
              "  <tbody>\n",
              "    <tr>\n",
              "      <th>273</th>\n",
              "      <td>2017</td>\n",
              "      <td>10</td>\n",
              "      <td>1</td>\n",
              "      <td>00:00</td>\n",
              "      <td>UTC</td>\n",
              "      <td>0.0</td>\n",
              "      <td>0.0</td>\n",
              "      <td>9.1</td>\n",
              "    </tr>\n",
              "    <tr>\n",
              "      <th>274</th>\n",
              "      <td>2017</td>\n",
              "      <td>10</td>\n",
              "      <td>2</td>\n",
              "      <td>00:00</td>\n",
              "      <td>UTC</td>\n",
              "      <td>6.4</td>\n",
              "      <td>0.0</td>\n",
              "      <td>9.2</td>\n",
              "    </tr>\n",
              "    <tr>\n",
              "      <th>275</th>\n",
              "      <td>2017</td>\n",
              "      <td>10</td>\n",
              "      <td>3</td>\n",
              "      <td>00:00</td>\n",
              "      <td>UTC</td>\n",
              "      <td>21.5</td>\n",
              "      <td>0.0</td>\n",
              "      <td>8.3</td>\n",
              "    </tr>\n",
              "    <tr>\n",
              "      <th>276</th>\n",
              "      <td>2017</td>\n",
              "      <td>10</td>\n",
              "      <td>4</td>\n",
              "      <td>00:00</td>\n",
              "      <td>UTC</td>\n",
              "      <td>12.7</td>\n",
              "      <td>0.0</td>\n",
              "      <td>11.2</td>\n",
              "    </tr>\n",
              "    <tr>\n",
              "      <th>277</th>\n",
              "      <td>2017</td>\n",
              "      <td>10</td>\n",
              "      <td>5</td>\n",
              "      <td>00:00</td>\n",
              "      <td>UTC</td>\n",
              "      <td>0.6</td>\n",
              "      <td>0.0</td>\n",
              "      <td>8.8</td>\n",
              "    </tr>\n",
              "    <tr>\n",
              "      <th>278</th>\n",
              "      <td>2017</td>\n",
              "      <td>10</td>\n",
              "      <td>6</td>\n",
              "      <td>00:00</td>\n",
              "      <td>UTC</td>\n",
              "      <td>0.7</td>\n",
              "      <td>0.0</td>\n",
              "      <td>7.7</td>\n",
              "    </tr>\n",
              "    <tr>\n",
              "      <th>279</th>\n",
              "      <td>2017</td>\n",
              "      <td>10</td>\n",
              "      <td>7</td>\n",
              "      <td>00:00</td>\n",
              "      <td>UTC</td>\n",
              "      <td>11.7</td>\n",
              "      <td>0.0</td>\n",
              "      <td>8.1</td>\n",
              "    </tr>\n",
              "    <tr>\n",
              "      <th>280</th>\n",
              "      <td>2017</td>\n",
              "      <td>10</td>\n",
              "      <td>8</td>\n",
              "      <td>00:00</td>\n",
              "      <td>UTC</td>\n",
              "      <td>14.1</td>\n",
              "      <td>0.0</td>\n",
              "      <td>9.3</td>\n",
              "    </tr>\n",
              "    <tr>\n",
              "      <th>281</th>\n",
              "      <td>2017</td>\n",
              "      <td>10</td>\n",
              "      <td>9</td>\n",
              "      <td>00:00</td>\n",
              "      <td>UTC</td>\n",
              "      <td>18.3</td>\n",
              "      <td>0.0</td>\n",
              "      <td>8.6</td>\n",
              "    </tr>\n",
              "    <tr>\n",
              "      <th>282</th>\n",
              "      <td>2017</td>\n",
              "      <td>10</td>\n",
              "      <td>10</td>\n",
              "      <td>00:00</td>\n",
              "      <td>UTC</td>\n",
              "      <td>24.2</td>\n",
              "      <td>0.0</td>\n",
              "      <td>8.1</td>\n",
              "    </tr>\n",
              "    <tr>\n",
              "      <th>283</th>\n",
              "      <td>2017</td>\n",
              "      <td>10</td>\n",
              "      <td>11</td>\n",
              "      <td>00:00</td>\n",
              "      <td>UTC</td>\n",
              "      <td>1.5</td>\n",
              "      <td>0.0</td>\n",
              "      <td>6.9</td>\n",
              "    </tr>\n",
              "    <tr>\n",
              "      <th>284</th>\n",
              "      <td>2017</td>\n",
              "      <td>10</td>\n",
              "      <td>12</td>\n",
              "      <td>00:00</td>\n",
              "      <td>UTC</td>\n",
              "      <td>18.1</td>\n",
              "      <td>0.0</td>\n",
              "      <td>6.0</td>\n",
              "    </tr>\n",
              "    <tr>\n",
              "      <th>285</th>\n",
              "      <td>2017</td>\n",
              "      <td>10</td>\n",
              "      <td>13</td>\n",
              "      <td>00:00</td>\n",
              "      <td>UTC</td>\n",
              "      <td>0.0</td>\n",
              "      <td>0.0</td>\n",
              "      <td>7.5</td>\n",
              "    </tr>\n",
              "    <tr>\n",
              "      <th>286</th>\n",
              "      <td>2017</td>\n",
              "      <td>10</td>\n",
              "      <td>14</td>\n",
              "      <td>00:00</td>\n",
              "      <td>UTC</td>\n",
              "      <td>5.0</td>\n",
              "      <td>0.0</td>\n",
              "      <td>7.2</td>\n",
              "    </tr>\n",
              "    <tr>\n",
              "      <th>287</th>\n",
              "      <td>2017</td>\n",
              "      <td>10</td>\n",
              "      <td>15</td>\n",
              "      <td>00:00</td>\n",
              "      <td>UTC</td>\n",
              "      <td>3.3</td>\n",
              "      <td>0.0</td>\n",
              "      <td>8.3</td>\n",
              "    </tr>\n",
              "    <tr>\n",
              "      <th>288</th>\n",
              "      <td>2017</td>\n",
              "      <td>10</td>\n",
              "      <td>16</td>\n",
              "      <td>00:00</td>\n",
              "      <td>UTC</td>\n",
              "      <td>0.0</td>\n",
              "      <td>0.0</td>\n",
              "      <td>10.7</td>\n",
              "    </tr>\n",
              "    <tr>\n",
              "      <th>289</th>\n",
              "      <td>2017</td>\n",
              "      <td>10</td>\n",
              "      <td>17</td>\n",
              "      <td>00:00</td>\n",
              "      <td>UTC</td>\n",
              "      <td>1.6</td>\n",
              "      <td>0.0</td>\n",
              "      <td>8.5</td>\n",
              "    </tr>\n",
              "    <tr>\n",
              "      <th>290</th>\n",
              "      <td>2017</td>\n",
              "      <td>10</td>\n",
              "      <td>18</td>\n",
              "      <td>00:00</td>\n",
              "      <td>UTC</td>\n",
              "      <td>0.0</td>\n",
              "      <td>0.0</td>\n",
              "      <td>8.3</td>\n",
              "    </tr>\n",
              "    <tr>\n",
              "      <th>291</th>\n",
              "      <td>2017</td>\n",
              "      <td>10</td>\n",
              "      <td>19</td>\n",
              "      <td>00:00</td>\n",
              "      <td>UTC</td>\n",
              "      <td>0.9</td>\n",
              "      <td>0.0</td>\n",
              "      <td>4.6</td>\n",
              "    </tr>\n",
              "    <tr>\n",
              "      <th>292</th>\n",
              "      <td>2017</td>\n",
              "      <td>10</td>\n",
              "      <td>20</td>\n",
              "      <td>00:00</td>\n",
              "      <td>UTC</td>\n",
              "      <td>0.0</td>\n",
              "      <td>0.0</td>\n",
              "      <td>2.0</td>\n",
              "    </tr>\n",
              "    <tr>\n",
              "      <th>293</th>\n",
              "      <td>2017</td>\n",
              "      <td>10</td>\n",
              "      <td>21</td>\n",
              "      <td>00:00</td>\n",
              "      <td>UTC</td>\n",
              "      <td>0.0</td>\n",
              "      <td>0.0</td>\n",
              "      <td>0.2</td>\n",
              "    </tr>\n",
              "    <tr>\n",
              "      <th>294</th>\n",
              "      <td>2017</td>\n",
              "      <td>10</td>\n",
              "      <td>22</td>\n",
              "      <td>00:00</td>\n",
              "      <td>UTC</td>\n",
              "      <td>0.0</td>\n",
              "      <td>0.0</td>\n",
              "      <td>0.1</td>\n",
              "    </tr>\n",
              "    <tr>\n",
              "      <th>295</th>\n",
              "      <td>2017</td>\n",
              "      <td>10</td>\n",
              "      <td>23</td>\n",
              "      <td>00:00</td>\n",
              "      <td>UTC</td>\n",
              "      <td>0.0</td>\n",
              "      <td>0.0</td>\n",
              "      <td>1.3</td>\n",
              "    </tr>\n",
              "    <tr>\n",
              "      <th>296</th>\n",
              "      <td>2017</td>\n",
              "      <td>10</td>\n",
              "      <td>24</td>\n",
              "      <td>00:00</td>\n",
              "      <td>UTC</td>\n",
              "      <td>0.0</td>\n",
              "      <td>0.0</td>\n",
              "      <td>0.8</td>\n",
              "    </tr>\n",
              "    <tr>\n",
              "      <th>297</th>\n",
              "      <td>2017</td>\n",
              "      <td>10</td>\n",
              "      <td>25</td>\n",
              "      <td>00:00</td>\n",
              "      <td>UTC</td>\n",
              "      <td>8.5</td>\n",
              "      <td>0.0</td>\n",
              "      <td>2.1</td>\n",
              "    </tr>\n",
              "    <tr>\n",
              "      <th>298</th>\n",
              "      <td>2017</td>\n",
              "      <td>10</td>\n",
              "      <td>26</td>\n",
              "      <td>00:00</td>\n",
              "      <td>UTC</td>\n",
              "      <td>12.3</td>\n",
              "      <td>2.0</td>\n",
              "      <td>0.3</td>\n",
              "    </tr>\n",
              "    <tr>\n",
              "      <th>299</th>\n",
              "      <td>2017</td>\n",
              "      <td>10</td>\n",
              "      <td>27</td>\n",
              "      <td>00:00</td>\n",
              "      <td>UTC</td>\n",
              "      <td>2.7</td>\n",
              "      <td>7.0</td>\n",
              "      <td>-0.3</td>\n",
              "    </tr>\n",
              "    <tr>\n",
              "      <th>300</th>\n",
              "      <td>2017</td>\n",
              "      <td>10</td>\n",
              "      <td>28</td>\n",
              "      <td>00:00</td>\n",
              "      <td>UTC</td>\n",
              "      <td>17.1</td>\n",
              "      <td>4.0</td>\n",
              "      <td>3.3</td>\n",
              "    </tr>\n",
              "    <tr>\n",
              "      <th>301</th>\n",
              "      <td>2017</td>\n",
              "      <td>10</td>\n",
              "      <td>29</td>\n",
              "      <td>00:00</td>\n",
              "      <td>UTC</td>\n",
              "      <td>3.3</td>\n",
              "      <td>0.0</td>\n",
              "      <td>2.1</td>\n",
              "    </tr>\n",
              "    <tr>\n",
              "      <th>302</th>\n",
              "      <td>2017</td>\n",
              "      <td>10</td>\n",
              "      <td>30</td>\n",
              "      <td>00:00</td>\n",
              "      <td>UTC</td>\n",
              "      <td>0.0</td>\n",
              "      <td>0.0</td>\n",
              "      <td>1.2</td>\n",
              "    </tr>\n",
              "    <tr>\n",
              "      <th>303</th>\n",
              "      <td>2017</td>\n",
              "      <td>10</td>\n",
              "      <td>31</td>\n",
              "      <td>00:00</td>\n",
              "      <td>UTC</td>\n",
              "      <td>0.0</td>\n",
              "      <td>0.0</td>\n",
              "      <td>-0.4</td>\n",
              "    </tr>\n",
              "  </tbody>\n",
              "</table>\n",
              "</div>"
            ],
            "text/plain": [
              "     Year  Month  Day   Time Time zone  Precipitation  Snow  Temperature\n",
              "273  2017     10    1  00:00       UTC            0.0   0.0          9.1\n",
              "274  2017     10    2  00:00       UTC            6.4   0.0          9.2\n",
              "275  2017     10    3  00:00       UTC           21.5   0.0          8.3\n",
              "276  2017     10    4  00:00       UTC           12.7   0.0         11.2\n",
              "277  2017     10    5  00:00       UTC            0.6   0.0          8.8\n",
              "278  2017     10    6  00:00       UTC            0.7   0.0          7.7\n",
              "279  2017     10    7  00:00       UTC           11.7   0.0          8.1\n",
              "280  2017     10    8  00:00       UTC           14.1   0.0          9.3\n",
              "281  2017     10    9  00:00       UTC           18.3   0.0          8.6\n",
              "282  2017     10   10  00:00       UTC           24.2   0.0          8.1\n",
              "283  2017     10   11  00:00       UTC            1.5   0.0          6.9\n",
              "284  2017     10   12  00:00       UTC           18.1   0.0          6.0\n",
              "285  2017     10   13  00:00       UTC            0.0   0.0          7.5\n",
              "286  2017     10   14  00:00       UTC            5.0   0.0          7.2\n",
              "287  2017     10   15  00:00       UTC            3.3   0.0          8.3\n",
              "288  2017     10   16  00:00       UTC            0.0   0.0         10.7\n",
              "289  2017     10   17  00:00       UTC            1.6   0.0          8.5\n",
              "290  2017     10   18  00:00       UTC            0.0   0.0          8.3\n",
              "291  2017     10   19  00:00       UTC            0.9   0.0          4.6\n",
              "292  2017     10   20  00:00       UTC            0.0   0.0          2.0\n",
              "293  2017     10   21  00:00       UTC            0.0   0.0          0.2\n",
              "294  2017     10   22  00:00       UTC            0.0   0.0          0.1\n",
              "295  2017     10   23  00:00       UTC            0.0   0.0          1.3\n",
              "296  2017     10   24  00:00       UTC            0.0   0.0          0.8\n",
              "297  2017     10   25  00:00       UTC            8.5   0.0          2.1\n",
              "298  2017     10   26  00:00       UTC           12.3   2.0          0.3\n",
              "299  2017     10   27  00:00       UTC            2.7   7.0         -0.3\n",
              "300  2017     10   28  00:00       UTC           17.1   4.0          3.3\n",
              "301  2017     10   29  00:00       UTC            3.3   0.0          2.1\n",
              "302  2017     10   30  00:00       UTC            0.0   0.0          1.2\n",
              "303  2017     10   31  00:00       UTC            0.0   0.0         -0.4"
            ]
          },
          "metadata": {
            "tags": []
          },
          "execution_count": 48
        }
      ]
    },
    {
      "cell_type": "code",
      "metadata": {
        "id": "bDP3_UTsepvQ",
        "outputId": "51804ae3-6888-44bb-f009-808f99312048",
        "colab": {
          "base_uri": "https://localhost:8080/",
          "height": 424
        }
      },
      "source": [
        "## transformation -- each group's df is manipulated in a way tha retains it shape\n",
        "pd.concat([wh4.iloc[:, 0:3],\n",
        "           wh4.groupby(\"Month\")[[\"Precipitation\", \"Snow\", \"Temperature\"]].transform(lambda x : x - x.mean())],\n",
        "          axis=1)"
      ],
      "execution_count": 49,
      "outputs": [
        {
          "output_type": "execute_result",
          "data": {
            "text/html": [
              "<div>\n",
              "<style scoped>\n",
              "    .dataframe tbody tr th:only-of-type {\n",
              "        vertical-align: middle;\n",
              "    }\n",
              "\n",
              "    .dataframe tbody tr th {\n",
              "        vertical-align: top;\n",
              "    }\n",
              "\n",
              "    .dataframe thead th {\n",
              "        text-align: right;\n",
              "    }\n",
              "</style>\n",
              "<table border=\"1\" class=\"dataframe\">\n",
              "  <thead>\n",
              "    <tr style=\"text-align: right;\">\n",
              "      <th></th>\n",
              "      <th>Year</th>\n",
              "      <th>Month</th>\n",
              "      <th>Day</th>\n",
              "      <th>Precipitation</th>\n",
              "      <th>Snow</th>\n",
              "      <th>Temperature</th>\n",
              "    </tr>\n",
              "  </thead>\n",
              "  <tbody>\n",
              "    <tr>\n",
              "      <th>0</th>\n",
              "      <td>2017</td>\n",
              "      <td>1</td>\n",
              "      <td>1</td>\n",
              "      <td>-1.254839</td>\n",
              "      <td>-6.903226</td>\n",
              "      <td>2.916129</td>\n",
              "    </tr>\n",
              "    <tr>\n",
              "      <th>1</th>\n",
              "      <td>2017</td>\n",
              "      <td>1</td>\n",
              "      <td>2</td>\n",
              "      <td>3.145161</td>\n",
              "      <td>-6.903226</td>\n",
              "      <td>-1.583871</td>\n",
              "    </tr>\n",
              "    <tr>\n",
              "      <th>2</th>\n",
              "      <td>2017</td>\n",
              "      <td>1</td>\n",
              "      <td>3</td>\n",
              "      <td>5.345161</td>\n",
              "      <td>0.096774</td>\n",
              "      <td>-4.183871</td>\n",
              "    </tr>\n",
              "    <tr>\n",
              "      <th>3</th>\n",
              "      <td>2017</td>\n",
              "      <td>1</td>\n",
              "      <td>4</td>\n",
              "      <td>-1.254839</td>\n",
              "      <td>6.096774</td>\n",
              "      <td>-10.483871</td>\n",
              "    </tr>\n",
              "    <tr>\n",
              "      <th>4</th>\n",
              "      <td>2017</td>\n",
              "      <td>1</td>\n",
              "      <td>5</td>\n",
              "      <td>-1.254839</td>\n",
              "      <td>3.096774</td>\n",
              "      <td>-15.483871</td>\n",
              "    </tr>\n",
              "    <tr>\n",
              "      <th>...</th>\n",
              "      <td>...</td>\n",
              "      <td>...</td>\n",
              "      <td>...</td>\n",
              "      <td>...</td>\n",
              "      <td>...</td>\n",
              "      <td>...</td>\n",
              "    </tr>\n",
              "    <tr>\n",
              "      <th>360</th>\n",
              "      <td>2017</td>\n",
              "      <td>12</td>\n",
              "      <td>27</td>\n",
              "      <td>-3.435484</td>\n",
              "      <td>-1.483871</td>\n",
              "      <td>2.058065</td>\n",
              "    </tr>\n",
              "    <tr>\n",
              "      <th>361</th>\n",
              "      <td>2017</td>\n",
              "      <td>12</td>\n",
              "      <td>28</td>\n",
              "      <td>-0.835484</td>\n",
              "      <td>-1.483871</td>\n",
              "      <td>1.058065</td>\n",
              "    </tr>\n",
              "    <tr>\n",
              "      <th>362</th>\n",
              "      <td>2017</td>\n",
              "      <td>12</td>\n",
              "      <td>29</td>\n",
              "      <td>3.264516</td>\n",
              "      <td>-1.483871</td>\n",
              "      <td>2.058065</td>\n",
              "    </tr>\n",
              "    <tr>\n",
              "      <th>363</th>\n",
              "      <td>2017</td>\n",
              "      <td>12</td>\n",
              "      <td>30</td>\n",
              "      <td>-0.435484</td>\n",
              "      <td>-1.483871</td>\n",
              "      <td>0.758065</td>\n",
              "    </tr>\n",
              "    <tr>\n",
              "      <th>364</th>\n",
              "      <td>2017</td>\n",
              "      <td>12</td>\n",
              "      <td>31</td>\n",
              "      <td>-1.335484</td>\n",
              "      <td>-1.483871</td>\n",
              "      <td>-0.141935</td>\n",
              "    </tr>\n",
              "  </tbody>\n",
              "</table>\n",
              "<p>365 rows × 6 columns</p>\n",
              "</div>"
            ],
            "text/plain": [
              "     Year  Month  Day  Precipitation      Snow  Temperature\n",
              "0    2017      1    1      -1.254839 -6.903226     2.916129\n",
              "1    2017      1    2       3.145161 -6.903226    -1.583871\n",
              "2    2017      1    3       5.345161  0.096774    -4.183871\n",
              "3    2017      1    4      -1.254839  6.096774   -10.483871\n",
              "4    2017      1    5      -1.254839  3.096774   -15.483871\n",
              "..    ...    ...  ...            ...       ...          ...\n",
              "360  2017     12   27      -3.435484 -1.483871     2.058065\n",
              "361  2017     12   28      -0.835484 -1.483871     1.058065\n",
              "362  2017     12   29       3.264516 -1.483871     2.058065\n",
              "363  2017     12   30      -0.435484 -1.483871     0.758065\n",
              "364  2017     12   31      -1.335484 -1.483871    -0.141935\n",
              "\n",
              "[365 rows x 6 columns]"
            ]
          },
          "metadata": {
            "tags": []
          },
          "execution_count": 49
        }
      ]
    },
    {
      "cell_type": "code",
      "metadata": {
        "id": "8QqJmwGbe1G7",
        "outputId": "0b11fbc6-8d1d-46e4-91fa-4795f2b3e7d4",
        "colab": {
          "base_uri": "https://localhost:8080/",
          "height": 455
        }
      },
      "source": [
        "## apply -- applies a function and returns a df, series or a scalar\n",
        "wh4.groupby(\"Month\").apply(lambda df : df.sort_values(\"Temperature\"))"
      ],
      "execution_count": 50,
      "outputs": [
        {
          "output_type": "execute_result",
          "data": {
            "text/html": [
              "<div>\n",
              "<style scoped>\n",
              "    .dataframe tbody tr th:only-of-type {\n",
              "        vertical-align: middle;\n",
              "    }\n",
              "\n",
              "    .dataframe tbody tr th {\n",
              "        vertical-align: top;\n",
              "    }\n",
              "\n",
              "    .dataframe thead th {\n",
              "        text-align: right;\n",
              "    }\n",
              "</style>\n",
              "<table border=\"1\" class=\"dataframe\">\n",
              "  <thead>\n",
              "    <tr style=\"text-align: right;\">\n",
              "      <th></th>\n",
              "      <th></th>\n",
              "      <th>Year</th>\n",
              "      <th>Month</th>\n",
              "      <th>Day</th>\n",
              "      <th>Time</th>\n",
              "      <th>Time zone</th>\n",
              "      <th>Precipitation</th>\n",
              "      <th>Snow</th>\n",
              "      <th>Temperature</th>\n",
              "    </tr>\n",
              "    <tr>\n",
              "      <th>Month</th>\n",
              "      <th></th>\n",
              "      <th></th>\n",
              "      <th></th>\n",
              "      <th></th>\n",
              "      <th></th>\n",
              "      <th></th>\n",
              "      <th></th>\n",
              "      <th></th>\n",
              "      <th></th>\n",
              "    </tr>\n",
              "  </thead>\n",
              "  <tbody>\n",
              "    <tr>\n",
              "      <th rowspan=\"5\" valign=\"top\">1</th>\n",
              "      <th>4</th>\n",
              "      <td>2017</td>\n",
              "      <td>1</td>\n",
              "      <td>5</td>\n",
              "      <td>00:00</td>\n",
              "      <td>UTC</td>\n",
              "      <td>0.0</td>\n",
              "      <td>10.0</td>\n",
              "      <td>-17.8</td>\n",
              "    </tr>\n",
              "    <tr>\n",
              "      <th>5</th>\n",
              "      <td>2017</td>\n",
              "      <td>1</td>\n",
              "      <td>6</td>\n",
              "      <td>00:00</td>\n",
              "      <td>UTC</td>\n",
              "      <td>0.3</td>\n",
              "      <td>10.0</td>\n",
              "      <td>-17.8</td>\n",
              "    </tr>\n",
              "    <tr>\n",
              "      <th>3</th>\n",
              "      <td>2017</td>\n",
              "      <td>1</td>\n",
              "      <td>4</td>\n",
              "      <td>00:00</td>\n",
              "      <td>UTC</td>\n",
              "      <td>0.0</td>\n",
              "      <td>13.0</td>\n",
              "      <td>-12.8</td>\n",
              "    </tr>\n",
              "    <tr>\n",
              "      <th>2</th>\n",
              "      <td>2017</td>\n",
              "      <td>1</td>\n",
              "      <td>3</td>\n",
              "      <td>00:00</td>\n",
              "      <td>UTC</td>\n",
              "      <td>6.6</td>\n",
              "      <td>7.0</td>\n",
              "      <td>-6.5</td>\n",
              "    </tr>\n",
              "    <tr>\n",
              "      <th>15</th>\n",
              "      <td>2017</td>\n",
              "      <td>1</td>\n",
              "      <td>16</td>\n",
              "      <td>00:00</td>\n",
              "      <td>UTC</td>\n",
              "      <td>0.0</td>\n",
              "      <td>8.0</td>\n",
              "      <td>-4.2</td>\n",
              "    </tr>\n",
              "    <tr>\n",
              "      <th>...</th>\n",
              "      <th>...</th>\n",
              "      <td>...</td>\n",
              "      <td>...</td>\n",
              "      <td>...</td>\n",
              "      <td>...</td>\n",
              "      <td>...</td>\n",
              "      <td>...</td>\n",
              "      <td>...</td>\n",
              "      <td>...</td>\n",
              "    </tr>\n",
              "    <tr>\n",
              "      <th rowspan=\"5\" valign=\"top\">12</th>\n",
              "      <th>360</th>\n",
              "      <td>2017</td>\n",
              "      <td>12</td>\n",
              "      <td>27</td>\n",
              "      <td>00:00</td>\n",
              "      <td>UTC</td>\n",
              "      <td>1.1</td>\n",
              "      <td>0.0</td>\n",
              "      <td>3.8</td>\n",
              "    </tr>\n",
              "    <tr>\n",
              "      <th>362</th>\n",
              "      <td>2017</td>\n",
              "      <td>12</td>\n",
              "      <td>29</td>\n",
              "      <td>00:00</td>\n",
              "      <td>UTC</td>\n",
              "      <td>7.8</td>\n",
              "      <td>0.0</td>\n",
              "      <td>3.8</td>\n",
              "    </tr>\n",
              "    <tr>\n",
              "      <th>342</th>\n",
              "      <td>2017</td>\n",
              "      <td>12</td>\n",
              "      <td>9</td>\n",
              "      <td>00:00</td>\n",
              "      <td>UTC</td>\n",
              "      <td>0.2</td>\n",
              "      <td>0.0</td>\n",
              "      <td>4.2</td>\n",
              "    </tr>\n",
              "    <tr>\n",
              "      <th>336</th>\n",
              "      <td>2017</td>\n",
              "      <td>12</td>\n",
              "      <td>3</td>\n",
              "      <td>00:00</td>\n",
              "      <td>UTC</td>\n",
              "      <td>7.2</td>\n",
              "      <td>0.0</td>\n",
              "      <td>5.0</td>\n",
              "    </tr>\n",
              "    <tr>\n",
              "      <th>341</th>\n",
              "      <td>2017</td>\n",
              "      <td>12</td>\n",
              "      <td>8</td>\n",
              "      <td>00:00</td>\n",
              "      <td>UTC</td>\n",
              "      <td>2.0</td>\n",
              "      <td>0.0</td>\n",
              "      <td>5.2</td>\n",
              "    </tr>\n",
              "  </tbody>\n",
              "</table>\n",
              "<p>365 rows × 8 columns</p>\n",
              "</div>"
            ],
            "text/plain": [
              "           Year  Month  Day   Time Time zone  Precipitation  Snow  Temperature\n",
              "Month                                                                         \n",
              "1     4    2017      1    5  00:00       UTC            0.0  10.0        -17.8\n",
              "      5    2017      1    6  00:00       UTC            0.3  10.0        -17.8\n",
              "      3    2017      1    4  00:00       UTC            0.0  13.0        -12.8\n",
              "      2    2017      1    3  00:00       UTC            6.6   7.0         -6.5\n",
              "      15   2017      1   16  00:00       UTC            0.0   8.0         -4.2\n",
              "...         ...    ...  ...    ...       ...            ...   ...          ...\n",
              "12    360  2017     12   27  00:00       UTC            1.1   0.0          3.8\n",
              "      362  2017     12   29  00:00       UTC            7.8   0.0          3.8\n",
              "      342  2017     12    9  00:00       UTC            0.2   0.0          4.2\n",
              "      336  2017     12    3  00:00       UTC            7.2   0.0          5.0\n",
              "      341  2017     12    8  00:00       UTC            2.0   0.0          5.2\n",
              "\n",
              "[365 rows x 8 columns]"
            ]
          },
          "metadata": {
            "tags": []
          },
          "execution_count": 50
        }
      ]
    },
    {
      "cell_type": "code",
      "metadata": {
        "id": "42G8oauvfBLx"
      },
      "source": [
        ""
      ],
      "execution_count": null,
      "outputs": []
    }
  ]
}