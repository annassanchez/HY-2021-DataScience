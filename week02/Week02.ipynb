{
 "metadata": {
  "language_info": {
   "codemirror_mode": {
    "name": "ipython",
    "version": 3
   },
   "file_extension": ".py",
   "mimetype": "text/x-python",
   "name": "python",
   "nbconvert_exporter": "python",
   "pygments_lexer": "ipython3",
   "version": "3.8.10"
  },
  "orig_nbformat": 4,
  "kernelspec": {
   "name": "python3",
   "display_name": "Python 3.8.10 64-bit (windows store)"
  },
  "interpreter": {
   "hash": "0ddec12ae515819e9d7d1731b6132a53a58d2223f03b129fde29cb4f091cec82"
  }
 },
 "nbformat": 4,
 "nbformat_minor": 2,
 "cells": [
  {
   "source": [
    "# Python continues\n",
    "## Regular expression\n",
    "### Examples"
   ],
   "cell_type": "markdown",
   "metadata": {}
  },
  {
   "cell_type": "code",
   "execution_count": 1,
   "metadata": {},
   "outputs": [
    {
     "output_type": "execute_result",
     "data": {
      "text/plain": [
       "<re.Match object; span=(0, 5), match='Apple'>"
      ]
     },
     "metadata": {},
     "execution_count": 1
    }
   ],
   "source": [
    "a = \"Apple\"\n",
    "import re\n",
    "re.match(r\"[Aa]pple\", a)"
   ]
  },
  {
   "source": [
    "### Match and search functions"
   ],
   "cell_type": "markdown",
   "metadata": {}
  },
  {
   "cell_type": "code",
   "execution_count": 2,
   "metadata": {},
   "outputs": [
    {
     "output_type": "execute_result",
     "data": {
      "text/plain": [
       "['Doing', 'going', 'staying', 'sleeping']"
      ]
     },
     "metadata": {},
     "execution_count": 2
    }
   ],
   "source": [
    "#import re\n",
    "s = \"Doing things, going home, staying awale, sleeping later\" \n",
    "re.findall(r'\\w+ing\\b',s)"
   ]
  },
  {
   "cell_type": "code",
   "execution_count": 3,
   "metadata": {},
   "outputs": [
    {
     "output_type": "execute_result",
     "data": {
      "text/plain": [
       "['23', '-24', '-1']"
      ]
     },
     "metadata": {},
     "execution_count": 3
    }
   ],
   "source": [
    "re.findall(r'[+-]?\\d+', \"23 +-24 = -1\")"
   ]
  },
  {
   "cell_type": "code",
   "execution_count": 4,
   "metadata": {},
   "outputs": [
    {
     "output_type": "execute_result",
     "data": {
      "text/plain": [
       "['I’m not in a hurry, then I should stay. On the other hand, if I leave']"
      ]
     },
     "metadata": {},
     "execution_count": 4
    }
   ],
   "source": [
    "\n",
    "s = (\"If I’m not in a hurry, then I should stay. \" +\n",
    "    \"On the other hand, if I leave, then I can sleep.\")\n",
    "re.findall(r'[Ii]f (.*), then', s)"
   ]
  },
  {
   "cell_type": "code",
   "execution_count": 5,
   "metadata": {},
   "outputs": [
    {
     "output_type": "stream",
     "name": "stdout",
     "text": [
      "He (Putin) is the president of Russia.\nHe’s a powerful man.\n"
     ]
    }
   ],
   "source": [
    "import re\n",
    "str = \"\"\"He is the president of Russia.\n",
    "He’s a powerful man.\"\"\"\n",
    "newstr = re.sub(r'(\\b[Hh]e\\b)', r'\\1 (Putin)', str, 1)\n",
    "print (newstr)"
   ]
  },
  {
   "source": [
    "## exercise01"
   ],
   "cell_type": "markdown",
   "metadata": {}
  },
  {
   "cell_type": "code",
   "execution_count": 6,
   "metadata": {},
   "outputs": [
    {
     "output_type": "execute_result",
     "data": {
      "text/plain": [
       "'[+]?\\x08\\\\d+'"
      ]
     },
     "metadata": {},
     "execution_count": 6
    }
   ],
   "source": [
    "'[+]?\\b\\d+' #66%"
   ]
  },
  {
   "cell_type": "code",
   "execution_count": 7,
   "metadata": {},
   "outputs": [],
   "source": [
    "import re \n",
    "def integers_in_brackets(s):\n",
    "    L = []\n",
    "    L = re.findall(r'[+-]\\b\\d+', s)\n",
    "    L = list(map(int, L))\n",
    "    return L"
   ]
  },
  {
   "cell_type": "code",
   "execution_count": 8,
   "metadata": {},
   "outputs": [],
   "source": [
    "def integers_in_brackets(s):\n",
    "    aux = []\n",
    "    for l in re.findall(r'\\[\\s*[+-]?\\b\\d+\\b\\s*\\]',s):\n",
    "        for x in re.findall(r'[+-]?\\b\\d+\\b',l):\n",
    "            aux.append(int(x))\n",
    "    return aux"
   ]
  },
  {
   "cell_type": "code",
   "execution_count": 9,
   "metadata": {},
   "outputs": [
    {
     "output_type": "execute_result",
     "data": {
      "text/plain": [
       "[12, -43, 12]"
      ]
     },
     "metadata": {},
     "execution_count": 9
    }
   ],
   "source": [
    "integers_in_brackets(\"  afd [asd] [12 ] [a34]  [ -43 ]tt [+12]xxx\")\n",
    "#[12, -43, 12]"
   ]
  },
  {
   "cell_type": "code",
   "execution_count": 10,
   "metadata": {},
   "outputs": [
    {
     "output_type": "execute_result",
     "data": {
      "text/plain": [
       "[47, 12]"
      ]
     },
     "metadata": {},
     "execution_count": 10
    }
   ],
   "source": [
    "integers_in_brackets(\"afd [128+] [47 ] [a34]  [ +-43 ]tt [+12]xxx!\")\n",
    "# [47, 12]"
   ]
  },
  {
   "cell_type": "code",
   "execution_count": 11,
   "metadata": {},
   "outputs": [
    {
     "output_type": "execute_result",
     "data": {
      "text/plain": [
       "['afd', '128', '47', 'a34', '43', 'tt', '12', 'xxx']"
      ]
     },
     "metadata": {},
     "execution_count": 11
    }
   ],
   "source": [
    "s = \"afd [128+] [47 ] [a34]  [ +-43 ]tt [+12]xxx!\"\n",
    "re.findall(r\"\\b\\w+\",s)"
   ]
  },
  {
   "source": [
    "## exercise 02"
   ],
   "cell_type": "markdown",
   "metadata": {}
  },
  {
   "cell_type": "code",
   "execution_count": 12,
   "metadata": {},
   "outputs": [],
   "source": [
    "def file_listing(filename):\n",
    "    text = open(filename, mode='r')\n",
    "    L = []\n",
    "    for i in text:\n",
    "        line = text.readline()\n",
    "        line = re.findall(r'\\b\\S+', line)\n",
    "        #line = re.search(r'.{30}\\s+(\\d+)\\s(\\S+)\\s(..)\\s(\\d+):(\\d+)\\s(.*)', text)\n",
    "        line = tuple(line)\n",
    "        L.append(line)\n",
    "        #for line in re.finditer(L, text)\n",
    "    return L"
   ]
  },
  {
   "cell_type": "code",
   "execution_count": 13,
   "metadata": {},
   "outputs": [],
   "source": [
    "def file_listing(filename):\n",
    "    tulos = []\n",
    "    with open(filename, \"r\") as f:\n",
    "        for x in range(47):\n",
    "            tmp = []\n",
    "            line = f.readline()\n",
    "            mo = re.search(r'.{30}\\s+(\\d+)\\s(\\S+)\\s(..)\\s(\\d+):(\\d+)\\s(.*)', line)\n",
    "            for i in range(1, 7):\n",
    "                try:\n",
    "                    tmp.append(int(mo.group(i)))\n",
    "                except ValueError:\n",
    "                    tmp.append(mo.group(i))\n",
    "                tupla = tuple(tmp)\n",
    "            tulos.append(tupla)\n",
    "    return tulos"
   ]
  },
  {
   "cell_type": "code",
   "execution_count": 14,
   "metadata": {},
   "outputs": [
    {
     "output_type": "execute_result",
     "data": {
      "text/plain": [
       "[(2356, 'Dec', 11, 11, 50, 'add_colab_link.py'),\n",
       " (164519, 'Dec', 28, 17, 59, 'basics.ipynb'),\n",
       " (164477, 'Nov', 5, 19, 21, 'basics.ipynb.orig'),\n",
       " (115587, 'Dec', 11, 11, 50, 'bayes.ipynb'),\n",
       " (4096, 'Nov', 29, 13, 7, '_build'),\n",
       " (198820, 'Dec', 11, 11, 50, 'clustering.ipynb'),\n",
       " (6647, 'Dec', 11, 12, 20, 'conf.py'),\n",
       " (41828, 'Nov', 28, 13, 26, 'example_figure2.png'),\n",
       " (125079, 'Nov', 28, 13, 26, 'example_figure2.xcf'),\n",
       " (24139, 'Nov', 28, 12, 3, 'example_figure.png'),\n",
       " (650, 'Nov', 28, 12, 3, 'example_figure.py'),\n",
       " (25399, 'Nov', 2, 21, 25, 'exception_hierarchy.pdf'),\n",
       " (43632, 'Nov', 2, 22, 5, 'exception_hierarchy.png'),\n",
       " (24366, 'Nov', 2, 21, 26, 'exception_hierarchy.svg'),\n",
       " (72095, 'Oct', 3, 17, 36, 'extra.ipynb'),\n",
       " (1207075, 'Nov', 28, 16, 2, 'face.png'),\n",
       " (897, 'Nov', 12, 10, 59, 'generate_contents.py'),\n",
       " (4096, 'Dec', 27, 13, 55, '.git'),\n",
       " (19, 'Dec', 10, 10, 24, '.gitignore'),\n",
       " (890349, 'Dec', 11, 11, 50, 'image_processing.ipynb'),\n",
       " (689, 'Dec', 10, 10, 28, 'index.rst'),\n",
       " (5254, 'Nov', 3, 18, 46, 'inheritance_hierarchy.pdf'),\n",
       " (7271, 'Nov', 3, 18, 46, 'inheritance_hierarchy.svg'),\n",
       " (4091, 'Dec', 11, 11, 50, 'instructions.ipynb'),\n",
       " (4096, 'Nov', 30, 14, 13, '.ipynb_checkpoints'),\n",
       " (54011, 'Dec', 11, 11, 50, 'linear_regression.ipynb'),\n",
       " (620, 'Nov', 1, 11, 44, 'Makefile'),\n",
       " (52191, 'Dec', 11, 11, 50, 'matplotlib.ipynb'),\n",
       " (1920, 'Nov', 30, 11, 37, 'notes.ipynb'),\n",
       " (82564, 'Dec', 11, 11, 50, 'numpy.ipynb'),\n",
       " (10201, 'Nov', 3, 16, 36, 'package.pdf'),\n",
       " (5742, 'Nov', 3, 16, 37, 'package.svg'),\n",
       " (913641, 'Nov', 26, 10, 58, 'painting.png'),\n",
       " (348531, 'Dec', 28, 13, 40, 'pandas.ipynb'),\n",
       " (100697, 'Dec', 11, 11, 50, 'pca.ipynb'),\n",
       " (32451, 'Oct', 5, 19, 21, 'Python-basic-elements.ipynb'),\n",
       " (82, 'Nov', 13, 12, 55, 'requirements.txt'),\n",
       " (81, 'Nov', 13, 12, 44, 'requirements.txt.old'),\n",
       " (2836, 'Nov', 12, 10, 58, 'sisallys.ipynb'),\n",
       " (128194, 'Nov', 23, 12, 58, 'testing.ipynb'),\n",
       " (691, 'Nov', 29, 16, 27, '.travis.yml'),\n",
       " (973, 'Oct', 31, 14, 1, 'typing1.fig'),\n",
       " (3747, 'Oct', 31, 14, 1, 'typing1.svg'),\n",
       " (1093, 'Oct', 31, 14, 1, 'typing2.fig'),\n",
       " (4053, 'Oct', 31, 14, 2, 'typing2.svg'),\n",
       " (12220, 'Oct', 31, 14, 7, 'typing.svg'),\n",
       " (766, 'Oct', 25, 12, 10, 'versions.py')]"
      ]
     },
     "metadata": {},
     "execution_count": 14
    }
   ],
   "source": [
    "tulos = []\n",
    "with open('listing.txt', \"r\") as f:\n",
    "    for x in range(47):\n",
    "        tmp = []\n",
    "        line = f.readline()\n",
    "        mo = re.search(r'.{30}\\s+(\\d+)\\s(\\S+)\\s(..)\\s(\\d+):(\\d+)\\s(.*)', line)\n",
    "        for i in range(1, 7):\n",
    "            try:\n",
    "                tmp.append(int(mo.group(i)))\n",
    "            except ValueError:\n",
    "                tmp.append(mo.group(i))\n",
    "            tupla = tuple(tmp)\n",
    "        tulos.append(tupla)\n",
    "tulos"
   ]
  },
  {
   "cell_type": "code",
   "execution_count": 84,
   "metadata": {},
   "outputs": [
    {
     "output_type": "execute_result",
     "data": {
      "text/plain": [
       "[(2356, 'Dec', 11, 11, 50, 'add_colab_link.py'),\n",
       " (164519, 'Dec', 28, 17, 59, 'basics.ipynb'),\n",
       " (164477, 'Nov', 5, 19, 21, 'basics.ipynb.orig'),\n",
       " (115587, 'Dec', 11, 11, 50, 'bayes.ipynb'),\n",
       " (4096, 'Nov', 29, 13, 7, '_build'),\n",
       " (198820, 'Dec', 11, 11, 50, 'clustering.ipynb'),\n",
       " (6647, 'Dec', 11, 12, 20, 'conf.py'),\n",
       " (41828, 'Nov', 28, 13, 26, 'example_figure2.png'),\n",
       " (125079, 'Nov', 28, 13, 26, 'example_figure2.xcf'),\n",
       " (24139, 'Nov', 28, 12, 3, 'example_figure.png'),\n",
       " (650, 'Nov', 28, 12, 3, 'example_figure.py'),\n",
       " (25399, 'Nov', 2, 21, 25, 'exception_hierarchy.pdf'),\n",
       " (43632, 'Nov', 2, 22, 5, 'exception_hierarchy.png'),\n",
       " (24366, 'Nov', 2, 21, 26, 'exception_hierarchy.svg'),\n",
       " (72095, 'Oct', 3, 17, 36, 'extra.ipynb'),\n",
       " (1207075, 'Nov', 28, 16, 2, 'face.png'),\n",
       " (897, 'Nov', 12, 10, 59, 'generate_contents.py'),\n",
       " (4096, 'Dec', 27, 13, 55, '.git'),\n",
       " (19, 'Dec', 10, 10, 24, '.gitignore'),\n",
       " (890349, 'Dec', 11, 11, 50, 'image_processing.ipynb'),\n",
       " (689, 'Dec', 10, 10, 28, 'index.rst'),\n",
       " (5254, 'Nov', 3, 18, 46, 'inheritance_hierarchy.pdf'),\n",
       " (7271, 'Nov', 3, 18, 46, 'inheritance_hierarchy.svg'),\n",
       " (4091, 'Dec', 11, 11, 50, 'instructions.ipynb'),\n",
       " (4096, 'Nov', 30, 14, 13, '.ipynb_checkpoints'),\n",
       " (54011, 'Dec', 11, 11, 50, 'linear_regression.ipynb'),\n",
       " (620, 'Nov', 1, 11, 44, 'Makefile'),\n",
       " (52191, 'Dec', 11, 11, 50, 'matplotlib.ipynb'),\n",
       " (1920, 'Nov', 30, 11, 37, 'notes.ipynb'),\n",
       " (82564, 'Dec', 11, 11, 50, 'numpy.ipynb'),\n",
       " (10201, 'Nov', 3, 16, 36, 'package.pdf'),\n",
       " (5742, 'Nov', 3, 16, 37, 'package.svg'),\n",
       " (913641, 'Nov', 26, 10, 58, 'painting.png'),\n",
       " (348531, 'Dec', 28, 13, 40, 'pandas.ipynb'),\n",
       " (100697, 'Dec', 11, 11, 50, 'pca.ipynb'),\n",
       " (32451, 'Oct', 5, 19, 21, 'Python-basic-elements.ipynb'),\n",
       " (82, 'Nov', 13, 12, 55, 'requirements.txt'),\n",
       " (81, 'Nov', 13, 12, 44, 'requirements.txt.old'),\n",
       " (2836, 'Nov', 12, 10, 58, 'sisallys.ipynb'),\n",
       " (128194, 'Nov', 23, 12, 58, 'testing.ipynb'),\n",
       " (691, 'Nov', 29, 16, 27, '.travis.yml'),\n",
       " (973, 'Oct', 31, 14, 1, 'typing1.fig'),\n",
       " (3747, 'Oct', 31, 14, 1, 'typing1.svg'),\n",
       " (1093, 'Oct', 31, 14, 1, 'typing2.fig'),\n",
       " (4053, 'Oct', 31, 14, 2, 'typing2.svg'),\n",
       " (12220, 'Oct', 31, 14, 7, 'typing.svg'),\n",
       " (766, 'Oct', 25, 12, 10, 'versions.py')]"
      ]
     },
     "metadata": {},
     "execution_count": 84
    }
   ],
   "source": [
    "file_listing('listing.txt')\n",
    "#(25339, \"Nov\", 2, 21, 25, \"exception_hierarchy.pdf\")"
   ]
  },
  {
   "cell_type": "code",
   "execution_count": 85,
   "metadata": {},
   "outputs": [],
   "source": [
    "#exercise03"
   ]
  },
  {
   "cell_type": "code",
   "execution_count": 15,
   "metadata": {},
   "outputs": [],
   "source": [
    "def red_green_blue(filename=\"src/rgb.txt\"):\n",
    "    tulos = []\n",
    "    with open(filename, \"r\") as f:\n",
    "        next(f) # skipataan eka turha rivi\n",
    "        for x in range(754):\n",
    "            try:\n",
    "                string = f.readline()\n",
    "                mo = re.search(r'(\\d+)\\s+(\\d+)\\s+(\\d+)\\s+(.*)', string)\n",
    "                teksti = mo.group(0)\n",
    "                osien_lista = teksti.split(sep=None)\n",
    "                if len(osien_lista) > 4:\n",
    "                    osien_lista[3] = osien_lista[3] + \" \" + osien_lista[4]\n",
    "                tulosstring = (\"\\t\".join(osien_lista[0:3]))\n",
    "                tulosstring = tulosstring + \"\\t\" + osien_lista[3]\n",
    "                tulos.append(tulosstring)\n",
    "            except Exception as err:\n",
    "                    pass\n",
    "    return tulos"
   ]
  },
  {
   "cell_type": "code",
   "execution_count": 87,
   "metadata": {},
   "outputs": [],
   "source": [
    "#red_green_blue('rgb.txt')"
   ]
  },
  {
   "cell_type": "code",
   "execution_count": 88,
   "metadata": {},
   "outputs": [],
   "source": [
    "##exercise04"
   ]
  },
  {
   "cell_type": "code",
   "execution_count": 16,
   "metadata": {},
   "outputs": [],
   "source": [
    "##NO TOCAR  \n",
    "def word_frequencies(filename):\n",
    "    with open(filename, \"r\") as f:\n",
    "        string = f.readline()\n",
    "        strSplit = string.split(\" \")\n",
    "        L = string.split(\" \")\n",
    "        Lbuena = []\n",
    "        for item in L:\n",
    "            Lbuena.append(item)\n",
    "            dictOfWords = dict.fromkeys(Lbuena , len(item))\n",
    "    return dictOfWords"
   ]
  },
  {
   "cell_type": "code",
   "execution_count": 17,
   "metadata": {},
   "outputs": [],
   "source": [
    "def word_frequencies(filename):\n",
    "    # Creating empty result and final lists.\n",
    "    result = []\n",
    "    final = []\n",
    "    d = {}\n",
    "    # Reading the file.\n",
    "    with open(filename, \"r\") as f:\n",
    "        # Splitting the lines into words.\n",
    "        for line in f:\n",
    "            for word in line.split():\n",
    "                wordtemp = word.strip(\"\"\"!\"#$%&'()*,-./:;?@[]_\"\"\")#.lower()\n",
    "                result.append(wordtemp)\n",
    "        # Puts words and their count into dict.\n",
    "        for word in result:\n",
    "            if word not in final:\n",
    "                final.append(word)\n",
    "        for x in final:\n",
    "            d[x] = result.count(x)\n",
    "    return d"
   ]
  },
  {
   "cell_type": "code",
   "execution_count": 18,
   "metadata": {},
   "outputs": [],
   "source": [
    "#pruebis\n",
    "def word_frequencies(filename):\n",
    "    # Creating empty result and final lists.\n",
    "    result = []\n",
    "    final = []\n",
    "    d = {}\n",
    "    # Reading the file.\n",
    "    with open(filename, \"r\") as f:\n",
    "        # Splitting the lines into words.\n",
    "        for line in f:\n",
    "            for word in line.split():\n",
    "                wordtemp = word.strip(\"\"\"!\"#$%&'()*,-./:;?@[]_\"\"\")#.lower()\n",
    "                result.append(wordtemp)\n",
    "        # Puts words and their count into dict.\n",
    "        for word in result:\n",
    "            if word not in final:\n",
    "                final.append(word)\n",
    "        for x in final:\n",
    "            d[x] = len(x)\n",
    "    return d"
   ]
  },
  {
   "cell_type": "code",
   "execution_count": 92,
   "metadata": {},
   "outputs": [],
   "source": [
    "#word_frequencies('alice.txt')"
   ]
  },
  {
   "cell_type": "code",
   "execution_count": 21,
   "metadata": {},
   "outputs": [],
   "source": [
    "result = []\n",
    "final = []\n",
    "d = {}\n",
    "# Reading the file.\n",
    "with open('alice.txt', \"r\") as f:\n",
    "    # Splitting the lines into words.\n",
    "    for line in f:\n",
    "        for word in line.split():\n",
    "            wordtemp = word.strip(\"\"\"!\"#$%&'()*,-./:;?@[]_\"\"\")#.lower()\n",
    "            result.append(wordtemp)\n",
    "    # Puts words and their count into dict.\n",
    "    for word in result:\n",
    "        if word not in final:\n",
    "            final.append(word)\n",
    "    for x in final:\n",
    "        d[x] = result.count(x)\n",
    "#d"
   ]
  },
  {
   "cell_type": "code",
   "execution_count": 24,
   "metadata": {},
   "outputs": [
    {
     "output_type": "execute_result",
     "data": {
      "text/plain": [
       "{'The': 3,\n",
       " 'Project': 7,\n",
       " 'Gutenberg': 9,\n",
       " 'EBook': 5,\n",
       " 'of': 2,\n",
       " 'Alice': 5,\n",
       " 'in': 2,\n",
       " 'Wonderland': 10,\n",
       " 'by': 2,\n",
       " 'Lewis': 5,\n",
       " 'Carroll': 7,\n",
       " 'This': 4,\n",
       " 'eBook': 5,\n",
       " 'is': 2,\n",
       " 'for': 3,\n",
       " 'the': 3,\n",
       " 'use': 3,\n",
       " 'anyone': 6,\n",
       " 'anywhere': 8,\n",
       " 'at': 2,\n",
       " 'no': 2,\n",
       " 'cost': 4,\n",
       " 'and': 3,\n",
       " 'with': 4,\n",
       " 'almost': 6,\n",
       " 'restrictions': 12,\n",
       " 'whatsoever': 10,\n",
       " 'You': 3,\n",
       " 'may': 3,\n",
       " 'copy': 4,\n",
       " 'it': 2,\n",
       " 'give': 4,\n",
       " 'away': 4,\n",
       " 'or': 2,\n",
       " 're-use': 6,\n",
       " 'under': 5,\n",
       " 'terms': 5,\n",
       " 'License': 7,\n",
       " 'included': 8,\n",
       " 'this': 4,\n",
       " 'online': 6,\n",
       " 'www.gutenberg.org': 17,\n",
       " 'Title': 5,\n",
       " 'Author': 6,\n",
       " 'Illustrator': 11,\n",
       " 'Gordon': 6,\n",
       " 'Robinson': 8,\n",
       " 'Release': 7,\n",
       " 'Date': 4,\n",
       " 'August': 6,\n",
       " '12': 2,\n",
       " '2006': 4,\n",
       " '19033': 5,\n",
       " 'Language': 8,\n",
       " 'English': 7,\n",
       " 'Character': 9,\n",
       " 'set': 3,\n",
       " 'encoding': 8,\n",
       " 'ASCII': 5,\n",
       " '': 0,\n",
       " 'START': 5,\n",
       " 'OF': 2,\n",
       " 'THIS': 4,\n",
       " 'PROJECT': 7,\n",
       " 'GUTENBERG': 9,\n",
       " 'EBOOK': 5,\n",
       " 'ALICE': 5,\n",
       " 'IN': 2,\n",
       " 'WONDERLAND': 10,\n",
       " 'Produced': 8,\n",
       " 'Jason': 5,\n",
       " 'Isbell': 6,\n",
       " 'Irma': 4,\n",
       " 'Spehar': 6,\n",
       " 'Online': 6,\n",
       " 'Distributed': 11,\n",
       " 'Proofreading': 12,\n",
       " 'Team': 4,\n",
       " 'http://www.pgdp.net': 19,\n",
       " 'Illustration': 12,\n",
       " 'Room': 4,\n",
       " 'Duchess': 7,\n",
       " 'THE': 3,\n",
       " 'STORYLAND': 9,\n",
       " 'SERIES': 6,\n",
       " \"ALICE'S\": 7,\n",
       " 'ADVENTURES': 10,\n",
       " \"SAM'L\": 5,\n",
       " 'GABRIEL': 7,\n",
       " 'SONS': 4,\n",
       " 'COMPANY': 7,\n",
       " 'NEW': 3,\n",
       " 'YORK': 4,\n",
       " 'Copyright': 9,\n",
       " '1916': 4,\n",
       " 'I--DOWN': 7,\n",
       " 'RABBIT-HOLE': 11,\n",
       " 'was': 3,\n",
       " 'beginning': 9,\n",
       " 'to': 2,\n",
       " 'get': 3,\n",
       " 'very': 4,\n",
       " 'tired': 5,\n",
       " 'sitting': 7,\n",
       " 'her': 3,\n",
       " 'sister': 6,\n",
       " 'on': 2,\n",
       " 'bank': 4,\n",
       " 'having': 6,\n",
       " 'nothing': 7,\n",
       " 'do': 2,\n",
       " 'Once': 4,\n",
       " 'twice': 5,\n",
       " 'she': 3,\n",
       " 'had': 3,\n",
       " 'peeped': 6,\n",
       " 'into': 4,\n",
       " 'book': 4,\n",
       " 'reading': 7,\n",
       " 'but': 3,\n",
       " 'pictures': 8,\n",
       " 'conversations': 13,\n",
       " 'what': 4,\n",
       " 'a': 1,\n",
       " 'thought': 7,\n",
       " 'without': 7,\n",
       " 'So': 2,\n",
       " 'considering': 11,\n",
       " 'own': 3,\n",
       " 'mind': 4,\n",
       " 'as': 2,\n",
       " 'well': 4,\n",
       " 'could': 5,\n",
       " 'day': 3,\n",
       " 'made': 4,\n",
       " 'feel': 4,\n",
       " 'sleepy': 6,\n",
       " 'stupid': 6,\n",
       " 'whether': 7,\n",
       " 'pleasure': 8,\n",
       " 'making': 6,\n",
       " 'daisy-chain': 11,\n",
       " 'would': 5,\n",
       " 'be': 2,\n",
       " 'worth': 5,\n",
       " 'trouble': 7,\n",
       " 'getting': 7,\n",
       " 'up': 2,\n",
       " 'picking': 7,\n",
       " 'daisies': 7,\n",
       " 'when': 4,\n",
       " 'suddenly': 8,\n",
       " 'White': 5,\n",
       " 'Rabbit': 6,\n",
       " 'pink': 4,\n",
       " 'eyes': 4,\n",
       " 'ran': 3,\n",
       " 'close': 5,\n",
       " 'There': 5,\n",
       " 'so': 2,\n",
       " 'remarkable': 10,\n",
       " 'that': 4,\n",
       " 'nor': 3,\n",
       " 'did': 3,\n",
       " 'think': 5,\n",
       " 'much': 4,\n",
       " 'out': 3,\n",
       " 'way': 3,\n",
       " 'hear': 4,\n",
       " 'say': 3,\n",
       " 'itself': 6,\n",
       " 'Oh': 2,\n",
       " 'dear': 4,\n",
       " 'I': 1,\n",
       " 'shall': 5,\n",
       " 'too': 3,\n",
       " 'late': 4,\n",
       " 'But': 3,\n",
       " 'actually': 8,\n",
       " 'took': 4,\n",
       " 'watch': 5,\n",
       " 'its': 3,\n",
       " 'waistcoat-pocket': 16,\n",
       " 'looked': 6,\n",
       " 'then': 4,\n",
       " 'hurried': 7,\n",
       " 'started': 7,\n",
       " 'feet': 4,\n",
       " 'flashed': 7,\n",
       " 'across': 6,\n",
       " 'never': 5,\n",
       " 'before': 6,\n",
       " 'seen': 4,\n",
       " 'rabbit': 6,\n",
       " 'either': 6,\n",
       " 'take': 4,\n",
       " 'burning': 7,\n",
       " 'curiosity': 9,\n",
       " 'field': 5,\n",
       " 'after': 5,\n",
       " 'just': 4,\n",
       " 'time': 4,\n",
       " 'see': 3,\n",
       " 'pop': 3,\n",
       " 'down': 4,\n",
       " 'large': 5,\n",
       " 'rabbit-hole': 11,\n",
       " 'hedge': 5,\n",
       " 'In': 2,\n",
       " 'another': 7,\n",
       " 'moment': 6,\n",
       " 'went': 4,\n",
       " 'straight': 8,\n",
       " 'like': 4,\n",
       " 'tunnel': 6,\n",
       " 'some': 4,\n",
       " 'dipped': 6,\n",
       " 'not': 3,\n",
       " 'about': 5,\n",
       " 'stopping': 8,\n",
       " 'herself': 7,\n",
       " 'found': 5,\n",
       " 'falling': 7,\n",
       " 'seemed': 6,\n",
       " 'deep': 4,\n",
       " 'Either': 6,\n",
       " 'fell': 4,\n",
       " 'slowly': 6,\n",
       " 'plenty': 6,\n",
       " 'look': 4,\n",
       " 'First': 5,\n",
       " 'tried': 5,\n",
       " 'make': 4,\n",
       " 'coming': 6,\n",
       " 'dark': 4,\n",
       " 'anything': 8,\n",
       " 'sides': 5,\n",
       " 'noticed': 7,\n",
       " 'they': 4,\n",
       " 'were': 4,\n",
       " 'filled': 6,\n",
       " 'cupboards': 9,\n",
       " 'book-shelves': 12,\n",
       " 'here': 4,\n",
       " 'there': 5,\n",
       " 'saw': 3,\n",
       " 'maps': 4,\n",
       " 'hung': 4,\n",
       " 'upon': 4,\n",
       " 'pegs': 4,\n",
       " 'She': 3,\n",
       " 'jar': 3,\n",
       " 'from': 4,\n",
       " 'one': 3,\n",
       " 'shelves': 7,\n",
       " 'passed': 6,\n",
       " 'It': 2,\n",
       " 'labeled': 7,\n",
       " 'ORANGE': 6,\n",
       " 'MARMALADE': 9,\n",
       " 'great': 5,\n",
       " 'disappointment': 14,\n",
       " 'empty': 5,\n",
       " 'drop': 4,\n",
       " 'managed': 7,\n",
       " 'put': 3,\n",
       " 'past': 4,\n",
       " 'Down': 4,\n",
       " 'Would': 5,\n",
       " 'fall': 4,\n",
       " 'come': 4,\n",
       " 'an': 2,\n",
       " 'end': 3,\n",
       " 'else': 4,\n",
       " 'soon': 4,\n",
       " 'began': 5,\n",
       " 'talking': 7,\n",
       " \"Dinah'll\": 8,\n",
       " 'miss': 4,\n",
       " 'me': 2,\n",
       " 'to-night': 8,\n",
       " 'should': 6,\n",
       " 'Dinah': 5,\n",
       " 'cat': 3,\n",
       " 'hope': 4,\n",
       " \"they'll\": 7,\n",
       " 'remember': 8,\n",
       " 'saucer': 6,\n",
       " 'milk': 4,\n",
       " 'tea-time': 8,\n",
       " 'my': 2,\n",
       " 'wish': 4,\n",
       " 'you': 3,\n",
       " 'felt': 4,\n",
       " 'dozing': 6,\n",
       " 'off': 3,\n",
       " 'thump': 5,\n",
       " 'came': 4,\n",
       " 'heap': 4,\n",
       " 'sticks': 6,\n",
       " 'dry': 3,\n",
       " 'leaves': 6,\n",
       " 'over': 4,\n",
       " 'bit': 3,\n",
       " 'hurt': 4,\n",
       " 'jumped': 6,\n",
       " 'all': 3,\n",
       " 'overhead': 8,\n",
       " 'long': 4,\n",
       " 'passage': 7,\n",
       " 'still': 5,\n",
       " 'sight': 5,\n",
       " 'hurrying': 8,\n",
       " 'lost': 4,\n",
       " 'Away': 4,\n",
       " 'wind': 4,\n",
       " 'turned': 6,\n",
       " 'corner': 6,\n",
       " 'ears': 4,\n",
       " 'whiskers': 8,\n",
       " 'how': 3,\n",
       " \"it's\": 4,\n",
       " 'behind': 6,\n",
       " 'longer': 6,\n",
       " 'low': 3,\n",
       " 'hall': 4,\n",
       " 'which': 5,\n",
       " 'lit': 3,\n",
       " 'row': 3,\n",
       " 'lamps': 5,\n",
       " 'hanging': 7,\n",
       " 'roof': 4,\n",
       " 'doors': 5,\n",
       " 'round': 5,\n",
       " 'locked': 6,\n",
       " 'been': 4,\n",
       " 'side': 4,\n",
       " 'other': 5,\n",
       " 'trying': 6,\n",
       " 'every': 5,\n",
       " 'door': 4,\n",
       " 'walked': 6,\n",
       " 'sadly': 5,\n",
       " 'middle': 6,\n",
       " 'wondering': 9,\n",
       " 'ever': 4,\n",
       " 'again': 5,\n",
       " 'Suddenly': 8,\n",
       " 'little': 6,\n",
       " 'table': 5,\n",
       " 'solid': 5,\n",
       " 'glass': 5,\n",
       " 'tiny': 4,\n",
       " 'golden': 6,\n",
       " 'key': 3,\n",
       " \"Alice's\": 7,\n",
       " 'first': 5,\n",
       " 'idea': 4,\n",
       " 'might': 5,\n",
       " 'belong': 6,\n",
       " 'alas': 4,\n",
       " 'locks': 5,\n",
       " 'small': 5,\n",
       " 'any': 3,\n",
       " 'rate': 4,\n",
       " 'open': 4,\n",
       " 'them': 4,\n",
       " 'However': 7,\n",
       " 'second': 6,\n",
       " 'curtain': 7,\n",
       " 'fifteen': 7,\n",
       " 'inches': 6,\n",
       " 'high': 4,\n",
       " 'lock': 4,\n",
       " 'delight': 7,\n",
       " 'fitted': 6,\n",
       " 'opened': 6,\n",
       " 'led': 3,\n",
       " 'larger': 6,\n",
       " 'than': 4,\n",
       " 'rat-hole': 8,\n",
       " 'knelt': 5,\n",
       " 'along': 5,\n",
       " 'loveliest': 9,\n",
       " 'garden': 6,\n",
       " 'How': 3,\n",
       " 'longed': 6,\n",
       " 'wander': 6,\n",
       " 'among': 5,\n",
       " 'those': 5,\n",
       " 'beds': 4,\n",
       " 'bright': 6,\n",
       " 'flowers': 7,\n",
       " 'cool': 4,\n",
       " 'fountains': 9,\n",
       " 'even': 4,\n",
       " 'head': 4,\n",
       " 'through': 7,\n",
       " 'doorway': 7,\n",
       " 'said': 4,\n",
       " 'shut': 4,\n",
       " 'telescope': 9,\n",
       " 'if': 2,\n",
       " 'only': 4,\n",
       " 'knew': 4,\n",
       " 'begin': 5,\n",
       " 'back': 4,\n",
       " 'half': 4,\n",
       " 'hoping': 6,\n",
       " 'find': 4,\n",
       " 'rules': 5,\n",
       " 'shutting': 8,\n",
       " 'people': 6,\n",
       " 'telescopes': 10,\n",
       " 'bottle': 6,\n",
       " 'certainly': 9,\n",
       " 'tied': 4,\n",
       " 'neck': 4,\n",
       " 'paper': 5,\n",
       " 'label': 5,\n",
       " 'words': 5,\n",
       " 'DRINK': 5,\n",
       " 'ME': 2,\n",
       " 'beautifully': 11,\n",
       " 'printed': 7,\n",
       " 'letters': 7,\n",
       " 'No': 2,\n",
       " \"I'll\": 4,\n",
       " 'marked': 6,\n",
       " 'poison': 6,\n",
       " 'forgotten': 9,\n",
       " 'drink': 5,\n",
       " 'certain': 7,\n",
       " 'disagree': 8,\n",
       " 'sooner': 6,\n",
       " 'later': 5,\n",
       " 'ventured': 8,\n",
       " 'taste': 5,\n",
       " 'finding': 7,\n",
       " 'nice': 4,\n",
       " 'sort': 4,\n",
       " 'mixed': 5,\n",
       " 'flavor': 6,\n",
       " 'cherry-tart': 11,\n",
       " 'custard': 7,\n",
       " 'pineapple': 9,\n",
       " 'roast': 5,\n",
       " 'turkey': 6,\n",
       " 'toffy': 5,\n",
       " 'hot': 3,\n",
       " 'buttered': 8,\n",
       " 'toast': 5,\n",
       " 'finished': 8,\n",
       " 'What': 4,\n",
       " 'curious': 7,\n",
       " 'feeling': 7,\n",
       " 'must': 4,\n",
       " 'And': 3,\n",
       " 'indeed': 6,\n",
       " 'now': 3,\n",
       " 'ten': 3,\n",
       " 'face': 4,\n",
       " 'brightened': 10,\n",
       " 'right': 5,\n",
       " 'size': 4,\n",
       " 'going': 5,\n",
       " 'lovely': 6,\n",
       " 'After': 5,\n",
       " 'awhile': 6,\n",
       " 'more': 4,\n",
       " 'happened': 8,\n",
       " 'decided': 7,\n",
       " 'once': 4,\n",
       " 'poor': 4,\n",
       " 'When': 4,\n",
       " 'got': 3,\n",
       " 'possibly': 8,\n",
       " 'reach': 5,\n",
       " 'quite': 5,\n",
       " 'plainly': 7,\n",
       " 'best': 4,\n",
       " 'climb': 5,\n",
       " 'legs': 4,\n",
       " 'slippery': 8,\n",
       " 'thing': 5,\n",
       " 'sat': 3,\n",
       " 'cried': 5,\n",
       " 'Come': 4,\n",
       " \"there's\": 7,\n",
       " 'crying': 6,\n",
       " 'rather': 6,\n",
       " 'sharply': 7,\n",
       " 'advise': 6,\n",
       " 'leave': 5,\n",
       " 'minute': 6,\n",
       " 'generally': 9,\n",
       " 'gave': 4,\n",
       " 'good': 4,\n",
       " 'advice': 6,\n",
       " 'though': 6,\n",
       " 'seldom': 6,\n",
       " 'followed': 8,\n",
       " 'sometimes': 9,\n",
       " 'scolded': 7,\n",
       " 'severely': 8,\n",
       " 'bring': 5,\n",
       " 'tears': 5,\n",
       " 'Soon': 4,\n",
       " 'eye': 3,\n",
       " 'box': 3,\n",
       " 'lying': 5,\n",
       " 'cake': 4,\n",
       " 'EAT': 3,\n",
       " 'currants': 8,\n",
       " 'Well': 4,\n",
       " 'eat': 3,\n",
       " 'makes': 5,\n",
       " 'grow': 4,\n",
       " 'can': 3,\n",
       " 'smaller': 7,\n",
       " 'creep': 5,\n",
       " \"don't\": 5,\n",
       " 'care': 4,\n",
       " 'happens': 7,\n",
       " 'ate': 3,\n",
       " 'anxiously': 9,\n",
       " 'Which': 5,\n",
       " 'holding': 7,\n",
       " 'hand': 4,\n",
       " 'top': 3,\n",
       " 'growing': 7,\n",
       " 'surprised': 9,\n",
       " 'remained': 8,\n",
       " 'same': 4,\n",
       " 'work': 4,\n",
       " 'II--THE': 7,\n",
       " 'POOL': 4,\n",
       " 'TEARS': 5,\n",
       " 'Curiouser': 9,\n",
       " 'curiouser': 9,\n",
       " 'forgot': 6,\n",
       " 'speak': 5,\n",
       " 'Now': 3,\n",
       " \"I'm\": 3,\n",
       " 'opening': 7,\n",
       " 'largest': 7,\n",
       " 'Good-by': 7,\n",
       " 'wonder': 6,\n",
       " 'who': 3,\n",
       " 'will': 4,\n",
       " 'your': 4,\n",
       " 'shoes': 5,\n",
       " 'stockings': 9,\n",
       " 'dears': 5,\n",
       " 'deal': 4,\n",
       " 'far': 3,\n",
       " 'myself': 6,\n",
       " 'Just': 4,\n",
       " 'struck': 6,\n",
       " 'against': 7,\n",
       " 'fact': 4,\n",
       " 'nine': 4,\n",
       " 'Poor': 4,\n",
       " 'hopeless': 8,\n",
       " 'cry': 3,\n",
       " 'shedding': 8,\n",
       " 'gallons': 7,\n",
       " 'until': 5,\n",
       " 'pool': 4,\n",
       " 'reaching': 8,\n",
       " 'heard': 5,\n",
       " 'pattering': 9,\n",
       " 'distance': 8,\n",
       " 'hastily': 7,\n",
       " 'dried': 5,\n",
       " 'returning': 9,\n",
       " 'splendidly': 10,\n",
       " 'dressed': 7,\n",
       " 'pair': 4,\n",
       " 'white': 5,\n",
       " 'kid-gloves': 10,\n",
       " 'fan': 3,\n",
       " 'He': 2,\n",
       " 'trotting': 8,\n",
       " 'hurry': 5,\n",
       " 'muttering': 9,\n",
       " 'himself': 7,\n",
       " \"won't\": 5,\n",
       " 'savage': 6,\n",
       " \"I've\": 4,\n",
       " 'kept': 4,\n",
       " 'waiting': 7,\n",
       " 'near': 4,\n",
       " 'timid': 5,\n",
       " 'voice': 5,\n",
       " 'If': 2,\n",
       " 'please': 6,\n",
       " 'sir': 3,\n",
       " 'violently': 9,\n",
       " 'dropped': 7,\n",
       " 'skurried': 8,\n",
       " 'darkness': 8,\n",
       " 'hard': 4,\n",
       " 'he': 2,\n",
       " 'go': 2,\n",
       " 'gloves': 6,\n",
       " 'fanning': 7,\n",
       " 'Dear': 4,\n",
       " 'queer': 5,\n",
       " 'everything': 10,\n",
       " 'to-day': 6,\n",
       " 'yesterday': 9,\n",
       " 'things': 6,\n",
       " 'usual': 5,\n",
       " 'Was': 3,\n",
       " 'morning': 7,\n",
       " 'next': 4,\n",
       " 'question': 8,\n",
       " 'Who': 3,\n",
       " 'world': 5,\n",
       " 'am': 2,\n",
       " 'Ah': 2,\n",
       " \"that's\": 6,\n",
       " 'puzzle': 6,\n",
       " 'As': 2,\n",
       " 'hands': 5,\n",
       " \"Rabbit's\": 8,\n",
       " 'while': 5,\n",
       " 'have': 4,\n",
       " 'done': 4,\n",
       " 'measure': 7,\n",
       " 'two': 3,\n",
       " 'shrinking': 9,\n",
       " 'rapidly': 7,\n",
       " 'cause': 5,\n",
       " 'save': 4,\n",
       " 'altogether': 10,\n",
       " 'That': 4,\n",
       " 'narrow': 6,\n",
       " 'escape': 6,\n",
       " 'frightened': 10,\n",
       " 'sudden': 6,\n",
       " 'change': 6,\n",
       " 'glad': 4,\n",
       " 'existence': 9,\n",
       " 'speed': 5,\n",
       " 'Things': 6,\n",
       " 'are': 3,\n",
       " 'worse': 5,\n",
       " 'child': 5,\n",
       " 'these': 5,\n",
       " 'foot': 4,\n",
       " 'slipped': 7,\n",
       " 'splash': 6,\n",
       " 'chin': 4,\n",
       " 'salt-water': 10,\n",
       " 'Her': 3,\n",
       " 'somehow': 7,\n",
       " 'fallen': 6,\n",
       " 'sea': 3,\n",
       " 'wept': 4,\n",
       " 'something': 9,\n",
       " 'splashing': 9,\n",
       " 'swam': 4,\n",
       " 'nearer': 6,\n",
       " 'mouse': 5,\n",
       " 'Everything': 10,\n",
       " 'out-of-the-way': 14,\n",
       " 'likely': 6,\n",
       " 'talk': 4,\n",
       " 'harm': 4,\n",
       " 'O': 1,\n",
       " 'Mouse': 5,\n",
       " 'know': 4,\n",
       " 'swimming': 8,\n",
       " 'inquisitively': 13,\n",
       " 'wink': 4,\n",
       " 'Perhaps': 7,\n",
       " \"doesn't\": 7,\n",
       " 'understand': 10,\n",
       " 'dare': 4,\n",
       " 'French': 6,\n",
       " 'William': 7,\n",
       " 'Conqueror': 9,\n",
       " 'Ou': 2,\n",
       " 'est': 3,\n",
       " 'ma': 2,\n",
       " 'chatte': 6,\n",
       " 'sentence': 8,\n",
       " 'lesson-book': 11,\n",
       " 'leap': 4,\n",
       " 'water': 5,\n",
       " 'quiver': 6,\n",
       " 'fright': 6,\n",
       " 'beg': 3,\n",
       " 'pardon': 6,\n",
       " 'afraid': 6,\n",
       " \"animal's\": 8,\n",
       " 'feelings': 8,\n",
       " \"didn't\": 6,\n",
       " 'cats': 4,\n",
       " 'Not': 3,\n",
       " 'shrill': 6,\n",
       " 'passionate': 10,\n",
       " 'perhaps': 7,\n",
       " 'soothing': 8,\n",
       " 'tone': 4,\n",
       " 'angry': 5,\n",
       " 'yet': 3,\n",
       " 'show': 4,\n",
       " 'our': 3,\n",
       " \"you'd\": 5,\n",
       " 'fancy': 5,\n",
       " 'such': 4,\n",
       " 'quiet': 5,\n",
       " 'bristling': 9,\n",
       " 'really': 6,\n",
       " 'offended': 8,\n",
       " 'We': 2,\n",
       " 'trembling': 9,\n",
       " 'tail': 4,\n",
       " 'subject': 7,\n",
       " 'Our': 3,\n",
       " 'family': 6,\n",
       " 'always': 6,\n",
       " 'hated': 5,\n",
       " 'cats--nasty': 11,\n",
       " 'vulgar': 6,\n",
       " \"Don't\": 5,\n",
       " 'let': 3,\n",
       " 'name': 4,\n",
       " 'Mad': 3,\n",
       " 'Tea': 3,\n",
       " 'Party': 5,\n",
       " 'conversation': 12,\n",
       " 'Are': 3,\n",
       " 'you--are': 8,\n",
       " 'fond--of--of': 12,\n",
       " 'dogs': 4,\n",
       " 'dog': 3,\n",
       " 'house': 5,\n",
       " 'kills': 5,\n",
       " 'rats': 4,\n",
       " 'and--oh': 7,\n",
       " 'sorrowful': 9,\n",
       " 'For': 3,\n",
       " 'commotion': 9,\n",
       " 'called': 6,\n",
       " 'softly': 6,\n",
       " 'Do': 2,\n",
       " 'we': 2,\n",
       " 'pale': 4,\n",
       " 'Let': 3,\n",
       " 'us': 2,\n",
       " 'shore': 5,\n",
       " 'tell': 4,\n",
       " 'history': 7,\n",
       " \"you'll\": 6,\n",
       " 'why': 3,\n",
       " 'hate': 4,\n",
       " 'crowded': 7,\n",
       " 'birds': 5,\n",
       " 'animals': 7,\n",
       " 'Duck': 4,\n",
       " 'Dodo': 4,\n",
       " 'Lory': 4,\n",
       " 'Eaglet': 6,\n",
       " 'several': 7,\n",
       " 'creatures': 9,\n",
       " 'whole': 5,\n",
       " 'party': 5,\n",
       " 'III--A': 6,\n",
       " 'CAUCUS-RACE': 11,\n",
       " 'AND': 3,\n",
       " 'A': 1,\n",
       " 'LONG': 4,\n",
       " 'TALE': 4,\n",
       " 'They': 4,\n",
       " 'queer-looking': 13,\n",
       " 'assembled': 9,\n",
       " 'bank--the': 9,\n",
       " 'draggled': 8,\n",
       " 'feathers': 8,\n",
       " 'their': 5,\n",
       " 'fur': 3,\n",
       " 'clinging': 8,\n",
       " 'dripping': 8,\n",
       " 'wet': 3,\n",
       " 'cross': 5,\n",
       " 'uncomfortable': 13,\n",
       " 'course': 6,\n",
       " 'consultation': 12,\n",
       " 'few': 3,\n",
       " 'minutes': 7,\n",
       " 'natural': 7,\n",
       " 'familiarly': 10,\n",
       " 'known': 5,\n",
       " 'life': 4,\n",
       " 'At': 2,\n",
       " 'last': 4,\n",
       " 'person': 6,\n",
       " 'authority': 9,\n",
       " 'Sit': 3,\n",
       " 'listen': 6,\n",
       " 'enough': 6,\n",
       " 'ring': 4,\n",
       " 'Ahem': 4,\n",
       " 'important': 9,\n",
       " 'air': 3,\n",
       " 'ready': 5,\n",
       " 'driest': 6,\n",
       " 'Silence': 7,\n",
       " 'whose': 5,\n",
       " 'favored': 7,\n",
       " 'pope': 4,\n",
       " 'submitted': 9,\n",
       " 'wanted': 6,\n",
       " 'leaders': 7,\n",
       " 'accustomed': 10,\n",
       " 'usurpation': 10,\n",
       " 'conquest': 8,\n",
       " 'Edwin': 5,\n",
       " 'Morcar': 6,\n",
       " 'Earls': 5,\n",
       " 'Mercia': 6,\n",
       " 'Northumbria': 11,\n",
       " 'Ugh': 3,\n",
       " 'shiver': 6,\n",
       " 'Stigand': 7,\n",
       " 'patriotic': 9,\n",
       " 'archbishop': 10,\n",
       " 'Canterbury': 10,\n",
       " 'advisable': 9,\n",
       " 'Found': 5,\n",
       " 'replied': 7,\n",
       " 'crossly': 7,\n",
       " 'means': 5,\n",
       " 'frog': 4,\n",
       " 'worm': 4,\n",
       " 'notice': 6,\n",
       " 'hurriedly': 9,\n",
       " 'Edgar': 5,\n",
       " 'Atheling': 8,\n",
       " 'meet': 4,\n",
       " 'offer': 5,\n",
       " 'him': 3,\n",
       " \"crown.'--How\": 12,\n",
       " 'continued': 9,\n",
       " 'turning': 7,\n",
       " 'spoke': 5,\n",
       " 'melancholy': 10,\n",
       " 'seem': 4,\n",
       " 'case': 4,\n",
       " 'solemnly': 8,\n",
       " 'rising': 6,\n",
       " 'move': 4,\n",
       " 'meeting': 7,\n",
       " 'adjourn': 7,\n",
       " 'immediate': 9,\n",
       " 'adoption': 8,\n",
       " 'energetic': 9,\n",
       " 'remedies': 8,\n",
       " 'Speak': 5,\n",
       " 'meaning': 7,\n",
       " \"what's\": 6,\n",
       " 'believe': 7,\n",
       " 'Caucus-race': 11,\n",
       " 'Why': 3,\n",
       " 'explain': 7,\n",
       " 'race-course': 11,\n",
       " 'circle': 6,\n",
       " 'placed': 6,\n",
       " 'One': 3,\n",
       " 'three': 5,\n",
       " 'running': 7,\n",
       " 'liked': 5,\n",
       " 'left': 4,\n",
       " 'easy': 4,\n",
       " 'race': 4,\n",
       " 'hour': 4,\n",
       " 'panting': 7,\n",
       " 'asking': 6,\n",
       " 'has': 3,\n",
       " 'won': 3,\n",
       " 'answer': 6,\n",
       " 'Everybody': 9,\n",
       " 'prizes': 6,\n",
       " 'chorus': 6,\n",
       " 'voices': 6,\n",
       " 'asked': 5,\n",
       " 'pointing': 8,\n",
       " 'finger': 6,\n",
       " 'calling': 7,\n",
       " 'confused': 8,\n",
       " 'Prizes': 6,\n",
       " 'despair': 7,\n",
       " 'pocket': 6,\n",
       " 'pulled': 6,\n",
       " 'comfits': 7,\n",
       " 'luckily': 7,\n",
       " 'handed': 6,\n",
       " 'exactly': 7,\n",
       " 'a-piece': 7,\n",
       " 'caused': 6,\n",
       " 'noise': 5,\n",
       " 'confusion': 9,\n",
       " 'complained': 10,\n",
       " 'theirs': 6,\n",
       " 'ones': 4,\n",
       " 'choked': 6,\n",
       " 'patted': 6,\n",
       " 'begged': 6,\n",
       " 'promised': 8,\n",
       " 'hate--C': 7,\n",
       " 'D': 1,\n",
       " 'added': 5,\n",
       " 'whisper': 7,\n",
       " 'Mine': 4,\n",
       " 'sad': 3,\n",
       " 'tale': 4,\n",
       " 'sighing': 7,\n",
       " 'looking': 7,\n",
       " \"Mouse's\": 7,\n",
       " 'call': 4,\n",
       " 'puzzling': 8,\n",
       " 'speaking': 8,\n",
       " 'Fury': 4,\n",
       " 'met': 3,\n",
       " 'both': 4,\n",
       " 'law': 3,\n",
       " 'prosecute': 9,\n",
       " 'denial': 6,\n",
       " 'trial': 5,\n",
       " 'Said': 4,\n",
       " 'cur': 3,\n",
       " 'Such': 4,\n",
       " 'With': 4,\n",
       " 'jury': 4,\n",
       " 'judge': 5,\n",
       " 'wasting': 7,\n",
       " 'breath': 6,\n",
       " 'cunning': 7,\n",
       " 'old': 3,\n",
       " 'try': 3,\n",
       " 'condemn': 7,\n",
       " 'death': 5,\n",
       " 'attending': 9,\n",
       " 'thinking': 8,\n",
       " 'humbly': 6,\n",
       " 'fifth': 5,\n",
       " 'bend': 4,\n",
       " 'insult': 6,\n",
       " 'nonsense': 8,\n",
       " 'walking': 7,\n",
       " 'Please': 6,\n",
       " 'finish': 6,\n",
       " 'story': 5,\n",
       " 'others': 6,\n",
       " 'joined': 6,\n",
       " 'Yes': 3,\n",
       " 'shook': 5,\n",
       " 'impatiently': 11,\n",
       " 'quicker': 7,\n",
       " 'sensation': 9,\n",
       " 'Some': 4,\n",
       " 'Canary': 6,\n",
       " 'children': 8,\n",
       " \"It's\": 4,\n",
       " 'bed': 3,\n",
       " 'On': 2,\n",
       " 'various': 7,\n",
       " 'pretexts': 8,\n",
       " 'moved': 5,\n",
       " 'alone': 5,\n",
       " \"hadn't\": 6,\n",
       " 'mentioned': 9,\n",
       " 'Nobody': 6,\n",
       " 'seems': 5,\n",
       " 'sure': 4,\n",
       " \"she's\": 5,\n",
       " 'lonely': 6,\n",
       " 'low-spirited': 12,\n",
       " 'however': 7,\n",
       " 'footsteps': 9,\n",
       " 'eagerly': 7,\n",
       " 'IV--THE': 7,\n",
       " 'RABBIT': 6,\n",
       " 'SENDS': 5,\n",
       " 'LITTLE': 6,\n",
       " 'BILL': 4,\n",
       " 'paws': 4,\n",
       " \"She'll\": 6,\n",
       " 'executed': 8,\n",
       " 'ferrets': 7,\n",
       " 'Where': 5,\n",
       " 'guessed': 7,\n",
       " 'good-naturedly': 14,\n",
       " 'hunting': 7,\n",
       " 'nowhere': 7,\n",
       " 'seen--everything': 16,\n",
       " ...}"
      ]
     },
     "metadata": {},
     "execution_count": 24
    }
   ],
   "source": [
    "result = []\n",
    "final = []\n",
    "d = {}\n",
    "# Reading the file.\n",
    "with open('alice.txt', \"r\") as f:\n",
    "    # Splitting the lines into words.\n",
    "    for line in f:\n",
    "        for word in line.split():\n",
    "            wordtemp = word.strip(\"\"\"!\"#$%&'()*,-./:;?@[]_\"\"\")#.lower()\n",
    "            result.append(wordtemp)\n",
    "    # Puts words and their count into dict.\n",
    "    for word in result:\n",
    "        if word not in final:\n",
    "            final.append(word)\n",
    "    for x in final:\n",
    "        d[x] = len(x)\n",
    "d"
   ]
  },
  {
   "cell_type": "code",
   "execution_count": 94,
   "metadata": {},
   "outputs": [],
   "source": [
    "##exercise05"
   ]
  },
  {
   "cell_type": "code",
   "execution_count": 95,
   "metadata": {},
   "outputs": [],
   "source": [
    "def summary(filename):\n",
    "    L=[]\n",
    "    #reading the file\n",
    "    with open(filename, \"r\") as f:\n",
    "        L = []\n",
    "        for line in f:\n",
    "            try:\n",
    "                n = float(line)\n",
    "                L.append(n)\n",
    "            except:\n",
    "                pass\n",
    "        Sum = sum(L)\n",
    "        Average = statistics.mean(L)\n",
    "        Stddev = statistics.stdev(L)\n",
    "    return print(\"Sum:\", Sum, \"Average:\", Average, \"Stddev:\", Stddev)"
   ]
  },
  {
   "cell_type": "code",
   "execution_count": 96,
   "metadata": {},
   "outputs": [
    {
     "output_type": "stream",
     "name": "stdout",
     "text": [
      "Sum: 51.4 Average: 10.28 Stddev: 8.90460554993875\n"
     ]
    }
   ],
   "source": [
    "import statistics\n",
    "\n",
    "with open('example.txt', \"r\") as f:\n",
    "    sample = []\n",
    "    for line in f:\n",
    "        try:\n",
    "            n = float(line)\n",
    "            sample.append(n)\n",
    "        except:\n",
    "            pass\n",
    "    Sum = sum(sample)\n",
    "    Average = statistics.mean(sample)\n",
    "    Stddev = statistics.stdev(sample)\n",
    "print(\"Sum:\", Sum, \"Average:\", Average, \"Stddev:\", Stddev)"
   ]
  },
  {
   "cell_type": "code",
   "execution_count": 97,
   "metadata": {},
   "outputs": [
    {
     "output_type": "stream",
     "name": "stdout",
     "text": [
      "Sum: 5446.2 Average: 1815.4 Stddev: 3124.2940450604196\n"
     ]
    }
   ],
   "source": [
    "summary('example2.txt')"
   ]
  },
  {
   "cell_type": "code",
   "execution_count": 98,
   "metadata": {},
   "outputs": [],
   "source": [
    "##example06"
   ]
  },
  {
   "cell_type": "code",
   "execution_count": 99,
   "metadata": {},
   "outputs": [],
   "source": [
    "def file_count(filename):\n",
    "    words_ = []\n",
    "    words = []\n",
    "    char = 0\n",
    "    with open(filename, \"r\") as f:\n",
    "        lines = f.readlines()\n",
    "        for line in lines:\n",
    "            words_ += line.split()\n",
    "            words += line\n",
    "        for word in words:\n",
    "            char += len(word)\n",
    "    return (len(lines), len(words_), char)\n",
    "    #return (lines, words, characters)"
   ]
  },
  {
   "cell_type": "code",
   "execution_count": 100,
   "metadata": {},
   "outputs": [
    {
     "output_type": "execute_result",
     "data": {
      "text/plain": [
       "(8, 105, 647)"
      ]
     },
     "metadata": {},
     "execution_count": 100
    }
   ],
   "source": [
    "file_count('test.txt')"
   ]
  },
  {
   "cell_type": "code",
   "execution_count": 101,
   "metadata": {},
   "outputs": [
    {
     "output_type": "execute_result",
     "data": {
      "text/plain": [
       "8"
      ]
     },
     "metadata": {},
     "execution_count": 101
    }
   ],
   "source": [
    "wordList = []\n",
    "final = []\n",
    "Llines = []\n",
    "d = {}\n",
    "with open('test.txt', \"r\") as f:\n",
    "    ##number of lines\n",
    "    for line in f:\n",
    "        Llines.append(line)\n",
    "    lines = len(Llines)\n",
    "lines"
   ]
  },
  {
   "cell_type": "code",
   "execution_count": 102,
   "metadata": {},
   "outputs": [
    {
     "output_type": "execute_result",
     "data": {
      "text/plain": [
       "105"
      ]
     },
     "metadata": {},
     "execution_count": 102
    }
   ],
   "source": [
    "Lbuena = []\n",
    "with open('test.txt', \"r\") as f:\n",
    "    for line in f:\n",
    "        for word in line.split():\n",
    "            Lbuena.append(word)\n",
    "        words = len(Lbuena)\n",
    "words"
   ]
  },
  {
   "cell_type": "code",
   "execution_count": 103,
   "metadata": {},
   "outputs": [
    {
     "output_type": "execute_result",
     "data": {
      "text/plain": [
       "647"
      ]
     },
     "metadata": {},
     "execution_count": 103
    }
   ],
   "source": [
    "Lchar = []\n",
    "with open('test.txt', \"r\") as f:\n",
    "    for line in f:\n",
    "        for word in line:\n",
    "            for char in word:\n",
    "                Lchar.append(char)\n",
    "    characters = len(Lchar)\n",
    "characters"
   ]
  },
  {
   "cell_type": "code",
   "execution_count": 104,
   "metadata": {},
   "outputs": [],
   "source": [
    "##example07"
   ]
  },
  {
   "cell_type": "code",
   "execution_count": 105,
   "metadata": {},
   "outputs": [],
   "source": [
    "def file_extensions(filename):\n",
    "    l = []\n",
    "    d = {}\n",
    "    with open(filename, \"r\") as f:\n",
    "        lines = f.readlines()\n",
    "    for line in lines:\n",
    "        line = line.strip()\n",
    "        if \".\" in line:\n",
    "            two = line.rsplit(\".\", 1)\n",
    "            end = two[1]\n",
    "            if end in d:\n",
    "                d[end].append(line)\n",
    "            else:\n",
    "                d[end]=[line]\n",
    "        else:\n",
    "            l.append(line)\n",
    "    return (l,d)"
   ]
  },
  {
   "cell_type": "code",
   "execution_count": 106,
   "metadata": {},
   "outputs": [
    {
     "output_type": "execute_result",
     "data": {
      "text/plain": [
       "(['test'],\n",
       " {'txt': ['file1.txt', 'file2.txt'],\n",
       "  'pdf': ['mydocument.pdf'],\n",
       "  'gz': ['archive.tar.gz']})"
      ]
     },
     "metadata": {},
     "execution_count": 106
    }
   ],
   "source": [
    "file_extensions('filenames.txt')"
   ]
  },
  {
   "cell_type": "code",
   "execution_count": 107,
   "metadata": {},
   "outputs": [
    {
     "output_type": "execute_result",
     "data": {
      "text/plain": [
       "(['test'],\n",
       " {'txt': ['file1.txt', 'file2.txt'],\n",
       "  'pdf': ['mydocument.pdf'],\n",
       "  'gz': ['archive.tar.gz']})"
      ]
     },
     "metadata": {},
     "execution_count": 107
    }
   ],
   "source": [
    "l = []\n",
    "file_extension = []\n",
    "files = []\n",
    "d = {}\n",
    "with open('filenames.txt', \"r\") as f:\n",
    "    lines = f.readlines()\n",
    "for line in lines:\n",
    "    line = line.strip()\n",
    "    if \".\" in line:\n",
    "        two = line.rsplit(\".\", 1)\n",
    "        end = two[1]\n",
    "        if end in d:\n",
    "            d[end].append(line)\n",
    "        else:\n",
    "            d[end]=[line]\n",
    "    else:\n",
    "        l.append(line)\n",
    "(l, d)"
   ]
  },
  {
   "cell_type": "code",
   "execution_count": 108,
   "metadata": {},
   "outputs": [],
   "source": [
    "##erxercise 08"
   ]
  },
  {
   "cell_type": "code",
   "execution_count": 109,
   "metadata": {},
   "outputs": [],
   "source": [
    "class Prepend(object):\n",
    "    # Add the methods of the class here\n",
    "    def __init__(self, char):\n",
    "        self.char = char\n",
    "    #create the write function\n",
    "    def write(cls, char):\n",
    "        return cls(char)"
   ]
  },
  {
   "cell_type": "code",
   "execution_count": 110,
   "metadata": {},
   "outputs": [],
   "source": [
    "##DEFINITIVO\n",
    "class Prepend(object):\n",
    "    # Add the methods of the class here\n",
    "    def __init__(self, char):\n",
    "        self.start = char\n",
    "    #create the write function\n",
    "    def write(self, s):\n",
    "        return print(self.start + s)"
   ]
  },
  {
   "cell_type": "code",
   "execution_count": 111,
   "metadata": {},
   "outputs": [
    {
     "output_type": "stream",
     "name": "stdout",
     "text": [
      "+++ \n+++ Hello\n"
     ]
    }
   ],
   "source": [
    "p = Prepend(\"+++ \")\n",
    "print(p.start)\n",
    "p.write(\"Hello\")\n",
    "#+++ Hello"
   ]
  },
  {
   "cell_type": "code",
   "execution_count": 112,
   "metadata": {},
   "outputs": [
    {
     "output_type": "stream",
     "name": "stdout",
     "text": [
      "21\n25\n"
     ]
    },
    {
     "output_type": "error",
     "ename": "TypeError",
     "evalue": "otro() missing 2 required positional arguments: 'year' and 's'",
     "traceback": [
      "\u001b[1;31m---------------------------------------------------------------------------\u001b[0m",
      "\u001b[1;31mTypeError\u001b[0m                                 Traceback (most recent call last)",
      "\u001b[1;32m<ipython-input-112-af40a0dd8605>\u001b[0m in \u001b[0;36m<module>\u001b[1;34m\u001b[0m\n\u001b[0;32m     20\u001b[0m \u001b[0mprint\u001b[0m \u001b[1;33m(\u001b[0m\u001b[0mperson1\u001b[0m\u001b[1;33m.\u001b[0m\u001b[0mage\u001b[0m\u001b[1;33m)\u001b[0m\u001b[1;33m\u001b[0m\u001b[1;33m\u001b[0m\u001b[0m\n\u001b[0;32m     21\u001b[0m \u001b[0mprint\u001b[0m \u001b[1;33m(\u001b[0m\u001b[0mperson2\u001b[0m\u001b[1;33m.\u001b[0m\u001b[0mage\u001b[0m\u001b[1;33m)\u001b[0m\u001b[1;33m\u001b[0m\u001b[1;33m\u001b[0m\u001b[0m\n\u001b[1;32m---> 22\u001b[1;33m \u001b[0mperson1\u001b[0m\u001b[1;33m.\u001b[0m\u001b[0motro\u001b[0m\u001b[1;33m(\u001b[0m\u001b[1;33m)\u001b[0m\u001b[1;33m\u001b[0m\u001b[1;33m\u001b[0m\u001b[0m\n\u001b[0m\u001b[0;32m     23\u001b[0m \u001b[1;31m# print the result\u001b[0m\u001b[1;33m\u001b[0m\u001b[1;33m\u001b[0m\u001b[1;33m\u001b[0m\u001b[0m\n\u001b[0;32m     24\u001b[0m \u001b[0mprint\u001b[0m \u001b[1;33m(\u001b[0m\u001b[0mPerson\u001b[0m\u001b[1;33m.\u001b[0m\u001b[0misAdult\u001b[0m\u001b[1;33m(\u001b[0m\u001b[1;36m22\u001b[0m\u001b[1;33m)\u001b[0m\u001b[1;33m)\u001b[0m\u001b[1;33m\u001b[0m\u001b[1;33m\u001b[0m\u001b[0m\n",
      "\u001b[1;31mTypeError\u001b[0m: otro() missing 2 required positional arguments: 'year' and 's'"
     ]
    }
   ],
   "source": [
    "from datetime import date\n",
    "   \n",
    "class Person:\n",
    "    def __init__(self, name, age):\n",
    "        self.name = name\n",
    "        self.age = age       \n",
    "    # a class method to create a Person object by birth year.\n",
    "    @classmethod\n",
    "    def fromBirthYear(cls, name, year):\n",
    "        return cls(name, date.today().year - year)  \n",
    "    def otro(name, year, s):\n",
    "        return print(name, date.today().year - year, s)       \n",
    "    # a static method to check if a Person is adult or not.\n",
    "    @staticmethod\n",
    "    def isAdult(age):\n",
    "        return age > 18   \n",
    "\n",
    "person1 = Person('mayank', 21)\n",
    "person2 = Person.fromBirthYear('mayank', 1996)   \n",
    "print (person1.age)\n",
    "print (person2.age)\n",
    "person1.otro()\n",
    "# print the result\n",
    "print (Person.isAdult(22))"
   ]
  },
  {
   "cell_type": "code",
   "execution_count": 31,
   "metadata": {},
   "outputs": [],
   "source": [
    "class MyClass:\n",
    "    \"\"\"A simple example class\"\"\"\n",
    "    i = 12345\n",
    "\n",
    "    def f(self):\n",
    "        return 'hello world'"
   ]
  },
  {
   "cell_type": "code",
   "execution_count": 41,
   "metadata": {},
   "outputs": [],
   "source": [
    "##INHERITANCE"
   ]
  },
  {
   "cell_type": "code",
   "execution_count": 42,
   "metadata": {},
   "outputs": [
    {
     "output_type": "stream",
     "name": "stdout",
     "text": [
      "Executing B.f\nExecuting C.g\n"
     ]
    }
   ],
   "source": [
    "class B(object):\n",
    "    def f(self):\n",
    "        print(\"Executing B.f\")\n",
    "    def g(self):\n",
    "        print(\"Executing B.g\")\n",
    "\n",
    "class C(B):\n",
    "    def g(self):\n",
    "        print(\"Executing C.g\")\n",
    "\n",
    "x=C()\n",
    "x.f() # inherited from B\n",
    "x.g() # overridden by C"
   ]
  },
  {
   "cell_type": "code",
   "execution_count": 43,
   "metadata": {},
   "outputs": [],
   "source": [
    "##exercise 09"
   ]
  },
  {
   "cell_type": "code",
   "execution_count": 163,
   "metadata": {},
   "outputs": [],
   "source": [
    "class Rational(object):\n",
    "    \"\"\"rational number class\"\"\"\n",
    "    def __init__(self, num, denom):\n",
    "        \"This initialises an instance of type ClassName\"\n",
    "        self.numerator = num\n",
    "        self.denominator = denom\n",
    "    def __str__(self):\n",
    "        return '%s/%s' % (self.numerator, self.denominator)\n",
    "    def __mul__(a, b):\n",
    "        \"\"\"Multiply two rational numbers.\"\"\"\n",
    "        return Rational(a.numerator * b.numerator, a.denominator * b.denominator)\n",
    "    def __truediv__(a, b):\n",
    "        \"\"\"Divide two rational numbers.\"\"\"\n",
    "        return Rational(a.numerator * b.denominator, a.denominator * b.numerator)\n",
    "    def __add__(a, b):\n",
    "        \"\"\"Divide two rational numbers.\"\"\"\n",
    "        return Rational(a.numerator * b.denominator + b.numerator * a.denominator, a.denominator * b.denominator)\n",
    "    def __sub__(a, b):\n",
    "        \"\"\"Divide two rational numbers.\"\"\"\n",
    "        return Rational(a.numerator * b.denominator - b.numerator * a.denominator, a.denominator * b.denominator)\n",
    "    def __eq__(a, b):\n",
    "        \"\"\"Divide two rational numbers.\"\"\"\n",
    "        return a.numerator == b.numerator and a.denominator == b.denominator\n",
    "    def __gt__(self,y):\n",
    "        if self.numerator*y.denominator > self.denominator*y.numerator:\n",
    "            return True\n",
    "        else: \n",
    "            return False\n",
    "    def __lt__(self,y):\n",
    "        if self.numerator*y.denominator < self.denominator*y.numerator:\n",
    "            return True\n",
    "        else: \n",
    "            return False"
   ]
  },
  {
   "cell_type": "code",
   "execution_count": 164,
   "metadata": {},
   "outputs": [
    {
     "output_type": "stream",
     "name": "stdout",
     "text": [
      "1/4\n2/3\n2/12\n3/8\n11/12\n-5/12\nFalse\nFalse\nTrue\n"
     ]
    }
   ],
   "source": [
    "r1=Rational(1,4)\n",
    "r2=Rational(2,3)\n",
    "print(r1)\n",
    "print(r2)\n",
    "print(r1*r2)\n",
    "print(r1/r2)\n",
    "print(r1+r2)\n",
    "print(r1-r2)\n",
    "print(Rational(1,2) == Rational(2,4))\n",
    "print(Rational(1,2) > Rational(2,4))\n",
    "print(Rational(1,2) < Rational(2,4))"
   ]
  },
  {
   "cell_type": "code",
   "execution_count": 166,
   "metadata": {},
   "outputs": [
    {
     "output_type": "execute_result",
     "data": {
      "text/plain": [
       "<__main__.Rational at 0x1c3b0829400>"
      ]
     },
     "metadata": {},
     "execution_count": 166
    }
   ],
   "source": [
    "##solucion\n",
    "class Rational(object):\n",
    "    def __init__(self, n, d):\n",
    "        self.n = n\n",
    "        self.d = d\n",
    "    def __str__(self):\n",
    "        return \"%i/%i\" % (self.n, self.d)\n",
    "    def __repr__(self):\n",
    "        return \"Rational(%i, %i)\" % (self.n, self.d)\n",
    "    def __mul__(self, r2):\n",
    "        a = self.n * r2.n\n",
    "        b = self.d * r2.d\n",
    "        return Rational(a,b)\n",
    "    def __truediv__(self, r2):\n",
    "        a = self.n * r2.d\n",
    "        b = self.d * r2.n\n",
    "        return Rational(a,b)\n",
    "    def __add__(self, r2):\n",
    "        d1 = self.d\n",
    "        d2 = r2.d\n",
    "        a = self.n * d2 + r2.n * d1\n",
    "        b = d1 * d2\n",
    "        return Rational(a, b)\n",
    "    def __sub__(self, r2):\n",
    "        d1 = self.d\n",
    "        d2 = r2.d\n",
    "        a = self.n * d2 - r2.n * d1\n",
    "        b = d1 * d2\n",
    "        return Rational(a, b)\n",
    "    def __eq__(self, r2):\n",
    "        return self.n * r2.d == self.d *r2.n\n",
    "    def __lt__(self, r2):\n",
    "        return self.n * r2.d < self.d *r2.n\n",
    "    def __gt__(self, r2):\n",
    "        return self.n * r2.d > self.d *r2.n\n",
    "def main():\n",
    "    r1=Rational(1,4)\n",
    "    r2=Rational(2,3)\n",
    "    print(r1)\n",
    "    print(r2)\n",
    "    print(r1*r2)\n",
    "    print(r1/r2)\n",
    "    print(r1+r2)\n",
    "    print(r1-r2)\n",
    "    print(Rational(1,2) == Rational(2,4))\n",
    "    print(Rational(1,2) > Rational(2,4))\n",
    "    print(Rational(1,2) < Rational(2,4))\n",
    "if __name__ == \"__main__\":\n",
    "    main()"
   ]
  },
  {
   "cell_type": "code",
   "execution_count": 167,
   "metadata": {},
   "outputs": [],
   "source": [
    "##Exceptions"
   ]
  },
  {
   "cell_type": "code",
   "execution_count": 168,
   "metadata": {},
   "outputs": [
    {
     "output_type": "stream",
     "name": "stdout",
     "text": [
      "Index does not exist\n"
     ]
    }
   ],
   "source": [
    "L=[1,2,3]\n",
    "try:\n",
    "\tprint(L[3])\n",
    "except IndexError:\n",
    "\tprint(\"Index does not exist\")"
   ]
  },
  {
   "cell_type": "code",
   "execution_count": 170,
   "metadata": {},
   "outputs": [
    {
     "output_type": "stream",
     "name": "stdout",
     "text": [
      "Average is 8.083333333333334\n"
     ]
    }
   ],
   "source": [
    "def compute_average(L):\n",
    "\tn=len(L)\n",
    "\ts=sum(L)\n",
    "\treturn float(s)/n #error is noticed here!!!\n",
    "mylist=[]\n",
    "while True:\n",
    "\ttry:\n",
    "\t\tx=float(input(\"Give a number (non-number quits): \"))\n",
    "\t\tmylist.append(x) \n",
    "\texcept ValueError:\n",
    "\t\tbreak\n",
    "try:\n",
    "\taverage=compute_average(mylist)\n",
    "\tprint(\"Average is\", average)\n",
    "except ZeroDivisionError:\n",
    "\t#the error is handled here\n",
    "\tif len(mylist)==0:\n",
    "\t\tprint(\"Tried to compute the average of empty list of numbers\")\n",
    "\telse:\n",
    "\t\tprint(\"Something strange happened!\")"
   ]
  },
  {
   "cell_type": "code",
   "execution_count": 171,
   "metadata": {},
   "outputs": [],
   "source": [
    "###too general exceptions"
   ]
  },
  {
   "cell_type": "code",
   "execution_count": 172,
   "metadata": {},
   "outputs": [
    {
     "output_type": "stream",
     "name": "stdout",
     "text": [
      "You didn’t enter a number\n"
     ]
    }
   ],
   "source": [
    "import sys\n",
    "s=input(\"Give a number: \")\n",
    "s=s[:-1] # strip the \\n character from the end\n",
    "try:\n",
    "    x=int(s)\n",
    "    sys.stdout.wr1te(f\"You entered {x}\\n\")\n",
    "except Exception:\n",
    "    print(\"You didn’t enter a number\")"
   ]
  },
  {
   "cell_type": "code",
   "execution_count": 173,
   "metadata": {},
   "outputs": [],
   "source": [
    "##exercise 10"
   ]
  },
  {
   "cell_type": "code",
   "execution_count": 208,
   "metadata": {},
   "outputs": [],
   "source": [
    "def extract_numbers(string):\n",
    "    l = []\n",
    "    result = []\n",
    "    l = string.split()\n",
    "    for item in l:\n",
    "        try:\n",
    "            result.append(int(item))\n",
    "        except ValueError:\n",
    "            try:\n",
    "                result.append(float(item))\n",
    "            except ValueError:\n",
    "                pass\n",
    "    return result"
   ]
  },
  {
   "cell_type": "code",
   "execution_count": 209,
   "metadata": {},
   "outputs": [
    {
     "output_type": "stream",
     "name": "stdout",
     "text": [
      "[123, 1.2, 13.2, -1]\n"
     ]
    }
   ],
   "source": [
    "print(extract_numbers(\"abd 123 1.2 test 13.2 -1\"))\n",
    "#[123, 1.2, 13.2, -1]"
   ]
  },
  {
   "cell_type": "code",
   "execution_count": 210,
   "metadata": {},
   "outputs": [
    {
     "output_type": "execute_result",
     "data": {
      "text/plain": [
       "[123, 1.2, 13.2, -1]"
      ]
     },
     "metadata": {},
     "execution_count": 210
    }
   ],
   "source": [
    "extract_numbers(\"abd 123 1.2 test 13.2 -1\")"
   ]
  },
  {
   "cell_type": "code",
   "execution_count": 9,
   "metadata": {},
   "outputs": [],
   "source": [
    "#NUMPY\n",
    "import numpy as np"
   ]
  },
  {
   "cell_type": "code",
   "execution_count": 3,
   "metadata": {},
   "outputs": [
    {
     "output_type": "execute_result",
     "data": {
      "text/plain": [
       "array([1, 2, 3])"
      ]
     },
     "metadata": {},
     "execution_count": 3
    }
   ],
   "source": [
    "## creation of arrays\n",
    "np.array([1,2,3]) #one dimensional array"
   ]
  },
  {
   "cell_type": "code",
   "execution_count": 5,
   "metadata": {},
   "outputs": [
    {
     "output_type": "execute_result",
     "data": {
      "text/plain": [
       "array([[1, 2, 3],\n",
       "       [4, 5, 6]])"
      ]
     },
     "metadata": {},
     "execution_count": 5
    }
   ],
   "source": [
    "np.array([[1,2,3],[4,5,6]]) #two dimensional array"
   ]
  },
  {
   "cell_type": "code",
   "execution_count": 6,
   "metadata": {},
   "outputs": [
    {
     "output_type": "execute_result",
     "data": {
      "text/plain": [
       "array([[[1, 2],\n",
       "        [3, 4]],\n",
       "\n",
       "       [[5, 6],\n",
       "        [7, 8]]])"
      ]
     },
     "metadata": {},
     "execution_count": 6
    }
   ],
   "source": [
    "np.array([[[1,2],[3,4]],[[5,6],[7,8]]]) # three dimensional array"
   ]
  },
  {
   "cell_type": "code",
   "execution_count": 7,
   "metadata": {},
   "outputs": [
    {
     "output_type": "execute_result",
     "data": {
      "text/plain": [
       "array([[0., 0., 0., 0.],\n",
       "       [0., 0., 0., 0.],\n",
       "       [0., 0., 0., 0.]])"
      ]
     },
     "metadata": {},
     "execution_count": 7
    }
   ],
   "source": [
    "np.zeros((3,4)) # null array"
   ]
  },
  {
   "cell_type": "code",
   "execution_count": 8,
   "metadata": {},
   "outputs": [
    {
     "output_type": "execute_result",
     "data": {
      "text/plain": [
       "array([[0, 0, 0, 0],\n",
       "       [0, 0, 0, 0],\n",
       "       [0, 0, 0, 0]])"
      ]
     },
     "metadata": {},
     "execution_count": 8
    }
   ],
   "source": [
    "np.zeros((3,4), dtype=int)"
   ]
  },
  {
   "cell_type": "code",
   "execution_count": 9,
   "metadata": {},
   "outputs": [
    {
     "output_type": "execute_result",
     "data": {
      "text/plain": [
       "array([[1., 1., 1.],\n",
       "       [1., 1., 1.]])"
      ]
     },
     "metadata": {},
     "execution_count": 9
    }
   ],
   "source": [
    "np.ones((2,3))  # array filled with ones"
   ]
  },
  {
   "cell_type": "code",
   "execution_count": 11,
   "metadata": {},
   "outputs": [
    {
     "output_type": "execute_result",
     "data": {
      "text/plain": [
       "array([[7, 7, 7],\n",
       "       [7, 7, 7]])"
      ]
     },
     "metadata": {},
     "execution_count": 11
    }
   ],
   "source": [
    "np.full((2,3), fill_value=7) # fill array with the ssame value"
   ]
  },
  {
   "cell_type": "code",
   "execution_count": 12,
   "metadata": {},
   "outputs": [
    {
     "output_type": "execute_result",
     "data": {
      "text/plain": [
       "array([[0.00000000e+000, 0.00000000e+000, 0.00000000e+000,\n",
       "        0.00000000e+000],\n",
       "       [0.00000000e+000, 1.06915806e-320, 0.00000000e+000,\n",
       "        1.66880539e-308]])"
      ]
     },
     "metadata": {},
     "execution_count": 12
    }
   ],
   "source": [
    "np.empty((2,4)) # empty array"
   ]
  },
  {
   "cell_type": "code",
   "execution_count": 14,
   "metadata": {},
   "outputs": [
    {
     "output_type": "execute_result",
     "data": {
      "text/plain": [
       "array([[1, 0, 0, 0, 0],\n",
       "       [0, 1, 0, 0, 0],\n",
       "       [0, 0, 1, 0, 0],\n",
       "       [0, 0, 0, 1, 0],\n",
       "       [0, 0, 0, 0, 1]])"
      ]
     },
     "metadata": {},
     "execution_count": 14
    }
   ],
   "source": [
    "np.eye(5, dtype=int) # idendity matrix"
   ]
  },
  {
   "cell_type": "code",
   "execution_count": 16,
   "metadata": {},
   "outputs": [
    {
     "output_type": "execute_result",
     "data": {
      "text/plain": [
       "array([0, 2, 4, 6, 8])"
      ]
     },
     "metadata": {},
     "execution_count": 16
    }
   ],
   "source": [
    "np.arange(0,10,2) # the arnage is similar to the range function, but creates an array instead"
   ]
  },
  {
   "cell_type": "code",
   "execution_count": 17,
   "metadata": {},
   "outputs": [
    {
     "output_type": "execute_result",
     "data": {
      "text/plain": [
       "array([0.        , 0.78539816, 1.57079633, 2.35619449, 3.14159265])"
      ]
     },
     "metadata": {},
     "execution_count": 17
    }
   ],
   "source": [
    "np.linspace(0, np.pi, 5) # evenly spaced range with 5 elements; for non integer arrays"
   ]
  },
  {
   "cell_type": "code",
   "execution_count": 18,
   "metadata": {},
   "outputs": [
    {
     "output_type": "execute_result",
     "data": {
      "text/plain": [
       "array([[0.48397666, 0.54537716, 0.88389225, 0.24650913],\n",
       "       [0.51927985, 0.50503515, 0.78844673, 0.38521645],\n",
       "       [0.40628817, 0.83596412, 0.70995795, 0.98760212]])"
      ]
     },
     "metadata": {},
     "execution_count": 18
    }
   ],
   "source": [
    "### array of random elements\n",
    "np.random.random((3,4)) #elements are uniformly distributed from half-open interval `0.0, 1.0)"
   ]
  },
  {
   "cell_type": "code",
   "execution_count": 19,
   "metadata": {},
   "outputs": [
    {
     "output_type": "execute_result",
     "data": {
      "text/plain": [
       "array([[-0.0350308 ,  0.66727521, -0.19547854, -0.80876014],\n",
       "       [ 0.89528518,  0.0549497 , -2.55221714, -1.08239726],\n",
       "       [ 0.42697415, -0.38612716, -0.20688345, -1.71392207]])"
      ]
     },
     "metadata": {},
     "execution_count": 19
    }
   ],
   "source": [
    "np.random.normal(0,1,(3,4)) #elements are normally distributed with mean 0 and standard deviation 1"
   ]
  },
  {
   "cell_type": "code",
   "execution_count": 20,
   "metadata": {},
   "outputs": [
    {
     "output_type": "execute_result",
     "data": {
      "text/plain": [
       "array([[-0.5332854 , -0.54335159,  0.93090619, -1.16107317],\n",
       "       [-0.66022258, -0.56869097,  0.97680999, -0.70830748],\n",
       "       [ 0.07633731, -0.10809703,  0.13655605,  0.28296515]])"
      ]
     },
     "metadata": {},
     "execution_count": 20
    }
   ],
   "source": [
    "np.random.normal(0,1,(3,4)) #elements are normally distributed with mean 0 and standard deviation 1"
   ]
  },
  {
   "cell_type": "code",
   "execution_count": 21,
   "metadata": {},
   "outputs": [
    {
     "output_type": "stream",
     "name": "stdout",
     "text": [
      "[44 47 64 67 67  9 83 21 36 87]\n[ 1.26611853 -0.50587654  2.54520078  1.08081191  0.48431215  0.57914048\n -0.18158257  1.41020463 -0.37447169  0.27519832]\n"
     ]
    }
   ],
   "source": [
    "np.random.seed(0)\n",
    "print(np.random.randint(0, 100, 10))\n",
    "print(np.random.normal(0, 1, 10))"
   ]
  },
  {
   "cell_type": "code",
   "execution_count": 22,
   "metadata": {},
   "outputs": [
    {
     "output_type": "execute_result",
     "data": {
      "text/plain": [
       "array([66, 92, 98, 17, 83, 57, 86, 97, 96, 47])"
      ]
     },
     "metadata": {},
     "execution_count": 22
    }
   ],
   "source": [
    "new_generator = np.random.RandomState(seed = 123) #RandomState is a class, so we give the seed to its constructor\n",
    "new_generator.randint(0,100,10)"
   ]
  },
  {
   "cell_type": "code",
   "execution_count": 84,
   "metadata": {},
   "outputs": [],
   "source": [
    "## array types and attributes\n",
    "def info(name, a):\n",
    "\tprint(f\"{name} has dim {a.ndim}, shape {a.shape}, size {a.size} and dtype {a.dtype}:\")\n",
    "\tprint(a)"
   ]
  },
  {
   "cell_type": "code",
   "execution_count": 24,
   "metadata": {},
   "outputs": [
    {
     "output_type": "stream",
     "name": "stdout",
     "text": [
      "b has dim 2, shape (2, 3), size 6 and dtype int32\n"
     ]
    }
   ],
   "source": [
    "b=np.array([[1,2,3],[4,5,6]])\n",
    "info(\"b\", b)"
   ]
  },
  {
   "cell_type": "code",
   "execution_count": 25,
   "metadata": {},
   "outputs": [
    {
     "output_type": "stream",
     "name": "stdout",
     "text": [
      "b has dim 2, shape (2, 3), size 6 and dtype int32\n"
     ]
    }
   ],
   "source": [
    "b=np.array([[1,2,3],[4,5,6]])\n",
    "info(\"b\", b)"
   ]
  },
  {
   "cell_type": "code",
   "execution_count": 26,
   "metadata": {},
   "outputs": [
    {
     "output_type": "stream",
     "name": "stdout",
     "text": [
      "d has dim 2, shape (1, 4), size 4 and dtype int32\n"
     ]
    }
   ],
   "source": [
    "d=np.array([[1,2,3,4]])\n",
    "info(\"d\",d)"
   ]
  },
  {
   "cell_type": "code",
   "execution_count": 27,
   "metadata": {},
   "outputs": [
    {
     "output_type": "stream",
     "name": "stdout",
     "text": [
      "4\n9\n"
     ]
    }
   ],
   "source": [
    "## indexing and reshaping\n",
    "a=np.array([1,4,2,7,9,5])\n",
    "print(a[1])\n",
    "print(a[-2])"
   ]
  },
  {
   "cell_type": "code",
   "execution_count": 28,
   "metadata": {},
   "outputs": [
    {
     "output_type": "stream",
     "name": "stdout",
     "text": [
      "[[1 2 3]\n [4 5 6]]\n6\n2\n"
     ]
    }
   ],
   "source": [
    "####for multidimensional arrays\n",
    "b=np.array([[1,2,3],[4,5,6]])\n",
    "print(b)\n",
    "print(b[1,2]) #row indez 1, column index 2\n",
    "print(b[0,1]) #row index 0, column index -1"
   ]
  },
  {
   "cell_type": "code",
   "execution_count": 29,
   "metadata": {},
   "outputs": [
    {
     "output_type": "stream",
     "name": "stdout",
     "text": [
      "[[10  2  3]\n [ 4  5  6]]\n"
     ]
    }
   ],
   "source": [
    "#as with lists, modification through indexing is possible\n",
    "b[0,0] = 10\n",
    "print(b)"
   ]
  },
  {
   "cell_type": "code",
   "execution_count": 30,
   "metadata": {},
   "outputs": [
    {
     "output_type": "stream",
     "name": "stdout",
     "text": [
      "[[10  2  3]\n [ 4  5  6]]\n"
     ]
    }
   ],
   "source": [
    "#as with lists, modification through indexing is possible\n",
    "b[0,0] = 10\n",
    "print(b)"
   ]
  },
  {
   "cell_type": "code",
   "execution_count": 31,
   "metadata": {},
   "outputs": [
    {
     "output_type": "stream",
     "name": "stdout",
     "text": [
      "[1 4 2 7 9 5]\n[4 2]\n[5 9 7 2 4 1]\n"
     ]
    }
   ],
   "source": [
    "### slicing\n",
    "print(a)\n",
    "print(a[1:3])\n",
    "print(a[::-1]) #reverses the array"
   ]
  },
  {
   "cell_type": "code",
   "execution_count": 32,
   "metadata": {},
   "outputs": [
    {
     "output_type": "stream",
     "name": "stdout",
     "text": [
      "[[10  2  3]\n [ 4  5  6]]\n[10  4]\n[10  2  3]\n[[2 3]\n [5 6]]\n"
     ]
    }
   ],
   "source": [
    "print(b)\n",
    "print(b[:,0])\n",
    "print(b[0,:])\n",
    "print(b[:,1:])"
   ]
  },
  {
   "cell_type": "code",
   "execution_count": 33,
   "metadata": {},
   "outputs": [
    {
     "output_type": "stream",
     "name": "stdout",
     "text": [
      "[[10  7  7]\n [ 4  7  7]]\n"
     ]
    }
   ],
   "source": [
    "b[:,1:] = 7\n",
    "print(b)"
   ]
  },
  {
   "cell_type": "code",
   "execution_count": 34,
   "metadata": {},
   "outputs": [
    {
     "output_type": "stream",
     "name": "stdout",
     "text": [
      "[10  4]\n[4 7 7]\n"
     ]
    }
   ],
   "source": [
    "print(b[:,0]) # first column\n",
    "print(b[1,:]) # second row"
   ]
  },
  {
   "cell_type": "code",
   "execution_count": 35,
   "metadata": {},
   "outputs": [
    {
     "output_type": "stream",
     "name": "stdout",
     "text": [
      "new has dim 2, shape (3, 3), size 9 and dtype int32\na has dim 1, shape (9,), size 9 and dtype int32\n"
     ]
    }
   ],
   "source": [
    "## reshaping\n",
    "a=np.arange(9)\n",
    "anew=a.reshape(3,3)\n",
    "info(\"new\", anew) \n",
    "info(\"a\", a)"
   ]
  },
  {
   "cell_type": "code",
   "execution_count": 36,
   "metadata": {},
   "outputs": [
    {
     "output_type": "stream",
     "name": "stdout",
     "text": [
      "d has dim 1, shape (4,), size 4 and dtype int32\ndr has dim 2, shape (1, 4), size 4 and dtype int32\ndc has dim 2, shape (4, 1), size 4 and dtype int32\n"
     ]
    }
   ],
   "source": [
    "d=np.arange(4) #1d array\n",
    "dr=d.reshape(1,4) #row vector\n",
    "dc=d.reshape(4,1) #column vector\n",
    "info(\"d\", d)\n",
    "info(\"dr\", dr)\n",
    "info(\"dc\", dc)"
   ]
  },
  {
   "cell_type": "code",
   "execution_count": 37,
   "metadata": {},
   "outputs": [
    {
     "output_type": "stream",
     "name": "stdout",
     "text": [
      "d has dim 1, shape (4,), size 4 and dtype int32\ndrow has dim 2, shape (4, 1), size 4 and dtype int32\ndrow has dim 2, shape (1, 4), size 4 and dtype int32\ndcol has dim 2, shape (4, 1), size 4 and dtype int32\n"
     ]
    }
   ],
   "source": [
    "info(\"d\", d)\n",
    "info(\"drow\", d[:,np.newaxis])\n",
    "info(\"drow\", d[np.newaxis, :])\n",
    "info(\"dcol\", d[:,np.newaxis])"
   ]
  },
  {
   "cell_type": "code",
   "execution_count": 38,
   "metadata": {},
   "outputs": [],
   "source": [
    "## exercise 11"
   ]
  },
  {
   "cell_type": "code",
   "execution_count": 39,
   "metadata": {},
   "outputs": [],
   "source": [
    "def get_rows(a):\n",
    "    rows = []\n",
    "    for row in a:\n",
    "        #a = array[i]\n",
    "        rows.append(row)\n",
    "    return rows\n",
    "def get_columns(a):\n",
    "    columns = []\n",
    "    b = a.T \n",
    "    for column in b:\n",
    "        #a = array[i]\n",
    "        columns.append(column)\n",
    "    return columns"
   ]
  },
  {
   "cell_type": "code",
   "execution_count": 40,
   "metadata": {},
   "outputs": [
    {
     "output_type": "execute_result",
     "data": {
      "text/plain": [
       "[array([5, 0, 3, 3]),\n",
       " array([7, 9, 3, 5]),\n",
       " array([2, 4, 7, 6]),\n",
       " array([8, 8, 1, 6])]"
      ]
     },
     "metadata": {},
     "execution_count": 40
    }
   ],
   "source": [
    "a = np.array([[5, 0, 3, 3], [7, 9, 3, 5], [2, 4, 7, 6], [8, 8, 1, 6]])\n",
    "get_rows(a)\n",
    "#[array([5, 0, 3, 3]), array([7, 9, 3, 5]), array([2, 4, 7, 6]), array([8, 8, 1, 6])]\n"
   ]
  },
  {
   "cell_type": "code",
   "execution_count": 41,
   "metadata": {},
   "outputs": [
    {
     "output_type": "execute_result",
     "data": {
      "text/plain": [
       "[array([5, 7, 2, 8]),\n",
       " array([0, 9, 4, 8]),\n",
       " array([3, 3, 7, 1]),\n",
       " array([3, 5, 6, 6])]"
      ]
     },
     "metadata": {},
     "execution_count": 41
    }
   ],
   "source": [
    "get_columns(a)\n",
    "#[array([5, 7, 2, 8]), array([0, 9, 4, 8]), array([3, 3, 7, 1]), array([3, 5, 6, 6])]"
   ]
  },
  {
   "cell_type": "code",
   "execution_count": 42,
   "metadata": {},
   "outputs": [
    {
     "output_type": "stream",
     "name": "stdout",
     "text": [
      "a has shape (2,): [0 1]\nb has shape (3,): [2 3 4]\n"
     ]
    },
    {
     "output_type": "execute_result",
     "data": {
      "text/plain": [
       "array([0, 1, 2, 3, 4])"
      ]
     },
     "metadata": {},
     "execution_count": 42
    }
   ],
   "source": [
    "## array concatenation, splitting and stacking\n",
    "a=np.arange(2)\n",
    "b=np.arange(2,5)\n",
    "print(f\"a has shape {a.shape}: {a}\")\n",
    "print(f\"b has shape {b.shape}: {b}\")\n",
    "np.concatenate((a,b))  # concatenating 1d arrays"
   ]
  },
  {
   "cell_type": "code",
   "execution_count": 43,
   "metadata": {},
   "outputs": [
    {
     "output_type": "stream",
     "name": "stdout",
     "text": [
      "c has shape (2, 2):\n[[1 2]\n [3 4]]\n"
     ]
    },
    {
     "output_type": "execute_result",
     "data": {
      "text/plain": [
       "array([[1, 2],\n",
       "       [3, 4],\n",
       "       [1, 2],\n",
       "       [3, 4]])"
      ]
     },
     "metadata": {},
     "execution_count": 43
    }
   ],
   "source": [
    "c=np.arange(1,5).reshape(2,2)\n",
    "print(f\"c has shape {c.shape}:\", c, sep=\"\\n\")\n",
    "np.concatenate((c,c))   # concatenating 2d arrays"
   ]
  },
  {
   "cell_type": "code",
   "execution_count": 44,
   "metadata": {},
   "outputs": [
    {
     "output_type": "execute_result",
     "data": {
      "text/plain": [
       "array([[1, 2, 1, 2],\n",
       "       [3, 4, 3, 4]])"
      ]
     },
     "metadata": {},
     "execution_count": 44
    }
   ],
   "source": [
    "np.concatenate((c,c), axis=1)"
   ]
  },
  {
   "cell_type": "code",
   "execution_count": 45,
   "metadata": {},
   "outputs": [
    {
     "output_type": "stream",
     "name": "stdout",
     "text": [
      "New row:\n[[1 2]\n [3 4]\n [0 1]]\nNew column:\n[[1 2 0]\n [3 4 1]]\n"
     ]
    }
   ],
   "source": [
    "\"\"\"for concatenating a column to na existing array, first you'll need to reshape it \"\"\"\n",
    "print(\"New row:\")\n",
    "print(np.concatenate((c,a.reshape(1,2))))\n",
    "print(\"New column:\")\n",
    "print(np.concatenate((c,a.reshape(2,1)), axis=1))"
   ]
  },
  {
   "cell_type": "code",
   "execution_count": 46,
   "metadata": {},
   "outputs": [
    {
     "output_type": "execute_result",
     "data": {
      "text/plain": [
       "array([[2, 3, 4],\n",
       "       [2, 3, 4]])"
      ]
     },
     "metadata": {},
     "execution_count": 46
    }
   ],
   "source": [
    "\"\"\"use stack to create higher dimensional arrays from lower dimensional arrays\"\"\"\n",
    "np.stack((b,b))"
   ]
  },
  {
   "cell_type": "code",
   "execution_count": 47,
   "metadata": {},
   "outputs": [
    {
     "output_type": "execute_result",
     "data": {
      "text/plain": [
       "array([[2, 2],\n",
       "       [3, 3],\n",
       "       [4, 4]])"
      ]
     },
     "metadata": {},
     "execution_count": 47
    }
   ],
   "source": [
    "np.stack((b,b), axis=1) #stack as columns"
   ]
  },
  {
   "cell_type": "code",
   "execution_count": 48,
   "metadata": {},
   "outputs": [
    {
     "output_type": "stream",
     "name": "stdout",
     "text": [
      "d:\n[[ 0  1]\n [ 2  3]\n [ 4  5]\n [ 6  7]\n [ 8  9]\n [10 11]]\nd1:\n[[0 1]\n [2 3]\n [4 5]]\nd2:\n[[ 6  7]\n [ 8  9]\n [10 11]]\n"
     ]
    }
   ],
   "source": [
    "\"\"\"the inverse fo concatenate is split\"\"\"\n",
    "d=np.arange(12).reshape(6,2)\n",
    "print(\"d:\")\n",
    "print(d)\n",
    "d1,d2 = np.split(d, 2)\n",
    "print(\"d1:\")\n",
    "print(d1)\n",
    "print(\"d2:\")\n",
    "print(d2)"
   ]
  },
  {
   "cell_type": "code",
   "execution_count": 49,
   "metadata": {},
   "outputs": [
    {
     "output_type": "stream",
     "name": "stdout",
     "text": [
      "d:\n[[ 0  1  2  3  4  5]\n [ 6  7  8  9 10 11]]\npart 0:\n[[0 1]\n [6 7]]\npart 1:\n[[2]\n [8]]\npart 2:\n[[ 3  4]\n [ 9 10]]\npart 3:\n[[ 5]\n [11]]\n"
     ]
    }
   ],
   "source": [
    "d=np.arange(12).reshape(2,6)\n",
    "print(\"d:\")\n",
    "print(d)\n",
    "parts=np.split(d, (2,3,5), axis=1)\n",
    "for i, p in enumerate(parts):\n",
    "    print(\"part %i:\" % i)\n",
    "    print(p)"
   ]
  },
  {
   "cell_type": "code",
   "execution_count": 50,
   "metadata": {},
   "outputs": [],
   "source": [
    "## exercise 12"
   ]
  },
  {
   "cell_type": "code",
   "execution_count": 51,
   "metadata": {},
   "outputs": [],
   "source": [
    "def get_row_vectors(a):\n",
    "    rows = []\n",
    "    for row in a:\n",
    "        #a = array[i]\n",
    "        rows.append(row)\n",
    "    rows_t = tuple(rows)\n",
    "    return rows\n",
    "def get_column_vectors(a):\n",
    "    columns = []\n",
    "    b = a.T\n",
    "    for column in b:\n",
    "        #a = array[i]\n",
    "        columns.append(column)\n",
    "    columns_t = tuple(columns)\n",
    "    return columns"
   ]
  },
  {
   "cell_type": "code",
   "execution_count": 52,
   "metadata": {},
   "outputs": [],
   "source": [
    "def get_row_vectors(a):\n",
    "    b = a.shape[0]\n",
    "    c= np.split(a, b, axis =0)    \n",
    "    return c\n",
    "def get_column_vectors(a):\n",
    "    b = a.shape[1]\n",
    "    c= np.split(a, b, axis = 1)    \n",
    "    return c"
   ]
  },
  {
   "cell_type": "code",
   "execution_count": 53,
   "metadata": {},
   "outputs": [
    {
     "output_type": "stream",
     "name": "stdout",
     "text": [
      "a: [[5 0 3 3]\n [7 9 3 5]\n [2 4 7 6]\n [8 8 1 6]]\nRow vectors: [array([[5, 0, 3, 3]]), array([[7, 9, 3, 5]]), array([[2, 4, 7, 6]]), array([[8, 8, 1, 6]])]\nColumn vectors: [array([[5],\n       [7],\n       [2],\n       [8]]), array([[0],\n       [9],\n       [4],\n       [8]]), array([[3],\n       [3],\n       [7],\n       [1]]), array([[3],\n       [5],\n       [6],\n       [6]])]\n"
     ]
    }
   ],
   "source": [
    "np.random.seed(0)\n",
    "a=np.random.randint(0,10, (4,4))\n",
    "print(\"a:\", a)\n",
    "print(\"Row vectors:\", get_row_vectors(a))\n",
    "print(\"Column vectors:\", get_column_vectors(a))"
   ]
  },
  {
   "cell_type": "code",
   "execution_count": 54,
   "metadata": {},
   "outputs": [],
   "source": [
    "a = np.array([[5, 0, 3], [3, 7, 9]])"
   ]
  },
  {
   "cell_type": "code",
   "execution_count": 55,
   "metadata": {},
   "outputs": [
    {
     "output_type": "execute_result",
     "data": {
      "text/plain": [
       "[array([[5, 0, 3]]), array([[3, 7, 9]])]"
      ]
     },
     "metadata": {},
     "execution_count": 55
    }
   ],
   "source": [
    "get_row_vectors(a)\n",
    "#Row vectors:\n",
    "#[array([[5, 0, 3]]), array([[3, 7, 9]])]\n"
   ]
  },
  {
   "cell_type": "code",
   "execution_count": 56,
   "metadata": {},
   "outputs": [
    {
     "output_type": "execute_result",
     "data": {
      "text/plain": [
       "[array([[5],\n",
       "        [3]]),\n",
       " array([[0],\n",
       "        [7]]),\n",
       " array([[3],\n",
       "        [9]])]"
      ]
     },
     "metadata": {},
     "execution_count": 56
    }
   ],
   "source": [
    "get_column_vectors(a)\n",
    "#Column vectors:\n",
    "#[array([[5],[3]]),\n",
    " #array([[0], [7]]),\n",
    " #array([[3],[9]])]"
   ]
  },
  {
   "cell_type": "code",
   "execution_count": 57,
   "metadata": {},
   "outputs": [],
   "source": [
    "##exercise 13\n",
    "#Do this using the eye and concatenate functions of NumPy and array slicing.\n",
    "import numpy as np"
   ]
  },
  {
   "cell_type": "code",
   "execution_count": 58,
   "metadata": {},
   "outputs": [],
   "source": [
    "def diamond(number):\n",
    "    #base array\n",
    "    if number != 1:\n",
    "        a = np.eye(number, dtype=int)\n",
    "        b = a.T\n",
    "        c = a[::-1][:,:-1]\n",
    "        d = b[::-1][:,1-a.shape[0]:]\n",
    "        concat01 = np.concatenate((c,a), axis = 1)\n",
    "        concat02 = np.concatenate((b,d), axis = 1)[1:,:]\n",
    "        concat = np.concatenate((concat01, concat02))\n",
    "    elif number == 1:\n",
    "        concat = np.eye(number, dtype=int)\n",
    "    return concat"
   ]
  },
  {
   "cell_type": "code",
   "execution_count": 59,
   "metadata": {},
   "outputs": [
    {
     "output_type": "stream",
     "name": "stdout",
     "text": [
      "[[0 0 0 0 1 0 0 0 0]\n [0 0 0 1 0 1 0 0 0]\n [0 0 1 0 0 0 1 0 0]\n [0 1 0 0 0 0 0 1 0]\n [1 0 0 0 0 0 0 0 1]\n [0 1 0 0 0 0 0 1 0]\n [0 0 1 0 0 0 1 0 0]\n [0 0 0 1 0 1 0 0 0]\n [0 0 0 0 1 0 0 0 0]]\n"
     ]
    }
   ],
   "source": [
    "print(diamond(5))\n",
    "#[[0 0 1 0 0]\n",
    "#[0 1 0 1 0]\n",
    "#[1 0 0 0 1]\n",
    "#[0 1 0 1 0]\n",
    "#[0 0 1 0 0]]\n"
   ]
  },
  {
   "cell_type": "code",
   "execution_count": 60,
   "metadata": {},
   "outputs": [
    {
     "output_type": "execute_result",
     "data": {
      "text/plain": [
       "array([[0, 1, 0],\n",
       "       [1, 0, 1],\n",
       "       [0, 1, 0]])"
      ]
     },
     "metadata": {},
     "execution_count": 60
    }
   ],
   "source": [
    "#cuadra para 2\n",
    "a = np.eye(2, dtype=int)\n",
    "b = a.T\n",
    "c = a[::-1][:,:-1]\n",
    "d = b[::-1][:,1-a.shape[0]:]\n",
    "concat01 = np.concatenate((c,a), axis = 1)\n",
    "concat02 = np.concatenate((b,d), axis = 1)[1:,:]\n",
    "concat = np.concatenate((concat01, concat02))\n",
    "concat"
   ]
  },
  {
   "cell_type": "code",
   "execution_count": 61,
   "metadata": {},
   "outputs": [
    {
     "output_type": "execute_result",
     "data": {
      "text/plain": [
       "array([[0, 0, 1, 0, 0],\n",
       "       [0, 1, 0, 1, 0],\n",
       "       [1, 0, 0, 0, 1],\n",
       "       [0, 1, 0, 1, 0],\n",
       "       [0, 0, 1, 0, 0]])"
      ]
     },
     "metadata": {},
     "execution_count": 61
    }
   ],
   "source": [
    "a = np.eye(3, dtype=int)\n",
    "b = a.T\n",
    "c = a[::-1][:,:-1]\n",
    "d = b[::-1][:,1-a.shape[0]:]\n",
    "concat01 = np.concatenate((c,a), axis = 1)\n",
    "concat02 = np.concatenate((b,d), axis = 1)[1:,:]\n",
    "concat = np.concatenate((concat01, concat02))\n",
    "concat"
   ]
  },
  {
   "cell_type": "code",
   "execution_count": 62,
   "metadata": {},
   "outputs": [
    {
     "output_type": "stream",
     "name": "stdout",
     "text": [
      "[2, 10.4, 'abab']\n"
     ]
    }
   ],
   "source": [
    "##Fast computation using interval functions\n",
    "L=[1, 5.2, \"ab\"]\n",
    "L2=[]\n",
    "for x in L:\n",
    "    L2.append(x*2)\n",
    "print(L2)"
   ]
  },
  {
   "cell_type": "code",
   "execution_count": 63,
   "metadata": {},
   "outputs": [
    {
     "output_type": "stream",
     "name": "stdout",
     "text": [
      "[ 4.2 10.  34.4]\n"
     ]
    }
   ],
   "source": [
    "a=np.array([2.1, 5.0, 17.2])\n",
    "a2=a*2\n",
    "print(a2)"
   ]
  },
  {
   "cell_type": "code",
   "execution_count": 64,
   "metadata": {},
   "outputs": [
    {
     "output_type": "stream",
     "name": "stdout",
     "text": [
      "[   4.41   -80.    -710.016]\n"
     ]
    }
   ],
   "source": [
    "b=np.array([-1, 3.2, 2.4])\n",
    "print(-a**2 * b)"
   ]
  },
  {
   "cell_type": "code",
   "execution_count": 65,
   "metadata": {},
   "outputs": [
    {
     "output_type": "stream",
     "name": "stdout",
     "text": [
      "[1.  3.2 2.4]\n[ 0.54030231 -0.99829478 -0.73739372]\n[ 0.36787944 24.5325302  11.02317638]\n[0.         1.67807191 1.26303441]\n"
     ]
    }
   ],
   "source": [
    "print(np.abs(b))\n",
    "print(np.cos(b))\n",
    "print(np.exp(b))\n",
    "print(np.log2(np.abs(b)))"
   ]
  },
  {
   "cell_type": "code",
   "execution_count": 66,
   "metadata": {},
   "outputs": [
    {
     "output_type": "stream",
     "name": "stdout",
     "text": [
      "[[ 72 -53  17  92 -33]\n [ 95   3 -91 -79 -64]\n [-13 -30 -12  40 -42]\n [ 93 -61 -13  74 -12]]\nMinimum: -91, maximum: 95\nSum: -17\nMean: -0.85, standard deviation: 58.39886557117355\n"
     ]
    }
   ],
   "source": [
    "#aggregations: maxi, min, sum, mean, standard deviation...\n",
    "np.random.seed(0)\n",
    "a=np.random.randint(-100, 100, (4,5))\n",
    "print(a)\n",
    "print(f\"Minimum: {a.min()}, maximum: {a.max()}\")\n",
    "print(f\"Sum: {a.sum()}\")\n",
    "print(f\"Mean: {a.mean()}, standard deviation: {a.std()}\")"
   ]
  },
  {
   "cell_type": "code",
   "execution_count": 67,
   "metadata": {},
   "outputs": [
    {
     "output_type": "stream",
     "name": "stdout",
     "text": [
      "[[5 6 8 6]\n [1 6 4 8]\n [1 8 5 1]]\nColumn sums: [ 7 20 17 15]\nRow sums: [25 19 15]\n"
     ]
    }
   ],
   "source": [
    "np.random.seed(9)\n",
    "b=np.random.randint(0, 10, (3,4))\n",
    "print(b)\n",
    "print(\"Column sums:\", b.sum(axis=0))\n",
    "print(\"Row sums:\", b.sum(axis=1))"
   ]
  },
  {
   "cell_type": "code",
   "execution_count": 68,
   "metadata": {},
   "outputs": [
    {
     "output_type": "stream",
     "name": "stdout",
     "text": [
      "3.85 µs ± 163 ns per loop (mean ± std. dev. of 7 runs, 100000 loops each)\n"
     ]
    }
   ],
   "source": [
    "a=np.arange(1000)\n",
    "%timeit np.sum(a)"
   ]
  },
  {
   "cell_type": "code",
   "execution_count": 69,
   "metadata": {},
   "outputs": [
    {
     "output_type": "stream",
     "name": "stdout",
     "text": [
      "68.2 µs ± 1.21 µs per loop (mean ± std. dev. of 7 runs, 10000 loops each)\n"
     ]
    }
   ],
   "source": [
    "%timeit sum(a)"
   ]
  },
  {
   "cell_type": "code",
   "execution_count": 70,
   "metadata": {},
   "outputs": [],
   "source": [
    "##exercise 14"
   ]
  },
  {
   "cell_type": "code",
   "execution_count": 71,
   "metadata": {},
   "outputs": [],
   "source": [
    "def vector_lengths(a):\n",
    "    number = a.shape[0]\n",
    "    squared = np.square(a)    \n",
    "    added = squared.sum(axis=1)\n",
    "    length = np.sqrt(added)\n",
    "    reshaped_length = length.reshape(number,)\n",
    "    return reshaped_length"
   ]
  },
  {
   "cell_type": "code",
   "execution_count": 72,
   "metadata": {},
   "outputs": [
    {
     "output_type": "execute_result",
     "data": {
      "text/plain": [
       "array([12.68857754, 10.81665383,  9.53939201])"
      ]
     },
     "metadata": {},
     "execution_count": 72
    }
   ],
   "source": [
    "np.random.seed(9)\n",
    "b = np.random.randint(0, 10, (3,4))\n",
    "vector_lengths(b)"
   ]
  },
  {
   "cell_type": "code",
   "execution_count": 73,
   "metadata": {},
   "outputs": [],
   "source": [
    "##exercise 15\n",
    "#result in degrees, not radiants\n",
    "import numpy as np \n",
    "import scipy.linalg"
   ]
  },
  {
   "cell_type": "code",
   "execution_count": 74,
   "metadata": {},
   "outputs": [],
   "source": [
    "def vector_angles(a,b):\n",
    "    x = scipy.linalg.norm(a, 2, axis = 1)\n",
    "    y = scipy.linalg.norm(b, 2, axis = 1)\n",
    "    angle = np.arccos( np.clip( (np.dot(a,b) / (x * y)), -1, 1 ) )\n",
    "    degrees = np.degrees(angle)\n",
    "    return degrees"
   ]
  },
  {
   "cell_type": "code",
   "execution_count": 75,
   "metadata": {},
   "outputs": [],
   "source": [
    "def vector_angles(a,b):\n",
    "    x = np.sqrt(np.sum(np.square(a),axis=1))\n",
    "    y = np.sqrt(np.sum(np.square(b),axis=1))\n",
    "    tmp = np.sum(a * b,axis=1) / (x * y)\n",
    "    angle = np.arccos( np.clip( tmp, -1.0, 1.0 ) )\n",
    "    degrees = np.degrees(angle)\n",
    "    return degrees"
   ]
  },
  {
   "cell_type": "code",
   "execution_count": 76,
   "metadata": {},
   "outputs": [
    {
     "output_type": "execute_result",
     "data": {
      "text/plain": [
       "array([36.61616347, 27.65948589, 40.25390571])"
      ]
     },
     "metadata": {},
     "execution_count": 76
    }
   ],
   "source": [
    "np.random.seed(4)\n",
    "a = np.random.randint(0, 10, (3,3))\n",
    "b = np.random.randint(0, 10, (3,3))\n",
    "vector_angles(a,b)"
   ]
  },
  {
   "cell_type": "code",
   "execution_count": 77,
   "metadata": {},
   "outputs": [],
   "source": [
    "## model solution\n",
    "def vector_angles(X, Y):\n",
    "    ip = np.sum(X*Y, axis=1)\n",
    "    Xlen = scipy.linalg.norm(X, 2, axis=1)\n",
    "    Ylen = scipy.linalg.norm(Y, 2, axis=1)\n",
    "    temp=ip/(Xlen*Ylen)\n",
    "    temp = np.clip(temp, -1.0, 1.0)\n",
    "    result =  np.arccos(temp) / np.pi * 180\n",
    "    return result"
   ]
  },
  {
   "cell_type": "code",
   "execution_count": 78,
   "metadata": {},
   "outputs": [
    {
     "output_type": "execute_result",
     "data": {
      "text/plain": [
       "array([4, 5, 6])"
      ]
     },
     "metadata": {},
     "execution_count": 78
    }
   ],
   "source": [
    "## broadcasting\n",
    "np.arange(3) + np.array([4])"
   ]
  },
  {
   "cell_type": "code",
   "execution_count": 79,
   "metadata": {},
   "outputs": [
    {
     "output_type": "execute_result",
     "data": {
      "text/plain": [
       "array([4, 5, 6])"
      ]
     },
     "metadata": {},
     "execution_count": 79
    }
   ],
   "source": [
    "np.arange(3) + 4"
   ]
  },
  {
   "cell_type": "code",
   "execution_count": 80,
   "metadata": {},
   "outputs": [
    {
     "output_type": "stream",
     "name": "stdout",
     "text": [
      "a:\n[[5 5 5]\n [5 5 5]\n [5 5 5]]\nb: [0 1 2]\na+b:\n[[5 6 7]\n [5 6 7]\n [5 6 7]]\n"
     ]
    }
   ],
   "source": [
    "a=np.full((3,3), 5)\n",
    "b=np.arange(3)\n",
    "print(\"a:\", a, sep=\"\\n\")\n",
    "print(\"b:\", b)\n",
    "print(\"a+b:\", a+b, sep=\"\\n\")\n",
    "##boradcasted to the array np.array([[0, 1, 2],\n",
    "       #[0, 1, 2],\n",
    "       #[0, 1, 2]])"
   ]
  },
  {
   "cell_type": "code",
   "execution_count": 86,
   "metadata": {},
   "outputs": [
    {
     "output_type": "stream",
     "name": "stdout",
     "text": [
      "a has dim 1, shape (3,), size 3 and dtype int32:\n[0 1 2]\nb has dim 2, shape (3, 1), size 3 and dtype int32:\n[[0]\n [1]\n [2]]\na+b has dim 2, shape (3, 3), size 9 and dtype int32:\n[[0 1 2]\n [1 2 3]\n [2 3 4]]\n"
     ]
    }
   ],
   "source": [
    "a=np.arange(3)\n",
    "b=np.arange(3).reshape((3,1))\n",
    "info(\"a\", a)\n",
    "info(\"b\", b)\n",
    "info(\"a+b\", a+b)"
   ]
  },
  {
   "cell_type": "code",
   "execution_count": 85,
   "metadata": {},
   "outputs": [
    {
     "output_type": "stream",
     "name": "stdout",
     "text": [
      "broadcasted_a has dim 2, shape (3, 3), size 9 and dtype int32:\n[[0 1 2]\n [0 1 2]\n [0 1 2]]\nbroadcasted_b has dim 2, shape (3, 3), size 9 and dtype int32:\n[[0 0 0]\n [1 1 1]\n [2 2 2]]\n"
     ]
    }
   ],
   "source": [
    "broadcasted_a, broadcasted_b = np.broadcast_arrays(a,b)\n",
    "info(\"broadcasted_a\", broadcasted_a)\n",
    "info(\"broadcasted_b\", broadcasted_b)"
   ]
  },
  {
   "cell_type": "code",
   "execution_count": 87,
   "metadata": {},
   "outputs": [
    {
     "output_type": "stream",
     "name": "stderr",
     "text": [
      "operands could not be broadcast together with shapes (3,) (2,) \n"
     ]
    }
   ],
   "source": [
    "a=np.array([1,2,3])\n",
    "b=np.array([4,5])\n",
    "try:\n",
    "    a+b                 # This does not work since it violates the rule 3 above.\n",
    "except ValueError as e:\n",
    "    import sys\n",
    "    print(e, file=sys.stderr)"
   ]
  },
  {
   "source": [
    "## exercise 16"
   ],
   "cell_type": "markdown",
   "metadata": {}
  },
  {
   "cell_type": "code",
   "execution_count": 113,
   "metadata": {},
   "outputs": [],
   "source": [
    "def multiplication_table(number):\n",
    "    a = np.arange(number)[np.newaxis]\n",
    "    b = a.transpose()\n",
    "    result = a*b\n",
    "    return result"
   ]
  },
  {
   "source": [
    "print(multiplication_table(5))\n",
    "#[[0 0 0 0]\n",
    "# [0 1 2 3]\n",
    "# [0 2 4 6]\n",
    "# [0 3 6 9]]"
   ],
   "cell_type": "code",
   "metadata": {},
   "execution_count": null,
   "outputs": []
  }
 ]
}