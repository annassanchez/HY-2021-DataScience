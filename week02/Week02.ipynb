{
 "metadata": {
  "language_info": {
   "codemirror_mode": {
    "name": "ipython",
    "version": 3
   },
   "file_extension": ".py",
   "mimetype": "text/x-python",
   "name": "python",
   "nbconvert_exporter": "python",
   "pygments_lexer": "ipython3",
   "version": "3.8.10"
  },
  "orig_nbformat": 4,
  "kernelspec": {
   "name": "python3",
   "display_name": "Python 3.8.10 64-bit ('PythonSoftwareFoundation.Python.3.8_qbz5n2kfra8p0')"
  },
  "interpreter": {
   "hash": "c922267cf9738049752e47665bd68ffa7b527461843a9af3b33df15d3fc83804"
  }
 },
 "nbformat": 4,
 "nbformat_minor": 2,
 "cells": [
  {
   "cell_type": "code",
   "execution_count": null,
   "metadata": {},
   "outputs": [],
   "source": [
    "#Python continues\n",
    "##Regular expression\n",
    "###Examples"
   ]
  },
  {
   "cell_type": "code",
   "execution_count": 6,
   "metadata": {},
   "outputs": [
    {
     "output_type": "execute_result",
     "data": {
      "text/plain": [
       "<re.Match object; span=(0, 5), match='Apple'>"
      ]
     },
     "metadata": {},
     "execution_count": 6
    }
   ],
   "source": [
    "a = \"Apple\"\n",
    "import re\n",
    "re.match(r\"[Aa]pple\", a)"
   ]
  },
  {
   "cell_type": "code",
   "execution_count": 7,
   "metadata": {},
   "outputs": [],
   "source": [
    "###Match and search functions"
   ]
  },
  {
   "cell_type": "code",
   "execution_count": 8,
   "metadata": {},
   "outputs": [
    {
     "output_type": "execute_result",
     "data": {
      "text/plain": [
       "['Doing', 'going', 'staying', 'sleeping']"
      ]
     },
     "metadata": {},
     "execution_count": 8
    }
   ],
   "source": [
    "import re\n",
    "s = \"Doing things, going home, staying awale, sleeping later\" \n",
    "re.findall(r'\\w+ing\\b',s)"
   ]
  },
  {
   "cell_type": "code",
   "execution_count": 9,
   "metadata": {},
   "outputs": [
    {
     "output_type": "execute_result",
     "data": {
      "text/plain": [
       "['23', '-24', '-1']"
      ]
     },
     "metadata": {},
     "execution_count": 9
    }
   ],
   "source": [
    "re.findall(r'[+-]?\\d+', \"23 +-24 = -1\")"
   ]
  },
  {
   "cell_type": "code",
   "execution_count": 10,
   "metadata": {},
   "outputs": [
    {
     "output_type": "execute_result",
     "data": {
      "text/plain": [
       "['I’m not in a hurry, then I should stay. On the other hand, if I leave']"
      ]
     },
     "metadata": {},
     "execution_count": 10
    }
   ],
   "source": [
    "\n",
    "s = (\"If I’m not in a hurry, then I should stay. \" +\n",
    "    \"On the other hand, if I leave, then I can sleep.\")\n",
    "re.findall(r'[Ii]f (.*), then', s)"
   ]
  },
  {
   "cell_type": "code",
   "execution_count": 33,
   "metadata": {},
   "outputs": [
    {
     "output_type": "stream",
     "name": "stdout",
     "text": [
      "He (Putin) is the president of Russia.\nHe’s a powerful man.\n"
     ]
    }
   ],
   "source": [
    "import re\n",
    "str = \"\"\"He is the president of Russia.\n",
    "He’s a powerful man.\"\"\"\n",
    "newstr = re.sub(r'(\\b[Hh]e\\b)', r'\\1 (Putin)', str, 1)\n",
    "print (newstr)"
   ]
  },
  {
   "cell_type": "code",
   "execution_count": null,
   "metadata": {},
   "outputs": [],
   "source": [
    "##exercise01"
   ]
  },
  {
   "cell_type": "code",
   "execution_count": null,
   "metadata": {},
   "outputs": [],
   "source": [
    "'[+]?\\b\\d+' #66%"
   ]
  },
  {
   "cell_type": "code",
   "execution_count": 4,
   "metadata": {},
   "outputs": [],
   "source": [
    "import re \n",
    "def integers_in_brackets(s):\n",
    "    L = []\n",
    "    L = re.findall(r'[+-]\\b\\d+', s)\n",
    "    L = list(map(int, L))\n",
    "    return L"
   ]
  },
  {
   "cell_type": "code",
   "execution_count": 126,
   "metadata": {},
   "outputs": [],
   "source": [
    "def integers_in_brackets(s):\n",
    "    aux = []\n",
    "    for l in re.findall(r'\\[\\s*[+-]?\\b\\d+\\b\\s*\\]',s):\n",
    "        for x in re.findall(r'[+-]?\\b\\d+\\b',l):\n",
    "            aux.append(int(x))\n",
    "    return aux"
   ]
  },
  {
   "cell_type": "code",
   "execution_count": 127,
   "metadata": {},
   "outputs": [
    {
     "output_type": "execute_result",
     "data": {
      "text/plain": [
       "[12, -43, 12]"
      ]
     },
     "metadata": {},
     "execution_count": 127
    }
   ],
   "source": [
    "integers_in_brackets(\"  afd [asd] [12 ] [a34]  [ -43 ]tt [+12]xxx\")\n",
    "#[12, -43, 12]"
   ]
  },
  {
   "cell_type": "code",
   "execution_count": 129,
   "metadata": {},
   "outputs": [
    {
     "output_type": "execute_result",
     "data": {
      "text/plain": [
       "[47, 12]"
      ]
     },
     "metadata": {},
     "execution_count": 129
    }
   ],
   "source": [
    "integers_in_brackets(\"afd [128+] [47 ] [a34]  [ +-43 ]tt [+12]xxx!\")\n",
    "# [47, 12]"
   ]
  },
  {
   "cell_type": "code",
   "execution_count": 128,
   "metadata": {},
   "outputs": [
    {
     "output_type": "execute_result",
     "data": {
      "text/plain": [
       "['afd', '128', '47', 'a34', '43', 'tt', '12', 'xxx']"
      ]
     },
     "metadata": {},
     "execution_count": 128
    }
   ],
   "source": [
    "s = \"afd [128+] [47 ] [a34]  [ +-43 ]tt [+12]xxx!\"\n",
    "re.findall(r\"\\b\\w+\",s)"
   ]
  },
  {
   "cell_type": "code",
   "execution_count": null,
   "metadata": {},
   "outputs": [],
   "source": [
    "##exercise 02"
   ]
  },
  {
   "cell_type": "code",
   "execution_count": 74,
   "metadata": {},
   "outputs": [],
   "source": [
    "def file_listing(filename):\n",
    "    text = open(filename, mode='r')\n",
    "    L = []\n",
    "    for i in text:\n",
    "        line = text.readline()\n",
    "        line = re.findall(r'\\b\\S+', line)\n",
    "        #line = re.search(r'.{30}\\s+(\\d+)\\s(\\S+)\\s(..)\\s(\\d+):(\\d+)\\s(.*)', text)\n",
    "        line = tuple(line)\n",
    "        L.append(line)\n",
    "        #for line in re.finditer(L, text)\n",
    "    return L"
   ]
  },
  {
   "cell_type": "code",
   "execution_count": 102,
   "metadata": {},
   "outputs": [],
   "source": [
    "def file_listing(filename):\n",
    "    tulos = []\n",
    "    with open(filename, \"r\") as f:\n",
    "        for x in range(47):\n",
    "            tmp = []\n",
    "            line = f.readline()\n",
    "            mo = re.search(r'.{30}\\s+(\\d+)\\s(\\S+)\\s(..)\\s(\\d+):(\\d+)\\s(.*)', line)\n",
    "            for i in range(1, 7):\n",
    "                try:\n",
    "                    tmp.append(int(mo.group(i)))\n",
    "                except ValueError:\n",
    "                    tmp.append(mo.group(i))\n",
    "                tupla = tuple(tmp)\n",
    "            tulos.append(tupla)\n",
    "    return tulos"
   ]
  },
  {
   "cell_type": "code",
   "execution_count": 103,
   "metadata": {},
   "outputs": [
    {
     "output_type": "execute_result",
     "data": {
      "text/plain": [
       "[(2356, 'Dec', 11, 11, 50, 'add_colab_link.py'),\n",
       " (164519, 'Dec', 28, 17, 59, 'basics.ipynb'),\n",
       " (164477, 'Nov', 5, 19, 21, 'basics.ipynb.orig'),\n",
       " (115587, 'Dec', 11, 11, 50, 'bayes.ipynb'),\n",
       " (4096, 'Nov', 29, 13, 7, '_build'),\n",
       " (198820, 'Dec', 11, 11, 50, 'clustering.ipynb'),\n",
       " (6647, 'Dec', 11, 12, 20, 'conf.py'),\n",
       " (41828, 'Nov', 28, 13, 26, 'example_figure2.png'),\n",
       " (125079, 'Nov', 28, 13, 26, 'example_figure2.xcf'),\n",
       " (24139, 'Nov', 28, 12, 3, 'example_figure.png'),\n",
       " (650, 'Nov', 28, 12, 3, 'example_figure.py'),\n",
       " (25399, 'Nov', 2, 21, 25, 'exception_hierarchy.pdf'),\n",
       " (43632, 'Nov', 2, 22, 5, 'exception_hierarchy.png'),\n",
       " (24366, 'Nov', 2, 21, 26, 'exception_hierarchy.svg'),\n",
       " (72095, 'Oct', 3, 17, 36, 'extra.ipynb'),\n",
       " (1207075, 'Nov', 28, 16, 2, 'face.png'),\n",
       " (897, 'Nov', 12, 10, 59, 'generate_contents.py'),\n",
       " (4096, 'Dec', 27, 13, 55, '.git'),\n",
       " (19, 'Dec', 10, 10, 24, '.gitignore'),\n",
       " (890349, 'Dec', 11, 11, 50, 'image_processing.ipynb'),\n",
       " (689, 'Dec', 10, 10, 28, 'index.rst'),\n",
       " (5254, 'Nov', 3, 18, 46, 'inheritance_hierarchy.pdf'),\n",
       " (7271, 'Nov', 3, 18, 46, 'inheritance_hierarchy.svg'),\n",
       " (4091, 'Dec', 11, 11, 50, 'instructions.ipynb'),\n",
       " (4096, 'Nov', 30, 14, 13, '.ipynb_checkpoints'),\n",
       " (54011, 'Dec', 11, 11, 50, 'linear_regression.ipynb'),\n",
       " (620, 'Nov', 1, 11, 44, 'Makefile'),\n",
       " (52191, 'Dec', 11, 11, 50, 'matplotlib.ipynb'),\n",
       " (1920, 'Nov', 30, 11, 37, 'notes.ipynb'),\n",
       " (82564, 'Dec', 11, 11, 50, 'numpy.ipynb'),\n",
       " (10201, 'Nov', 3, 16, 36, 'package.pdf'),\n",
       " (5742, 'Nov', 3, 16, 37, 'package.svg'),\n",
       " (913641, 'Nov', 26, 10, 58, 'painting.png'),\n",
       " (348531, 'Dec', 28, 13, 40, 'pandas.ipynb'),\n",
       " (100697, 'Dec', 11, 11, 50, 'pca.ipynb'),\n",
       " (32451, 'Oct', 5, 19, 21, 'Python-basic-elements.ipynb'),\n",
       " (82, 'Nov', 13, 12, 55, 'requirements.txt'),\n",
       " (81, 'Nov', 13, 12, 44, 'requirements.txt.old'),\n",
       " (2836, 'Nov', 12, 10, 58, 'sisallys.ipynb'),\n",
       " (128194, 'Nov', 23, 12, 58, 'testing.ipynb'),\n",
       " (691, 'Nov', 29, 16, 27, '.travis.yml'),\n",
       " (973, 'Oct', 31, 14, 1, 'typing1.fig'),\n",
       " (3747, 'Oct', 31, 14, 1, 'typing1.svg'),\n",
       " (1093, 'Oct', 31, 14, 1, 'typing2.fig'),\n",
       " (4053, 'Oct', 31, 14, 2, 'typing2.svg'),\n",
       " (12220, 'Oct', 31, 14, 7, 'typing.svg'),\n",
       " (766, 'Oct', 25, 12, 10, 'versions.py')]"
      ]
     },
     "metadata": {},
     "execution_count": 103
    }
   ],
   "source": [
    "file_listing('listing.txt')\n",
    "#(25339, \"Nov\", 2, 21, 25, \"exception_hierarchy.pdf\")"
   ]
  },
  {
   "cell_type": "code",
   "execution_count": null,
   "metadata": {},
   "outputs": [],
   "source": []
  }
 ]
}