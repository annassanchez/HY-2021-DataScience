{
 "metadata": {
  "language_info": {
   "codemirror_mode": {
    "name": "ipython",
    "version": 3
   },
   "file_extension": ".py",
   "mimetype": "text/x-python",
   "name": "python",
   "nbconvert_exporter": "python",
   "pygments_lexer": "ipython3",
   "version": "3.8.10"
  },
  "orig_nbformat": 4,
  "kernelspec": {
   "name": "python3",
   "display_name": "Python 3.8.10 64-bit ('PythonSoftwareFoundation.Python.3.8_qbz5n2kfra8p0')"
  },
  "interpreter": {
   "hash": "c922267cf9738049752e47665bd68ffa7b527461843a9af3b33df15d3fc83804"
  }
 },
 "nbformat": 4,
 "nbformat_minor": 2,
 "cells": [
  {
   "cell_type": "code",
   "execution_count": null,
   "metadata": {},
   "outputs": [],
   "source": [
    "#Python continues\n",
    "##Regular expression\n",
    "###Examples"
   ]
  },
  {
   "cell_type": "code",
   "execution_count": 6,
   "metadata": {},
   "outputs": [
    {
     "output_type": "execute_result",
     "data": {
      "text/plain": [
       "<re.Match object; span=(0, 5), match='Apple'>"
      ]
     },
     "metadata": {},
     "execution_count": 6
    }
   ],
   "source": [
    "a = \"Apple\"\n",
    "import re\n",
    "re.match(r\"[Aa]pple\", a)"
   ]
  },
  {
   "cell_type": "code",
   "execution_count": 7,
   "metadata": {},
   "outputs": [],
   "source": [
    "###Match and search functions"
   ]
  },
  {
   "cell_type": "code",
   "execution_count": 8,
   "metadata": {},
   "outputs": [
    {
     "output_type": "execute_result",
     "data": {
      "text/plain": [
       "['Doing', 'going', 'staying', 'sleeping']"
      ]
     },
     "metadata": {},
     "execution_count": 8
    }
   ],
   "source": [
    "import re\n",
    "s = \"Doing things, going home, staying awale, sleeping later\" \n",
    "re.findall(r'\\w+ing\\b',s)"
   ]
  },
  {
   "cell_type": "code",
   "execution_count": 9,
   "metadata": {},
   "outputs": [
    {
     "output_type": "execute_result",
     "data": {
      "text/plain": [
       "['23', '-24', '-1']"
      ]
     },
     "metadata": {},
     "execution_count": 9
    }
   ],
   "source": [
    "re.findall(r'[+-]?\\d+', \"23 +-24 = -1\")"
   ]
  },
  {
   "cell_type": "code",
   "execution_count": 10,
   "metadata": {},
   "outputs": [
    {
     "output_type": "execute_result",
     "data": {
      "text/plain": [
       "['I’m not in a hurry, then I should stay. On the other hand, if I leave']"
      ]
     },
     "metadata": {},
     "execution_count": 10
    }
   ],
   "source": [
    "\n",
    "s = (\"If I’m not in a hurry, then I should stay. \" +\n",
    "    \"On the other hand, if I leave, then I can sleep.\")\n",
    "re.findall(r'[Ii]f (.*), then', s)"
   ]
  },
  {
   "cell_type": "code",
   "execution_count": 33,
   "metadata": {},
   "outputs": [
    {
     "output_type": "stream",
     "name": "stdout",
     "text": [
      "He (Putin) is the president of Russia.\nHe’s a powerful man.\n"
     ]
    }
   ],
   "source": [
    "import re\n",
    "str = \"\"\"He is the president of Russia.\n",
    "He’s a powerful man.\"\"\"\n",
    "newstr = re.sub(r'(\\b[Hh]e\\b)', r'\\1 (Putin)', str, 1)\n",
    "print (newstr)"
   ]
  },
  {
   "cell_type": "code",
   "execution_count": null,
   "metadata": {},
   "outputs": [],
   "source": [
    "##exercise01"
   ]
  },
  {
   "cell_type": "code",
   "execution_count": null,
   "metadata": {},
   "outputs": [],
   "source": [
    "'[+]?\\b\\d+' #66%"
   ]
  },
  {
   "cell_type": "code",
   "execution_count": 4,
   "metadata": {},
   "outputs": [],
   "source": [
    "import re \n",
    "def integers_in_brackets(s):\n",
    "    L = []\n",
    "    L = re.findall(r'[+-]\\b\\d+', s)\n",
    "    L = list(map(int, L))\n",
    "    return L"
   ]
  },
  {
   "cell_type": "code",
   "execution_count": 126,
   "metadata": {},
   "outputs": [],
   "source": [
    "def integers_in_brackets(s):\n",
    "    aux = []\n",
    "    for l in re.findall(r'\\[\\s*[+-]?\\b\\d+\\b\\s*\\]',s):\n",
    "        for x in re.findall(r'[+-]?\\b\\d+\\b',l):\n",
    "            aux.append(int(x))\n",
    "    return aux"
   ]
  },
  {
   "cell_type": "code",
   "execution_count": 127,
   "metadata": {},
   "outputs": [
    {
     "output_type": "execute_result",
     "data": {
      "text/plain": [
       "[12, -43, 12]"
      ]
     },
     "metadata": {},
     "execution_count": 127
    }
   ],
   "source": [
    "integers_in_brackets(\"  afd [asd] [12 ] [a34]  [ -43 ]tt [+12]xxx\")\n",
    "#[12, -43, 12]"
   ]
  },
  {
   "cell_type": "code",
   "execution_count": 129,
   "metadata": {},
   "outputs": [
    {
     "output_type": "execute_result",
     "data": {
      "text/plain": [
       "[47, 12]"
      ]
     },
     "metadata": {},
     "execution_count": 129
    }
   ],
   "source": [
    "integers_in_brackets(\"afd [128+] [47 ] [a34]  [ +-43 ]tt [+12]xxx!\")\n",
    "# [47, 12]"
   ]
  },
  {
   "cell_type": "code",
   "execution_count": 128,
   "metadata": {},
   "outputs": [
    {
     "output_type": "execute_result",
     "data": {
      "text/plain": [
       "['afd', '128', '47', 'a34', '43', 'tt', '12', 'xxx']"
      ]
     },
     "metadata": {},
     "execution_count": 128
    }
   ],
   "source": [
    "s = \"afd [128+] [47 ] [a34]  [ +-43 ]tt [+12]xxx!\"\n",
    "re.findall(r\"\\b\\w+\",s)"
   ]
  },
  {
   "cell_type": "code",
   "execution_count": null,
   "metadata": {},
   "outputs": [],
   "source": [
    "##exercise 02"
   ]
  },
  {
   "cell_type": "code",
   "execution_count": 74,
   "metadata": {},
   "outputs": [],
   "source": [
    "def file_listing(filename):\n",
    "    text = open(filename, mode='r')\n",
    "    L = []\n",
    "    for i in text:\n",
    "        line = text.readline()\n",
    "        line = re.findall(r'\\b\\S+', line)\n",
    "        #line = re.search(r'.{30}\\s+(\\d+)\\s(\\S+)\\s(..)\\s(\\d+):(\\d+)\\s(.*)', text)\n",
    "        line = tuple(line)\n",
    "        L.append(line)\n",
    "        #for line in re.finditer(L, text)\n",
    "    return L"
   ]
  },
  {
   "cell_type": "code",
   "execution_count": 102,
   "metadata": {},
   "outputs": [],
   "source": [
    "def file_listing(filename):\n",
    "    tulos = []\n",
    "    with open(filename, \"r\") as f:\n",
    "        for x in range(47):\n",
    "            tmp = []\n",
    "            line = f.readline()\n",
    "            mo = re.search(r'.{30}\\s+(\\d+)\\s(\\S+)\\s(..)\\s(\\d+):(\\d+)\\s(.*)', line)\n",
    "            for i in range(1, 7):\n",
    "                try:\n",
    "                    tmp.append(int(mo.group(i)))\n",
    "                except ValueError:\n",
    "                    tmp.append(mo.group(i))\n",
    "                tupla = tuple(tmp)\n",
    "            tulos.append(tupla)\n",
    "    return tulos"
   ]
  },
  {
   "cell_type": "code",
   "execution_count": 22,
   "metadata": {},
   "outputs": [
    {
     "output_type": "execute_result",
     "data": {
      "text/plain": [
       "[(2356, 'Dec', 11, 11, 50, 'add_colab_link.py'),\n",
       " (164519, 'Dec', 28, 17, 59, 'basics.ipynb'),\n",
       " (164477, 'Nov', 5, 19, 21, 'basics.ipynb.orig'),\n",
       " (115587, 'Dec', 11, 11, 50, 'bayes.ipynb'),\n",
       " (4096, 'Nov', 29, 13, 7, '_build'),\n",
       " (198820, 'Dec', 11, 11, 50, 'clustering.ipynb'),\n",
       " (6647, 'Dec', 11, 12, 20, 'conf.py'),\n",
       " (41828, 'Nov', 28, 13, 26, 'example_figure2.png'),\n",
       " (125079, 'Nov', 28, 13, 26, 'example_figure2.xcf'),\n",
       " (24139, 'Nov', 28, 12, 3, 'example_figure.png'),\n",
       " (650, 'Nov', 28, 12, 3, 'example_figure.py'),\n",
       " (25399, 'Nov', 2, 21, 25, 'exception_hierarchy.pdf'),\n",
       " (43632, 'Nov', 2, 22, 5, 'exception_hierarchy.png'),\n",
       " (24366, 'Nov', 2, 21, 26, 'exception_hierarchy.svg'),\n",
       " (72095, 'Oct', 3, 17, 36, 'extra.ipynb'),\n",
       " (1207075, 'Nov', 28, 16, 2, 'face.png'),\n",
       " (897, 'Nov', 12, 10, 59, 'generate_contents.py'),\n",
       " (4096, 'Dec', 27, 13, 55, '.git'),\n",
       " (19, 'Dec', 10, 10, 24, '.gitignore'),\n",
       " (890349, 'Dec', 11, 11, 50, 'image_processing.ipynb'),\n",
       " (689, 'Dec', 10, 10, 28, 'index.rst'),\n",
       " (5254, 'Nov', 3, 18, 46, 'inheritance_hierarchy.pdf'),\n",
       " (7271, 'Nov', 3, 18, 46, 'inheritance_hierarchy.svg'),\n",
       " (4091, 'Dec', 11, 11, 50, 'instructions.ipynb'),\n",
       " (4096, 'Nov', 30, 14, 13, '.ipynb_checkpoints'),\n",
       " (54011, 'Dec', 11, 11, 50, 'linear_regression.ipynb'),\n",
       " (620, 'Nov', 1, 11, 44, 'Makefile'),\n",
       " (52191, 'Dec', 11, 11, 50, 'matplotlib.ipynb'),\n",
       " (1920, 'Nov', 30, 11, 37, 'notes.ipynb'),\n",
       " (82564, 'Dec', 11, 11, 50, 'numpy.ipynb'),\n",
       " (10201, 'Nov', 3, 16, 36, 'package.pdf'),\n",
       " (5742, 'Nov', 3, 16, 37, 'package.svg'),\n",
       " (913641, 'Nov', 26, 10, 58, 'painting.png'),\n",
       " (348531, 'Dec', 28, 13, 40, 'pandas.ipynb'),\n",
       " (100697, 'Dec', 11, 11, 50, 'pca.ipynb'),\n",
       " (32451, 'Oct', 5, 19, 21, 'Python-basic-elements.ipynb'),\n",
       " (82, 'Nov', 13, 12, 55, 'requirements.txt'),\n",
       " (81, 'Nov', 13, 12, 44, 'requirements.txt.old'),\n",
       " (2836, 'Nov', 12, 10, 58, 'sisallys.ipynb'),\n",
       " (128194, 'Nov', 23, 12, 58, 'testing.ipynb'),\n",
       " (691, 'Nov', 29, 16, 27, '.travis.yml'),\n",
       " (973, 'Oct', 31, 14, 1, 'typing1.fig'),\n",
       " (3747, 'Oct', 31, 14, 1, 'typing1.svg'),\n",
       " (1093, 'Oct', 31, 14, 1, 'typing2.fig'),\n",
       " (4053, 'Oct', 31, 14, 2, 'typing2.svg'),\n",
       " (12220, 'Oct', 31, 14, 7, 'typing.svg'),\n",
       " (766, 'Oct', 25, 12, 10, 'versions.py')]"
      ]
     },
     "metadata": {},
     "execution_count": 22
    }
   ],
   "source": [
    "tulos = []\n",
    "with open('listing.txt', \"r\") as f:\n",
    "    for x in range(47):\n",
    "        tmp = []\n",
    "        line = f.readline()\n",
    "        mo = re.search(r'.{30}\\s+(\\d+)\\s(\\S+)\\s(..)\\s(\\d+):(\\d+)\\s(.*)', line)\n",
    "        for i in range(1, 7):\n",
    "            try:\n",
    "                tmp.append(int(mo.group(i)))\n",
    "            except ValueError:\n",
    "                tmp.append(mo.group(i))\n",
    "            tupla = tuple(tmp)\n",
    "        tulos.append(tupla)\n",
    "tulos"
   ]
  },
  {
   "cell_type": "code",
   "execution_count": 103,
   "metadata": {},
   "outputs": [
    {
     "output_type": "execute_result",
     "data": {
      "text/plain": [
       "[(2356, 'Dec', 11, 11, 50, 'add_colab_link.py'),\n",
       " (164519, 'Dec', 28, 17, 59, 'basics.ipynb'),\n",
       " (164477, 'Nov', 5, 19, 21, 'basics.ipynb.orig'),\n",
       " (115587, 'Dec', 11, 11, 50, 'bayes.ipynb'),\n",
       " (4096, 'Nov', 29, 13, 7, '_build'),\n",
       " (198820, 'Dec', 11, 11, 50, 'clustering.ipynb'),\n",
       " (6647, 'Dec', 11, 12, 20, 'conf.py'),\n",
       " (41828, 'Nov', 28, 13, 26, 'example_figure2.png'),\n",
       " (125079, 'Nov', 28, 13, 26, 'example_figure2.xcf'),\n",
       " (24139, 'Nov', 28, 12, 3, 'example_figure.png'),\n",
       " (650, 'Nov', 28, 12, 3, 'example_figure.py'),\n",
       " (25399, 'Nov', 2, 21, 25, 'exception_hierarchy.pdf'),\n",
       " (43632, 'Nov', 2, 22, 5, 'exception_hierarchy.png'),\n",
       " (24366, 'Nov', 2, 21, 26, 'exception_hierarchy.svg'),\n",
       " (72095, 'Oct', 3, 17, 36, 'extra.ipynb'),\n",
       " (1207075, 'Nov', 28, 16, 2, 'face.png'),\n",
       " (897, 'Nov', 12, 10, 59, 'generate_contents.py'),\n",
       " (4096, 'Dec', 27, 13, 55, '.git'),\n",
       " (19, 'Dec', 10, 10, 24, '.gitignore'),\n",
       " (890349, 'Dec', 11, 11, 50, 'image_processing.ipynb'),\n",
       " (689, 'Dec', 10, 10, 28, 'index.rst'),\n",
       " (5254, 'Nov', 3, 18, 46, 'inheritance_hierarchy.pdf'),\n",
       " (7271, 'Nov', 3, 18, 46, 'inheritance_hierarchy.svg'),\n",
       " (4091, 'Dec', 11, 11, 50, 'instructions.ipynb'),\n",
       " (4096, 'Nov', 30, 14, 13, '.ipynb_checkpoints'),\n",
       " (54011, 'Dec', 11, 11, 50, 'linear_regression.ipynb'),\n",
       " (620, 'Nov', 1, 11, 44, 'Makefile'),\n",
       " (52191, 'Dec', 11, 11, 50, 'matplotlib.ipynb'),\n",
       " (1920, 'Nov', 30, 11, 37, 'notes.ipynb'),\n",
       " (82564, 'Dec', 11, 11, 50, 'numpy.ipynb'),\n",
       " (10201, 'Nov', 3, 16, 36, 'package.pdf'),\n",
       " (5742, 'Nov', 3, 16, 37, 'package.svg'),\n",
       " (913641, 'Nov', 26, 10, 58, 'painting.png'),\n",
       " (348531, 'Dec', 28, 13, 40, 'pandas.ipynb'),\n",
       " (100697, 'Dec', 11, 11, 50, 'pca.ipynb'),\n",
       " (32451, 'Oct', 5, 19, 21, 'Python-basic-elements.ipynb'),\n",
       " (82, 'Nov', 13, 12, 55, 'requirements.txt'),\n",
       " (81, 'Nov', 13, 12, 44, 'requirements.txt.old'),\n",
       " (2836, 'Nov', 12, 10, 58, 'sisallys.ipynb'),\n",
       " (128194, 'Nov', 23, 12, 58, 'testing.ipynb'),\n",
       " (691, 'Nov', 29, 16, 27, '.travis.yml'),\n",
       " (973, 'Oct', 31, 14, 1, 'typing1.fig'),\n",
       " (3747, 'Oct', 31, 14, 1, 'typing1.svg'),\n",
       " (1093, 'Oct', 31, 14, 1, 'typing2.fig'),\n",
       " (4053, 'Oct', 31, 14, 2, 'typing2.svg'),\n",
       " (12220, 'Oct', 31, 14, 7, 'typing.svg'),\n",
       " (766, 'Oct', 25, 12, 10, 'versions.py')]"
      ]
     },
     "metadata": {},
     "execution_count": 103
    }
   ],
   "source": [
    "file_listing('listing.txt')\n",
    "#(25339, \"Nov\", 2, 21, 25, \"exception_hierarchy.pdf\")"
   ]
  },
  {
   "cell_type": "code",
   "execution_count": null,
   "metadata": {},
   "outputs": [],
   "source": [
    "#exercise03"
   ]
  },
  {
   "cell_type": "code",
   "execution_count": 103,
   "metadata": {},
   "outputs": [],
   "source": [
    "def red_green_blue(filename=\"src/rgb.txt\"):\n",
    "    tulos = []\n",
    "    with open(filename, \"r\") as f:\n",
    "        next(f) # skipataan eka turha rivi\n",
    "        for x in range(754):\n",
    "            try:\n",
    "                string = f.readline()\n",
    "                mo = re.search(r'(\\d+)\\s+(\\d+)\\s+(\\d+)\\s+(.*)', string)\n",
    "                teksti = mo.group(0)\n",
    "                osien_lista = teksti.split(sep=None)\n",
    "                if len(osien_lista) > 4:\n",
    "                    osien_lista[3] = osien_lista[3] + \" \" + osien_lista[4]\n",
    "                tulosstring = (\"\\t\".join(osien_lista[0:3]))\n",
    "                tulosstring = tulosstring + \"\\t\" + osien_lista[3]\n",
    "                tulos.append(tulosstring)\n",
    "            except Exception as err:\n",
    "                    pass\n",
    "    return tulos"
   ]
  },
  {
   "cell_type": "code",
   "execution_count": 105,
   "metadata": {},
   "outputs": [],
   "source": [
    "#red_green_blue('rgb.txt')"
   ]
  },
  {
   "cell_type": "code",
   "execution_count": null,
   "metadata": {},
   "outputs": [],
   "source": [
    "##exercise04"
   ]
  },
  {
   "cell_type": "code",
   "execution_count": 61,
   "metadata": {},
   "outputs": [],
   "source": [
    "##NO TOCAR  \n",
    "def word_frequencies(filename):\n",
    "    with open(filename, \"r\") as f:\n",
    "        string = f.readline()\n",
    "        strSplit = string.split(\" \")\n",
    "        L = string.split(\" \")\n",
    "        Lbuena = []\n",
    "        for item in L:\n",
    "            Lbuena.append(item)\n",
    "            dictOfWords = dict.fromkeys(Lbuena , len(item))\n",
    "    return dictOfWords"
   ]
  },
  {
   "cell_type": "code",
   "execution_count": 5,
   "metadata": {},
   "outputs": [],
   "source": [
    "def word_frequencies(filename):\n",
    "    # Creating empty result and final lists.\n",
    "    result = []\n",
    "    final = []\n",
    "    d = {}\n",
    "    # Reading the file.\n",
    "    with open(filename, \"r\") as f:\n",
    "        # Splitting the lines into words.\n",
    "        for line in f:\n",
    "            for word in line.split():\n",
    "                wordtemp = word.strip(\"\"\"!\"#$%&'()*,-./:;?@[]_\"\"\")#.lower()\n",
    "                result.append(wordtemp)\n",
    "        # Puts words and their count into dict.\n",
    "        for word in result:\n",
    "            if word not in final:\n",
    "                final.append(word)\n",
    "        for x in final:\n",
    "            d[x] = result.count(x)\n",
    "    return d"
   ]
  },
  {
   "cell_type": "code",
   "execution_count": 6,
   "metadata": {},
   "outputs": [],
   "source": [
    "#pruebis\n",
    "def word_frequencies(filename):\n",
    "    # Creating empty result and final lists.\n",
    "    result = []\n",
    "    final = []\n",
    "    d = {}\n",
    "    # Reading the file.\n",
    "    with open(filename, \"r\") as f:\n",
    "        # Splitting the lines into words.\n",
    "        for line in f:\n",
    "            for word in line.split():\n",
    "                wordtemp = word.strip(\"\"\"!\"#$%&'()*,-./:;?@[]_\"\"\")#.lower()\n",
    "                result.append(wordtemp)\n",
    "        # Puts words and their count into dict.\n",
    "        for word in result:\n",
    "            if word not in final:\n",
    "                final.append(word)\n",
    "        for x in final:\n",
    "            d[x] = len(x)\n",
    "    return d"
   ]
  },
  {
   "cell_type": "code",
   "execution_count": 9,
   "metadata": {},
   "outputs": [],
   "source": [
    "#word_frequencies('alice.txt')"
   ]
  },
  {
   "cell_type": "code",
   "execution_count": 7,
   "metadata": {},
   "outputs": [],
   "source": [
    "result = []\n",
    "final = []\n",
    "d = {}\n",
    "# Reading the file.\n",
    "with open('alice.txt', \"r\") as f:\n",
    "    # Splitting the lines into words.\n",
    "    for line in f:\n",
    "        for word in line.split():\n",
    "            wordtemp = word.strip(\"\"\"!\"#$%&'()*,-./:;?@[]_\"\"\")#.lower()\n",
    "            result.append(wordtemp)\n",
    "    # Puts words and their count into dict.\n",
    "    for word in result:\n",
    "        if word not in final:\n",
    "            final.append(word)\n",
    "    for x in final:\n",
    "        d[x] = result.count(x)\n",
    "#d"
   ]
  },
  {
   "cell_type": "code",
   "execution_count": 1,
   "metadata": {},
   "outputs": [],
   "source": [
    "##exercise05"
   ]
  },
  {
   "cell_type": "code",
   "execution_count": 37,
   "metadata": {},
   "outputs": [],
   "source": [
    "def summary(filename):\n",
    "    L=[]\n",
    "    #reading the file\n",
    "    with open(filename, \"r\") as f:\n",
    "        L = []\n",
    "        for line in f:\n",
    "            try:\n",
    "                n = float(line)\n",
    "                L.append(n)\n",
    "            except:\n",
    "                pass\n",
    "        Sum = sum(L)\n",
    "        Average = statistics.mean(L)\n",
    "        Stddev = statistics.stdev(L)\n",
    "    return print(\"Sum:\", Sum, \"Average:\", Average, \"Stddev:\", Stddev)"
   ]
  },
  {
   "cell_type": "code",
   "execution_count": 34,
   "metadata": {},
   "outputs": [
    {
     "output_type": "stream",
     "name": "stdout",
     "text": [
      "Sum: 51.4 Average: 10.28 Stddev: 8.90460554993875\n"
     ]
    }
   ],
   "source": [
    "import statistics\n",
    "\n",
    "with open('example.txt', \"r\") as f:\n",
    "    sample = []\n",
    "    for line in f:\n",
    "        try:\n",
    "            n = float(line)\n",
    "            sample.append(n)\n",
    "        except:\n",
    "            pass\n",
    "    Sum = sum(sample)\n",
    "    Average = statistics.mean(sample)\n",
    "    Stddev = statistics.stdev(sample)\n",
    "print(\"Sum:\", Sum, \"Average:\", Average, \"Stddev:\", Stddev)"
   ]
  },
  {
   "cell_type": "code",
   "execution_count": 38,
   "metadata": {},
   "outputs": [
    {
     "output_type": "stream",
     "name": "stdout",
     "text": [
      "Sum: 5446.2 Average: 1815.4 Stddev: 3124.2940450604196\n"
     ]
    }
   ],
   "source": [
    "summary('example2.txt')"
   ]
  },
  {
   "cell_type": "code",
   "execution_count": 1,
   "metadata": {},
   "outputs": [],
   "source": [
    "##example06"
   ]
  },
  {
   "cell_type": "code",
   "execution_count": 159,
   "metadata": {},
   "outputs": [],
   "source": [
    "def file_count(filename):\n",
    "    words_ = []\n",
    "    words = []\n",
    "    char = 0\n",
    "    with open(filename, \"r\") as f:\n",
    "        lines = f.readlines()\n",
    "        for line in lines:\n",
    "            words_ += line.split()\n",
    "            words += line\n",
    "        for word in words:\n",
    "            char += len(word)\n",
    "    return (len(lines), len(words_), char)\n",
    "    #return (lines, words, characters)"
   ]
  },
  {
   "cell_type": "code",
   "execution_count": 160,
   "metadata": {},
   "outputs": [
    {
     "output_type": "execute_result",
     "data": {
      "text/plain": [
       "(8, 105, 647)"
      ]
     },
     "metadata": {},
     "execution_count": 160
    }
   ],
   "source": [
    "file_count('test.txt')"
   ]
  },
  {
   "cell_type": "code",
   "execution_count": 81,
   "metadata": {},
   "outputs": [
    {
     "output_type": "execute_result",
     "data": {
      "text/plain": [
       "8"
      ]
     },
     "metadata": {},
     "execution_count": 81
    }
   ],
   "source": [
    "wordList = []\n",
    "final = []\n",
    "Llines = []\n",
    "d = {}\n",
    "with open('test.txt', \"r\") as f:\n",
    "    ##number of lines\n",
    "    for line in f:\n",
    "        Llines.append(line)\n",
    "    lines = len(Llines)\n",
    "lines"
   ]
  },
  {
   "cell_type": "code",
   "execution_count": 129,
   "metadata": {},
   "outputs": [
    {
     "output_type": "execute_result",
     "data": {
      "text/plain": [
       "105"
      ]
     },
     "metadata": {},
     "execution_count": 129
    }
   ],
   "source": [
    "Lbuena = []\n",
    "with open('test.txt', \"r\") as f:\n",
    "    for line in f:\n",
    "        for word in line.split():\n",
    "            Lbuena.append(word)\n",
    "        words = len(Lbuena)\n",
    "words"
   ]
  },
  {
   "cell_type": "code",
   "execution_count": 133,
   "metadata": {},
   "outputs": [
    {
     "output_type": "execute_result",
     "data": {
      "text/plain": [
       "647"
      ]
     },
     "metadata": {},
     "execution_count": 133
    }
   ],
   "source": [
    "Lchar = []\n",
    "with open('test.txt', \"r\") as f:\n",
    "    for line in f:\n",
    "        for word in line:\n",
    "            for char in word:\n",
    "                Lchar.append(char)\n",
    "    characters = len(Lchar)\n",
    "characters"
   ]
  },
  {
   "cell_type": "code",
   "execution_count": 1,
   "metadata": {},
   "outputs": [],
   "source": [
    "##example07"
   ]
  },
  {
   "cell_type": "code",
   "execution_count": 6,
   "metadata": {},
   "outputs": [],
   "source": [
    "def file_extensions(filename):\n",
    "    l = []\n",
    "    d = {}\n",
    "    with open(filename, \"r\") as f:\n",
    "        lines = f.readlines()\n",
    "    for line in lines:\n",
    "        line = line.strip()\n",
    "        if \".\" in line:\n",
    "            two = line.rsplit(\".\", 1)\n",
    "            end = two[1]\n",
    "            if end in d:\n",
    "                d[end].append(line)\n",
    "            else:\n",
    "                d[end]=[line]\n",
    "        else:\n",
    "            l.append(line)\n",
    "    return (l,d)"
   ]
  },
  {
   "cell_type": "code",
   "execution_count": 7,
   "metadata": {},
   "outputs": [
    {
     "output_type": "execute_result",
     "data": {
      "text/plain": [
       "(['test'],\n",
       " {'txt': ['file1.txt', 'file2.txt'],\n",
       "  'pdf': ['mydocument.pdf'],\n",
       "  'gz': ['archive.tar.gz']})"
      ]
     },
     "metadata": {},
     "execution_count": 7
    }
   ],
   "source": [
    "file_extensions('filenames.txt')"
   ]
  },
  {
   "cell_type": "code",
   "execution_count": 5,
   "metadata": {},
   "outputs": [
    {
     "output_type": "execute_result",
     "data": {
      "text/plain": [
       "(['test'],\n",
       " {'txt': ['file1.txt', 'file2.txt'],\n",
       "  'pdf': ['mydocument.pdf'],\n",
       "  'gz': ['archive.tar.gz']})"
      ]
     },
     "metadata": {},
     "execution_count": 5
    }
   ],
   "source": [
    "l = []\n",
    "file_extension = []\n",
    "files = []\n",
    "d = {}\n",
    "with open('filenames.txt', \"r\") as f:\n",
    "    lines = f.readlines()\n",
    "for line in lines:\n",
    "    line = line.strip()\n",
    "    if \".\" in line:\n",
    "        two = line.rsplit(\".\", 1)\n",
    "        end = two[1]\n",
    "        if end in d:\n",
    "            d[end].append(line)\n",
    "        else:\n",
    "            d[end]=[line]\n",
    "    else:\n",
    "        l.append(line)\n",
    "(l, d)"
   ]
  },
  {
   "cell_type": "code",
   "execution_count": null,
   "metadata": {},
   "outputs": [],
   "source": [
    "##erxercise 08"
   ]
  },
  {
   "cell_type": "code",
   "execution_count": 30,
   "metadata": {},
   "outputs": [],
   "source": [
    "class Prepend(object):\n",
    "    # Add the methods of the class here\n",
    "    def __init__(self, char):\n",
    "        self.char = char\n",
    "    #create the write function\n",
    "    def write(cls, char):\n",
    "        return cls(char)"
   ]
  },
  {
   "cell_type": "code",
   "execution_count": 39,
   "metadata": {},
   "outputs": [],
   "source": [
    "##DEFINITIVO\n",
    "class Prepend(object):\n",
    "    # Add the methods of the class here\n",
    "    def __init__(self, char):\n",
    "        self.start = char\n",
    "    #create the write function\n",
    "    def write(self, s):\n",
    "        return print(self.start + s)"
   ]
  },
  {
   "cell_type": "code",
   "execution_count": 40,
   "metadata": {},
   "outputs": [
    {
     "output_type": "stream",
     "name": "stdout",
     "text": [
      "+++ \n+++ Hello\n"
     ]
    }
   ],
   "source": [
    "p = Prepend(\"+++ \")\n",
    "print(p.start)\n",
    "p.write(\"Hello\")\n",
    "#+++ Hello"
   ]
  },
  {
   "cell_type": "code",
   "execution_count": 49,
   "metadata": {},
   "outputs": [
    {
     "output_type": "stream",
     "name": "stdout",
     "text": [
      "21\n25\n"
     ]
    },
    {
     "output_type": "error",
     "ename": "TypeError",
     "evalue": "otro() missing 1 required positional argument: 's'",
     "traceback": [
      "\u001b[1;31m---------------------------------------------------------------------------\u001b[0m",
      "\u001b[1;31mTypeError\u001b[0m                                 Traceback (most recent call last)",
      "\u001b[1;32m<ipython-input-49-eb1fa0bbb078>\u001b[0m in \u001b[0;36m<module>\u001b[1;34m\u001b[0m\n\u001b[0;32m     20\u001b[0m \u001b[0mprint\u001b[0m \u001b[1;33m(\u001b[0m\u001b[0mperson1\u001b[0m\u001b[1;33m.\u001b[0m\u001b[0mage\u001b[0m\u001b[1;33m)\u001b[0m\u001b[1;33m\u001b[0m\u001b[1;33m\u001b[0m\u001b[0m\n\u001b[0;32m     21\u001b[0m \u001b[0mprint\u001b[0m \u001b[1;33m(\u001b[0m\u001b[0mperson2\u001b[0m\u001b[1;33m.\u001b[0m\u001b[0mage\u001b[0m\u001b[1;33m)\u001b[0m\u001b[1;33m\u001b[0m\u001b[1;33m\u001b[0m\u001b[0m\n\u001b[1;32m---> 22\u001b[1;33m \u001b[0mperson1\u001b[0m\u001b[1;33m.\u001b[0m\u001b[0motro\u001b[0m\u001b[1;33m(\u001b[0m\u001b[1;36m9\u001b[0m\u001b[1;33m)\u001b[0m\u001b[1;33m\u001b[0m\u001b[1;33m\u001b[0m\u001b[0m\n\u001b[0m\u001b[0;32m     23\u001b[0m \u001b[1;31m# print the result\u001b[0m\u001b[1;33m\u001b[0m\u001b[1;33m\u001b[0m\u001b[1;33m\u001b[0m\u001b[0m\n\u001b[0;32m     24\u001b[0m \u001b[0mprint\u001b[0m \u001b[1;33m(\u001b[0m\u001b[0mPerson\u001b[0m\u001b[1;33m.\u001b[0m\u001b[0misAdult\u001b[0m\u001b[1;33m(\u001b[0m\u001b[1;36m22\u001b[0m\u001b[1;33m)\u001b[0m\u001b[1;33m)\u001b[0m\u001b[1;33m\u001b[0m\u001b[1;33m\u001b[0m\u001b[0m\n",
      "\u001b[1;31mTypeError\u001b[0m: otro() missing 1 required positional argument: 's'"
     ]
    }
   ],
   "source": [
    "from datetime import date\n",
    "   \n",
    "class Person:\n",
    "    def __init__(self, name, age):\n",
    "        self.name = name\n",
    "        self.age = age       \n",
    "    # a class method to create a Person object by birth year.\n",
    "    @classmethod\n",
    "    def fromBirthYear(cls, name, year):\n",
    "        return cls(name, date.today().year - year)  \n",
    "    def otro(name, year, s):\n",
    "        return print(name, date.today().year - year, s)       \n",
    "    # a static method to check if a Person is adult or not.\n",
    "    @staticmethod\n",
    "    def isAdult(age):\n",
    "        return age > 18   \n",
    "\n",
    "person1 = Person('mayank', 21)\n",
    "person2 = Person.fromBirthYear('mayank', 1996)   \n",
    "print (person1.age)\n",
    "print (person2.age)\n",
    "person1.otro()\n",
    "# print the result\n",
    "print (Person.isAdult(22))"
   ]
  },
  {
   "cell_type": "code",
   "execution_count": 31,
   "metadata": {},
   "outputs": [],
   "source": [
    "class MyClass:\n",
    "    \"\"\"A simple example class\"\"\"\n",
    "    i = 12345\n",
    "\n",
    "    def f(self):\n",
    "        return 'hello world'"
   ]
  },
  {
   "cell_type": "code",
   "execution_count": 41,
   "metadata": {},
   "outputs": [],
   "source": [
    "##INHERITANCE"
   ]
  },
  {
   "cell_type": "code",
   "execution_count": 42,
   "metadata": {},
   "outputs": [
    {
     "output_type": "stream",
     "name": "stdout",
     "text": [
      "Executing B.f\nExecuting C.g\n"
     ]
    }
   ],
   "source": [
    "class B(object):\n",
    "    def f(self):\n",
    "        print(\"Executing B.f\")\n",
    "    def g(self):\n",
    "        print(\"Executing B.g\")\n",
    "\n",
    "class C(B):\n",
    "    def g(self):\n",
    "        print(\"Executing C.g\")\n",
    "\n",
    "x=C()\n",
    "x.f() # inherited from B\n",
    "x.g() # overridden by C"
   ]
  },
  {
   "cell_type": "code",
   "execution_count": 43,
   "metadata": {},
   "outputs": [],
   "source": [
    "##exercise 09"
   ]
  },
  {
   "cell_type": "code",
   "execution_count": 163,
   "metadata": {},
   "outputs": [],
   "source": [
    "class Rational(object):\n",
    "    \"\"\"rational number class\"\"\"\n",
    "    def __init__(self, num, denom):\n",
    "        \"This initialises an instance of type ClassName\"\n",
    "        self.numerator = num\n",
    "        self.denominator = denom\n",
    "    def __str__(self):\n",
    "        return '%s/%s' % (self.numerator, self.denominator)\n",
    "    def __mul__(a, b):\n",
    "        \"\"\"Multiply two rational numbers.\"\"\"\n",
    "        return Rational(a.numerator * b.numerator, a.denominator * b.denominator)\n",
    "    def __truediv__(a, b):\n",
    "        \"\"\"Divide two rational numbers.\"\"\"\n",
    "        return Rational(a.numerator * b.denominator, a.denominator * b.numerator)\n",
    "    def __add__(a, b):\n",
    "        \"\"\"Divide two rational numbers.\"\"\"\n",
    "        return Rational(a.numerator * b.denominator + b.numerator * a.denominator, a.denominator * b.denominator)\n",
    "    def __sub__(a, b):\n",
    "        \"\"\"Divide two rational numbers.\"\"\"\n",
    "        return Rational(a.numerator * b.denominator - b.numerator * a.denominator, a.denominator * b.denominator)\n",
    "    def __eq__(a, b):\n",
    "        \"\"\"Divide two rational numbers.\"\"\"\n",
    "        return a.numerator == b.numerator and a.denominator == b.denominator\n",
    "    def __gt__(self,y):\n",
    "        if self.numerator*y.denominator > self.denominator*y.numerator:\n",
    "            return True\n",
    "        else: \n",
    "            return False\n",
    "    def __lt__(self,y):\n",
    "        if self.numerator*y.denominator < self.denominator*y.numerator:\n",
    "            return True\n",
    "        else: \n",
    "            return False"
   ]
  },
  {
   "cell_type": "code",
   "execution_count": 164,
   "metadata": {},
   "outputs": [
    {
     "output_type": "stream",
     "name": "stdout",
     "text": [
      "1/4\n2/3\n2/12\n3/8\n11/12\n-5/12\nFalse\nFalse\nTrue\n"
     ]
    }
   ],
   "source": [
    "r1=Rational(1,4)\n",
    "r2=Rational(2,3)\n",
    "print(r1)\n",
    "print(r2)\n",
    "print(r1*r2)\n",
    "print(r1/r2)\n",
    "print(r1+r2)\n",
    "print(r1-r2)\n",
    "print(Rational(1,2) == Rational(2,4))\n",
    "print(Rational(1,2) > Rational(2,4))\n",
    "print(Rational(1,2) < Rational(2,4))"
   ]
  },
  {
   "cell_type": "code",
   "execution_count": 166,
   "metadata": {},
   "outputs": [
    {
     "output_type": "execute_result",
     "data": {
      "text/plain": [
       "<__main__.Rational at 0x1c3b0829400>"
      ]
     },
     "metadata": {},
     "execution_count": 166
    }
   ],
   "source": [
    "##solucion\n",
    "class Rational(object):\n",
    "    def __init__(self, n, d):\n",
    "        self.n = n\n",
    "        self.d = d\n",
    "    def __str__(self):\n",
    "        return \"%i/%i\" % (self.n, self.d)\n",
    "    def __repr__(self):\n",
    "        return \"Rational(%i, %i)\" % (self.n, self.d)\n",
    "    def __mul__(self, r2):\n",
    "        a = self.n * r2.n\n",
    "        b = self.d * r2.d\n",
    "        return Rational(a,b)\n",
    "    def __truediv__(self, r2):\n",
    "        a = self.n * r2.d\n",
    "        b = self.d * r2.n\n",
    "        return Rational(a,b)\n",
    "    def __add__(self, r2):\n",
    "        d1 = self.d\n",
    "        d2 = r2.d\n",
    "        a = self.n * d2 + r2.n * d1\n",
    "        b = d1 * d2\n",
    "        return Rational(a, b)\n",
    "    def __sub__(self, r2):\n",
    "        d1 = self.d\n",
    "        d2 = r2.d\n",
    "        a = self.n * d2 - r2.n * d1\n",
    "        b = d1 * d2\n",
    "        return Rational(a, b)\n",
    "    def __eq__(self, r2):\n",
    "        return self.n * r2.d == self.d *r2.n\n",
    "    def __lt__(self, r2):\n",
    "        return self.n * r2.d < self.d *r2.n\n",
    "    def __gt__(self, r2):\n",
    "        return self.n * r2.d > self.d *r2.n\n",
    "def main():\n",
    "    r1=Rational(1,4)\n",
    "    r2=Rational(2,3)\n",
    "    print(r1)\n",
    "    print(r2)\n",
    "    print(r1*r2)\n",
    "    print(r1/r2)\n",
    "    print(r1+r2)\n",
    "    print(r1-r2)\n",
    "    print(Rational(1,2) == Rational(2,4))\n",
    "    print(Rational(1,2) > Rational(2,4))\n",
    "    print(Rational(1,2) < Rational(2,4))\n",
    "if __name__ == \"__main__\":\n",
    "    main()"
   ]
  },
  {
   "cell_type": "code",
   "execution_count": 167,
   "metadata": {},
   "outputs": [],
   "source": [
    "##Exceptions"
   ]
  },
  {
   "cell_type": "code",
   "execution_count": 168,
   "metadata": {},
   "outputs": [
    {
     "output_type": "stream",
     "name": "stdout",
     "text": [
      "Index does not exist\n"
     ]
    }
   ],
   "source": [
    "L=[1,2,3]\n",
    "try:\n",
    "\tprint(L[3])\n",
    "except IndexError:\n",
    "\tprint(\"Index does not exist\")"
   ]
  },
  {
   "cell_type": "code",
   "execution_count": 170,
   "metadata": {},
   "outputs": [
    {
     "output_type": "stream",
     "name": "stdout",
     "text": [
      "Average is 8.083333333333334\n"
     ]
    }
   ],
   "source": [
    "def compute_average(L):\n",
    "\tn=len(L)\n",
    "\ts=sum(L)\n",
    "\treturn float(s)/n #error is noticed here!!!\n",
    "mylist=[]\n",
    "while True:\n",
    "\ttry:\n",
    "\t\tx=float(input(\"Give a number (non-number quits): \"))\n",
    "\t\tmylist.append(x) \n",
    "\texcept ValueError:\n",
    "\t\tbreak\n",
    "try:\n",
    "\taverage=compute_average(mylist)\n",
    "\tprint(\"Average is\", average)\n",
    "except ZeroDivisionError:\n",
    "\t#the error is handled here\n",
    "\tif len(mylist)==0:\n",
    "\t\tprint(\"Tried to compute the average of empty list of numbers\")\n",
    "\telse:\n",
    "\t\tprint(\"Something strange happened!\")"
   ]
  },
  {
   "cell_type": "code",
   "execution_count": 171,
   "metadata": {},
   "outputs": [],
   "source": [
    "###too general exceptions"
   ]
  },
  {
   "cell_type": "code",
   "execution_count": 172,
   "metadata": {},
   "outputs": [
    {
     "output_type": "stream",
     "name": "stdout",
     "text": [
      "You didn’t enter a number\n"
     ]
    }
   ],
   "source": [
    "import sys\n",
    "s=input(\"Give a number: \")\n",
    "s=s[:-1] # strip the \\n character from the end\n",
    "try:\n",
    "    x=int(s)\n",
    "    sys.stdout.wr1te(f\"You entered {x}\\n\")\n",
    "except Exception:\n",
    "    print(\"You didn’t enter a number\")"
   ]
  },
  {
   "cell_type": "code",
   "execution_count": 173,
   "metadata": {},
   "outputs": [],
   "source": [
    "##exercise 10"
   ]
  },
  {
   "cell_type": "code",
   "execution_count": 208,
   "metadata": {},
   "outputs": [],
   "source": [
    "def extract_numbers(string):\n",
    "    l = []\n",
    "    result = []\n",
    "    l = string.split()\n",
    "    for item in l:\n",
    "        try:\n",
    "            result.append(int(item))\n",
    "        except ValueError:\n",
    "            try:\n",
    "                result.append(float(item))\n",
    "            except ValueError:\n",
    "                pass\n",
    "    return result"
   ]
  },
  {
   "cell_type": "code",
   "execution_count": 209,
   "metadata": {},
   "outputs": [
    {
     "output_type": "stream",
     "name": "stdout",
     "text": [
      "[123, 1.2, 13.2, -1]\n"
     ]
    }
   ],
   "source": [
    "print(extract_numbers(\"abd 123 1.2 test 13.2 -1\"))\n",
    "#[123, 1.2, 13.2, -1]"
   ]
  },
  {
   "cell_type": "code",
   "execution_count": 210,
   "metadata": {},
   "outputs": [
    {
     "output_type": "execute_result",
     "data": {
      "text/plain": [
       "[123, 1.2, 13.2, -1]"
      ]
     },
     "metadata": {},
     "execution_count": 210
    }
   ],
   "source": [
    "extract_numbers(\"abd 123 1.2 test 13.2 -1\")"
   ]
  },
  {
   "cell_type": "code",
   "execution_count": 1,
   "metadata": {},
   "outputs": [],
   "source": [
    "#NUMPY\n",
    "import numpy as np"
   ]
  },
  {
   "cell_type": "code",
   "execution_count": 3,
   "metadata": {},
   "outputs": [
    {
     "output_type": "execute_result",
     "data": {
      "text/plain": [
       "array([1, 2, 3])"
      ]
     },
     "metadata": {},
     "execution_count": 3
    }
   ],
   "source": [
    "## creation of arrays\n",
    "np.array([1,2,3]) #one dimensional array"
   ]
  },
  {
   "cell_type": "code",
   "execution_count": 5,
   "metadata": {},
   "outputs": [
    {
     "output_type": "execute_result",
     "data": {
      "text/plain": [
       "array([[1, 2, 3],\n",
       "       [4, 5, 6]])"
      ]
     },
     "metadata": {},
     "execution_count": 5
    }
   ],
   "source": [
    "np.array([[1,2,3],[4,5,6]]) #two dimensional array"
   ]
  },
  {
   "cell_type": "code",
   "execution_count": 6,
   "metadata": {},
   "outputs": [
    {
     "output_type": "execute_result",
     "data": {
      "text/plain": [
       "array([[[1, 2],\n",
       "        [3, 4]],\n",
       "\n",
       "       [[5, 6],\n",
       "        [7, 8]]])"
      ]
     },
     "metadata": {},
     "execution_count": 6
    }
   ],
   "source": [
    "np.array([[[1,2],[3,4]],[[5,6],[7,8]]]) # three dimensional array"
   ]
  },
  {
   "cell_type": "code",
   "execution_count": 7,
   "metadata": {},
   "outputs": [
    {
     "output_type": "execute_result",
     "data": {
      "text/plain": [
       "array([[0., 0., 0., 0.],\n",
       "       [0., 0., 0., 0.],\n",
       "       [0., 0., 0., 0.]])"
      ]
     },
     "metadata": {},
     "execution_count": 7
    }
   ],
   "source": [
    "np.zeros((3,4)) # null array"
   ]
  },
  {
   "cell_type": "code",
   "execution_count": 8,
   "metadata": {},
   "outputs": [
    {
     "output_type": "execute_result",
     "data": {
      "text/plain": [
       "array([[0, 0, 0, 0],\n",
       "       [0, 0, 0, 0],\n",
       "       [0, 0, 0, 0]])"
      ]
     },
     "metadata": {},
     "execution_count": 8
    }
   ],
   "source": [
    "np.zeros((3,4), dtype=int)"
   ]
  },
  {
   "cell_type": "code",
   "execution_count": 9,
   "metadata": {},
   "outputs": [
    {
     "output_type": "execute_result",
     "data": {
      "text/plain": [
       "array([[1., 1., 1.],\n",
       "       [1., 1., 1.]])"
      ]
     },
     "metadata": {},
     "execution_count": 9
    }
   ],
   "source": [
    "np.ones((2,3))  # array filled with ones"
   ]
  },
  {
   "cell_type": "code",
   "execution_count": 11,
   "metadata": {},
   "outputs": [
    {
     "output_type": "execute_result",
     "data": {
      "text/plain": [
       "array([[7, 7, 7],\n",
       "       [7, 7, 7]])"
      ]
     },
     "metadata": {},
     "execution_count": 11
    }
   ],
   "source": [
    "np.full((2,3), fill_value=7) # fill array with the ssame value"
   ]
  },
  {
   "cell_type": "code",
   "execution_count": 12,
   "metadata": {},
   "outputs": [
    {
     "output_type": "execute_result",
     "data": {
      "text/plain": [
       "array([[0.00000000e+000, 0.00000000e+000, 0.00000000e+000,\n",
       "        0.00000000e+000],\n",
       "       [0.00000000e+000, 1.06915806e-320, 0.00000000e+000,\n",
       "        1.66880539e-308]])"
      ]
     },
     "metadata": {},
     "execution_count": 12
    }
   ],
   "source": [
    "np.empty((2,4)) # empty array"
   ]
  },
  {
   "cell_type": "code",
   "execution_count": 14,
   "metadata": {},
   "outputs": [
    {
     "output_type": "execute_result",
     "data": {
      "text/plain": [
       "array([[1, 0, 0, 0, 0],\n",
       "       [0, 1, 0, 0, 0],\n",
       "       [0, 0, 1, 0, 0],\n",
       "       [0, 0, 0, 1, 0],\n",
       "       [0, 0, 0, 0, 1]])"
      ]
     },
     "metadata": {},
     "execution_count": 14
    }
   ],
   "source": [
    "np.eye(5, dtype=int) # idendity matrix"
   ]
  },
  {
   "cell_type": "code",
   "execution_count": 16,
   "metadata": {},
   "outputs": [
    {
     "output_type": "execute_result",
     "data": {
      "text/plain": [
       "array([0, 2, 4, 6, 8])"
      ]
     },
     "metadata": {},
     "execution_count": 16
    }
   ],
   "source": [
    "np.arange(0,10,2) # the arnage is similar to the range function, but creates an array instead"
   ]
  },
  {
   "cell_type": "code",
   "execution_count": 17,
   "metadata": {},
   "outputs": [
    {
     "output_type": "execute_result",
     "data": {
      "text/plain": [
       "array([0.        , 0.78539816, 1.57079633, 2.35619449, 3.14159265])"
      ]
     },
     "metadata": {},
     "execution_count": 17
    }
   ],
   "source": [
    "np.linspace(0, np.pi, 5) # evenly spaced range with 5 elements; for non integer arrays"
   ]
  },
  {
   "cell_type": "code",
   "execution_count": 18,
   "metadata": {},
   "outputs": [
    {
     "output_type": "execute_result",
     "data": {
      "text/plain": [
       "array([[0.48397666, 0.54537716, 0.88389225, 0.24650913],\n",
       "       [0.51927985, 0.50503515, 0.78844673, 0.38521645],\n",
       "       [0.40628817, 0.83596412, 0.70995795, 0.98760212]])"
      ]
     },
     "metadata": {},
     "execution_count": 18
    }
   ],
   "source": [
    "### array of random elements\n",
    "np.random.random((3,4)) #elements are uniformly distributed from half-open interval `0.0, 1.0)"
   ]
  },
  {
   "cell_type": "code",
   "execution_count": 19,
   "metadata": {},
   "outputs": [
    {
     "output_type": "execute_result",
     "data": {
      "text/plain": [
       "array([[-0.0350308 ,  0.66727521, -0.19547854, -0.80876014],\n",
       "       [ 0.89528518,  0.0549497 , -2.55221714, -1.08239726],\n",
       "       [ 0.42697415, -0.38612716, -0.20688345, -1.71392207]])"
      ]
     },
     "metadata": {},
     "execution_count": 19
    }
   ],
   "source": [
    "np.random.normal(0,1,(3,4)) #elements are normally distributed with mean 0 and standard deviation 1"
   ]
  },
  {
   "cell_type": "code",
   "execution_count": 20,
   "metadata": {},
   "outputs": [
    {
     "output_type": "execute_result",
     "data": {
      "text/plain": [
       "array([[-0.5332854 , -0.54335159,  0.93090619, -1.16107317],\n",
       "       [-0.66022258, -0.56869097,  0.97680999, -0.70830748],\n",
       "       [ 0.07633731, -0.10809703,  0.13655605,  0.28296515]])"
      ]
     },
     "metadata": {},
     "execution_count": 20
    }
   ],
   "source": [
    "np.random.normal(0,1,(3,4)) #elements are normally distributed with mean 0 and standard deviation 1"
   ]
  },
  {
   "cell_type": "code",
   "execution_count": 21,
   "metadata": {},
   "outputs": [
    {
     "output_type": "stream",
     "name": "stdout",
     "text": [
      "[44 47 64 67 67  9 83 21 36 87]\n[ 1.26611853 -0.50587654  2.54520078  1.08081191  0.48431215  0.57914048\n -0.18158257  1.41020463 -0.37447169  0.27519832]\n"
     ]
    }
   ],
   "source": [
    "np.random.seed(0)\n",
    "print(np.random.randint(0, 100, 10))\n",
    "print(np.random.normal(0, 1, 10))"
   ]
  },
  {
   "cell_type": "code",
   "execution_count": 22,
   "metadata": {},
   "outputs": [
    {
     "output_type": "execute_result",
     "data": {
      "text/plain": [
       "array([66, 92, 98, 17, 83, 57, 86, 97, 96, 47])"
      ]
     },
     "metadata": {},
     "execution_count": 22
    }
   ],
   "source": [
    "new_generator = np.random.RandomState(seed = 123) #RandomState is a class, so we give the seed to its constructor\n",
    "new_generator.randint(0,100,10)"
   ]
  },
  {
   "cell_type": "code",
   "execution_count": 23,
   "metadata": {},
   "outputs": [],
   "source": [
    "## array types and attributes\n",
    "def info(name, a):\n",
    "\tprint(f\"{name} has dim {a.ndim}, shape {a.shape}, size {a.size} and dtype {a.dtype}\")"
   ]
  },
  {
   "cell_type": "code",
   "execution_count": 24,
   "metadata": {},
   "outputs": [
    {
     "output_type": "stream",
     "name": "stdout",
     "text": [
      "b has dim 2, shape (2, 3), size 6 and dtype int32\n"
     ]
    }
   ],
   "source": [
    "b=np.array([[1,2,3],[4,5,6]])\n",
    "info(\"b\", b)"
   ]
  },
  {
   "cell_type": "code",
   "execution_count": 25,
   "metadata": {},
   "outputs": [
    {
     "output_type": "stream",
     "name": "stdout",
     "text": [
      "b has dim 2, shape (2, 3), size 6 and dtype int32\n"
     ]
    }
   ],
   "source": [
    "b=np.array([[1,2,3],[4,5,6]])\n",
    "info(\"b\", b)"
   ]
  },
  {
   "cell_type": "code",
   "execution_count": 26,
   "metadata": {},
   "outputs": [
    {
     "output_type": "stream",
     "name": "stdout",
     "text": [
      "d has dim 2, shape (1, 4), size 4 and dtype int32\n"
     ]
    }
   ],
   "source": [
    "d=np.array([[1,2,3,4]])\n",
    "info(\"d\",d)"
   ]
  },
  {
   "cell_type": "code",
   "execution_count": 28,
   "metadata": {},
   "outputs": [
    {
     "output_type": "stream",
     "name": "stdout",
     "text": [
      "4\n9\n"
     ]
    }
   ],
   "source": [
    "## indexing and reshaping\n",
    "a=np.array([1,4,2,7,9,5])\n",
    "print(a[1])\n",
    "print(a[-2])"
   ]
  },
  {
   "cell_type": "code",
   "execution_count": 29,
   "metadata": {},
   "outputs": [
    {
     "output_type": "stream",
     "name": "stdout",
     "text": [
      "[[1 2 3]\n [4 5 6]]\n6\n2\n"
     ]
    }
   ],
   "source": [
    "####for multidimensional arrays\n",
    "b=np.array([[1,2,3],[4,5,6]])\n",
    "print(b)\n",
    "print(b[1,2]) #row indez 1, column index 2\n",
    "print(b[0,1]) #row index 0, column index -1"
   ]
  },
  {
   "cell_type": "code",
   "execution_count": 31,
   "metadata": {},
   "outputs": [
    {
     "output_type": "stream",
     "name": "stdout",
     "text": [
      "[[10  2  3]\n [ 4  5  6]]\n"
     ]
    }
   ],
   "source": [
    "#as with lists, modification through indexing is possible\n",
    "b[0,0] = 10\n",
    "print(b)"
   ]
  },
  {
   "cell_type": "code",
   "execution_count": 32,
   "metadata": {},
   "outputs": [
    {
     "output_type": "stream",
     "name": "stdout",
     "text": [
      "[[10  2  3]\n [ 4  5  6]]\n"
     ]
    }
   ],
   "source": [
    "#as with lists, modification through indexing is possible\n",
    "b[0,0] = 10\n",
    "print(b)"
   ]
  },
  {
   "cell_type": "code",
   "execution_count": 34,
   "metadata": {},
   "outputs": [
    {
     "output_type": "stream",
     "name": "stdout",
     "text": [
      "[1 4 2 7 9 5]\n[4 2]\n[5 9 7 2 4 1]\n"
     ]
    }
   ],
   "source": [
    "### slicing\n",
    "print(a)\n",
    "print(a[1:3])\n",
    "print(a[::-1]) #reverses the array"
   ]
  },
  {
   "cell_type": "code",
   "execution_count": 35,
   "metadata": {},
   "outputs": [
    {
     "output_type": "stream",
     "name": "stdout",
     "text": [
      "[[10  2  3]\n [ 4  5  6]]\n[10  4]\n[10  2  3]\n[[2 3]\n [5 6]]\n"
     ]
    }
   ],
   "source": [
    "print(b)\n",
    "print(b[:,0])\n",
    "print(b[0,:])\n",
    "print(b[:,1:])"
   ]
  },
  {
   "cell_type": "code",
   "execution_count": 36,
   "metadata": {},
   "outputs": [
    {
     "output_type": "stream",
     "name": "stdout",
     "text": [
      "[[10  7  7]\n [ 4  7  7]]\n"
     ]
    }
   ],
   "source": [
    "b[:,1:] = 7\n",
    "print(b)"
   ]
  },
  {
   "cell_type": "code",
   "execution_count": 37,
   "metadata": {},
   "outputs": [
    {
     "output_type": "stream",
     "name": "stdout",
     "text": [
      "[10  4]\n[4 7 7]\n"
     ]
    }
   ],
   "source": [
    "print(b[:,0]) # first column\n",
    "print(b[1,:]) # second row"
   ]
  },
  {
   "cell_type": "code",
   "execution_count": 39,
   "metadata": {},
   "outputs": [
    {
     "output_type": "stream",
     "name": "stdout",
     "text": [
      "new has dim 2, shape (3, 3), size 9 and dtype int32\na has dim 1, shape (9,), size 9 and dtype int32\n"
     ]
    }
   ],
   "source": [
    "## reshaping\n",
    "a=np.arange(9)\n",
    "anew=a.reshape(3,3)\n",
    "info(\"new\", anew) \n",
    "info(\"a\", a)"
   ]
  },
  {
   "cell_type": "code",
   "execution_count": 40,
   "metadata": {},
   "outputs": [
    {
     "output_type": "stream",
     "name": "stdout",
     "text": [
      "d has dim 1, shape (4,), size 4 and dtype int32\ndr has dim 2, shape (1, 4), size 4 and dtype int32\ndc has dim 2, shape (4, 1), size 4 and dtype int32\n"
     ]
    }
   ],
   "source": [
    "d=np.arange(4) #1d array\n",
    "dr=d.reshape(1,4) #row vector\n",
    "dc=d.reshape(4,1) #column vector\n",
    "info(\"d\", d)\n",
    "info(\"dr\", dr)\n",
    "info(\"dc\", dc)"
   ]
  },
  {
   "cell_type": "code",
   "execution_count": 41,
   "metadata": {},
   "outputs": [
    {
     "output_type": "stream",
     "name": "stdout",
     "text": [
      "d has dim 1, shape (4,), size 4 and dtype int32\ndrow has dim 2, shape (4, 1), size 4 and dtype int32\ndrow has dim 2, shape (1, 4), size 4 and dtype int32\ndcol has dim 2, shape (4, 1), size 4 and dtype int32\n"
     ]
    }
   ],
   "source": [
    "info(\"d\", d)\n",
    "info(\"drow\", d[:,np.newaxis])\n",
    "info(\"drow\", d[np.newaxis, :])\n",
    "info(\"dcol\", d[:,np.newaxis])"
   ]
  },
  {
   "cell_type": "code",
   "execution_count": 42,
   "metadata": {},
   "outputs": [],
   "source": [
    "## exercise 11"
   ]
  },
  {
   "cell_type": "code",
   "execution_count": 72,
   "metadata": {},
   "outputs": [],
   "source": [
    "def get_rows(a):\n",
    "    rows = []\n",
    "    for row in a:\n",
    "        #a = array[i]\n",
    "        rows.append(row)\n",
    "    return rows\n",
    "def get_columns(a):\n",
    "    columns = []\n",
    "    b = a.T \n",
    "    for column in b:\n",
    "        #a = array[i]\n",
    "        columns.append(column)\n",
    "    return columns"
   ]
  },
  {
   "cell_type": "code",
   "execution_count": 73,
   "metadata": {},
   "outputs": [
    {
     "output_type": "execute_result",
     "data": {
      "text/plain": [
       "[array([5, 0, 3, 3]),\n",
       " array([7, 9, 3, 5]),\n",
       " array([2, 4, 7, 6]),\n",
       " array([8, 8, 1, 6])]"
      ]
     },
     "metadata": {},
     "execution_count": 73
    }
   ],
   "source": [
    "a = np.array([[5, 0, 3, 3], [7, 9, 3, 5], [2, 4, 7, 6], [8, 8, 1, 6]])\n",
    "get_rows(a)\n",
    "#[array([5, 0, 3, 3]), array([7, 9, 3, 5]), array([2, 4, 7, 6]), array([8, 8, 1, 6])]\n"
   ]
  },
  {
   "cell_type": "code",
   "execution_count": 74,
   "metadata": {},
   "outputs": [
    {
     "output_type": "execute_result",
     "data": {
      "text/plain": [
       "[array([5, 7, 2, 8]),\n",
       " array([0, 9, 4, 8]),\n",
       " array([3, 3, 7, 1]),\n",
       " array([3, 5, 6, 6])]"
      ]
     },
     "metadata": {},
     "execution_count": 74
    }
   ],
   "source": [
    "get_columns(a)\n",
    "#[array([5, 7, 2, 8]), array([0, 9, 4, 8]), array([3, 3, 7, 1]), array([3, 5, 6, 6])]"
   ]
  },
  {
   "cell_type": "code",
   "execution_count": 61,
   "metadata": {},
   "outputs": [
    {
     "output_type": "execute_result",
     "data": {
      "text/plain": [
       "[array([5, 0, 3, 3]),\n",
       " array([7, 9, 3, 5]),\n",
       " array([2, 4, 7, 6]),\n",
       " array([8, 8, 1, 6])]"
      ]
     },
     "metadata": {},
     "execution_count": 61
    }
   ],
   "source": [
    "    rows = []\n",
    "    for row in a:\n",
    "        rows.append(row)\n",
    "    rows"
   ]
  }
 ]
}