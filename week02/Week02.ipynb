{
 "metadata": {
  "language_info": {
   "codemirror_mode": {
    "name": "ipython",
    "version": 3
   },
   "file_extension": ".py",
   "mimetype": "text/x-python",
   "name": "python",
   "nbconvert_exporter": "python",
   "pygments_lexer": "ipython3",
   "version": "3.8.10"
  },
  "orig_nbformat": 4,
  "kernelspec": {
   "name": "python3",
   "display_name": "Python 3.8.10 64-bit ('PythonSoftwareFoundation.Python.3.8_qbz5n2kfra8p0')"
  },
  "interpreter": {
   "hash": "c922267cf9738049752e47665bd68ffa7b527461843a9af3b33df15d3fc83804"
  }
 },
 "nbformat": 4,
 "nbformat_minor": 2,
 "cells": [
  {
   "cell_type": "code",
   "execution_count": null,
   "metadata": {},
   "outputs": [],
   "source": [
    "#Python continues\n",
    "##Regular expression\n",
    "###Examples"
   ]
  },
  {
   "cell_type": "code",
   "execution_count": 6,
   "metadata": {},
   "outputs": [
    {
     "output_type": "execute_result",
     "data": {
      "text/plain": [
       "<re.Match object; span=(0, 5), match='Apple'>"
      ]
     },
     "metadata": {},
     "execution_count": 6
    }
   ],
   "source": [
    "a = \"Apple\"\n",
    "import re\n",
    "re.match(r\"[Aa]pple\", a)"
   ]
  },
  {
   "cell_type": "code",
   "execution_count": 7,
   "metadata": {},
   "outputs": [],
   "source": [
    "###Match and search functions"
   ]
  },
  {
   "cell_type": "code",
   "execution_count": 8,
   "metadata": {},
   "outputs": [
    {
     "output_type": "execute_result",
     "data": {
      "text/plain": [
       "['Doing', 'going', 'staying', 'sleeping']"
      ]
     },
     "metadata": {},
     "execution_count": 8
    }
   ],
   "source": [
    "import re\n",
    "s = \"Doing things, going home, staying awale, sleeping later\" \n",
    "re.findall(r'\\w+ing\\b',s)"
   ]
  },
  {
   "cell_type": "code",
   "execution_count": 9,
   "metadata": {},
   "outputs": [
    {
     "output_type": "execute_result",
     "data": {
      "text/plain": [
       "['23', '-24', '-1']"
      ]
     },
     "metadata": {},
     "execution_count": 9
    }
   ],
   "source": [
    "re.findall(r'[+-]?\\d+', \"23 +-24 = -1\")"
   ]
  },
  {
   "cell_type": "code",
   "execution_count": 10,
   "metadata": {},
   "outputs": [
    {
     "output_type": "execute_result",
     "data": {
      "text/plain": [
       "['I’m not in a hurry, then I should stay. On the other hand, if I leave']"
      ]
     },
     "metadata": {},
     "execution_count": 10
    }
   ],
   "source": [
    "\n",
    "s = (\"If I’m not in a hurry, then I should stay. \" +\n",
    "    \"On the other hand, if I leave, then I can sleep.\")\n",
    "re.findall(r'[Ii]f (.*), then', s)"
   ]
  },
  {
   "cell_type": "code",
   "execution_count": 33,
   "metadata": {},
   "outputs": [
    {
     "output_type": "stream",
     "name": "stdout",
     "text": [
      "He (Putin) is the president of Russia.\nHe’s a powerful man.\n"
     ]
    }
   ],
   "source": [
    "import re\n",
    "str = \"\"\"He is the president of Russia.\n",
    "He’s a powerful man.\"\"\"\n",
    "newstr = re.sub(r'(\\b[Hh]e\\b)', r'\\1 (Putin)', str, 1)\n",
    "print (newstr)"
   ]
  },
  {
   "cell_type": "code",
   "execution_count": null,
   "metadata": {},
   "outputs": [],
   "source": [
    "##exercise01"
   ]
  },
  {
   "cell_type": "code",
   "execution_count": null,
   "metadata": {},
   "outputs": [],
   "source": [
    "'[+]?\\b\\d+' #66%"
   ]
  },
  {
   "cell_type": "code",
   "execution_count": 4,
   "metadata": {},
   "outputs": [],
   "source": [
    "import re \n",
    "def integers_in_brackets(s):\n",
    "    L = []\n",
    "    L = re.findall(r'[+-]\\b\\d+', s)\n",
    "    L = list(map(int, L))\n",
    "    return L"
   ]
  },
  {
   "cell_type": "code",
   "execution_count": 126,
   "metadata": {},
   "outputs": [],
   "source": [
    "def integers_in_brackets(s):\n",
    "    aux = []\n",
    "    for l in re.findall(r'\\[\\s*[+-]?\\b\\d+\\b\\s*\\]',s):\n",
    "        for x in re.findall(r'[+-]?\\b\\d+\\b',l):\n",
    "            aux.append(int(x))\n",
    "    return aux"
   ]
  },
  {
   "cell_type": "code",
   "execution_count": 127,
   "metadata": {},
   "outputs": [
    {
     "output_type": "execute_result",
     "data": {
      "text/plain": [
       "[12, -43, 12]"
      ]
     },
     "metadata": {},
     "execution_count": 127
    }
   ],
   "source": [
    "integers_in_brackets(\"  afd [asd] [12 ] [a34]  [ -43 ]tt [+12]xxx\")\n",
    "#[12, -43, 12]"
   ]
  },
  {
   "cell_type": "code",
   "execution_count": 129,
   "metadata": {},
   "outputs": [
    {
     "output_type": "execute_result",
     "data": {
      "text/plain": [
       "[47, 12]"
      ]
     },
     "metadata": {},
     "execution_count": 129
    }
   ],
   "source": [
    "integers_in_brackets(\"afd [128+] [47 ] [a34]  [ +-43 ]tt [+12]xxx!\")\n",
    "# [47, 12]"
   ]
  },
  {
   "cell_type": "code",
   "execution_count": 128,
   "metadata": {},
   "outputs": [
    {
     "output_type": "execute_result",
     "data": {
      "text/plain": [
       "['afd', '128', '47', 'a34', '43', 'tt', '12', 'xxx']"
      ]
     },
     "metadata": {},
     "execution_count": 128
    }
   ],
   "source": [
    "s = \"afd [128+] [47 ] [a34]  [ +-43 ]tt [+12]xxx!\"\n",
    "re.findall(r\"\\b\\w+\",s)"
   ]
  },
  {
   "cell_type": "code",
   "execution_count": null,
   "metadata": {},
   "outputs": [],
   "source": [
    "##exercise 02"
   ]
  },
  {
   "cell_type": "code",
   "execution_count": 74,
   "metadata": {},
   "outputs": [],
   "source": [
    "def file_listing(filename):\n",
    "    text = open(filename, mode='r')\n",
    "    L = []\n",
    "    for i in text:\n",
    "        line = text.readline()\n",
    "        line = re.findall(r'\\b\\S+', line)\n",
    "        #line = re.search(r'.{30}\\s+(\\d+)\\s(\\S+)\\s(..)\\s(\\d+):(\\d+)\\s(.*)', text)\n",
    "        line = tuple(line)\n",
    "        L.append(line)\n",
    "        #for line in re.finditer(L, text)\n",
    "    return L"
   ]
  },
  {
   "cell_type": "code",
   "execution_count": 102,
   "metadata": {},
   "outputs": [],
   "source": [
    "def file_listing(filename):\n",
    "    tulos = []\n",
    "    with open(filename, \"r\") as f:\n",
    "        for x in range(47):\n",
    "            tmp = []\n",
    "            line = f.readline()\n",
    "            mo = re.search(r'.{30}\\s+(\\d+)\\s(\\S+)\\s(..)\\s(\\d+):(\\d+)\\s(.*)', line)\n",
    "            for i in range(1, 7):\n",
    "                try:\n",
    "                    tmp.append(int(mo.group(i)))\n",
    "                except ValueError:\n",
    "                    tmp.append(mo.group(i))\n",
    "                tupla = tuple(tmp)\n",
    "            tulos.append(tupla)\n",
    "    return tulos"
   ]
  },
  {
   "cell_type": "code",
   "execution_count": 22,
   "metadata": {},
   "outputs": [
    {
     "output_type": "execute_result",
     "data": {
      "text/plain": [
       "[(2356, 'Dec', 11, 11, 50, 'add_colab_link.py'),\n",
       " (164519, 'Dec', 28, 17, 59, 'basics.ipynb'),\n",
       " (164477, 'Nov', 5, 19, 21, 'basics.ipynb.orig'),\n",
       " (115587, 'Dec', 11, 11, 50, 'bayes.ipynb'),\n",
       " (4096, 'Nov', 29, 13, 7, '_build'),\n",
       " (198820, 'Dec', 11, 11, 50, 'clustering.ipynb'),\n",
       " (6647, 'Dec', 11, 12, 20, 'conf.py'),\n",
       " (41828, 'Nov', 28, 13, 26, 'example_figure2.png'),\n",
       " (125079, 'Nov', 28, 13, 26, 'example_figure2.xcf'),\n",
       " (24139, 'Nov', 28, 12, 3, 'example_figure.png'),\n",
       " (650, 'Nov', 28, 12, 3, 'example_figure.py'),\n",
       " (25399, 'Nov', 2, 21, 25, 'exception_hierarchy.pdf'),\n",
       " (43632, 'Nov', 2, 22, 5, 'exception_hierarchy.png'),\n",
       " (24366, 'Nov', 2, 21, 26, 'exception_hierarchy.svg'),\n",
       " (72095, 'Oct', 3, 17, 36, 'extra.ipynb'),\n",
       " (1207075, 'Nov', 28, 16, 2, 'face.png'),\n",
       " (897, 'Nov', 12, 10, 59, 'generate_contents.py'),\n",
       " (4096, 'Dec', 27, 13, 55, '.git'),\n",
       " (19, 'Dec', 10, 10, 24, '.gitignore'),\n",
       " (890349, 'Dec', 11, 11, 50, 'image_processing.ipynb'),\n",
       " (689, 'Dec', 10, 10, 28, 'index.rst'),\n",
       " (5254, 'Nov', 3, 18, 46, 'inheritance_hierarchy.pdf'),\n",
       " (7271, 'Nov', 3, 18, 46, 'inheritance_hierarchy.svg'),\n",
       " (4091, 'Dec', 11, 11, 50, 'instructions.ipynb'),\n",
       " (4096, 'Nov', 30, 14, 13, '.ipynb_checkpoints'),\n",
       " (54011, 'Dec', 11, 11, 50, 'linear_regression.ipynb'),\n",
       " (620, 'Nov', 1, 11, 44, 'Makefile'),\n",
       " (52191, 'Dec', 11, 11, 50, 'matplotlib.ipynb'),\n",
       " (1920, 'Nov', 30, 11, 37, 'notes.ipynb'),\n",
       " (82564, 'Dec', 11, 11, 50, 'numpy.ipynb'),\n",
       " (10201, 'Nov', 3, 16, 36, 'package.pdf'),\n",
       " (5742, 'Nov', 3, 16, 37, 'package.svg'),\n",
       " (913641, 'Nov', 26, 10, 58, 'painting.png'),\n",
       " (348531, 'Dec', 28, 13, 40, 'pandas.ipynb'),\n",
       " (100697, 'Dec', 11, 11, 50, 'pca.ipynb'),\n",
       " (32451, 'Oct', 5, 19, 21, 'Python-basic-elements.ipynb'),\n",
       " (82, 'Nov', 13, 12, 55, 'requirements.txt'),\n",
       " (81, 'Nov', 13, 12, 44, 'requirements.txt.old'),\n",
       " (2836, 'Nov', 12, 10, 58, 'sisallys.ipynb'),\n",
       " (128194, 'Nov', 23, 12, 58, 'testing.ipynb'),\n",
       " (691, 'Nov', 29, 16, 27, '.travis.yml'),\n",
       " (973, 'Oct', 31, 14, 1, 'typing1.fig'),\n",
       " (3747, 'Oct', 31, 14, 1, 'typing1.svg'),\n",
       " (1093, 'Oct', 31, 14, 1, 'typing2.fig'),\n",
       " (4053, 'Oct', 31, 14, 2, 'typing2.svg'),\n",
       " (12220, 'Oct', 31, 14, 7, 'typing.svg'),\n",
       " (766, 'Oct', 25, 12, 10, 'versions.py')]"
      ]
     },
     "metadata": {},
     "execution_count": 22
    }
   ],
   "source": [
    "tulos = []\n",
    "with open('listing.txt', \"r\") as f:\n",
    "    for x in range(47):\n",
    "        tmp = []\n",
    "        line = f.readline()\n",
    "        mo = re.search(r'.{30}\\s+(\\d+)\\s(\\S+)\\s(..)\\s(\\d+):(\\d+)\\s(.*)', line)\n",
    "        for i in range(1, 7):\n",
    "            try:\n",
    "                tmp.append(int(mo.group(i)))\n",
    "            except ValueError:\n",
    "                tmp.append(mo.group(i))\n",
    "            tupla = tuple(tmp)\n",
    "        tulos.append(tupla)\n",
    "tulos"
   ]
  },
  {
   "cell_type": "code",
   "execution_count": 103,
   "metadata": {},
   "outputs": [
    {
     "output_type": "execute_result",
     "data": {
      "text/plain": [
       "[(2356, 'Dec', 11, 11, 50, 'add_colab_link.py'),\n",
       " (164519, 'Dec', 28, 17, 59, 'basics.ipynb'),\n",
       " (164477, 'Nov', 5, 19, 21, 'basics.ipynb.orig'),\n",
       " (115587, 'Dec', 11, 11, 50, 'bayes.ipynb'),\n",
       " (4096, 'Nov', 29, 13, 7, '_build'),\n",
       " (198820, 'Dec', 11, 11, 50, 'clustering.ipynb'),\n",
       " (6647, 'Dec', 11, 12, 20, 'conf.py'),\n",
       " (41828, 'Nov', 28, 13, 26, 'example_figure2.png'),\n",
       " (125079, 'Nov', 28, 13, 26, 'example_figure2.xcf'),\n",
       " (24139, 'Nov', 28, 12, 3, 'example_figure.png'),\n",
       " (650, 'Nov', 28, 12, 3, 'example_figure.py'),\n",
       " (25399, 'Nov', 2, 21, 25, 'exception_hierarchy.pdf'),\n",
       " (43632, 'Nov', 2, 22, 5, 'exception_hierarchy.png'),\n",
       " (24366, 'Nov', 2, 21, 26, 'exception_hierarchy.svg'),\n",
       " (72095, 'Oct', 3, 17, 36, 'extra.ipynb'),\n",
       " (1207075, 'Nov', 28, 16, 2, 'face.png'),\n",
       " (897, 'Nov', 12, 10, 59, 'generate_contents.py'),\n",
       " (4096, 'Dec', 27, 13, 55, '.git'),\n",
       " (19, 'Dec', 10, 10, 24, '.gitignore'),\n",
       " (890349, 'Dec', 11, 11, 50, 'image_processing.ipynb'),\n",
       " (689, 'Dec', 10, 10, 28, 'index.rst'),\n",
       " (5254, 'Nov', 3, 18, 46, 'inheritance_hierarchy.pdf'),\n",
       " (7271, 'Nov', 3, 18, 46, 'inheritance_hierarchy.svg'),\n",
       " (4091, 'Dec', 11, 11, 50, 'instructions.ipynb'),\n",
       " (4096, 'Nov', 30, 14, 13, '.ipynb_checkpoints'),\n",
       " (54011, 'Dec', 11, 11, 50, 'linear_regression.ipynb'),\n",
       " (620, 'Nov', 1, 11, 44, 'Makefile'),\n",
       " (52191, 'Dec', 11, 11, 50, 'matplotlib.ipynb'),\n",
       " (1920, 'Nov', 30, 11, 37, 'notes.ipynb'),\n",
       " (82564, 'Dec', 11, 11, 50, 'numpy.ipynb'),\n",
       " (10201, 'Nov', 3, 16, 36, 'package.pdf'),\n",
       " (5742, 'Nov', 3, 16, 37, 'package.svg'),\n",
       " (913641, 'Nov', 26, 10, 58, 'painting.png'),\n",
       " (348531, 'Dec', 28, 13, 40, 'pandas.ipynb'),\n",
       " (100697, 'Dec', 11, 11, 50, 'pca.ipynb'),\n",
       " (32451, 'Oct', 5, 19, 21, 'Python-basic-elements.ipynb'),\n",
       " (82, 'Nov', 13, 12, 55, 'requirements.txt'),\n",
       " (81, 'Nov', 13, 12, 44, 'requirements.txt.old'),\n",
       " (2836, 'Nov', 12, 10, 58, 'sisallys.ipynb'),\n",
       " (128194, 'Nov', 23, 12, 58, 'testing.ipynb'),\n",
       " (691, 'Nov', 29, 16, 27, '.travis.yml'),\n",
       " (973, 'Oct', 31, 14, 1, 'typing1.fig'),\n",
       " (3747, 'Oct', 31, 14, 1, 'typing1.svg'),\n",
       " (1093, 'Oct', 31, 14, 1, 'typing2.fig'),\n",
       " (4053, 'Oct', 31, 14, 2, 'typing2.svg'),\n",
       " (12220, 'Oct', 31, 14, 7, 'typing.svg'),\n",
       " (766, 'Oct', 25, 12, 10, 'versions.py')]"
      ]
     },
     "metadata": {},
     "execution_count": 103
    }
   ],
   "source": [
    "file_listing('listing.txt')\n",
    "#(25339, \"Nov\", 2, 21, 25, \"exception_hierarchy.pdf\")"
   ]
  },
  {
   "cell_type": "code",
   "execution_count": null,
   "metadata": {},
   "outputs": [],
   "source": [
    "#exercise03"
   ]
  },
  {
   "cell_type": "code",
   "execution_count": 103,
   "metadata": {},
   "outputs": [],
   "source": [
    "def red_green_blue(filename=\"src/rgb.txt\"):\n",
    "    tulos = []\n",
    "    with open(filename, \"r\") as f:\n",
    "        next(f) # skipataan eka turha rivi\n",
    "        for x in range(754):\n",
    "            try:\n",
    "                string = f.readline()\n",
    "                mo = re.search(r'(\\d+)\\s+(\\d+)\\s+(\\d+)\\s+(.*)', string)\n",
    "                teksti = mo.group(0)\n",
    "                osien_lista = teksti.split(sep=None)\n",
    "                if len(osien_lista) > 4:\n",
    "                    osien_lista[3] = osien_lista[3] + \" \" + osien_lista[4]\n",
    "                tulosstring = (\"\\t\".join(osien_lista[0:3]))\n",
    "                tulosstring = tulosstring + \"\\t\" + osien_lista[3]\n",
    "                tulos.append(tulosstring)\n",
    "            except Exception as err:\n",
    "                    pass\n",
    "    return tulos"
   ]
  },
  {
   "cell_type": "code",
   "execution_count": 105,
   "metadata": {},
   "outputs": [],
   "source": [
    "#red_green_blue('rgb.txt')"
   ]
  },
  {
   "cell_type": "code",
   "execution_count": null,
   "metadata": {},
   "outputs": [],
   "source": [
    "##exercise04"
   ]
  },
  {
   "cell_type": "code",
   "execution_count": 61,
   "metadata": {},
   "outputs": [],
   "source": [
    "##NO TOCAR  \n",
    "def word_frequencies(filename):\n",
    "    with open(filename, \"r\") as f:\n",
    "        string = f.readline()\n",
    "        strSplit = string.split(\" \")\n",
    "        L = string.split(\" \")\n",
    "        Lbuena = []\n",
    "        for item in L:\n",
    "            Lbuena.append(item)\n",
    "            dictOfWords = dict.fromkeys(Lbuena , len(item))\n",
    "    return dictOfWords"
   ]
  },
  {
   "cell_type": "code",
   "execution_count": 5,
   "metadata": {},
   "outputs": [],
   "source": [
    "def word_frequencies(filename):\n",
    "    # Creating empty result and final lists.\n",
    "    result = []\n",
    "    final = []\n",
    "    d = {}\n",
    "    # Reading the file.\n",
    "    with open(filename, \"r\") as f:\n",
    "        # Splitting the lines into words.\n",
    "        for line in f:\n",
    "            for word in line.split():\n",
    "                wordtemp = word.strip(\"\"\"!\"#$%&'()*,-./:;?@[]_\"\"\")#.lower()\n",
    "                result.append(wordtemp)\n",
    "        # Puts words and their count into dict.\n",
    "        for word in result:\n",
    "            if word not in final:\n",
    "                final.append(word)\n",
    "        for x in final:\n",
    "            d[x] = result.count(x)\n",
    "    return d"
   ]
  },
  {
   "cell_type": "code",
   "execution_count": 6,
   "metadata": {},
   "outputs": [],
   "source": [
    "#pruebis\n",
    "def word_frequencies(filename):\n",
    "    # Creating empty result and final lists.\n",
    "    result = []\n",
    "    final = []\n",
    "    d = {}\n",
    "    # Reading the file.\n",
    "    with open(filename, \"r\") as f:\n",
    "        # Splitting the lines into words.\n",
    "        for line in f:\n",
    "            for word in line.split():\n",
    "                wordtemp = word.strip(\"\"\"!\"#$%&'()*,-./:;?@[]_\"\"\")#.lower()\n",
    "                result.append(wordtemp)\n",
    "        # Puts words and their count into dict.\n",
    "        for word in result:\n",
    "            if word not in final:\n",
    "                final.append(word)\n",
    "        for x in final:\n",
    "            d[x] = len(x)\n",
    "    return d"
   ]
  },
  {
   "cell_type": "code",
   "execution_count": 9,
   "metadata": {},
   "outputs": [],
   "source": [
    "#word_frequencies('alice.txt')"
   ]
  },
  {
   "cell_type": "code",
   "execution_count": 7,
   "metadata": {},
   "outputs": [],
   "source": [
    "result = []\n",
    "final = []\n",
    "d = {}\n",
    "# Reading the file.\n",
    "with open('alice.txt', \"r\") as f:\n",
    "    # Splitting the lines into words.\n",
    "    for line in f:\n",
    "        for word in line.split():\n",
    "            wordtemp = word.strip(\"\"\"!\"#$%&'()*,-./:;?@[]_\"\"\")#.lower()\n",
    "            result.append(wordtemp)\n",
    "    # Puts words and their count into dict.\n",
    "    for word in result:\n",
    "        if word not in final:\n",
    "            final.append(word)\n",
    "    for x in final:\n",
    "        d[x] = result.count(x)\n",
    "#d"
   ]
  },
  {
   "cell_type": "code",
   "execution_count": 1,
   "metadata": {},
   "outputs": [],
   "source": [
    "##exercise05"
   ]
  },
  {
   "cell_type": "code",
   "execution_count": 37,
   "metadata": {},
   "outputs": [],
   "source": [
    "def summary(filename):\n",
    "    L=[]\n",
    "    #reading the file\n",
    "    with open(filename, \"r\") as f:\n",
    "        L = []\n",
    "        for line in f:\n",
    "            try:\n",
    "                n = float(line)\n",
    "                L.append(n)\n",
    "            except:\n",
    "                pass\n",
    "        Sum = sum(L)\n",
    "        Average = statistics.mean(L)\n",
    "        Stddev = statistics.stdev(L)\n",
    "    return print(\"Sum:\", Sum, \"Average:\", Average, \"Stddev:\", Stddev)"
   ]
  },
  {
   "cell_type": "code",
   "execution_count": 34,
   "metadata": {},
   "outputs": [
    {
     "output_type": "stream",
     "name": "stdout",
     "text": [
      "Sum: 51.4 Average: 10.28 Stddev: 8.90460554993875\n"
     ]
    }
   ],
   "source": [
    "import statistics\n",
    "\n",
    "with open('example.txt', \"r\") as f:\n",
    "    sample = []\n",
    "    for line in f:\n",
    "        try:\n",
    "            n = float(line)\n",
    "            sample.append(n)\n",
    "        except:\n",
    "            pass\n",
    "    Sum = sum(sample)\n",
    "    Average = statistics.mean(sample)\n",
    "    Stddev = statistics.stdev(sample)\n",
    "print(\"Sum:\", Sum, \"Average:\", Average, \"Stddev:\", Stddev)"
   ]
  },
  {
   "cell_type": "code",
   "execution_count": 38,
   "metadata": {},
   "outputs": [
    {
     "output_type": "stream",
     "name": "stdout",
     "text": [
      "Sum: 5446.2 Average: 1815.4 Stddev: 3124.2940450604196\n"
     ]
    }
   ],
   "source": [
    "summary('example2.txt')"
   ]
  },
  {
   "cell_type": "code",
   "execution_count": 1,
   "metadata": {},
   "outputs": [],
   "source": [
    "##example06"
   ]
  },
  {
   "cell_type": "code",
   "execution_count": 159,
   "metadata": {},
   "outputs": [],
   "source": [
    "def file_count(filename):\n",
    "    words_ = []\n",
    "    words = []\n",
    "    char = 0\n",
    "    with open(filename, \"r\") as f:\n",
    "        lines = f.readlines()\n",
    "        for line in lines:\n",
    "            words_ += line.split()\n",
    "            words += line\n",
    "        for word in words:\n",
    "            char += len(word)\n",
    "    return (len(lines), len(words_), char)\n",
    "    #return (lines, words, characters)"
   ]
  },
  {
   "cell_type": "code",
   "execution_count": 160,
   "metadata": {},
   "outputs": [
    {
     "output_type": "execute_result",
     "data": {
      "text/plain": [
       "(8, 105, 647)"
      ]
     },
     "metadata": {},
     "execution_count": 160
    }
   ],
   "source": [
    "file_count('test.txt')"
   ]
  },
  {
   "cell_type": "code",
   "execution_count": 81,
   "metadata": {},
   "outputs": [
    {
     "output_type": "execute_result",
     "data": {
      "text/plain": [
       "8"
      ]
     },
     "metadata": {},
     "execution_count": 81
    }
   ],
   "source": [
    "wordList = []\n",
    "final = []\n",
    "Llines = []\n",
    "d = {}\n",
    "with open('test.txt', \"r\") as f:\n",
    "    ##number of lines\n",
    "    for line in f:\n",
    "        Llines.append(line)\n",
    "    lines = len(Llines)\n",
    "lines"
   ]
  },
  {
   "cell_type": "code",
   "execution_count": 129,
   "metadata": {},
   "outputs": [
    {
     "output_type": "execute_result",
     "data": {
      "text/plain": [
       "105"
      ]
     },
     "metadata": {},
     "execution_count": 129
    }
   ],
   "source": [
    "Lbuena = []\n",
    "with open('test.txt', \"r\") as f:\n",
    "    for line in f:\n",
    "        for word in line.split():\n",
    "            Lbuena.append(word)\n",
    "        words = len(Lbuena)\n",
    "words"
   ]
  },
  {
   "cell_type": "code",
   "execution_count": 133,
   "metadata": {},
   "outputs": [
    {
     "output_type": "execute_result",
     "data": {
      "text/plain": [
       "647"
      ]
     },
     "metadata": {},
     "execution_count": 133
    }
   ],
   "source": [
    "Lchar = []\n",
    "with open('test.txt', \"r\") as f:\n",
    "    for line in f:\n",
    "        for word in line:\n",
    "            for char in word:\n",
    "                Lchar.append(char)\n",
    "    characters = len(Lchar)\n",
    "characters"
   ]
  },
  {
   "cell_type": "code",
   "execution_count": 1,
   "metadata": {},
   "outputs": [],
   "source": [
    "##example07"
   ]
  },
  {
   "cell_type": "code",
   "execution_count": 6,
   "metadata": {},
   "outputs": [],
   "source": [
    "def file_extensions(filename):\n",
    "    l = []\n",
    "    d = {}\n",
    "    with open(filename, \"r\") as f:\n",
    "        lines = f.readlines()\n",
    "    for line in lines:\n",
    "        line = line.strip()\n",
    "        if \".\" in line:\n",
    "            two = line.rsplit(\".\", 1)\n",
    "            end = two[1]\n",
    "            if end in d:\n",
    "                d[end].append(line)\n",
    "            else:\n",
    "                d[end]=[line]\n",
    "        else:\n",
    "            l.append(line)\n",
    "    return (l,d)"
   ]
  },
  {
   "cell_type": "code",
   "execution_count": 7,
   "metadata": {},
   "outputs": [
    {
     "output_type": "execute_result",
     "data": {
      "text/plain": [
       "(['test'],\n",
       " {'txt': ['file1.txt', 'file2.txt'],\n",
       "  'pdf': ['mydocument.pdf'],\n",
       "  'gz': ['archive.tar.gz']})"
      ]
     },
     "metadata": {},
     "execution_count": 7
    }
   ],
   "source": [
    "file_extensions('filenames.txt')"
   ]
  },
  {
   "cell_type": "code",
   "execution_count": 5,
   "metadata": {},
   "outputs": [
    {
     "output_type": "execute_result",
     "data": {
      "text/plain": [
       "(['test'],\n",
       " {'txt': ['file1.txt', 'file2.txt'],\n",
       "  'pdf': ['mydocument.pdf'],\n",
       "  'gz': ['archive.tar.gz']})"
      ]
     },
     "metadata": {},
     "execution_count": 5
    }
   ],
   "source": [
    "l = []\n",
    "file_extension = []\n",
    "files = []\n",
    "d = {}\n",
    "with open('filenames.txt', \"r\") as f:\n",
    "    lines = f.readlines()\n",
    "for line in lines:\n",
    "    line = line.strip()\n",
    "    if \".\" in line:\n",
    "        two = line.rsplit(\".\", 1)\n",
    "        end = two[1]\n",
    "        if end in d:\n",
    "            d[end].append(line)\n",
    "        else:\n",
    "            d[end]=[line]\n",
    "    else:\n",
    "        l.append(line)\n",
    "(l, d)"
   ]
  },
  {
   "cell_type": "code",
   "execution_count": null,
   "metadata": {},
   "outputs": [],
   "source": [
    "##erxercise 08"
   ]
  },
  {
   "cell_type": "code",
   "execution_count": 30,
   "metadata": {},
   "outputs": [],
   "source": [
    "class Prepend(object):\n",
    "    # Add the methods of the class here\n",
    "    def __init__(self, char):\n",
    "        self.char = char\n",
    "    #create the write function\n",
    "    def write(cls, char):\n",
    "        return cls(char)"
   ]
  },
  {
   "cell_type": "code",
   "execution_count": 39,
   "metadata": {},
   "outputs": [],
   "source": [
    "class Prepend(object):\n",
    "    # Add the methods of the class here\n",
    "    def __init__(self, char):\n",
    "        self.start = char\n",
    "    #create the write function\n",
    "    def write(self, s):\n",
    "        return print(self.start + s)"
   ]
  },
  {
   "cell_type": "code",
   "execution_count": 40,
   "metadata": {},
   "outputs": [
    {
     "output_type": "stream",
     "name": "stdout",
     "text": [
      "+++ \n+++ Hello\n"
     ]
    }
   ],
   "source": [
    "p = Prepend(\"+++ \")\n",
    "print(p.start)\n",
    "p.write(\"Hello\")\n",
    "#+++ Hello"
   ]
  },
  {
   "cell_type": "code",
   "execution_count": 11,
   "metadata": {},
   "outputs": [
    {
     "output_type": "stream",
     "name": "stdout",
     "text": [
      "21\n25\nTrue\n"
     ]
    }
   ],
   "source": [
    "from datetime import date\n",
    "   \n",
    "class Person:\n",
    "    def __init__(self, name, age):\n",
    "        self.name = name\n",
    "        self.age = age\n",
    "       \n",
    "    # a class method to create a Person object by birth year.\n",
    "    @classmethod\n",
    "    def fromBirthYear(cls, name, year):\n",
    "        return cls(name, date.today().year - year)\n",
    "       \n",
    "    # a static method to check if a Person is adult or not.\n",
    "    @staticmethod\n",
    "    def isAdult(age):\n",
    "        return age > 18\n",
    "   \n",
    "person1 = Person('mayank', 21)\n",
    "person2 = Person.fromBirthYear('mayank', 1996)\n",
    "   \n",
    "print (person1.age)\n",
    "print (person2.age)\n",
    "   \n",
    "# print the result\n",
    "print (Person.isAdult(22))"
   ]
  },
  {
   "cell_type": "code",
   "execution_count": 31,
   "metadata": {},
   "outputs": [],
   "source": [
    "class MyClass:\n",
    "    \"\"\"A simple example class\"\"\"\n",
    "    i = 12345\n",
    "\n",
    "    def f(self):\n",
    "        return 'hello world'"
   ]
  },
  {
   "cell_type": "code",
   "execution_count": 35,
   "metadata": {},
   "outputs": [
    {
     "output_type": "error",
     "ename": "TypeError",
     "evalue": "MyClass() takes no arguments",
     "traceback": [
      "\u001b[1;31m---------------------------------------------------------------------------\u001b[0m",
      "\u001b[1;31mTypeError\u001b[0m                                 Traceback (most recent call last)",
      "\u001b[1;32m<ipython-input-35-832c92a342ff>\u001b[0m in \u001b[0;36m<module>\u001b[1;34m\u001b[0m\n\u001b[1;32m----> 1\u001b[1;33m \u001b[0mx\u001b[0m \u001b[1;33m=\u001b[0m \u001b[0mMyClass\u001b[0m\u001b[1;33m(\u001b[0m\u001b[1;36m1\u001b[0m\u001b[1;33m)\u001b[0m\u001b[1;33m\u001b[0m\u001b[1;33m\u001b[0m\u001b[0m\n\u001b[0m\u001b[0;32m      2\u001b[0m \u001b[0mx\u001b[0m\u001b[1;33m\u001b[0m\u001b[1;33m\u001b[0m\u001b[0m\n",
      "\u001b[1;31mTypeError\u001b[0m: MyClass() takes no arguments"
     ]
    }
   ],
   "source": [
    "x = MyClass(1)\n",
    "x"
   ]
  }
 ]
}